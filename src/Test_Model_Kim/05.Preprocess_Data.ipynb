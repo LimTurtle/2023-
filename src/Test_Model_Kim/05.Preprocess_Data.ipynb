{
 "cells": [
  {
   "cell_type": "markdown",
   "id": "561407f9",
   "metadata": {},
   "source": [
    "## 사용하는 패키지들"
   ]
  },
  {
   "cell_type": "code",
   "execution_count": 43,
   "id": "238d1c0b",
   "metadata": {},
   "outputs": [],
   "source": [
    "import json\n",
    "import pandas as pd\n",
    "\n",
    "import re"
   ]
  },
  {
   "cell_type": "markdown",
   "id": "3a6c9ea1",
   "metadata": {},
   "source": [
    "## 데이터 로드"
   ]
  },
  {
   "cell_type": "code",
   "execution_count": 25,
   "id": "1a46d65a",
   "metadata": {},
   "outputs": [],
   "source": [
    "with open('../Datasets/train.json', 'r', encoding='utf-8') as f:\n",
    "    json_data = json.load(f)"
   ]
  },
  {
   "cell_type": "code",
   "execution_count": 26,
   "id": "f6ddd610",
   "metadata": {},
   "outputs": [
    {
     "data": {
      "text/html": [
       "<div>\n",
       "<style scoped>\n",
       "    .dataframe tbody tr th:only-of-type {\n",
       "        vertical-align: middle;\n",
       "    }\n",
       "\n",
       "    .dataframe tbody tr th {\n",
       "        vertical-align: top;\n",
       "    }\n",
       "\n",
       "    .dataframe thead th {\n",
       "        text-align: right;\n",
       "    }\n",
       "</style>\n",
       "<table border=\"1\" class=\"dataframe\">\n",
       "  <thead>\n",
       "    <tr style=\"text-align: right;\">\n",
       "      <th></th>\n",
       "      <th>tags</th>\n",
       "      <th>songs</th>\n",
       "    </tr>\n",
       "  </thead>\n",
       "  <tbody>\n",
       "    <tr>\n",
       "      <th>0</th>\n",
       "      <td>[락]</td>\n",
       "      <td>[525514, 129701, 383374, 562083, 297861, 13954...</td>\n",
       "    </tr>\n",
       "    <tr>\n",
       "      <th>1</th>\n",
       "      <td>[추억, 회상]</td>\n",
       "      <td>[432406, 675945, 497066, 120377, 389529, 24427...</td>\n",
       "    </tr>\n",
       "    <tr>\n",
       "      <th>2</th>\n",
       "      <td>[까페, 잔잔한]</td>\n",
       "      <td>[83116, 276692, 166267, 186301, 354465, 256598...</td>\n",
       "    </tr>\n",
       "    <tr>\n",
       "      <th>3</th>\n",
       "      <td>[연말, 눈오는날, 캐럴, 분위기, 따듯한, 크리스마스캐럴, 겨울노래, 크리스마스,...</td>\n",
       "      <td>[394031, 195524, 540149, 287984, 440773, 10033...</td>\n",
       "    </tr>\n",
       "    <tr>\n",
       "      <th>4</th>\n",
       "      <td>[댄스]</td>\n",
       "      <td>[159327, 553610, 5130, 645103, 294435, 100657,...</td>\n",
       "    </tr>\n",
       "  </tbody>\n",
       "</table>\n",
       "</div>"
      ],
      "text/plain": [
       "                                                tags  \\\n",
       "0                                                [락]   \n",
       "1                                           [추억, 회상]   \n",
       "2                                          [까페, 잔잔한]   \n",
       "3  [연말, 눈오는날, 캐럴, 분위기, 따듯한, 크리스마스캐럴, 겨울노래, 크리스마스,...   \n",
       "4                                               [댄스]   \n",
       "\n",
       "                                               songs  \n",
       "0  [525514, 129701, 383374, 562083, 297861, 13954...  \n",
       "1  [432406, 675945, 497066, 120377, 389529, 24427...  \n",
       "2  [83116, 276692, 166267, 186301, 354465, 256598...  \n",
       "3  [394031, 195524, 540149, 287984, 440773, 10033...  \n",
       "4  [159327, 553610, 5130, 645103, 294435, 100657,...  "
      ]
     },
     "execution_count": 26,
     "metadata": {},
     "output_type": "execute_result"
    }
   ],
   "source": [
    "train_data = pd.DataFrame(json_data)\n",
    "train_data = train_data.drop(['id', 'plylst_title', 'updt_date', 'like_cnt'], axis=1)\n",
    "train_data.head()"
   ]
  },
  {
   "cell_type": "code",
   "execution_count": 27,
   "id": "89a94c2e",
   "metadata": {},
   "outputs": [],
   "source": [
    "with open('../Datasets/song_meta.json', 'r', encoding='utf-8') as f:\n",
    "    json_data = json.load(f)"
   ]
  },
  {
   "cell_type": "code",
   "execution_count": 28,
   "id": "5c6006f0",
   "metadata": {},
   "outputs": [
    {
     "data": {
      "text/html": [
       "<div>\n",
       "<style scoped>\n",
       "    .dataframe tbody tr th:only-of-type {\n",
       "        vertical-align: middle;\n",
       "    }\n",
       "\n",
       "    .dataframe tbody tr th {\n",
       "        vertical-align: top;\n",
       "    }\n",
       "\n",
       "    .dataframe thead th {\n",
       "        text-align: right;\n",
       "    }\n",
       "</style>\n",
       "<table border=\"1\" class=\"dataframe\">\n",
       "  <thead>\n",
       "    <tr style=\"text-align: right;\">\n",
       "      <th></th>\n",
       "      <th>song_gn_dtl_gnr_basket</th>\n",
       "      <th>issue_date</th>\n",
       "      <th>album_id</th>\n",
       "      <th>artist_id_basket</th>\n",
       "      <th>song_name</th>\n",
       "      <th>artist_name_basket</th>\n",
       "      <th>id</th>\n",
       "    </tr>\n",
       "  </thead>\n",
       "  <tbody>\n",
       "    <tr>\n",
       "      <th>0</th>\n",
       "      <td>[GN0901]</td>\n",
       "      <td>20140512</td>\n",
       "      <td>2255639</td>\n",
       "      <td>[2727]</td>\n",
       "      <td>Feelings</td>\n",
       "      <td>[Various Artists]</td>\n",
       "      <td>0</td>\n",
       "    </tr>\n",
       "    <tr>\n",
       "      <th>1</th>\n",
       "      <td>[GN1601, GN1606]</td>\n",
       "      <td>20080421</td>\n",
       "      <td>376431</td>\n",
       "      <td>[29966]</td>\n",
       "      <td>Bach : Partita No. 4 In D Major, BWV 828 - II....</td>\n",
       "      <td>[Murray Perahia]</td>\n",
       "      <td>1</td>\n",
       "    </tr>\n",
       "    <tr>\n",
       "      <th>2</th>\n",
       "      <td>[GN0901]</td>\n",
       "      <td>20180518</td>\n",
       "      <td>4698747</td>\n",
       "      <td>[3361]</td>\n",
       "      <td>Solsbury Hill (Remastered 2002)</td>\n",
       "      <td>[Peter Gabriel]</td>\n",
       "      <td>2</td>\n",
       "    </tr>\n",
       "    <tr>\n",
       "      <th>3</th>\n",
       "      <td>[GN1102, GN1101]</td>\n",
       "      <td>20151016</td>\n",
       "      <td>2644882</td>\n",
       "      <td>[838543]</td>\n",
       "      <td>Feeling Right (Everything Is Nice) (Feat. Popc...</td>\n",
       "      <td>[Matoma]</td>\n",
       "      <td>3</td>\n",
       "    </tr>\n",
       "    <tr>\n",
       "      <th>4</th>\n",
       "      <td>[GN1802, GN1801]</td>\n",
       "      <td>20110824</td>\n",
       "      <td>2008470</td>\n",
       "      <td>[560160]</td>\n",
       "      <td>그남자 그여자</td>\n",
       "      <td>[Jude Law]</td>\n",
       "      <td>4</td>\n",
       "    </tr>\n",
       "  </tbody>\n",
       "</table>\n",
       "</div>"
      ],
      "text/plain": [
       "  song_gn_dtl_gnr_basket issue_date  album_id artist_id_basket  \\\n",
       "0               [GN0901]   20140512   2255639           [2727]   \n",
       "1       [GN1601, GN1606]   20080421    376431          [29966]   \n",
       "2               [GN0901]   20180518   4698747           [3361]   \n",
       "3       [GN1102, GN1101]   20151016   2644882         [838543]   \n",
       "4       [GN1802, GN1801]   20110824   2008470         [560160]   \n",
       "\n",
       "                                           song_name artist_name_basket  id  \n",
       "0                                           Feelings  [Various Artists]   0  \n",
       "1  Bach : Partita No. 4 In D Major, BWV 828 - II....   [Murray Perahia]   1  \n",
       "2                    Solsbury Hill (Remastered 2002)    [Peter Gabriel]   2  \n",
       "3  Feeling Right (Everything Is Nice) (Feat. Popc...           [Matoma]   3  \n",
       "4                                            그남자 그여자         [Jude Law]   4  "
      ]
     },
     "execution_count": 28,
     "metadata": {},
     "output_type": "execute_result"
    }
   ],
   "source": [
    "song_data = pd.DataFrame(json_data)\n",
    "song_data = song_data.drop(['album_name', 'song_gn_gnr_basket'], axis=1)\n",
    "song_data.head()"
   ]
  },
  {
   "cell_type": "markdown",
   "id": "d79aa30d",
   "metadata": {},
   "source": [
    "## 데이터 열 이름 변경"
   ]
  },
  {
   "cell_type": "code",
   "execution_count": 29,
   "id": "fece54e6",
   "metadata": {},
   "outputs": [
    {
     "data": {
      "text/html": [
       "<div>\n",
       "<style scoped>\n",
       "    .dataframe tbody tr th:only-of-type {\n",
       "        vertical-align: middle;\n",
       "    }\n",
       "\n",
       "    .dataframe tbody tr th {\n",
       "        vertical-align: top;\n",
       "    }\n",
       "\n",
       "    .dataframe thead th {\n",
       "        text-align: right;\n",
       "    }\n",
       "</style>\n",
       "<table border=\"1\" class=\"dataframe\">\n",
       "  <thead>\n",
       "    <tr style=\"text-align: right;\">\n",
       "      <th></th>\n",
       "      <th>tags</th>\n",
       "      <th>song_id</th>\n",
       "    </tr>\n",
       "  </thead>\n",
       "  <tbody>\n",
       "    <tr>\n",
       "      <th>0</th>\n",
       "      <td>[락]</td>\n",
       "      <td>[525514, 129701, 383374, 562083, 297861, 13954...</td>\n",
       "    </tr>\n",
       "    <tr>\n",
       "      <th>1</th>\n",
       "      <td>[추억, 회상]</td>\n",
       "      <td>[432406, 675945, 497066, 120377, 389529, 24427...</td>\n",
       "    </tr>\n",
       "    <tr>\n",
       "      <th>2</th>\n",
       "      <td>[까페, 잔잔한]</td>\n",
       "      <td>[83116, 276692, 166267, 186301, 354465, 256598...</td>\n",
       "    </tr>\n",
       "    <tr>\n",
       "      <th>3</th>\n",
       "      <td>[연말, 눈오는날, 캐럴, 분위기, 따듯한, 크리스마스캐럴, 겨울노래, 크리스마스,...</td>\n",
       "      <td>[394031, 195524, 540149, 287984, 440773, 10033...</td>\n",
       "    </tr>\n",
       "    <tr>\n",
       "      <th>4</th>\n",
       "      <td>[댄스]</td>\n",
       "      <td>[159327, 553610, 5130, 645103, 294435, 100657,...</td>\n",
       "    </tr>\n",
       "  </tbody>\n",
       "</table>\n",
       "</div>"
      ],
      "text/plain": [
       "                                                tags  \\\n",
       "0                                                [락]   \n",
       "1                                           [추억, 회상]   \n",
       "2                                          [까페, 잔잔한]   \n",
       "3  [연말, 눈오는날, 캐럴, 분위기, 따듯한, 크리스마스캐럴, 겨울노래, 크리스마스,...   \n",
       "4                                               [댄스]   \n",
       "\n",
       "                                             song_id  \n",
       "0  [525514, 129701, 383374, 562083, 297861, 13954...  \n",
       "1  [432406, 675945, 497066, 120377, 389529, 24427...  \n",
       "2  [83116, 276692, 166267, 186301, 354465, 256598...  \n",
       "3  [394031, 195524, 540149, 287984, 440773, 10033...  \n",
       "4  [159327, 553610, 5130, 645103, 294435, 100657,...  "
      ]
     },
     "execution_count": 29,
     "metadata": {},
     "output_type": "execute_result"
    }
   ],
   "source": [
    "train_data.rename(columns={'songs':'song_id'}, inplace=True)\n",
    "train_data.head()"
   ]
  },
  {
   "cell_type": "code",
   "execution_count": 30,
   "id": "b3506f0b",
   "metadata": {},
   "outputs": [
    {
     "data": {
      "text/html": [
       "<div>\n",
       "<style scoped>\n",
       "    .dataframe tbody tr th:only-of-type {\n",
       "        vertical-align: middle;\n",
       "    }\n",
       "\n",
       "    .dataframe tbody tr th {\n",
       "        vertical-align: top;\n",
       "    }\n",
       "\n",
       "    .dataframe thead th {\n",
       "        text-align: right;\n",
       "    }\n",
       "</style>\n",
       "<table border=\"1\" class=\"dataframe\">\n",
       "  <thead>\n",
       "    <tr style=\"text-align: right;\">\n",
       "      <th></th>\n",
       "      <th>gnr</th>\n",
       "      <th>issue_date</th>\n",
       "      <th>album_id</th>\n",
       "      <th>artist_id_basket</th>\n",
       "      <th>song_name</th>\n",
       "      <th>artist_name_basket</th>\n",
       "      <th>song_id</th>\n",
       "    </tr>\n",
       "  </thead>\n",
       "  <tbody>\n",
       "    <tr>\n",
       "      <th>0</th>\n",
       "      <td>[GN0901]</td>\n",
       "      <td>20140512</td>\n",
       "      <td>2255639</td>\n",
       "      <td>[2727]</td>\n",
       "      <td>Feelings</td>\n",
       "      <td>[Various Artists]</td>\n",
       "      <td>0</td>\n",
       "    </tr>\n",
       "    <tr>\n",
       "      <th>1</th>\n",
       "      <td>[GN1601, GN1606]</td>\n",
       "      <td>20080421</td>\n",
       "      <td>376431</td>\n",
       "      <td>[29966]</td>\n",
       "      <td>Bach : Partita No. 4 In D Major, BWV 828 - II....</td>\n",
       "      <td>[Murray Perahia]</td>\n",
       "      <td>1</td>\n",
       "    </tr>\n",
       "    <tr>\n",
       "      <th>2</th>\n",
       "      <td>[GN0901]</td>\n",
       "      <td>20180518</td>\n",
       "      <td>4698747</td>\n",
       "      <td>[3361]</td>\n",
       "      <td>Solsbury Hill (Remastered 2002)</td>\n",
       "      <td>[Peter Gabriel]</td>\n",
       "      <td>2</td>\n",
       "    </tr>\n",
       "    <tr>\n",
       "      <th>3</th>\n",
       "      <td>[GN1102, GN1101]</td>\n",
       "      <td>20151016</td>\n",
       "      <td>2644882</td>\n",
       "      <td>[838543]</td>\n",
       "      <td>Feeling Right (Everything Is Nice) (Feat. Popc...</td>\n",
       "      <td>[Matoma]</td>\n",
       "      <td>3</td>\n",
       "    </tr>\n",
       "    <tr>\n",
       "      <th>4</th>\n",
       "      <td>[GN1802, GN1801]</td>\n",
       "      <td>20110824</td>\n",
       "      <td>2008470</td>\n",
       "      <td>[560160]</td>\n",
       "      <td>그남자 그여자</td>\n",
       "      <td>[Jude Law]</td>\n",
       "      <td>4</td>\n",
       "    </tr>\n",
       "  </tbody>\n",
       "</table>\n",
       "</div>"
      ],
      "text/plain": [
       "                gnr  issue_date  album_id artist_id_basket  \\\n",
       "0          [GN0901]    20140512   2255639           [2727]   \n",
       "1  [GN1601, GN1606]    20080421    376431          [29966]   \n",
       "2          [GN0901]    20180518   4698747           [3361]   \n",
       "3  [GN1102, GN1101]    20151016   2644882         [838543]   \n",
       "4  [GN1802, GN1801]    20110824   2008470         [560160]   \n",
       "\n",
       "                                           song_name artist_name_basket  \\\n",
       "0                                           Feelings  [Various Artists]   \n",
       "1  Bach : Partita No. 4 In D Major, BWV 828 - II....   [Murray Perahia]   \n",
       "2                    Solsbury Hill (Remastered 2002)    [Peter Gabriel]   \n",
       "3  Feeling Right (Everything Is Nice) (Feat. Popc...           [Matoma]   \n",
       "4                                            그남자 그여자         [Jude Law]   \n",
       "\n",
       "   song_id  \n",
       "0        0  \n",
       "1        1  \n",
       "2        2  \n",
       "3        3  \n",
       "4        4  "
      ]
     },
     "execution_count": 30,
     "metadata": {},
     "output_type": "execute_result"
    }
   ],
   "source": [
    "song_data.rename(columns={'id':'song_id', 'song_gn_dtl_gnr_basket': 'gnr'}, inplace=True)\n",
    "song_data = song_data.astype({'issue_date':'int64'})\n",
    "song_data.head()"
   ]
  },
  {
   "cell_type": "markdown",
   "id": "9347b552",
   "metadata": {},
   "source": [
    "## 데이터 추출\n",
    "\n",
    "- 500개의 플레이리스트 추출"
   ]
  },
  {
   "cell_type": "code",
   "execution_count": 31,
   "id": "149b84cd",
   "metadata": {},
   "outputs": [],
   "source": [
    "train_data_sample = train_data[:500]"
   ]
  },
  {
   "cell_type": "markdown",
   "id": "5a738b74",
   "metadata": {},
   "source": [
    "## 데이터 병합"
   ]
  },
  {
   "cell_type": "code",
   "execution_count": 32,
   "id": "35d6b90f",
   "metadata": {},
   "outputs": [
    {
     "data": {
      "text/html": [
       "<div>\n",
       "<style scoped>\n",
       "    .dataframe tbody tr th:only-of-type {\n",
       "        vertical-align: middle;\n",
       "    }\n",
       "\n",
       "    .dataframe tbody tr th {\n",
       "        vertical-align: top;\n",
       "    }\n",
       "\n",
       "    .dataframe thead th {\n",
       "        text-align: right;\n",
       "    }\n",
       "</style>\n",
       "<table border=\"1\" class=\"dataframe\">\n",
       "  <thead>\n",
       "    <tr style=\"text-align: right;\">\n",
       "      <th></th>\n",
       "      <th>tags</th>\n",
       "      <th>song_id</th>\n",
       "    </tr>\n",
       "  </thead>\n",
       "  <tbody>\n",
       "    <tr>\n",
       "      <th>0</th>\n",
       "      <td>[락]</td>\n",
       "      <td>525514</td>\n",
       "    </tr>\n",
       "    <tr>\n",
       "      <th>1</th>\n",
       "      <td>[락]</td>\n",
       "      <td>129701</td>\n",
       "    </tr>\n",
       "    <tr>\n",
       "      <th>2</th>\n",
       "      <td>[락]</td>\n",
       "      <td>383374</td>\n",
       "    </tr>\n",
       "    <tr>\n",
       "      <th>3</th>\n",
       "      <td>[락]</td>\n",
       "      <td>562083</td>\n",
       "    </tr>\n",
       "    <tr>\n",
       "      <th>4</th>\n",
       "      <td>[락]</td>\n",
       "      <td>297861</td>\n",
       "    </tr>\n",
       "  </tbody>\n",
       "</table>\n",
       "</div>"
      ],
      "text/plain": [
       "  tags song_id\n",
       "0  [락]  525514\n",
       "1  [락]  129701\n",
       "2  [락]  383374\n",
       "3  [락]  562083\n",
       "4  [락]  297861"
      ]
     },
     "execution_count": 32,
     "metadata": {},
     "output_type": "execute_result"
    }
   ],
   "source": [
    "train_data_explode = train_data_sample.explode('song_id', ignore_index=True)\n",
    "train_data_explode.head()"
   ]
  },
  {
   "cell_type": "code",
   "execution_count": 33,
   "id": "90f23343",
   "metadata": {},
   "outputs": [
    {
     "name": "stdout",
     "output_type": "stream",
     "text": [
      "{'스트레스해소', '걸그룹댄스', '댄스', 'kpop', '여자아이돌'}\n"
     ]
    }
   ],
   "source": [
    "train_dict = dict()\n",
    "\n",
    "for i in range(len(train_data_explode)):\n",
    "    song = train_data_explode['song_id'][i]\n",
    "    tag = train_data_explode['tags'][i]\n",
    "    \n",
    "    if song in train_dict:\n",
    "        for j in tag:\n",
    "            train_dict[song].add(j)\n",
    "    \n",
    "    else:\n",
    "        train_dict[song] = set(tag)\n",
    "        \n",
    "print(train_dict[157435])"
   ]
  },
  {
   "cell_type": "code",
   "execution_count": 34,
   "id": "265ae890",
   "metadata": {},
   "outputs": [
    {
     "data": {
      "text/plain": [
       "(16674, 2)"
      ]
     },
     "execution_count": 34,
     "metadata": {},
     "output_type": "execute_result"
    }
   ],
   "source": [
    "train_data_explode.drop_duplicates(subset='song_id', keep='first',inplace=True)\n",
    "train_data_explode.shape"
   ]
  },
  {
   "cell_type": "code",
   "execution_count": 35,
   "id": "ae020a86",
   "metadata": {},
   "outputs": [
    {
     "data": {
      "text/html": [
       "<div>\n",
       "<style scoped>\n",
       "    .dataframe tbody tr th:only-of-type {\n",
       "        vertical-align: middle;\n",
       "    }\n",
       "\n",
       "    .dataframe tbody tr th {\n",
       "        vertical-align: top;\n",
       "    }\n",
       "\n",
       "    .dataframe thead th {\n",
       "        text-align: right;\n",
       "    }\n",
       "</style>\n",
       "<table border=\"1\" class=\"dataframe\">\n",
       "  <thead>\n",
       "    <tr style=\"text-align: right;\">\n",
       "      <th></th>\n",
       "      <th>tags</th>\n",
       "      <th>song_id</th>\n",
       "    </tr>\n",
       "  </thead>\n",
       "  <tbody>\n",
       "    <tr>\n",
       "      <th>0</th>\n",
       "      <td>[락]</td>\n",
       "      <td>525514</td>\n",
       "    </tr>\n",
       "    <tr>\n",
       "      <th>1</th>\n",
       "      <td>[락]</td>\n",
       "      <td>129701</td>\n",
       "    </tr>\n",
       "    <tr>\n",
       "      <th>2</th>\n",
       "      <td>[락]</td>\n",
       "      <td>383374</td>\n",
       "    </tr>\n",
       "    <tr>\n",
       "      <th>3</th>\n",
       "      <td>[락]</td>\n",
       "      <td>562083</td>\n",
       "    </tr>\n",
       "    <tr>\n",
       "      <th>4</th>\n",
       "      <td>[락]</td>\n",
       "      <td>297861</td>\n",
       "    </tr>\n",
       "  </tbody>\n",
       "</table>\n",
       "</div>"
      ],
      "text/plain": [
       "  tags song_id\n",
       "0  [락]  525514\n",
       "1  [락]  129701\n",
       "2  [락]  383374\n",
       "3  [락]  562083\n",
       "4  [락]  297861"
      ]
     },
     "execution_count": 35,
     "metadata": {},
     "output_type": "execute_result"
    }
   ],
   "source": [
    "for i in range(len(train_data_explode)):\n",
    "    song = train_data_explode['song_id'].iloc[i]\n",
    "    \n",
    "    train_data_explode['tags'].iloc[i] = list(train_dict[song])\n",
    "\n",
    "train_data_explode.head()"
   ]
  },
  {
   "cell_type": "code",
   "execution_count": 36,
   "id": "2ff9da1f",
   "metadata": {},
   "outputs": [
    {
     "data": {
      "text/html": [
       "<div>\n",
       "<style scoped>\n",
       "    .dataframe tbody tr th:only-of-type {\n",
       "        vertical-align: middle;\n",
       "    }\n",
       "\n",
       "    .dataframe tbody tr th {\n",
       "        vertical-align: top;\n",
       "    }\n",
       "\n",
       "    .dataframe thead th {\n",
       "        text-align: right;\n",
       "    }\n",
       "</style>\n",
       "<table border=\"1\" class=\"dataframe\">\n",
       "  <thead>\n",
       "    <tr style=\"text-align: right;\">\n",
       "      <th></th>\n",
       "      <th>tags</th>\n",
       "      <th>song_id</th>\n",
       "      <th>gnr</th>\n",
       "      <th>issue_date</th>\n",
       "      <th>album_id</th>\n",
       "      <th>artist_id_basket</th>\n",
       "      <th>song_name</th>\n",
       "      <th>artist_name_basket</th>\n",
       "    </tr>\n",
       "  </thead>\n",
       "  <tbody>\n",
       "    <tr>\n",
       "      <th>0</th>\n",
       "      <td>[락]</td>\n",
       "      <td>525514</td>\n",
       "      <td>[GN1402, GN1401]</td>\n",
       "      <td>20130506</td>\n",
       "      <td>2200223</td>\n",
       "      <td>[734201]</td>\n",
       "      <td>Hey Little Girl</td>\n",
       "      <td>[The Sol]</td>\n",
       "    </tr>\n",
       "    <tr>\n",
       "      <th>1</th>\n",
       "      <td>[락]</td>\n",
       "      <td>129701</td>\n",
       "      <td>[GN0901, GN0902, GN1001]</td>\n",
       "      <td>20130917</td>\n",
       "      <td>2201802</td>\n",
       "      <td>[536907]</td>\n",
       "      <td>Octagon</td>\n",
       "      <td>[Royal Bangs]</td>\n",
       "    </tr>\n",
       "    <tr>\n",
       "      <th>2</th>\n",
       "      <td>[락]</td>\n",
       "      <td>383374</td>\n",
       "      <td>[GN1012, GN1005, GN1001]</td>\n",
       "      <td>19911021</td>\n",
       "      <td>2216938</td>\n",
       "      <td>[166978]</td>\n",
       "      <td>The Road</td>\n",
       "      <td>[Honeymoon Suite]</td>\n",
       "    </tr>\n",
       "    <tr>\n",
       "      <th>3</th>\n",
       "      <td>[락]</td>\n",
       "      <td>562083</td>\n",
       "      <td>[GN1013, GN0901, GN0902, GN1001]</td>\n",
       "      <td>20000919</td>\n",
       "      <td>43227</td>\n",
       "      <td>[19035]</td>\n",
       "      <td>Honeymoon</td>\n",
       "      <td>[Phoenix]</td>\n",
       "    </tr>\n",
       "    <tr>\n",
       "      <th>4</th>\n",
       "      <td>[락]</td>\n",
       "      <td>297861</td>\n",
       "      <td>[GN1013, GN0901, GN0902, GN1001]</td>\n",
       "      <td>20050306</td>\n",
       "      <td>303657</td>\n",
       "      <td>[170117]</td>\n",
       "      <td>High</td>\n",
       "      <td>[James Blunt]</td>\n",
       "    </tr>\n",
       "  </tbody>\n",
       "</table>\n",
       "</div>"
      ],
      "text/plain": [
       "  tags  song_id                               gnr  issue_date  album_id  \\\n",
       "0  [락]   525514                  [GN1402, GN1401]    20130506   2200223   \n",
       "1  [락]   129701          [GN0901, GN0902, GN1001]    20130917   2201802   \n",
       "2  [락]   383374          [GN1012, GN1005, GN1001]    19911021   2216938   \n",
       "3  [락]   562083  [GN1013, GN0901, GN0902, GN1001]    20000919     43227   \n",
       "4  [락]   297861  [GN1013, GN0901, GN0902, GN1001]    20050306    303657   \n",
       "\n",
       "  artist_id_basket        song_name artist_name_basket  \n",
       "0         [734201]  Hey Little Girl          [The Sol]  \n",
       "1         [536907]          Octagon      [Royal Bangs]  \n",
       "2         [166978]         The Road  [Honeymoon Suite]  \n",
       "3          [19035]        Honeymoon          [Phoenix]  \n",
       "4         [170117]             High      [James Blunt]  "
      ]
     },
     "execution_count": 36,
     "metadata": {},
     "output_type": "execute_result"
    }
   ],
   "source": [
    "song_tag_appended = pd.merge(train_data_explode, song_data)\n",
    "song_tag_appended = song_tag_appended.astype({'song_id':'int64'})\n",
    "song_tag_appended.head()"
   ]
  },
  {
   "cell_type": "code",
   "execution_count": 37,
   "id": "01b9164e",
   "metadata": {},
   "outputs": [
    {
     "name": "stdout",
     "output_type": "stream",
     "text": [
      "<class 'pandas.core.frame.DataFrame'>\n",
      "Int64Index: 16674 entries, 0 to 16673\n",
      "Data columns (total 8 columns):\n",
      " #   Column              Non-Null Count  Dtype \n",
      "---  ------              --------------  ----- \n",
      " 0   tags                16674 non-null  object\n",
      " 1   song_id             16674 non-null  int64 \n",
      " 2   gnr                 16674 non-null  object\n",
      " 3   issue_date          16674 non-null  int64 \n",
      " 4   album_id            16674 non-null  int64 \n",
      " 5   artist_id_basket    16674 non-null  object\n",
      " 6   song_name           16674 non-null  object\n",
      " 7   artist_name_basket  16674 non-null  object\n",
      "dtypes: int64(3), object(5)\n",
      "memory usage: 1.1+ MB\n"
     ]
    }
   ],
   "source": [
    "song_tag_appended.info()"
   ]
  },
  {
   "cell_type": "markdown",
   "id": "9f811fd7",
   "metadata": {},
   "source": [
    "## 데이터 전처리"
   ]
  },
  {
   "cell_type": "markdown",
   "id": "e9cd6f11",
   "metadata": {},
   "source": [
    "## 태그 세트 생성"
   ]
  },
  {
   "cell_type": "code",
   "execution_count": 60,
   "id": "40a0134f",
   "metadata": {},
   "outputs": [],
   "source": [
    "def make_tag_set(data):\n",
    "    tag_set = set()\n",
    "\n",
    "    for i in range(len(data)):\n",
    "        tag = data['tags'][i]\n",
    "    \n",
    "        for j in tag:\n",
    "            tag_set.add(j)\n",
    "\n",
    "    return tag_set"
   ]
  },
  {
   "cell_type": "code",
   "execution_count": 61,
   "id": "97325059",
   "metadata": {},
   "outputs": [
    {
     "name": "stdout",
     "output_type": "stream",
     "text": [
      "{'클래식', '프로필', '조용하게', '대만', '여유', '음악추천', '따듯한', 'Pop', 'BlackMusic', '맥주', '달달하게', '연주음악', '연휴', '기분전환', '외로운', '퇴근길', '락', '아련하게', '슬픔의', '생기', '성탄절', '새해', '상쾌한', '야경', '떼껄룩', '벚꽃', 'Billboard', '정서발달', '쇼핑', '록발라드', '존윌리엄스', '태교음악', '일상', 'electronica', '모닝콜', '아이돌명곡', 'OST', '추천', '눈', '집중', '월드', '7월', '뷰티샵', '연주곡', '국힙', 'Jazz', '릴랙스요가클래식', '호호클럽', '후회', '인디뮤직', '심포닉메탈', '차막힘', '수록곡', '스포츠', '뉴에이지', 'HIPSTER', '동요', '주간일렉트로니카', '겨울노래', '록', '날려버려', '셧업앤댄스', '커피', '신진래퍼', '고백', '펑키', '휴가', '가을여행', '띵곡들', '커플', '이별', '국내힙합', '분위기', 'jazzymood', '여름방학', '사이다', '몽글', '신나는곡', '달달한', '2000', '시험기간집중할때', '나만알고싶은', '기쁠때', '북카페', '부모님', '키즈동화', '댄스뮤직', '섹시', '중국', '메탈', '추억의', '혼자만의겨울', '헬스장에서운동할때듣는노래', '백색소음', '트로피컬하우스', '라운지', '우울한', '비', '쓸쓸', '칠뮤직', '스티비원더', '자장가', '유럽여행', '그냥좋은노래', '여자가수', '9살', '8', '잔잔한', '듣고', '공부하며듣는', '고민', '부부뮤지션', '드림팝', '시간순', '나만알고싶은음악', 'EDMFloor', '노래추천', '국외', 'Chill', '가을감성', '겨울왕국', '나만들을꺼', '쓸쓸함', '아미를위한', '해외알앤비소울', '콘서트', '아티스트', '타이틀곡', '레깅스', '고음병', '티타임', '인싸', '새벽감성', '외사랑', '다이어트', '자연', 'Takealook', '캐럴', '오케이션', '뮤직카로마', '끝', '하늘', '연말', 'EarlySoul', '헤이즈', '팝송', '밴드', '따뜻한', '감성발라드', '또는', '스타일', '우아한', 'dance', '카페에서듣기좋은', '몽환적인', '가을동화', '샤우팅', '바다', '햇살', 'playlist3', '스트레스해소', '그루브', '봄나물', '중국노래', '슬픔', '기타', '추천노래', '좋아요좀눌러줘요', '크리스마스송', '회상', '인생곡들만', '외로움을', '행복', '감성', '자기전', '추위', '김윤', '느껴져', '텐션업', '이일우', '옥콩', '칠링', 'Lofi', '펍노래', '고속도로', '멜로디', '이루마', '짝사랑', 'MTV', '댄스본능', '박지섭', '미술관', '아미라면', '외힙', '드라이브', '감성적인', '트렌디하게', '잔잔함', '취향저격', '아드레날린', '헬스', '니엘', '편안한명상을위한', '힐링피아노연주곡', '공기정화', '명상', '떄껄룩', '비와이', '노래방', '재즈', '야외에서듣는피아노연주곡', '소란', '아무거나', '팝', '페스티벌음악', '이소라', '저녁', '무드', '매장음악', 'M에센셜', '기분좋은', '새벽에', '짧고얕은음악지식속엄선', 'Popular', '1960', '귀호강', '컴백전쟁', '런쥔', '빅룸', 'WJSN', 'funk', '토요명화', '귀르가즘', '건조하고', '2016멜로디포레스트캠프', 'before1970', '신곡', '포크', '필라테스', 'SEX', '샤워', '진원', '도입부', '방학', '추억', '광동', '해변', '남녀', '파워워킹', '봄노래', '피곤', '비트좋은', '까페', 'uspop', '가즈아', '비트', '테크노', '겨울', 'BTS', '펍', '영화OST', '헬스장에서', '잠', '잠들기전', '보이그룹', '상쾌', '명곡', '피쳐링', '혼자있을때', '거짓말', '아침', '발라드', 'Lizzo', '천상지희', '추억회상', '봄', '밴드음악', '질리지않는', '카페음악', '카카오톡', 'Metal', '세련된', 'Instruments', '햇살좋은날', '힘들때', '아쉬움', '좋은곡들', '인기', '그루비', '한강', '도입', '7살', '노동요', '잔잔한팝송', '아픈', '낭만', '일렉', '매장', '너에게', '강렬한사운드', '프로그레시브하우스', '소울', '목록', '뉴홉클', '독서', '패셔너블', 'dope', '졸음운전', '팝음악', '포근함', '다나', '슬픈노래', '위로', '시원한', '그리움', '하드록메탈', '소원', '드라이브할때신나는노래', '집', '발랄한', '지칠때', '크리스마스캐럴', '휴일', '국내', '힐링노래', 'EDM', '이달의인디포크', '멜로', '광고음악', '옛날노래', '주간', '일렉트로닉', '보컬재즈', '빌보드', '스웩', '잠결', '치명', '오승훈', '느낌있는', '6월', '힙한', '신나는노래', 'GZ', '초원', '이거', '인생', '편안한', '빌보드Hot50', '중독성', '2017', '재즈추천', '독주곡', '달달함', '업데이트중', '1990년대', 'GD', '라디오', '호불호없는', '리스트', '그냥', '다중음격', '그루브한', '올드팝', '청량한', '사무실', '맥주한잔', '나만들을거얌', '컨트리', '랩', '옥타곤', '히트곡', '외국힙합노래', '방해금지', '이별노래', '러브송', '성대', '혼자', '여름', 'Sadko', '인디', 'Greenday', '출근길', '신인', '숨겨진', '감미로운', '운동할때듣는음악', '린아', '우울할때', '8살', '소망', '쉼표', '들어봤을', '이슬', '힘든날', '상쾌해지는', '들었으면', '신나는', '트렌디', '광고', '방탄소년단', '엠넷', '띵곡', '힘내', 'HipHop', '시원한노래', '인생곡', '썸머', '기리보이', '좋은노래', '유튜브', 'mood', '감성힙합', '답답함', '전지음악', '힙합엘이', '인디추천', '달달', '알앤비소울', '연인', '둠칫둠칫', '조용한', '셋리스트', '퀸덤', 'RnB', '어린이클래식', '책읽을때', '더포앳', '목장', '비_오는날', '멈출수없는', 'ballads', 'JPOP', '풀내음', '배경음악', '꿀', '로큰롤명예의전당', '중국음악', '잔잔하게', '겨울밤', '올드송', '언플러그드', '홍콩', '90년대', '최고의노래', '달콤', '독서를돕는음악', '상큼한', '랩소디인블루', '트렌드', '디제이', '밝은', '발레음악', '2010', '카페', '내가좋아하는음악트랙', '목요일', '로큰롤', '썸', '바람', '믿고듣는', '영국', '외국펍', '추천곡', '사랑', '댄스음악', 'Matisse', '명품발라드', '스트레스', '공부', '선데이', '가을이별', '나들이', '숨은명곡', '크리스마스', '90년대발라드', '최신', '미러볼뮤직', '에센셜', '스래시메탈', '썸타는중', '연말파티', '힐링', '모두가_흥얼흥얼', '장마', '미세먼지', '올림픽', 'Coldplay', '헬스장', '쇼미더머니', '외로움', '삶', '한번쯤', 'YOUNG', '가을', '80년대', '걸그룹댄스', '피쉬슈즈', 'kpop', '기분업', '내적댄스폭발', 'ksks', '뉴욕도', '폐막식', '엑소', '프로필음악', '100번', 'unplugged', '분위기좋은', '댄스', '꿈', '안녕', '내한', '여름밤에듣기좋은음악', '스테파니', '크리스마스노래', '센치한날', 'Rock', '다짐', '수면', 'Maroon', '드럼', '힙합', '휴식', '트로트', '빅밴드', '봄바람', 'CCM', '많은곡수', '8월', '달', 'ASMR', '눈오는날', 'Chillout', '연애', '아무생각없이', '류이치사카모토', '우울', '알앤비', '데이트', '피아노', '여자아이돌', '명예의전당', '에너지', '가족', '속도감', '몽환', '왜이리딱딱한것이냐', '빠른비트', '힙스터', '라이징스타', '나만알기아까운노래', '히피', '김영후', '꾸준히업뎃', '퀸덤원곡모음', '댄스신에', '자연주의', '운동할때듣는', '불면증', '클럽노래', '어버이날', '가요', '발레', '여름밤', '가을밤', '내취향', '파티', '댄스곡', '찬송', '비오는날', '어쿠스틱', '팝재즈', '밤에듣기좋은노래', '관악기', '빌로우', '우주소녀', '흥겨운', '인디음악', '재즈힙합', '맥주펍', '격렬함', '일렉트로니카', '월드뮤직', '신맛', '버스', '거슈윈', '일발장전', '남성적인', '나만의Best3', '잔디', '1980년대', '출근', '졸릴때', '김광민', '1990', 'rockisnotdead', '뉴페이스', '민중가요', '빌보드핫차트', '마약', '바이준', '기분', '여행', '스밍', '뺏고싶다', '감각적인', '캐롤', '비_오는_날', '바캉스', '불금', '새벽', '퓨쳐베이스', '영화클래식', '조용한음악', '팝송추천', 'Top100에', '내적댄스', '아메리칸클래식', 'Feat', '이태원', '봄캐롤', 'indie', '몽환한', '저스디스', '5월_4주차', 'Duet', '운동', '퓨전재즈', '슈게이징', '빌보드핫100', '미국클래식', '흐린날', '이브', '듀엣', '관현악', 'bgm', '아이돌', '힙존', '한동윤', '들을거없을때', '흥얼흥얼', '요가', '아련', '펑크락', '힐링테라피요가', '오후', '기리보이의노래는길이보인다', '피트니스', '신날때', 'classic', '공연', '모던', 'Chirstmas', '피톤치드', '뮤지션', '실험', '명작', '카톡', '파란', '쓸쓸한', '이미지는_직접찍은사진', '쇼미', '산책', '더위', 'RNBSOUL', '런닝', '운동할때', '보이스', '일요일', '위대함', '스윙재즈', '유니크', '인디곡', '플레이리스트', '아무노래', '리듬앤블루스', 'COOL', 'futurebass', '아기동요', '스윙', '청량함', '밤', '연애중', '눈물', '노래', '누군가생각날때', '설렘', '연주', '마음을감싸주는', '센치한', 'Summer', '나른한', '시티팝', '클럽음악', '태교클래식', '차막힐때', '생각', '클럽', '잔잔한음악', 'NewHopeClub', '노래모음', '힙합클럽', '2000년대', '현섭', '걸그룹', '조용히', '주말', '싱어송라이터', '자기전에', '여운', 'groove', '환상적인', '음악', 'Elecronica', '힙합갬성', '늦잠', '초록빛', '리드미컬', '젝스키스', '스타일리쉬', '따스한', '중음', '시원', '인디밴드', '남자아이돌', '빗물같은', '한번쯤은'}\n"
     ]
    }
   ],
   "source": [
    "tag_set = make_tag_set(train_data_sample)\n",
    "print(tag_set)"
   ]
  },
  {
   "cell_type": "markdown",
   "id": "045af19b",
   "metadata": {},
   "source": [
    "## 태그 dict 생성 함수"
   ]
  },
  {
   "cell_type": "markdown",
   "id": "0f3ced98",
   "metadata": {},
   "source": [
    "## 영어 대소문자 통일\n",
    "\n",
    "- 소문자로 통일"
   ]
  },
  {
   "cell_type": "code",
   "execution_count": 41,
   "id": "567c9ab7",
   "metadata": {},
   "outputs": [],
   "source": [
    "def make_dict_lower(tag_set):\n",
    "    tag_dict = dict()\n",
    "    \n",
    "    for i in tag_set:\n",
    "        if not i in tag_dict:\n",
    "            tag_dict[i] = i.lower()\n",
    "    \n",
    "    return tag_dict"
   ]
  },
  {
   "cell_type": "code",
   "execution_count": 42,
   "id": "352695f5",
   "metadata": {},
   "outputs": [
    {
     "name": "stdout",
     "output_type": "stream",
     "text": [
      "{'클래식': '클래식', '프로필': '프로필', '조용하게': '조용하게', '대만': '대만', '여유': '여유', '음악추천': '음악추천', '따듯한': '따듯한', 'Pop': 'pop', 'BlackMusic': 'blackmusic', '맥주': '맥주', '달달하게': '달달하게', '연주음악': '연주음악', '연휴': '연휴', '기분전환': '기분전환', '외로운': '외로운', '퇴근길': '퇴근길', '락': '락', '아련하게': '아련하게', '슬픔의': '슬픔의', '생기': '생기', '성탄절': '성탄절', '새해': '새해', '상쾌한': '상쾌한', '야경': '야경', '떼껄룩': '떼껄룩', '벚꽃': '벚꽃', 'Billboard': 'billboard', '정서발달': '정서발달', '쇼핑': '쇼핑', '록발라드': '록발라드', '존윌리엄스': '존윌리엄스', '태교음악': '태교음악', '일상': '일상', 'electronica': 'electronica', '모닝콜': '모닝콜', '아이돌명곡': '아이돌명곡', 'OST': 'ost', '추천': '추천', '눈': '눈', '집중': '집중', '월드': '월드', '7월': '7월', '뷰티샵': '뷰티샵', '연주곡': '연주곡', '국힙': '국힙', 'Jazz': 'jazz', '릴랙스요가클래식': '릴랙스요가클래식', '호호클럽': '호호클럽', '후회': '후회', '인디뮤직': '인디뮤직', '심포닉메탈': '심포닉메탈', '차막힘': '차막힘', '수록곡': '수록곡', '스포츠': '스포츠', '뉴에이지': '뉴에이지', 'HIPSTER': 'hipster', '동요': '동요', '주간일렉트로니카': '주간일렉트로니카', '겨울노래': '겨울노래', '록': '록', '날려버려': '날려버려', '셧업앤댄스': '셧업앤댄스', '커피': '커피', '신진래퍼': '신진래퍼', '고백': '고백', '펑키': '펑키', '휴가': '휴가', '가을여행': '가을여행', '띵곡들': '띵곡들', '커플': '커플', '이별': '이별', '국내힙합': '국내힙합', '분위기': '분위기', 'jazzymood': 'jazzymood', '여름방학': '여름방학', '사이다': '사이다', '몽글': '몽글', '신나는곡': '신나는곡', '달달한': '달달한', '2000': '2000', '시험기간집중할때': '시험기간집중할때', '나만알고싶은': '나만알고싶은', '기쁠때': '기쁠때', '북카페': '북카페', '부모님': '부모님', '키즈동화': '키즈동화', '댄스뮤직': '댄스뮤직', '섹시': '섹시', '중국': '중국', '메탈': '메탈', '추억의': '추억의', '혼자만의겨울': '혼자만의겨울', '헬스장에서운동할때듣는노래': '헬스장에서운동할때듣는노래', '백색소음': '백색소음', '트로피컬하우스': '트로피컬하우스', '라운지': '라운지', '우울한': '우울한', '비': '비', '쓸쓸': '쓸쓸', '칠뮤직': '칠뮤직', '스티비원더': '스티비원더', '자장가': '자장가', '유럽여행': '유럽여행', '그냥좋은노래': '그냥좋은노래', '여자가수': '여자가수', '9살': '9살', '8': '8', '잔잔한': '잔잔한', '듣고': '듣고', '공부하며듣는': '공부하며듣는', '고민': '고민', '부부뮤지션': '부부뮤지션', '드림팝': '드림팝', '시간순': '시간순', '나만알고싶은음악': '나만알고싶은음악', 'EDMFloor': 'edmfloor', '노래추천': '노래추천', '국외': '국외', 'Chill': 'chill', '가을감성': '가을감성', '겨울왕국': '겨울왕국', '나만들을꺼': '나만들을꺼', '쓸쓸함': '쓸쓸함', '아미를위한': '아미를위한', '해외알앤비소울': '해외알앤비소울', '콘서트': '콘서트', '아티스트': '아티스트', '타이틀곡': '타이틀곡', '레깅스': '레깅스', '고음병': '고음병', '티타임': '티타임', '인싸': '인싸', '새벽감성': '새벽감성', '외사랑': '외사랑', '다이어트': '다이어트', '자연': '자연', 'Takealook': 'takealook', '캐럴': '캐럴', '오케이션': '오케이션', '뮤직카로마': '뮤직카로마', '끝': '끝', '하늘': '하늘', '연말': '연말', 'EarlySoul': 'earlysoul', '헤이즈': '헤이즈', '팝송': '팝송', '밴드': '밴드', '따뜻한': '따뜻한', '감성발라드': '감성발라드', '또는': '또는', '스타일': '스타일', '우아한': '우아한', 'dance': 'dance', '카페에서듣기좋은': '카페에서듣기좋은', '몽환적인': '몽환적인', '가을동화': '가을동화', '샤우팅': '샤우팅', '바다': '바다', '햇살': '햇살', 'playlist3': 'playlist3', '스트레스해소': '스트레스해소', '그루브': '그루브', '봄나물': '봄나물', '중국노래': '중국노래', '슬픔': '슬픔', '기타': '기타', '추천노래': '추천노래', '좋아요좀눌러줘요': '좋아요좀눌러줘요', '크리스마스송': '크리스마스송', '회상': '회상', '인생곡들만': '인생곡들만', '외로움을': '외로움을', '행복': '행복', '감성': '감성', '자기전': '자기전', '추위': '추위', '김윤': '김윤', '느껴져': '느껴져', '텐션업': '텐션업', '이일우': '이일우', '옥콩': '옥콩', '칠링': '칠링', 'Lofi': 'lofi', '펍노래': '펍노래', '고속도로': '고속도로', '멜로디': '멜로디', '이루마': '이루마', '짝사랑': '짝사랑', 'MTV': 'mtv', '댄스본능': '댄스본능', '박지섭': '박지섭', '미술관': '미술관', '아미라면': '아미라면', '외힙': '외힙', '드라이브': '드라이브', '감성적인': '감성적인', '트렌디하게': '트렌디하게', '잔잔함': '잔잔함', '취향저격': '취향저격', '아드레날린': '아드레날린', '헬스': '헬스', '니엘': '니엘', '편안한명상을위한': '편안한명상을위한', '힐링피아노연주곡': '힐링피아노연주곡', '공기정화': '공기정화', '명상': '명상', '떄껄룩': '떄껄룩', '비와이': '비와이', '노래방': '노래방', '재즈': '재즈', '야외에서듣는피아노연주곡': '야외에서듣는피아노연주곡', '소란': '소란', '아무거나': '아무거나', '팝': '팝', '페스티벌음악': '페스티벌음악', '이소라': '이소라', '저녁': '저녁', '무드': '무드', '매장음악': '매장음악', 'M에센셜': 'm에센셜', '기분좋은': '기분좋은', '새벽에': '새벽에', '짧고얕은음악지식속엄선': '짧고얕은음악지식속엄선', 'Popular': 'popular', '1960': '1960', '귀호강': '귀호강', '컴백전쟁': '컴백전쟁', '런쥔': '런쥔', '빅룸': '빅룸', 'WJSN': 'wjsn', 'funk': 'funk', '토요명화': '토요명화', '귀르가즘': '귀르가즘', '건조하고': '건조하고', '2016멜로디포레스트캠프': '2016멜로디포레스트캠프', 'before1970': 'before1970', '신곡': '신곡', '포크': '포크', '필라테스': '필라테스', 'SEX': 'sex', '샤워': '샤워', '진원': '진원', '도입부': '도입부', '방학': '방학', '추억': '추억', '광동': '광동', '해변': '해변', '남녀': '남녀', '파워워킹': '파워워킹', '봄노래': '봄노래', '피곤': '피곤', '비트좋은': '비트좋은', '까페': '까페', 'uspop': 'uspop', '가즈아': '가즈아', '비트': '비트', '테크노': '테크노', '겨울': '겨울', 'BTS': 'bts', '펍': '펍', '영화OST': '영화ost', '헬스장에서': '헬스장에서', '잠': '잠', '잠들기전': '잠들기전', '보이그룹': '보이그룹', '상쾌': '상쾌', '명곡': '명곡', '피쳐링': '피쳐링', '혼자있을때': '혼자있을때', '거짓말': '거짓말', '아침': '아침', '발라드': '발라드', 'Lizzo': 'lizzo', '천상지희': '천상지희', '추억회상': '추억회상', '봄': '봄', '밴드음악': '밴드음악', '질리지않는': '질리지않는', '카페음악': '카페음악', '카카오톡': '카카오톡', 'Metal': 'metal', '세련된': '세련된', 'Instruments': 'instruments', '햇살좋은날': '햇살좋은날', '힘들때': '힘들때', '아쉬움': '아쉬움', '좋은곡들': '좋은곡들', '인기': '인기', '그루비': '그루비', '한강': '한강', '도입': '도입', '7살': '7살', '노동요': '노동요', '잔잔한팝송': '잔잔한팝송', '아픈': '아픈', '낭만': '낭만', '일렉': '일렉', '매장': '매장', '너에게': '너에게', '강렬한사운드': '강렬한사운드', '프로그레시브하우스': '프로그레시브하우스', '소울': '소울', '목록': '목록', '뉴홉클': '뉴홉클', '독서': '독서', '패셔너블': '패셔너블', 'dope': 'dope', '졸음운전': '졸음운전', '팝음악': '팝음악', '포근함': '포근함', '다나': '다나', '슬픈노래': '슬픈노래', '위로': '위로', '시원한': '시원한', '그리움': '그리움', '하드록메탈': '하드록메탈', '소원': '소원', '드라이브할때신나는노래': '드라이브할때신나는노래', '집': '집', '발랄한': '발랄한', '지칠때': '지칠때', '크리스마스캐럴': '크리스마스캐럴', '휴일': '휴일', '국내': '국내', '힐링노래': '힐링노래', 'EDM': 'edm', '이달의인디포크': '이달의인디포크', '멜로': '멜로', '광고음악': '광고음악', '옛날노래': '옛날노래', '주간': '주간', '일렉트로닉': '일렉트로닉', '보컬재즈': '보컬재즈', '빌보드': '빌보드', '스웩': '스웩', '잠결': '잠결', '치명': '치명', '오승훈': '오승훈', '느낌있는': '느낌있는', '6월': '6월', '힙한': '힙한', '신나는노래': '신나는노래', 'GZ': 'gz', '초원': '초원', '이거': '이거', '인생': '인생', '편안한': '편안한', '빌보드Hot50': '빌보드hot50', '중독성': '중독성', '2017': '2017', '재즈추천': '재즈추천', '독주곡': '독주곡', '달달함': '달달함', '업데이트중': '업데이트중', '1990년대': '1990년대', 'GD': 'gd', '라디오': '라디오', '호불호없는': '호불호없는', '리스트': '리스트', '그냥': '그냥', '다중음격': '다중음격', '그루브한': '그루브한', '올드팝': '올드팝', '청량한': '청량한', '사무실': '사무실', '맥주한잔': '맥주한잔', '나만들을거얌': '나만들을거얌', '컨트리': '컨트리', '랩': '랩', '옥타곤': '옥타곤', '히트곡': '히트곡', '외국힙합노래': '외국힙합노래', '방해금지': '방해금지', '이별노래': '이별노래', '러브송': '러브송', '성대': '성대', '혼자': '혼자', '여름': '여름', 'Sadko': 'sadko', '인디': '인디', 'Greenday': 'greenday', '출근길': '출근길', '신인': '신인', '숨겨진': '숨겨진', '감미로운': '감미로운', '운동할때듣는음악': '운동할때듣는음악', '린아': '린아', '우울할때': '우울할때', '8살': '8살', '소망': '소망', '쉼표': '쉼표', '들어봤을': '들어봤을', '이슬': '이슬', '힘든날': '힘든날', '상쾌해지는': '상쾌해지는', '들었으면': '들었으면', '신나는': '신나는', '트렌디': '트렌디', '광고': '광고', '방탄소년단': '방탄소년단', '엠넷': '엠넷', '띵곡': '띵곡', '힘내': '힘내', 'HipHop': 'hiphop', '시원한노래': '시원한노래', '인생곡': '인생곡', '썸머': '썸머', '기리보이': '기리보이', '좋은노래': '좋은노래', '유튜브': '유튜브', 'mood': 'mood', '감성힙합': '감성힙합', '답답함': '답답함', '전지음악': '전지음악', '힙합엘이': '힙합엘이', '인디추천': '인디추천', '달달': '달달', '알앤비소울': '알앤비소울', '연인': '연인', '둠칫둠칫': '둠칫둠칫', '조용한': '조용한', '셋리스트': '셋리스트', '퀸덤': '퀸덤', 'RnB': 'rnb', '어린이클래식': '어린이클래식', '책읽을때': '책읽을때', '더포앳': '더포앳', '목장': '목장', '비_오는날': '비_오는날', '멈출수없는': '멈출수없는', 'ballads': 'ballads', 'JPOP': 'jpop', '풀내음': '풀내음', '배경음악': '배경음악', '꿀': '꿀', '로큰롤명예의전당': '로큰롤명예의전당', '중국음악': '중국음악', '잔잔하게': '잔잔하게', '겨울밤': '겨울밤', '올드송': '올드송', '언플러그드': '언플러그드', '홍콩': '홍콩', '90년대': '90년대', '최고의노래': '최고의노래', '달콤': '달콤', '독서를돕는음악': '독서를돕는음악', '상큼한': '상큼한', '랩소디인블루': '랩소디인블루', '트렌드': '트렌드', '디제이': '디제이', '밝은': '밝은', '발레음악': '발레음악', '2010': '2010', '카페': '카페', '내가좋아하는음악트랙': '내가좋아하는음악트랙', '목요일': '목요일', '로큰롤': '로큰롤', '썸': '썸', '바람': '바람', '믿고듣는': '믿고듣는', '영국': '영국', '외국펍': '외국펍', '추천곡': '추천곡', '사랑': '사랑', '댄스음악': '댄스음악', 'Matisse': 'matisse', '명품발라드': '명품발라드', '스트레스': '스트레스', '공부': '공부', '선데이': '선데이', '가을이별': '가을이별', '나들이': '나들이', '숨은명곡': '숨은명곡', '크리스마스': '크리스마스', '90년대발라드': '90년대발라드', '최신': '최신', '미러볼뮤직': '미러볼뮤직', '에센셜': '에센셜', '스래시메탈': '스래시메탈', '썸타는중': '썸타는중', '연말파티': '연말파티', '힐링': '힐링', '모두가_흥얼흥얼': '모두가_흥얼흥얼', '장마': '장마', '미세먼지': '미세먼지', '올림픽': '올림픽', 'Coldplay': 'coldplay', '헬스장': '헬스장', '쇼미더머니': '쇼미더머니', '외로움': '외로움', '삶': '삶', '한번쯤': '한번쯤', 'YOUNG': 'young', '가을': '가을', '80년대': '80년대', '걸그룹댄스': '걸그룹댄스', '피쉬슈즈': '피쉬슈즈', 'kpop': 'kpop', '기분업': '기분업', '내적댄스폭발': '내적댄스폭발', 'ksks': 'ksks', '뉴욕도': '뉴욕도', '폐막식': '폐막식', '엑소': '엑소', '프로필음악': '프로필음악', '100번': '100번', 'unplugged': 'unplugged', '분위기좋은': '분위기좋은', '댄스': '댄스', '꿈': '꿈', '안녕': '안녕', '내한': '내한', '여름밤에듣기좋은음악': '여름밤에듣기좋은음악', '스테파니': '스테파니', '크리스마스노래': '크리스마스노래', '센치한날': '센치한날', 'Rock': 'rock', '다짐': '다짐', '수면': '수면', 'Maroon': 'maroon', '드럼': '드럼', '힙합': '힙합', '휴식': '휴식', '트로트': '트로트', '빅밴드': '빅밴드', '봄바람': '봄바람', 'CCM': 'ccm', '많은곡수': '많은곡수', '8월': '8월', '달': '달', 'ASMR': 'asmr', '눈오는날': '눈오는날', 'Chillout': 'chillout', '연애': '연애', '아무생각없이': '아무생각없이', '류이치사카모토': '류이치사카모토', '우울': '우울', '알앤비': '알앤비', '데이트': '데이트', '피아노': '피아노', '여자아이돌': '여자아이돌', '명예의전당': '명예의전당', '에너지': '에너지', '가족': '가족', '속도감': '속도감', '몽환': '몽환', '왜이리딱딱한것이냐': '왜이리딱딱한것이냐', '빠른비트': '빠른비트', '힙스터': '힙스터', '라이징스타': '라이징스타', '나만알기아까운노래': '나만알기아까운노래', '히피': '히피', '김영후': '김영후', '꾸준히업뎃': '꾸준히업뎃', '퀸덤원곡모음': '퀸덤원곡모음', '댄스신에': '댄스신에', '자연주의': '자연주의', '운동할때듣는': '운동할때듣는', '불면증': '불면증', '클럽노래': '클럽노래', '어버이날': '어버이날', '가요': '가요', '발레': '발레', '여름밤': '여름밤', '가을밤': '가을밤', '내취향': '내취향', '파티': '파티', '댄스곡': '댄스곡', '찬송': '찬송', '비오는날': '비오는날', '어쿠스틱': '어쿠스틱', '팝재즈': '팝재즈', '밤에듣기좋은노래': '밤에듣기좋은노래', '관악기': '관악기', '빌로우': '빌로우', '우주소녀': '우주소녀', '흥겨운': '흥겨운', '인디음악': '인디음악', '재즈힙합': '재즈힙합', '맥주펍': '맥주펍', '격렬함': '격렬함', '일렉트로니카': '일렉트로니카', '월드뮤직': '월드뮤직', '신맛': '신맛', '버스': '버스', '거슈윈': '거슈윈', '일발장전': '일발장전', '남성적인': '남성적인', '나만의Best3': '나만의best3', '잔디': '잔디', '1980년대': '1980년대', '출근': '출근', '졸릴때': '졸릴때', '김광민': '김광민', '1990': '1990', 'rockisnotdead': 'rockisnotdead', '뉴페이스': '뉴페이스', '민중가요': '민중가요', '빌보드핫차트': '빌보드핫차트', '마약': '마약', '바이준': '바이준', '기분': '기분', '여행': '여행', '스밍': '스밍', '뺏고싶다': '뺏고싶다', '감각적인': '감각적인', '캐롤': '캐롤', '비_오는_날': '비_오는_날', '바캉스': '바캉스', '불금': '불금', '새벽': '새벽', '퓨쳐베이스': '퓨쳐베이스', '영화클래식': '영화클래식', '조용한음악': '조용한음악', '팝송추천': '팝송추천', 'Top100에': 'top100에', '내적댄스': '내적댄스', '아메리칸클래식': '아메리칸클래식', 'Feat': 'feat', '이태원': '이태원', '봄캐롤': '봄캐롤', 'indie': 'indie', '몽환한': '몽환한', '저스디스': '저스디스', '5월_4주차': '5월_4주차', 'Duet': 'duet', '운동': '운동', '퓨전재즈': '퓨전재즈', '슈게이징': '슈게이징', '빌보드핫100': '빌보드핫100', '미국클래식': '미국클래식', '흐린날': '흐린날', '이브': '이브', '듀엣': '듀엣', '관현악': '관현악', 'bgm': 'bgm', '아이돌': '아이돌', '힙존': '힙존', '한동윤': '한동윤', '들을거없을때': '들을거없을때', '흥얼흥얼': '흥얼흥얼', '요가': '요가', '아련': '아련', '펑크락': '펑크락', '힐링테라피요가': '힐링테라피요가', '오후': '오후', '기리보이의노래는길이보인다': '기리보이의노래는길이보인다', '피트니스': '피트니스', '신날때': '신날때', 'classic': 'classic', '공연': '공연', '모던': '모던', 'Chirstmas': 'chirstmas', '피톤치드': '피톤치드', '뮤지션': '뮤지션', '실험': '실험', '명작': '명작', '카톡': '카톡', '파란': '파란', '쓸쓸한': '쓸쓸한', '이미지는_직접찍은사진': '이미지는_직접찍은사진', '쇼미': '쇼미', '산책': '산책', '더위': '더위', 'RNBSOUL': 'rnbsoul', '런닝': '런닝', '운동할때': '운동할때', '보이스': '보이스', '일요일': '일요일', '위대함': '위대함', '스윙재즈': '스윙재즈', '유니크': '유니크', '인디곡': '인디곡', '플레이리스트': '플레이리스트', '아무노래': '아무노래', '리듬앤블루스': '리듬앤블루스', 'COOL': 'cool', 'futurebass': 'futurebass', '아기동요': '아기동요', '스윙': '스윙', '청량함': '청량함', '밤': '밤', '연애중': '연애중', '눈물': '눈물', '노래': '노래', '누군가생각날때': '누군가생각날때', '설렘': '설렘', '연주': '연주', '마음을감싸주는': '마음을감싸주는', '센치한': '센치한', 'Summer': 'summer', '나른한': '나른한', '시티팝': '시티팝', '클럽음악': '클럽음악', '태교클래식': '태교클래식', '차막힐때': '차막힐때', '생각': '생각', '클럽': '클럽', '잔잔한음악': '잔잔한음악', 'NewHopeClub': 'newhopeclub', '노래모음': '노래모음', '힙합클럽': '힙합클럽', '2000년대': '2000년대', '현섭': '현섭', '걸그룹': '걸그룹', '조용히': '조용히', '주말': '주말', '싱어송라이터': '싱어송라이터', '자기전에': '자기전에', '여운': '여운', 'groove': 'groove', '환상적인': '환상적인', '음악': '음악', 'Elecronica': 'elecronica', '힙합갬성': '힙합갬성', '늦잠': '늦잠', '초록빛': '초록빛', '리드미컬': '리드미컬', '젝스키스': '젝스키스', '스타일리쉬': '스타일리쉬', '따스한': '따스한', '중음': '중음', '시원': '시원', '인디밴드': '인디밴드', '남자아이돌': '남자아이돌', '빗물같은': '빗물같은', '한번쯤은': '한번쯤은'}\n"
     ]
    }
   ],
   "source": [
    "tag_lower_dict = make_dict_lower(tag_set)\n",
    "print(tag_lower_dict)"
   ]
  },
  {
   "cell_type": "markdown",
   "id": "874a184f",
   "metadata": {},
   "source": [
    "## 특수문자 제거"
   ]
  },
  {
   "cell_type": "code",
   "execution_count": 44,
   "id": "245f8443",
   "metadata": {},
   "outputs": [],
   "source": [
    "def make_dict_special(tag_set):\n",
    "    tag_dict = dict()\n",
    "    \n",
    "    for i in tag_set:\n",
    "        if not i in tag_dict:\n",
    "            # 아래를 제외한 문자는 ''로 대체한다\n",
    "            # \\uAC00-WuD7A3 : 모든 한글 음절\n",
    "            # 0-9 : 숫자\n",
    "            # a-zA-Z : 모든 영어\n",
    "            tag_dict[i] = re.sub(r'[^\\uAC00-\\uD7A30-9a-zA-Z]', '', i)\n",
    "    \n",
    "    return tag_dict"
   ]
  },
  {
   "cell_type": "code",
   "execution_count": 46,
   "id": "3a681dd7",
   "metadata": {},
   "outputs": [
    {
     "name": "stdout",
     "output_type": "stream",
     "text": [
      "{'클래식': '클래식', '프로필': '프로필', '조용하게': '조용하게', '대만': '대만', '여유': '여유', '음악추천': '음악추천', '따듯한': '따듯한', 'Pop': 'Pop', 'BlackMusic': 'BlackMusic', '맥주': '맥주', '달달하게': '달달하게', '연주음악': '연주음악', '연휴': '연휴', '기분전환': '기분전환', '외로운': '외로운', '퇴근길': '퇴근길', '락': '락', '아련하게': '아련하게', '슬픔의': '슬픔의', '생기': '생기', '성탄절': '성탄절', '새해': '새해', '상쾌한': '상쾌한', '야경': '야경', '떼껄룩': '떼껄룩', '벚꽃': '벚꽃', 'Billboard': 'Billboard', '정서발달': '정서발달', '쇼핑': '쇼핑', '록발라드': '록발라드', '존윌리엄스': '존윌리엄스', '태교음악': '태교음악', '일상': '일상', 'electronica': 'electronica', '모닝콜': '모닝콜', '아이돌명곡': '아이돌명곡', 'OST': 'OST', '추천': '추천', '눈': '눈', '집중': '집중', '월드': '월드', '7월': '7월', '뷰티샵': '뷰티샵', '연주곡': '연주곡', '국힙': '국힙', 'Jazz': 'Jazz', '릴랙스요가클래식': '릴랙스요가클래식', '호호클럽': '호호클럽', '후회': '후회', '인디뮤직': '인디뮤직', '심포닉메탈': '심포닉메탈', '차막힘': '차막힘', '수록곡': '수록곡', '스포츠': '스포츠', '뉴에이지': '뉴에이지', 'HIPSTER': 'HIPSTER', '동요': '동요', '주간일렉트로니카': '주간일렉트로니카', '겨울노래': '겨울노래', '록': '록', '날려버려': '날려버려', '셧업앤댄스': '셧업앤댄스', '커피': '커피', '신진래퍼': '신진래퍼', '고백': '고백', '펑키': '펑키', '휴가': '휴가', '가을여행': '가을여행', '띵곡들': '띵곡들', '커플': '커플', '이별': '이별', '국내힙합': '국내힙합', '분위기': '분위기', 'jazzymood': 'jazzymood', '여름방학': '여름방학', '사이다': '사이다', '몽글': '몽글', '신나는곡': '신나는곡', '달달한': '달달한', '2000': '2000', '시험기간집중할때': '시험기간집중할때', '나만알고싶은': '나만알고싶은', '기쁠때': '기쁠때', '북카페': '북카페', '부모님': '부모님', '키즈동화': '키즈동화', '댄스뮤직': '댄스뮤직', '섹시': '섹시', '중국': '중국', '메탈': '메탈', '추억의': '추억의', '혼자만의겨울': '혼자만의겨울', '헬스장에서운동할때듣는노래': '헬스장에서운동할때듣는노래', '백색소음': '백색소음', '트로피컬하우스': '트로피컬하우스', '라운지': '라운지', '우울한': '우울한', '비': '비', '쓸쓸': '쓸쓸', '칠뮤직': '칠뮤직', '스티비원더': '스티비원더', '자장가': '자장가', '유럽여행': '유럽여행', '그냥좋은노래': '그냥좋은노래', '여자가수': '여자가수', '9살': '9살', '8': '8', '잔잔한': '잔잔한', '듣고': '듣고', '공부하며듣는': '공부하며듣는', '고민': '고민', '부부뮤지션': '부부뮤지션', '드림팝': '드림팝', '시간순': '시간순', '나만알고싶은음악': '나만알고싶은음악', 'EDMFloor': 'EDMFloor', '노래추천': '노래추천', '국외': '국외', 'Chill': 'Chill', '가을감성': '가을감성', '겨울왕국': '겨울왕국', '나만들을꺼': '나만들을꺼', '쓸쓸함': '쓸쓸함', '아미를위한': '아미를위한', '해외알앤비소울': '해외알앤비소울', '콘서트': '콘서트', '아티스트': '아티스트', '타이틀곡': '타이틀곡', '레깅스': '레깅스', '고음병': '고음병', '티타임': '티타임', '인싸': '인싸', '새벽감성': '새벽감성', '외사랑': '외사랑', '다이어트': '다이어트', '자연': '자연', 'Takealook': 'Takealook', '캐럴': '캐럴', '오케이션': '오케이션', '뮤직카로마': '뮤직카로마', '끝': '끝', '하늘': '하늘', '연말': '연말', 'EarlySoul': 'EarlySoul', '헤이즈': '헤이즈', '팝송': '팝송', '밴드': '밴드', '따뜻한': '따뜻한', '감성발라드': '감성발라드', '또는': '또는', '스타일': '스타일', '우아한': '우아한', 'dance': 'dance', '카페에서듣기좋은': '카페에서듣기좋은', '몽환적인': '몽환적인', '가을동화': '가을동화', '샤우팅': '샤우팅', '바다': '바다', '햇살': '햇살', 'playlist3': 'playlist3', '스트레스해소': '스트레스해소', '그루브': '그루브', '봄나물': '봄나물', '중국노래': '중국노래', '슬픔': '슬픔', '기타': '기타', '추천노래': '추천노래', '좋아요좀눌러줘요': '좋아요좀눌러줘요', '크리스마스송': '크리스마스송', '회상': '회상', '인생곡들만': '인생곡들만', '외로움을': '외로움을', '행복': '행복', '감성': '감성', '자기전': '자기전', '추위': '추위', '김윤': '김윤', '느껴져': '느껴져', '텐션업': '텐션업', '이일우': '이일우', '옥콩': '옥콩', '칠링': '칠링', 'Lofi': 'Lofi', '펍노래': '펍노래', '고속도로': '고속도로', '멜로디': '멜로디', '이루마': '이루마', '짝사랑': '짝사랑', 'MTV': 'MTV', '댄스본능': '댄스본능', '박지섭': '박지섭', '미술관': '미술관', '아미라면': '아미라면', '외힙': '외힙', '드라이브': '드라이브', '감성적인': '감성적인', '트렌디하게': '트렌디하게', '잔잔함': '잔잔함', '취향저격': '취향저격', '아드레날린': '아드레날린', '헬스': '헬스', '니엘': '니엘', '편안한명상을위한': '편안한명상을위한', '힐링피아노연주곡': '힐링피아노연주곡', '공기정화': '공기정화', '명상': '명상', '떄껄룩': '떄껄룩', '비와이': '비와이', '노래방': '노래방', '재즈': '재즈', '야외에서듣는피아노연주곡': '야외에서듣는피아노연주곡', '소란': '소란', '아무거나': '아무거나', '팝': '팝', '페스티벌음악': '페스티벌음악', '이소라': '이소라', '저녁': '저녁', '무드': '무드', '매장음악': '매장음악', 'M에센셜': 'M에센셜', '기분좋은': '기분좋은', '새벽에': '새벽에', '짧고얕은음악지식속엄선': '짧고얕은음악지식속엄선', 'Popular': 'Popular', '1960': '1960', '귀호강': '귀호강', '컴백전쟁': '컴백전쟁', '런쥔': '런쥔', '빅룸': '빅룸', 'WJSN': 'WJSN', 'funk': 'funk', '토요명화': '토요명화', '귀르가즘': '귀르가즘', '건조하고': '건조하고', '2016멜로디포레스트캠프': '2016멜로디포레스트캠프', 'before1970': 'before1970', '신곡': '신곡', '포크': '포크', '필라테스': '필라테스', 'SEX': 'SEX', '샤워': '샤워', '진원': '진원', '도입부': '도입부', '방학': '방학', '추억': '추억', '광동': '광동', '해변': '해변', '남녀': '남녀', '파워워킹': '파워워킹', '봄노래': '봄노래', '피곤': '피곤', '비트좋은': '비트좋은', '까페': '까페', 'uspop': 'uspop', '가즈아': '가즈아', '비트': '비트', '테크노': '테크노', '겨울': '겨울', 'BTS': 'BTS', '펍': '펍', '영화OST': '영화OST', '헬스장에서': '헬스장에서', '잠': '잠', '잠들기전': '잠들기전', '보이그룹': '보이그룹', '상쾌': '상쾌', '명곡': '명곡', '피쳐링': '피쳐링', '혼자있을때': '혼자있을때', '거짓말': '거짓말', '아침': '아침', '발라드': '발라드', 'Lizzo': 'Lizzo', '천상지희': '천상지희', '추억회상': '추억회상', '봄': '봄', '밴드음악': '밴드음악', '질리지않는': '질리지않는', '카페음악': '카페음악', '카카오톡': '카카오톡', 'Metal': 'Metal', '세련된': '세련된', 'Instruments': 'Instruments', '햇살좋은날': '햇살좋은날', '힘들때': '힘들때', '아쉬움': '아쉬움', '좋은곡들': '좋은곡들', '인기': '인기', '그루비': '그루비', '한강': '한강', '도입': '도입', '7살': '7살', '노동요': '노동요', '잔잔한팝송': '잔잔한팝송', '아픈': '아픈', '낭만': '낭만', '일렉': '일렉', '매장': '매장', '너에게': '너에게', '강렬한사운드': '강렬한사운드', '프로그레시브하우스': '프로그레시브하우스', '소울': '소울', '목록': '목록', '뉴홉클': '뉴홉클', '독서': '독서', '패셔너블': '패셔너블', 'dope': 'dope', '졸음운전': '졸음운전', '팝음악': '팝음악', '포근함': '포근함', '다나': '다나', '슬픈노래': '슬픈노래', '위로': '위로', '시원한': '시원한', '그리움': '그리움', '하드록메탈': '하드록메탈', '소원': '소원', '드라이브할때신나는노래': '드라이브할때신나는노래', '집': '집', '발랄한': '발랄한', '지칠때': '지칠때', '크리스마스캐럴': '크리스마스캐럴', '휴일': '휴일', '국내': '국내', '힐링노래': '힐링노래', 'EDM': 'EDM', '이달의인디포크': '이달의인디포크', '멜로': '멜로', '광고음악': '광고음악', '옛날노래': '옛날노래', '주간': '주간', '일렉트로닉': '일렉트로닉', '보컬재즈': '보컬재즈', '빌보드': '빌보드', '스웩': '스웩', '잠결': '잠결', '치명': '치명', '오승훈': '오승훈', '느낌있는': '느낌있는', '6월': '6월', '힙한': '힙한', '신나는노래': '신나는노래', 'GZ': 'GZ', '초원': '초원', '이거': '이거', '인생': '인생', '편안한': '편안한', '빌보드Hot50': '빌보드Hot50', '중독성': '중독성', '2017': '2017', '재즈추천': '재즈추천', '독주곡': '독주곡', '달달함': '달달함', '업데이트중': '업데이트중', '1990년대': '1990년대', 'GD': 'GD', '라디오': '라디오', '호불호없는': '호불호없는', '리스트': '리스트', '그냥': '그냥', '다중음격': '다중음격', '그루브한': '그루브한', '올드팝': '올드팝', '청량한': '청량한', '사무실': '사무실', '맥주한잔': '맥주한잔', '나만들을거얌': '나만들을거얌', '컨트리': '컨트리', '랩': '랩', '옥타곤': '옥타곤', '히트곡': '히트곡', '외국힙합노래': '외국힙합노래', '방해금지': '방해금지', '이별노래': '이별노래', '러브송': '러브송', '성대': '성대', '혼자': '혼자', '여름': '여름', 'Sadko': 'Sadko', '인디': '인디', 'Greenday': 'Greenday', '출근길': '출근길', '신인': '신인', '숨겨진': '숨겨진', '감미로운': '감미로운', '운동할때듣는음악': '운동할때듣는음악', '린아': '린아', '우울할때': '우울할때', '8살': '8살', '소망': '소망', '쉼표': '쉼표', '들어봤을': '들어봤을', '이슬': '이슬', '힘든날': '힘든날', '상쾌해지는': '상쾌해지는', '들었으면': '들었으면', '신나는': '신나는', '트렌디': '트렌디', '광고': '광고', '방탄소년단': '방탄소년단', '엠넷': '엠넷', '띵곡': '띵곡', '힘내': '힘내', 'HipHop': 'HipHop', '시원한노래': '시원한노래', '인생곡': '인생곡', '썸머': '썸머', '기리보이': '기리보이', '좋은노래': '좋은노래', '유튜브': '유튜브', 'mood': 'mood', '감성힙합': '감성힙합', '답답함': '답답함', '전지음악': '전지음악', '힙합엘이': '힙합엘이', '인디추천': '인디추천', '달달': '달달', '알앤비소울': '알앤비소울', '연인': '연인', '둠칫둠칫': '둠칫둠칫', '조용한': '조용한', '셋리스트': '셋리스트', '퀸덤': '퀸덤', 'RnB': 'RnB', '어린이클래식': '어린이클래식', '책읽을때': '책읽을때', '더포앳': '더포앳', '목장': '목장', '비_오는날': '비오는날', '멈출수없는': '멈출수없는', 'ballads': 'ballads', 'JPOP': 'JPOP', '풀내음': '풀내음', '배경음악': '배경음악', '꿀': '꿀', '로큰롤명예의전당': '로큰롤명예의전당', '중국음악': '중국음악', '잔잔하게': '잔잔하게', '겨울밤': '겨울밤', '올드송': '올드송', '언플러그드': '언플러그드', '홍콩': '홍콩', '90년대': '90년대', '최고의노래': '최고의노래', '달콤': '달콤', '독서를돕는음악': '독서를돕는음악', '상큼한': '상큼한', '랩소디인블루': '랩소디인블루', '트렌드': '트렌드', '디제이': '디제이', '밝은': '밝은', '발레음악': '발레음악', '2010': '2010', '카페': '카페', '내가좋아하는음악트랙': '내가좋아하는음악트랙', '목요일': '목요일', '로큰롤': '로큰롤', '썸': '썸', '바람': '바람', '믿고듣는': '믿고듣는', '영국': '영국', '외국펍': '외국펍', '추천곡': '추천곡', '사랑': '사랑', '댄스음악': '댄스음악', 'Matisse': 'Matisse', '명품발라드': '명품발라드', '스트레스': '스트레스', '공부': '공부', '선데이': '선데이', '가을이별': '가을이별', '나들이': '나들이', '숨은명곡': '숨은명곡', '크리스마스': '크리스마스', '90년대발라드': '90년대발라드', '최신': '최신', '미러볼뮤직': '미러볼뮤직', '에센셜': '에센셜', '스래시메탈': '스래시메탈', '썸타는중': '썸타는중', '연말파티': '연말파티', '힐링': '힐링', '모두가_흥얼흥얼': '모두가흥얼흥얼', '장마': '장마', '미세먼지': '미세먼지', '올림픽': '올림픽', 'Coldplay': 'Coldplay', '헬스장': '헬스장', '쇼미더머니': '쇼미더머니', '외로움': '외로움', '삶': '삶', '한번쯤': '한번쯤', 'YOUNG': 'YOUNG', '가을': '가을', '80년대': '80년대', '걸그룹댄스': '걸그룹댄스', '피쉬슈즈': '피쉬슈즈', 'kpop': 'kpop', '기분업': '기분업', '내적댄스폭발': '내적댄스폭발', 'ksks': 'ksks', '뉴욕도': '뉴욕도', '폐막식': '폐막식', '엑소': '엑소', '프로필음악': '프로필음악', '100번': '100번', 'unplugged': 'unplugged', '분위기좋은': '분위기좋은', '댄스': '댄스', '꿈': '꿈', '안녕': '안녕', '내한': '내한', '여름밤에듣기좋은음악': '여름밤에듣기좋은음악', '스테파니': '스테파니', '크리스마스노래': '크리스마스노래', '센치한날': '센치한날', 'Rock': 'Rock', '다짐': '다짐', '수면': '수면', 'Maroon': 'Maroon', '드럼': '드럼', '힙합': '힙합', '휴식': '휴식', '트로트': '트로트', '빅밴드': '빅밴드', '봄바람': '봄바람', 'CCM': 'CCM', '많은곡수': '많은곡수', '8월': '8월', '달': '달', 'ASMR': 'ASMR', '눈오는날': '눈오는날', 'Chillout': 'Chillout', '연애': '연애', '아무생각없이': '아무생각없이', '류이치사카모토': '류이치사카모토', '우울': '우울', '알앤비': '알앤비', '데이트': '데이트', '피아노': '피아노', '여자아이돌': '여자아이돌', '명예의전당': '명예의전당', '에너지': '에너지', '가족': '가족', '속도감': '속도감', '몽환': '몽환', '왜이리딱딱한것이냐': '왜이리딱딱한것이냐', '빠른비트': '빠른비트', '힙스터': '힙스터', '라이징스타': '라이징스타', '나만알기아까운노래': '나만알기아까운노래', '히피': '히피', '김영후': '김영후', '꾸준히업뎃': '꾸준히업뎃', '퀸덤원곡모음': '퀸덤원곡모음', '댄스신에': '댄스신에', '자연주의': '자연주의', '운동할때듣는': '운동할때듣는', '불면증': '불면증', '클럽노래': '클럽노래', '어버이날': '어버이날', '가요': '가요', '발레': '발레', '여름밤': '여름밤', '가을밤': '가을밤', '내취향': '내취향', '파티': '파티', '댄스곡': '댄스곡', '찬송': '찬송', '비오는날': '비오는날', '어쿠스틱': '어쿠스틱', '팝재즈': '팝재즈', '밤에듣기좋은노래': '밤에듣기좋은노래', '관악기': '관악기', '빌로우': '빌로우', '우주소녀': '우주소녀', '흥겨운': '흥겨운', '인디음악': '인디음악', '재즈힙합': '재즈힙합', '맥주펍': '맥주펍', '격렬함': '격렬함', '일렉트로니카': '일렉트로니카', '월드뮤직': '월드뮤직', '신맛': '신맛', '버스': '버스', '거슈윈': '거슈윈', '일발장전': '일발장전', '남성적인': '남성적인', '나만의Best3': '나만의Best3', '잔디': '잔디', '1980년대': '1980년대', '출근': '출근', '졸릴때': '졸릴때', '김광민': '김광민', '1990': '1990', 'rockisnotdead': 'rockisnotdead', '뉴페이스': '뉴페이스', '민중가요': '민중가요', '빌보드핫차트': '빌보드핫차트', '마약': '마약', '바이준': '바이준', '기분': '기분', '여행': '여행', '스밍': '스밍', '뺏고싶다': '뺏고싶다', '감각적인': '감각적인', '캐롤': '캐롤', '비_오는_날': '비오는날', '바캉스': '바캉스', '불금': '불금', '새벽': '새벽', '퓨쳐베이스': '퓨쳐베이스', '영화클래식': '영화클래식', '조용한음악': '조용한음악', '팝송추천': '팝송추천', 'Top100에': 'Top100에', '내적댄스': '내적댄스', '아메리칸클래식': '아메리칸클래식', 'Feat': 'Feat', '이태원': '이태원', '봄캐롤': '봄캐롤', 'indie': 'indie', '몽환한': '몽환한', '저스디스': '저스디스', '5월_4주차': '5월4주차', 'Duet': 'Duet', '운동': '운동', '퓨전재즈': '퓨전재즈', '슈게이징': '슈게이징', '빌보드핫100': '빌보드핫100', '미국클래식': '미국클래식', '흐린날': '흐린날', '이브': '이브', '듀엣': '듀엣', '관현악': '관현악', 'bgm': 'bgm', '아이돌': '아이돌', '힙존': '힙존', '한동윤': '한동윤', '들을거없을때': '들을거없을때', '흥얼흥얼': '흥얼흥얼', '요가': '요가', '아련': '아련', '펑크락': '펑크락', '힐링테라피요가': '힐링테라피요가', '오후': '오후', '기리보이의노래는길이보인다': '기리보이의노래는길이보인다', '피트니스': '피트니스', '신날때': '신날때', 'classic': 'classic', '공연': '공연', '모던': '모던', 'Chirstmas': 'Chirstmas', '피톤치드': '피톤치드', '뮤지션': '뮤지션', '실험': '실험', '명작': '명작', '카톡': '카톡', '파란': '파란', '쓸쓸한': '쓸쓸한', '이미지는_직접찍은사진': '이미지는직접찍은사진', '쇼미': '쇼미', '산책': '산책', '더위': '더위', 'RNBSOUL': 'RNBSOUL', '런닝': '런닝', '운동할때': '운동할때', '보이스': '보이스', '일요일': '일요일', '위대함': '위대함', '스윙재즈': '스윙재즈', '유니크': '유니크', '인디곡': '인디곡', '플레이리스트': '플레이리스트', '아무노래': '아무노래', '리듬앤블루스': '리듬앤블루스', 'COOL': 'COOL', 'futurebass': 'futurebass', '아기동요': '아기동요', '스윙': '스윙', '청량함': '청량함', '밤': '밤', '연애중': '연애중', '눈물': '눈물', '노래': '노래', '누군가생각날때': '누군가생각날때', '설렘': '설렘', '연주': '연주', '마음을감싸주는': '마음을감싸주는', '센치한': '센치한', 'Summer': 'Summer', '나른한': '나른한', '시티팝': '시티팝', '클럽음악': '클럽음악', '태교클래식': '태교클래식', '차막힐때': '차막힐때', '생각': '생각', '클럽': '클럽', '잔잔한음악': '잔잔한음악', 'NewHopeClub': 'NewHopeClub', '노래모음': '노래모음', '힙합클럽': '힙합클럽', '2000년대': '2000년대', '현섭': '현섭', '걸그룹': '걸그룹', '조용히': '조용히', '주말': '주말', '싱어송라이터': '싱어송라이터', '자기전에': '자기전에', '여운': '여운', 'groove': 'groove', '환상적인': '환상적인', '음악': '음악', 'Elecronica': 'Elecronica', '힙합갬성': '힙합갬성', '늦잠': '늦잠', '초록빛': '초록빛', '리드미컬': '리드미컬', '젝스키스': '젝스키스', '스타일리쉬': '스타일리쉬', '따스한': '따스한', '중음': '중음', '시원': '시원', '인디밴드': '인디밴드', '남자아이돌': '남자아이돌', '빗물같은': '빗물같은', '한번쯤은': '한번쯤은'}\n"
     ]
    }
   ],
   "source": [
    "tag_special_dict = make_dict_special(tag_set)\n",
    "\n",
    "# 현재 태그들은 특수문자가 '_'만 존재한다\n",
    "print(tag_special_dict)"
   ]
  },
  {
   "cell_type": "markdown",
   "id": "fe95422c",
   "metadata": {},
   "source": [
    "## Stopword 제거\n",
    "\n",
    "- 현재 태그는 단순 단어나 띄어쓰기가 제거된 단어의 조합으로 구성\n",
    "- 임의의 Stopword를 선정할 필요가 존재"
   ]
  },
  {
   "cell_type": "code",
   "execution_count": 52,
   "id": "10f60dc2",
   "metadata": {},
   "outputs": [],
   "source": [
    "# 설정 필요\n",
    "stopwords = {'날려버려'}"
   ]
  },
  {
   "cell_type": "code",
   "execution_count": 55,
   "id": "93999570",
   "metadata": {},
   "outputs": [],
   "source": [
    "def make_dict_stop(tag_set, stopwords):\n",
    "    tag_dict = dict()\n",
    "    \n",
    "    for i in tag_set:\n",
    "        if not i in tag_dict:\n",
    "            # 빈 칸으로 만든 뒤 다른 함수로 제거할 예정\n",
    "            if i in stopwords:\n",
    "                tag_dict[i] = ''\n",
    "            else:\n",
    "                tag_dict[i] = i\n",
    "                \n",
    "    return tag_dict"
   ]
  },
  {
   "cell_type": "code",
   "execution_count": 54,
   "id": "1e3b9dcc",
   "metadata": {},
   "outputs": [
    {
     "name": "stdout",
     "output_type": "stream",
     "text": [
      "{'클래식': '클래식', '프로필': '프로필', '조용하게': '조용하게', '대만': '대만', '여유': '여유', '음악추천': '음악추천', '따듯한': '따듯한', 'Pop': 'Pop', 'BlackMusic': 'BlackMusic', '맥주': '맥주', '달달하게': '달달하게', '연주음악': '연주음악', '연휴': '연휴', '기분전환': '기분전환', '외로운': '외로운', '퇴근길': '퇴근길', '락': '락', '아련하게': '아련하게', '슬픔의': '슬픔의', '생기': '생기', '성탄절': '성탄절', '새해': '새해', '상쾌한': '상쾌한', '야경': '야경', '떼껄룩': '떼껄룩', '벚꽃': '벚꽃', 'Billboard': 'Billboard', '정서발달': '정서발달', '쇼핑': '쇼핑', '록발라드': '록발라드', '존윌리엄스': '존윌리엄스', '태교음악': '태교음악', '일상': '일상', 'electronica': 'electronica', '모닝콜': '모닝콜', '아이돌명곡': '아이돌명곡', 'OST': 'OST', '추천': '추천', '눈': '눈', '집중': '집중', '월드': '월드', '7월': '7월', '뷰티샵': '뷰티샵', '연주곡': '연주곡', '국힙': '국힙', 'Jazz': 'Jazz', '릴랙스요가클래식': '릴랙스요가클래식', '호호클럽': '호호클럽', '후회': '후회', '인디뮤직': '인디뮤직', '심포닉메탈': '심포닉메탈', '차막힘': '차막힘', '수록곡': '수록곡', '스포츠': '스포츠', '뉴에이지': '뉴에이지', 'HIPSTER': 'HIPSTER', '동요': '동요', '주간일렉트로니카': '주간일렉트로니카', '겨울노래': '겨울노래', '록': '록', '날려버려': '', '셧업앤댄스': '셧업앤댄스', '커피': '커피', '신진래퍼': '신진래퍼', '고백': '고백', '펑키': '펑키', '휴가': '휴가', '가을여행': '가을여행', '띵곡들': '띵곡들', '커플': '커플', '이별': '이별', '국내힙합': '국내힙합', '분위기': '분위기', 'jazzymood': 'jazzymood', '여름방학': '여름방학', '사이다': '사이다', '몽글': '몽글', '신나는곡': '신나는곡', '달달한': '달달한', '2000': '2000', '시험기간집중할때': '시험기간집중할때', '나만알고싶은': '나만알고싶은', '기쁠때': '기쁠때', '북카페': '북카페', '부모님': '부모님', '키즈동화': '키즈동화', '댄스뮤직': '댄스뮤직', '섹시': '섹시', '중국': '중국', '메탈': '메탈', '추억의': '추억의', '혼자만의겨울': '혼자만의겨울', '헬스장에서운동할때듣는노래': '헬스장에서운동할때듣는노래', '백색소음': '백색소음', '트로피컬하우스': '트로피컬하우스', '라운지': '라운지', '우울한': '우울한', '비': '비', '쓸쓸': '쓸쓸', '칠뮤직': '칠뮤직', '스티비원더': '스티비원더', '자장가': '자장가', '유럽여행': '유럽여행', '그냥좋은노래': '그냥좋은노래', '여자가수': '여자가수', '9살': '9살', '8': '8', '잔잔한': '잔잔한', '듣고': '듣고', '공부하며듣는': '공부하며듣는', '고민': '고민', '부부뮤지션': '부부뮤지션', '드림팝': '드림팝', '시간순': '시간순', '나만알고싶은음악': '나만알고싶은음악', 'EDMFloor': 'EDMFloor', '노래추천': '노래추천', '국외': '국외', 'Chill': 'Chill', '가을감성': '가을감성', '겨울왕국': '겨울왕국', '나만들을꺼': '나만들을꺼', '쓸쓸함': '쓸쓸함', '아미를위한': '아미를위한', '해외알앤비소울': '해외알앤비소울', '콘서트': '콘서트', '아티스트': '아티스트', '타이틀곡': '타이틀곡', '레깅스': '레깅스', '고음병': '고음병', '티타임': '티타임', '인싸': '인싸', '새벽감성': '새벽감성', '외사랑': '외사랑', '다이어트': '다이어트', '자연': '자연', 'Takealook': 'Takealook', '캐럴': '캐럴', '오케이션': '오케이션', '뮤직카로마': '뮤직카로마', '끝': '끝', '하늘': '하늘', '연말': '연말', 'EarlySoul': 'EarlySoul', '헤이즈': '헤이즈', '팝송': '팝송', '밴드': '밴드', '따뜻한': '따뜻한', '감성발라드': '감성발라드', '또는': '또는', '스타일': '스타일', '우아한': '우아한', 'dance': 'dance', '카페에서듣기좋은': '카페에서듣기좋은', '몽환적인': '몽환적인', '가을동화': '가을동화', '샤우팅': '샤우팅', '바다': '바다', '햇살': '햇살', 'playlist3': 'playlist3', '스트레스해소': '스트레스해소', '그루브': '그루브', '봄나물': '봄나물', '중국노래': '중국노래', '슬픔': '슬픔', '기타': '기타', '추천노래': '추천노래', '좋아요좀눌러줘요': '좋아요좀눌러줘요', '크리스마스송': '크리스마스송', '회상': '회상', '인생곡들만': '인생곡들만', '외로움을': '외로움을', '행복': '행복', '감성': '감성', '자기전': '자기전', '추위': '추위', '김윤': '김윤', '느껴져': '느껴져', '텐션업': '텐션업', '이일우': '이일우', '옥콩': '옥콩', '칠링': '칠링', 'Lofi': 'Lofi', '펍노래': '펍노래', '고속도로': '고속도로', '멜로디': '멜로디', '이루마': '이루마', '짝사랑': '짝사랑', 'MTV': 'MTV', '댄스본능': '댄스본능', '박지섭': '박지섭', '미술관': '미술관', '아미라면': '아미라면', '외힙': '외힙', '드라이브': '드라이브', '감성적인': '감성적인', '트렌디하게': '트렌디하게', '잔잔함': '잔잔함', '취향저격': '취향저격', '아드레날린': '아드레날린', '헬스': '헬스', '니엘': '니엘', '편안한명상을위한': '편안한명상을위한', '힐링피아노연주곡': '힐링피아노연주곡', '공기정화': '공기정화', '명상': '명상', '떄껄룩': '떄껄룩', '비와이': '비와이', '노래방': '노래방', '재즈': '재즈', '야외에서듣는피아노연주곡': '야외에서듣는피아노연주곡', '소란': '소란', '아무거나': '아무거나', '팝': '팝', '페스티벌음악': '페스티벌음악', '이소라': '이소라', '저녁': '저녁', '무드': '무드', '매장음악': '매장음악', 'M에센셜': 'M에센셜', '기분좋은': '기분좋은', '새벽에': '새벽에', '짧고얕은음악지식속엄선': '짧고얕은음악지식속엄선', 'Popular': 'Popular', '1960': '1960', '귀호강': '귀호강', '컴백전쟁': '컴백전쟁', '런쥔': '런쥔', '빅룸': '빅룸', 'WJSN': 'WJSN', 'funk': 'funk', '토요명화': '토요명화', '귀르가즘': '귀르가즘', '건조하고': '건조하고', '2016멜로디포레스트캠프': '2016멜로디포레스트캠프', 'before1970': 'before1970', '신곡': '신곡', '포크': '포크', '필라테스': '필라테스', 'SEX': 'SEX', '샤워': '샤워', '진원': '진원', '도입부': '도입부', '방학': '방학', '추억': '추억', '광동': '광동', '해변': '해변', '남녀': '남녀', '파워워킹': '파워워킹', '봄노래': '봄노래', '피곤': '피곤', '비트좋은': '비트좋은', '까페': '까페', 'uspop': 'uspop', '가즈아': '가즈아', '비트': '비트', '테크노': '테크노', '겨울': '겨울', 'BTS': 'BTS', '펍': '펍', '영화OST': '영화OST', '헬스장에서': '헬스장에서', '잠': '잠', '잠들기전': '잠들기전', '보이그룹': '보이그룹', '상쾌': '상쾌', '명곡': '명곡', '피쳐링': '피쳐링', '혼자있을때': '혼자있을때', '거짓말': '거짓말', '아침': '아침', '발라드': '발라드', 'Lizzo': 'Lizzo', '천상지희': '천상지희', '추억회상': '추억회상', '봄': '봄', '밴드음악': '밴드음악', '질리지않는': '질리지않는', '카페음악': '카페음악', '카카오톡': '카카오톡', 'Metal': 'Metal', '세련된': '세련된', 'Instruments': 'Instruments', '햇살좋은날': '햇살좋은날', '힘들때': '힘들때', '아쉬움': '아쉬움', '좋은곡들': '좋은곡들', '인기': '인기', '그루비': '그루비', '한강': '한강', '도입': '도입', '7살': '7살', '노동요': '노동요', '잔잔한팝송': '잔잔한팝송', '아픈': '아픈', '낭만': '낭만', '일렉': '일렉', '매장': '매장', '너에게': '너에게', '강렬한사운드': '강렬한사운드', '프로그레시브하우스': '프로그레시브하우스', '소울': '소울', '목록': '목록', '뉴홉클': '뉴홉클', '독서': '독서', '패셔너블': '패셔너블', 'dope': 'dope', '졸음운전': '졸음운전', '팝음악': '팝음악', '포근함': '포근함', '다나': '다나', '슬픈노래': '슬픈노래', '위로': '위로', '시원한': '시원한', '그리움': '그리움', '하드록메탈': '하드록메탈', '소원': '소원', '드라이브할때신나는노래': '드라이브할때신나는노래', '집': '집', '발랄한': '발랄한', '지칠때': '지칠때', '크리스마스캐럴': '크리스마스캐럴', '휴일': '휴일', '국내': '국내', '힐링노래': '힐링노래', 'EDM': 'EDM', '이달의인디포크': '이달의인디포크', '멜로': '멜로', '광고음악': '광고음악', '옛날노래': '옛날노래', '주간': '주간', '일렉트로닉': '일렉트로닉', '보컬재즈': '보컬재즈', '빌보드': '빌보드', '스웩': '스웩', '잠결': '잠결', '치명': '치명', '오승훈': '오승훈', '느낌있는': '느낌있는', '6월': '6월', '힙한': '힙한', '신나는노래': '신나는노래', 'GZ': 'GZ', '초원': '초원', '이거': '이거', '인생': '인생', '편안한': '편안한', '빌보드Hot50': '빌보드Hot50', '중독성': '중독성', '2017': '2017', '재즈추천': '재즈추천', '독주곡': '독주곡', '달달함': '달달함', '업데이트중': '업데이트중', '1990년대': '1990년대', 'GD': 'GD', '라디오': '라디오', '호불호없는': '호불호없는', '리스트': '리스트', '그냥': '그냥', '다중음격': '다중음격', '그루브한': '그루브한', '올드팝': '올드팝', '청량한': '청량한', '사무실': '사무실', '맥주한잔': '맥주한잔', '나만들을거얌': '나만들을거얌', '컨트리': '컨트리', '랩': '랩', '옥타곤': '옥타곤', '히트곡': '히트곡', '외국힙합노래': '외국힙합노래', '방해금지': '방해금지', '이별노래': '이별노래', '러브송': '러브송', '성대': '성대', '혼자': '혼자', '여름': '여름', 'Sadko': 'Sadko', '인디': '인디', 'Greenday': 'Greenday', '출근길': '출근길', '신인': '신인', '숨겨진': '숨겨진', '감미로운': '감미로운', '운동할때듣는음악': '운동할때듣는음악', '린아': '린아', '우울할때': '우울할때', '8살': '8살', '소망': '소망', '쉼표': '쉼표', '들어봤을': '들어봤을', '이슬': '이슬', '힘든날': '힘든날', '상쾌해지는': '상쾌해지는', '들었으면': '들었으면', '신나는': '신나는', '트렌디': '트렌디', '광고': '광고', '방탄소년단': '방탄소년단', '엠넷': '엠넷', '띵곡': '띵곡', '힘내': '힘내', 'HipHop': 'HipHop', '시원한노래': '시원한노래', '인생곡': '인생곡', '썸머': '썸머', '기리보이': '기리보이', '좋은노래': '좋은노래', '유튜브': '유튜브', 'mood': 'mood', '감성힙합': '감성힙합', '답답함': '답답함', '전지음악': '전지음악', '힙합엘이': '힙합엘이', '인디추천': '인디추천', '달달': '달달', '알앤비소울': '알앤비소울', '연인': '연인', '둠칫둠칫': '둠칫둠칫', '조용한': '조용한', '셋리스트': '셋리스트', '퀸덤': '퀸덤', 'RnB': 'RnB', '어린이클래식': '어린이클래식', '책읽을때': '책읽을때', '더포앳': '더포앳', '목장': '목장', '비_오는날': '비_오는날', '멈출수없는': '멈출수없는', 'ballads': 'ballads', 'JPOP': 'JPOP', '풀내음': '풀내음', '배경음악': '배경음악', '꿀': '꿀', '로큰롤명예의전당': '로큰롤명예의전당', '중국음악': '중국음악', '잔잔하게': '잔잔하게', '겨울밤': '겨울밤', '올드송': '올드송', '언플러그드': '언플러그드', '홍콩': '홍콩', '90년대': '90년대', '최고의노래': '최고의노래', '달콤': '달콤', '독서를돕는음악': '독서를돕는음악', '상큼한': '상큼한', '랩소디인블루': '랩소디인블루', '트렌드': '트렌드', '디제이': '디제이', '밝은': '밝은', '발레음악': '발레음악', '2010': '2010', '카페': '카페', '내가좋아하는음악트랙': '내가좋아하는음악트랙', '목요일': '목요일', '로큰롤': '로큰롤', '썸': '썸', '바람': '바람', '믿고듣는': '믿고듣는', '영국': '영국', '외국펍': '외국펍', '추천곡': '추천곡', '사랑': '사랑', '댄스음악': '댄스음악', 'Matisse': 'Matisse', '명품발라드': '명품발라드', '스트레스': '스트레스', '공부': '공부', '선데이': '선데이', '가을이별': '가을이별', '나들이': '나들이', '숨은명곡': '숨은명곡', '크리스마스': '크리스마스', '90년대발라드': '90년대발라드', '최신': '최신', '미러볼뮤직': '미러볼뮤직', '에센셜': '에센셜', '스래시메탈': '스래시메탈', '썸타는중': '썸타는중', '연말파티': '연말파티', '힐링': '힐링', '모두가_흥얼흥얼': '모두가_흥얼흥얼', '장마': '장마', '미세먼지': '미세먼지', '올림픽': '올림픽', 'Coldplay': 'Coldplay', '헬스장': '헬스장', '쇼미더머니': '쇼미더머니', '외로움': '외로움', '삶': '삶', '한번쯤': '한번쯤', 'YOUNG': 'YOUNG', '가을': '가을', '80년대': '80년대', '걸그룹댄스': '걸그룹댄스', '피쉬슈즈': '피쉬슈즈', 'kpop': 'kpop', '기분업': '기분업', '내적댄스폭발': '내적댄스폭발', 'ksks': 'ksks', '뉴욕도': '뉴욕도', '폐막식': '폐막식', '엑소': '엑소', '프로필음악': '프로필음악', '100번': '100번', 'unplugged': 'unplugged', '분위기좋은': '분위기좋은', '댄스': '댄스', '꿈': '꿈', '안녕': '안녕', '내한': '내한', '여름밤에듣기좋은음악': '여름밤에듣기좋은음악', '스테파니': '스테파니', '크리스마스노래': '크리스마스노래', '센치한날': '센치한날', 'Rock': 'Rock', '다짐': '다짐', '수면': '수면', 'Maroon': 'Maroon', '드럼': '드럼', '힙합': '힙합', '휴식': '휴식', '트로트': '트로트', '빅밴드': '빅밴드', '봄바람': '봄바람', 'CCM': 'CCM', '많은곡수': '많은곡수', '8월': '8월', '달': '달', 'ASMR': 'ASMR', '눈오는날': '눈오는날', 'Chillout': 'Chillout', '연애': '연애', '아무생각없이': '아무생각없이', '류이치사카모토': '류이치사카모토', '우울': '우울', '알앤비': '알앤비', '데이트': '데이트', '피아노': '피아노', '여자아이돌': '여자아이돌', '명예의전당': '명예의전당', '에너지': '에너지', '가족': '가족', '속도감': '속도감', '몽환': '몽환', '왜이리딱딱한것이냐': '왜이리딱딱한것이냐', '빠른비트': '빠른비트', '힙스터': '힙스터', '라이징스타': '라이징스타', '나만알기아까운노래': '나만알기아까운노래', '히피': '히피', '김영후': '김영후', '꾸준히업뎃': '꾸준히업뎃', '퀸덤원곡모음': '퀸덤원곡모음', '댄스신에': '댄스신에', '자연주의': '자연주의', '운동할때듣는': '운동할때듣는', '불면증': '불면증', '클럽노래': '클럽노래', '어버이날': '어버이날', '가요': '가요', '발레': '발레', '여름밤': '여름밤', '가을밤': '가을밤', '내취향': '내취향', '파티': '파티', '댄스곡': '댄스곡', '찬송': '찬송', '비오는날': '비오는날', '어쿠스틱': '어쿠스틱', '팝재즈': '팝재즈', '밤에듣기좋은노래': '밤에듣기좋은노래', '관악기': '관악기', '빌로우': '빌로우', '우주소녀': '우주소녀', '흥겨운': '흥겨운', '인디음악': '인디음악', '재즈힙합': '재즈힙합', '맥주펍': '맥주펍', '격렬함': '격렬함', '일렉트로니카': '일렉트로니카', '월드뮤직': '월드뮤직', '신맛': '신맛', '버스': '버스', '거슈윈': '거슈윈', '일발장전': '일발장전', '남성적인': '남성적인', '나만의Best3': '나만의Best3', '잔디': '잔디', '1980년대': '1980년대', '출근': '출근', '졸릴때': '졸릴때', '김광민': '김광민', '1990': '1990', 'rockisnotdead': 'rockisnotdead', '뉴페이스': '뉴페이스', '민중가요': '민중가요', '빌보드핫차트': '빌보드핫차트', '마약': '마약', '바이준': '바이준', '기분': '기분', '여행': '여행', '스밍': '스밍', '뺏고싶다': '뺏고싶다', '감각적인': '감각적인', '캐롤': '캐롤', '비_오는_날': '비_오는_날', '바캉스': '바캉스', '불금': '불금', '새벽': '새벽', '퓨쳐베이스': '퓨쳐베이스', '영화클래식': '영화클래식', '조용한음악': '조용한음악', '팝송추천': '팝송추천', 'Top100에': 'Top100에', '내적댄스': '내적댄스', '아메리칸클래식': '아메리칸클래식', 'Feat': 'Feat', '이태원': '이태원', '봄캐롤': '봄캐롤', 'indie': 'indie', '몽환한': '몽환한', '저스디스': '저스디스', '5월_4주차': '5월_4주차', 'Duet': 'Duet', '운동': '운동', '퓨전재즈': '퓨전재즈', '슈게이징': '슈게이징', '빌보드핫100': '빌보드핫100', '미국클래식': '미국클래식', '흐린날': '흐린날', '이브': '이브', '듀엣': '듀엣', '관현악': '관현악', 'bgm': 'bgm', '아이돌': '아이돌', '힙존': '힙존', '한동윤': '한동윤', '들을거없을때': '들을거없을때', '흥얼흥얼': '흥얼흥얼', '요가': '요가', '아련': '아련', '펑크락': '펑크락', '힐링테라피요가': '힐링테라피요가', '오후': '오후', '기리보이의노래는길이보인다': '기리보이의노래는길이보인다', '피트니스': '피트니스', '신날때': '신날때', 'classic': 'classic', '공연': '공연', '모던': '모던', 'Chirstmas': 'Chirstmas', '피톤치드': '피톤치드', '뮤지션': '뮤지션', '실험': '실험', '명작': '명작', '카톡': '카톡', '파란': '파란', '쓸쓸한': '쓸쓸한', '이미지는_직접찍은사진': '이미지는_직접찍은사진', '쇼미': '쇼미', '산책': '산책', '더위': '더위', 'RNBSOUL': 'RNBSOUL', '런닝': '런닝', '운동할때': '운동할때', '보이스': '보이스', '일요일': '일요일', '위대함': '위대함', '스윙재즈': '스윙재즈', '유니크': '유니크', '인디곡': '인디곡', '플레이리스트': '플레이리스트', '아무노래': '아무노래', '리듬앤블루스': '리듬앤블루스', 'COOL': 'COOL', 'futurebass': 'futurebass', '아기동요': '아기동요', '스윙': '스윙', '청량함': '청량함', '밤': '밤', '연애중': '연애중', '눈물': '눈물', '노래': '노래', '누군가생각날때': '누군가생각날때', '설렘': '설렘', '연주': '연주', '마음을감싸주는': '마음을감싸주는', '센치한': '센치한', 'Summer': 'Summer', '나른한': '나른한', '시티팝': '시티팝', '클럽음악': '클럽음악', '태교클래식': '태교클래식', '차막힐때': '차막힐때', '생각': '생각', '클럽': '클럽', '잔잔한음악': '잔잔한음악', 'NewHopeClub': 'NewHopeClub', '노래모음': '노래모음', '힙합클럽': '힙합클럽', '2000년대': '2000년대', '현섭': '현섭', '걸그룹': '걸그룹', '조용히': '조용히', '주말': '주말', '싱어송라이터': '싱어송라이터', '자기전에': '자기전에', '여운': '여운', 'groove': 'groove', '환상적인': '환상적인', '음악': '음악', 'Elecronica': 'Elecronica', '힙합갬성': '힙합갬성', '늦잠': '늦잠', '초록빛': '초록빛', '리드미컬': '리드미컬', '젝스키스': '젝스키스', '스타일리쉬': '스타일리쉬', '따스한': '따스한', '중음': '중음', '시원': '시원', '인디밴드': '인디밴드', '남자아이돌': '남자아이돌', '빗물같은': '빗물같은', '한번쯤은': '한번쯤은'}\n"
     ]
    }
   ],
   "source": [
    "tag_stop_dict = make_dict_stop(tag_set, stopwords)\n",
    "print(tag_stop_dict)"
   ]
  },
  {
   "cell_type": "markdown",
   "id": "8d01d2c7",
   "metadata": {},
   "source": [
    "## Stemming 제거\n",
    "\n",
    "- 한글에서 동일한 의미여도 표현이 다른 경우를 자동적으로 찾는 것은 불가능하다\n",
    "- 임의로 동일한 의미의 단어 묶음을 만들 필요가 있다"
   ]
  },
  {
   "cell_type": "code",
   "execution_count": 50,
   "id": "d27a358e",
   "metadata": {},
   "outputs": [],
   "source": [
    "# 설정 필요\n",
    "stemmings = {\n",
    "    '락' : {'락', '록'}\n",
    "}"
   ]
  },
  {
   "cell_type": "code",
   "execution_count": 58,
   "id": "2670ee47",
   "metadata": {},
   "outputs": [],
   "source": [
    "def make_dict_stem(tag_set, stemmings):\n",
    "    tag_dict = dict()\n",
    "    \n",
    "    for i in tag_set:\n",
    "        if not i in tag_dict:\n",
    "            \n",
    "            # stemming으로 설정한 단어가 존재하는지 확인\n",
    "            for j in stemmings:\n",
    "                if i in stemmings[j]:\n",
    "                    tag_dict[i] = j\n",
    "                    break\n",
    "            \n",
    "            # 존재하지 않는 경우\n",
    "            if not i in tag_dict:\n",
    "                tag_dict[i] = i\n",
    "    \n",
    "    return tag_dict"
   ]
  },
  {
   "cell_type": "code",
   "execution_count": 59,
   "id": "f750c093",
   "metadata": {},
   "outputs": [
    {
     "name": "stdout",
     "output_type": "stream",
     "text": [
      "{'클래식': '클래식', '프로필': '프로필', '조용하게': '조용하게', '대만': '대만', '여유': '여유', '음악추천': '음악추천', '따듯한': '따듯한', 'Pop': 'Pop', 'BlackMusic': 'BlackMusic', '맥주': '맥주', '달달하게': '달달하게', '연주음악': '연주음악', '연휴': '연휴', '기분전환': '기분전환', '외로운': '외로운', '퇴근길': '퇴근길', '락': '락', '아련하게': '아련하게', '슬픔의': '슬픔의', '생기': '생기', '성탄절': '성탄절', '새해': '새해', '상쾌한': '상쾌한', '야경': '야경', '떼껄룩': '떼껄룩', '벚꽃': '벚꽃', 'Billboard': 'Billboard', '정서발달': '정서발달', '쇼핑': '쇼핑', '록발라드': '록발라드', '존윌리엄스': '존윌리엄스', '태교음악': '태교음악', '일상': '일상', 'electronica': 'electronica', '모닝콜': '모닝콜', '아이돌명곡': '아이돌명곡', 'OST': 'OST', '추천': '추천', '눈': '눈', '집중': '집중', '월드': '월드', '7월': '7월', '뷰티샵': '뷰티샵', '연주곡': '연주곡', '국힙': '국힙', 'Jazz': 'Jazz', '릴랙스요가클래식': '릴랙스요가클래식', '호호클럽': '호호클럽', '후회': '후회', '인디뮤직': '인디뮤직', '심포닉메탈': '심포닉메탈', '차막힘': '차막힘', '수록곡': '수록곡', '스포츠': '스포츠', '뉴에이지': '뉴에이지', 'HIPSTER': 'HIPSTER', '동요': '동요', '주간일렉트로니카': '주간일렉트로니카', '겨울노래': '겨울노래', '록': '락', '날려버려': '날려버려', '셧업앤댄스': '셧업앤댄스', '커피': '커피', '신진래퍼': '신진래퍼', '고백': '고백', '펑키': '펑키', '휴가': '휴가', '가을여행': '가을여행', '띵곡들': '띵곡들', '커플': '커플', '이별': '이별', '국내힙합': '국내힙합', '분위기': '분위기', 'jazzymood': 'jazzymood', '여름방학': '여름방학', '사이다': '사이다', '몽글': '몽글', '신나는곡': '신나는곡', '달달한': '달달한', '2000': '2000', '시험기간집중할때': '시험기간집중할때', '나만알고싶은': '나만알고싶은', '기쁠때': '기쁠때', '북카페': '북카페', '부모님': '부모님', '키즈동화': '키즈동화', '댄스뮤직': '댄스뮤직', '섹시': '섹시', '중국': '중국', '메탈': '메탈', '추억의': '추억의', '혼자만의겨울': '혼자만의겨울', '헬스장에서운동할때듣는노래': '헬스장에서운동할때듣는노래', '백색소음': '백색소음', '트로피컬하우스': '트로피컬하우스', '라운지': '라운지', '우울한': '우울한', '비': '비', '쓸쓸': '쓸쓸', '칠뮤직': '칠뮤직', '스티비원더': '스티비원더', '자장가': '자장가', '유럽여행': '유럽여행', '그냥좋은노래': '그냥좋은노래', '여자가수': '여자가수', '9살': '9살', '8': '8', '잔잔한': '잔잔한', '듣고': '듣고', '공부하며듣는': '공부하며듣는', '고민': '고민', '부부뮤지션': '부부뮤지션', '드림팝': '드림팝', '시간순': '시간순', '나만알고싶은음악': '나만알고싶은음악', 'EDMFloor': 'EDMFloor', '노래추천': '노래추천', '국외': '국외', 'Chill': 'Chill', '가을감성': '가을감성', '겨울왕국': '겨울왕국', '나만들을꺼': '나만들을꺼', '쓸쓸함': '쓸쓸함', '아미를위한': '아미를위한', '해외알앤비소울': '해외알앤비소울', '콘서트': '콘서트', '아티스트': '아티스트', '타이틀곡': '타이틀곡', '레깅스': '레깅스', '고음병': '고음병', '티타임': '티타임', '인싸': '인싸', '새벽감성': '새벽감성', '외사랑': '외사랑', '다이어트': '다이어트', '자연': '자연', 'Takealook': 'Takealook', '캐럴': '캐럴', '오케이션': '오케이션', '뮤직카로마': '뮤직카로마', '끝': '끝', '하늘': '하늘', '연말': '연말', 'EarlySoul': 'EarlySoul', '헤이즈': '헤이즈', '팝송': '팝송', '밴드': '밴드', '따뜻한': '따뜻한', '감성발라드': '감성발라드', '또는': '또는', '스타일': '스타일', '우아한': '우아한', 'dance': 'dance', '카페에서듣기좋은': '카페에서듣기좋은', '몽환적인': '몽환적인', '가을동화': '가을동화', '샤우팅': '샤우팅', '바다': '바다', '햇살': '햇살', 'playlist3': 'playlist3', '스트레스해소': '스트레스해소', '그루브': '그루브', '봄나물': '봄나물', '중국노래': '중국노래', '슬픔': '슬픔', '기타': '기타', '추천노래': '추천노래', '좋아요좀눌러줘요': '좋아요좀눌러줘요', '크리스마스송': '크리스마스송', '회상': '회상', '인생곡들만': '인생곡들만', '외로움을': '외로움을', '행복': '행복', '감성': '감성', '자기전': '자기전', '추위': '추위', '김윤': '김윤', '느껴져': '느껴져', '텐션업': '텐션업', '이일우': '이일우', '옥콩': '옥콩', '칠링': '칠링', 'Lofi': 'Lofi', '펍노래': '펍노래', '고속도로': '고속도로', '멜로디': '멜로디', '이루마': '이루마', '짝사랑': '짝사랑', 'MTV': 'MTV', '댄스본능': '댄스본능', '박지섭': '박지섭', '미술관': '미술관', '아미라면': '아미라면', '외힙': '외힙', '드라이브': '드라이브', '감성적인': '감성적인', '트렌디하게': '트렌디하게', '잔잔함': '잔잔함', '취향저격': '취향저격', '아드레날린': '아드레날린', '헬스': '헬스', '니엘': '니엘', '편안한명상을위한': '편안한명상을위한', '힐링피아노연주곡': '힐링피아노연주곡', '공기정화': '공기정화', '명상': '명상', '떄껄룩': '떄껄룩', '비와이': '비와이', '노래방': '노래방', '재즈': '재즈', '야외에서듣는피아노연주곡': '야외에서듣는피아노연주곡', '소란': '소란', '아무거나': '아무거나', '팝': '팝', '페스티벌음악': '페스티벌음악', '이소라': '이소라', '저녁': '저녁', '무드': '무드', '매장음악': '매장음악', 'M에센셜': 'M에센셜', '기분좋은': '기분좋은', '새벽에': '새벽에', '짧고얕은음악지식속엄선': '짧고얕은음악지식속엄선', 'Popular': 'Popular', '1960': '1960', '귀호강': '귀호강', '컴백전쟁': '컴백전쟁', '런쥔': '런쥔', '빅룸': '빅룸', 'WJSN': 'WJSN', 'funk': 'funk', '토요명화': '토요명화', '귀르가즘': '귀르가즘', '건조하고': '건조하고', '2016멜로디포레스트캠프': '2016멜로디포레스트캠프', 'before1970': 'before1970', '신곡': '신곡', '포크': '포크', '필라테스': '필라테스', 'SEX': 'SEX', '샤워': '샤워', '진원': '진원', '도입부': '도입부', '방학': '방학', '추억': '추억', '광동': '광동', '해변': '해변', '남녀': '남녀', '파워워킹': '파워워킹', '봄노래': '봄노래', '피곤': '피곤', '비트좋은': '비트좋은', '까페': '까페', 'uspop': 'uspop', '가즈아': '가즈아', '비트': '비트', '테크노': '테크노', '겨울': '겨울', 'BTS': 'BTS', '펍': '펍', '영화OST': '영화OST', '헬스장에서': '헬스장에서', '잠': '잠', '잠들기전': '잠들기전', '보이그룹': '보이그룹', '상쾌': '상쾌', '명곡': '명곡', '피쳐링': '피쳐링', '혼자있을때': '혼자있을때', '거짓말': '거짓말', '아침': '아침', '발라드': '발라드', 'Lizzo': 'Lizzo', '천상지희': '천상지희', '추억회상': '추억회상', '봄': '봄', '밴드음악': '밴드음악', '질리지않는': '질리지않는', '카페음악': '카페음악', '카카오톡': '카카오톡', 'Metal': 'Metal', '세련된': '세련된', 'Instruments': 'Instruments', '햇살좋은날': '햇살좋은날', '힘들때': '힘들때', '아쉬움': '아쉬움', '좋은곡들': '좋은곡들', '인기': '인기', '그루비': '그루비', '한강': '한강', '도입': '도입', '7살': '7살', '노동요': '노동요', '잔잔한팝송': '잔잔한팝송', '아픈': '아픈', '낭만': '낭만', '일렉': '일렉', '매장': '매장', '너에게': '너에게', '강렬한사운드': '강렬한사운드', '프로그레시브하우스': '프로그레시브하우스', '소울': '소울', '목록': '목록', '뉴홉클': '뉴홉클', '독서': '독서', '패셔너블': '패셔너블', 'dope': 'dope', '졸음운전': '졸음운전', '팝음악': '팝음악', '포근함': '포근함', '다나': '다나', '슬픈노래': '슬픈노래', '위로': '위로', '시원한': '시원한', '그리움': '그리움', '하드록메탈': '하드록메탈', '소원': '소원', '드라이브할때신나는노래': '드라이브할때신나는노래', '집': '집', '발랄한': '발랄한', '지칠때': '지칠때', '크리스마스캐럴': '크리스마스캐럴', '휴일': '휴일', '국내': '국내', '힐링노래': '힐링노래', 'EDM': 'EDM', '이달의인디포크': '이달의인디포크', '멜로': '멜로', '광고음악': '광고음악', '옛날노래': '옛날노래', '주간': '주간', '일렉트로닉': '일렉트로닉', '보컬재즈': '보컬재즈', '빌보드': '빌보드', '스웩': '스웩', '잠결': '잠결', '치명': '치명', '오승훈': '오승훈', '느낌있는': '느낌있는', '6월': '6월', '힙한': '힙한', '신나는노래': '신나는노래', 'GZ': 'GZ', '초원': '초원', '이거': '이거', '인생': '인생', '편안한': '편안한', '빌보드Hot50': '빌보드Hot50', '중독성': '중독성', '2017': '2017', '재즈추천': '재즈추천', '독주곡': '독주곡', '달달함': '달달함', '업데이트중': '업데이트중', '1990년대': '1990년대', 'GD': 'GD', '라디오': '라디오', '호불호없는': '호불호없는', '리스트': '리스트', '그냥': '그냥', '다중음격': '다중음격', '그루브한': '그루브한', '올드팝': '올드팝', '청량한': '청량한', '사무실': '사무실', '맥주한잔': '맥주한잔', '나만들을거얌': '나만들을거얌', '컨트리': '컨트리', '랩': '랩', '옥타곤': '옥타곤', '히트곡': '히트곡', '외국힙합노래': '외국힙합노래', '방해금지': '방해금지', '이별노래': '이별노래', '러브송': '러브송', '성대': '성대', '혼자': '혼자', '여름': '여름', 'Sadko': 'Sadko', '인디': '인디', 'Greenday': 'Greenday', '출근길': '출근길', '신인': '신인', '숨겨진': '숨겨진', '감미로운': '감미로운', '운동할때듣는음악': '운동할때듣는음악', '린아': '린아', '우울할때': '우울할때', '8살': '8살', '소망': '소망', '쉼표': '쉼표', '들어봤을': '들어봤을', '이슬': '이슬', '힘든날': '힘든날', '상쾌해지는': '상쾌해지는', '들었으면': '들었으면', '신나는': '신나는', '트렌디': '트렌디', '광고': '광고', '방탄소년단': '방탄소년단', '엠넷': '엠넷', '띵곡': '띵곡', '힘내': '힘내', 'HipHop': 'HipHop', '시원한노래': '시원한노래', '인생곡': '인생곡', '썸머': '썸머', '기리보이': '기리보이', '좋은노래': '좋은노래', '유튜브': '유튜브', 'mood': 'mood', '감성힙합': '감성힙합', '답답함': '답답함', '전지음악': '전지음악', '힙합엘이': '힙합엘이', '인디추천': '인디추천', '달달': '달달', '알앤비소울': '알앤비소울', '연인': '연인', '둠칫둠칫': '둠칫둠칫', '조용한': '조용한', '셋리스트': '셋리스트', '퀸덤': '퀸덤', 'RnB': 'RnB', '어린이클래식': '어린이클래식', '책읽을때': '책읽을때', '더포앳': '더포앳', '목장': '목장', '비_오는날': '비_오는날', '멈출수없는': '멈출수없는', 'ballads': 'ballads', 'JPOP': 'JPOP', '풀내음': '풀내음', '배경음악': '배경음악', '꿀': '꿀', '로큰롤명예의전당': '로큰롤명예의전당', '중국음악': '중국음악', '잔잔하게': '잔잔하게', '겨울밤': '겨울밤', '올드송': '올드송', '언플러그드': '언플러그드', '홍콩': '홍콩', '90년대': '90년대', '최고의노래': '최고의노래', '달콤': '달콤', '독서를돕는음악': '독서를돕는음악', '상큼한': '상큼한', '랩소디인블루': '랩소디인블루', '트렌드': '트렌드', '디제이': '디제이', '밝은': '밝은', '발레음악': '발레음악', '2010': '2010', '카페': '카페', '내가좋아하는음악트랙': '내가좋아하는음악트랙', '목요일': '목요일', '로큰롤': '로큰롤', '썸': '썸', '바람': '바람', '믿고듣는': '믿고듣는', '영국': '영국', '외국펍': '외국펍', '추천곡': '추천곡', '사랑': '사랑', '댄스음악': '댄스음악', 'Matisse': 'Matisse', '명품발라드': '명품발라드', '스트레스': '스트레스', '공부': '공부', '선데이': '선데이', '가을이별': '가을이별', '나들이': '나들이', '숨은명곡': '숨은명곡', '크리스마스': '크리스마스', '90년대발라드': '90년대발라드', '최신': '최신', '미러볼뮤직': '미러볼뮤직', '에센셜': '에센셜', '스래시메탈': '스래시메탈', '썸타는중': '썸타는중', '연말파티': '연말파티', '힐링': '힐링', '모두가_흥얼흥얼': '모두가_흥얼흥얼', '장마': '장마', '미세먼지': '미세먼지', '올림픽': '올림픽', 'Coldplay': 'Coldplay', '헬스장': '헬스장', '쇼미더머니': '쇼미더머니', '외로움': '외로움', '삶': '삶', '한번쯤': '한번쯤', 'YOUNG': 'YOUNG', '가을': '가을', '80년대': '80년대', '걸그룹댄스': '걸그룹댄스', '피쉬슈즈': '피쉬슈즈', 'kpop': 'kpop', '기분업': '기분업', '내적댄스폭발': '내적댄스폭발', 'ksks': 'ksks', '뉴욕도': '뉴욕도', '폐막식': '폐막식', '엑소': '엑소', '프로필음악': '프로필음악', '100번': '100번', 'unplugged': 'unplugged', '분위기좋은': '분위기좋은', '댄스': '댄스', '꿈': '꿈', '안녕': '안녕', '내한': '내한', '여름밤에듣기좋은음악': '여름밤에듣기좋은음악', '스테파니': '스테파니', '크리스마스노래': '크리스마스노래', '센치한날': '센치한날', 'Rock': 'Rock', '다짐': '다짐', '수면': '수면', 'Maroon': 'Maroon', '드럼': '드럼', '힙합': '힙합', '휴식': '휴식', '트로트': '트로트', '빅밴드': '빅밴드', '봄바람': '봄바람', 'CCM': 'CCM', '많은곡수': '많은곡수', '8월': '8월', '달': '달', 'ASMR': 'ASMR', '눈오는날': '눈오는날', 'Chillout': 'Chillout', '연애': '연애', '아무생각없이': '아무생각없이', '류이치사카모토': '류이치사카모토', '우울': '우울', '알앤비': '알앤비', '데이트': '데이트', '피아노': '피아노', '여자아이돌': '여자아이돌', '명예의전당': '명예의전당', '에너지': '에너지', '가족': '가족', '속도감': '속도감', '몽환': '몽환', '왜이리딱딱한것이냐': '왜이리딱딱한것이냐', '빠른비트': '빠른비트', '힙스터': '힙스터', '라이징스타': '라이징스타', '나만알기아까운노래': '나만알기아까운노래', '히피': '히피', '김영후': '김영후', '꾸준히업뎃': '꾸준히업뎃', '퀸덤원곡모음': '퀸덤원곡모음', '댄스신에': '댄스신에', '자연주의': '자연주의', '운동할때듣는': '운동할때듣는', '불면증': '불면증', '클럽노래': '클럽노래', '어버이날': '어버이날', '가요': '가요', '발레': '발레', '여름밤': '여름밤', '가을밤': '가을밤', '내취향': '내취향', '파티': '파티', '댄스곡': '댄스곡', '찬송': '찬송', '비오는날': '비오는날', '어쿠스틱': '어쿠스틱', '팝재즈': '팝재즈', '밤에듣기좋은노래': '밤에듣기좋은노래', '관악기': '관악기', '빌로우': '빌로우', '우주소녀': '우주소녀', '흥겨운': '흥겨운', '인디음악': '인디음악', '재즈힙합': '재즈힙합', '맥주펍': '맥주펍', '격렬함': '격렬함', '일렉트로니카': '일렉트로니카', '월드뮤직': '월드뮤직', '신맛': '신맛', '버스': '버스', '거슈윈': '거슈윈', '일발장전': '일발장전', '남성적인': '남성적인', '나만의Best3': '나만의Best3', '잔디': '잔디', '1980년대': '1980년대', '출근': '출근', '졸릴때': '졸릴때', '김광민': '김광민', '1990': '1990', 'rockisnotdead': 'rockisnotdead', '뉴페이스': '뉴페이스', '민중가요': '민중가요', '빌보드핫차트': '빌보드핫차트', '마약': '마약', '바이준': '바이준', '기분': '기분', '여행': '여행', '스밍': '스밍', '뺏고싶다': '뺏고싶다', '감각적인': '감각적인', '캐롤': '캐롤', '비_오는_날': '비_오는_날', '바캉스': '바캉스', '불금': '불금', '새벽': '새벽', '퓨쳐베이스': '퓨쳐베이스', '영화클래식': '영화클래식', '조용한음악': '조용한음악', '팝송추천': '팝송추천', 'Top100에': 'Top100에', '내적댄스': '내적댄스', '아메리칸클래식': '아메리칸클래식', 'Feat': 'Feat', '이태원': '이태원', '봄캐롤': '봄캐롤', 'indie': 'indie', '몽환한': '몽환한', '저스디스': '저스디스', '5월_4주차': '5월_4주차', 'Duet': 'Duet', '운동': '운동', '퓨전재즈': '퓨전재즈', '슈게이징': '슈게이징', '빌보드핫100': '빌보드핫100', '미국클래식': '미국클래식', '흐린날': '흐린날', '이브': '이브', '듀엣': '듀엣', '관현악': '관현악', 'bgm': 'bgm', '아이돌': '아이돌', '힙존': '힙존', '한동윤': '한동윤', '들을거없을때': '들을거없을때', '흥얼흥얼': '흥얼흥얼', '요가': '요가', '아련': '아련', '펑크락': '펑크락', '힐링테라피요가': '힐링테라피요가', '오후': '오후', '기리보이의노래는길이보인다': '기리보이의노래는길이보인다', '피트니스': '피트니스', '신날때': '신날때', 'classic': 'classic', '공연': '공연', '모던': '모던', 'Chirstmas': 'Chirstmas', '피톤치드': '피톤치드', '뮤지션': '뮤지션', '실험': '실험', '명작': '명작', '카톡': '카톡', '파란': '파란', '쓸쓸한': '쓸쓸한', '이미지는_직접찍은사진': '이미지는_직접찍은사진', '쇼미': '쇼미', '산책': '산책', '더위': '더위', 'RNBSOUL': 'RNBSOUL', '런닝': '런닝', '운동할때': '운동할때', '보이스': '보이스', '일요일': '일요일', '위대함': '위대함', '스윙재즈': '스윙재즈', '유니크': '유니크', '인디곡': '인디곡', '플레이리스트': '플레이리스트', '아무노래': '아무노래', '리듬앤블루스': '리듬앤블루스', 'COOL': 'COOL', 'futurebass': 'futurebass', '아기동요': '아기동요', '스윙': '스윙', '청량함': '청량함', '밤': '밤', '연애중': '연애중', '눈물': '눈물', '노래': '노래', '누군가생각날때': '누군가생각날때', '설렘': '설렘', '연주': '연주', '마음을감싸주는': '마음을감싸주는', '센치한': '센치한', 'Summer': 'Summer', '나른한': '나른한', '시티팝': '시티팝', '클럽음악': '클럽음악', '태교클래식': '태교클래식', '차막힐때': '차막힐때', '생각': '생각', '클럽': '클럽', '잔잔한음악': '잔잔한음악', 'NewHopeClub': 'NewHopeClub', '노래모음': '노래모음', '힙합클럽': '힙합클럽', '2000년대': '2000년대', '현섭': '현섭', '걸그룹': '걸그룹', '조용히': '조용히', '주말': '주말', '싱어송라이터': '싱어송라이터', '자기전에': '자기전에', '여운': '여운', 'groove': 'groove', '환상적인': '환상적인', '음악': '음악', 'Elecronica': 'Elecronica', '힙합갬성': '힙합갬성', '늦잠': '늦잠', '초록빛': '초록빛', '리드미컬': '리드미컬', '젝스키스': '젝스키스', '스타일리쉬': '스타일리쉬', '따스한': '따스한', '중음': '중음', '시원': '시원', '인디밴드': '인디밴드', '남자아이돌': '남자아이돌', '빗물같은': '빗물같은', '한번쯤은': '한번쯤은'}\n"
     ]
    }
   ],
   "source": [
    "tag_stem_dict = make_dict_stem(tag_set, stemmings)\n",
    "print(tag_stem_dict)"
   ]
  },
  {
   "cell_type": "markdown",
   "id": "58591341",
   "metadata": {},
   "source": [
    "## 태그 dict 적용 함수"
   ]
  },
  {
   "cell_type": "code",
   "execution_count": 62,
   "id": "3e0111c9",
   "metadata": {},
   "outputs": [],
   "source": [
    "def apply_tag_dict(data, tag_dict):\n",
    "    apply_data = data\n",
    "    \n",
    "    for i in range(len(apply_data)):\n",
    "        tag = apply_data['tags'][i]\n",
    "        apply_tag = []\n",
    "        \n",
    "        for j in tag:\n",
    "            if not tag_dict[j] in apply_tag and tag_dict[j] != \"\":\n",
    "                apply_tag.append(tag_dict[j])\n",
    "        \n",
    "        apply_data['tags'][i] = apply_tag\n",
    "\n",
    "    return apply_data"
   ]
  },
  {
   "cell_type": "code",
   "execution_count": 63,
   "id": "10d81485",
   "metadata": {},
   "outputs": [
    {
     "name": "stderr",
     "output_type": "stream",
     "text": [
      "C:\\Users\\user\\AppData\\Local\\Temp\\ipykernel_3280\\4061311596.py:12: SettingWithCopyWarning: \n",
      "A value is trying to be set on a copy of a slice from a DataFrame\n",
      "\n",
      "See the caveats in the documentation: https://pandas.pydata.org/pandas-docs/stable/user_guide/indexing.html#returning-a-view-versus-a-copy\n",
      "  apply_data['tags'][i] = apply_tag\n"
     ]
    },
    {
     "data": {
      "text/html": [
       "<div>\n",
       "<style scoped>\n",
       "    .dataframe tbody tr th:only-of-type {\n",
       "        vertical-align: middle;\n",
       "    }\n",
       "\n",
       "    .dataframe tbody tr th {\n",
       "        vertical-align: top;\n",
       "    }\n",
       "\n",
       "    .dataframe thead th {\n",
       "        text-align: right;\n",
       "    }\n",
       "</style>\n",
       "<table border=\"1\" class=\"dataframe\">\n",
       "  <thead>\n",
       "    <tr style=\"text-align: right;\">\n",
       "      <th></th>\n",
       "      <th>tags</th>\n",
       "      <th>song_id</th>\n",
       "    </tr>\n",
       "  </thead>\n",
       "  <tbody>\n",
       "    <tr>\n",
       "      <th>0</th>\n",
       "      <td>[락]</td>\n",
       "      <td>[525514, 129701, 383374, 562083, 297861, 13954...</td>\n",
       "    </tr>\n",
       "    <tr>\n",
       "      <th>1</th>\n",
       "      <td>[추억, 회상]</td>\n",
       "      <td>[432406, 675945, 497066, 120377, 389529, 24427...</td>\n",
       "    </tr>\n",
       "    <tr>\n",
       "      <th>2</th>\n",
       "      <td>[까페, 잔잔한]</td>\n",
       "      <td>[83116, 276692, 166267, 186301, 354465, 256598...</td>\n",
       "    </tr>\n",
       "    <tr>\n",
       "      <th>3</th>\n",
       "      <td>[연말, 눈오는날, 캐럴, 분위기, 따듯한, 크리스마스캐럴, 겨울노래, 크리스마스,...</td>\n",
       "      <td>[394031, 195524, 540149, 287984, 440773, 10033...</td>\n",
       "    </tr>\n",
       "    <tr>\n",
       "      <th>4</th>\n",
       "      <td>[댄스]</td>\n",
       "      <td>[159327, 553610, 5130, 645103, 294435, 100657,...</td>\n",
       "    </tr>\n",
       "  </tbody>\n",
       "</table>\n",
       "</div>"
      ],
      "text/plain": [
       "                                                tags  \\\n",
       "0                                                [락]   \n",
       "1                                           [추억, 회상]   \n",
       "2                                          [까페, 잔잔한]   \n",
       "3  [연말, 눈오는날, 캐럴, 분위기, 따듯한, 크리스마스캐럴, 겨울노래, 크리스마스,...   \n",
       "4                                               [댄스]   \n",
       "\n",
       "                                             song_id  \n",
       "0  [525514, 129701, 383374, 562083, 297861, 13954...  \n",
       "1  [432406, 675945, 497066, 120377, 389529, 24427...  \n",
       "2  [83116, 276692, 166267, 186301, 354465, 256598...  \n",
       "3  [394031, 195524, 540149, 287984, 440773, 10033...  \n",
       "4  [159327, 553610, 5130, 645103, 294435, 100657,...  "
      ]
     },
     "execution_count": 63,
     "metadata": {},
     "output_type": "execute_result"
    }
   ],
   "source": [
    "lower_data = apply_tag_dict(train_data_sample, tag_lower_dict)\n",
    "lower_data.head()"
   ]
  },
  {
   "cell_type": "code",
   "execution_count": 64,
   "id": "4a444e30",
   "metadata": {},
   "outputs": [
    {
     "name": "stdout",
     "output_type": "stream",
     "text": [
      "{'클래식', '프로필', '조용하게', '대만', '여유', '음악추천', '따듯한', '맥주', '달달하게', '연주음악', '연휴', '기분전환', '외로운', '퇴근길', '락', '아련하게', '슬픔의', '생기', '성탄절', '새해', '상쾌한', '야경', '떼껄룩', '벚꽃', '정서발달', '쇼핑', '록발라드', '존윌리엄스', 'asmr', '태교음악', '일상', 'electronica', 'lizzo', '모닝콜', '아이돌명곡', '추천', '눈', '집중', '월드', '7월', '뷰티샵', '연주곡', '국힙', '릴랙스요가클래식', '호호클럽', '후회', '인디뮤직', '심포닉메탈', '차막힘', '수록곡', '스포츠', '뉴에이지', '동요', '주간일렉트로니카', '겨울노래', '록', 'maroon', '날려버려', '셧업앤댄스', '신진래퍼', '고백', '커피', '휴가', '펑키', '가을여행', '띵곡들', '커플', '이별', '국내힙합', '분위기', 'jazzymood', '여름방학', '사이다', '몽글', 'feat', 'edmfloor', '신나는곡', 'elecronica', '달달한', '2000', '시험기간집중할때', '나만알고싶은', '기쁠때', '북카페', '부모님', '키즈동화', '댄스뮤직', '섹시', '중국', '메탈', '추억의', '혼자만의겨울', '헬스장에서운동할때듣는노래', '백색소음', '트로피컬하우스', '라운지', '우울한', '비', '쓸쓸', '칠뮤직', '스티비원더', '자장가', '유럽여행', '그냥좋은노래', '여자가수', 'lofi', '9살', '8', '잔잔한', '듣고', '공부하며듣는', '고민', '부부뮤지션', '드림팝', '시간순', '나만알고싶은음악', '노래추천', '국외', '가을감성', '겨울왕국', '나만들을꺼', '쓸쓸함', '아미를위한', '해외알앤비소울', '콘서트', '아티스트', '타이틀곡', '레깅스', '고음병', 'hiphop', '티타임', '인싸', '새벽감성', '외사랑', '다이어트', '자연', '캐럴', '오케이션', '뮤직카로마', '끝', '하늘', '연말', '헤이즈', '팝송', '밴드', '따뜻한', '감성발라드', '또는', '스타일', 'chillout', 'dance', '우아한', '카페에서듣기좋은', '몽환적인', '가을동화', '샤우팅', '바다', '햇살', 'playlist3', '스트레스해소', '그루브', '봄나물', '중국노래', '슬픔', '기타', 'blackmusic', '추천노래', '좋아요좀눌러줘요', '크리스마스송', '회상', '인생곡들만', '외로움을', '행복', '감성', '자기전', '추위', '김윤', '느껴져', '텐션업', '이일우', '옥콩', '칠링', '펍노래', '고속도로', '멜로디', '이루마', '짝사랑', '댄스본능', 'chirstmas', '박지섭', '미술관', '아미라면', '외힙', '드라이브', '감성적인', '트렌디하게', '잔잔함', '취향저격', '아드레날린', '헬스', '니엘', '편안한명상을위한', '힐링피아노연주곡', 'edm', '공기정화', '영화ost', '명상', '떄껄룩', 'coldplay', '비와이', '노래방', '재즈', '야외에서듣는피아노연주곡', '소란', '아무거나', '팝', '페스티벌음악', '이소라', '저녁', '무드', 'earlysoul', '매장음악', 'm에센셜', 'cool', '기분좋은', '새벽에', '짧고얕은음악지식속엄선', '1960', '귀호강', '컴백전쟁', '런쥔', '빅룸', 'funk', '토요명화', '귀르가즘', '건조하고', '2016멜로디포레스트캠프', 'before1970', '신곡', '포크', '필라테스', '샤워', '진원', '도입부', '방학', '추억', '광동', '해변', '남녀', '파워워킹', '봄노래', '피곤', '비트좋은', 'top100에', '까페', 'uspop', '가즈아', '비트', '테크노', '겨울', '펍', 'ost', '헬스장에서', '잠', '잠들기전', '빌보드hot50', '보이그룹', '상쾌', '명곡', '피쳐링', '혼자있을때', '거짓말', '아침', '발라드', '천상지희', '추억회상', '봄', '밴드음악', '질리지않는', '카페음악', '카카오톡', '세련된', '햇살좋은날', '힘들때', '아쉬움', '좋은곡들', '인기', '그루비', '한강', '도입', '7살', '노동요', '잔잔한팝송', '아픈', '낭만', '일렉', '매장', '너에게', '강렬한사운드', '프로그레시브하우스', '소울', '목록', '뉴홉클', '독서', '패셔너블', 'dope', '졸음운전', '팝음악', '포근함', '다나', '슬픈노래', '위로', '시원한', '그리움', '하드록메탈', '소원', '드라이브할때신나는노래', '집', '발랄한', '지칠때', '크리스마스캐럴', '휴일', '국내', '힐링노래', '이달의인디포크', '멜로', '광고음악', '옛날노래', '주간', '일렉트로닉', '보컬재즈', '빌보드', 'wjsn', '스웩', '잠결', '치명', '오승훈', '느낌있는', '6월', '힙한', '신나는노래', '초원', 'rnb', '이거', '인생', 'billboard', 'sadko', '편안한', 'pop', '중독성', '2017', '재즈추천', '독주곡', '달달함', '업데이트중', '1990년대', '라디오', '호불호없는', '리스트', '그냥', '다중음격', '그루브한', '올드팝', '청량한', '사무실', '맥주한잔', '나만들을거얌', '컨트리', '랩', '옥타곤', '히트곡', '외국힙합노래', '방해금지', '이별노래', '러브송', '성대', 'instruments', '혼자', '여름', 'matisse', '인디', '출근길', '신인', '숨겨진', '감미로운', '운동할때듣는음악', '린아', '우울할때', '8살', '소망', '쉼표', '들어봤을', 'ccm', '이슬', '힘든날', '상쾌해지는', '들었으면', '신나는', '트렌디', '광고', '방탄소년단', '엠넷', '띵곡', '힘내', '시원한노래', '인생곡', '썸머', '기리보이', '좋은노래', '유튜브', 'jazz', 'mood', '답답함', '감성힙합', '전지음악', '힙합엘이', '인디추천', '달달', 'bts', '알앤비소울', '연인', '둠칫둠칫', '조용한', '셋리스트', '퀸덤', '어린이클래식', '책읽을때', '더포앳', '목장', '비_오는날', '멈출수없는', 'ballads', '배경음악', '풀내음', '꿀', '로큰롤명예의전당', '중국음악', '잔잔하게', '겨울밤', '올드송', '언플러그드', '홍콩', '90년대', '최고의노래', '달콤', '독서를돕는음악', '상큼한', '랩소디인블루', '트렌드', '디제이', '밝은', '발레음악', '2010', '카페', '내가좋아하는음악트랙', '목요일', '로큰롤', '썸', '바람', '믿고듣는', '영국', '외국펍', '추천곡', '사랑', '댄스음악', '명품발라드', '스트레스', '공부', '선데이', '가을이별', '나들이', '숨은명곡', '크리스마스', '90년대발라드', '최신', '미러볼뮤직', '에센셜', '스래시메탈', '썸타는중', '연말파티', '힐링', '모두가_흥얼흥얼', '장마', '미세먼지', '올림픽', '헬스장', '쇼미더머니', '외로움', '삶', '한번쯤', '가을', '80년대', '걸그룹댄스', '나만의best3', '피쉬슈즈', 'kpop', '기분업', '내적댄스폭발', 'ksks', '뉴욕도', '폐막식', '엑소', '프로필음악', '100번', 'unplugged', '분위기좋은', '댄스', '꿈', '안녕', '내한', '여름밤에듣기좋은음악', '스테파니', '크리스마스노래', '센치한날', 'takealook', '다짐', '수면', '드럼', '힙합', '휴식', '트로트', '빅밴드', '봄바람', '많은곡수', '8월', '달', 'sex', '눈오는날', '아무생각없이', '연애', '류이치사카모토', '우울', '알앤비', '데이트', '피아노', '여자아이돌', '명예의전당', '에너지', '가족', '속도감', 'gd', '몽환', '왜이리딱딱한것이냐', '빠른비트', '힙스터', '라이징스타', 'duet', '나만알기아까운노래', '히피', '김영후', '꾸준히업뎃', '퀸덤원곡모음', '댄스신에', '자연주의', '운동할때듣는', '불면증', '클럽노래', 'popular', '어버이날', '가요', '발레', '여름밤', '가을밤', '내취향', '파티', '댄스곡', '찬송', '비오는날', '어쿠스틱', '팝재즈', '밤에듣기좋은노래', '관악기', '빌로우', '우주소녀', '흥겨운', '인디음악', '재즈힙합', '맥주펍', 'young', '격렬함', '일렉트로니카', '월드뮤직', '신맛', '버스', '거슈윈', '일발장전', '남성적인', '잔디', 'gz', '1980년대', '출근', '졸릴때', '김광민', '1990', 'rockisnotdead', '뉴페이스', '민중가요', '빌보드핫차트', '마약', '바이준', 'mtv', '기분', '여행', '스밍', '뺏고싶다', '감각적인', '캐롤', '비_오는_날', '바캉스', '불금', '새벽', '퓨쳐베이스', '영화클래식', '조용한음악', '팝송추천', '내적댄스', '아메리칸클래식', '이태원', '봄캐롤', 'indie', '몽환한', '저스디스', 'greenday', 'jpop', '5월_4주차', '운동', '퓨전재즈', '슈게이징', '빌보드핫100', '미국클래식', '흐린날', '이브', '듀엣', '관현악', 'summer', 'bgm', '아이돌', '힙존', '한동윤', '들을거없을때', '흥얼흥얼', '요가', '아련', '펑크락', '힐링테라피요가', '오후', '기리보이의노래는길이보인다', '피트니스', '신날때', 'classic', '공연', '모던', '피톤치드', '뮤지션', '실험', '명작', '카톡', 'hipster', '파란', '쓸쓸한', '이미지는_직접찍은사진', '쇼미', '산책', '더위', '런닝', '운동할때', '보이스', '일요일', '위대함', '스윙재즈', '유니크', '인디곡', '플레이리스트', '아무노래', '리듬앤블루스', 'metal', 'futurebass', '아기동요', '스윙', '청량함', '밤', '연애중', '눈물', '노래', '누군가생각날때', '설렘', 'chill', '연주', '마음을감싸주는', '센치한', '태교클래식', '나른한', '시티팝', '클럽음악', '차막힐때', '생각', '클럽', '잔잔한음악', '노래모음', 'newhopeclub', '힙합클럽', '2000년대', '현섭', '걸그룹', '조용히', '주말', '싱어송라이터', '자기전에', '여운', 'groove', '환상적인', '음악', '힙합갬성', '늦잠', '초록빛', '리드미컬', '젝스키스', '스타일리쉬', '따스한', '중음', '시원', 'rnbsoul', '인디밴드', 'rock', '남자아이돌', '빗물같은', '한번쯤은'}\n"
     ]
    }
   ],
   "source": [
    "lower_tag_set = make_tag_set(lower_data)\n",
    "print(lower_tag_set)"
   ]
  },
  {
   "cell_type": "code",
   "execution_count": null,
   "id": "c8f1c309",
   "metadata": {},
   "outputs": [],
   "source": []
  }
 ],
 "metadata": {
  "kernelspec": {
   "display_name": "Python 3 (ipykernel)",
   "language": "python",
   "name": "python3"
  },
  "language_info": {
   "codemirror_mode": {
    "name": "ipython",
    "version": 3
   },
   "file_extension": ".py",
   "mimetype": "text/x-python",
   "name": "python",
   "nbconvert_exporter": "python",
   "pygments_lexer": "ipython3",
   "version": "3.9.12"
  }
 },
 "nbformat": 4,
 "nbformat_minor": 5
}
