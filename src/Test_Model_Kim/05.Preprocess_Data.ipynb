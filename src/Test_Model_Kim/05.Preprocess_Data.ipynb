{
 "cells": [
  {
   "cell_type": "markdown",
   "id": "f54d3eb6",
   "metadata": {},
   "source": [
    "## 사용하는 패키지들"
   ]
  },
  {
   "cell_type": "code",
   "execution_count": 1,
   "id": "78c22073",
   "metadata": {},
   "outputs": [],
   "source": [
    "import json\n",
    "import pandas as pd\n",
    "\n",
    "import re"
   ]
  },
  {
   "cell_type": "markdown",
   "id": "ac4bd951",
   "metadata": {},
   "source": [
    "## 데이터 로드"
   ]
  },
  {
   "cell_type": "code",
   "execution_count": 2,
   "id": "e6b5270e",
   "metadata": {},
   "outputs": [],
   "source": [
    "with open('../Datasets/train.json', 'r', encoding='utf-8') as f:\n",
    "    json_data = json.load(f)"
   ]
  },
  {
   "cell_type": "code",
   "execution_count": 3,
   "id": "da1e9ec2",
   "metadata": {},
   "outputs": [
    {
     "data": {
      "text/html": [
       "<div>\n",
       "<style scoped>\n",
       "    .dataframe tbody tr th:only-of-type {\n",
       "        vertical-align: middle;\n",
       "    }\n",
       "\n",
       "    .dataframe tbody tr th {\n",
       "        vertical-align: top;\n",
       "    }\n",
       "\n",
       "    .dataframe thead th {\n",
       "        text-align: right;\n",
       "    }\n",
       "</style>\n",
       "<table border=\"1\" class=\"dataframe\">\n",
       "  <thead>\n",
       "    <tr style=\"text-align: right;\">\n",
       "      <th></th>\n",
       "      <th>tags</th>\n",
       "      <th>songs</th>\n",
       "      <th>like_cnt</th>\n",
       "    </tr>\n",
       "  </thead>\n",
       "  <tbody>\n",
       "    <tr>\n",
       "      <th>0</th>\n",
       "      <td>[락]</td>\n",
       "      <td>[525514, 129701, 383374, 562083, 297861, 13954...</td>\n",
       "      <td>71</td>\n",
       "    </tr>\n",
       "    <tr>\n",
       "      <th>1</th>\n",
       "      <td>[추억, 회상]</td>\n",
       "      <td>[432406, 675945, 497066, 120377, 389529, 24427...</td>\n",
       "      <td>1</td>\n",
       "    </tr>\n",
       "    <tr>\n",
       "      <th>2</th>\n",
       "      <td>[까페, 잔잔한]</td>\n",
       "      <td>[83116, 276692, 166267, 186301, 354465, 256598...</td>\n",
       "      <td>17</td>\n",
       "    </tr>\n",
       "    <tr>\n",
       "      <th>3</th>\n",
       "      <td>[연말, 눈오는날, 캐럴, 분위기, 따듯한, 크리스마스캐럴, 겨울노래, 크리스마스,...</td>\n",
       "      <td>[394031, 195524, 540149, 287984, 440773, 10033...</td>\n",
       "      <td>33</td>\n",
       "    </tr>\n",
       "    <tr>\n",
       "      <th>4</th>\n",
       "      <td>[댄스]</td>\n",
       "      <td>[159327, 553610, 5130, 645103, 294435, 100657,...</td>\n",
       "      <td>9</td>\n",
       "    </tr>\n",
       "  </tbody>\n",
       "</table>\n",
       "</div>"
      ],
      "text/plain": [
       "                                                tags  \\\n",
       "0                                                [락]   \n",
       "1                                           [추억, 회상]   \n",
       "2                                          [까페, 잔잔한]   \n",
       "3  [연말, 눈오는날, 캐럴, 분위기, 따듯한, 크리스마스캐럴, 겨울노래, 크리스마스,...   \n",
       "4                                               [댄스]   \n",
       "\n",
       "                                               songs  like_cnt  \n",
       "0  [525514, 129701, 383374, 562083, 297861, 13954...        71  \n",
       "1  [432406, 675945, 497066, 120377, 389529, 24427...         1  \n",
       "2  [83116, 276692, 166267, 186301, 354465, 256598...        17  \n",
       "3  [394031, 195524, 540149, 287984, 440773, 10033...        33  \n",
       "4  [159327, 553610, 5130, 645103, 294435, 100657,...         9  "
      ]
     },
     "execution_count": 3,
     "metadata": {},
     "output_type": "execute_result"
    }
   ],
   "source": [
    "train_data = pd.DataFrame(json_data)\n",
    "train_data = train_data.drop(['id', 'plylst_title', 'updt_date'], axis=1)\n",
    "train_data.head()"
   ]
  },
  {
   "cell_type": "code",
   "execution_count": 4,
   "id": "83f270bf",
   "metadata": {},
   "outputs": [],
   "source": [
    "with open('../Datasets/song_meta.json', 'r', encoding='utf-8') as f:\n",
    "    json_data = json.load(f)"
   ]
  },
  {
   "cell_type": "code",
   "execution_count": 5,
   "id": "f3055b54",
   "metadata": {},
   "outputs": [
    {
     "data": {
      "text/html": [
       "<div>\n",
       "<style scoped>\n",
       "    .dataframe tbody tr th:only-of-type {\n",
       "        vertical-align: middle;\n",
       "    }\n",
       "\n",
       "    .dataframe tbody tr th {\n",
       "        vertical-align: top;\n",
       "    }\n",
       "\n",
       "    .dataframe thead th {\n",
       "        text-align: right;\n",
       "    }\n",
       "</style>\n",
       "<table border=\"1\" class=\"dataframe\">\n",
       "  <thead>\n",
       "    <tr style=\"text-align: right;\">\n",
       "      <th></th>\n",
       "      <th>song_gn_dtl_gnr_basket</th>\n",
       "      <th>issue_date</th>\n",
       "      <th>album_id</th>\n",
       "      <th>artist_id_basket</th>\n",
       "      <th>song_name</th>\n",
       "      <th>artist_name_basket</th>\n",
       "      <th>id</th>\n",
       "    </tr>\n",
       "  </thead>\n",
       "  <tbody>\n",
       "    <tr>\n",
       "      <th>0</th>\n",
       "      <td>[GN0901]</td>\n",
       "      <td>20140512</td>\n",
       "      <td>2255639</td>\n",
       "      <td>[2727]</td>\n",
       "      <td>Feelings</td>\n",
       "      <td>[Various Artists]</td>\n",
       "      <td>0</td>\n",
       "    </tr>\n",
       "    <tr>\n",
       "      <th>1</th>\n",
       "      <td>[GN1601, GN1606]</td>\n",
       "      <td>20080421</td>\n",
       "      <td>376431</td>\n",
       "      <td>[29966]</td>\n",
       "      <td>Bach : Partita No. 4 In D Major, BWV 828 - II....</td>\n",
       "      <td>[Murray Perahia]</td>\n",
       "      <td>1</td>\n",
       "    </tr>\n",
       "    <tr>\n",
       "      <th>2</th>\n",
       "      <td>[GN0901]</td>\n",
       "      <td>20180518</td>\n",
       "      <td>4698747</td>\n",
       "      <td>[3361]</td>\n",
       "      <td>Solsbury Hill (Remastered 2002)</td>\n",
       "      <td>[Peter Gabriel]</td>\n",
       "      <td>2</td>\n",
       "    </tr>\n",
       "    <tr>\n",
       "      <th>3</th>\n",
       "      <td>[GN1102, GN1101]</td>\n",
       "      <td>20151016</td>\n",
       "      <td>2644882</td>\n",
       "      <td>[838543]</td>\n",
       "      <td>Feeling Right (Everything Is Nice) (Feat. Popc...</td>\n",
       "      <td>[Matoma]</td>\n",
       "      <td>3</td>\n",
       "    </tr>\n",
       "    <tr>\n",
       "      <th>4</th>\n",
       "      <td>[GN1802, GN1801]</td>\n",
       "      <td>20110824</td>\n",
       "      <td>2008470</td>\n",
       "      <td>[560160]</td>\n",
       "      <td>그남자 그여자</td>\n",
       "      <td>[Jude Law]</td>\n",
       "      <td>4</td>\n",
       "    </tr>\n",
       "  </tbody>\n",
       "</table>\n",
       "</div>"
      ],
      "text/plain": [
       "  song_gn_dtl_gnr_basket issue_date  album_id artist_id_basket  \\\n",
       "0               [GN0901]   20140512   2255639           [2727]   \n",
       "1       [GN1601, GN1606]   20080421    376431          [29966]   \n",
       "2               [GN0901]   20180518   4698747           [3361]   \n",
       "3       [GN1102, GN1101]   20151016   2644882         [838543]   \n",
       "4       [GN1802, GN1801]   20110824   2008470         [560160]   \n",
       "\n",
       "                                           song_name artist_name_basket  id  \n",
       "0                                           Feelings  [Various Artists]   0  \n",
       "1  Bach : Partita No. 4 In D Major, BWV 828 - II....   [Murray Perahia]   1  \n",
       "2                    Solsbury Hill (Remastered 2002)    [Peter Gabriel]   2  \n",
       "3  Feeling Right (Everything Is Nice) (Feat. Popc...           [Matoma]   3  \n",
       "4                                            그남자 그여자         [Jude Law]   4  "
      ]
     },
     "execution_count": 5,
     "metadata": {},
     "output_type": "execute_result"
    }
   ],
   "source": [
    "song_data = pd.DataFrame(json_data)\n",
    "song_data = song_data.drop(['album_name', 'song_gn_gnr_basket'], axis=1)\n",
    "song_data.head()"
   ]
  },
  {
   "cell_type": "markdown",
   "id": "e3d5f275",
   "metadata": {},
   "source": [
    "## 데이터 열 이름 변경"
   ]
  },
  {
   "cell_type": "code",
   "execution_count": 6,
   "id": "9be76656",
   "metadata": {},
   "outputs": [
    {
     "data": {
      "text/html": [
       "<div>\n",
       "<style scoped>\n",
       "    .dataframe tbody tr th:only-of-type {\n",
       "        vertical-align: middle;\n",
       "    }\n",
       "\n",
       "    .dataframe tbody tr th {\n",
       "        vertical-align: top;\n",
       "    }\n",
       "\n",
       "    .dataframe thead th {\n",
       "        text-align: right;\n",
       "    }\n",
       "</style>\n",
       "<table border=\"1\" class=\"dataframe\">\n",
       "  <thead>\n",
       "    <tr style=\"text-align: right;\">\n",
       "      <th></th>\n",
       "      <th>tags</th>\n",
       "      <th>song_id</th>\n",
       "      <th>like_cnt</th>\n",
       "    </tr>\n",
       "  </thead>\n",
       "  <tbody>\n",
       "    <tr>\n",
       "      <th>0</th>\n",
       "      <td>[락]</td>\n",
       "      <td>[525514, 129701, 383374, 562083, 297861, 13954...</td>\n",
       "      <td>71</td>\n",
       "    </tr>\n",
       "    <tr>\n",
       "      <th>1</th>\n",
       "      <td>[추억, 회상]</td>\n",
       "      <td>[432406, 675945, 497066, 120377, 389529, 24427...</td>\n",
       "      <td>1</td>\n",
       "    </tr>\n",
       "    <tr>\n",
       "      <th>2</th>\n",
       "      <td>[까페, 잔잔한]</td>\n",
       "      <td>[83116, 276692, 166267, 186301, 354465, 256598...</td>\n",
       "      <td>17</td>\n",
       "    </tr>\n",
       "    <tr>\n",
       "      <th>3</th>\n",
       "      <td>[연말, 눈오는날, 캐럴, 분위기, 따듯한, 크리스마스캐럴, 겨울노래, 크리스마스,...</td>\n",
       "      <td>[394031, 195524, 540149, 287984, 440773, 10033...</td>\n",
       "      <td>33</td>\n",
       "    </tr>\n",
       "    <tr>\n",
       "      <th>4</th>\n",
       "      <td>[댄스]</td>\n",
       "      <td>[159327, 553610, 5130, 645103, 294435, 100657,...</td>\n",
       "      <td>9</td>\n",
       "    </tr>\n",
       "  </tbody>\n",
       "</table>\n",
       "</div>"
      ],
      "text/plain": [
       "                                                tags  \\\n",
       "0                                                [락]   \n",
       "1                                           [추억, 회상]   \n",
       "2                                          [까페, 잔잔한]   \n",
       "3  [연말, 눈오는날, 캐럴, 분위기, 따듯한, 크리스마스캐럴, 겨울노래, 크리스마스,...   \n",
       "4                                               [댄스]   \n",
       "\n",
       "                                             song_id  like_cnt  \n",
       "0  [525514, 129701, 383374, 562083, 297861, 13954...        71  \n",
       "1  [432406, 675945, 497066, 120377, 389529, 24427...         1  \n",
       "2  [83116, 276692, 166267, 186301, 354465, 256598...        17  \n",
       "3  [394031, 195524, 540149, 287984, 440773, 10033...        33  \n",
       "4  [159327, 553610, 5130, 645103, 294435, 100657,...         9  "
      ]
     },
     "execution_count": 6,
     "metadata": {},
     "output_type": "execute_result"
    }
   ],
   "source": [
    "train_data.rename(columns={'songs':'song_id'}, inplace=True)\n",
    "train_data.head()"
   ]
  },
  {
   "cell_type": "code",
   "execution_count": 7,
   "id": "030f1f33",
   "metadata": {},
   "outputs": [
    {
     "data": {
      "text/html": [
       "<div>\n",
       "<style scoped>\n",
       "    .dataframe tbody tr th:only-of-type {\n",
       "        vertical-align: middle;\n",
       "    }\n",
       "\n",
       "    .dataframe tbody tr th {\n",
       "        vertical-align: top;\n",
       "    }\n",
       "\n",
       "    .dataframe thead th {\n",
       "        text-align: right;\n",
       "    }\n",
       "</style>\n",
       "<table border=\"1\" class=\"dataframe\">\n",
       "  <thead>\n",
       "    <tr style=\"text-align: right;\">\n",
       "      <th></th>\n",
       "      <th>gnr</th>\n",
       "      <th>issue_date</th>\n",
       "      <th>album_id</th>\n",
       "      <th>artist_id_basket</th>\n",
       "      <th>song_name</th>\n",
       "      <th>artist_name_basket</th>\n",
       "      <th>song_id</th>\n",
       "    </tr>\n",
       "  </thead>\n",
       "  <tbody>\n",
       "    <tr>\n",
       "      <th>0</th>\n",
       "      <td>[GN0901]</td>\n",
       "      <td>20140512</td>\n",
       "      <td>2255639</td>\n",
       "      <td>[2727]</td>\n",
       "      <td>Feelings</td>\n",
       "      <td>[Various Artists]</td>\n",
       "      <td>0</td>\n",
       "    </tr>\n",
       "    <tr>\n",
       "      <th>1</th>\n",
       "      <td>[GN1601, GN1606]</td>\n",
       "      <td>20080421</td>\n",
       "      <td>376431</td>\n",
       "      <td>[29966]</td>\n",
       "      <td>Bach : Partita No. 4 In D Major, BWV 828 - II....</td>\n",
       "      <td>[Murray Perahia]</td>\n",
       "      <td>1</td>\n",
       "    </tr>\n",
       "    <tr>\n",
       "      <th>2</th>\n",
       "      <td>[GN0901]</td>\n",
       "      <td>20180518</td>\n",
       "      <td>4698747</td>\n",
       "      <td>[3361]</td>\n",
       "      <td>Solsbury Hill (Remastered 2002)</td>\n",
       "      <td>[Peter Gabriel]</td>\n",
       "      <td>2</td>\n",
       "    </tr>\n",
       "    <tr>\n",
       "      <th>3</th>\n",
       "      <td>[GN1102, GN1101]</td>\n",
       "      <td>20151016</td>\n",
       "      <td>2644882</td>\n",
       "      <td>[838543]</td>\n",
       "      <td>Feeling Right (Everything Is Nice) (Feat. Popc...</td>\n",
       "      <td>[Matoma]</td>\n",
       "      <td>3</td>\n",
       "    </tr>\n",
       "    <tr>\n",
       "      <th>4</th>\n",
       "      <td>[GN1802, GN1801]</td>\n",
       "      <td>20110824</td>\n",
       "      <td>2008470</td>\n",
       "      <td>[560160]</td>\n",
       "      <td>그남자 그여자</td>\n",
       "      <td>[Jude Law]</td>\n",
       "      <td>4</td>\n",
       "    </tr>\n",
       "  </tbody>\n",
       "</table>\n",
       "</div>"
      ],
      "text/plain": [
       "                gnr  issue_date  album_id artist_id_basket  \\\n",
       "0          [GN0901]    20140512   2255639           [2727]   \n",
       "1  [GN1601, GN1606]    20080421    376431          [29966]   \n",
       "2          [GN0901]    20180518   4698747           [3361]   \n",
       "3  [GN1102, GN1101]    20151016   2644882         [838543]   \n",
       "4  [GN1802, GN1801]    20110824   2008470         [560160]   \n",
       "\n",
       "                                           song_name artist_name_basket  \\\n",
       "0                                           Feelings  [Various Artists]   \n",
       "1  Bach : Partita No. 4 In D Major, BWV 828 - II....   [Murray Perahia]   \n",
       "2                    Solsbury Hill (Remastered 2002)    [Peter Gabriel]   \n",
       "3  Feeling Right (Everything Is Nice) (Feat. Popc...           [Matoma]   \n",
       "4                                            그남자 그여자         [Jude Law]   \n",
       "\n",
       "   song_id  \n",
       "0        0  \n",
       "1        1  \n",
       "2        2  \n",
       "3        3  \n",
       "4        4  "
      ]
     },
     "execution_count": 7,
     "metadata": {},
     "output_type": "execute_result"
    }
   ],
   "source": [
    "song_data.rename(columns={'id':'song_id', 'song_gn_dtl_gnr_basket': 'gnr'}, inplace=True)\n",
    "song_data = song_data.astype({'issue_date':'int64'})\n",
    "song_data.head()"
   ]
  },
  {
   "cell_type": "markdown",
   "id": "11b0ea70",
   "metadata": {},
   "source": [
    "## 데이터 추출\n",
    "\n",
    "- 500개의 플레이리스트 추출"
   ]
  },
  {
   "cell_type": "code",
   "execution_count": 8,
   "id": "0b380cb8",
   "metadata": {},
   "outputs": [],
   "source": [
    "train_data_sample = train_data[:500]"
   ]
  },
  {
   "cell_type": "markdown",
   "id": "86cc796a",
   "metadata": {},
   "source": [
    "## 데이터 병합"
   ]
  },
  {
   "cell_type": "code",
   "execution_count": 18,
   "id": "c8c33f74",
   "metadata": {},
   "outputs": [
    {
     "data": {
      "text/html": [
       "<div>\n",
       "<style scoped>\n",
       "    .dataframe tbody tr th:only-of-type {\n",
       "        vertical-align: middle;\n",
       "    }\n",
       "\n",
       "    .dataframe tbody tr th {\n",
       "        vertical-align: top;\n",
       "    }\n",
       "\n",
       "    .dataframe thead th {\n",
       "        text-align: right;\n",
       "    }\n",
       "</style>\n",
       "<table border=\"1\" class=\"dataframe\">\n",
       "  <thead>\n",
       "    <tr style=\"text-align: right;\">\n",
       "      <th></th>\n",
       "      <th>tags</th>\n",
       "      <th>song_id</th>\n",
       "      <th>like_cnt</th>\n",
       "    </tr>\n",
       "  </thead>\n",
       "  <tbody>\n",
       "    <tr>\n",
       "      <th>0</th>\n",
       "      <td>[락]</td>\n",
       "      <td>525514</td>\n",
       "      <td>71</td>\n",
       "    </tr>\n",
       "    <tr>\n",
       "      <th>1</th>\n",
       "      <td>[락]</td>\n",
       "      <td>129701</td>\n",
       "      <td>71</td>\n",
       "    </tr>\n",
       "    <tr>\n",
       "      <th>2</th>\n",
       "      <td>[락]</td>\n",
       "      <td>383374</td>\n",
       "      <td>71</td>\n",
       "    </tr>\n",
       "    <tr>\n",
       "      <th>3</th>\n",
       "      <td>[락]</td>\n",
       "      <td>562083</td>\n",
       "      <td>71</td>\n",
       "    </tr>\n",
       "    <tr>\n",
       "      <th>4</th>\n",
       "      <td>[락]</td>\n",
       "      <td>297861</td>\n",
       "      <td>71</td>\n",
       "    </tr>\n",
       "  </tbody>\n",
       "</table>\n",
       "</div>"
      ],
      "text/plain": [
       "  tags song_id  like_cnt\n",
       "0  [락]  525514        71\n",
       "1  [락]  129701        71\n",
       "2  [락]  383374        71\n",
       "3  [락]  562083        71\n",
       "4  [락]  297861        71"
      ]
     },
     "execution_count": 18,
     "metadata": {},
     "output_type": "execute_result"
    }
   ],
   "source": [
    "train_data_explode = train_data_sample.explode('song_id', ignore_index=True)\n",
    "train_data_explode.head()"
   ]
  },
  {
   "cell_type": "code",
   "execution_count": 19,
   "id": "287b8e58",
   "metadata": {},
   "outputs": [
    {
     "name": "stdout",
     "output_type": "stream",
     "text": [
      "{'스트레스해소', 'kpop', '댄스', '여자아이돌', '걸그룹댄스'}\n"
     ]
    }
   ],
   "source": [
    "train_dict = dict()\n",
    "\n",
    "for i in range(len(train_data_explode)):\n",
    "    song = train_data_explode['song_id'][i]\n",
    "    tag = train_data_explode['tags'][i]\n",
    "    \n",
    "    if song in train_dict:\n",
    "        for j in tag:\n",
    "            train_dict[song].add(j)\n",
    "    \n",
    "    else:\n",
    "        train_dict[song] = set(tag)\n",
    "        \n",
    "print(train_dict[157435])"
   ]
  },
  {
   "cell_type": "code",
   "execution_count": 20,
   "id": "0bb4befe",
   "metadata": {},
   "outputs": [
    {
     "data": {
      "text/plain": [
       "(16674, 3)"
      ]
     },
     "execution_count": 20,
     "metadata": {},
     "output_type": "execute_result"
    }
   ],
   "source": [
    "train_data_explode.drop_duplicates(subset='song_id', keep='first',inplace=True)\n",
    "train_data_explode.shape"
   ]
  },
  {
   "cell_type": "code",
   "execution_count": 21,
   "id": "f15ab97a",
   "metadata": {},
   "outputs": [
    {
     "name": "stderr",
     "output_type": "stream",
     "text": [
      "C:\\Users\\user\\AppData\\Local\\Temp\\ipykernel_14128\\452334564.py:4: SettingWithCopyWarning: \n",
      "A value is trying to be set on a copy of a slice from a DataFrame\n",
      "\n",
      "See the caveats in the documentation: https://pandas.pydata.org/pandas-docs/stable/user_guide/indexing.html#returning-a-view-versus-a-copy\n",
      "  train_data_explode['tags'].iloc[i] = list(train_dict[song])\n"
     ]
    },
    {
     "data": {
      "text/html": [
       "<div>\n",
       "<style scoped>\n",
       "    .dataframe tbody tr th:only-of-type {\n",
       "        vertical-align: middle;\n",
       "    }\n",
       "\n",
       "    .dataframe tbody tr th {\n",
       "        vertical-align: top;\n",
       "    }\n",
       "\n",
       "    .dataframe thead th {\n",
       "        text-align: right;\n",
       "    }\n",
       "</style>\n",
       "<table border=\"1\" class=\"dataframe\">\n",
       "  <thead>\n",
       "    <tr style=\"text-align: right;\">\n",
       "      <th></th>\n",
       "      <th>tags</th>\n",
       "      <th>song_id</th>\n",
       "      <th>like_cnt</th>\n",
       "    </tr>\n",
       "  </thead>\n",
       "  <tbody>\n",
       "    <tr>\n",
       "      <th>0</th>\n",
       "      <td>[락]</td>\n",
       "      <td>525514</td>\n",
       "      <td>71</td>\n",
       "    </tr>\n",
       "    <tr>\n",
       "      <th>1</th>\n",
       "      <td>[락]</td>\n",
       "      <td>129701</td>\n",
       "      <td>71</td>\n",
       "    </tr>\n",
       "    <tr>\n",
       "      <th>2</th>\n",
       "      <td>[락]</td>\n",
       "      <td>383374</td>\n",
       "      <td>71</td>\n",
       "    </tr>\n",
       "    <tr>\n",
       "      <th>3</th>\n",
       "      <td>[락]</td>\n",
       "      <td>562083</td>\n",
       "      <td>71</td>\n",
       "    </tr>\n",
       "    <tr>\n",
       "      <th>4</th>\n",
       "      <td>[락]</td>\n",
       "      <td>297861</td>\n",
       "      <td>71</td>\n",
       "    </tr>\n",
       "  </tbody>\n",
       "</table>\n",
       "</div>"
      ],
      "text/plain": [
       "  tags song_id  like_cnt\n",
       "0  [락]  525514        71\n",
       "1  [락]  129701        71\n",
       "2  [락]  383374        71\n",
       "3  [락]  562083        71\n",
       "4  [락]  297861        71"
      ]
     },
     "execution_count": 21,
     "metadata": {},
     "output_type": "execute_result"
    }
   ],
   "source": [
    "for i in range(len(train_data_explode)):\n",
    "    song = train_data_explode['song_id'].iloc[i]\n",
    "    \n",
    "    train_data_explode['tags'].iloc[i] = list(train_dict[song])\n",
    "\n",
    "train_data_explode.head()"
   ]
  },
  {
   "cell_type": "code",
   "execution_count": 22,
   "id": "e86d1d89",
   "metadata": {},
   "outputs": [
    {
     "data": {
      "text/html": [
       "<div>\n",
       "<style scoped>\n",
       "    .dataframe tbody tr th:only-of-type {\n",
       "        vertical-align: middle;\n",
       "    }\n",
       "\n",
       "    .dataframe tbody tr th {\n",
       "        vertical-align: top;\n",
       "    }\n",
       "\n",
       "    .dataframe thead th {\n",
       "        text-align: right;\n",
       "    }\n",
       "</style>\n",
       "<table border=\"1\" class=\"dataframe\">\n",
       "  <thead>\n",
       "    <tr style=\"text-align: right;\">\n",
       "      <th></th>\n",
       "      <th>tags</th>\n",
       "      <th>song_id</th>\n",
       "      <th>like_cnt</th>\n",
       "      <th>gnr</th>\n",
       "      <th>issue_date</th>\n",
       "      <th>album_id</th>\n",
       "      <th>artist_id_basket</th>\n",
       "      <th>song_name</th>\n",
       "      <th>artist_name_basket</th>\n",
       "    </tr>\n",
       "  </thead>\n",
       "  <tbody>\n",
       "    <tr>\n",
       "      <th>0</th>\n",
       "      <td>[락]</td>\n",
       "      <td>525514</td>\n",
       "      <td>71</td>\n",
       "      <td>[GN1402, GN1401]</td>\n",
       "      <td>20130506</td>\n",
       "      <td>2200223</td>\n",
       "      <td>[734201]</td>\n",
       "      <td>Hey Little Girl</td>\n",
       "      <td>[The Sol]</td>\n",
       "    </tr>\n",
       "    <tr>\n",
       "      <th>1</th>\n",
       "      <td>[락]</td>\n",
       "      <td>129701</td>\n",
       "      <td>71</td>\n",
       "      <td>[GN0901, GN0902, GN1001]</td>\n",
       "      <td>20130917</td>\n",
       "      <td>2201802</td>\n",
       "      <td>[536907]</td>\n",
       "      <td>Octagon</td>\n",
       "      <td>[Royal Bangs]</td>\n",
       "    </tr>\n",
       "    <tr>\n",
       "      <th>2</th>\n",
       "      <td>[락]</td>\n",
       "      <td>383374</td>\n",
       "      <td>71</td>\n",
       "      <td>[GN1012, GN1005, GN1001]</td>\n",
       "      <td>19911021</td>\n",
       "      <td>2216938</td>\n",
       "      <td>[166978]</td>\n",
       "      <td>The Road</td>\n",
       "      <td>[Honeymoon Suite]</td>\n",
       "    </tr>\n",
       "    <tr>\n",
       "      <th>3</th>\n",
       "      <td>[락]</td>\n",
       "      <td>562083</td>\n",
       "      <td>71</td>\n",
       "      <td>[GN1013, GN0901, GN0902, GN1001]</td>\n",
       "      <td>20000919</td>\n",
       "      <td>43227</td>\n",
       "      <td>[19035]</td>\n",
       "      <td>Honeymoon</td>\n",
       "      <td>[Phoenix]</td>\n",
       "    </tr>\n",
       "    <tr>\n",
       "      <th>4</th>\n",
       "      <td>[락]</td>\n",
       "      <td>297861</td>\n",
       "      <td>71</td>\n",
       "      <td>[GN1013, GN0901, GN0902, GN1001]</td>\n",
       "      <td>20050306</td>\n",
       "      <td>303657</td>\n",
       "      <td>[170117]</td>\n",
       "      <td>High</td>\n",
       "      <td>[James Blunt]</td>\n",
       "    </tr>\n",
       "  </tbody>\n",
       "</table>\n",
       "</div>"
      ],
      "text/plain": [
       "  tags  song_id  like_cnt                               gnr  issue_date  \\\n",
       "0  [락]   525514        71                  [GN1402, GN1401]    20130506   \n",
       "1  [락]   129701        71          [GN0901, GN0902, GN1001]    20130917   \n",
       "2  [락]   383374        71          [GN1012, GN1005, GN1001]    19911021   \n",
       "3  [락]   562083        71  [GN1013, GN0901, GN0902, GN1001]    20000919   \n",
       "4  [락]   297861        71  [GN1013, GN0901, GN0902, GN1001]    20050306   \n",
       "\n",
       "   album_id artist_id_basket        song_name artist_name_basket  \n",
       "0   2200223         [734201]  Hey Little Girl          [The Sol]  \n",
       "1   2201802         [536907]          Octagon      [Royal Bangs]  \n",
       "2   2216938         [166978]         The Road  [Honeymoon Suite]  \n",
       "3     43227          [19035]        Honeymoon          [Phoenix]  \n",
       "4    303657         [170117]             High      [James Blunt]  "
      ]
     },
     "execution_count": 22,
     "metadata": {},
     "output_type": "execute_result"
    }
   ],
   "source": [
    "song_tag_appended = pd.merge(train_data_explode, song_data)\n",
    "song_tag_appended = song_tag_appended.astype({'song_id':'int64'})\n",
    "song_tag_appended.head()"
   ]
  },
  {
   "cell_type": "code",
   "execution_count": 23,
   "id": "4a651f5f",
   "metadata": {},
   "outputs": [
    {
     "name": "stdout",
     "output_type": "stream",
     "text": [
      "<class 'pandas.core.frame.DataFrame'>\n",
      "Int64Index: 16674 entries, 0 to 16673\n",
      "Data columns (total 9 columns):\n",
      " #   Column              Non-Null Count  Dtype \n",
      "---  ------              --------------  ----- \n",
      " 0   tags                16674 non-null  object\n",
      " 1   song_id             16674 non-null  int64 \n",
      " 2   like_cnt            16674 non-null  int64 \n",
      " 3   gnr                 16674 non-null  object\n",
      " 4   issue_date          16674 non-null  int64 \n",
      " 5   album_id            16674 non-null  int64 \n",
      " 6   artist_id_basket    16674 non-null  object\n",
      " 7   song_name           16674 non-null  object\n",
      " 8   artist_name_basket  16674 non-null  object\n",
      "dtypes: int64(4), object(5)\n",
      "memory usage: 1.3+ MB\n"
     ]
    }
   ],
   "source": [
    "song_tag_appended.info()"
   ]
  },
  {
   "cell_type": "markdown",
   "id": "9530bf49",
   "metadata": {},
   "source": [
    "## 데이터 전처리"
   ]
  },
  {
   "cell_type": "markdown",
   "id": "efd35a89",
   "metadata": {},
   "source": [
    "## 태그 세트 생성"
   ]
  },
  {
   "cell_type": "code",
   "execution_count": 24,
   "id": "0517387f",
   "metadata": {},
   "outputs": [],
   "source": [
    "def make_tag_set(data):\n",
    "    tag_set = set()\n",
    "\n",
    "    for i in range(len(data)):\n",
    "        tag = data['tags'][i]\n",
    "    \n",
    "        for j in tag:\n",
    "            tag_set.add(j)\n",
    "\n",
    "    return tag_set"
   ]
  },
  {
   "cell_type": "code",
   "execution_count": 25,
   "id": "9c140506",
   "metadata": {},
   "outputs": [
    {
     "name": "stdout",
     "output_type": "stream",
     "text": [
      "{'피트니스', '눈오는날', '다이어트', '헬스장', '재즈', '댄스신에', '밴드', '분위기좋은', '둠칫둠칫', '남녀', '엑소', '잔잔하게', '들어봤을', '달달한', 'futurebass', '따스한', '격렬함', '기분전환', '초록빛', '샤워', '연말파티', '고음병', '팝', '자연주의', '질리지않는', '환상적인', '힐링피아노연주곡', '유니크', '자연', 'GZ', '에센셜', 'Chillout', '우아한', '헤이즈', '추위', '칠링', '이루마', 'Duet', '아이돌', '소원', '태교클래식', '어쿠스틱', 'ksks', 'RNBSOUL', 'BTS', '히피', '퀸덤원곡모음', '중국음악', '펍', '눈', 'M에센셜', 'EDM', '느낌있는', '조용한', '힙한', '추천노래', '라운지', '내가좋아하는음악트랙', '매장', '댄스음악', '스윙', '랩소디인블루', '토요명화', 'Feat', '아미라면', '뺏고싶다', '목록', '피아노', 'Top100에', '뉴페이스', '퓨전재즈', '썸타는중', '자기전', '버스', '가을', '여자가수', '힘든날', '나만알기아까운노래', '파티', '아기동요', '진원', '다중음격', '다짐', '메탈', '까페', 'Chill', '아쉬움', '쓸쓸한', '키즈동화', '집', '밝은', '섹시', '스테파니', '미세먼지', 'RnB', '이슬', '이소라', '공부하며듣는', '최신', '릴랙스요가클래식', 'Metal', '가요', '파란', 'ASMR', '광고', '비와이', '국외', '외로움을', '김광민', '한번쯤', '신맛', '쓸쓸함', '지칠때', '업데이트중', 'funk', '힘내', '여름방학', '몽글', '내적댄스폭발', '필라테스', '9살', '타이틀곡', '소망', '8월', '비_오는날', '불면증', '고속도로', '인생곡들만', 'EarlySoul', '잔디', '성탄절', '후회', '기리보이', '인디', '겨울', '드라이브', '출근길', '신곡', 'CCM', '달', '카페음악', '생기', '발레', '중독성', '빅밴드', '음악추천', '여자아이돌', '빌로우', '댄스곡', '왜이리딱딱한것이냐', '바다', '해외알앤비소울', 'bgm', '보컬재즈', '분위기', '산책', '상큼한', '추억의', '슈게이징', '외국힙합노래', '달콤', '명상', '청량한', '잠', 'Maroon', '라이징스타', '사무실', '노동요', '휴일', 'YOUNG', '스타일리쉬', 'HipHop', 'Coldplay', '발라드', '쇼미더머니', '힐링노래', '독서', '빌보드핫100', '80년대', '뷰티샵', '폐막식', '커플', 'Elecronica', '쉼표', '벚꽃', 'Billboard', '믿고듣는', '유럽여행', '리드미컬', '소란', '여행', '존윌리엄스', '시험기간집중할때', '슬픔', '시티팝', '여름', '스트레스', 'WJSN', 'jazzymood', '정서발달', '유튜브', '나만들을거얌', 'SEX', '신나는노래', '패셔너블', '밤', '빗물같은', '셋리스트', '안녕', '민중가요', 'Summer', '옛날노래', '포근함', '록발라드', '해변', '쇼핑', '인싸', '가즈아', '하드록메탈', '호불호없는', '센치한날', '새벽에', '올림픽', '트렌디하게', '일상', '광동', '몽환', '들을거없을때', '연애', '카페', '노래', '시간순', '위대함', '어린이클래식', '영국', '남자아이돌', '가을이별', '겨울왕국', '자기전에', '감성힙합', '봄캐롤', '팝재즈', '외로움', '새벽감성', '모던', '6월', '1980년대', '셧업앤댄스', '퇴근길', '봄', '우울한', '아침', '잠결', '여유', '가을여행', '신날때', '아무노래', '일렉트로니카', '연말', '목장', '테크노', '스트레스해소', '1990', '히트곡', '뉴홉클', 'electronica', '일요일', '아련', 'NewHopeClub', '인디뮤직', 'MTV', '몽환한', '주간일렉트로니카', '풀내음', 'kpop', '재즈힙합', '이태원', '모닝콜', '관현악', '호호클럽', '니엘', '팝음악', '비', '방해금지', '티타임', '남성적인', '빌보드Hot50', '명품발라드', '재즈추천', '속도감', '힙합클럽', '부모님', '리스트', '싱어송라이터', '그루비', '야경', '심포닉메탈', 'rockisnotdead', '감성발라드', 'COOL', '크리스마스', '내적댄스', '운동', '퀸덤', '김영후', '멈출수없는', '야외에서듣는피아노연주곡', '자장가', '록', '달달하게', '상쾌한', '숨은명곡', '고백', '가족', '아픈', '연주곡', '샤우팅', '그냥', '하늘', '월드', '드림팝', '댄스본능', '시원', '명작', '잔잔한', 'Chirstmas', '류이치사카모토', '컴백전쟁', '너에게', '노래방', '2000', 'Instruments', '댄스', '우울할때', '힙합갬성', 'ballads', '북카페', '귀르가즘', '중국', '노래모음', '클럽음악', '슬픔의', '인디곡', '띵곡들', '감미로운', '흐린날', '국내', '홍콩', 'mood', '이별노래', '크리스마스캐럴', '음악', '멜로', '졸음운전', '조용히', '나른한', '많은곡수', '아메리칸클래식', '나만들을꺼', '트로트', 'groove', '답답함', '잔잔한음악', '옥콩', '캐롤', '2000년대', '플레이리스트', '저녁', '차막힘', '저스디스', '피쳐링', '요가', '흥얼흥얼', '로큰롤명예의전당', '운동할때', '실험', '내취향', 'Popular', '감성', 'Matisse', '설렘', '커피', '아미를위한', '추억', '캐럴', 'Jazz', '슬픈노래', 'JPOP', '배경음악', '스밍', '런쥔', '5월_4주차', '집중', '인생', '1960', '숨겨진', '뮤지션', '박지섭', '꿀', '외사랑', '아무생각없이', '사이다', 'HIPSTER', '레깅스', '오후', '무드', '마음을감싸주는', '날려버려', '엠넷', '힐링테라피요가', '좋은곡들', 'Takealook', '운동할때듣는', '팝송추천', '락', '주간', '이일우', '인디음악', '한동윤', '카페에서듣기좋은', '불금', '거짓말', '잠들기전', '뮤직카로마', '칠뮤직', '알앤비', '달달', '장마', 'before1970', '독주곡', '기분', '옥타곤', '로큰롤', '펑크락', '행복', '꿈', '아련하게', '1990년대', '겨울노래', '그냥좋은노래', '위로', 'BlackMusic', '밤에듣기좋은노래', '퓨쳐베이스', '가을동화', '런닝', '미국클래식', '모두가_흥얼흥얼', '헬스', '팝송', '꾸준히업뎃', '연휴', '라디오', '다나', '인디밴드', 'GD', '그루브', '피톤치드', '방학', '빌보드', '영화클래식', '아무거나', '가을밤', '크리스마스송', '봄노래', '도입', '피쉬슈즈', 'unplugged', '힐링', '떼껄룩', '올드팝', '걸그룹', '7살', '띵곡', '떄껄룩', '조용하게', '센치한', '잔잔함', '러브송', '따뜻한', '신인', '맥주한잔', '이미지는_직접찍은사진', '고민', '빌보드핫차트', '잔잔한팝송', '생각', '기분좋은', '펑키', '그루브한', '새해', '클래식', '동요', '스윙재즈', '공연', '듀엣', '시원한노래', '새벽', '보이스', '선데이', '발레음악', '최고의노래', '회상', '여운', '휴가', '기분업', '현섭', '텐션업', '가을감성', '오승훈', '수록곡', '몽환적인', '느껴져', '도입부', '천상지희', '태교음악', '추천곡', '멜로디', '트렌드', '인디추천', '클럽노래', '책읽을때', 'Greenday', '감성적인', '운동할때듣는음악', '에너지', '삶', '파워워킹', '봄바람', '트렌디', '인생곡', '힙합', '발랄한', '스웩', '100번', '힙합엘이', '올드송', '달달함', '따듯한', '연인', '컨트리', '카톡', '졸릴때', '걸그룹댄스', '노래추천', '뉴에이지', '독서를돕는음악', '중국노래', '바이준', '부부뮤지션', '백색소음', '바캉스', '듣고', '또는', 'Lofi', '낭만', '목요일', '끝', '더위', '연애중', '초원', '스래시메탈', '찬송', '알앤비소울', '추천', '여름밤', '드럼', '랩', '우울', '연주', '드라이브할때신나는노래', '혼자있을때', '펍노래', '짧고얕은음악지식속엄선', '공기정화', '이달의인디포크', '상쾌해지는', '출근', '디제이', '비오는날', '2010', '포크', '거슈윈', '8살', '맥주', '늦잠', 'Lizzo', '전지음악', '비트', '카카오톡', '프로그레시브하우스', '편안한명상을위한', '스타일', '맥주펍', '취향저격', '프로필음악', '국힙', '햇살', '피곤', '뉴욕도', '외로운', '8', '국내힙합', '크리스마스노래', '휴식', '콘서트', '힘들때', '바람', '귀호강', 'indie', 'OST', '인기', '추억회상', '비_오는_날', '헬스장에서운동할때듣는노래', '수면', '감각적인', '이브', 'dance', '겨울밤', '주말', 'Pop', '2017', '린아', '리듬앤블루스', '명곡', '월드뮤직', '트로피컬하우스', '기쁠때', 'playlist3', '좋아요좀눌러줘요', '오케이션', '데이트', '봄나물', '나만알고싶은', '중음', '일렉', '밴드음악', '매장음악', '햇살좋은날', '어버이날', '좋은노래', '스티비원더', '짝사랑', '90년대발라드', '미러볼뮤직', '편안한', '들었으면', '일발장전', '빅룸', '마약', '시원한', '명예의전당', '외힙', '혼자만의겨울', '7월', '기리보이의노래는길이보인다', '내한', '세련된', '프로필', '방탄소년단', '성대', '누군가생각날때', '힙존', '클럽', '공부', '젝스키스', '흥겨운', '김윤', '90년대', '아티스트', '신나는곡', '쇼미', '스포츠', '영화OST', '차막힐때', '썸', 'Rock', '일렉트로닉', 'dope', '더포앳', '아드레날린', '보이그룹', '나만알고싶은음악', '상쾌', '이별', '미술관', 'classic', '눈물', '소울', '강렬한사운드', '힙스터', '나들이', '광고음악', '이거', '비트좋은', '치명', 'uspop', '나만의Best3', '헬스장에서', '신진래퍼', '조용한음악', '그리움', '페스티벌음악', '우주소녀', '기타', '대만', '청량함', '외국펍', 'EDMFloor', '건조하고', '여름밤에듣기좋은음악', '한강', 'Sadko', '썸머', '연주음악', '사랑', '혼자', '아이돌명곡', '2016멜로디포레스트캠프', '빠른비트', '쓸쓸', '관악기', '한번쯤은', '댄스뮤직', '신나는', '언플러그드'}\n"
     ]
    }
   ],
   "source": [
    "tag_set = make_tag_set(train_data_sample)\n",
    "print(tag_set)"
   ]
  },
  {
   "cell_type": "markdown",
   "id": "ae0464dd",
   "metadata": {},
   "source": [
    "## 태그 dict 생성 함수"
   ]
  },
  {
   "cell_type": "markdown",
   "id": "e28f3867",
   "metadata": {},
   "source": [
    "## 영어 대소문자 통일\n",
    "\n",
    "- 소문자로 통일"
   ]
  },
  {
   "cell_type": "code",
   "execution_count": 26,
   "id": "d1fccfa7",
   "metadata": {},
   "outputs": [],
   "source": [
    "def make_dict_lower(tag_set):\n",
    "    tag_dict = dict()\n",
    "    \n",
    "    for i in tag_set:\n",
    "        if not i in tag_dict:\n",
    "            tag_dict[i] = i.lower()\n",
    "    \n",
    "    return tag_dict"
   ]
  },
  {
   "cell_type": "code",
   "execution_count": 27,
   "id": "ebaeec9f",
   "metadata": {},
   "outputs": [
    {
     "name": "stdout",
     "output_type": "stream",
     "text": [
      "{'피트니스': '피트니스', '눈오는날': '눈오는날', '다이어트': '다이어트', '헬스장': '헬스장', '재즈': '재즈', '댄스신에': '댄스신에', '밴드': '밴드', '분위기좋은': '분위기좋은', '둠칫둠칫': '둠칫둠칫', '남녀': '남녀', '엑소': '엑소', '잔잔하게': '잔잔하게', '들어봤을': '들어봤을', '달달한': '달달한', 'futurebass': 'futurebass', '따스한': '따스한', '격렬함': '격렬함', '기분전환': '기분전환', '초록빛': '초록빛', '샤워': '샤워', '연말파티': '연말파티', '고음병': '고음병', '팝': '팝', '자연주의': '자연주의', '질리지않는': '질리지않는', '환상적인': '환상적인', '힐링피아노연주곡': '힐링피아노연주곡', '유니크': '유니크', '자연': '자연', 'GZ': 'gz', '에센셜': '에센셜', 'Chillout': 'chillout', '우아한': '우아한', '헤이즈': '헤이즈', '추위': '추위', '칠링': '칠링', '이루마': '이루마', 'Duet': 'duet', '아이돌': '아이돌', '소원': '소원', '태교클래식': '태교클래식', '어쿠스틱': '어쿠스틱', 'ksks': 'ksks', 'RNBSOUL': 'rnbsoul', 'BTS': 'bts', '히피': '히피', '퀸덤원곡모음': '퀸덤원곡모음', '중국음악': '중국음악', '펍': '펍', '눈': '눈', 'M에센셜': 'm에센셜', 'EDM': 'edm', '느낌있는': '느낌있는', '조용한': '조용한', '힙한': '힙한', '추천노래': '추천노래', '라운지': '라운지', '내가좋아하는음악트랙': '내가좋아하는음악트랙', '매장': '매장', '댄스음악': '댄스음악', '스윙': '스윙', '랩소디인블루': '랩소디인블루', '토요명화': '토요명화', 'Feat': 'feat', '아미라면': '아미라면', '뺏고싶다': '뺏고싶다', '목록': '목록', '피아노': '피아노', 'Top100에': 'top100에', '뉴페이스': '뉴페이스', '퓨전재즈': '퓨전재즈', '썸타는중': '썸타는중', '자기전': '자기전', '버스': '버스', '가을': '가을', '여자가수': '여자가수', '힘든날': '힘든날', '나만알기아까운노래': '나만알기아까운노래', '파티': '파티', '아기동요': '아기동요', '진원': '진원', '다중음격': '다중음격', '다짐': '다짐', '메탈': '메탈', '까페': '까페', 'Chill': 'chill', '아쉬움': '아쉬움', '쓸쓸한': '쓸쓸한', '키즈동화': '키즈동화', '집': '집', '밝은': '밝은', '섹시': '섹시', '스테파니': '스테파니', '미세먼지': '미세먼지', 'RnB': 'rnb', '이슬': '이슬', '이소라': '이소라', '공부하며듣는': '공부하며듣는', '최신': '최신', '릴랙스요가클래식': '릴랙스요가클래식', 'Metal': 'metal', '가요': '가요', '파란': '파란', 'ASMR': 'asmr', '광고': '광고', '비와이': '비와이', '국외': '국외', '외로움을': '외로움을', '김광민': '김광민', '한번쯤': '한번쯤', '신맛': '신맛', '쓸쓸함': '쓸쓸함', '지칠때': '지칠때', '업데이트중': '업데이트중', 'funk': 'funk', '힘내': '힘내', '여름방학': '여름방학', '몽글': '몽글', '내적댄스폭발': '내적댄스폭발', '필라테스': '필라테스', '9살': '9살', '타이틀곡': '타이틀곡', '소망': '소망', '8월': '8월', '비_오는날': '비_오는날', '불면증': '불면증', '고속도로': '고속도로', '인생곡들만': '인생곡들만', 'EarlySoul': 'earlysoul', '잔디': '잔디', '성탄절': '성탄절', '후회': '후회', '기리보이': '기리보이', '인디': '인디', '겨울': '겨울', '드라이브': '드라이브', '출근길': '출근길', '신곡': '신곡', 'CCM': 'ccm', '달': '달', '카페음악': '카페음악', '생기': '생기', '발레': '발레', '중독성': '중독성', '빅밴드': '빅밴드', '음악추천': '음악추천', '여자아이돌': '여자아이돌', '빌로우': '빌로우', '댄스곡': '댄스곡', '왜이리딱딱한것이냐': '왜이리딱딱한것이냐', '바다': '바다', '해외알앤비소울': '해외알앤비소울', 'bgm': 'bgm', '보컬재즈': '보컬재즈', '분위기': '분위기', '산책': '산책', '상큼한': '상큼한', '추억의': '추억의', '슈게이징': '슈게이징', '외국힙합노래': '외국힙합노래', '달콤': '달콤', '명상': '명상', '청량한': '청량한', '잠': '잠', 'Maroon': 'maroon', '라이징스타': '라이징스타', '사무실': '사무실', '노동요': '노동요', '휴일': '휴일', 'YOUNG': 'young', '스타일리쉬': '스타일리쉬', 'HipHop': 'hiphop', 'Coldplay': 'coldplay', '발라드': '발라드', '쇼미더머니': '쇼미더머니', '힐링노래': '힐링노래', '독서': '독서', '빌보드핫100': '빌보드핫100', '80년대': '80년대', '뷰티샵': '뷰티샵', '폐막식': '폐막식', '커플': '커플', 'Elecronica': 'elecronica', '쉼표': '쉼표', '벚꽃': '벚꽃', 'Billboard': 'billboard', '믿고듣는': '믿고듣는', '유럽여행': '유럽여행', '리드미컬': '리드미컬', '소란': '소란', '여행': '여행', '존윌리엄스': '존윌리엄스', '시험기간집중할때': '시험기간집중할때', '슬픔': '슬픔', '시티팝': '시티팝', '여름': '여름', '스트레스': '스트레스', 'WJSN': 'wjsn', 'jazzymood': 'jazzymood', '정서발달': '정서발달', '유튜브': '유튜브', '나만들을거얌': '나만들을거얌', 'SEX': 'sex', '신나는노래': '신나는노래', '패셔너블': '패셔너블', '밤': '밤', '빗물같은': '빗물같은', '셋리스트': '셋리스트', '안녕': '안녕', '민중가요': '민중가요', 'Summer': 'summer', '옛날노래': '옛날노래', '포근함': '포근함', '록발라드': '록발라드', '해변': '해변', '쇼핑': '쇼핑', '인싸': '인싸', '가즈아': '가즈아', '하드록메탈': '하드록메탈', '호불호없는': '호불호없는', '센치한날': '센치한날', '새벽에': '새벽에', '올림픽': '올림픽', '트렌디하게': '트렌디하게', '일상': '일상', '광동': '광동', '몽환': '몽환', '들을거없을때': '들을거없을때', '연애': '연애', '카페': '카페', '노래': '노래', '시간순': '시간순', '위대함': '위대함', '어린이클래식': '어린이클래식', '영국': '영국', '남자아이돌': '남자아이돌', '가을이별': '가을이별', '겨울왕국': '겨울왕국', '자기전에': '자기전에', '감성힙합': '감성힙합', '봄캐롤': '봄캐롤', '팝재즈': '팝재즈', '외로움': '외로움', '새벽감성': '새벽감성', '모던': '모던', '6월': '6월', '1980년대': '1980년대', '셧업앤댄스': '셧업앤댄스', '퇴근길': '퇴근길', '봄': '봄', '우울한': '우울한', '아침': '아침', '잠결': '잠결', '여유': '여유', '가을여행': '가을여행', '신날때': '신날때', '아무노래': '아무노래', '일렉트로니카': '일렉트로니카', '연말': '연말', '목장': '목장', '테크노': '테크노', '스트레스해소': '스트레스해소', '1990': '1990', '히트곡': '히트곡', '뉴홉클': '뉴홉클', 'electronica': 'electronica', '일요일': '일요일', '아련': '아련', 'NewHopeClub': 'newhopeclub', '인디뮤직': '인디뮤직', 'MTV': 'mtv', '몽환한': '몽환한', '주간일렉트로니카': '주간일렉트로니카', '풀내음': '풀내음', 'kpop': 'kpop', '재즈힙합': '재즈힙합', '이태원': '이태원', '모닝콜': '모닝콜', '관현악': '관현악', '호호클럽': '호호클럽', '니엘': '니엘', '팝음악': '팝음악', '비': '비', '방해금지': '방해금지', '티타임': '티타임', '남성적인': '남성적인', '빌보드Hot50': '빌보드hot50', '명품발라드': '명품발라드', '재즈추천': '재즈추천', '속도감': '속도감', '힙합클럽': '힙합클럽', '부모님': '부모님', '리스트': '리스트', '싱어송라이터': '싱어송라이터', '그루비': '그루비', '야경': '야경', '심포닉메탈': '심포닉메탈', 'rockisnotdead': 'rockisnotdead', '감성발라드': '감성발라드', 'COOL': 'cool', '크리스마스': '크리스마스', '내적댄스': '내적댄스', '운동': '운동', '퀸덤': '퀸덤', '김영후': '김영후', '멈출수없는': '멈출수없는', '야외에서듣는피아노연주곡': '야외에서듣는피아노연주곡', '자장가': '자장가', '록': '록', '달달하게': '달달하게', '상쾌한': '상쾌한', '숨은명곡': '숨은명곡', '고백': '고백', '가족': '가족', '아픈': '아픈', '연주곡': '연주곡', '샤우팅': '샤우팅', '그냥': '그냥', '하늘': '하늘', '월드': '월드', '드림팝': '드림팝', '댄스본능': '댄스본능', '시원': '시원', '명작': '명작', '잔잔한': '잔잔한', 'Chirstmas': 'chirstmas', '류이치사카모토': '류이치사카모토', '컴백전쟁': '컴백전쟁', '너에게': '너에게', '노래방': '노래방', '2000': '2000', 'Instruments': 'instruments', '댄스': '댄스', '우울할때': '우울할때', '힙합갬성': '힙합갬성', 'ballads': 'ballads', '북카페': '북카페', '귀르가즘': '귀르가즘', '중국': '중국', '노래모음': '노래모음', '클럽음악': '클럽음악', '슬픔의': '슬픔의', '인디곡': '인디곡', '띵곡들': '띵곡들', '감미로운': '감미로운', '흐린날': '흐린날', '국내': '국내', '홍콩': '홍콩', 'mood': 'mood', '이별노래': '이별노래', '크리스마스캐럴': '크리스마스캐럴', '음악': '음악', '멜로': '멜로', '졸음운전': '졸음운전', '조용히': '조용히', '나른한': '나른한', '많은곡수': '많은곡수', '아메리칸클래식': '아메리칸클래식', '나만들을꺼': '나만들을꺼', '트로트': '트로트', 'groove': 'groove', '답답함': '답답함', '잔잔한음악': '잔잔한음악', '옥콩': '옥콩', '캐롤': '캐롤', '2000년대': '2000년대', '플레이리스트': '플레이리스트', '저녁': '저녁', '차막힘': '차막힘', '저스디스': '저스디스', '피쳐링': '피쳐링', '요가': '요가', '흥얼흥얼': '흥얼흥얼', '로큰롤명예의전당': '로큰롤명예의전당', '운동할때': '운동할때', '실험': '실험', '내취향': '내취향', 'Popular': 'popular', '감성': '감성', 'Matisse': 'matisse', '설렘': '설렘', '커피': '커피', '아미를위한': '아미를위한', '추억': '추억', '캐럴': '캐럴', 'Jazz': 'jazz', '슬픈노래': '슬픈노래', 'JPOP': 'jpop', '배경음악': '배경음악', '스밍': '스밍', '런쥔': '런쥔', '5월_4주차': '5월_4주차', '집중': '집중', '인생': '인생', '1960': '1960', '숨겨진': '숨겨진', '뮤지션': '뮤지션', '박지섭': '박지섭', '꿀': '꿀', '외사랑': '외사랑', '아무생각없이': '아무생각없이', '사이다': '사이다', 'HIPSTER': 'hipster', '레깅스': '레깅스', '오후': '오후', '무드': '무드', '마음을감싸주는': '마음을감싸주는', '날려버려': '날려버려', '엠넷': '엠넷', '힐링테라피요가': '힐링테라피요가', '좋은곡들': '좋은곡들', 'Takealook': 'takealook', '운동할때듣는': '운동할때듣는', '팝송추천': '팝송추천', '락': '락', '주간': '주간', '이일우': '이일우', '인디음악': '인디음악', '한동윤': '한동윤', '카페에서듣기좋은': '카페에서듣기좋은', '불금': '불금', '거짓말': '거짓말', '잠들기전': '잠들기전', '뮤직카로마': '뮤직카로마', '칠뮤직': '칠뮤직', '알앤비': '알앤비', '달달': '달달', '장마': '장마', 'before1970': 'before1970', '독주곡': '독주곡', '기분': '기분', '옥타곤': '옥타곤', '로큰롤': '로큰롤', '펑크락': '펑크락', '행복': '행복', '꿈': '꿈', '아련하게': '아련하게', '1990년대': '1990년대', '겨울노래': '겨울노래', '그냥좋은노래': '그냥좋은노래', '위로': '위로', 'BlackMusic': 'blackmusic', '밤에듣기좋은노래': '밤에듣기좋은노래', '퓨쳐베이스': '퓨쳐베이스', '가을동화': '가을동화', '런닝': '런닝', '미국클래식': '미국클래식', '모두가_흥얼흥얼': '모두가_흥얼흥얼', '헬스': '헬스', '팝송': '팝송', '꾸준히업뎃': '꾸준히업뎃', '연휴': '연휴', '라디오': '라디오', '다나': '다나', '인디밴드': '인디밴드', 'GD': 'gd', '그루브': '그루브', '피톤치드': '피톤치드', '방학': '방학', '빌보드': '빌보드', '영화클래식': '영화클래식', '아무거나': '아무거나', '가을밤': '가을밤', '크리스마스송': '크리스마스송', '봄노래': '봄노래', '도입': '도입', '피쉬슈즈': '피쉬슈즈', 'unplugged': 'unplugged', '힐링': '힐링', '떼껄룩': '떼껄룩', '올드팝': '올드팝', '걸그룹': '걸그룹', '7살': '7살', '띵곡': '띵곡', '떄껄룩': '떄껄룩', '조용하게': '조용하게', '센치한': '센치한', '잔잔함': '잔잔함', '러브송': '러브송', '따뜻한': '따뜻한', '신인': '신인', '맥주한잔': '맥주한잔', '이미지는_직접찍은사진': '이미지는_직접찍은사진', '고민': '고민', '빌보드핫차트': '빌보드핫차트', '잔잔한팝송': '잔잔한팝송', '생각': '생각', '기분좋은': '기분좋은', '펑키': '펑키', '그루브한': '그루브한', '새해': '새해', '클래식': '클래식', '동요': '동요', '스윙재즈': '스윙재즈', '공연': '공연', '듀엣': '듀엣', '시원한노래': '시원한노래', '새벽': '새벽', '보이스': '보이스', '선데이': '선데이', '발레음악': '발레음악', '최고의노래': '최고의노래', '회상': '회상', '여운': '여운', '휴가': '휴가', '기분업': '기분업', '현섭': '현섭', '텐션업': '텐션업', '가을감성': '가을감성', '오승훈': '오승훈', '수록곡': '수록곡', '몽환적인': '몽환적인', '느껴져': '느껴져', '도입부': '도입부', '천상지희': '천상지희', '태교음악': '태교음악', '추천곡': '추천곡', '멜로디': '멜로디', '트렌드': '트렌드', '인디추천': '인디추천', '클럽노래': '클럽노래', '책읽을때': '책읽을때', 'Greenday': 'greenday', '감성적인': '감성적인', '운동할때듣는음악': '운동할때듣는음악', '에너지': '에너지', '삶': '삶', '파워워킹': '파워워킹', '봄바람': '봄바람', '트렌디': '트렌디', '인생곡': '인생곡', '힙합': '힙합', '발랄한': '발랄한', '스웩': '스웩', '100번': '100번', '힙합엘이': '힙합엘이', '올드송': '올드송', '달달함': '달달함', '따듯한': '따듯한', '연인': '연인', '컨트리': '컨트리', '카톡': '카톡', '졸릴때': '졸릴때', '걸그룹댄스': '걸그룹댄스', '노래추천': '노래추천', '뉴에이지': '뉴에이지', '독서를돕는음악': '독서를돕는음악', '중국노래': '중국노래', '바이준': '바이준', '부부뮤지션': '부부뮤지션', '백색소음': '백색소음', '바캉스': '바캉스', '듣고': '듣고', '또는': '또는', 'Lofi': 'lofi', '낭만': '낭만', '목요일': '목요일', '끝': '끝', '더위': '더위', '연애중': '연애중', '초원': '초원', '스래시메탈': '스래시메탈', '찬송': '찬송', '알앤비소울': '알앤비소울', '추천': '추천', '여름밤': '여름밤', '드럼': '드럼', '랩': '랩', '우울': '우울', '연주': '연주', '드라이브할때신나는노래': '드라이브할때신나는노래', '혼자있을때': '혼자있을때', '펍노래': '펍노래', '짧고얕은음악지식속엄선': '짧고얕은음악지식속엄선', '공기정화': '공기정화', '이달의인디포크': '이달의인디포크', '상쾌해지는': '상쾌해지는', '출근': '출근', '디제이': '디제이', '비오는날': '비오는날', '2010': '2010', '포크': '포크', '거슈윈': '거슈윈', '8살': '8살', '맥주': '맥주', '늦잠': '늦잠', 'Lizzo': 'lizzo', '전지음악': '전지음악', '비트': '비트', '카카오톡': '카카오톡', '프로그레시브하우스': '프로그레시브하우스', '편안한명상을위한': '편안한명상을위한', '스타일': '스타일', '맥주펍': '맥주펍', '취향저격': '취향저격', '프로필음악': '프로필음악', '국힙': '국힙', '햇살': '햇살', '피곤': '피곤', '뉴욕도': '뉴욕도', '외로운': '외로운', '8': '8', '국내힙합': '국내힙합', '크리스마스노래': '크리스마스노래', '휴식': '휴식', '콘서트': '콘서트', '힘들때': '힘들때', '바람': '바람', '귀호강': '귀호강', 'indie': 'indie', 'OST': 'ost', '인기': '인기', '추억회상': '추억회상', '비_오는_날': '비_오는_날', '헬스장에서운동할때듣는노래': '헬스장에서운동할때듣는노래', '수면': '수면', '감각적인': '감각적인', '이브': '이브', 'dance': 'dance', '겨울밤': '겨울밤', '주말': '주말', 'Pop': 'pop', '2017': '2017', '린아': '린아', '리듬앤블루스': '리듬앤블루스', '명곡': '명곡', '월드뮤직': '월드뮤직', '트로피컬하우스': '트로피컬하우스', '기쁠때': '기쁠때', 'playlist3': 'playlist3', '좋아요좀눌러줘요': '좋아요좀눌러줘요', '오케이션': '오케이션', '데이트': '데이트', '봄나물': '봄나물', '나만알고싶은': '나만알고싶은', '중음': '중음', '일렉': '일렉', '밴드음악': '밴드음악', '매장음악': '매장음악', '햇살좋은날': '햇살좋은날', '어버이날': '어버이날', '좋은노래': '좋은노래', '스티비원더': '스티비원더', '짝사랑': '짝사랑', '90년대발라드': '90년대발라드', '미러볼뮤직': '미러볼뮤직', '편안한': '편안한', '들었으면': '들었으면', '일발장전': '일발장전', '빅룸': '빅룸', '마약': '마약', '시원한': '시원한', '명예의전당': '명예의전당', '외힙': '외힙', '혼자만의겨울': '혼자만의겨울', '7월': '7월', '기리보이의노래는길이보인다': '기리보이의노래는길이보인다', '내한': '내한', '세련된': '세련된', '프로필': '프로필', '방탄소년단': '방탄소년단', '성대': '성대', '누군가생각날때': '누군가생각날때', '힙존': '힙존', '클럽': '클럽', '공부': '공부', '젝스키스': '젝스키스', '흥겨운': '흥겨운', '김윤': '김윤', '90년대': '90년대', '아티스트': '아티스트', '신나는곡': '신나는곡', '쇼미': '쇼미', '스포츠': '스포츠', '영화OST': '영화ost', '차막힐때': '차막힐때', '썸': '썸', 'Rock': 'rock', '일렉트로닉': '일렉트로닉', 'dope': 'dope', '더포앳': '더포앳', '아드레날린': '아드레날린', '보이그룹': '보이그룹', '나만알고싶은음악': '나만알고싶은음악', '상쾌': '상쾌', '이별': '이별', '미술관': '미술관', 'classic': 'classic', '눈물': '눈물', '소울': '소울', '강렬한사운드': '강렬한사운드', '힙스터': '힙스터', '나들이': '나들이', '광고음악': '광고음악', '이거': '이거', '비트좋은': '비트좋은', '치명': '치명', 'uspop': 'uspop', '나만의Best3': '나만의best3', '헬스장에서': '헬스장에서', '신진래퍼': '신진래퍼', '조용한음악': '조용한음악', '그리움': '그리움', '페스티벌음악': '페스티벌음악', '우주소녀': '우주소녀', '기타': '기타', '대만': '대만', '청량함': '청량함', '외국펍': '외국펍', 'EDMFloor': 'edmfloor', '건조하고': '건조하고', '여름밤에듣기좋은음악': '여름밤에듣기좋은음악', '한강': '한강', 'Sadko': 'sadko', '썸머': '썸머', '연주음악': '연주음악', '사랑': '사랑', '혼자': '혼자', '아이돌명곡': '아이돌명곡', '2016멜로디포레스트캠프': '2016멜로디포레스트캠프', '빠른비트': '빠른비트', '쓸쓸': '쓸쓸', '관악기': '관악기', '한번쯤은': '한번쯤은', '댄스뮤직': '댄스뮤직', '신나는': '신나는', '언플러그드': '언플러그드'}\n"
     ]
    }
   ],
   "source": [
    "tag_lower_dict = make_dict_lower(tag_set)\n",
    "print(tag_lower_dict)"
   ]
  },
  {
   "cell_type": "markdown",
   "id": "d3ae7a9d",
   "metadata": {},
   "source": [
    "## 특수문자 제거"
   ]
  },
  {
   "cell_type": "code",
   "execution_count": 28,
   "id": "db6481a7",
   "metadata": {},
   "outputs": [],
   "source": [
    "def make_dict_special(tag_set):\n",
    "    tag_dict = dict()\n",
    "    \n",
    "    for i in tag_set:\n",
    "        if not i in tag_dict:\n",
    "            # 아래를 제외한 문자는 ''로 대체한다\n",
    "            # \\uAC00-WuD7A3 : 모든 한글 음절\n",
    "            # 0-9 : 숫자\n",
    "            # a-zA-Z : 모든 영어\n",
    "            tag_dict[i] = re.sub(r'[^\\uAC00-\\uD7A30-9a-zA-Z]', '', i)\n",
    "    \n",
    "    return tag_dict"
   ]
  },
  {
   "cell_type": "code",
   "execution_count": 29,
   "id": "b0baac97",
   "metadata": {},
   "outputs": [
    {
     "name": "stdout",
     "output_type": "stream",
     "text": [
      "{'피트니스': '피트니스', '눈오는날': '눈오는날', '다이어트': '다이어트', '헬스장': '헬스장', '재즈': '재즈', '댄스신에': '댄스신에', '밴드': '밴드', '분위기좋은': '분위기좋은', '둠칫둠칫': '둠칫둠칫', '남녀': '남녀', '엑소': '엑소', '잔잔하게': '잔잔하게', '들어봤을': '들어봤을', '달달한': '달달한', 'futurebass': 'futurebass', '따스한': '따스한', '격렬함': '격렬함', '기분전환': '기분전환', '초록빛': '초록빛', '샤워': '샤워', '연말파티': '연말파티', '고음병': '고음병', '팝': '팝', '자연주의': '자연주의', '질리지않는': '질리지않는', '환상적인': '환상적인', '힐링피아노연주곡': '힐링피아노연주곡', '유니크': '유니크', '자연': '자연', 'GZ': 'GZ', '에센셜': '에센셜', 'Chillout': 'Chillout', '우아한': '우아한', '헤이즈': '헤이즈', '추위': '추위', '칠링': '칠링', '이루마': '이루마', 'Duet': 'Duet', '아이돌': '아이돌', '소원': '소원', '태교클래식': '태교클래식', '어쿠스틱': '어쿠스틱', 'ksks': 'ksks', 'RNBSOUL': 'RNBSOUL', 'BTS': 'BTS', '히피': '히피', '퀸덤원곡모음': '퀸덤원곡모음', '중국음악': '중국음악', '펍': '펍', '눈': '눈', 'M에센셜': 'M에센셜', 'EDM': 'EDM', '느낌있는': '느낌있는', '조용한': '조용한', '힙한': '힙한', '추천노래': '추천노래', '라운지': '라운지', '내가좋아하는음악트랙': '내가좋아하는음악트랙', '매장': '매장', '댄스음악': '댄스음악', '스윙': '스윙', '랩소디인블루': '랩소디인블루', '토요명화': '토요명화', 'Feat': 'Feat', '아미라면': '아미라면', '뺏고싶다': '뺏고싶다', '목록': '목록', '피아노': '피아노', 'Top100에': 'Top100에', '뉴페이스': '뉴페이스', '퓨전재즈': '퓨전재즈', '썸타는중': '썸타는중', '자기전': '자기전', '버스': '버스', '가을': '가을', '여자가수': '여자가수', '힘든날': '힘든날', '나만알기아까운노래': '나만알기아까운노래', '파티': '파티', '아기동요': '아기동요', '진원': '진원', '다중음격': '다중음격', '다짐': '다짐', '메탈': '메탈', '까페': '까페', 'Chill': 'Chill', '아쉬움': '아쉬움', '쓸쓸한': '쓸쓸한', '키즈동화': '키즈동화', '집': '집', '밝은': '밝은', '섹시': '섹시', '스테파니': '스테파니', '미세먼지': '미세먼지', 'RnB': 'RnB', '이슬': '이슬', '이소라': '이소라', '공부하며듣는': '공부하며듣는', '최신': '최신', '릴랙스요가클래식': '릴랙스요가클래식', 'Metal': 'Metal', '가요': '가요', '파란': '파란', 'ASMR': 'ASMR', '광고': '광고', '비와이': '비와이', '국외': '국외', '외로움을': '외로움을', '김광민': '김광민', '한번쯤': '한번쯤', '신맛': '신맛', '쓸쓸함': '쓸쓸함', '지칠때': '지칠때', '업데이트중': '업데이트중', 'funk': 'funk', '힘내': '힘내', '여름방학': '여름방학', '몽글': '몽글', '내적댄스폭발': '내적댄스폭발', '필라테스': '필라테스', '9살': '9살', '타이틀곡': '타이틀곡', '소망': '소망', '8월': '8월', '비_오는날': '비오는날', '불면증': '불면증', '고속도로': '고속도로', '인생곡들만': '인생곡들만', 'EarlySoul': 'EarlySoul', '잔디': '잔디', '성탄절': '성탄절', '후회': '후회', '기리보이': '기리보이', '인디': '인디', '겨울': '겨울', '드라이브': '드라이브', '출근길': '출근길', '신곡': '신곡', 'CCM': 'CCM', '달': '달', '카페음악': '카페음악', '생기': '생기', '발레': '발레', '중독성': '중독성', '빅밴드': '빅밴드', '음악추천': '음악추천', '여자아이돌': '여자아이돌', '빌로우': '빌로우', '댄스곡': '댄스곡', '왜이리딱딱한것이냐': '왜이리딱딱한것이냐', '바다': '바다', '해외알앤비소울': '해외알앤비소울', 'bgm': 'bgm', '보컬재즈': '보컬재즈', '분위기': '분위기', '산책': '산책', '상큼한': '상큼한', '추억의': '추억의', '슈게이징': '슈게이징', '외국힙합노래': '외국힙합노래', '달콤': '달콤', '명상': '명상', '청량한': '청량한', '잠': '잠', 'Maroon': 'Maroon', '라이징스타': '라이징스타', '사무실': '사무실', '노동요': '노동요', '휴일': '휴일', 'YOUNG': 'YOUNG', '스타일리쉬': '스타일리쉬', 'HipHop': 'HipHop', 'Coldplay': 'Coldplay', '발라드': '발라드', '쇼미더머니': '쇼미더머니', '힐링노래': '힐링노래', '독서': '독서', '빌보드핫100': '빌보드핫100', '80년대': '80년대', '뷰티샵': '뷰티샵', '폐막식': '폐막식', '커플': '커플', 'Elecronica': 'Elecronica', '쉼표': '쉼표', '벚꽃': '벚꽃', 'Billboard': 'Billboard', '믿고듣는': '믿고듣는', '유럽여행': '유럽여행', '리드미컬': '리드미컬', '소란': '소란', '여행': '여행', '존윌리엄스': '존윌리엄스', '시험기간집중할때': '시험기간집중할때', '슬픔': '슬픔', '시티팝': '시티팝', '여름': '여름', '스트레스': '스트레스', 'WJSN': 'WJSN', 'jazzymood': 'jazzymood', '정서발달': '정서발달', '유튜브': '유튜브', '나만들을거얌': '나만들을거얌', 'SEX': 'SEX', '신나는노래': '신나는노래', '패셔너블': '패셔너블', '밤': '밤', '빗물같은': '빗물같은', '셋리스트': '셋리스트', '안녕': '안녕', '민중가요': '민중가요', 'Summer': 'Summer', '옛날노래': '옛날노래', '포근함': '포근함', '록발라드': '록발라드', '해변': '해변', '쇼핑': '쇼핑', '인싸': '인싸', '가즈아': '가즈아', '하드록메탈': '하드록메탈', '호불호없는': '호불호없는', '센치한날': '센치한날', '새벽에': '새벽에', '올림픽': '올림픽', '트렌디하게': '트렌디하게', '일상': '일상', '광동': '광동', '몽환': '몽환', '들을거없을때': '들을거없을때', '연애': '연애', '카페': '카페', '노래': '노래', '시간순': '시간순', '위대함': '위대함', '어린이클래식': '어린이클래식', '영국': '영국', '남자아이돌': '남자아이돌', '가을이별': '가을이별', '겨울왕국': '겨울왕국', '자기전에': '자기전에', '감성힙합': '감성힙합', '봄캐롤': '봄캐롤', '팝재즈': '팝재즈', '외로움': '외로움', '새벽감성': '새벽감성', '모던': '모던', '6월': '6월', '1980년대': '1980년대', '셧업앤댄스': '셧업앤댄스', '퇴근길': '퇴근길', '봄': '봄', '우울한': '우울한', '아침': '아침', '잠결': '잠결', '여유': '여유', '가을여행': '가을여행', '신날때': '신날때', '아무노래': '아무노래', '일렉트로니카': '일렉트로니카', '연말': '연말', '목장': '목장', '테크노': '테크노', '스트레스해소': '스트레스해소', '1990': '1990', '히트곡': '히트곡', '뉴홉클': '뉴홉클', 'electronica': 'electronica', '일요일': '일요일', '아련': '아련', 'NewHopeClub': 'NewHopeClub', '인디뮤직': '인디뮤직', 'MTV': 'MTV', '몽환한': '몽환한', '주간일렉트로니카': '주간일렉트로니카', '풀내음': '풀내음', 'kpop': 'kpop', '재즈힙합': '재즈힙합', '이태원': '이태원', '모닝콜': '모닝콜', '관현악': '관현악', '호호클럽': '호호클럽', '니엘': '니엘', '팝음악': '팝음악', '비': '비', '방해금지': '방해금지', '티타임': '티타임', '남성적인': '남성적인', '빌보드Hot50': '빌보드Hot50', '명품발라드': '명품발라드', '재즈추천': '재즈추천', '속도감': '속도감', '힙합클럽': '힙합클럽', '부모님': '부모님', '리스트': '리스트', '싱어송라이터': '싱어송라이터', '그루비': '그루비', '야경': '야경', '심포닉메탈': '심포닉메탈', 'rockisnotdead': 'rockisnotdead', '감성발라드': '감성발라드', 'COOL': 'COOL', '크리스마스': '크리스마스', '내적댄스': '내적댄스', '운동': '운동', '퀸덤': '퀸덤', '김영후': '김영후', '멈출수없는': '멈출수없는', '야외에서듣는피아노연주곡': '야외에서듣는피아노연주곡', '자장가': '자장가', '록': '록', '달달하게': '달달하게', '상쾌한': '상쾌한', '숨은명곡': '숨은명곡', '고백': '고백', '가족': '가족', '아픈': '아픈', '연주곡': '연주곡', '샤우팅': '샤우팅', '그냥': '그냥', '하늘': '하늘', '월드': '월드', '드림팝': '드림팝', '댄스본능': '댄스본능', '시원': '시원', '명작': '명작', '잔잔한': '잔잔한', 'Chirstmas': 'Chirstmas', '류이치사카모토': '류이치사카모토', '컴백전쟁': '컴백전쟁', '너에게': '너에게', '노래방': '노래방', '2000': '2000', 'Instruments': 'Instruments', '댄스': '댄스', '우울할때': '우울할때', '힙합갬성': '힙합갬성', 'ballads': 'ballads', '북카페': '북카페', '귀르가즘': '귀르가즘', '중국': '중국', '노래모음': '노래모음', '클럽음악': '클럽음악', '슬픔의': '슬픔의', '인디곡': '인디곡', '띵곡들': '띵곡들', '감미로운': '감미로운', '흐린날': '흐린날', '국내': '국내', '홍콩': '홍콩', 'mood': 'mood', '이별노래': '이별노래', '크리스마스캐럴': '크리스마스캐럴', '음악': '음악', '멜로': '멜로', '졸음운전': '졸음운전', '조용히': '조용히', '나른한': '나른한', '많은곡수': '많은곡수', '아메리칸클래식': '아메리칸클래식', '나만들을꺼': '나만들을꺼', '트로트': '트로트', 'groove': 'groove', '답답함': '답답함', '잔잔한음악': '잔잔한음악', '옥콩': '옥콩', '캐롤': '캐롤', '2000년대': '2000년대', '플레이리스트': '플레이리스트', '저녁': '저녁', '차막힘': '차막힘', '저스디스': '저스디스', '피쳐링': '피쳐링', '요가': '요가', '흥얼흥얼': '흥얼흥얼', '로큰롤명예의전당': '로큰롤명예의전당', '운동할때': '운동할때', '실험': '실험', '내취향': '내취향', 'Popular': 'Popular', '감성': '감성', 'Matisse': 'Matisse', '설렘': '설렘', '커피': '커피', '아미를위한': '아미를위한', '추억': '추억', '캐럴': '캐럴', 'Jazz': 'Jazz', '슬픈노래': '슬픈노래', 'JPOP': 'JPOP', '배경음악': '배경음악', '스밍': '스밍', '런쥔': '런쥔', '5월_4주차': '5월4주차', '집중': '집중', '인생': '인생', '1960': '1960', '숨겨진': '숨겨진', '뮤지션': '뮤지션', '박지섭': '박지섭', '꿀': '꿀', '외사랑': '외사랑', '아무생각없이': '아무생각없이', '사이다': '사이다', 'HIPSTER': 'HIPSTER', '레깅스': '레깅스', '오후': '오후', '무드': '무드', '마음을감싸주는': '마음을감싸주는', '날려버려': '날려버려', '엠넷': '엠넷', '힐링테라피요가': '힐링테라피요가', '좋은곡들': '좋은곡들', 'Takealook': 'Takealook', '운동할때듣는': '운동할때듣는', '팝송추천': '팝송추천', '락': '락', '주간': '주간', '이일우': '이일우', '인디음악': '인디음악', '한동윤': '한동윤', '카페에서듣기좋은': '카페에서듣기좋은', '불금': '불금', '거짓말': '거짓말', '잠들기전': '잠들기전', '뮤직카로마': '뮤직카로마', '칠뮤직': '칠뮤직', '알앤비': '알앤비', '달달': '달달', '장마': '장마', 'before1970': 'before1970', '독주곡': '독주곡', '기분': '기분', '옥타곤': '옥타곤', '로큰롤': '로큰롤', '펑크락': '펑크락', '행복': '행복', '꿈': '꿈', '아련하게': '아련하게', '1990년대': '1990년대', '겨울노래': '겨울노래', '그냥좋은노래': '그냥좋은노래', '위로': '위로', 'BlackMusic': 'BlackMusic', '밤에듣기좋은노래': '밤에듣기좋은노래', '퓨쳐베이스': '퓨쳐베이스', '가을동화': '가을동화', '런닝': '런닝', '미국클래식': '미국클래식', '모두가_흥얼흥얼': '모두가흥얼흥얼', '헬스': '헬스', '팝송': '팝송', '꾸준히업뎃': '꾸준히업뎃', '연휴': '연휴', '라디오': '라디오', '다나': '다나', '인디밴드': '인디밴드', 'GD': 'GD', '그루브': '그루브', '피톤치드': '피톤치드', '방학': '방학', '빌보드': '빌보드', '영화클래식': '영화클래식', '아무거나': '아무거나', '가을밤': '가을밤', '크리스마스송': '크리스마스송', '봄노래': '봄노래', '도입': '도입', '피쉬슈즈': '피쉬슈즈', 'unplugged': 'unplugged', '힐링': '힐링', '떼껄룩': '떼껄룩', '올드팝': '올드팝', '걸그룹': '걸그룹', '7살': '7살', '띵곡': '띵곡', '떄껄룩': '떄껄룩', '조용하게': '조용하게', '센치한': '센치한', '잔잔함': '잔잔함', '러브송': '러브송', '따뜻한': '따뜻한', '신인': '신인', '맥주한잔': '맥주한잔', '이미지는_직접찍은사진': '이미지는직접찍은사진', '고민': '고민', '빌보드핫차트': '빌보드핫차트', '잔잔한팝송': '잔잔한팝송', '생각': '생각', '기분좋은': '기분좋은', '펑키': '펑키', '그루브한': '그루브한', '새해': '새해', '클래식': '클래식', '동요': '동요', '스윙재즈': '스윙재즈', '공연': '공연', '듀엣': '듀엣', '시원한노래': '시원한노래', '새벽': '새벽', '보이스': '보이스', '선데이': '선데이', '발레음악': '발레음악', '최고의노래': '최고의노래', '회상': '회상', '여운': '여운', '휴가': '휴가', '기분업': '기분업', '현섭': '현섭', '텐션업': '텐션업', '가을감성': '가을감성', '오승훈': '오승훈', '수록곡': '수록곡', '몽환적인': '몽환적인', '느껴져': '느껴져', '도입부': '도입부', '천상지희': '천상지희', '태교음악': '태교음악', '추천곡': '추천곡', '멜로디': '멜로디', '트렌드': '트렌드', '인디추천': '인디추천', '클럽노래': '클럽노래', '책읽을때': '책읽을때', 'Greenday': 'Greenday', '감성적인': '감성적인', '운동할때듣는음악': '운동할때듣는음악', '에너지': '에너지', '삶': '삶', '파워워킹': '파워워킹', '봄바람': '봄바람', '트렌디': '트렌디', '인생곡': '인생곡', '힙합': '힙합', '발랄한': '발랄한', '스웩': '스웩', '100번': '100번', '힙합엘이': '힙합엘이', '올드송': '올드송', '달달함': '달달함', '따듯한': '따듯한', '연인': '연인', '컨트리': '컨트리', '카톡': '카톡', '졸릴때': '졸릴때', '걸그룹댄스': '걸그룹댄스', '노래추천': '노래추천', '뉴에이지': '뉴에이지', '독서를돕는음악': '독서를돕는음악', '중국노래': '중국노래', '바이준': '바이준', '부부뮤지션': '부부뮤지션', '백색소음': '백색소음', '바캉스': '바캉스', '듣고': '듣고', '또는': '또는', 'Lofi': 'Lofi', '낭만': '낭만', '목요일': '목요일', '끝': '끝', '더위': '더위', '연애중': '연애중', '초원': '초원', '스래시메탈': '스래시메탈', '찬송': '찬송', '알앤비소울': '알앤비소울', '추천': '추천', '여름밤': '여름밤', '드럼': '드럼', '랩': '랩', '우울': '우울', '연주': '연주', '드라이브할때신나는노래': '드라이브할때신나는노래', '혼자있을때': '혼자있을때', '펍노래': '펍노래', '짧고얕은음악지식속엄선': '짧고얕은음악지식속엄선', '공기정화': '공기정화', '이달의인디포크': '이달의인디포크', '상쾌해지는': '상쾌해지는', '출근': '출근', '디제이': '디제이', '비오는날': '비오는날', '2010': '2010', '포크': '포크', '거슈윈': '거슈윈', '8살': '8살', '맥주': '맥주', '늦잠': '늦잠', 'Lizzo': 'Lizzo', '전지음악': '전지음악', '비트': '비트', '카카오톡': '카카오톡', '프로그레시브하우스': '프로그레시브하우스', '편안한명상을위한': '편안한명상을위한', '스타일': '스타일', '맥주펍': '맥주펍', '취향저격': '취향저격', '프로필음악': '프로필음악', '국힙': '국힙', '햇살': '햇살', '피곤': '피곤', '뉴욕도': '뉴욕도', '외로운': '외로운', '8': '8', '국내힙합': '국내힙합', '크리스마스노래': '크리스마스노래', '휴식': '휴식', '콘서트': '콘서트', '힘들때': '힘들때', '바람': '바람', '귀호강': '귀호강', 'indie': 'indie', 'OST': 'OST', '인기': '인기', '추억회상': '추억회상', '비_오는_날': '비오는날', '헬스장에서운동할때듣는노래': '헬스장에서운동할때듣는노래', '수면': '수면', '감각적인': '감각적인', '이브': '이브', 'dance': 'dance', '겨울밤': '겨울밤', '주말': '주말', 'Pop': 'Pop', '2017': '2017', '린아': '린아', '리듬앤블루스': '리듬앤블루스', '명곡': '명곡', '월드뮤직': '월드뮤직', '트로피컬하우스': '트로피컬하우스', '기쁠때': '기쁠때', 'playlist3': 'playlist3', '좋아요좀눌러줘요': '좋아요좀눌러줘요', '오케이션': '오케이션', '데이트': '데이트', '봄나물': '봄나물', '나만알고싶은': '나만알고싶은', '중음': '중음', '일렉': '일렉', '밴드음악': '밴드음악', '매장음악': '매장음악', '햇살좋은날': '햇살좋은날', '어버이날': '어버이날', '좋은노래': '좋은노래', '스티비원더': '스티비원더', '짝사랑': '짝사랑', '90년대발라드': '90년대발라드', '미러볼뮤직': '미러볼뮤직', '편안한': '편안한', '들었으면': '들었으면', '일발장전': '일발장전', '빅룸': '빅룸', '마약': '마약', '시원한': '시원한', '명예의전당': '명예의전당', '외힙': '외힙', '혼자만의겨울': '혼자만의겨울', '7월': '7월', '기리보이의노래는길이보인다': '기리보이의노래는길이보인다', '내한': '내한', '세련된': '세련된', '프로필': '프로필', '방탄소년단': '방탄소년단', '성대': '성대', '누군가생각날때': '누군가생각날때', '힙존': '힙존', '클럽': '클럽', '공부': '공부', '젝스키스': '젝스키스', '흥겨운': '흥겨운', '김윤': '김윤', '90년대': '90년대', '아티스트': '아티스트', '신나는곡': '신나는곡', '쇼미': '쇼미', '스포츠': '스포츠', '영화OST': '영화OST', '차막힐때': '차막힐때', '썸': '썸', 'Rock': 'Rock', '일렉트로닉': '일렉트로닉', 'dope': 'dope', '더포앳': '더포앳', '아드레날린': '아드레날린', '보이그룹': '보이그룹', '나만알고싶은음악': '나만알고싶은음악', '상쾌': '상쾌', '이별': '이별', '미술관': '미술관', 'classic': 'classic', '눈물': '눈물', '소울': '소울', '강렬한사운드': '강렬한사운드', '힙스터': '힙스터', '나들이': '나들이', '광고음악': '광고음악', '이거': '이거', '비트좋은': '비트좋은', '치명': '치명', 'uspop': 'uspop', '나만의Best3': '나만의Best3', '헬스장에서': '헬스장에서', '신진래퍼': '신진래퍼', '조용한음악': '조용한음악', '그리움': '그리움', '페스티벌음악': '페스티벌음악', '우주소녀': '우주소녀', '기타': '기타', '대만': '대만', '청량함': '청량함', '외국펍': '외국펍', 'EDMFloor': 'EDMFloor', '건조하고': '건조하고', '여름밤에듣기좋은음악': '여름밤에듣기좋은음악', '한강': '한강', 'Sadko': 'Sadko', '썸머': '썸머', '연주음악': '연주음악', '사랑': '사랑', '혼자': '혼자', '아이돌명곡': '아이돌명곡', '2016멜로디포레스트캠프': '2016멜로디포레스트캠프', '빠른비트': '빠른비트', '쓸쓸': '쓸쓸', '관악기': '관악기', '한번쯤은': '한번쯤은', '댄스뮤직': '댄스뮤직', '신나는': '신나는', '언플러그드': '언플러그드'}\n"
     ]
    }
   ],
   "source": [
    "tag_special_dict = make_dict_special(tag_set)\n",
    "\n",
    "# 현재 태그들은 특수문자가 '_'만 존재한다\n",
    "print(tag_special_dict)"
   ]
  },
  {
   "cell_type": "markdown",
   "id": "e53f1dbc",
   "metadata": {},
   "source": [
    "## Stopword 제거\n",
    "\n",
    "- 현재 태그는 단순 단어나 띄어쓰기가 제거된 단어의 조합으로 구성\n",
    "- 임의의 Stopword를 선정할 필요가 존재"
   ]
  },
  {
   "cell_type": "code",
   "execution_count": 30,
   "id": "495ffca0",
   "metadata": {},
   "outputs": [],
   "source": [
    "# 설정 필요\n",
    "stopwords = {'날려버려'}"
   ]
  },
  {
   "cell_type": "code",
   "execution_count": 31,
   "id": "baa98b49",
   "metadata": {},
   "outputs": [],
   "source": [
    "def make_dict_stop(tag_set, stopwords):\n",
    "    tag_dict = dict()\n",
    "    \n",
    "    for i in tag_set:\n",
    "        if not i in tag_dict:\n",
    "            # 빈 칸으로 만든 뒤 다른 함수로 제거할 예정\n",
    "            if i in stopwords:\n",
    "                tag_dict[i] = ''\n",
    "            else:\n",
    "                tag_dict[i] = i\n",
    "                \n",
    "    return tag_dict"
   ]
  },
  {
   "cell_type": "code",
   "execution_count": 32,
   "id": "2f3452bd",
   "metadata": {},
   "outputs": [
    {
     "name": "stdout",
     "output_type": "stream",
     "text": [
      "{'피트니스': '피트니스', '눈오는날': '눈오는날', '다이어트': '다이어트', '헬스장': '헬스장', '재즈': '재즈', '댄스신에': '댄스신에', '밴드': '밴드', '분위기좋은': '분위기좋은', '둠칫둠칫': '둠칫둠칫', '남녀': '남녀', '엑소': '엑소', '잔잔하게': '잔잔하게', '들어봤을': '들어봤을', '달달한': '달달한', 'futurebass': 'futurebass', '따스한': '따스한', '격렬함': '격렬함', '기분전환': '기분전환', '초록빛': '초록빛', '샤워': '샤워', '연말파티': '연말파티', '고음병': '고음병', '팝': '팝', '자연주의': '자연주의', '질리지않는': '질리지않는', '환상적인': '환상적인', '힐링피아노연주곡': '힐링피아노연주곡', '유니크': '유니크', '자연': '자연', 'GZ': 'GZ', '에센셜': '에센셜', 'Chillout': 'Chillout', '우아한': '우아한', '헤이즈': '헤이즈', '추위': '추위', '칠링': '칠링', '이루마': '이루마', 'Duet': 'Duet', '아이돌': '아이돌', '소원': '소원', '태교클래식': '태교클래식', '어쿠스틱': '어쿠스틱', 'ksks': 'ksks', 'RNBSOUL': 'RNBSOUL', 'BTS': 'BTS', '히피': '히피', '퀸덤원곡모음': '퀸덤원곡모음', '중국음악': '중국음악', '펍': '펍', '눈': '눈', 'M에센셜': 'M에센셜', 'EDM': 'EDM', '느낌있는': '느낌있는', '조용한': '조용한', '힙한': '힙한', '추천노래': '추천노래', '라운지': '라운지', '내가좋아하는음악트랙': '내가좋아하는음악트랙', '매장': '매장', '댄스음악': '댄스음악', '스윙': '스윙', '랩소디인블루': '랩소디인블루', '토요명화': '토요명화', 'Feat': 'Feat', '아미라면': '아미라면', '뺏고싶다': '뺏고싶다', '목록': '목록', '피아노': '피아노', 'Top100에': 'Top100에', '뉴페이스': '뉴페이스', '퓨전재즈': '퓨전재즈', '썸타는중': '썸타는중', '자기전': '자기전', '버스': '버스', '가을': '가을', '여자가수': '여자가수', '힘든날': '힘든날', '나만알기아까운노래': '나만알기아까운노래', '파티': '파티', '아기동요': '아기동요', '진원': '진원', '다중음격': '다중음격', '다짐': '다짐', '메탈': '메탈', '까페': '까페', 'Chill': 'Chill', '아쉬움': '아쉬움', '쓸쓸한': '쓸쓸한', '키즈동화': '키즈동화', '집': '집', '밝은': '밝은', '섹시': '섹시', '스테파니': '스테파니', '미세먼지': '미세먼지', 'RnB': 'RnB', '이슬': '이슬', '이소라': '이소라', '공부하며듣는': '공부하며듣는', '최신': '최신', '릴랙스요가클래식': '릴랙스요가클래식', 'Metal': 'Metal', '가요': '가요', '파란': '파란', 'ASMR': 'ASMR', '광고': '광고', '비와이': '비와이', '국외': '국외', '외로움을': '외로움을', '김광민': '김광민', '한번쯤': '한번쯤', '신맛': '신맛', '쓸쓸함': '쓸쓸함', '지칠때': '지칠때', '업데이트중': '업데이트중', 'funk': 'funk', '힘내': '힘내', '여름방학': '여름방학', '몽글': '몽글', '내적댄스폭발': '내적댄스폭발', '필라테스': '필라테스', '9살': '9살', '타이틀곡': '타이틀곡', '소망': '소망', '8월': '8월', '비_오는날': '비_오는날', '불면증': '불면증', '고속도로': '고속도로', '인생곡들만': '인생곡들만', 'EarlySoul': 'EarlySoul', '잔디': '잔디', '성탄절': '성탄절', '후회': '후회', '기리보이': '기리보이', '인디': '인디', '겨울': '겨울', '드라이브': '드라이브', '출근길': '출근길', '신곡': '신곡', 'CCM': 'CCM', '달': '달', '카페음악': '카페음악', '생기': '생기', '발레': '발레', '중독성': '중독성', '빅밴드': '빅밴드', '음악추천': '음악추천', '여자아이돌': '여자아이돌', '빌로우': '빌로우', '댄스곡': '댄스곡', '왜이리딱딱한것이냐': '왜이리딱딱한것이냐', '바다': '바다', '해외알앤비소울': '해외알앤비소울', 'bgm': 'bgm', '보컬재즈': '보컬재즈', '분위기': '분위기', '산책': '산책', '상큼한': '상큼한', '추억의': '추억의', '슈게이징': '슈게이징', '외국힙합노래': '외국힙합노래', '달콤': '달콤', '명상': '명상', '청량한': '청량한', '잠': '잠', 'Maroon': 'Maroon', '라이징스타': '라이징스타', '사무실': '사무실', '노동요': '노동요', '휴일': '휴일', 'YOUNG': 'YOUNG', '스타일리쉬': '스타일리쉬', 'HipHop': 'HipHop', 'Coldplay': 'Coldplay', '발라드': '발라드', '쇼미더머니': '쇼미더머니', '힐링노래': '힐링노래', '독서': '독서', '빌보드핫100': '빌보드핫100', '80년대': '80년대', '뷰티샵': '뷰티샵', '폐막식': '폐막식', '커플': '커플', 'Elecronica': 'Elecronica', '쉼표': '쉼표', '벚꽃': '벚꽃', 'Billboard': 'Billboard', '믿고듣는': '믿고듣는', '유럽여행': '유럽여행', '리드미컬': '리드미컬', '소란': '소란', '여행': '여행', '존윌리엄스': '존윌리엄스', '시험기간집중할때': '시험기간집중할때', '슬픔': '슬픔', '시티팝': '시티팝', '여름': '여름', '스트레스': '스트레스', 'WJSN': 'WJSN', 'jazzymood': 'jazzymood', '정서발달': '정서발달', '유튜브': '유튜브', '나만들을거얌': '나만들을거얌', 'SEX': 'SEX', '신나는노래': '신나는노래', '패셔너블': '패셔너블', '밤': '밤', '빗물같은': '빗물같은', '셋리스트': '셋리스트', '안녕': '안녕', '민중가요': '민중가요', 'Summer': 'Summer', '옛날노래': '옛날노래', '포근함': '포근함', '록발라드': '록발라드', '해변': '해변', '쇼핑': '쇼핑', '인싸': '인싸', '가즈아': '가즈아', '하드록메탈': '하드록메탈', '호불호없는': '호불호없는', '센치한날': '센치한날', '새벽에': '새벽에', '올림픽': '올림픽', '트렌디하게': '트렌디하게', '일상': '일상', '광동': '광동', '몽환': '몽환', '들을거없을때': '들을거없을때', '연애': '연애', '카페': '카페', '노래': '노래', '시간순': '시간순', '위대함': '위대함', '어린이클래식': '어린이클래식', '영국': '영국', '남자아이돌': '남자아이돌', '가을이별': '가을이별', '겨울왕국': '겨울왕국', '자기전에': '자기전에', '감성힙합': '감성힙합', '봄캐롤': '봄캐롤', '팝재즈': '팝재즈', '외로움': '외로움', '새벽감성': '새벽감성', '모던': '모던', '6월': '6월', '1980년대': '1980년대', '셧업앤댄스': '셧업앤댄스', '퇴근길': '퇴근길', '봄': '봄', '우울한': '우울한', '아침': '아침', '잠결': '잠결', '여유': '여유', '가을여행': '가을여행', '신날때': '신날때', '아무노래': '아무노래', '일렉트로니카': '일렉트로니카', '연말': '연말', '목장': '목장', '테크노': '테크노', '스트레스해소': '스트레스해소', '1990': '1990', '히트곡': '히트곡', '뉴홉클': '뉴홉클', 'electronica': 'electronica', '일요일': '일요일', '아련': '아련', 'NewHopeClub': 'NewHopeClub', '인디뮤직': '인디뮤직', 'MTV': 'MTV', '몽환한': '몽환한', '주간일렉트로니카': '주간일렉트로니카', '풀내음': '풀내음', 'kpop': 'kpop', '재즈힙합': '재즈힙합', '이태원': '이태원', '모닝콜': '모닝콜', '관현악': '관현악', '호호클럽': '호호클럽', '니엘': '니엘', '팝음악': '팝음악', '비': '비', '방해금지': '방해금지', '티타임': '티타임', '남성적인': '남성적인', '빌보드Hot50': '빌보드Hot50', '명품발라드': '명품발라드', '재즈추천': '재즈추천', '속도감': '속도감', '힙합클럽': '힙합클럽', '부모님': '부모님', '리스트': '리스트', '싱어송라이터': '싱어송라이터', '그루비': '그루비', '야경': '야경', '심포닉메탈': '심포닉메탈', 'rockisnotdead': 'rockisnotdead', '감성발라드': '감성발라드', 'COOL': 'COOL', '크리스마스': '크리스마스', '내적댄스': '내적댄스', '운동': '운동', '퀸덤': '퀸덤', '김영후': '김영후', '멈출수없는': '멈출수없는', '야외에서듣는피아노연주곡': '야외에서듣는피아노연주곡', '자장가': '자장가', '록': '록', '달달하게': '달달하게', '상쾌한': '상쾌한', '숨은명곡': '숨은명곡', '고백': '고백', '가족': '가족', '아픈': '아픈', '연주곡': '연주곡', '샤우팅': '샤우팅', '그냥': '그냥', '하늘': '하늘', '월드': '월드', '드림팝': '드림팝', '댄스본능': '댄스본능', '시원': '시원', '명작': '명작', '잔잔한': '잔잔한', 'Chirstmas': 'Chirstmas', '류이치사카모토': '류이치사카모토', '컴백전쟁': '컴백전쟁', '너에게': '너에게', '노래방': '노래방', '2000': '2000', 'Instruments': 'Instruments', '댄스': '댄스', '우울할때': '우울할때', '힙합갬성': '힙합갬성', 'ballads': 'ballads', '북카페': '북카페', '귀르가즘': '귀르가즘', '중국': '중국', '노래모음': '노래모음', '클럽음악': '클럽음악', '슬픔의': '슬픔의', '인디곡': '인디곡', '띵곡들': '띵곡들', '감미로운': '감미로운', '흐린날': '흐린날', '국내': '국내', '홍콩': '홍콩', 'mood': 'mood', '이별노래': '이별노래', '크리스마스캐럴': '크리스마스캐럴', '음악': '음악', '멜로': '멜로', '졸음운전': '졸음운전', '조용히': '조용히', '나른한': '나른한', '많은곡수': '많은곡수', '아메리칸클래식': '아메리칸클래식', '나만들을꺼': '나만들을꺼', '트로트': '트로트', 'groove': 'groove', '답답함': '답답함', '잔잔한음악': '잔잔한음악', '옥콩': '옥콩', '캐롤': '캐롤', '2000년대': '2000년대', '플레이리스트': '플레이리스트', '저녁': '저녁', '차막힘': '차막힘', '저스디스': '저스디스', '피쳐링': '피쳐링', '요가': '요가', '흥얼흥얼': '흥얼흥얼', '로큰롤명예의전당': '로큰롤명예의전당', '운동할때': '운동할때', '실험': '실험', '내취향': '내취향', 'Popular': 'Popular', '감성': '감성', 'Matisse': 'Matisse', '설렘': '설렘', '커피': '커피', '아미를위한': '아미를위한', '추억': '추억', '캐럴': '캐럴', 'Jazz': 'Jazz', '슬픈노래': '슬픈노래', 'JPOP': 'JPOP', '배경음악': '배경음악', '스밍': '스밍', '런쥔': '런쥔', '5월_4주차': '5월_4주차', '집중': '집중', '인생': '인생', '1960': '1960', '숨겨진': '숨겨진', '뮤지션': '뮤지션', '박지섭': '박지섭', '꿀': '꿀', '외사랑': '외사랑', '아무생각없이': '아무생각없이', '사이다': '사이다', 'HIPSTER': 'HIPSTER', '레깅스': '레깅스', '오후': '오후', '무드': '무드', '마음을감싸주는': '마음을감싸주는', '날려버려': '', '엠넷': '엠넷', '힐링테라피요가': '힐링테라피요가', '좋은곡들': '좋은곡들', 'Takealook': 'Takealook', '운동할때듣는': '운동할때듣는', '팝송추천': '팝송추천', '락': '락', '주간': '주간', '이일우': '이일우', '인디음악': '인디음악', '한동윤': '한동윤', '카페에서듣기좋은': '카페에서듣기좋은', '불금': '불금', '거짓말': '거짓말', '잠들기전': '잠들기전', '뮤직카로마': '뮤직카로마', '칠뮤직': '칠뮤직', '알앤비': '알앤비', '달달': '달달', '장마': '장마', 'before1970': 'before1970', '독주곡': '독주곡', '기분': '기분', '옥타곤': '옥타곤', '로큰롤': '로큰롤', '펑크락': '펑크락', '행복': '행복', '꿈': '꿈', '아련하게': '아련하게', '1990년대': '1990년대', '겨울노래': '겨울노래', '그냥좋은노래': '그냥좋은노래', '위로': '위로', 'BlackMusic': 'BlackMusic', '밤에듣기좋은노래': '밤에듣기좋은노래', '퓨쳐베이스': '퓨쳐베이스', '가을동화': '가을동화', '런닝': '런닝', '미국클래식': '미국클래식', '모두가_흥얼흥얼': '모두가_흥얼흥얼', '헬스': '헬스', '팝송': '팝송', '꾸준히업뎃': '꾸준히업뎃', '연휴': '연휴', '라디오': '라디오', '다나': '다나', '인디밴드': '인디밴드', 'GD': 'GD', '그루브': '그루브', '피톤치드': '피톤치드', '방학': '방학', '빌보드': '빌보드', '영화클래식': '영화클래식', '아무거나': '아무거나', '가을밤': '가을밤', '크리스마스송': '크리스마스송', '봄노래': '봄노래', '도입': '도입', '피쉬슈즈': '피쉬슈즈', 'unplugged': 'unplugged', '힐링': '힐링', '떼껄룩': '떼껄룩', '올드팝': '올드팝', '걸그룹': '걸그룹', '7살': '7살', '띵곡': '띵곡', '떄껄룩': '떄껄룩', '조용하게': '조용하게', '센치한': '센치한', '잔잔함': '잔잔함', '러브송': '러브송', '따뜻한': '따뜻한', '신인': '신인', '맥주한잔': '맥주한잔', '이미지는_직접찍은사진': '이미지는_직접찍은사진', '고민': '고민', '빌보드핫차트': '빌보드핫차트', '잔잔한팝송': '잔잔한팝송', '생각': '생각', '기분좋은': '기분좋은', '펑키': '펑키', '그루브한': '그루브한', '새해': '새해', '클래식': '클래식', '동요': '동요', '스윙재즈': '스윙재즈', '공연': '공연', '듀엣': '듀엣', '시원한노래': '시원한노래', '새벽': '새벽', '보이스': '보이스', '선데이': '선데이', '발레음악': '발레음악', '최고의노래': '최고의노래', '회상': '회상', '여운': '여운', '휴가': '휴가', '기분업': '기분업', '현섭': '현섭', '텐션업': '텐션업', '가을감성': '가을감성', '오승훈': '오승훈', '수록곡': '수록곡', '몽환적인': '몽환적인', '느껴져': '느껴져', '도입부': '도입부', '천상지희': '천상지희', '태교음악': '태교음악', '추천곡': '추천곡', '멜로디': '멜로디', '트렌드': '트렌드', '인디추천': '인디추천', '클럽노래': '클럽노래', '책읽을때': '책읽을때', 'Greenday': 'Greenday', '감성적인': '감성적인', '운동할때듣는음악': '운동할때듣는음악', '에너지': '에너지', '삶': '삶', '파워워킹': '파워워킹', '봄바람': '봄바람', '트렌디': '트렌디', '인생곡': '인생곡', '힙합': '힙합', '발랄한': '발랄한', '스웩': '스웩', '100번': '100번', '힙합엘이': '힙합엘이', '올드송': '올드송', '달달함': '달달함', '따듯한': '따듯한', '연인': '연인', '컨트리': '컨트리', '카톡': '카톡', '졸릴때': '졸릴때', '걸그룹댄스': '걸그룹댄스', '노래추천': '노래추천', '뉴에이지': '뉴에이지', '독서를돕는음악': '독서를돕는음악', '중국노래': '중국노래', '바이준': '바이준', '부부뮤지션': '부부뮤지션', '백색소음': '백색소음', '바캉스': '바캉스', '듣고': '듣고', '또는': '또는', 'Lofi': 'Lofi', '낭만': '낭만', '목요일': '목요일', '끝': '끝', '더위': '더위', '연애중': '연애중', '초원': '초원', '스래시메탈': '스래시메탈', '찬송': '찬송', '알앤비소울': '알앤비소울', '추천': '추천', '여름밤': '여름밤', '드럼': '드럼', '랩': '랩', '우울': '우울', '연주': '연주', '드라이브할때신나는노래': '드라이브할때신나는노래', '혼자있을때': '혼자있을때', '펍노래': '펍노래', '짧고얕은음악지식속엄선': '짧고얕은음악지식속엄선', '공기정화': '공기정화', '이달의인디포크': '이달의인디포크', '상쾌해지는': '상쾌해지는', '출근': '출근', '디제이': '디제이', '비오는날': '비오는날', '2010': '2010', '포크': '포크', '거슈윈': '거슈윈', '8살': '8살', '맥주': '맥주', '늦잠': '늦잠', 'Lizzo': 'Lizzo', '전지음악': '전지음악', '비트': '비트', '카카오톡': '카카오톡', '프로그레시브하우스': '프로그레시브하우스', '편안한명상을위한': '편안한명상을위한', '스타일': '스타일', '맥주펍': '맥주펍', '취향저격': '취향저격', '프로필음악': '프로필음악', '국힙': '국힙', '햇살': '햇살', '피곤': '피곤', '뉴욕도': '뉴욕도', '외로운': '외로운', '8': '8', '국내힙합': '국내힙합', '크리스마스노래': '크리스마스노래', '휴식': '휴식', '콘서트': '콘서트', '힘들때': '힘들때', '바람': '바람', '귀호강': '귀호강', 'indie': 'indie', 'OST': 'OST', '인기': '인기', '추억회상': '추억회상', '비_오는_날': '비_오는_날', '헬스장에서운동할때듣는노래': '헬스장에서운동할때듣는노래', '수면': '수면', '감각적인': '감각적인', '이브': '이브', 'dance': 'dance', '겨울밤': '겨울밤', '주말': '주말', 'Pop': 'Pop', '2017': '2017', '린아': '린아', '리듬앤블루스': '리듬앤블루스', '명곡': '명곡', '월드뮤직': '월드뮤직', '트로피컬하우스': '트로피컬하우스', '기쁠때': '기쁠때', 'playlist3': 'playlist3', '좋아요좀눌러줘요': '좋아요좀눌러줘요', '오케이션': '오케이션', '데이트': '데이트', '봄나물': '봄나물', '나만알고싶은': '나만알고싶은', '중음': '중음', '일렉': '일렉', '밴드음악': '밴드음악', '매장음악': '매장음악', '햇살좋은날': '햇살좋은날', '어버이날': '어버이날', '좋은노래': '좋은노래', '스티비원더': '스티비원더', '짝사랑': '짝사랑', '90년대발라드': '90년대발라드', '미러볼뮤직': '미러볼뮤직', '편안한': '편안한', '들었으면': '들었으면', '일발장전': '일발장전', '빅룸': '빅룸', '마약': '마약', '시원한': '시원한', '명예의전당': '명예의전당', '외힙': '외힙', '혼자만의겨울': '혼자만의겨울', '7월': '7월', '기리보이의노래는길이보인다': '기리보이의노래는길이보인다', '내한': '내한', '세련된': '세련된', '프로필': '프로필', '방탄소년단': '방탄소년단', '성대': '성대', '누군가생각날때': '누군가생각날때', '힙존': '힙존', '클럽': '클럽', '공부': '공부', '젝스키스': '젝스키스', '흥겨운': '흥겨운', '김윤': '김윤', '90년대': '90년대', '아티스트': '아티스트', '신나는곡': '신나는곡', '쇼미': '쇼미', '스포츠': '스포츠', '영화OST': '영화OST', '차막힐때': '차막힐때', '썸': '썸', 'Rock': 'Rock', '일렉트로닉': '일렉트로닉', 'dope': 'dope', '더포앳': '더포앳', '아드레날린': '아드레날린', '보이그룹': '보이그룹', '나만알고싶은음악': '나만알고싶은음악', '상쾌': '상쾌', '이별': '이별', '미술관': '미술관', 'classic': 'classic', '눈물': '눈물', '소울': '소울', '강렬한사운드': '강렬한사운드', '힙스터': '힙스터', '나들이': '나들이', '광고음악': '광고음악', '이거': '이거', '비트좋은': '비트좋은', '치명': '치명', 'uspop': 'uspop', '나만의Best3': '나만의Best3', '헬스장에서': '헬스장에서', '신진래퍼': '신진래퍼', '조용한음악': '조용한음악', '그리움': '그리움', '페스티벌음악': '페스티벌음악', '우주소녀': '우주소녀', '기타': '기타', '대만': '대만', '청량함': '청량함', '외국펍': '외국펍', 'EDMFloor': 'EDMFloor', '건조하고': '건조하고', '여름밤에듣기좋은음악': '여름밤에듣기좋은음악', '한강': '한강', 'Sadko': 'Sadko', '썸머': '썸머', '연주음악': '연주음악', '사랑': '사랑', '혼자': '혼자', '아이돌명곡': '아이돌명곡', '2016멜로디포레스트캠프': '2016멜로디포레스트캠프', '빠른비트': '빠른비트', '쓸쓸': '쓸쓸', '관악기': '관악기', '한번쯤은': '한번쯤은', '댄스뮤직': '댄스뮤직', '신나는': '신나는', '언플러그드': '언플러그드'}\n"
     ]
    }
   ],
   "source": [
    "tag_stop_dict = make_dict_stop(tag_set, stopwords)\n",
    "print(tag_stop_dict)"
   ]
  },
  {
   "cell_type": "markdown",
   "id": "7f273a20",
   "metadata": {},
   "source": [
    "## Stemming 제거\n",
    "\n",
    "- 한글에서 동일한 의미여도 표현이 다른 경우를 자동적으로 찾는 것은 불가능하다\n",
    "- 임의로 동일한 의미의 단어 묶음을 만들 필요가 있다"
   ]
  },
  {
   "cell_type": "code",
   "execution_count": 33,
   "id": "61036fb8",
   "metadata": {},
   "outputs": [],
   "source": [
    "# 설정 필요\n",
    "stemmings = {\n",
    "    '락' : {'락', '록'}\n",
    "}"
   ]
  },
  {
   "cell_type": "code",
   "execution_count": 34,
   "id": "91870b38",
   "metadata": {},
   "outputs": [],
   "source": [
    "def make_dict_stem(tag_set, stemmings):\n",
    "    tag_dict = dict()\n",
    "    \n",
    "    for i in tag_set:\n",
    "        if not i in tag_dict:\n",
    "            \n",
    "            # stemming으로 설정한 단어가 존재하는지 확인\n",
    "            for j in stemmings:\n",
    "                if i in stemmings[j]:\n",
    "                    tag_dict[i] = j\n",
    "                    break\n",
    "            \n",
    "            # 존재하지 않는 경우\n",
    "            if not i in tag_dict:\n",
    "                tag_dict[i] = i\n",
    "    \n",
    "    return tag_dict"
   ]
  },
  {
   "cell_type": "code",
   "execution_count": 35,
   "id": "9bee5cb2",
   "metadata": {},
   "outputs": [
    {
     "name": "stdout",
     "output_type": "stream",
     "text": [
      "{'피트니스': '피트니스', '눈오는날': '눈오는날', '다이어트': '다이어트', '헬스장': '헬스장', '재즈': '재즈', '댄스신에': '댄스신에', '밴드': '밴드', '분위기좋은': '분위기좋은', '둠칫둠칫': '둠칫둠칫', '남녀': '남녀', '엑소': '엑소', '잔잔하게': '잔잔하게', '들어봤을': '들어봤을', '달달한': '달달한', 'futurebass': 'futurebass', '따스한': '따스한', '격렬함': '격렬함', '기분전환': '기분전환', '초록빛': '초록빛', '샤워': '샤워', '연말파티': '연말파티', '고음병': '고음병', '팝': '팝', '자연주의': '자연주의', '질리지않는': '질리지않는', '환상적인': '환상적인', '힐링피아노연주곡': '힐링피아노연주곡', '유니크': '유니크', '자연': '자연', 'GZ': 'GZ', '에센셜': '에센셜', 'Chillout': 'Chillout', '우아한': '우아한', '헤이즈': '헤이즈', '추위': '추위', '칠링': '칠링', '이루마': '이루마', 'Duet': 'Duet', '아이돌': '아이돌', '소원': '소원', '태교클래식': '태교클래식', '어쿠스틱': '어쿠스틱', 'ksks': 'ksks', 'RNBSOUL': 'RNBSOUL', 'BTS': 'BTS', '히피': '히피', '퀸덤원곡모음': '퀸덤원곡모음', '중국음악': '중국음악', '펍': '펍', '눈': '눈', 'M에센셜': 'M에센셜', 'EDM': 'EDM', '느낌있는': '느낌있는', '조용한': '조용한', '힙한': '힙한', '추천노래': '추천노래', '라운지': '라운지', '내가좋아하는음악트랙': '내가좋아하는음악트랙', '매장': '매장', '댄스음악': '댄스음악', '스윙': '스윙', '랩소디인블루': '랩소디인블루', '토요명화': '토요명화', 'Feat': 'Feat', '아미라면': '아미라면', '뺏고싶다': '뺏고싶다', '목록': '목록', '피아노': '피아노', 'Top100에': 'Top100에', '뉴페이스': '뉴페이스', '퓨전재즈': '퓨전재즈', '썸타는중': '썸타는중', '자기전': '자기전', '버스': '버스', '가을': '가을', '여자가수': '여자가수', '힘든날': '힘든날', '나만알기아까운노래': '나만알기아까운노래', '파티': '파티', '아기동요': '아기동요', '진원': '진원', '다중음격': '다중음격', '다짐': '다짐', '메탈': '메탈', '까페': '까페', 'Chill': 'Chill', '아쉬움': '아쉬움', '쓸쓸한': '쓸쓸한', '키즈동화': '키즈동화', '집': '집', '밝은': '밝은', '섹시': '섹시', '스테파니': '스테파니', '미세먼지': '미세먼지', 'RnB': 'RnB', '이슬': '이슬', '이소라': '이소라', '공부하며듣는': '공부하며듣는', '최신': '최신', '릴랙스요가클래식': '릴랙스요가클래식', 'Metal': 'Metal', '가요': '가요', '파란': '파란', 'ASMR': 'ASMR', '광고': '광고', '비와이': '비와이', '국외': '국외', '외로움을': '외로움을', '김광민': '김광민', '한번쯤': '한번쯤', '신맛': '신맛', '쓸쓸함': '쓸쓸함', '지칠때': '지칠때', '업데이트중': '업데이트중', 'funk': 'funk', '힘내': '힘내', '여름방학': '여름방학', '몽글': '몽글', '내적댄스폭발': '내적댄스폭발', '필라테스': '필라테스', '9살': '9살', '타이틀곡': '타이틀곡', '소망': '소망', '8월': '8월', '비_오는날': '비_오는날', '불면증': '불면증', '고속도로': '고속도로', '인생곡들만': '인생곡들만', 'EarlySoul': 'EarlySoul', '잔디': '잔디', '성탄절': '성탄절', '후회': '후회', '기리보이': '기리보이', '인디': '인디', '겨울': '겨울', '드라이브': '드라이브', '출근길': '출근길', '신곡': '신곡', 'CCM': 'CCM', '달': '달', '카페음악': '카페음악', '생기': '생기', '발레': '발레', '중독성': '중독성', '빅밴드': '빅밴드', '음악추천': '음악추천', '여자아이돌': '여자아이돌', '빌로우': '빌로우', '댄스곡': '댄스곡', '왜이리딱딱한것이냐': '왜이리딱딱한것이냐', '바다': '바다', '해외알앤비소울': '해외알앤비소울', 'bgm': 'bgm', '보컬재즈': '보컬재즈', '분위기': '분위기', '산책': '산책', '상큼한': '상큼한', '추억의': '추억의', '슈게이징': '슈게이징', '외국힙합노래': '외국힙합노래', '달콤': '달콤', '명상': '명상', '청량한': '청량한', '잠': '잠', 'Maroon': 'Maroon', '라이징스타': '라이징스타', '사무실': '사무실', '노동요': '노동요', '휴일': '휴일', 'YOUNG': 'YOUNG', '스타일리쉬': '스타일리쉬', 'HipHop': 'HipHop', 'Coldplay': 'Coldplay', '발라드': '발라드', '쇼미더머니': '쇼미더머니', '힐링노래': '힐링노래', '독서': '독서', '빌보드핫100': '빌보드핫100', '80년대': '80년대', '뷰티샵': '뷰티샵', '폐막식': '폐막식', '커플': '커플', 'Elecronica': 'Elecronica', '쉼표': '쉼표', '벚꽃': '벚꽃', 'Billboard': 'Billboard', '믿고듣는': '믿고듣는', '유럽여행': '유럽여행', '리드미컬': '리드미컬', '소란': '소란', '여행': '여행', '존윌리엄스': '존윌리엄스', '시험기간집중할때': '시험기간집중할때', '슬픔': '슬픔', '시티팝': '시티팝', '여름': '여름', '스트레스': '스트레스', 'WJSN': 'WJSN', 'jazzymood': 'jazzymood', '정서발달': '정서발달', '유튜브': '유튜브', '나만들을거얌': '나만들을거얌', 'SEX': 'SEX', '신나는노래': '신나는노래', '패셔너블': '패셔너블', '밤': '밤', '빗물같은': '빗물같은', '셋리스트': '셋리스트', '안녕': '안녕', '민중가요': '민중가요', 'Summer': 'Summer', '옛날노래': '옛날노래', '포근함': '포근함', '록발라드': '록발라드', '해변': '해변', '쇼핑': '쇼핑', '인싸': '인싸', '가즈아': '가즈아', '하드록메탈': '하드록메탈', '호불호없는': '호불호없는', '센치한날': '센치한날', '새벽에': '새벽에', '올림픽': '올림픽', '트렌디하게': '트렌디하게', '일상': '일상', '광동': '광동', '몽환': '몽환', '들을거없을때': '들을거없을때', '연애': '연애', '카페': '카페', '노래': '노래', '시간순': '시간순', '위대함': '위대함', '어린이클래식': '어린이클래식', '영국': '영국', '남자아이돌': '남자아이돌', '가을이별': '가을이별', '겨울왕국': '겨울왕국', '자기전에': '자기전에', '감성힙합': '감성힙합', '봄캐롤': '봄캐롤', '팝재즈': '팝재즈', '외로움': '외로움', '새벽감성': '새벽감성', '모던': '모던', '6월': '6월', '1980년대': '1980년대', '셧업앤댄스': '셧업앤댄스', '퇴근길': '퇴근길', '봄': '봄', '우울한': '우울한', '아침': '아침', '잠결': '잠결', '여유': '여유', '가을여행': '가을여행', '신날때': '신날때', '아무노래': '아무노래', '일렉트로니카': '일렉트로니카', '연말': '연말', '목장': '목장', '테크노': '테크노', '스트레스해소': '스트레스해소', '1990': '1990', '히트곡': '히트곡', '뉴홉클': '뉴홉클', 'electronica': 'electronica', '일요일': '일요일', '아련': '아련', 'NewHopeClub': 'NewHopeClub', '인디뮤직': '인디뮤직', 'MTV': 'MTV', '몽환한': '몽환한', '주간일렉트로니카': '주간일렉트로니카', '풀내음': '풀내음', 'kpop': 'kpop', '재즈힙합': '재즈힙합', '이태원': '이태원', '모닝콜': '모닝콜', '관현악': '관현악', '호호클럽': '호호클럽', '니엘': '니엘', '팝음악': '팝음악', '비': '비', '방해금지': '방해금지', '티타임': '티타임', '남성적인': '남성적인', '빌보드Hot50': '빌보드Hot50', '명품발라드': '명품발라드', '재즈추천': '재즈추천', '속도감': '속도감', '힙합클럽': '힙합클럽', '부모님': '부모님', '리스트': '리스트', '싱어송라이터': '싱어송라이터', '그루비': '그루비', '야경': '야경', '심포닉메탈': '심포닉메탈', 'rockisnotdead': 'rockisnotdead', '감성발라드': '감성발라드', 'COOL': 'COOL', '크리스마스': '크리스마스', '내적댄스': '내적댄스', '운동': '운동', '퀸덤': '퀸덤', '김영후': '김영후', '멈출수없는': '멈출수없는', '야외에서듣는피아노연주곡': '야외에서듣는피아노연주곡', '자장가': '자장가', '록': '락', '달달하게': '달달하게', '상쾌한': '상쾌한', '숨은명곡': '숨은명곡', '고백': '고백', '가족': '가족', '아픈': '아픈', '연주곡': '연주곡', '샤우팅': '샤우팅', '그냥': '그냥', '하늘': '하늘', '월드': '월드', '드림팝': '드림팝', '댄스본능': '댄스본능', '시원': '시원', '명작': '명작', '잔잔한': '잔잔한', 'Chirstmas': 'Chirstmas', '류이치사카모토': '류이치사카모토', '컴백전쟁': '컴백전쟁', '너에게': '너에게', '노래방': '노래방', '2000': '2000', 'Instruments': 'Instruments', '댄스': '댄스', '우울할때': '우울할때', '힙합갬성': '힙합갬성', 'ballads': 'ballads', '북카페': '북카페', '귀르가즘': '귀르가즘', '중국': '중국', '노래모음': '노래모음', '클럽음악': '클럽음악', '슬픔의': '슬픔의', '인디곡': '인디곡', '띵곡들': '띵곡들', '감미로운': '감미로운', '흐린날': '흐린날', '국내': '국내', '홍콩': '홍콩', 'mood': 'mood', '이별노래': '이별노래', '크리스마스캐럴': '크리스마스캐럴', '음악': '음악', '멜로': '멜로', '졸음운전': '졸음운전', '조용히': '조용히', '나른한': '나른한', '많은곡수': '많은곡수', '아메리칸클래식': '아메리칸클래식', '나만들을꺼': '나만들을꺼', '트로트': '트로트', 'groove': 'groove', '답답함': '답답함', '잔잔한음악': '잔잔한음악', '옥콩': '옥콩', '캐롤': '캐롤', '2000년대': '2000년대', '플레이리스트': '플레이리스트', '저녁': '저녁', '차막힘': '차막힘', '저스디스': '저스디스', '피쳐링': '피쳐링', '요가': '요가', '흥얼흥얼': '흥얼흥얼', '로큰롤명예의전당': '로큰롤명예의전당', '운동할때': '운동할때', '실험': '실험', '내취향': '내취향', 'Popular': 'Popular', '감성': '감성', 'Matisse': 'Matisse', '설렘': '설렘', '커피': '커피', '아미를위한': '아미를위한', '추억': '추억', '캐럴': '캐럴', 'Jazz': 'Jazz', '슬픈노래': '슬픈노래', 'JPOP': 'JPOP', '배경음악': '배경음악', '스밍': '스밍', '런쥔': '런쥔', '5월_4주차': '5월_4주차', '집중': '집중', '인생': '인생', '1960': '1960', '숨겨진': '숨겨진', '뮤지션': '뮤지션', '박지섭': '박지섭', '꿀': '꿀', '외사랑': '외사랑', '아무생각없이': '아무생각없이', '사이다': '사이다', 'HIPSTER': 'HIPSTER', '레깅스': '레깅스', '오후': '오후', '무드': '무드', '마음을감싸주는': '마음을감싸주는', '날려버려': '날려버려', '엠넷': '엠넷', '힐링테라피요가': '힐링테라피요가', '좋은곡들': '좋은곡들', 'Takealook': 'Takealook', '운동할때듣는': '운동할때듣는', '팝송추천': '팝송추천', '락': '락', '주간': '주간', '이일우': '이일우', '인디음악': '인디음악', '한동윤': '한동윤', '카페에서듣기좋은': '카페에서듣기좋은', '불금': '불금', '거짓말': '거짓말', '잠들기전': '잠들기전', '뮤직카로마': '뮤직카로마', '칠뮤직': '칠뮤직', '알앤비': '알앤비', '달달': '달달', '장마': '장마', 'before1970': 'before1970', '독주곡': '독주곡', '기분': '기분', '옥타곤': '옥타곤', '로큰롤': '로큰롤', '펑크락': '펑크락', '행복': '행복', '꿈': '꿈', '아련하게': '아련하게', '1990년대': '1990년대', '겨울노래': '겨울노래', '그냥좋은노래': '그냥좋은노래', '위로': '위로', 'BlackMusic': 'BlackMusic', '밤에듣기좋은노래': '밤에듣기좋은노래', '퓨쳐베이스': '퓨쳐베이스', '가을동화': '가을동화', '런닝': '런닝', '미국클래식': '미국클래식', '모두가_흥얼흥얼': '모두가_흥얼흥얼', '헬스': '헬스', '팝송': '팝송', '꾸준히업뎃': '꾸준히업뎃', '연휴': '연휴', '라디오': '라디오', '다나': '다나', '인디밴드': '인디밴드', 'GD': 'GD', '그루브': '그루브', '피톤치드': '피톤치드', '방학': '방학', '빌보드': '빌보드', '영화클래식': '영화클래식', '아무거나': '아무거나', '가을밤': '가을밤', '크리스마스송': '크리스마스송', '봄노래': '봄노래', '도입': '도입', '피쉬슈즈': '피쉬슈즈', 'unplugged': 'unplugged', '힐링': '힐링', '떼껄룩': '떼껄룩', '올드팝': '올드팝', '걸그룹': '걸그룹', '7살': '7살', '띵곡': '띵곡', '떄껄룩': '떄껄룩', '조용하게': '조용하게', '센치한': '센치한', '잔잔함': '잔잔함', '러브송': '러브송', '따뜻한': '따뜻한', '신인': '신인', '맥주한잔': '맥주한잔', '이미지는_직접찍은사진': '이미지는_직접찍은사진', '고민': '고민', '빌보드핫차트': '빌보드핫차트', '잔잔한팝송': '잔잔한팝송', '생각': '생각', '기분좋은': '기분좋은', '펑키': '펑키', '그루브한': '그루브한', '새해': '새해', '클래식': '클래식', '동요': '동요', '스윙재즈': '스윙재즈', '공연': '공연', '듀엣': '듀엣', '시원한노래': '시원한노래', '새벽': '새벽', '보이스': '보이스', '선데이': '선데이', '발레음악': '발레음악', '최고의노래': '최고의노래', '회상': '회상', '여운': '여운', '휴가': '휴가', '기분업': '기분업', '현섭': '현섭', '텐션업': '텐션업', '가을감성': '가을감성', '오승훈': '오승훈', '수록곡': '수록곡', '몽환적인': '몽환적인', '느껴져': '느껴져', '도입부': '도입부', '천상지희': '천상지희', '태교음악': '태교음악', '추천곡': '추천곡', '멜로디': '멜로디', '트렌드': '트렌드', '인디추천': '인디추천', '클럽노래': '클럽노래', '책읽을때': '책읽을때', 'Greenday': 'Greenday', '감성적인': '감성적인', '운동할때듣는음악': '운동할때듣는음악', '에너지': '에너지', '삶': '삶', '파워워킹': '파워워킹', '봄바람': '봄바람', '트렌디': '트렌디', '인생곡': '인생곡', '힙합': '힙합', '발랄한': '발랄한', '스웩': '스웩', '100번': '100번', '힙합엘이': '힙합엘이', '올드송': '올드송', '달달함': '달달함', '따듯한': '따듯한', '연인': '연인', '컨트리': '컨트리', '카톡': '카톡', '졸릴때': '졸릴때', '걸그룹댄스': '걸그룹댄스', '노래추천': '노래추천', '뉴에이지': '뉴에이지', '독서를돕는음악': '독서를돕는음악', '중국노래': '중국노래', '바이준': '바이준', '부부뮤지션': '부부뮤지션', '백색소음': '백색소음', '바캉스': '바캉스', '듣고': '듣고', '또는': '또는', 'Lofi': 'Lofi', '낭만': '낭만', '목요일': '목요일', '끝': '끝', '더위': '더위', '연애중': '연애중', '초원': '초원', '스래시메탈': '스래시메탈', '찬송': '찬송', '알앤비소울': '알앤비소울', '추천': '추천', '여름밤': '여름밤', '드럼': '드럼', '랩': '랩', '우울': '우울', '연주': '연주', '드라이브할때신나는노래': '드라이브할때신나는노래', '혼자있을때': '혼자있을때', '펍노래': '펍노래', '짧고얕은음악지식속엄선': '짧고얕은음악지식속엄선', '공기정화': '공기정화', '이달의인디포크': '이달의인디포크', '상쾌해지는': '상쾌해지는', '출근': '출근', '디제이': '디제이', '비오는날': '비오는날', '2010': '2010', '포크': '포크', '거슈윈': '거슈윈', '8살': '8살', '맥주': '맥주', '늦잠': '늦잠', 'Lizzo': 'Lizzo', '전지음악': '전지음악', '비트': '비트', '카카오톡': '카카오톡', '프로그레시브하우스': '프로그레시브하우스', '편안한명상을위한': '편안한명상을위한', '스타일': '스타일', '맥주펍': '맥주펍', '취향저격': '취향저격', '프로필음악': '프로필음악', '국힙': '국힙', '햇살': '햇살', '피곤': '피곤', '뉴욕도': '뉴욕도', '외로운': '외로운', '8': '8', '국내힙합': '국내힙합', '크리스마스노래': '크리스마스노래', '휴식': '휴식', '콘서트': '콘서트', '힘들때': '힘들때', '바람': '바람', '귀호강': '귀호강', 'indie': 'indie', 'OST': 'OST', '인기': '인기', '추억회상': '추억회상', '비_오는_날': '비_오는_날', '헬스장에서운동할때듣는노래': '헬스장에서운동할때듣는노래', '수면': '수면', '감각적인': '감각적인', '이브': '이브', 'dance': 'dance', '겨울밤': '겨울밤', '주말': '주말', 'Pop': 'Pop', '2017': '2017', '린아': '린아', '리듬앤블루스': '리듬앤블루스', '명곡': '명곡', '월드뮤직': '월드뮤직', '트로피컬하우스': '트로피컬하우스', '기쁠때': '기쁠때', 'playlist3': 'playlist3', '좋아요좀눌러줘요': '좋아요좀눌러줘요', '오케이션': '오케이션', '데이트': '데이트', '봄나물': '봄나물', '나만알고싶은': '나만알고싶은', '중음': '중음', '일렉': '일렉', '밴드음악': '밴드음악', '매장음악': '매장음악', '햇살좋은날': '햇살좋은날', '어버이날': '어버이날', '좋은노래': '좋은노래', '스티비원더': '스티비원더', '짝사랑': '짝사랑', '90년대발라드': '90년대발라드', '미러볼뮤직': '미러볼뮤직', '편안한': '편안한', '들었으면': '들었으면', '일발장전': '일발장전', '빅룸': '빅룸', '마약': '마약', '시원한': '시원한', '명예의전당': '명예의전당', '외힙': '외힙', '혼자만의겨울': '혼자만의겨울', '7월': '7월', '기리보이의노래는길이보인다': '기리보이의노래는길이보인다', '내한': '내한', '세련된': '세련된', '프로필': '프로필', '방탄소년단': '방탄소년단', '성대': '성대', '누군가생각날때': '누군가생각날때', '힙존': '힙존', '클럽': '클럽', '공부': '공부', '젝스키스': '젝스키스', '흥겨운': '흥겨운', '김윤': '김윤', '90년대': '90년대', '아티스트': '아티스트', '신나는곡': '신나는곡', '쇼미': '쇼미', '스포츠': '스포츠', '영화OST': '영화OST', '차막힐때': '차막힐때', '썸': '썸', 'Rock': 'Rock', '일렉트로닉': '일렉트로닉', 'dope': 'dope', '더포앳': '더포앳', '아드레날린': '아드레날린', '보이그룹': '보이그룹', '나만알고싶은음악': '나만알고싶은음악', '상쾌': '상쾌', '이별': '이별', '미술관': '미술관', 'classic': 'classic', '눈물': '눈물', '소울': '소울', '강렬한사운드': '강렬한사운드', '힙스터': '힙스터', '나들이': '나들이', '광고음악': '광고음악', '이거': '이거', '비트좋은': '비트좋은', '치명': '치명', 'uspop': 'uspop', '나만의Best3': '나만의Best3', '헬스장에서': '헬스장에서', '신진래퍼': '신진래퍼', '조용한음악': '조용한음악', '그리움': '그리움', '페스티벌음악': '페스티벌음악', '우주소녀': '우주소녀', '기타': '기타', '대만': '대만', '청량함': '청량함', '외국펍': '외국펍', 'EDMFloor': 'EDMFloor', '건조하고': '건조하고', '여름밤에듣기좋은음악': '여름밤에듣기좋은음악', '한강': '한강', 'Sadko': 'Sadko', '썸머': '썸머', '연주음악': '연주음악', '사랑': '사랑', '혼자': '혼자', '아이돌명곡': '아이돌명곡', '2016멜로디포레스트캠프': '2016멜로디포레스트캠프', '빠른비트': '빠른비트', '쓸쓸': '쓸쓸', '관악기': '관악기', '한번쯤은': '한번쯤은', '댄스뮤직': '댄스뮤직', '신나는': '신나는', '언플러그드': '언플러그드'}\n"
     ]
    }
   ],
   "source": [
    "tag_stem_dict = make_dict_stem(tag_set, stemmings)\n",
    "print(tag_stem_dict)"
   ]
  },
  {
   "cell_type": "markdown",
   "id": "012a7207",
   "metadata": {},
   "source": [
    "## 태그 dict 적용 함수"
   ]
  },
  {
   "cell_type": "code",
   "execution_count": 36,
   "id": "4efbf837",
   "metadata": {},
   "outputs": [],
   "source": [
    "def apply_tag_dict(data, tag_dict):\n",
    "    apply_data = data.copy()\n",
    "    \n",
    "    for i in range(len(apply_data)):\n",
    "        tag = apply_data['tags'][i]\n",
    "        apply_tag = []\n",
    "        \n",
    "        for j in tag:\n",
    "            if not tag_dict[j] in apply_tag and tag_dict[j] != \"\":\n",
    "                apply_tag.append(tag_dict[j])\n",
    "        \n",
    "        apply_data['tags'][i] = apply_tag\n",
    "\n",
    "    return apply_data"
   ]
  },
  {
   "cell_type": "code",
   "execution_count": 37,
   "id": "e9dd3040",
   "metadata": {},
   "outputs": [
    {
     "name": "stderr",
     "output_type": "stream",
     "text": [
      "C:\\Users\\user\\AppData\\Local\\Temp\\ipykernel_14128\\2377676666.py:12: SettingWithCopyWarning: \n",
      "A value is trying to be set on a copy of a slice from a DataFrame\n",
      "\n",
      "See the caveats in the documentation: https://pandas.pydata.org/pandas-docs/stable/user_guide/indexing.html#returning-a-view-versus-a-copy\n",
      "  apply_data['tags'][i] = apply_tag\n"
     ]
    },
    {
     "data": {
      "text/html": [
       "<div>\n",
       "<style scoped>\n",
       "    .dataframe tbody tr th:only-of-type {\n",
       "        vertical-align: middle;\n",
       "    }\n",
       "\n",
       "    .dataframe tbody tr th {\n",
       "        vertical-align: top;\n",
       "    }\n",
       "\n",
       "    .dataframe thead th {\n",
       "        text-align: right;\n",
       "    }\n",
       "</style>\n",
       "<table border=\"1\" class=\"dataframe\">\n",
       "  <thead>\n",
       "    <tr style=\"text-align: right;\">\n",
       "      <th></th>\n",
       "      <th>tags</th>\n",
       "      <th>song_id</th>\n",
       "      <th>like_cnt</th>\n",
       "    </tr>\n",
       "  </thead>\n",
       "  <tbody>\n",
       "    <tr>\n",
       "      <th>0</th>\n",
       "      <td>[락]</td>\n",
       "      <td>[525514, 129701, 383374, 562083, 297861, 13954...</td>\n",
       "      <td>71</td>\n",
       "    </tr>\n",
       "    <tr>\n",
       "      <th>1</th>\n",
       "      <td>[추억, 회상]</td>\n",
       "      <td>[432406, 675945, 497066, 120377, 389529, 24427...</td>\n",
       "      <td>1</td>\n",
       "    </tr>\n",
       "    <tr>\n",
       "      <th>2</th>\n",
       "      <td>[까페, 잔잔한]</td>\n",
       "      <td>[83116, 276692, 166267, 186301, 354465, 256598...</td>\n",
       "      <td>17</td>\n",
       "    </tr>\n",
       "    <tr>\n",
       "      <th>3</th>\n",
       "      <td>[연말, 눈오는날, 캐럴, 분위기, 따듯한, 크리스마스캐럴, 겨울노래, 크리스마스,...</td>\n",
       "      <td>[394031, 195524, 540149, 287984, 440773, 10033...</td>\n",
       "      <td>33</td>\n",
       "    </tr>\n",
       "    <tr>\n",
       "      <th>4</th>\n",
       "      <td>[댄스]</td>\n",
       "      <td>[159327, 553610, 5130, 645103, 294435, 100657,...</td>\n",
       "      <td>9</td>\n",
       "    </tr>\n",
       "  </tbody>\n",
       "</table>\n",
       "</div>"
      ],
      "text/plain": [
       "                                                tags  \\\n",
       "0                                                [락]   \n",
       "1                                           [추억, 회상]   \n",
       "2                                          [까페, 잔잔한]   \n",
       "3  [연말, 눈오는날, 캐럴, 분위기, 따듯한, 크리스마스캐럴, 겨울노래, 크리스마스,...   \n",
       "4                                               [댄스]   \n",
       "\n",
       "                                             song_id  like_cnt  \n",
       "0  [525514, 129701, 383374, 562083, 297861, 13954...        71  \n",
       "1  [432406, 675945, 497066, 120377, 389529, 24427...         1  \n",
       "2  [83116, 276692, 166267, 186301, 354465, 256598...        17  \n",
       "3  [394031, 195524, 540149, 287984, 440773, 10033...        33  \n",
       "4  [159327, 553610, 5130, 645103, 294435, 100657,...         9  "
      ]
     },
     "execution_count": 37,
     "metadata": {},
     "output_type": "execute_result"
    }
   ],
   "source": [
    "stop_data = apply_tag_dict(train_data_sample, tag_stop_dict)\n",
    "stop_data.head()"
   ]
  },
  {
   "cell_type": "code",
   "execution_count": 38,
   "id": "4d7f1204",
   "metadata": {},
   "outputs": [
    {
     "name": "stdout",
     "output_type": "stream",
     "text": [
      "{'피트니스', '눈오는날', '다이어트', '헬스장', '재즈', '댄스신에', '밴드', '분위기좋은', '둠칫둠칫', '남녀', '엑소', '잔잔하게', '들어봤을', '달달한', 'futurebass', '따스한', '격렬함', '기분전환', '초록빛', '샤워', '연말파티', '고음병', '팝', '자연주의', '질리지않는', '환상적인', '힐링피아노연주곡', '유니크', '자연', 'GZ', '에센셜', 'Chillout', '우아한', '헤이즈', '추위', '칠링', '이루마', 'Duet', '아이돌', '소원', '태교클래식', '어쿠스틱', 'ksks', 'RNBSOUL', 'BTS', '히피', '퀸덤원곡모음', '중국음악', '펍', '눈', 'M에센셜', 'EDM', '느낌있는', '조용한', '힙한', '추천노래', '라운지', '내가좋아하는음악트랙', '매장', '댄스음악', '스윙', '랩소디인블루', '토요명화', 'Feat', '아미라면', '뺏고싶다', '목록', '피아노', 'Top100에', '뉴페이스', '퓨전재즈', '썸타는중', '자기전', '버스', '가을', '여자가수', '힘든날', '나만알기아까운노래', '파티', '아기동요', '진원', '다중음격', '다짐', '메탈', '까페', 'Chill', '아쉬움', '쓸쓸한', '키즈동화', '집', '밝은', '섹시', '스테파니', '미세먼지', 'RnB', '이슬', '이소라', '공부하며듣는', '최신', '릴랙스요가클래식', 'Metal', '가요', '파란', 'ASMR', '광고', '비와이', '국외', '외로움을', '김광민', '한번쯤', '신맛', '쓸쓸함', '지칠때', '업데이트중', 'funk', '힘내', '여름방학', '몽글', '내적댄스폭발', '필라테스', '9살', '타이틀곡', '소망', '8월', '비_오는날', '불면증', '고속도로', '인생곡들만', 'EarlySoul', '잔디', '성탄절', '후회', '기리보이', '인디', '겨울', '드라이브', '출근길', '신곡', 'CCM', '달', '카페음악', '생기', '발레', '중독성', '빅밴드', '음악추천', '여자아이돌', '빌로우', '댄스곡', '왜이리딱딱한것이냐', '바다', '해외알앤비소울', 'bgm', '보컬재즈', '분위기', '산책', '상큼한', '추억의', '슈게이징', '외국힙합노래', '달콤', '명상', '청량한', '잠', 'Maroon', '라이징스타', '사무실', '노동요', '휴일', 'YOUNG', '스타일리쉬', 'HipHop', 'Coldplay', '발라드', '쇼미더머니', '힐링노래', '독서', '빌보드핫100', '80년대', '뷰티샵', '폐막식', '커플', 'Elecronica', '쉼표', '벚꽃', 'Billboard', '믿고듣는', '유럽여행', '리드미컬', '소란', '여행', '존윌리엄스', '시험기간집중할때', '슬픔', '시티팝', '여름', '스트레스', 'WJSN', 'jazzymood', '정서발달', '유튜브', '나만들을거얌', 'SEX', '신나는노래', '패셔너블', '밤', '빗물같은', '셋리스트', '안녕', '민중가요', 'Summer', '옛날노래', '포근함', '록발라드', '해변', '쇼핑', '인싸', '가즈아', '하드록메탈', '호불호없는', '센치한날', '새벽에', '올림픽', '트렌디하게', '일상', '광동', '몽환', '들을거없을때', '연애', '카페', '노래', '시간순', '위대함', '어린이클래식', '영국', '남자아이돌', '가을이별', '겨울왕국', '자기전에', '감성힙합', '봄캐롤', '팝재즈', '외로움', '새벽감성', '모던', '6월', '1980년대', '셧업앤댄스', '퇴근길', '봄', '우울한', '아침', '잠결', '여유', '가을여행', '신날때', '아무노래', '일렉트로니카', '연말', '목장', '테크노', '스트레스해소', '1990', '히트곡', '뉴홉클', 'electronica', '일요일', '아련', 'NewHopeClub', '인디뮤직', 'MTV', '몽환한', '주간일렉트로니카', '풀내음', 'kpop', '재즈힙합', '이태원', '모닝콜', '관현악', '호호클럽', '니엘', '팝음악', '비', '방해금지', '티타임', '남성적인', '빌보드Hot50', '명품발라드', '재즈추천', '속도감', '힙합클럽', '부모님', '리스트', '싱어송라이터', '그루비', '야경', '심포닉메탈', 'rockisnotdead', '감성발라드', 'COOL', '크리스마스', '내적댄스', '운동', '퀸덤', '김영후', '멈출수없는', '야외에서듣는피아노연주곡', '자장가', '록', '달달하게', '상쾌한', '숨은명곡', '고백', '가족', '아픈', '연주곡', '샤우팅', '그냥', '하늘', '월드', '드림팝', '댄스본능', '시원', '명작', '잔잔한', 'Chirstmas', '류이치사카모토', '컴백전쟁', '너에게', '노래방', '2000', 'Instruments', '댄스', '우울할때', '힙합갬성', 'ballads', '북카페', '귀르가즘', '중국', '노래모음', '클럽음악', '슬픔의', '인디곡', '띵곡들', '감미로운', '흐린날', '국내', '홍콩', 'mood', '이별노래', '크리스마스캐럴', '음악', '멜로', '졸음운전', '조용히', '나른한', '많은곡수', '아메리칸클래식', '나만들을꺼', '트로트', 'groove', '답답함', '잔잔한음악', '옥콩', '캐롤', '2000년대', '플레이리스트', '저녁', '차막힘', '저스디스', '피쳐링', '요가', '흥얼흥얼', '로큰롤명예의전당', '운동할때', '실험', '내취향', 'Popular', '감성', 'Matisse', '설렘', '커피', '아미를위한', '추억', '캐럴', 'Jazz', '슬픈노래', 'JPOP', '배경음악', '스밍', '런쥔', '5월_4주차', '집중', '인생', '1960', '숨겨진', '뮤지션', '박지섭', '꿀', '외사랑', '아무생각없이', '사이다', 'HIPSTER', '레깅스', '오후', '무드', '마음을감싸주는', '엠넷', '힐링테라피요가', '좋은곡들', 'Takealook', '운동할때듣는', '팝송추천', '락', '주간', '이일우', '인디음악', '한동윤', '카페에서듣기좋은', '불금', '거짓말', '잠들기전', '뮤직카로마', '칠뮤직', '알앤비', '달달', '장마', 'before1970', '독주곡', '기분', '옥타곤', '로큰롤', '펑크락', '행복', '꿈', '아련하게', '1990년대', '겨울노래', '그냥좋은노래', '위로', 'BlackMusic', '밤에듣기좋은노래', '퓨쳐베이스', '가을동화', '런닝', '미국클래식', '모두가_흥얼흥얼', '헬스', '팝송', '꾸준히업뎃', '연휴', '라디오', '다나', '인디밴드', 'GD', '그루브', '피톤치드', '방학', '빌보드', '영화클래식', '아무거나', '가을밤', '크리스마스송', '봄노래', '도입', '피쉬슈즈', 'unplugged', '힐링', '떼껄룩', '올드팝', '걸그룹', '7살', '띵곡', '떄껄룩', '조용하게', '센치한', '잔잔함', '러브송', '따뜻한', '신인', '맥주한잔', '이미지는_직접찍은사진', '고민', '빌보드핫차트', '잔잔한팝송', '생각', '기분좋은', '펑키', '그루브한', '새해', '클래식', '동요', '스윙재즈', '공연', '듀엣', '시원한노래', '새벽', '보이스', '선데이', '발레음악', '최고의노래', '회상', '여운', '휴가', '기분업', '현섭', '텐션업', '가을감성', '오승훈', '수록곡', '몽환적인', '느껴져', '도입부', '천상지희', '태교음악', '추천곡', '멜로디', '트렌드', '인디추천', '클럽노래', '책읽을때', 'Greenday', '감성적인', '운동할때듣는음악', '에너지', '삶', '파워워킹', '봄바람', '트렌디', '인생곡', '힙합', '발랄한', '스웩', '100번', '힙합엘이', '올드송', '달달함', '따듯한', '연인', '컨트리', '카톡', '졸릴때', '걸그룹댄스', '노래추천', '뉴에이지', '독서를돕는음악', '중국노래', '바이준', '부부뮤지션', '백색소음', '바캉스', '듣고', '또는', 'Lofi', '낭만', '목요일', '끝', '더위', '연애중', '초원', '스래시메탈', '찬송', '알앤비소울', '추천', '여름밤', '드럼', '랩', '우울', '연주', '드라이브할때신나는노래', '혼자있을때', '펍노래', '짧고얕은음악지식속엄선', '공기정화', '이달의인디포크', '상쾌해지는', '출근', '디제이', '비오는날', '2010', '포크', '거슈윈', '8살', '맥주', '늦잠', 'Lizzo', '전지음악', '비트', '카카오톡', '프로그레시브하우스', '편안한명상을위한', '스타일', '맥주펍', '취향저격', '프로필음악', '국힙', '햇살', '피곤', '뉴욕도', '외로운', '8', '국내힙합', '크리스마스노래', '휴식', '콘서트', '힘들때', '바람', '귀호강', 'indie', 'OST', '인기', '추억회상', '비_오는_날', '헬스장에서운동할때듣는노래', '수면', '감각적인', '이브', 'dance', '겨울밤', '주말', 'Pop', '2017', '린아', '리듬앤블루스', '명곡', '월드뮤직', '트로피컬하우스', '기쁠때', 'playlist3', '좋아요좀눌러줘요', '오케이션', '데이트', '봄나물', '나만알고싶은', '중음', '일렉', '밴드음악', '매장음악', '햇살좋은날', '어버이날', '좋은노래', '스티비원더', '짝사랑', '90년대발라드', '미러볼뮤직', '편안한', '들었으면', '일발장전', '빅룸', '마약', '시원한', '명예의전당', '외힙', '혼자만의겨울', '7월', '기리보이의노래는길이보인다', '내한', '세련된', '프로필', '방탄소년단', '성대', '누군가생각날때', '힙존', '클럽', '공부', '젝스키스', '흥겨운', '김윤', '90년대', '아티스트', '신나는곡', '쇼미', '스포츠', '영화OST', '차막힐때', '썸', 'Rock', '일렉트로닉', 'dope', '더포앳', '아드레날린', '보이그룹', '나만알고싶은음악', '상쾌', '이별', '미술관', 'classic', '눈물', '소울', '강렬한사운드', '힙스터', '나들이', '광고음악', '이거', '비트좋은', '치명', 'uspop', '나만의Best3', '헬스장에서', '신진래퍼', '조용한음악', '그리움', '페스티벌음악', '우주소녀', '기타', '대만', '청량함', '외국펍', 'EDMFloor', '건조하고', '여름밤에듣기좋은음악', '한강', 'Sadko', '썸머', '연주음악', '사랑', '혼자', '아이돌명곡', '2016멜로디포레스트캠프', '빠른비트', '쓸쓸', '관악기', '한번쯤은', '댄스뮤직', '신나는', '언플러그드'}\n"
     ]
    }
   ],
   "source": [
    "# stopword가 제거됨\n",
    "stop_tag_set = make_tag_set(stop_data)\n",
    "print(stop_tag_set)"
   ]
  },
  {
   "cell_type": "markdown",
   "id": "aae69e5b",
   "metadata": {},
   "source": [
    "## 태그 불균형 데이터"
   ]
  },
  {
   "cell_type": "markdown",
   "id": "c540ce3d",
   "metadata": {},
   "source": [
    "## 불균형 정도 측정\n",
    "\n",
    "- 한 태그를 가지는 음악의 최대 개수, 한 태그를 가지는 음악의 개수를 추출\n",
    "- 가중치 부여에 관해서는 논의가 필요"
   ]
  },
  {
   "cell_type": "code",
   "execution_count": 39,
   "id": "85b49d77",
   "metadata": {},
   "outputs": [],
   "source": [
    "def make_song_num_dict(data):\n",
    "    song_ids = dict()\n",
    "    song_num = dict()\n",
    "    max_num = 0\n",
    "    \n",
    "    for i in range(len(data)):\n",
    "        songs = data['song_id'][i]\n",
    "        tags = data['tags'][i]\n",
    "        \n",
    "        for j in tags:\n",
    "            if not j in song_ids:\n",
    "                song_ids[j] = set(songs)\n",
    "            \n",
    "            else:\n",
    "                song_ids[j].update(songs)\n",
    "    \n",
    "    for i in song_ids:\n",
    "        song_num[i] = len(song_ids[i])\n",
    "        \n",
    "        max_num = max(song_num[i], max_num)\n",
    "    \n",
    "    return song_num, max_num"
   ]
  },
  {
   "cell_type": "code",
   "execution_count": 40,
   "id": "46900f83",
   "metadata": {},
   "outputs": [
    {
     "name": "stdout",
     "output_type": "stream",
     "text": [
      "2568\n",
      "{'락': 392, '추억': 1263, '회상': 853, '까페': 743, '잔잔한': 1753, '연말': 71, '눈오는날': 38, '캐럴': 71, '분위기': 598, '따듯한': 38, '크리스마스캐럴': 38, '겨울노래': 79, '크리스마스': 129, '겨울왕국': 38, '크리스마스송': 38, '댄스': 850, '운동': 655, '드라이브': 2214, 'Pop': 893, '트로피컬하우스': 30, '힐링': 2480, '기분전환': 2484, '2017': 30, '팝': 1075, '트렌드': 30, '일렉': 300, '짝사랑': 52, '취향저격': 548, '슬픔': 731, '고백': 85, '사랑': 1629, '이별': 787, '일렉트로니카': 167, '포크': 134, '메탈': 74, '인디': 1092, '록': 54, 'Metal': 34, '이일우': 15, 'M에센셜': 15, 'Rock': 119, 'kpop': 157, '걸그룹댄스': 157, '스트레스해소': 166, '새해': 45, '여행': 1065, '프로필음악': 45, '카카오톡': 45, '소원': 45, '프로필': 45, '소망': 45, '다짐': 45, '카톡': 45, '듣고': 21, '우울': 294, '이거': 21, '힘내': 90, '힙합': 1316, '느낌있는': 425, '밤': 1498, '새벽': 1603, 'RnB': 310, '감각적인': 217, '국내': 66, '그루브한': 66, '가을': 569, '재즈': 401, '감성': 1871, '질리지않는': 31, '나만알고싶은': 79, '봄': 432, '설렘': 940, '비오는날': 1087, '누군가생각날때': 18, '스밍': 16, '목록': 16, '폐막식': 16, '올림픽': 16, '엑소': 16, '조용히': 44, '혼자': 190, '또는': 44, '새벽감성': 54, '고민': 44, '맥주한잔': 44, '카페': 747, 'OST': 138, '어쿠스틱': 202, '편안한': 88, '에너지': 88, '듀엣': 198, '달달': 222, '피쳐링': 106, '남녀': 198, '신인': 48, '국힙': 268, '신나는': 810, '거슈윈': 26, '존윌리엄스': 26, '랩소디인블루': 26, '미국클래식': 26, '영화클래식': 26, '아메리칸클래식': 26, '겨울': 490, '아침': 187, '빅밴드': 21, '상쾌한': 21, '밝은': 21, '스윙': 21, '스윙재즈': 21, '휴식': 2568, '여름': 601, '매장음악': 681, '헬스': 37, '스포츠': 37, '피트니스': 21, '다이어트': 21, '런닝': 21, '레깅스': 21, '필라테스': 21, '산책': 386, '요가': 21, '발라드': 1294, '캐롤': 74, '위로': 394, '80년대': 200, '90년대발라드': 200, '올드송': 200, '90년대': 200, '옛날노래': 200, '월드': 27, '연주': 36, '클럽': 239, '스트레스': 1157, '주말': 591, '오후': 450, '나른한': 36, 'Chillout': 58, '나만들을꺼': 20, '나만들을거얌': 20, '중국음악': 45, '광동': 45, '홍콩': 45, '대만': 45, '중국노래': 45, '중국': 45, '중음': 45, '내가좋아하는음악트랙': 15, '노래추천': 33, '인디추천': 15, '이달의인디포크': 15, '음악추천': 115, '추천노래': 57, '숨겨진': 57, '유럽여행': 57, '공기정화': 35, '피톤치드': 35, '연주곡': 283, '사무실': 235, '알앤비': 1120, '불금': 82, 'ballads': 20, '차막힘': 43, '차막힐때': 43, '졸릴때': 43, '달달한': 178, '연애': 55, '썸': 19, '노래모음': 16, '히트곡': 16, '린아': 16, '선데이': 16, '스테파니': 16, '명곡': 217, '시간순': 16, '천상지희': 16, '다나': 16, '독서를돕는음악': 33, 'dance': 26, 'EDMFloor': 16, 'EDM': 143, 'electronica': 16, '빌로우': 16, '펍': 33, '매장': 492, '그루브': 493, '라운지': 53, '퇴근길': 223, '세련된': 81, '한강': 19, '드라이브할때신나는노래': 19, '자기전': 19, '랩': 517, '비트좋은': 5, '섹시': 5, '분위기좋은': 26, '뉴에이지': 423, '월드뮤직': 73, '조용한': 372, '무드': 28, '스웩': 28, '잔잔하게': 28, '조용하게': 28, '저스디스': 11, '힙합엘이': 30, '니엘': 11, '꿀': 86, '보이스': 34, '뺏고싶다': 34, '성대': 34, '버스': 9, '도입부': 20, '트렌디': 240, '런쥔': 58, '라디오': 58, '포근함': 44, '따스한': 44, '벚꽃': 67, 'Takealook': 80, '떄껄룩': 80, '플레이리스트': 100, '팝음악': 80, '팝송추천': 80, '유튜브': 80, '떼껄룩': 80, '카페음악': 166, 'Jazz': 99, '흐린날': 19, '힙한': 19, '1990': 45, '1990년대': 40, '자연주의': 21, 'MTV': 21, '언플러그드': 21, 'unplugged': 21, '프로그레시브하우스': 17, '빅룸': 17, '시원': 43, '바다': 48, '신나는노래': 283, '비': 85, '아련': 52, '멜로': 52, '치명': 52, '아드레날린': 45, '샤우팅': 45, '강렬한사운드': 45, '운동할때듣는': 45, 'rockisnotdead': 45, '여자아이돌': 287, '싱어송라이터': 213, '인디밴드': 100, '귀호강': 100, '미러볼뮤직': 100, '인디뮤직': 100, '잠': 24, '일상': 128, '추위': 120, '자장가': 258, '내적댄스폭발': 17, '페스티벌음악': 17, '몽환적인': 39, '일렉트로닉': 17, '힙합갬성': 18, '흥얼흥얼': 18, '쇼미': 213, '외힙': 37, '기리보이의노래는길이보인다': 18, '왜이리딱딱한것이냐': 18, '기분좋은': 231, '100번': 16, 'jazzymood': 35, '7살': 8, '9살': 8, '8살': 8, '키즈동화': 8, '8': 27, '쇼미더머니': 27, '가을밤': 25, '영국': 118, '기타': 118, '2016멜로디포레스트캠프': 93, '자연': 93, '음악': 93, '쉼표': 93, '추천': 59, '아무생각없이': 21, '아무노래': 21, '아무거나': 21, '생각': 21, '비_오는_날': 33, '비_오는날': 33, '숨은명곡': 106, '야경': 69, '노래': 239, '신나는곡': 39, '썸머': 39, '휴가': 89, '바캉스': 39, '해변': 39, '빌보드Hot50': 97, '빌보드': 202, '펑크락': 28, 'Maroon': 28, '위대함': 28, 'Coldplay': 28, '느껴져': 28, '날려버려': 28, 'Greenday': 28, '팝송': 830, '여자가수': 145, '명품발라드': 105, '고음병': 105, '연인': 168, 'mood': 24, '빗물같은': 18, '거짓말': 29, '아픈': 29, '찬송': 9, '오승훈': 200, 'GZ': 200, '파워워킹': 114, '흥겨운': 133, '출근길': 114, '맥주': 114, '비트': 407, 'CCM': 81, '소울': 539, '가요': 65, '여운': 60, '인디음악': 387, '달': 10, '나만알고싶은음악': 32, '빠른비트': 200, '댄스곡': 200, '힘들때': 200, '운동할때': 326, '잔잔한음악': 19, '보컬재즈': 19, '퓨전재즈': 19, '팝재즈': 19, '심포닉메탈': 20, '우울할때': 129, '추억회상': 129, '신날때': 129, '2000': 329, '2000년대': 129, 'Top100에': 129, '댄스신에': 129, '댄스음악': 129, '기쁠때': 129, '칠링': 14, 'HIPSTER': 14, '칠뮤직': 14, '힙스터': 14, 'Chill': 45, '해외알앤비소울': 65, 'ksks': 58, '클래식': 246, '저녁': 260, '눈': 63, '잠들기전': 78, 'Lofi': 33, '재즈힙합': 33, 'dope': 21, 'BlackMusic': 21, 'HipHop': 269, '내적댄스': 21, '노동요': 125, '귀르가즘': 54, '호호클럽': 35, '디제이': 35, '꾸준히업뎃': 95, '띵곡': 95, '시원한': 168, '시원한노래': 40, '여름밤': 155, '상쾌': 91, '7월': 40, '6월': 40, '8월': 40, 'COOL': 40, '잔잔한팝송': 22, '자기전에': 22, '밤에듣기좋은노래': 22, '힘든날': 22, '발레음악': 25, '모던': 25, '발레': 25, 'RNBSOUL': 21, 'before1970': 21, 'EarlySoul': 21, '김영후': 11, 'YOUNG': 11, '밴드': 232, '내한': 14, '콘서트': 100, '뉴홉클': 14, '공연': 14, '셋리스트': 14, 'NewHopeClub': 14, '국외': 14, '댄스본능': 19, '셧업앤댄스': 19, '댄스뮤직': 19, '멈출수없는': 19, '신진래퍼': 16, '뉴페이스': 16, '오케이션': 16, '국내힙합': 234, '기리보이': 16, '비와이': 16, '2010': 16, '삶': 53, '현섭': 14, '진원': 40, '독서': 116, '커피': 261, '북카페': 65, '우울한': 187, '그냥': 187, '새벽에': 31, '몽환한': 31, '일요일': 25, '시티팝': 26, '나들이': 26, '목요일': 20, '힙합클럽': 36, '힙존': 36, '마약': 36, '수록곡': 41, '나만알기아까운노래': 41, '뮤직카로마': 96, '한동윤': 40, '걸그룹': 40, '다중음격': 40, '아이돌': 369, '따뜻한': 57, '기분업': 68, '스타일': 20, '파티': 161, '인생곡': 20, 'Billboard': 101, 'futurebass': 14, '퓨쳐베이스': 14, '장마': 38, '여름방학': 38, '그리움': 97, '늦잠': 23, '아쉬움': 23, '불면증': 23, '외로움': 23, '테크노': 80, '빌보드핫100': 91, '연휴': 72, '가족': 90, '성탄절': 61, '둠칫둠칫': 63, '외국펍': 16, '펍노래': 16, '이태원': 16, '맥주펍': 16, '리듬앤블루스': 16, '패셔너블': 22, '뷰티샵': 22, '커플': 20, '아티스트': 20, '부부뮤지션': 20, '에센셜': 20, '명작': 41, '뮤지션': 20, 'Summer': 64, '후회': 18, '부모님': 18, '눈물': 55, '어버이날': 18, 'indie': 19, '나만의Best3': 19, '피쉬슈즈': 19, '이브': 61, '가즈아': 61, '일발장전': 61, '미세먼지': 20, '건조하고': 20, '답답함': 20, '안녕': 60, '상쾌해지는': 41, '호불호없는': 41, '모두가_흥얼흥얼': 41, '휴일': 13, '봄나물': 13, '졸음운전': 13, '고속도로': 13, '피아노': 365, '관현악': 20, '독주곡': 20, '클럽음악': 16, '1980년대': 19, '그냥좋은노래': 29, '겨울밤': 29, '스타일리쉬': 45, '유니크': 45, '방탄소년단': 31, '타이틀곡': 14, 'BTS': 14, '재즈추천': 36, 'GD': 12, '띵곡들': 87, '생기': 8, '히피': 8, '잔디': 8, '바람': 39, '이슬': 8, '풀내음': 8, '초록빛': 8, '목장': 8, '초원': 8, '샤워': 27, '그루비': 27, '몽글': 27, '햇살': 62, '봄바람': 62, '멜로디': 62, '출근': 51, 'Lizzo': 49, '컨트리': 49, '빌보드핫차트': 49, '추천곡': 70, '좋은노래': 70, '연애중': 60, '달달하게': 60, '여름밤에듣기좋은음악': 60, '썸타는중': 60, '러브송': 38, '달달함': 38, 'ASMR': 62, '공부': 237, '수면': 62, '백색소음': 62, '컴백전쟁': 28, '엠넷': 28, '퀸덤': 28, '퀸덤원곡모음': 28, '트로트': 200, '동요': 200, '인디곡': 79, '리드미컬': 16, '펑키': 16, '감미로운': 116, '감성힙합': 200, '인싸': 200, '스티비원더': 22, 'funk': 22, '클럽노래': 79, '외사랑': 13, '너에게': 13, '편안한명상을위한': 125, '야외에서듣는피아노연주곡': 125, '공부하며듣는': 125, '힐링피아노연주곡': 125, '햇살좋은날': 125, '시험기간집중할때': 125, '모닝콜': 235, '드림팝': 24, '슈게이징': 24, '몽환': 55, '실험': 24, '센치한날': 24, 'WJSN': 19, '우주소녀': 19, '여유': 195, '도입': 72, '낭만': 50, '인생': 22, '쓸쓸함': 96, '5월_4주차': 38, '주간': 38, '최신': 134, '전지음악': 38, '인기': 38, '주간일렉트로니카': 38, '혼자만의겨울': 38, '혼자있을때': 55, '감성발라드': 160, 'playlist3': 27, '슬픈노래': 18, '이별노래': 18, '기분': 18, 'JPOP': 11, '센치한': 127, '외국힙합노래': 200, '인생곡들만': 40, '연말파티': 39, '올드팝': 39, '믿고듣는': 90, '소란': 33, '행복': 118, '데이트': 46, '내취향': 46, '짧고얕은음악지식속엄선': 14, '카페에서듣기좋은': 81, '티타임': 81, '쓸쓸': 17, 'groove': 10, '크리스마스노래': 42, 'Chirstmas': 42, '끝': 37, '정서발달': 15, '아기동요': 15, '리스트': 25, '젝스키스': 25, '더포앳': 14, '류이치사카모토': 14, '김윤': 14, '김광민': 14, '박지섭': 14, '이루마': 14, '바이준': 14, '들었으면': 48, '한번쯤': 48, '이미지는_직접찍은사진': 48, '하드록메탈': 30, '외로운': 21, '록발라드': 21, '남성적인': 21, '쓸쓸한': 21, '봄캐롤': 101, '봄노래': 101, '로큰롤': 20, '로큰롤명예의전당': 20, '명예의전당': 20, '업데이트중': 88, '잔잔함': 88, '조용한음악': 88, '알앤비소울': 88, 'SEX': 20, '트렌디하게': 35, 'Instruments': 18, '우아한': 18, '관악기': 18, 'classic': 18, '남자아이돌': 120, '아이돌명곡': 137, '라이징스타': 66, '슬픔의': 74, '명상': 96, '미술관': 96, '청량함': 58, 'Elecronica': 58, '더위': 58, '배경음악': 99, '노래방': 99, 'Feat': 99, 'Duet': 99, '집중': 104, '태교음악': 104, '어린이클래식': 104, '태교클래식': 104, '마음을감싸주는': 104, '릴랙스요가클래식': 104, '힐링테라피요가': 104, '잠결': 16, '토요명화': 16, '영화OST': 16, '중독성': 142, '헤이즈': 10, '민중가요': 41, '이소라': 41, '추억의': 257, '아미라면': 20, '최고의노래': 20, '아미를위한': 20, '힐링노래': 20, '아련하게': 12, '연주음악': 12, '외로움을': 12, '피곤': 45, '가을감성': 31, '꿈': 31, '집': 31, '상큼한': 48, '발랄한': 48, '청량한': 48, '사이다': 48, '신맛': 48, '텐션업': 48, '쇼핑': 28, 'bgm': 28, '감성적인': 50, '책읽을때': 50, 'Popular': 92, 'uspop': 92, '헬스장에서운동할때듣는노래': 76, '헬스장에서': 76, '운동할때듣는음악': 76, '헬스장': 76, '보이그룹': 20, '신곡': 16, '옥콩': 16, '들을거없을때': 29, '많은곡수': 29, '좋아요좀눌러줘요': 29, '좋은곡들': 29, '방해금지': 22, '지칠때': 22, '방학': 28, '달콤': 28, '파란': 28, '가을여행': 28, '하늘': 28, '광고': 103, '광고음악': 103, '가을이별': 30, '가을동화': 30, '뉴욕도': 10, '드럼': 9, '스래시메탈': 9, '환상적인': 9, '격렬함': 9, '속도감': 9, '들어봤을': 200, '1960': 200, '한번쯤은': 200, '옥타곤': 8, 'Matisse': 8, 'Sadko': 8, '밴드음악': 200}\n"
     ]
    }
   ],
   "source": [
    "song_num_dict, song_num_max = make_song_num_dict(train_data_sample)\n",
    "print(song_num_max)\n",
    "print(song_num_dict)"
   ]
  },
  {
   "cell_type": "markdown",
   "id": "ddea747e",
   "metadata": {},
   "source": [
    "## 장르 데이터"
   ]
  },
  {
   "cell_type": "markdown",
   "id": "58e69ef6",
   "metadata": {},
   "source": [
    "## 불균형 데이터 처리"
   ]
  },
  {
   "cell_type": "code",
   "execution_count": 48,
   "id": "7d619b2a",
   "metadata": {},
   "outputs": [],
   "source": [
    "def make_genre_num_dict(appended_data):\n",
    "    song_ids = dict()\n",
    "    song_num = dict()\n",
    "    max_num = 0\n",
    "    \n",
    "    for i in range(len(appended_data)):\n",
    "        song = appended_data['song_id'][i]\n",
    "        gnrs = appended_data['gnr'][i]\n",
    "        \n",
    "        for j in gnrs:\n",
    "            if not j in song_ids:\n",
    "                song_ids[j] = {song}\n",
    "            \n",
    "            else:\n",
    "                song_ids[j].add(song)\n",
    "    \n",
    "    for i in song_ids:\n",
    "        song_num[i] = len(song_ids[i])\n",
    "        \n",
    "        max_num = max(song_num[i], max_num)\n",
    "    \n",
    "    return song_num, max_num"
   ]
  },
  {
   "cell_type": "code",
   "execution_count": 49,
   "id": "291d03e3",
   "metadata": {},
   "outputs": [
    {
     "name": "stdout",
     "output_type": "stream",
     "text": [
      "3049\n",
      "{'GN1402': 102, 'GN1401': 180, 'GN0901': 1783, 'GN0902': 353, 'GN1001': 953, 'GN1012': 80, 'GN1005': 22, 'GN1013': 276, 'GN1003': 102, 'GN1304': 218, 'GN1301': 766, 'GN1302': 605, 'GN0904': 27, 'GN1912': 138, 'GN1904': 25, 'GN1901': 143, 'GN1102': 361, 'GN1101': 942, 'GN0101': 3049, 'GN0103': 175, 'GN0601': 1118, 'GN0605': 266, 'GN0104': 612, 'GN0508': 101, 'GN0501': 1731, 'GN0503': 562, 'GN0805': 514, 'GN0502': 468, 'GN0801': 670, 'GN0509': 1506, 'GN0105': 1710, 'GN0606': 680, 'GN1701': 657, 'GN1706': 88, 'GN1803': 63, 'GN1801': 661, 'GN1608': 31, 'GN1601': 439, 'GN1501': 1004, 'GN1504': 600, 'GN2601': 175, 'GN2603': 91, 'GN2602': 54, 'GN1708': 12, 'GN1502': 71, 'GN0401': 974, 'GN0403': 626, 'GN0402': 250, 'GN0303': 756, 'GN0301': 1363, 'GN1703': 107, 'GN0504': 70, 'GN0908': 303, 'GN1509': 33, 'GN2207': 25, 'GN1506': 47, 'GN0907': 33, 'GN1702': 117, 'GN0506': 214, 'GN0702': 10, 'GN0708': 11, 'GN0701': 24, 'GN2502': 630, 'GN2506': 793, 'GN2501': 1358, 'GN0203': 133, 'GN0201': 1267, 'GN2503': 699, 'GN0204': 216, 'GN2505': 314, 'GN0302': 208, 'GN2504': 135, 'GN0604': 86, 'GN1201': 870, 'GN1105': 75, 'GN1104': 500, 'GN2704': 318, 'GN1103': 317, 'GN1503': 194, 'GN2703': 90, 'GN0205': 702, 'GN0304': 302, 'GN0505': 302, 'GN0703': 7, 'GN1707': 16, 'GN2006': 8, 'GN2001': 103, 'GN1805': 7, 'GN1006': 55, 'GN1307': 49, 'GN1007': 67, 'GN1303': 67, 'GN1202': 259, 'GN1507': 11, 'GN2902': 11, 'GN2901': 15, 'GN1907': 25, 'GN1806': 272, 'GN1004': 13, 'GN1204': 94, 'GN1205': 94, 'GN1107': 5, 'GN1306': 37, 'GN1010': 15, 'GN1208': 81, 'GN1203': 48, 'GN1704': 47, 'GN1008': 29, 'GN0804': 23, 'GN1604': 16, 'GN1605': 44, 'GN1602': 32, 'GN1614': 34, 'GN1404': 67, 'GN1606': 259, 'GN1705': 22, 'GN1910': 29, 'GN1905': 28, 'GN2701': 90, 'GN2702': 70, 'GN1109': 43, 'GN1902': 55, 'GN0102': 38, 'GN0803': 18, 'GN1613': 119, 'GN1505': 18, 'GN1002': 11, 'GN1014': 31, 'GN0709': 1, 'GN0802': 2, 'GN0603': 6, 'GN1209': 128, 'GN1308': 160, 'GN1510': 10, 'GN2004': 50, 'GN0906': 56, 'GN1407': 26, 'GN1802': 198, 'GN1807': 36, 'GN1207': 25, 'GN1903': 19, 'GN1710': 75, 'GN2005': 1, 'GN1615': 24, 'GN1610': 17, 'GN1607': 7, 'GN1603': 16, 'GN2216': 67, 'GN2208': 13, 'GN1108': 11, 'GN2008': 22, 'GN0202': 1, 'GN0905': 15, 'GN2003': 19, 'GN2002': 3, 'GN1403': 11, 'GN1406': 7, 'GN1906': 1, 'GN2204': 4, 'GN2212': 6, 'GN2205': 2, 'GN2215': 4, 'GN1911': 2, 'GN1508': 4, 'GN2903': 4, 'GN1011': 37, 'GN0707': 1, 'GN0710': 2, 'GN2210': 30, 'GN2102': 26, 'GN2101': 87, 'GN2202': 45, 'GN1206': 2, 'GN2104': 26, 'GN2103': 20, 'GN0903': 12, 'GN1611': 20, 'GN0507': 11, 'GN1405': 5, 'GN1305': 6, 'GN2804': 9, 'GN2802': 44, 'GN2801': 56, 'GN2805': 11, 'GN2803': 13, 'GN2402': 3, 'GN2401': 7, 'GN2403': 3, 'GN1908': 3, 'GN1804': 4, 'GN2108': 1, 'GN2107': 9, 'GN1909': 1, 'GN1106': 2}\n"
     ]
    }
   ],
   "source": [
    "genre_num_dict, genre_num_max = make_genre_num_dict(song_tag_appended)\n",
    "print(genre_num_max)\n",
    "print(genre_num_dict)"
   ]
  },
  {
   "cell_type": "markdown",
   "id": "e4ad5880",
   "metadata": {},
   "source": [
    "## Embedding"
   ]
  },
  {
   "cell_type": "code",
   "execution_count": 51,
   "id": "85fc066f",
   "metadata": {},
   "outputs": [
    {
     "data": {
      "text/html": [
       "<div>\n",
       "<style scoped>\n",
       "    .dataframe tbody tr th:only-of-type {\n",
       "        vertical-align: middle;\n",
       "    }\n",
       "\n",
       "    .dataframe tbody tr th {\n",
       "        vertical-align: top;\n",
       "    }\n",
       "\n",
       "    .dataframe thead th {\n",
       "        text-align: right;\n",
       "    }\n",
       "</style>\n",
       "<table border=\"1\" class=\"dataframe\">\n",
       "  <thead>\n",
       "    <tr style=\"text-align: right;\">\n",
       "      <th></th>\n",
       "      <th>tags</th>\n",
       "      <th>song_id</th>\n",
       "      <th>like_cnt</th>\n",
       "      <th>gnr</th>\n",
       "      <th>issue_date</th>\n",
       "      <th>album_id</th>\n",
       "      <th>artist_id_basket</th>\n",
       "      <th>song_name</th>\n",
       "      <th>artist_name_basket</th>\n",
       "      <th>gnr_literal</th>\n",
       "    </tr>\n",
       "  </thead>\n",
       "  <tbody>\n",
       "    <tr>\n",
       "      <th>0</th>\n",
       "      <td>[락]</td>\n",
       "      <td>525514</td>\n",
       "      <td>71</td>\n",
       "      <td>[GN1402, GN1401]</td>\n",
       "      <td>20130506</td>\n",
       "      <td>2200223</td>\n",
       "      <td>[734201]</td>\n",
       "      <td>Hey Little Girl</td>\n",
       "      <td>[The Sol]</td>\n",
       "      <td>GN1402 GN1401</td>\n",
       "    </tr>\n",
       "    <tr>\n",
       "      <th>1</th>\n",
       "      <td>[락]</td>\n",
       "      <td>129701</td>\n",
       "      <td>71</td>\n",
       "      <td>[GN0901, GN0902, GN1001]</td>\n",
       "      <td>20130917</td>\n",
       "      <td>2201802</td>\n",
       "      <td>[536907]</td>\n",
       "      <td>Octagon</td>\n",
       "      <td>[Royal Bangs]</td>\n",
       "      <td>GN0901 GN0902 GN1001</td>\n",
       "    </tr>\n",
       "    <tr>\n",
       "      <th>2</th>\n",
       "      <td>[락]</td>\n",
       "      <td>383374</td>\n",
       "      <td>71</td>\n",
       "      <td>[GN1012, GN1005, GN1001]</td>\n",
       "      <td>19911021</td>\n",
       "      <td>2216938</td>\n",
       "      <td>[166978]</td>\n",
       "      <td>The Road</td>\n",
       "      <td>[Honeymoon Suite]</td>\n",
       "      <td>GN1012 GN1005 GN1001</td>\n",
       "    </tr>\n",
       "    <tr>\n",
       "      <th>3</th>\n",
       "      <td>[락]</td>\n",
       "      <td>562083</td>\n",
       "      <td>71</td>\n",
       "      <td>[GN1013, GN0901, GN0902, GN1001]</td>\n",
       "      <td>20000919</td>\n",
       "      <td>43227</td>\n",
       "      <td>[19035]</td>\n",
       "      <td>Honeymoon</td>\n",
       "      <td>[Phoenix]</td>\n",
       "      <td>GN1013 GN0901 GN0902 GN1001</td>\n",
       "    </tr>\n",
       "    <tr>\n",
       "      <th>4</th>\n",
       "      <td>[락]</td>\n",
       "      <td>297861</td>\n",
       "      <td>71</td>\n",
       "      <td>[GN1013, GN0901, GN0902, GN1001]</td>\n",
       "      <td>20050306</td>\n",
       "      <td>303657</td>\n",
       "      <td>[170117]</td>\n",
       "      <td>High</td>\n",
       "      <td>[James Blunt]</td>\n",
       "      <td>GN1013 GN0901 GN0902 GN1001</td>\n",
       "    </tr>\n",
       "  </tbody>\n",
       "</table>\n",
       "</div>"
      ],
      "text/plain": [
       "  tags  song_id  like_cnt                               gnr  issue_date  \\\n",
       "0  [락]   525514        71                  [GN1402, GN1401]    20130506   \n",
       "1  [락]   129701        71          [GN0901, GN0902, GN1001]    20130917   \n",
       "2  [락]   383374        71          [GN1012, GN1005, GN1001]    19911021   \n",
       "3  [락]   562083        71  [GN1013, GN0901, GN0902, GN1001]    20000919   \n",
       "4  [락]   297861        71  [GN1013, GN0901, GN0902, GN1001]    20050306   \n",
       "\n",
       "   album_id artist_id_basket        song_name artist_name_basket  \\\n",
       "0   2200223         [734201]  Hey Little Girl          [The Sol]   \n",
       "1   2201802         [536907]          Octagon      [Royal Bangs]   \n",
       "2   2216938         [166978]         The Road  [Honeymoon Suite]   \n",
       "3     43227          [19035]        Honeymoon          [Phoenix]   \n",
       "4    303657         [170117]             High      [James Blunt]   \n",
       "\n",
       "                   gnr_literal  \n",
       "0                GN1402 GN1401  \n",
       "1         GN0901 GN0902 GN1001  \n",
       "2         GN1012 GN1005 GN1001  \n",
       "3  GN1013 GN0901 GN0902 GN1001  \n",
       "4  GN1013 GN0901 GN0902 GN1001  "
      ]
     },
     "execution_count": 51,
     "metadata": {},
     "output_type": "execute_result"
    }
   ],
   "source": [
    "song_tag_appended['gnr_literal'] = song_tag_appended['gnr'].apply(lambda x : (' ').join(x))\n",
    "song_tag_appended.head()"
   ]
  },
  {
   "cell_type": "markdown",
   "id": "34e668ef",
   "metadata": {},
   "source": [
    "## TF-IDF"
   ]
  },
  {
   "cell_type": "code",
   "execution_count": null,
   "id": "dd97d53a",
   "metadata": {},
   "outputs": [],
   "source": []
  },
  {
   "cell_type": "markdown",
   "id": "dfbb0497",
   "metadata": {},
   "source": [
    "## 벡터 평균"
   ]
  },
  {
   "cell_type": "code",
   "execution_count": null,
   "id": "7951b222",
   "metadata": {},
   "outputs": [],
   "source": []
  },
  {
   "cell_type": "markdown",
   "id": "e26acd02",
   "metadata": {},
   "source": [
    "## 공통"
   ]
  },
  {
   "cell_type": "markdown",
   "id": "2644abee",
   "metadata": {},
   "source": [
    "## 평점에 따른 가중치"
   ]
  },
  {
   "cell_type": "code",
   "execution_count": null,
   "id": "da3ce120",
   "metadata": {},
   "outputs": [],
   "source": []
  }
 ],
 "metadata": {
  "kernelspec": {
   "display_name": "Python 3 (ipykernel)",
   "language": "python",
   "name": "python3"
  },
  "language_info": {
   "codemirror_mode": {
    "name": "ipython",
    "version": 3
   },
   "file_extension": ".py",
   "mimetype": "text/x-python",
   "name": "python",
   "nbconvert_exporter": "python",
   "pygments_lexer": "ipython3",
   "version": "3.9.12"
  }
 },
 "nbformat": 4,
 "nbformat_minor": 5
}
