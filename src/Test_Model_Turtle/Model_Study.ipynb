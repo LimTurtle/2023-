{
 "cells": [
  {
   "cell_type": "code",
   "execution_count": 2,
   "id": "454d2197",
   "metadata": {},
   "outputs": [
    {
     "data": {
      "text/plain": [
       "(115071, 5)"
      ]
     },
     "execution_count": 2,
     "metadata": {},
     "output_type": "execute_result"
    }
   ],
   "source": [
    "import json\n",
    "import pandas as pd\n",
    "\n",
    "with open('../Datasets/train.json', 'r', encoding='utf-8') as f:\n",
    "    json_data = json.load(f)\n",
    "plylst_data = pd.DataFrame(json_data)\n",
    "plylst_data = plylst_data.drop(['plylst_title'], axis=1)\n",
    "plylst_data.head()\n",
    "plylst_data.shape"
   ]
  },
  {
   "cell_type": "code",
   "execution_count": 3,
   "id": "a7ce8df4",
   "metadata": {},
   "outputs": [
    {
     "data": {
      "text/html": [
       "<div>\n",
       "<style scoped>\n",
       "    .dataframe tbody tr th:only-of-type {\n",
       "        vertical-align: middle;\n",
       "    }\n",
       "\n",
       "    .dataframe tbody tr th {\n",
       "        vertical-align: top;\n",
       "    }\n",
       "\n",
       "    .dataframe thead th {\n",
       "        text-align: right;\n",
       "    }\n",
       "</style>\n",
       "<table border=\"1\" class=\"dataframe\">\n",
       "  <thead>\n",
       "    <tr style=\"text-align: right;\">\n",
       "      <th></th>\n",
       "      <th>song_gn_dtl_gnr_basket</th>\n",
       "      <th>issue_date</th>\n",
       "      <th>album_name</th>\n",
       "      <th>album_id</th>\n",
       "      <th>artist_id_basket</th>\n",
       "      <th>song_name</th>\n",
       "      <th>song_gn_gnr_basket</th>\n",
       "      <th>artist_name_basket</th>\n",
       "      <th>id</th>\n",
       "    </tr>\n",
       "  </thead>\n",
       "  <tbody>\n",
       "    <tr>\n",
       "      <th>0</th>\n",
       "      <td>[GN0901]</td>\n",
       "      <td>20140512</td>\n",
       "      <td>불후의 명곡 - 7080 추억의 얄개시대 팝송베스트</td>\n",
       "      <td>2255639</td>\n",
       "      <td>[2727]</td>\n",
       "      <td>Feelings</td>\n",
       "      <td>[GN0900]</td>\n",
       "      <td>[Various Artists]</td>\n",
       "      <td>0</td>\n",
       "    </tr>\n",
       "    <tr>\n",
       "      <th>1</th>\n",
       "      <td>[GN1601, GN1606]</td>\n",
       "      <td>20080421</td>\n",
       "      <td>Bach : Partitas Nos. 2, 3 &amp; 4</td>\n",
       "      <td>376431</td>\n",
       "      <td>[29966]</td>\n",
       "      <td>Bach : Partita No. 4 In D Major, BWV 828 - II....</td>\n",
       "      <td>[GN1600]</td>\n",
       "      <td>[Murray Perahia]</td>\n",
       "      <td>1</td>\n",
       "    </tr>\n",
       "    <tr>\n",
       "      <th>2</th>\n",
       "      <td>[GN0901]</td>\n",
       "      <td>20180518</td>\n",
       "      <td>Hit</td>\n",
       "      <td>4698747</td>\n",
       "      <td>[3361]</td>\n",
       "      <td>Solsbury Hill (Remastered 2002)</td>\n",
       "      <td>[GN0900]</td>\n",
       "      <td>[Peter Gabriel]</td>\n",
       "      <td>2</td>\n",
       "    </tr>\n",
       "    <tr>\n",
       "      <th>3</th>\n",
       "      <td>[GN1102, GN1101]</td>\n",
       "      <td>20151016</td>\n",
       "      <td>Feeling Right (Everything Is Nice) (Feat. Popc...</td>\n",
       "      <td>2644882</td>\n",
       "      <td>[838543]</td>\n",
       "      <td>Feeling Right (Everything Is Nice) (Feat. Popc...</td>\n",
       "      <td>[GN1100]</td>\n",
       "      <td>[Matoma]</td>\n",
       "      <td>3</td>\n",
       "    </tr>\n",
       "    <tr>\n",
       "      <th>4</th>\n",
       "      <td>[GN1802, GN1801]</td>\n",
       "      <td>20110824</td>\n",
       "      <td>그남자 그여자</td>\n",
       "      <td>2008470</td>\n",
       "      <td>[560160]</td>\n",
       "      <td>그남자 그여자</td>\n",
       "      <td>[GN1800]</td>\n",
       "      <td>[Jude Law]</td>\n",
       "      <td>4</td>\n",
       "    </tr>\n",
       "  </tbody>\n",
       "</table>\n",
       "</div>"
      ],
      "text/plain": [
       "  song_gn_dtl_gnr_basket issue_date  \\\n",
       "0               [GN0901]   20140512   \n",
       "1       [GN1601, GN1606]   20080421   \n",
       "2               [GN0901]   20180518   \n",
       "3       [GN1102, GN1101]   20151016   \n",
       "4       [GN1802, GN1801]   20110824   \n",
       "\n",
       "                                          album_name  album_id  \\\n",
       "0                       불후의 명곡 - 7080 추억의 얄개시대 팝송베스트   2255639   \n",
       "1                      Bach : Partitas Nos. 2, 3 & 4    376431   \n",
       "2                                                Hit   4698747   \n",
       "3  Feeling Right (Everything Is Nice) (Feat. Popc...   2644882   \n",
       "4                                            그남자 그여자   2008470   \n",
       "\n",
       "  artist_id_basket                                          song_name  \\\n",
       "0           [2727]                                           Feelings   \n",
       "1          [29966]  Bach : Partita No. 4 In D Major, BWV 828 - II....   \n",
       "2           [3361]                    Solsbury Hill (Remastered 2002)   \n",
       "3         [838543]  Feeling Right (Everything Is Nice) (Feat. Popc...   \n",
       "4         [560160]                                            그남자 그여자   \n",
       "\n",
       "  song_gn_gnr_basket artist_name_basket  id  \n",
       "0           [GN0900]  [Various Artists]   0  \n",
       "1           [GN1600]   [Murray Perahia]   1  \n",
       "2           [GN0900]    [Peter Gabriel]   2  \n",
       "3           [GN1100]           [Matoma]   3  \n",
       "4           [GN1800]         [Jude Law]   4  "
      ]
     },
     "execution_count": 3,
     "metadata": {},
     "output_type": "execute_result"
    }
   ],
   "source": [
    "with open('../Datasets/song_meta.json', 'r', encoding='utf-8') as f:\n",
    "    json_data = json.load(f)\n",
    "song_data = pd.DataFrame(json_data)\n",
    "song_data.head()"
   ]
  },
  {
   "cell_type": "code",
   "execution_count": 4,
   "id": "e62e02b0",
   "metadata": {},
   "outputs": [
    {
     "data": {
      "text/html": [
       "<div>\n",
       "<style scoped>\n",
       "    .dataframe tbody tr th:only-of-type {\n",
       "        vertical-align: middle;\n",
       "    }\n",
       "\n",
       "    .dataframe tbody tr th {\n",
       "        vertical-align: top;\n",
       "    }\n",
       "\n",
       "    .dataframe thead th {\n",
       "        text-align: right;\n",
       "    }\n",
       "</style>\n",
       "<table border=\"1\" class=\"dataframe\">\n",
       "  <thead>\n",
       "    <tr style=\"text-align: right;\">\n",
       "      <th></th>\n",
       "      <th>tags</th>\n",
       "      <th>id</th>\n",
       "      <th>songs</th>\n",
       "      <th>like_cnt</th>\n",
       "      <th>updt_date</th>\n",
       "    </tr>\n",
       "  </thead>\n",
       "  <tbody>\n",
       "    <tr>\n",
       "      <th>99530</th>\n",
       "      <td>[버스에서, 감성, 오후, 드라이브, 노을, 여행, 휴식, 기분전환, 퇴근길, 힐링]</td>\n",
       "      <td>36999</td>\n",
       "      <td>[116776, 228329, 389448, 350353, 621643, 23548...</td>\n",
       "      <td>28</td>\n",
       "      <td>2020-04-23 13:18:21.000</td>\n",
       "    </tr>\n",
       "    <tr>\n",
       "      <th>95354</th>\n",
       "      <td>[팝]</td>\n",
       "      <td>52669</td>\n",
       "      <td>[230243, 523659, 125901, 529508, 679204, 35429...</td>\n",
       "      <td>0</td>\n",
       "      <td>2014-09-04 07:24:49.000</td>\n",
       "    </tr>\n",
       "    <tr>\n",
       "      <th>31136</th>\n",
       "      <td>[댄스]</td>\n",
       "      <td>126460</td>\n",
       "      <td>[534049, 252673, 430005, 168027, 643203, 14372...</td>\n",
       "      <td>1</td>\n",
       "      <td>2013-03-03 00:49:22.000</td>\n",
       "    </tr>\n",
       "    <tr>\n",
       "      <th>111189</th>\n",
       "      <td>[뉴에이지]</td>\n",
       "      <td>98334</td>\n",
       "      <td>[42027, 121050, 200689, 535869, 250279, 399064...</td>\n",
       "      <td>2</td>\n",
       "      <td>2014-07-02 18:35:36.000</td>\n",
       "    </tr>\n",
       "    <tr>\n",
       "      <th>54281</th>\n",
       "      <td>[댄스]</td>\n",
       "      <td>148319</td>\n",
       "      <td>[132031, 54755, 529748, 124632, 20973, 108207,...</td>\n",
       "      <td>10</td>\n",
       "      <td>2016-05-10 14:27:25.000</td>\n",
       "    </tr>\n",
       "  </tbody>\n",
       "</table>\n",
       "</div>"
      ],
      "text/plain": [
       "                                                   tags      id  \\\n",
       "99530   [버스에서, 감성, 오후, 드라이브, 노을, 여행, 휴식, 기분전환, 퇴근길, 힐링]   36999   \n",
       "95354                                               [팝]   52669   \n",
       "31136                                              [댄스]  126460   \n",
       "111189                                           [뉴에이지]   98334   \n",
       "54281                                              [댄스]  148319   \n",
       "\n",
       "                                                    songs  like_cnt  \\\n",
       "99530   [116776, 228329, 389448, 350353, 621643, 23548...        28   \n",
       "95354   [230243, 523659, 125901, 529508, 679204, 35429...         0   \n",
       "31136   [534049, 252673, 430005, 168027, 643203, 14372...         1   \n",
       "111189  [42027, 121050, 200689, 535869, 250279, 399064...         2   \n",
       "54281   [132031, 54755, 529748, 124632, 20973, 108207,...        10   \n",
       "\n",
       "                      updt_date  \n",
       "99530   2020-04-23 13:18:21.000  \n",
       "95354   2014-09-04 07:24:49.000  \n",
       "31136   2013-03-03 00:49:22.000  \n",
       "111189  2014-07-02 18:35:36.000  \n",
       "54281   2016-05-10 14:27:25.000  "
      ]
     },
     "execution_count": 4,
     "metadata": {},
     "output_type": "execute_result"
    }
   ],
   "source": [
    "with open('../Datasets/plylst_sample.json', 'r', encoding='utf-8') as f:\n",
    "    json_data = json.load(f)\n",
    "plylst_data = pd.DataFrame(json_data)\n",
    "plylst_data.head()"
   ]
  },
  {
   "cell_type": "code",
   "execution_count": 5,
   "id": "46023417",
   "metadata": {},
   "outputs": [
    {
     "name": "stdout",
     "output_type": "stream",
     "text": [
      "(11507, 5)\n"
     ]
    }
   ],
   "source": [
    "print(plylst_data.shape)"
   ]
  },
  {
   "cell_type": "markdown",
   "id": "7e0a6be2",
   "metadata": {},
   "source": [
    "# 모델 방향성 수정\n",
    "- 이전에 사용하던 협업 필터링을 사용한 모델은 현재 우리가 다루는 데이터에 적합하지 않음\n",
    "- 따라서 모델 기반 필터링 중 Autoencoder 를 사용한 모델을 만들어 보기로 함\n",
    "\n",
    "# Autoencoder (AE)\n",
    "- Hidden Layer 가 하나인 뉴럴 네트워크\n",
    "- 이 때, Input / Output data 가 같도록 네트워크를 학습\n",
    "- Hidden Layer 에 추출된 의미 있는 데이터를 latent vector 라고도 함."
   ]
  },
  {
   "cell_type": "code",
   "execution_count": 13,
   "id": "3ea8257f",
   "metadata": {},
   "outputs": [
    {
     "ename": "InvalidArgumentError",
     "evalue": "Value for attr 'TI' of string is not in the list of allowed values: uint8, int8, int32, int64\n\t; NodeDef: {{node OneHot}}; Op<name=OneHot; signature=indices:TI, depth:int32, on_value:T, off_value:T -> output:T; attr=axis:int,default=-1; attr=T:type; attr=TI:type,default=DT_INT64,allowed=[DT_UINT8, DT_INT8, DT_INT32, DT_INT64]> [Op:OneHot]",
     "output_type": "error",
     "traceback": [
      "\u001b[1;31m---------------------------------------------------------------------------\u001b[0m",
      "\u001b[1;31mInvalidArgumentError\u001b[0m                      Traceback (most recent call last)",
      "Cell \u001b[1;32mIn[13], line 14\u001b[0m\n\u001b[0;32m     10\u001b[0m song_df \u001b[38;5;241m=\u001b[39m pd\u001b[38;5;241m.\u001b[39mDataFrame({\u001b[38;5;124m'\u001b[39m\u001b[38;5;124mid\u001b[39m\u001b[38;5;124m'\u001b[39m:song_list})\n\u001b[0;32m     11\u001b[0m \u001b[38;5;66;03m#song_encoder = LabelEncoder()\u001b[39;00m\n\u001b[0;32m     12\u001b[0m \u001b[38;5;66;03m#song_encoded = song_encoder.fit_transform(song_list)\u001b[39;00m\n\u001b[1;32m---> 14\u001b[0m tag_encoder \u001b[38;5;241m=\u001b[39m tf\u001b[38;5;241m.\u001b[39mone_hot(tag_list, \u001b[38;5;28mlen\u001b[39m(tag_list))\n\u001b[0;32m     15\u001b[0m tag_encoded \u001b[38;5;241m=\u001b[39m tag_encoder\u001b[38;5;241m.\u001b[39mfit_transform(tag_list\u001b[38;5;241m.\u001b[39mreshape(\u001b[38;5;241m-\u001b[39m\u001b[38;5;241m1\u001b[39m,\u001b[38;5;241m1\u001b[39m))\n\u001b[0;32m     16\u001b[0m processed_data \u001b[38;5;241m=\u001b[39m np\u001b[38;5;241m.\u001b[39mconcatenate((song_df[[\u001b[38;5;124m'\u001b[39m\u001b[38;5;124mid\u001b[39m\u001b[38;5;124m'\u001b[39m]], tag_encoded), axis\u001b[38;5;241m=\u001b[39m\u001b[38;5;241m1\u001b[39m)\n",
      "File \u001b[1;32m~\\anaconda3\\Lib\\site-packages\\tensorflow\\python\\util\\traceback_utils.py:153\u001b[0m, in \u001b[0;36mfilter_traceback.<locals>.error_handler\u001b[1;34m(*args, **kwargs)\u001b[0m\n\u001b[0;32m    151\u001b[0m \u001b[38;5;28;01mexcept\u001b[39;00m \u001b[38;5;167;01mException\u001b[39;00m \u001b[38;5;28;01mas\u001b[39;00m e:\n\u001b[0;32m    152\u001b[0m   filtered_tb \u001b[38;5;241m=\u001b[39m _process_traceback_frames(e\u001b[38;5;241m.\u001b[39m__traceback__)\n\u001b[1;32m--> 153\u001b[0m   \u001b[38;5;28;01mraise\u001b[39;00m e\u001b[38;5;241m.\u001b[39mwith_traceback(filtered_tb) \u001b[38;5;28;01mfrom\u001b[39;00m \u001b[38;5;28;01mNone\u001b[39;00m\n\u001b[0;32m    154\u001b[0m \u001b[38;5;28;01mfinally\u001b[39;00m:\n\u001b[0;32m    155\u001b[0m   \u001b[38;5;28;01mdel\u001b[39;00m filtered_tb\n",
      "File \u001b[1;32m~\\anaconda3\\Lib\\site-packages\\tensorflow\\python\\eager\\execute.py:53\u001b[0m, in \u001b[0;36mquick_execute\u001b[1;34m(op_name, num_outputs, inputs, attrs, ctx, name)\u001b[0m\n\u001b[0;32m     51\u001b[0m \u001b[38;5;28;01mtry\u001b[39;00m:\n\u001b[0;32m     52\u001b[0m   ctx\u001b[38;5;241m.\u001b[39mensure_initialized()\n\u001b[1;32m---> 53\u001b[0m   tensors \u001b[38;5;241m=\u001b[39m pywrap_tfe\u001b[38;5;241m.\u001b[39mTFE_Py_Execute(ctx\u001b[38;5;241m.\u001b[39m_handle, device_name, op_name,\n\u001b[0;32m     54\u001b[0m                                       inputs, attrs, num_outputs)\n\u001b[0;32m     55\u001b[0m \u001b[38;5;28;01mexcept\u001b[39;00m core\u001b[38;5;241m.\u001b[39m_NotOkStatusException \u001b[38;5;28;01mas\u001b[39;00m e:\n\u001b[0;32m     56\u001b[0m   \u001b[38;5;28;01mif\u001b[39;00m name \u001b[38;5;129;01mis\u001b[39;00m \u001b[38;5;129;01mnot\u001b[39;00m \u001b[38;5;28;01mNone\u001b[39;00m:\n",
      "\u001b[1;31mInvalidArgumentError\u001b[0m: Value for attr 'TI' of string is not in the list of allowed values: uint8, int8, int32, int64\n\t; NodeDef: {{node OneHot}}; Op<name=OneHot; signature=indices:TI, depth:int32, on_value:T, off_value:T -> output:T; attr=axis:int,default=-1; attr=T:type; attr=TI:type,default=DT_INT64,allowed=[DT_UINT8, DT_INT8, DT_INT32, DT_INT64]> [Op:OneHot]"
     ]
    }
   ],
   "source": [
    "import tensorflow as tf\n",
    "from tensorflow import keras\n",
    "import numpy as np\n",
    "from sklearn.preprocessing import OneHotEncoder\n",
    "\n",
    "train_song = plylst_data['songs']\n",
    "train_tag = plylst_data['tags']\n",
    "song_list = [song for plist in train_song for song in plist ]\n",
    "tag_list = [tag for plist in train_tag for tag in plist]\n",
    "song_df = pd.DataFrame({'id':song_list})\n",
    "#song_encoder = LabelEncoder()\n",
    "#song_encoded = song_encoder.fit_transform(song_list)\n",
    "\n",
    "tag_encoder = tf.one_hot(tag_list, len(tag_list))\n",
    "tag_encoded = tag_encoder.fit_transform(tag_list.reshape(-1,1))\n",
    "processed_data = np.concatenate((song_df[['id']], tag_encoded), axis=1)\n",
    "precessed_data.head(20)"
   ]
  },
  {
   "cell_type": "code",
   "execution_count": null,
   "id": "cc9b65ad",
   "metadata": {},
   "outputs": [],
   "source": []
  }
 ],
 "metadata": {
  "kernelspec": {
   "display_name": "Python 3 (ipykernel)",
   "language": "python",
   "name": "python3"
  },
  "language_info": {
   "codemirror_mode": {
    "name": "ipython",
    "version": 3
   },
   "file_extension": ".py",
   "mimetype": "text/x-python",
   "name": "python",
   "nbconvert_exporter": "python",
   "pygments_lexer": "ipython3",
   "version": "3.11.3"
  }
 },
 "nbformat": 4,
 "nbformat_minor": 5
}
