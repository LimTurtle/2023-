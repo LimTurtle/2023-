{
 "cells": [
  {
   "cell_type": "markdown",
   "metadata": {},
   "source": [
    "## 좋아요 개수 기반 가중치 부여 "
   ]
  },
  {
   "cell_type": "code",
   "execution_count": null,
   "metadata": {},
   "outputs": [],
   "source": [
    "# 좋아요 개수를 로그 변환\n",
    "train_data['log_like_cnt'] = np.log(train_data['like_cnt'] + 1)\n",
    "\n",
    "# 좋아요(로그) 개수의 분포 확인\n",
    "train_data['log_like_cnt'].hist(bins=100)\n",
    "train_data['log_like_cnt'].describe()"
   ]
  },
  {
   "cell_type": "code",
   "execution_count": null,
   "metadata": {},
   "outputs": [],
   "source": [
    "# 좋아요 개수에 따라 구간 나누기\n",
    "bins = [0, 1.098612, 2.079442, 3.218876, 11]  # 좋아요 개수 구간 설정\n",
    "labels = [0, 0.1, 0.2, 0.3]  # 가중치 값 결정\n",
    "\n",
    "# 'likes_range' 열 추가\n",
    "train_data[\"like_weight\"] = pd.cut(train_data[\"log_like_cnt\"], bins=bins, labels=labels)  # 가중치가 설정된 열 추가\n",
    "train_data"
   ]
  },
  {
   "cell_type": "markdown",
   "metadata": {},
   "source": [
    "## 가중치 계산을 반영한 새로운 추천 함수"
   ]
  },
  {
   "cell_type": "code",
   "execution_count": null,
   "metadata": {},
   "outputs": [],
   "source": [
    "def song_recommend_weighted_songs(tags, songs, tag_df, song_df, sim):\n",
    "    \n",
    "    # 기존 노래(히스토리)가 있는 경우 장르 유사도를 계산해\n",
    "    #상위 100개의 노래를 찾아낸다\n",
    "    if len(songs) > 0:\n",
    "        simi_songs = find_sim_song(song_df, sim, get_cv(song_df), songs, 100)\n",
    "    \n",
    "    # 기존 노래(히스토리)가 없는 경우 최신 노래(2018~2023년도)를 찾아낸다\n",
    "    else:\n",
    "        simi_songs = song_df\n",
    "        simi_songs = simi_songs[simi_songs['issue_date'] > 20180000]\n",
    "        simi_songs = simi_songs[simi_songs['issue_date'] < 20240000]\n",
    "    \n",
    "    #print(simi_songs)\n",
    "    \n",
    "    '''\n",
    "\n",
    "    # 태그가 존재할 경우 + 태그의 개수가 3개 미만인경우 w2v로 태그를 3개까지 늘린다\n",
    "    all_tags = []\n",
    "    if len(ts) != 0 and len(ts) < 3:\n",
    "        for tag in ts:\n",
    "            sim_tags = w2v.wv.most_similar(tag)\n",
    "            for t in sim_tags:\n",
    "                all_tags.append(t)\n",
    "        all_tags = sorted(all_tags, key = lambda x : -x[1])\n",
    "        i = 0\n",
    "        while len(ts) != 0 and len(ts) < 3:\n",
    "            tag = all_tags[i][0]\n",
    "            if tag not in ts:\n",
    "                ts.append(tag)\n",
    "                i += 1\n",
    "    '''\n",
    "       \n",
    "    ts = tags\n",
    "    \n",
    "    # 해당 태그가 존재하는 플레이리스트의 노래를 추출하고 등장 빈도수로 정렬한다\n",
    "    tag_songs = dict()\n",
    "    tag_simi_mean = []\n",
    "    \n",
    "    for simi_tags in simi_songs['tags']:\n",
    "        songs_similality = []\n",
    "        for input_tag in ts:\n",
    "            # 유사도 + 가중치의 합을 구함\n",
    "            songs_similality.append(get_tag_simi(input_tag, simi_tags, True) + train_data.loc[input_tag, 'like_weight'])\n",
    "        tag_simi_mean.append(sum(songs_similality) / len(songs_similality))\n",
    "    \n",
    "    tag_simi_mean = pd.DataFrame(columns = ['tag_simi'], data = tag_simi_mean)\n",
    "    sorted_idx = tag_simi_mean['tag_simi'].sort_values(ascending = False).index\n",
    "    #for i in sorted_idx:\n",
    "    #    print(\"원본: {} / simi_mean: {}\".format(simi_songs.loc[i, 'song_id'], tag_simi_mean.loc[i, 'tag_simi']))\n",
    "    tag_simi_mean = simi_songs.loc[sorted_idx]\n",
    "    \n",
    "    '''\n",
    "    # 태그로 만들어낸 플레이리스트와 장르 유사도로 만들어낸 노래 목록\n",
    "    # 둘 모두에 존재하는 노래 10개 추출한다\n",
    "    recommended = []\n",
    "    \n",
    "    for rec in simi_songs['song_id']:\n",
    "        title_song = tag_songs[tag_songs['song_id'] == rec]\n",
    "        title_index = title_song.index\n",
    "        recommended.append(title_index[0])\n",
    "    \n",
    "    '''\n",
    "    \n",
    "    return tag_simi_mean.iloc[:10]"
   ]
  }
 ],
 "metadata": {
  "language_info": {
   "name": "python"
  },
  "orig_nbformat": 4
 },
 "nbformat": 4,
 "nbformat_minor": 2
}
