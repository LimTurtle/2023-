{
 "cells": [
  {
   "cell_type": "markdown",
   "metadata": {},
   "source": [
    "## AutoEncoder + Word2Vec\n",
    "- Reference: https://github.com/jjun0127/MelonRec\n",
    "\n",
    "### 고민점\n",
    "1. **플레이리스트 유사도**를 어떻게 계산할 것인가?\n",
    "- Autoencoder(Song, Tag) / Word2Vec(Title, Tag, Genre, Date)으로 Embedding Vector 생성\n",
    "- Similarity 계산: Cosine Similarity / Euclidean Distance / Pearson Correlation Coefficient\n",
    "2. 각각의 노래는 어떻게 유사도를 판단하는가?\n",
    "- k개의 유사 플레이리스트에서 Song과 Tag 정보를 이용한 k-NN\n",
    "- Frequency를 이용한 보정 필요\n",
    "3. 그래서 추천 방법은?\n",
    "- 정해진 개수만큼 유사한 노래 추천\n",
    "- 단, 개수가 부족하다면 인기도 고려 -> Top 100에서 랜덤 추출 등"
   ]
  },
  {
   "cell_type": "markdown",
   "metadata": {},
   "source": [
    "## Song2Vec\n",
    "- Reference: https://didu-story.tistory.com/100 (코드x)\n",
    "\n",
    "### 개요\n",
    "- 플레이리스트를 하나의 순차적 데이터처럼 간주 -> 음원 군집화\n",
    "- Matrix Factorization과 달리 플레이리스트 내의 맥락을 토대로 한 추천(음악을 듣는 순서 역시 중요한 요소로 판단)\n",
    "- Skip-gram 방식을 이용해 음원 데이터 벡터화(Ref에서는 30차원으로 변환)\n",
    "\n",
    "### 과정\n",
    "- 플레이리스트 ID 및 해당 플레이리스트의 정보를 활용\n",
    "- k-NN 또는 계층적 군집화로 모든 곡을 n개의 군집으로 분리, 유사도 계산\n",
    "\n",
    "### 고려할 점\n",
    "- 결국 추천의 결과는 개인 주관이 많이 반영될텐데, 어떤 평가 지표로 판단하지?"
   ]
  }
 ],
 "metadata": {
  "kernelspec": {
   "display_name": "[Tensorflow2.x]",
   "language": "python",
   "name": "week14"
  },
  "language_info": {
   "codemirror_mode": {
    "name": "ipython",
    "version": 3
   },
   "file_extension": ".py",
   "mimetype": "text/x-python",
   "name": "python",
   "nbconvert_exporter": "python",
   "pygments_lexer": "ipython3",
   "version": "3.10.9"
  },
  "orig_nbformat": 4
 },
 "nbformat": 4,
 "nbformat_minor": 2
}
