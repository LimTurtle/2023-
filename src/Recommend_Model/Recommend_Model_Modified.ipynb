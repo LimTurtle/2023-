{
 "cells": [
  {
   "cell_type": "markdown",
   "id": "3623a464",
   "metadata": {},
   "source": [
    "## 데이터 로드"
   ]
  },
  {
   "cell_type": "code",
   "execution_count": 31,
   "id": "1bf46884",
   "metadata": {},
   "outputs": [],
   "source": [
    "import json\n",
    "import pandas as pd\n",
    "import math\n",
    "import numpy as np\n",
    "\n",
    "with open('../Datasets/train.json', 'r', encoding='utf-8') as f:\n",
    "    json_data = json.load(f)"
   ]
  },
  {
   "cell_type": "code",
   "execution_count": 32,
   "id": "d7e6ed51",
   "metadata": {},
   "outputs": [
    {
     "data": {
      "text/html": [
       "<div>\n",
       "<style scoped>\n",
       "    .dataframe tbody tr th:only-of-type {\n",
       "        vertical-align: middle;\n",
       "    }\n",
       "\n",
       "    .dataframe tbody tr th {\n",
       "        vertical-align: top;\n",
       "    }\n",
       "\n",
       "    .dataframe thead th {\n",
       "        text-align: right;\n",
       "    }\n",
       "</style>\n",
       "<table border=\"1\" class=\"dataframe\">\n",
       "  <thead>\n",
       "    <tr style=\"text-align: right;\">\n",
       "      <th></th>\n",
       "      <th>tags</th>\n",
       "      <th>songs</th>\n",
       "      <th>like_cnt</th>\n",
       "    </tr>\n",
       "  </thead>\n",
       "  <tbody>\n",
       "    <tr>\n",
       "      <th>0</th>\n",
       "      <td>[락]</td>\n",
       "      <td>[525514, 129701, 383374, 562083, 297861, 13954...</td>\n",
       "      <td>71</td>\n",
       "    </tr>\n",
       "    <tr>\n",
       "      <th>1</th>\n",
       "      <td>[추억, 회상]</td>\n",
       "      <td>[432406, 675945, 497066, 120377, 389529, 24427...</td>\n",
       "      <td>1</td>\n",
       "    </tr>\n",
       "    <tr>\n",
       "      <th>2</th>\n",
       "      <td>[까페, 잔잔한]</td>\n",
       "      <td>[83116, 276692, 166267, 186301, 354465, 256598...</td>\n",
       "      <td>17</td>\n",
       "    </tr>\n",
       "    <tr>\n",
       "      <th>3</th>\n",
       "      <td>[연말, 눈오는날, 캐럴, 분위기, 따듯한, 크리스마스캐럴, 겨울노래, 크리스마스,...</td>\n",
       "      <td>[394031, 195524, 540149, 287984, 440773, 10033...</td>\n",
       "      <td>33</td>\n",
       "    </tr>\n",
       "    <tr>\n",
       "      <th>4</th>\n",
       "      <td>[댄스]</td>\n",
       "      <td>[159327, 553610, 5130, 645103, 294435, 100657,...</td>\n",
       "      <td>9</td>\n",
       "    </tr>\n",
       "  </tbody>\n",
       "</table>\n",
       "</div>"
      ],
      "text/plain": [
       "                                                tags  \\\n",
       "0                                                [락]   \n",
       "1                                           [추억, 회상]   \n",
       "2                                          [까페, 잔잔한]   \n",
       "3  [연말, 눈오는날, 캐럴, 분위기, 따듯한, 크리스마스캐럴, 겨울노래, 크리스마스,...   \n",
       "4                                               [댄스]   \n",
       "\n",
       "                                               songs  like_cnt  \n",
       "0  [525514, 129701, 383374, 562083, 297861, 13954...        71  \n",
       "1  [432406, 675945, 497066, 120377, 389529, 24427...         1  \n",
       "2  [83116, 276692, 166267, 186301, 354465, 256598...        17  \n",
       "3  [394031, 195524, 540149, 287984, 440773, 10033...        33  \n",
       "4  [159327, 553610, 5130, 645103, 294435, 100657,...         9  "
      ]
     },
     "execution_count": 32,
     "metadata": {},
     "output_type": "execute_result"
    }
   ],
   "source": [
    "train_data = pd.DataFrame(json_data)\n",
    "train_data = train_data.drop(['id', 'plylst_title', 'updt_date'], axis=1)\n",
    "train_data.head()"
   ]
  },
  {
   "cell_type": "code",
   "execution_count": 33,
   "id": "cc61bcc3",
   "metadata": {},
   "outputs": [],
   "source": [
    "with open('../Datasets/song_meta_with_likes.json', 'r', encoding='utf-8') as f:\n",
    "    json_data = json.load(f)"
   ]
  },
  {
   "cell_type": "code",
   "execution_count": 34,
   "id": "9d00a9fe",
   "metadata": {},
   "outputs": [
    {
     "data": {
      "text/html": [
       "<div>\n",
       "<style scoped>\n",
       "    .dataframe tbody tr th:only-of-type {\n",
       "        vertical-align: middle;\n",
       "    }\n",
       "\n",
       "    .dataframe tbody tr th {\n",
       "        vertical-align: top;\n",
       "    }\n",
       "\n",
       "    .dataframe thead th {\n",
       "        text-align: right;\n",
       "    }\n",
       "</style>\n",
       "<table border=\"1\" class=\"dataframe\">\n",
       "  <thead>\n",
       "    <tr style=\"text-align: right;\">\n",
       "      <th></th>\n",
       "      <th>song_gn_dtl_gnr_basket</th>\n",
       "      <th>issue_date</th>\n",
       "      <th>album_id</th>\n",
       "      <th>artist_id_basket</th>\n",
       "      <th>song_name</th>\n",
       "      <th>artist_name_basket</th>\n",
       "      <th>id</th>\n",
       "      <th>like_cnt_song</th>\n",
       "    </tr>\n",
       "  </thead>\n",
       "  <tbody>\n",
       "    <tr>\n",
       "      <th>0</th>\n",
       "      <td>[GN0901]</td>\n",
       "      <td>20140512</td>\n",
       "      <td>2255639</td>\n",
       "      <td>[2727]</td>\n",
       "      <td>Feelings</td>\n",
       "      <td>[Various Artists]</td>\n",
       "      <td>0</td>\n",
       "      <td>0.616807</td>\n",
       "    </tr>\n",
       "    <tr>\n",
       "      <th>1</th>\n",
       "      <td>[GN1601, GN1606]</td>\n",
       "      <td>20080421</td>\n",
       "      <td>376431</td>\n",
       "      <td>[29966]</td>\n",
       "      <td>Bach : Partita No. 4 In D Major, BWV 828 - II....</td>\n",
       "      <td>[Murray Perahia]</td>\n",
       "      <td>1</td>\n",
       "      <td>0.000000</td>\n",
       "    </tr>\n",
       "    <tr>\n",
       "      <th>2</th>\n",
       "      <td>[GN0901]</td>\n",
       "      <td>20180518</td>\n",
       "      <td>4698747</td>\n",
       "      <td>[3361]</td>\n",
       "      <td>Solsbury Hill (Remastered 2002)</td>\n",
       "      <td>[Peter Gabriel]</td>\n",
       "      <td>2</td>\n",
       "      <td>0.000000</td>\n",
       "    </tr>\n",
       "    <tr>\n",
       "      <th>3</th>\n",
       "      <td>[GN1102, GN1101]</td>\n",
       "      <td>20151016</td>\n",
       "      <td>2644882</td>\n",
       "      <td>[838543]</td>\n",
       "      <td>Feeling Right (Everything Is Nice) (Feat. Popc...</td>\n",
       "      <td>[Matoma]</td>\n",
       "      <td>3</td>\n",
       "      <td>22.996574</td>\n",
       "    </tr>\n",
       "    <tr>\n",
       "      <th>4</th>\n",
       "      <td>[GN1802, GN1801]</td>\n",
       "      <td>20110824</td>\n",
       "      <td>2008470</td>\n",
       "      <td>[560160]</td>\n",
       "      <td>그남자 그여자</td>\n",
       "      <td>[Jude Law]</td>\n",
       "      <td>4</td>\n",
       "      <td>0.297234</td>\n",
       "    </tr>\n",
       "  </tbody>\n",
       "</table>\n",
       "</div>"
      ],
      "text/plain": [
       "  song_gn_dtl_gnr_basket issue_date  album_id artist_id_basket  \\\n",
       "0               [GN0901]   20140512   2255639           [2727]   \n",
       "1       [GN1601, GN1606]   20080421    376431          [29966]   \n",
       "2               [GN0901]   20180518   4698747           [3361]   \n",
       "3       [GN1102, GN1101]   20151016   2644882         [838543]   \n",
       "4       [GN1802, GN1801]   20110824   2008470         [560160]   \n",
       "\n",
       "                                           song_name artist_name_basket  id  \\\n",
       "0                                           Feelings  [Various Artists]   0   \n",
       "1  Bach : Partita No. 4 In D Major, BWV 828 - II....   [Murray Perahia]   1   \n",
       "2                    Solsbury Hill (Remastered 2002)    [Peter Gabriel]   2   \n",
       "3  Feeling Right (Everything Is Nice) (Feat. Popc...           [Matoma]   3   \n",
       "4                                            그남자 그여자         [Jude Law]   4   \n",
       "\n",
       "   like_cnt_song  \n",
       "0       0.616807  \n",
       "1       0.000000  \n",
       "2       0.000000  \n",
       "3      22.996574  \n",
       "4       0.297234  "
      ]
     },
     "execution_count": 34,
     "metadata": {},
     "output_type": "execute_result"
    }
   ],
   "source": [
    "song_data = pd.DataFrame(json_data)\n",
    "song_data = song_data.drop(['album_name', 'song_gn_gnr_basket'], axis=1)\n",
    "song_data.head()"
   ]
  },
  {
   "cell_type": "markdown",
   "id": "bcf2ecba",
   "metadata": {},
   "source": [
    "## 데이터 열 이름 변경"
   ]
  },
  {
   "cell_type": "code",
   "execution_count": 35,
   "id": "36cf5e58",
   "metadata": {},
   "outputs": [
    {
     "data": {
      "text/html": [
       "<div>\n",
       "<style scoped>\n",
       "    .dataframe tbody tr th:only-of-type {\n",
       "        vertical-align: middle;\n",
       "    }\n",
       "\n",
       "    .dataframe tbody tr th {\n",
       "        vertical-align: top;\n",
       "    }\n",
       "\n",
       "    .dataframe thead th {\n",
       "        text-align: right;\n",
       "    }\n",
       "</style>\n",
       "<table border=\"1\" class=\"dataframe\">\n",
       "  <thead>\n",
       "    <tr style=\"text-align: right;\">\n",
       "      <th></th>\n",
       "      <th>tags</th>\n",
       "      <th>song_id</th>\n",
       "      <th>like_cnt</th>\n",
       "    </tr>\n",
       "  </thead>\n",
       "  <tbody>\n",
       "    <tr>\n",
       "      <th>0</th>\n",
       "      <td>[락]</td>\n",
       "      <td>[525514, 129701, 383374, 562083, 297861, 13954...</td>\n",
       "      <td>71</td>\n",
       "    </tr>\n",
       "    <tr>\n",
       "      <th>1</th>\n",
       "      <td>[추억, 회상]</td>\n",
       "      <td>[432406, 675945, 497066, 120377, 389529, 24427...</td>\n",
       "      <td>1</td>\n",
       "    </tr>\n",
       "    <tr>\n",
       "      <th>2</th>\n",
       "      <td>[까페, 잔잔한]</td>\n",
       "      <td>[83116, 276692, 166267, 186301, 354465, 256598...</td>\n",
       "      <td>17</td>\n",
       "    </tr>\n",
       "    <tr>\n",
       "      <th>3</th>\n",
       "      <td>[연말, 눈오는날, 캐럴, 분위기, 따듯한, 크리스마스캐럴, 겨울노래, 크리스마스,...</td>\n",
       "      <td>[394031, 195524, 540149, 287984, 440773, 10033...</td>\n",
       "      <td>33</td>\n",
       "    </tr>\n",
       "    <tr>\n",
       "      <th>4</th>\n",
       "      <td>[댄스]</td>\n",
       "      <td>[159327, 553610, 5130, 645103, 294435, 100657,...</td>\n",
       "      <td>9</td>\n",
       "    </tr>\n",
       "  </tbody>\n",
       "</table>\n",
       "</div>"
      ],
      "text/plain": [
       "                                                tags  \\\n",
       "0                                                [락]   \n",
       "1                                           [추억, 회상]   \n",
       "2                                          [까페, 잔잔한]   \n",
       "3  [연말, 눈오는날, 캐럴, 분위기, 따듯한, 크리스마스캐럴, 겨울노래, 크리스마스,...   \n",
       "4                                               [댄스]   \n",
       "\n",
       "                                             song_id  like_cnt  \n",
       "0  [525514, 129701, 383374, 562083, 297861, 13954...        71  \n",
       "1  [432406, 675945, 497066, 120377, 389529, 24427...         1  \n",
       "2  [83116, 276692, 166267, 186301, 354465, 256598...        17  \n",
       "3  [394031, 195524, 540149, 287984, 440773, 10033...        33  \n",
       "4  [159327, 553610, 5130, 645103, 294435, 100657,...         9  "
      ]
     },
     "execution_count": 35,
     "metadata": {},
     "output_type": "execute_result"
    }
   ],
   "source": [
    "train_data.rename(columns={'songs':'song_id'}, inplace=True)\n",
    "train_data.head()"
   ]
  },
  {
   "cell_type": "markdown",
   "id": "e2dcc1c1",
   "metadata": {},
   "source": [
    "## 데이터 추출\n",
    "\n",
    "- 500개의 플레이리스트 추출"
   ]
  },
  {
   "cell_type": "code",
   "execution_count": 36,
   "id": "9bec8482",
   "metadata": {},
   "outputs": [],
   "source": [
    "train_data_sample = train_data[500:1000].copy()\n",
    "train_data_sample = train_data_sample.reset_index(drop=True)\n",
    "#train_data_sample = train_data"
   ]
  },
  {
   "cell_type": "code",
   "execution_count": 37,
   "id": "06c5ffc9",
   "metadata": {},
   "outputs": [
    {
     "data": {
      "text/html": [
       "<div>\n",
       "<style scoped>\n",
       "    .dataframe tbody tr th:only-of-type {\n",
       "        vertical-align: middle;\n",
       "    }\n",
       "\n",
       "    .dataframe tbody tr th {\n",
       "        vertical-align: top;\n",
       "    }\n",
       "\n",
       "    .dataframe thead th {\n",
       "        text-align: right;\n",
       "    }\n",
       "</style>\n",
       "<table border=\"1\" class=\"dataframe\">\n",
       "  <thead>\n",
       "    <tr style=\"text-align: right;\">\n",
       "      <th></th>\n",
       "      <th>gnr</th>\n",
       "      <th>issue_date</th>\n",
       "      <th>album_id</th>\n",
       "      <th>artist_id_basket</th>\n",
       "      <th>song_name</th>\n",
       "      <th>artist_name_basket</th>\n",
       "      <th>song_id</th>\n",
       "      <th>like_cnt_song</th>\n",
       "    </tr>\n",
       "  </thead>\n",
       "  <tbody>\n",
       "    <tr>\n",
       "      <th>0</th>\n",
       "      <td>[GN0901]</td>\n",
       "      <td>20140512</td>\n",
       "      <td>2255639</td>\n",
       "      <td>[2727]</td>\n",
       "      <td>Feelings</td>\n",
       "      <td>[Various Artists]</td>\n",
       "      <td>0</td>\n",
       "      <td>0.616807</td>\n",
       "    </tr>\n",
       "    <tr>\n",
       "      <th>1</th>\n",
       "      <td>[GN1601, GN1606]</td>\n",
       "      <td>20080421</td>\n",
       "      <td>376431</td>\n",
       "      <td>[29966]</td>\n",
       "      <td>Bach : Partita No. 4 In D Major, BWV 828 - II....</td>\n",
       "      <td>[Murray Perahia]</td>\n",
       "      <td>1</td>\n",
       "      <td>0.000000</td>\n",
       "    </tr>\n",
       "    <tr>\n",
       "      <th>2</th>\n",
       "      <td>[GN0901]</td>\n",
       "      <td>20180518</td>\n",
       "      <td>4698747</td>\n",
       "      <td>[3361]</td>\n",
       "      <td>Solsbury Hill (Remastered 2002)</td>\n",
       "      <td>[Peter Gabriel]</td>\n",
       "      <td>2</td>\n",
       "      <td>0.000000</td>\n",
       "    </tr>\n",
       "    <tr>\n",
       "      <th>3</th>\n",
       "      <td>[GN1102, GN1101]</td>\n",
       "      <td>20151016</td>\n",
       "      <td>2644882</td>\n",
       "      <td>[838543]</td>\n",
       "      <td>Feeling Right (Everything Is Nice) (Feat. Popc...</td>\n",
       "      <td>[Matoma]</td>\n",
       "      <td>3</td>\n",
       "      <td>22.996574</td>\n",
       "    </tr>\n",
       "    <tr>\n",
       "      <th>4</th>\n",
       "      <td>[GN1802, GN1801]</td>\n",
       "      <td>20110824</td>\n",
       "      <td>2008470</td>\n",
       "      <td>[560160]</td>\n",
       "      <td>그남자 그여자</td>\n",
       "      <td>[Jude Law]</td>\n",
       "      <td>4</td>\n",
       "      <td>0.297234</td>\n",
       "    </tr>\n",
       "  </tbody>\n",
       "</table>\n",
       "</div>"
      ],
      "text/plain": [
       "                gnr  issue_date  album_id artist_id_basket  \\\n",
       "0          [GN0901]    20140512   2255639           [2727]   \n",
       "1  [GN1601, GN1606]    20080421    376431          [29966]   \n",
       "2          [GN0901]    20180518   4698747           [3361]   \n",
       "3  [GN1102, GN1101]    20151016   2644882         [838543]   \n",
       "4  [GN1802, GN1801]    20110824   2008470         [560160]   \n",
       "\n",
       "                                           song_name artist_name_basket  \\\n",
       "0                                           Feelings  [Various Artists]   \n",
       "1  Bach : Partita No. 4 In D Major, BWV 828 - II....   [Murray Perahia]   \n",
       "2                    Solsbury Hill (Remastered 2002)    [Peter Gabriel]   \n",
       "3  Feeling Right (Everything Is Nice) (Feat. Popc...           [Matoma]   \n",
       "4                                            그남자 그여자         [Jude Law]   \n",
       "\n",
       "   song_id  like_cnt_song  \n",
       "0        0       0.616807  \n",
       "1        1       0.000000  \n",
       "2        2       0.000000  \n",
       "3        3      22.996574  \n",
       "4        4       0.297234  "
      ]
     },
     "execution_count": 37,
     "metadata": {},
     "output_type": "execute_result"
    }
   ],
   "source": [
    "song_data.rename(columns={'id':'song_id', 'song_gn_dtl_gnr_basket': 'gnr'}, inplace=True)\n",
    "song_data = song_data.astype({'issue_date':'int64'})\n",
    "song_data.head()"
   ]
  },
  {
   "cell_type": "markdown",
   "id": "ec6f0145",
   "metadata": {},
   "source": [
    "## 노래별 가중치 설정"
   ]
  },
  {
   "cell_type": "code",
   "execution_count": 38,
   "id": "a6cd3d95",
   "metadata": {},
   "outputs": [
    {
     "data": {
      "text/plain": [
       "count    591216.000000\n",
       "mean         18.528749\n",
       "std          73.444383\n",
       "min           0.005000\n",
       "25%           0.302632\n",
       "50%           1.509804\n",
       "75%           8.990398\n",
       "max        3548.345552\n",
       "Name: like_cnt_song, dtype: float64"
      ]
     },
     "execution_count": 38,
     "metadata": {},
     "output_type": "execute_result"
    },
    {
     "data": {
      "image/png": "[encoded data removed]",
      "text/plain": [
       "<Figure size 640x480 with 1 Axes>"
      ]
     },
     "metadata": {},
     "output_type": "display_data"
    }
   ],
   "source": [
    "# 좋아요 개수 분포 확인을 위한 코드\n",
    "clean_song_data = song_data[song_data['like_cnt_song'] > 0]\n",
    "clean_song_data['like_cnt_song'].hist(bins=100)\n",
    "clean_song_data['like_cnt_song'].describe()"
   ]
  },
  {
   "cell_type": "code",
   "execution_count": 39,
   "id": "63d1141b",
   "metadata": {},
   "outputs": [
    {
     "data": {
      "text/html": [
       "<div>\n",
       "<style scoped>\n",
       "    .dataframe tbody tr th:only-of-type {\n",
       "        vertical-align: middle;\n",
       "    }\n",
       "\n",
       "    .dataframe tbody tr th {\n",
       "        vertical-align: top;\n",
       "    }\n",
       "\n",
       "    .dataframe thead th {\n",
       "        text-align: right;\n",
       "    }\n",
       "</style>\n",
       "<table border=\"1\" class=\"dataframe\">\n",
       "  <thead>\n",
       "    <tr style=\"text-align: right;\">\n",
       "      <th></th>\n",
       "      <th>gnr</th>\n",
       "      <th>issue_date</th>\n",
       "      <th>album_id</th>\n",
       "      <th>artist_id_basket</th>\n",
       "      <th>song_name</th>\n",
       "      <th>artist_name_basket</th>\n",
       "      <th>song_id</th>\n",
       "      <th>like_cnt_song</th>\n",
       "      <th>weight</th>\n",
       "    </tr>\n",
       "  </thead>\n",
       "  <tbody>\n",
       "    <tr>\n",
       "      <th>0</th>\n",
       "      <td>[GN0901]</td>\n",
       "      <td>20140512</td>\n",
       "      <td>2255639</td>\n",
       "      <td>[2727]</td>\n",
       "      <td>Feelings</td>\n",
       "      <td>[Various Artists]</td>\n",
       "      <td>0</td>\n",
       "      <td>0.616807</td>\n",
       "      <td>0.85</td>\n",
       "    </tr>\n",
       "    <tr>\n",
       "      <th>1</th>\n",
       "      <td>[GN1601, GN1606]</td>\n",
       "      <td>20080421</td>\n",
       "      <td>376431</td>\n",
       "      <td>[29966]</td>\n",
       "      <td>Bach : Partita No. 4 In D Major, BWV 828 - II....</td>\n",
       "      <td>[Murray Perahia]</td>\n",
       "      <td>1</td>\n",
       "      <td>0.000000</td>\n",
       "      <td>0.00</td>\n",
       "    </tr>\n",
       "    <tr>\n",
       "      <th>2</th>\n",
       "      <td>[GN0901]</td>\n",
       "      <td>20180518</td>\n",
       "      <td>4698747</td>\n",
       "      <td>[3361]</td>\n",
       "      <td>Solsbury Hill (Remastered 2002)</td>\n",
       "      <td>[Peter Gabriel]</td>\n",
       "      <td>2</td>\n",
       "      <td>0.000000</td>\n",
       "      <td>0.00</td>\n",
       "    </tr>\n",
       "    <tr>\n",
       "      <th>3</th>\n",
       "      <td>[GN1102, GN1101]</td>\n",
       "      <td>20151016</td>\n",
       "      <td>2644882</td>\n",
       "      <td>[838543]</td>\n",
       "      <td>Feeling Right (Everything Is Nice) (Feat. Popc...</td>\n",
       "      <td>[Matoma]</td>\n",
       "      <td>3</td>\n",
       "      <td>22.996574</td>\n",
       "      <td>0.95</td>\n",
       "    </tr>\n",
       "    <tr>\n",
       "      <th>4</th>\n",
       "      <td>[GN1802, GN1801]</td>\n",
       "      <td>20110824</td>\n",
       "      <td>2008470</td>\n",
       "      <td>[560160]</td>\n",
       "      <td>그남자 그여자</td>\n",
       "      <td>[Jude Law]</td>\n",
       "      <td>4</td>\n",
       "      <td>0.297234</td>\n",
       "      <td>0.80</td>\n",
       "    </tr>\n",
       "    <tr>\n",
       "      <th>5</th>\n",
       "      <td>[GN1701]</td>\n",
       "      <td>20100602</td>\n",
       "      <td>911754</td>\n",
       "      <td>[475840]</td>\n",
       "      <td>Para Los Enamorados</td>\n",
       "      <td>[Bye, Lupita]</td>\n",
       "      <td>5</td>\n",
       "      <td>24.995233</td>\n",
       "      <td>0.95</td>\n",
       "    </tr>\n",
       "    <tr>\n",
       "      <th>6</th>\n",
       "      <td>[GN1601, GN1602, GN1614]</td>\n",
       "      <td>20170208</td>\n",
       "      <td>10038397</td>\n",
       "      <td>[162097, 100237]</td>\n",
       "      <td>Sibelius : Valse Triste Op.44 (시벨리우스 : 슬픈 왈츠 작...</td>\n",
       "      <td>[Herbert Blomstedt, San Francisco Symphony]</td>\n",
       "      <td>6</td>\n",
       "      <td>0.857143</td>\n",
       "      <td>0.85</td>\n",
       "    </tr>\n",
       "    <tr>\n",
       "      <th>7</th>\n",
       "      <td>[GN1601, GN1602, GN1614]</td>\n",
       "      <td>20190315</td>\n",
       "      <td>10261160</td>\n",
       "      <td>[105210, 261542]</td>\n",
       "      <td>Superman March (From &amp;#34;Superman&amp;#34; / Live...</td>\n",
       "      <td>[Los Angeles Philharmonic Orchestra, Gustavo D...</td>\n",
       "      <td>7</td>\n",
       "      <td>0.115385</td>\n",
       "      <td>0.80</td>\n",
       "    </tr>\n",
       "    <tr>\n",
       "      <th>8</th>\n",
       "      <td>[GN0301]</td>\n",
       "      <td>20070625</td>\n",
       "      <td>353020</td>\n",
       "      <td>[224583]</td>\n",
       "      <td>Lovers’ Leap (Feat. Qypthone)</td>\n",
       "      <td>[애플스]</td>\n",
       "      <td>8</td>\n",
       "      <td>0.000000</td>\n",
       "      <td>0.00</td>\n",
       "    </tr>\n",
       "    <tr>\n",
       "      <th>9</th>\n",
       "      <td>[GN0105, GN0101]</td>\n",
       "      <td>20170320</td>\n",
       "      <td>10047088</td>\n",
       "      <td>[753752]</td>\n",
       "      <td>사랑, 그대라는 멜로디</td>\n",
       "      <td>[진호]</td>\n",
       "      <td>9</td>\n",
       "      <td>7.006667</td>\n",
       "      <td>0.90</td>\n",
       "    </tr>\n",
       "  </tbody>\n",
       "</table>\n",
       "</div>"
      ],
      "text/plain": [
       "                        gnr  issue_date  album_id  artist_id_basket  \\\n",
       "0                  [GN0901]    20140512   2255639            [2727]   \n",
       "1          [GN1601, GN1606]    20080421    376431           [29966]   \n",
       "2                  [GN0901]    20180518   4698747            [3361]   \n",
       "3          [GN1102, GN1101]    20151016   2644882          [838543]   \n",
       "4          [GN1802, GN1801]    20110824   2008470          [560160]   \n",
       "5                  [GN1701]    20100602    911754          [475840]   \n",
       "6  [GN1601, GN1602, GN1614]    20170208  10038397  [162097, 100237]   \n",
       "7  [GN1601, GN1602, GN1614]    20190315  10261160  [105210, 261542]   \n",
       "8                  [GN0301]    20070625    353020          [224583]   \n",
       "9          [GN0105, GN0101]    20170320  10047088          [753752]   \n",
       "\n",
       "                                           song_name  \\\n",
       "0                                           Feelings   \n",
       "1  Bach : Partita No. 4 In D Major, BWV 828 - II....   \n",
       "2                    Solsbury Hill (Remastered 2002)   \n",
       "3  Feeling Right (Everything Is Nice) (Feat. Popc...   \n",
       "4                                            그남자 그여자   \n",
       "5                                Para Los Enamorados   \n",
       "6  Sibelius : Valse Triste Op.44 (시벨리우스 : 슬픈 왈츠 작...   \n",
       "7  Superman March (From &#34;Superman&#34; / Live...   \n",
       "8                      Lovers’ Leap (Feat. Qypthone)   \n",
       "9                                       사랑, 그대라는 멜로디   \n",
       "\n",
       "                                  artist_name_basket  song_id  like_cnt_song  \\\n",
       "0                                  [Various Artists]        0       0.616807   \n",
       "1                                   [Murray Perahia]        1       0.000000   \n",
       "2                                    [Peter Gabriel]        2       0.000000   \n",
       "3                                           [Matoma]        3      22.996574   \n",
       "4                                         [Jude Law]        4       0.297234   \n",
       "5                                      [Bye, Lupita]        5      24.995233   \n",
       "6        [Herbert Blomstedt, San Francisco Symphony]        6       0.857143   \n",
       "7  [Los Angeles Philharmonic Orchestra, Gustavo D...        7       0.115385   \n",
       "8                                              [애플스]        8       0.000000   \n",
       "9                                               [진호]        9       7.006667   \n",
       "\n",
       "  weight  \n",
       "0   0.85  \n",
       "1   0.00  \n",
       "2   0.00  \n",
       "3   0.95  \n",
       "4   0.80  \n",
       "5   0.95  \n",
       "6   0.85  \n",
       "7   0.80  \n",
       "8   0.00  \n",
       "9   0.90  "
      ]
     },
     "execution_count": 39,
     "metadata": {},
     "output_type": "execute_result"
    }
   ],
   "source": [
    "bins = [-1, 0.001, 0.3, 1.5, 9, 3600]  # 구간 분할\n",
    "labels = [0, 0.8, 0.85, 0.9, 0.95]  # 구간별 가중치 지정\n",
    "\n",
    "song_data['weight'] = pd.cut(song_data['like_cnt_song'], bins=bins, labels=labels)  # 구간별 가중치 지정\n",
    "song_data.head(10)"
   ]
  },
  {
   "cell_type": "markdown",
   "id": "ea43c58a",
   "metadata": {},
   "source": [
    "## 가중치 반영 여부 설정"
   ]
  },
  {
   "cell_type": "code",
   "execution_count": 40,
   "id": "75a4c6e2",
   "metadata": {},
   "outputs": [],
   "source": [
    "likeWeight = True"
   ]
  },
  {
   "cell_type": "markdown",
   "id": "7bdd9aa0",
   "metadata": {},
   "source": [
    "# 한국어 -> 영어 변환\n",
    "- 한국어 전처리에 어려움이 있어서, 영어로 모두 변환 후 처리"
   ]
  },
  {
   "cell_type": "code",
   "execution_count": 41,
   "id": "9987dda0",
   "metadata": {},
   "outputs": [
    {
     "data": {
      "text/plain": [
       "'\\nfrom googletrans import Translator\\nimport time\\n\\ndef trans_to_eng(tags):\\n    time.sleep(1)\\n    translator = Translator()\\n    translated = translator.translate(tags, src = \\'ko\\', dest = \\'en\\')\\n    return translated.text\\n\\nfor i in range(len(train_data_sample)):\\n    eng_tags = [trans_to_eng(tag) for tag in train_data_sample[\\'tags\\'][i]]\\n    train_data_sample[\\'tags\\'][i] = eng_tags\\n\\ntrain_data_sample.to_json(\\'../Datasets/train_eng1.json\\', orient=\\'records\\')\\ntrain_data_sample.head(30)\\n\\n    \\n#train_data.head()\\n#eng_tags = [trans_to_eng(tag) for tag in train_data[\\'tags\\'][1]]\\n#print(\"Kor: \", train_data[\\'tags\\'][1])\\n#print(\"Eng: \", eng_tags)\\n'"
      ]
     },
     "execution_count": 41,
     "metadata": {},
     "output_type": "execute_result"
    }
   ],
   "source": [
    "'''\n",
    "from googletrans import Translator\n",
    "import time\n",
    "\n",
    "def trans_to_eng(tags):\n",
    "    time.sleep(1)\n",
    "    translator = Translator()\n",
    "    translated = translator.translate(tags, src = 'ko', dest = 'en')\n",
    "    return translated.text\n",
    "\n",
    "for i in range(len(train_data_sample)):\n",
    "    eng_tags = [trans_to_eng(tag) for tag in train_data_sample['tags'][i]]\n",
    "    train_data_sample['tags'][i] = eng_tags\n",
    "\n",
    "train_data_sample.to_json('../Datasets/train_eng1.json', orient='records')\n",
    "train_data_sample.head(30)\n",
    "\n",
    "    \n",
    "#train_data.head()\n",
    "#eng_tags = [trans_to_eng(tag) for tag in train_data['tags'][1]]\n",
    "#print(\"Kor: \", train_data['tags'][1])\n",
    "#print(\"Eng: \", eng_tags)\n",
    "'''"
   ]
  },
  {
   "cell_type": "code",
   "execution_count": 42,
   "id": "dfce8f10",
   "metadata": {},
   "outputs": [
    {
     "data": {
      "text/plain": [
       "\"\\nwith open('../Datasets/train_eng.json', 'r', encoding='utf-8') as f:\\n    json_data = json.load(f)\\n \""
      ]
     },
     "execution_count": 42,
     "metadata": {},
     "output_type": "execute_result"
    }
   ],
   "source": [
    "'''\n",
    "with open('../Datasets/train_eng.json', 'r', encoding='utf-8') as f:\n",
    "    json_data = json.load(f)\n",
    " '''"
   ]
  },
  {
   "cell_type": "code",
   "execution_count": 43,
   "id": "a7c58672",
   "metadata": {},
   "outputs": [
    {
     "data": {
      "text/plain": [
       "'\\ntrain_data_eng = pd.DataFrame(json_data)\\ntrain_data_eng.head(10)\\n'"
      ]
     },
     "execution_count": 43,
     "metadata": {},
     "output_type": "execute_result"
    }
   ],
   "source": [
    "'''\n",
    "train_data_eng = pd.DataFrame(json_data)\n",
    "train_data_eng.head(10)\n",
    "'''"
   ]
  },
  {
   "cell_type": "markdown",
   "id": "5bd4c7c3",
   "metadata": {},
   "source": [
    "# 태그 자연어 전처리"
   ]
  },
  {
   "cell_type": "markdown",
   "id": "d10c3fba",
   "metadata": {},
   "source": [
    "### 특수문자 및 공백 제외 + 대->소문자 변환"
   ]
  },
  {
   "cell_type": "code",
   "execution_count": 44,
   "id": "d9c35cae",
   "metadata": {},
   "outputs": [
    {
     "data": {
      "text/plain": [
       "\"\\nimport re\\n\\nprint(train_data_eng['tags'][3])\\npattern = re.compile('[^a-zA-Z0-9]')#특수문자나 공백을 띄어쓰기로 처리할지는 이후 테스트\\nidx = 0\\nfor tags in train_data_eng['tags']:\\n    eng_tags = []\\n    for tag in tags:\\n        temp_tags = re.sub(pattern, ' ', tag).lower().split()\\n        for temp_tag in temp_tags:\\n            eng_tags.append(temp_tag)\\n    train_data_eng['tags'][idx] = eng_tags\\n    idx += 1\\nprint(train_data_eng['tags'][3])\\n\""
      ]
     },
     "execution_count": 44,
     "metadata": {},
     "output_type": "execute_result"
    }
   ],
   "source": [
    "'''\n",
    "import re\n",
    "\n",
    "print(train_data_eng['tags'][3])\n",
    "pattern = re.compile('[^a-zA-Z0-9]')#특수문자나 공백을 띄어쓰기로 처리할지는 이후 테스트\n",
    "idx = 0\n",
    "for tags in train_data_eng['tags']:\n",
    "    eng_tags = []\n",
    "    for tag in tags:\n",
    "        temp_tags = re.sub(pattern, ' ', tag).lower().split()\n",
    "        for temp_tag in temp_tags:\n",
    "            eng_tags.append(temp_tag)\n",
    "    train_data_eng['tags'][idx] = eng_tags\n",
    "    idx += 1\n",
    "print(train_data_eng['tags'][3])\n",
    "'''"
   ]
  },
  {
   "cell_type": "markdown",
   "id": "da78efbc",
   "metadata": {},
   "source": [
    "### Stopwords 제거"
   ]
  },
  {
   "cell_type": "code",
   "execution_count": 45,
   "id": "a42b28a7",
   "metadata": {},
   "outputs": [
    {
     "data": {
      "text/plain": [
       "\"\\nimport nltk\\nfrom nltk.corpus import stopwords\\n#nltk.download('popular') # nltk 라이브러리 사용을 위해 다운해야 함\\n\\nstops = set(stopwords.words('english'))\\n\\nfor i in range(len(train_data_eng)):\\n    eng_tags = [tag for tag in train_data_eng['tags'][i] if not tag in stops]\\n    if train_data_eng['tags'][i] != eng_tags:\\n        print(train_data_eng['tags'][i])\\n        print(eng_tags)\\n    train_data_eng['tags'][i] = eng_tags\\n    \""
      ]
     },
     "execution_count": 45,
     "metadata": {},
     "output_type": "execute_result"
    }
   ],
   "source": [
    "'''\n",
    "import nltk\n",
    "from nltk.corpus import stopwords\n",
    "#nltk.download('popular') # nltk 라이브러리 사용을 위해 다운해야 함\n",
    "\n",
    "stops = set(stopwords.words('english'))\n",
    "\n",
    "for i in range(len(train_data_eng)):\n",
    "    eng_tags = [tag for tag in train_data_eng['tags'][i] if not tag in stops]\n",
    "    if train_data_eng['tags'][i] != eng_tags:\n",
    "        print(train_data_eng['tags'][i])\n",
    "        print(eng_tags)\n",
    "    train_data_eng['tags'][i] = eng_tags\n",
    "    '''"
   ]
  },
  {
   "cell_type": "markdown",
   "id": "3dcb4758",
   "metadata": {},
   "source": [
    "### Stemming"
   ]
  },
  {
   "cell_type": "code",
   "execution_count": 46,
   "id": "59ce240b",
   "metadata": {},
   "outputs": [
    {
     "data": {
      "text/plain": [
       "\"\\nstemmer = nltk.stem.SnowballStemmer('english')\\nfor i in range(len(train_data_eng)):\\n    eng_tags = [stemmer.stem(tag) for tag in train_data_eng['tags'][i]]\\n    train_data_eng['tags'][i] = eng_tags\\n    \""
      ]
     },
     "execution_count": 46,
     "metadata": {},
     "output_type": "execute_result"
    }
   ],
   "source": [
    "'''\n",
    "stemmer = nltk.stem.SnowballStemmer('english')\n",
    "for i in range(len(train_data_eng)):\n",
    "    eng_tags = [stemmer.stem(tag) for tag in train_data_eng['tags'][i]]\n",
    "    train_data_eng['tags'][i] = eng_tags\n",
    "    '''"
   ]
  },
  {
   "cell_type": "markdown",
   "id": "93f2db71",
   "metadata": {},
   "source": [
    "### 중복 제거"
   ]
  },
  {
   "cell_type": "code",
   "execution_count": 47,
   "id": "15a8e3a4",
   "metadata": {},
   "outputs": [
    {
     "data": {
      "text/plain": [
       "\"\\nfor i in range(len(train_data_eng)):\\n    eng_tags = list(dict.fromkeys(train_data_eng['tags'][i]))\\n    train_data_eng['tags'][i] = eng_tags\\n    \""
      ]
     },
     "execution_count": 47,
     "metadata": {},
     "output_type": "execute_result"
    }
   ],
   "source": [
    "'''\n",
    "for i in range(len(train_data_eng)):\n",
    "    eng_tags = list(dict.fromkeys(train_data_eng['tags'][i]))\n",
    "    train_data_eng['tags'][i] = eng_tags\n",
    "    '''"
   ]
  },
  {
   "cell_type": "markdown",
   "id": "60d08b13",
   "metadata": {},
   "source": [
    "### 한 글자로 된 단어 제거"
   ]
  },
  {
   "cell_type": "code",
   "execution_count": 48,
   "id": "e51883c7",
   "metadata": {},
   "outputs": [
    {
     "data": {
      "text/plain": [
       "\"\\nfor i in range(len(train_data_eng)):\\n    eng_tags = [tag for tag in train_data_eng['tags'][i] if len(tag) > 1]\\n    train_data_eng['tags'][i] = eng_tags\\n    \""
      ]
     },
     "execution_count": 48,
     "metadata": {},
     "output_type": "execute_result"
    }
   ],
   "source": [
    "'''\n",
    "for i in range(len(train_data_eng)):\n",
    "    eng_tags = [tag for tag in train_data_eng['tags'][i] if len(tag) > 1]\n",
    "    train_data_eng['tags'][i] = eng_tags\n",
    "    '''"
   ]
  },
  {
   "cell_type": "markdown",
   "id": "387ea2ce",
   "metadata": {},
   "source": [
    "### 추가적인 자연어 처리"
   ]
  },
  {
   "cell_type": "code",
   "execution_count": 49,
   "id": "770dddf9",
   "metadata": {},
   "outputs": [
    {
     "data": {
      "text/plain": [
       "\"\\n# '록' 또는 '락' 이 'lock' 으로 번역되는 문제가 있어서, 'rock' 으로 일괄적으로 수정\\npattern = re.compile(r'\\x08lock\\x08')\\nfor i in range(len(train_data_eng)):\\n    eng_tags = [re.sub(pattern, 'rock', tag) for tag in train_data_eng['tags'][i]]\\n    train_data_eng['tags'][i] = eng_tags\\n    \""
      ]
     },
     "execution_count": 49,
     "metadata": {},
     "output_type": "execute_result"
    }
   ],
   "source": [
    "'''\n",
    "# '록' 또는 '락' 이 'lock' 으로 번역되는 문제가 있어서, 'rock' 으로 일괄적으로 수정\n",
    "pattern = re.compile(r'\\block\\b')\n",
    "for i in range(len(train_data_eng)):\n",
    "    eng_tags = [re.sub(pattern, 'rock', tag) for tag in train_data_eng['tags'][i]]\n",
    "    train_data_eng['tags'][i] = eng_tags\n",
    "    '''"
   ]
  },
  {
   "cell_type": "code",
   "execution_count": 50,
   "id": "c7a3f26a",
   "metadata": {},
   "outputs": [
    {
     "data": {
      "text/plain": [
       "'\\ntrain_data_sample = train_data_eng.copy()\\ntrain_data_sample = train_data_sample.reset_index(drop=True)\\ntrain_data_sample.head(20)\\n'"
      ]
     },
     "execution_count": 50,
     "metadata": {},
     "output_type": "execute_result"
    }
   ],
   "source": [
    "'''\n",
    "train_data_sample = train_data_eng.copy()\n",
    "train_data_sample = train_data_sample.reset_index(drop=True)\n",
    "train_data_sample.head(20)\n",
    "'''"
   ]
  },
  {
   "cell_type": "markdown",
   "id": "8079fb88",
   "metadata": {},
   "source": [
    "## 태그 병합\n",
    "\n",
    "- 같은 노래에 부여된 서로 다른 태그들을 합친다\n",
    "- 그 결과 동일한 태그 리스트가 거의 모든 노래에 부여되었다"
   ]
  },
  {
   "cell_type": "code",
   "execution_count": 51,
   "id": "790f2755",
   "metadata": {},
   "outputs": [
    {
     "data": {
      "text/html": [
       "<div>\n",
       "<style scoped>\n",
       "    .dataframe tbody tr th:only-of-type {\n",
       "        vertical-align: middle;\n",
       "    }\n",
       "\n",
       "    .dataframe tbody tr th {\n",
       "        vertical-align: top;\n",
       "    }\n",
       "\n",
       "    .dataframe thead th {\n",
       "        text-align: right;\n",
       "    }\n",
       "</style>\n",
       "<table border=\"1\" class=\"dataframe\">\n",
       "  <thead>\n",
       "    <tr style=\"text-align: right;\">\n",
       "      <th></th>\n",
       "      <th>tags</th>\n",
       "      <th>song_id</th>\n",
       "      <th>like_cnt</th>\n",
       "    </tr>\n",
       "  </thead>\n",
       "  <tbody>\n",
       "    <tr>\n",
       "      <th>0</th>\n",
       "      <td>[빌로우, EDMFloor]</td>\n",
       "      <td>582347</td>\n",
       "      <td>0</td>\n",
       "    </tr>\n",
       "    <tr>\n",
       "      <th>1</th>\n",
       "      <td>[빌로우, EDMFloor]</td>\n",
       "      <td>577988</td>\n",
       "      <td>0</td>\n",
       "    </tr>\n",
       "    <tr>\n",
       "      <th>2</th>\n",
       "      <td>[빌로우, EDMFloor]</td>\n",
       "      <td>4096</td>\n",
       "      <td>0</td>\n",
       "    </tr>\n",
       "    <tr>\n",
       "      <th>3</th>\n",
       "      <td>[빌로우, EDMFloor]</td>\n",
       "      <td>223252</td>\n",
       "      <td>0</td>\n",
       "    </tr>\n",
       "    <tr>\n",
       "      <th>4</th>\n",
       "      <td>[빌로우, EDMFloor]</td>\n",
       "      <td>108282</td>\n",
       "      <td>0</td>\n",
       "    </tr>\n",
       "    <tr>\n",
       "      <th>5</th>\n",
       "      <td>[빌로우, EDMFloor]</td>\n",
       "      <td>279668</td>\n",
       "      <td>0</td>\n",
       "    </tr>\n",
       "    <tr>\n",
       "      <th>6</th>\n",
       "      <td>[빌로우, EDMFloor]</td>\n",
       "      <td>419946</td>\n",
       "      <td>0</td>\n",
       "    </tr>\n",
       "    <tr>\n",
       "      <th>7</th>\n",
       "      <td>[빌로우, EDMFloor]</td>\n",
       "      <td>430613</td>\n",
       "      <td>0</td>\n",
       "    </tr>\n",
       "    <tr>\n",
       "      <th>8</th>\n",
       "      <td>[빌로우, EDMFloor]</td>\n",
       "      <td>57445</td>\n",
       "      <td>0</td>\n",
       "    </tr>\n",
       "    <tr>\n",
       "      <th>9</th>\n",
       "      <td>[빌로우, EDMFloor]</td>\n",
       "      <td>302788</td>\n",
       "      <td>0</td>\n",
       "    </tr>\n",
       "    <tr>\n",
       "      <th>10</th>\n",
       "      <td>[빌로우, EDMFloor]</td>\n",
       "      <td>354904</td>\n",
       "      <td>0</td>\n",
       "    </tr>\n",
       "    <tr>\n",
       "      <th>11</th>\n",
       "      <td>[빌로우, EDMFloor]</td>\n",
       "      <td>303097</td>\n",
       "      <td>0</td>\n",
       "    </tr>\n",
       "    <tr>\n",
       "      <th>12</th>\n",
       "      <td>[빌로우, EDMFloor]</td>\n",
       "      <td>76018</td>\n",
       "      <td>0</td>\n",
       "    </tr>\n",
       "    <tr>\n",
       "      <th>13</th>\n",
       "      <td>[빌로우, EDMFloor]</td>\n",
       "      <td>532911</td>\n",
       "      <td>0</td>\n",
       "    </tr>\n",
       "    <tr>\n",
       "      <th>14</th>\n",
       "      <td>[빌로우, EDMFloor]</td>\n",
       "      <td>561868</td>\n",
       "      <td>0</td>\n",
       "    </tr>\n",
       "    <tr>\n",
       "      <th>15</th>\n",
       "      <td>[빌로우, EDMFloor]</td>\n",
       "      <td>56844</td>\n",
       "      <td>0</td>\n",
       "    </tr>\n",
       "    <tr>\n",
       "      <th>16</th>\n",
       "      <td>[빌로우, EDMFloor]</td>\n",
       "      <td>211510</td>\n",
       "      <td>0</td>\n",
       "    </tr>\n",
       "    <tr>\n",
       "      <th>17</th>\n",
       "      <td>[빌로우, EDMFloor]</td>\n",
       "      <td>507202</td>\n",
       "      <td>0</td>\n",
       "    </tr>\n",
       "    <tr>\n",
       "      <th>18</th>\n",
       "      <td>[빌로우, EDMFloor]</td>\n",
       "      <td>369332</td>\n",
       "      <td>0</td>\n",
       "    </tr>\n",
       "    <tr>\n",
       "      <th>19</th>\n",
       "      <td>[빌로우, EDMFloor]</td>\n",
       "      <td>41296</td>\n",
       "      <td>0</td>\n",
       "    </tr>\n",
       "    <tr>\n",
       "      <th>20</th>\n",
       "      <td>[빌로우, EDMFloor]</td>\n",
       "      <td>491460</td>\n",
       "      <td>0</td>\n",
       "    </tr>\n",
       "    <tr>\n",
       "      <th>21</th>\n",
       "      <td>[빌로우, EDMFloor]</td>\n",
       "      <td>488758</td>\n",
       "      <td>0</td>\n",
       "    </tr>\n",
       "    <tr>\n",
       "      <th>22</th>\n",
       "      <td>[빌로우, EDMFloor]</td>\n",
       "      <td>444002</td>\n",
       "      <td>0</td>\n",
       "    </tr>\n",
       "    <tr>\n",
       "      <th>23</th>\n",
       "      <td>[빌로우, EDMFloor]</td>\n",
       "      <td>119616</td>\n",
       "      <td>0</td>\n",
       "    </tr>\n",
       "    <tr>\n",
       "      <th>24</th>\n",
       "      <td>[빌로우, EDMFloor]</td>\n",
       "      <td>596833</td>\n",
       "      <td>0</td>\n",
       "    </tr>\n",
       "    <tr>\n",
       "      <th>25</th>\n",
       "      <td>[빌로우, EDMFloor]</td>\n",
       "      <td>340244</td>\n",
       "      <td>0</td>\n",
       "    </tr>\n",
       "    <tr>\n",
       "      <th>26</th>\n",
       "      <td>[빌로우, EDMFloor]</td>\n",
       "      <td>524187</td>\n",
       "      <td>0</td>\n",
       "    </tr>\n",
       "    <tr>\n",
       "      <th>27</th>\n",
       "      <td>[빌로우, EDMFloor]</td>\n",
       "      <td>677131</td>\n",
       "      <td>0</td>\n",
       "    </tr>\n",
       "    <tr>\n",
       "      <th>28</th>\n",
       "      <td>[빌로우, EDMFloor]</td>\n",
       "      <td>528986</td>\n",
       "      <td>0</td>\n",
       "    </tr>\n",
       "    <tr>\n",
       "      <th>29</th>\n",
       "      <td>[빌로우, EDMFloor]</td>\n",
       "      <td>477709</td>\n",
       "      <td>0</td>\n",
       "    </tr>\n",
       "  </tbody>\n",
       "</table>\n",
       "</div>"
      ],
      "text/plain": [
       "               tags song_id  like_cnt\n",
       "0   [빌로우, EDMFloor]  582347         0\n",
       "1   [빌로우, EDMFloor]  577988         0\n",
       "2   [빌로우, EDMFloor]    4096         0\n",
       "3   [빌로우, EDMFloor]  223252         0\n",
       "4   [빌로우, EDMFloor]  108282         0\n",
       "5   [빌로우, EDMFloor]  279668         0\n",
       "6   [빌로우, EDMFloor]  419946         0\n",
       "7   [빌로우, EDMFloor]  430613         0\n",
       "8   [빌로우, EDMFloor]   57445         0\n",
       "9   [빌로우, EDMFloor]  302788         0\n",
       "10  [빌로우, EDMFloor]  354904         0\n",
       "11  [빌로우, EDMFloor]  303097         0\n",
       "12  [빌로우, EDMFloor]   76018         0\n",
       "13  [빌로우, EDMFloor]  532911         0\n",
       "14  [빌로우, EDMFloor]  561868         0\n",
       "15  [빌로우, EDMFloor]   56844         0\n",
       "16  [빌로우, EDMFloor]  211510         0\n",
       "17  [빌로우, EDMFloor]  507202         0\n",
       "18  [빌로우, EDMFloor]  369332         0\n",
       "19  [빌로우, EDMFloor]   41296         0\n",
       "20  [빌로우, EDMFloor]  491460         0\n",
       "21  [빌로우, EDMFloor]  488758         0\n",
       "22  [빌로우, EDMFloor]  444002         0\n",
       "23  [빌로우, EDMFloor]  119616         0\n",
       "24  [빌로우, EDMFloor]  596833         0\n",
       "25  [빌로우, EDMFloor]  340244         0\n",
       "26  [빌로우, EDMFloor]  524187         0\n",
       "27  [빌로우, EDMFloor]  677131         0\n",
       "28  [빌로우, EDMFloor]  528986         0\n",
       "29  [빌로우, EDMFloor]  477709         0"
      ]
     },
     "execution_count": 51,
     "metadata": {},
     "output_type": "execute_result"
    }
   ],
   "source": [
    "train_data_sample = train_data_sample.explode('song_id', ignore_index=True)\n",
    "train_data_sample.head(30)"
   ]
  },
  {
   "cell_type": "code",
   "execution_count": 52,
   "id": "ec6056ea",
   "metadata": {},
   "outputs": [
    {
     "name": "stdout",
     "output_type": "stream",
     "text": [
      "{'잔잔한', '아이돌', '히트곡', '댄스', '걸그룹', '추억', '회상', 'kpop'}\n"
     ]
    }
   ],
   "source": [
    "train_dict = dict()\n",
    "\n",
    "for i in range(len(train_data_sample)):\n",
    "    song = train_data_sample['song_id'][i]\n",
    "    tag = train_data_sample['tags'][i]\n",
    "    \n",
    "    if song in train_dict:\n",
    "        for j in tag:\n",
    "            train_dict[song].add(j)\n",
    "    \n",
    "    else:\n",
    "        train_dict[song] = set(tag)\n",
    "        \n",
    "print(train_dict[157435])"
   ]
  },
  {
   "cell_type": "code",
   "execution_count": 53,
   "id": "4a038475",
   "metadata": {},
   "outputs": [
    {
     "data": {
      "text/plain": [
       "(18275, 3)"
      ]
     },
     "execution_count": 53,
     "metadata": {},
     "output_type": "execute_result"
    }
   ],
   "source": [
    "train_data_sample.drop_duplicates(subset='song_id', keep='first',inplace=True)\n",
    "train_data_sample.shape"
   ]
  },
  {
   "cell_type": "code",
   "execution_count": 54,
   "id": "8674dafe",
   "metadata": {},
   "outputs": [
    {
     "name": "stderr",
     "output_type": "stream",
     "text": [
      "C:\\Users\\pigwo\\AppData\\Local\\Temp\\ipykernel_13572\\1966443478.py:4: SettingWithCopyWarning: \n",
      "A value is trying to be set on a copy of a slice from a DataFrame\n",
      "\n",
      "See the caveats in the documentation: https://pandas.pydata.org/pandas-docs/stable/user_guide/indexing.html#returning-a-view-versus-a-copy\n",
      "  train_data_sample['tags'].iloc[i] = list(train_dict[song])\n"
     ]
    },
    {
     "data": {
      "text/html": [
       "<div>\n",
       "<style scoped>\n",
       "    .dataframe tbody tr th:only-of-type {\n",
       "        vertical-align: middle;\n",
       "    }\n",
       "\n",
       "    .dataframe tbody tr th {\n",
       "        vertical-align: top;\n",
       "    }\n",
       "\n",
       "    .dataframe thead th {\n",
       "        text-align: right;\n",
       "    }\n",
       "</style>\n",
       "<table border=\"1\" class=\"dataframe\">\n",
       "  <thead>\n",
       "    <tr style=\"text-align: right;\">\n",
       "      <th></th>\n",
       "      <th>tags</th>\n",
       "      <th>song_id</th>\n",
       "      <th>like_cnt</th>\n",
       "    </tr>\n",
       "  </thead>\n",
       "  <tbody>\n",
       "    <tr>\n",
       "      <th>0</th>\n",
       "      <td>[EDMFloor, 빌로우]</td>\n",
       "      <td>582347</td>\n",
       "      <td>0</td>\n",
       "    </tr>\n",
       "    <tr>\n",
       "      <th>1</th>\n",
       "      <td>[EDMFloor, 빌로우]</td>\n",
       "      <td>577988</td>\n",
       "      <td>0</td>\n",
       "    </tr>\n",
       "    <tr>\n",
       "      <th>2</th>\n",
       "      <td>[EDMFloor, 빌로우]</td>\n",
       "      <td>4096</td>\n",
       "      <td>0</td>\n",
       "    </tr>\n",
       "    <tr>\n",
       "      <th>3</th>\n",
       "      <td>[EDMFloor, 빌로우]</td>\n",
       "      <td>223252</td>\n",
       "      <td>0</td>\n",
       "    </tr>\n",
       "    <tr>\n",
       "      <th>4</th>\n",
       "      <td>[스트레스, EDMFloor, 빌로우, 클럽]</td>\n",
       "      <td>108282</td>\n",
       "      <td>0</td>\n",
       "    </tr>\n",
       "  </tbody>\n",
       "</table>\n",
       "</div>"
      ],
      "text/plain": [
       "                        tags song_id  like_cnt\n",
       "0            [EDMFloor, 빌로우]  582347         0\n",
       "1            [EDMFloor, 빌로우]  577988         0\n",
       "2            [EDMFloor, 빌로우]    4096         0\n",
       "3            [EDMFloor, 빌로우]  223252         0\n",
       "4  [스트레스, EDMFloor, 빌로우, 클럽]  108282         0"
      ]
     },
     "execution_count": 54,
     "metadata": {},
     "output_type": "execute_result"
    }
   ],
   "source": [
    "for i in range(len(train_data_sample)):\n",
    "    song = train_data_sample['song_id'].iloc[i]\n",
    "    \n",
    "    train_data_sample['tags'].iloc[i] = list(train_dict[song])\n",
    "\n",
    "train_data_sample.head()"
   ]
  },
  {
   "cell_type": "code",
   "execution_count": 55,
   "id": "dbd80db8",
   "metadata": {},
   "outputs": [
    {
     "data": {
      "text/html": [
       "<div>\n",
       "<style scoped>\n",
       "    .dataframe tbody tr th:only-of-type {\n",
       "        vertical-align: middle;\n",
       "    }\n",
       "\n",
       "    .dataframe tbody tr th {\n",
       "        vertical-align: top;\n",
       "    }\n",
       "\n",
       "    .dataframe thead th {\n",
       "        text-align: right;\n",
       "    }\n",
       "</style>\n",
       "<table border=\"1\" class=\"dataframe\">\n",
       "  <thead>\n",
       "    <tr style=\"text-align: right;\">\n",
       "      <th></th>\n",
       "      <th>tags</th>\n",
       "      <th>song_id</th>\n",
       "      <th>like_cnt</th>\n",
       "      <th>gnr</th>\n",
       "      <th>issue_date</th>\n",
       "      <th>album_id</th>\n",
       "      <th>artist_id_basket</th>\n",
       "      <th>song_name</th>\n",
       "      <th>artist_name_basket</th>\n",
       "      <th>like_cnt_song</th>\n",
       "      <th>weight</th>\n",
       "    </tr>\n",
       "  </thead>\n",
       "  <tbody>\n",
       "    <tr>\n",
       "      <th>0</th>\n",
       "      <td>[EDMFloor, 빌로우]</td>\n",
       "      <td>582347</td>\n",
       "      <td>0</td>\n",
       "      <td>[GN1104, GN1103, GN1101]</td>\n",
       "      <td>20171220</td>\n",
       "      <td>10121025</td>\n",
       "      <td>[784873]</td>\n",
       "      <td>No Coming Down</td>\n",
       "      <td>[Nghtmre]</td>\n",
       "      <td>5.892632</td>\n",
       "      <td>0.90</td>\n",
       "    </tr>\n",
       "    <tr>\n",
       "      <th>1</th>\n",
       "      <td>[EDMFloor, 빌로우]</td>\n",
       "      <td>577988</td>\n",
       "      <td>0</td>\n",
       "      <td>[GN1014, GN1001]</td>\n",
       "      <td>20180605</td>\n",
       "      <td>10135634</td>\n",
       "      <td>[718938]</td>\n",
       "      <td>Get Out</td>\n",
       "      <td>[CHVRCHES]</td>\n",
       "      <td>178.479183</td>\n",
       "      <td>0.95</td>\n",
       "    </tr>\n",
       "    <tr>\n",
       "      <th>2</th>\n",
       "      <td>[EDMFloor, 빌로우]</td>\n",
       "      <td>4096</td>\n",
       "      <td>0</td>\n",
       "      <td>[GN1014, GN1001]</td>\n",
       "      <td>20180605</td>\n",
       "      <td>10135634</td>\n",
       "      <td>[718938]</td>\n",
       "      <td>Miracle</td>\n",
       "      <td>[CHVRCHES]</td>\n",
       "      <td>405.500124</td>\n",
       "      <td>0.95</td>\n",
       "    </tr>\n",
       "    <tr>\n",
       "      <th>3</th>\n",
       "      <td>[EDMFloor, 빌로우]</td>\n",
       "      <td>223252</td>\n",
       "      <td>0</td>\n",
       "      <td>[GN2701, GN2702, GN2703, GN1104, GN1103, GN1101]</td>\n",
       "      <td>20180413</td>\n",
       "      <td>10157297</td>\n",
       "      <td>[990703]</td>\n",
       "      <td>Batshit</td>\n",
       "      <td>[Sofi Tukker]</td>\n",
       "      <td>295.274991</td>\n",
       "      <td>0.95</td>\n",
       "    </tr>\n",
       "    <tr>\n",
       "      <th>4</th>\n",
       "      <td>[스트레스, EDMFloor, 빌로우, 클럽]</td>\n",
       "      <td>108282</td>\n",
       "      <td>0</td>\n",
       "      <td>[GN2701, GN2702, GN2703, GN1104, GN1103, GN1101]</td>\n",
       "      <td>20180413</td>\n",
       "      <td>10157297</td>\n",
       "      <td>[990703]</td>\n",
       "      <td>Best Friend (Feat. NERVO, The Knocks &amp; Alisa U...</td>\n",
       "      <td>[Sofi Tukker]</td>\n",
       "      <td>188.843021</td>\n",
       "      <td>0.95</td>\n",
       "    </tr>\n",
       "  </tbody>\n",
       "</table>\n",
       "</div>"
      ],
      "text/plain": [
       "                        tags  song_id  like_cnt  \\\n",
       "0            [EDMFloor, 빌로우]   582347         0   \n",
       "1            [EDMFloor, 빌로우]   577988         0   \n",
       "2            [EDMFloor, 빌로우]     4096         0   \n",
       "3            [EDMFloor, 빌로우]   223252         0   \n",
       "4  [스트레스, EDMFloor, 빌로우, 클럽]   108282         0   \n",
       "\n",
       "                                                gnr  issue_date  album_id  \\\n",
       "0                          [GN1104, GN1103, GN1101]    20171220  10121025   \n",
       "1                                  [GN1014, GN1001]    20180605  10135634   \n",
       "2                                  [GN1014, GN1001]    20180605  10135634   \n",
       "3  [GN2701, GN2702, GN2703, GN1104, GN1103, GN1101]    20180413  10157297   \n",
       "4  [GN2701, GN2702, GN2703, GN1104, GN1103, GN1101]    20180413  10157297   \n",
       "\n",
       "  artist_id_basket                                          song_name  \\\n",
       "0         [784873]                                     No Coming Down   \n",
       "1         [718938]                                            Get Out   \n",
       "2         [718938]                                            Miracle   \n",
       "3         [990703]                                            Batshit   \n",
       "4         [990703]  Best Friend (Feat. NERVO, The Knocks & Alisa U...   \n",
       "\n",
       "  artist_name_basket  like_cnt_song weight  \n",
       "0          [Nghtmre]       5.892632   0.90  \n",
       "1         [CHVRCHES]     178.479183   0.95  \n",
       "2         [CHVRCHES]     405.500124   0.95  \n",
       "3      [Sofi Tukker]     295.274991   0.95  \n",
       "4      [Sofi Tukker]     188.843021   0.95  "
      ]
     },
     "execution_count": 55,
     "metadata": {},
     "output_type": "execute_result"
    }
   ],
   "source": [
    "song_tag_appended = pd.merge(train_data_sample, song_data)\n",
    "song_tag_appended = song_tag_appended.astype({'song_id':'int64'})\n",
    "song_tag_appended.head()"
   ]
  },
  {
   "cell_type": "code",
   "execution_count": 56,
   "id": "c646e297",
   "metadata": {},
   "outputs": [
    {
     "name": "stdout",
     "output_type": "stream",
     "text": [
      "<class 'pandas.core.frame.DataFrame'>\n",
      "Int64Index: 18275 entries, 0 to 18274\n",
      "Data columns (total 11 columns):\n",
      " #   Column              Non-Null Count  Dtype   \n",
      "---  ------              --------------  -----   \n",
      " 0   tags                18275 non-null  object  \n",
      " 1   song_id             18275 non-null  int64   \n",
      " 2   like_cnt            18275 non-null  int64   \n",
      " 3   gnr                 18275 non-null  object  \n",
      " 4   issue_date          18275 non-null  int64   \n",
      " 5   album_id            18275 non-null  int64   \n",
      " 6   artist_id_basket    18275 non-null  object  \n",
      " 7   song_name           18275 non-null  object  \n",
      " 8   artist_name_basket  18275 non-null  object  \n",
      " 9   like_cnt_song       18275 non-null  float64 \n",
      " 10  weight              18275 non-null  category\n",
      "dtypes: category(1), float64(1), int64(4), object(5)\n",
      "memory usage: 1.6+ MB\n"
     ]
    }
   ],
   "source": [
    "song_tag_appended.info()"
   ]
  },
  {
   "cell_type": "markdown",
   "id": "4c740d7b",
   "metadata": {},
   "source": [
    "## Word2Vec 사용\n",
    "\n",
    "- 태그 리스트들을 word2vec로 학습시켜 태그 하나와 연관된 다른 태그들을 유추"
   ]
  },
  {
   "cell_type": "code",
   "execution_count": 57,
   "id": "bc470359",
   "metadata": {},
   "outputs": [],
   "source": [
    "train_data_sample2 = train_data[500:1000].copy()\n",
    "#train_data_sample2 = train_data_eng.copy()\n",
    "train_data_sample2 = train_data_sample2.reset_index(drop=True)\n",
    "#train_data_sample2 = train_data"
   ]
  },
  {
   "cell_type": "code",
   "execution_count": 58,
   "id": "3ab58103",
   "metadata": {},
   "outputs": [
    {
     "data": {
      "text/plain": [
       "(624, 100)"
      ]
     },
     "execution_count": 58,
     "metadata": {},
     "output_type": "execute_result"
    }
   ],
   "source": [
    "from gensim.models.word2vec import Word2Vec\n",
    "\n",
    "w2v = Word2Vec(sentences = song_tag_appended['tags'], vector_size = 100, \n",
    "               window = 5, min_count = 15, workers = 4, sg = 1)\n",
    "\n",
    "w2v.wv.vectors.shape"
   ]
  },
  {
   "cell_type": "code",
   "execution_count": 59,
   "id": "4962276a",
   "metadata": {},
   "outputs": [],
   "source": [
    "#print(w2v.wv.most_similar('rock'))"
   ]
  },
  {
   "cell_type": "markdown",
   "id": "51ab2ee5",
   "metadata": {},
   "source": [
    "# 태그 불균형"
   ]
  },
  {
   "cell_type": "code",
   "execution_count": 60,
   "id": "c64d9647",
   "metadata": {},
   "outputs": [
    {
     "name": "stdout",
     "output_type": "stream",
     "text": [
      "{'빌로우': 4.34287734754113, 'EDMFloor': 4.34287734754113, '기분전환': 0.6931471805599453, '밤': 1.1911757529923772, '새벽': 1.051397065763938, '댄스': 1.5401987051902684, '걸그룹': 2.3723500240898385, '발라드': 0.937697392511506, '휴식': 0.9790037211447301, '가을': 1.819465023950707, '잔잔한': 0.9239790617108892, '귀르가즘': 5.299878647114989, '우울': 2.770826607246382, 'soul': 3.374895805767733, 'JAZZY': 5.299878647114989, '감성': 1.1093889381298705, 'groove': 5.299878647114989, 'OST': 1.6629405606477428, '신곡': 4.611711246531472, '박자': 4.611711246531472, '비트': 3.5741149559120613, '재즈': 1.7671049076641145, '월요병': 3.3921475461422377, '좋은노래': 5.239565989113283, '음색': 3.349601561179422, '힐링': 1.106407545670478, '편안한': 2.966999719470782, '겨울': 1.7302246807883075, '저녁': 2.041165760089332, '매장음악': 1.4115088077314495, '겨울감성': 3.0472142293891347, '카페': 1.3177455223761656, '드라이브': 0.8164572733184746, '사랑': 1.0324094960215011, '피크닉': 4.817486098650238, '오후': 2.7153977727326044, '여행': 1.6086857499315461, '운동': 1.8715368897266704, '락': 1.7230757645390522, '무도': 6.277582897583581, '무한도전': 6.277582897583581, '카페음악': 4.15150297606205, '커피와': 5.239565989113283, '봄': 2.3085332765138067, '벚꽃': 5.239565989113283, '기분좋은': 3.6511165014407636, 'Pop': 2.015990864000102, '산책': 1.9746753154584475, '힙합': 1.1433942605363643, 'label_crew': 4.58125000227044, '랩': 1.4982507233360682, '국내힙합': 3.9284498431136794, '트렌드': 4.58125000227044, '쇼미더머니': 4.58125000227044, '스웨그': 4.58125000227044, 'aomg': 4.15150297606205, 'hilite': 4.58125000227044, '2010': 4.2748125503667325, '게임': 5.586311890181863, '넥슨': 5.586311890181863, '니드포스피드': 5.586311890181863, 'needforspeed': 5.586311890181863, '니드포스피드엣지': 5.586311890181863, '연주곡': 2.380685086417305, '피아노연주곡모음': 2.9399938688689895, '피아노': 2.3162449525173034, '카페에서듣기좋은음악': 2.9399938688689895, '아메리카노': 2.9399938688689895, '가사없는': 2.9399938688689895, '뉴에이지피아노연주곡': 2.9399938688689895, '머리를맑게해주는': 2.9399938688689895, '아침잠을깨워주는': 2.9399938688689895, '안녕': 5.077982367555866, '집': 3.349601561179422, '위로': 2.4814643055970276, 'Home': 5.077982367555866, '스트레스': 1.8744603390196637, '집중': 2.793109888459266, '느낌있는': 2.3532214552310036, '여유': 3.122095176699901, '회상': 1.3533545120420238, '추억': 1.1329977716349933, '설렘': 1.2442059345623884, '감미롭고': 3.773220602547687, '팝': 1.3108784298496123, '차분': 4.551707357199277, '조용': 4.551707357199277, '2000년대': 3.2179731619514866, '8090세대': 4.58125000227044, '일렉트로니카': 2.6909508133112947, '드럼머신': 5.586311890181863, 'TR808': 5.586311890181863, '리믹스': 5.586311890181863, '2000': 3.799636342032568, '하이브리드': 5.586311890181863, '팝랩': 5.586311890181863, '클럽': 1.8818202931462362, '알앤비': 1.9985025991744838, '힙합클럽': 3.141814778731739, '불금': 3.141814778731739, '외힙': 2.8783110145538036, '트렌디': 1.8485604988061994, '신나는': 1.7302246807883075, '흑인음악': 5.768008446955473, '소울': 2.686942000886438, '최신': 5.128963989819964, '하우스': 5.128963989819964, '파티': 5.128963989819964, '인기': 4.008257257375849, '일렉트로닉': 5.128963989819964, '일렉': 2.339824206065063, '뉴에이지': 2.1139422289064562, '키즈클래식': 5.506581536095124, '7살': 5.506581536095124, '9살': 5.506581536095124, '8살': 5.506581536095124, '취향저격': 3.0412432575603776, '잠': 5.36410510708604, '올해의앨범': 5.239565989113283, '연말결산': 3.1687848149657207, '박효재': 5.239565989113283, 'Rock': 4.1323934845601205, '스쿨오브록': 5.239565989113283, '2017': 5.239565989113283, '록': 4.15150297606205, '썸남': 4.8969065287679125, '썸녀': 4.8969065287679125, '분위기': 2.4627780872772664, '데이트': 3.799636342032568, '썸': 3.3579570062776187, '까페': 3.366387976996294, '노동요': 2.8684314306801046, '공부': 3.0714978572853457, '클래식': 2.7886080502670665, '잠들기전': 3.5636087784967803, '침대': 3.5636087784967803, '자장가': 3.102791345847399, '불면증': 3.2623274297965943, '여름밤': 2.9346885695214624, '퇴근': 4.15150297606205, '매장': 2.021316360392988, '꽃': 5.029503778400638, '공감': 3.799636342032568, '2016': 3.122095176699901, '서재페': 3.122095176699901, '제10회': 3.122095176699901, 'Jazz': 2.394765379789443, '댄스곡': 3.5029149060414806, '여름송': 5.18271944179699, '다정한': 5.768008446955473, '달콤한': 3.2179731619514866, '인디': 2.313666325862004, '슬픔': 1.8100211914881361, '이별': 1.5821601430216023, 'kpop': 3.959583535258814, '아이돌': 2.7577218108994477, '5살': 5.673010815989447, '4살': 5.673010815989447, '3살': 5.673010815989447, '6살': 5.673010815989447, '아기동화': 5.673010815989447, '크리스마스송': 5.8730563160576805, '트로트': 2.8299728050590147, '감성힙합': 2.553734286641397, '띵곡': 4.15150297606205, '국힙': 4.643149434053308, '방탄소년단': 2.893338238861261, '방탄소년단명곡': 5.077982367555866, '감성팝': 3.7475158516767264, '팝발라드': 3.7475158516767264, '추천': 4.416056383260193, '새벽감성': 4.113653788743499, '노래': 4.416056383260193, '감상': 5.239565989113283, '히트곡': 2.8299728050590147, '블랙아이드필승': 5.586311890181863, '아무로나미에': 5.299878647114989, '세트리스트': 4.709219497565854, '감각적인': 3.115615204987259, '그루브': 2.5675584327204017, '꿀보이스': 3.8406804367882024, '커피': 2.811349770940014, '리드미컬': 3.5847391948613394, '로맨틱': 3.239884361264392, '레스토랑': 5.128963989819964, '바': 5.128963989819964, '크리스마스': 3.1091807982763213, '유니크한': 3.5636087784967803, '흔하지않은': 3.5636087784967803, '힙한': 3.5636087784967803, '시크한': 3.5636087784967803, '힙스터': 3.5636087784967803, '세련된': 3.3249755630320528, '한국어패치': 4.441722032325576, '수능금지곡': 4.441722032325576, '금지곡': 4.441722032325576, '한글': 4.441722032325576, '한국어': 4.441722032325576, 'HipHop': 2.420725335298271, '외국힙합': 2.6555186066693306, '트렌디한': 2.8442008339550924, 'JAYJE': 2.8442008339550924, 'Moti': 4.744000017063822, 'Kshmr': 4.744000017063822, 'UMF': 4.744000017063822, 'DVBBS': 4.744000017063822, 'MartinGarrix': 4.744000017063822, '달달한': 3.115615204987259, '고막': 4.495169290773763, '행복': 4.495169290773763, '연애': 3.6743160899260396, '좋아요': 2.9346885695214624, '한강': 2.9724993509116526, '하늘': 3.5029149060414806, '연인': 3.773220602547687, '따뜻한': 2.659385029120929, '그리움': 2.513555203607159, '쓸쓸하고': 3.8268025973194377, '편집샵': 4.58125000227044, '모델': 4.58125000227044, '런웨이': 4.58125000227044, '시원한': 4.2531428104459055, 'MTVEMA': 3.883562107731465, 'MTV': 3.883562107731465, '비오는날': 1.638403156656867, '혼자': 3.210783468403683, '토닥토닥': 3.975536411150472, '센치': 3.1619676925963214, '울고싶은날': 4.495169290773763, '셋리스트': 4.551707357199277, '공연': 4.551707357199277, '원곡': 3.7475158516767264, '비교': 3.7475158516767264, '팬텀싱어': 3.7475158516767264, 'BTS': 2.9346885695214624, '빌보드Hot50': 4.231945676468324, '빌보드': 3.1756528688104075, 'EDM': 3.0294177525049264, '페스티벌': 3.3089129227743674, '응원': 3.473973935659069, '수험생': 4.856395721429257, '수능': 4.856395721429257, '긍정': 4.856395721429257, '시험': 4.059518938403041, '힘내': 4.856395721429257, '겨울공기': 5.077982367555866, '취향저격DJ': 5.077982367555866, '나른한': 5.077982367555866, '인디뮤직': 5.077982367555866, '몽환적인': 5.077982367555866, '몽환적': 4.170996913743183, '또라이': 4.523030042137105, '여름': 2.174418258467677, '어쿠스틱': 3.6511165014407636, '아기클래식': 5.768008446955473, '0살': 5.768008446955473, '시원': 4.34287734754113, 'CCM': 3.1895447339247482, '명곡': 1.9916181467811946, 'ralalra': 3.7602817014242005, '산뜻': 4.643149434053308, '달달': 4.095270059743044, '포근한': 3.473973935659069, '잔잔': 4.2748125503667325, '여름노래': 3.155200780592419, '바캉스': 3.427636056567456, '퇴근길': 3.006219261049239, '해변': 3.427636056567456, '추억회상': 3.210783468403683, '1990': 2.853814162162367, '아재': 3.4097236208904005, '응답하라': 3.065365965312792, '복고': 3.065365965312792, '세대공감': 3.4097236208904005, '30대': 3.4097236208904005, '10대': 3.4097236208904005, '애정': 6.123745157830852, '듣는': 8.06777619577889, 'Vocal_Jazz': 4.675628649636653, 'Vocal': 4.675628649636653, 'Standard': 4.675628649636653, '잔잔하고_따스한': 4.939154859137503, '어쿠스틱음악': 4.939154859137503, '웹진웨이브': 5.36410510708604, 'weiv': 5.36410510708604, '위클리초이스': 5.36410510708604, '노래방': 4.551707357199277, '뉴이스트': 4.983295240731199, '추천노래': 4.983295240731199, '중독성': 4.366665349512394, 'Revealed': 4.366665349512394, '씨티팝': 3.2473050663887175, '밤의시티팝': 3.2473050663887175, '도시': 3.2473050663887175, '시티팝': 3.2473050663887175, '도시의밤': 3.2473050663887175, '밤드라이브': 3.2473050663887175, '노을지는': 3.2473050663887175, '레트로': 3.2473050663887175, '쓸쓸한': 3.5327737394508745, '고막힐링': 5.432785819993899, '세기말': 5.432785819993899, 'HiFi가이드': 5.029503778400638, '한지훈': 5.029503778400638, '이스케이프': 4.744000017063822, '이스케이프코리아2019': 4.744000017063822, '페발': 4.744000017063822, '할로윈': 4.744000017063822, '겨울밤': 3.2473050663887175, '외로운': 4.296976143807172, '루프탑': 4.643149434053308, '리듬': 4.643149434053308, '맥주': 4.643149434053308, '운전': 3.0592750761984613, '신나고': 5.077982367555866, '기분을': 5.077982367555866, '올려줄': 5.077982367555866, '영혼': 5.36410510708604, '박효신': 5.36410510708604, '즐겨드는': 4.8969065287679125, '업뎃중': 5.077982367555866, '가요': 2.9724993509116526, '바다': 3.4551633832349915, '90년대': 3.2252192987903756, '휴가': 4.113653788743499, '무더위': 3.4551633832349915, '한국ost': 2.883292082308103, 'OST모음': 2.883292082308103, '해외팝': 3.7349185849114783, '핫해': 3.7349185849114783, '무념무우우우우우우우웅유상': 4.856395721429257, '멍때리기': 4.856395721429257, '일본노래': 5.36410510708604, '일본노래추천': 5.36410510708604, '일본': 5.36410510708604, '한번쯤들어봤던노래': 3.0235622607952113, '감성감성': 3.0235622607952113, '유명한': 3.0235622607952113, '세벽감성': 3.0235622607952113, '센치하게': 3.0235622607952113, '뮤직테라피': 4.983295240731199, '커플': 3.0235622607952113, '차안': 2.85866000971738, '래퍼': 3.975536411150472, '탑골공원': 3.975536411150472, '그루비룸': 5.128963989819964, '딘': 5.128963989819964, '식케이': 5.128963989819964, '하드코어': 4.523030042137105, '명상': 3.5029149060414806, '모닝콜': 3.5029149060414806, '피곤': 3.5029149060414806, '작업': 3.5029149060414806, '생각': 3.5029149060414806, '베이스': 3.773220602547687, '내적댄스': 5.506581536095124, 'disco': 5.506581536095124, '왜그럴까': 4.441722032325576, '여가수가많타': 4.441722032325576, '아이돌이넘많타': 4.441722032325576, '취향': 4.441722032325576, '밤에듣기좋은노래': 3.595484106514383, '휴양지': 3.786337203389151, '시원한노래': 3.786337203389151, '주말': 3.293123160132733, '열대야': 3.293123160132733, '경쾌한': 3.786337203389151, '두근두근': 4.190890836126954, '고백': 4.190890836126954, '고막여친': 4.190890836126954, '나들이': 4.190890836126954, '달콤': 4.939154859137503, '기분': 4.939154859137503, '봄날': 4.042127480239986, '청량한': 5.077982367555866, '집콕': 3.7475158516767264, '봄캐롤': 3.0005112551703417, '감성적인': 3.7475158516767264, '센치한': 3.102791345847399, '그래미어워드': 4.58125000227044, '컨츄리': 4.58125000227044, '61회': 4.58125000227044, '가스펠': 4.58125000227044, 'Motown': 4.744000017063822, '모타운': 4.744000017063822, '감성자극': 3.8406804367882024, '장희': 2.8299728050590147, '2000년이후': 4.983295240731199, '그래도': 4.983295240731199, 'rhcp': 4.983295240731199, '아픔': 4.025043761556427, '아련': 4.231945676468324, '명장면': 4.231945676468324, '드라마': 2.453587966530573, '잔잔한노래': 3.4367223528245403, '조용한노래': 3.4367223528245403, '버스창가': 3.4367223528245403, '가사': 3.4367223528245403, '멜로디': 3.4367223528245403, '선선한밤': 3.4367223528245403, '잠자기_전': 3.4367223528245403, '워십': 3.6861317802741307, '경배': 3.6861317802741307, '하나님': 3.6861317802741307, '찬양': 3.6861317802741307, '예수님': 3.6861317802741307, '은혜': 3.6861317802741307, '10만': 3.135194320890165, '멜론': 3.135194320890165, '플레이리스트': 3.135194320890165, '더위': 5.077982367555866, '비': 5.299878647114989, '새해복많이받으세요': 4.1323934845601205, '숨은명곡': 3.5327737394508745, '벅차오르는': 3.5327737394508745, '수록곡': 3.5327737394508745, '여돌': 3.5327737394508745, '가을감성': 3.799636342032568, '멜로디포레스트캠프': 3.799636342032568, '멜포캠': 3.799636342032568, '공연오락반장': 3.799636342032568, '떡상': 4.2748125503667325, '신예': 4.2748125503667325, '새해': 3.662645475657867, '2020년': 4.2748125503667325, '복많이받으세요': 4.2748125503667325, '루키': 4.2748125503667325, '달달하게': 4.744000017063822, '시작': 4.416056383260193, '출발': 4.416056383260193, '2020': 4.416056383260193, '연초': 4.416056383260193, '화이팅': 4.416056383260193, '싱잉랩': 5.506581536095124, '씨잼': 5.506581536095124, 'Lofi': 3.7602817014242005, '멜랑꼴리': 4.211201243018354, '베드룸팝': 4.211201243018354, 'Chill': 4.211201243018354, '비프리': 5.586311890181863, '독서': 4.15150297606205, '연주음악': 4.643149434053308, '운전할때': 5.299878647114989, '끄덕끄덕': 5.299878647114989, '햇살': 4.095270059743044, '엄마음악': 5.029503778400638, '태교': 2.7363048687598095, '태교음악': 5.029503778400638, '아기음악': 5.029503778400638, '까페음악': 5.029503778400638, '감동적인': 4.366665349512394, '임산부': 5.029503778400638, '힐링노래': 5.029503778400638, '여자보컬': 4.211201243018354, '음색부자': 4.523030042137105, '조용한': 4.2531428104459055, '잘모르는': 4.2531428104459055, '서글픈': 4.2531428104459055, '부드럽고': 4.495169290773763, '쉼': 4.495169290773763, 'KPOP탐구생활': 5.299878647114989, '아이돌탐구생활': 5.299878647114989, '릴렉스': 4.34287734754113, '차분한': 3.427636056567456, '부드러운': 4.441722032325576, '재즈팝': 4.441722032325576, '감미로운': 4.441722032325576, '페미니즘': 4.8969065287679125, '여성': 4.8969065287679125, '썸남썸녀': 4.319656303947424, 'something': 4.319656303947424, '장마': 4.983295240731199, 'R': 4.2748125503667325, '클린트이스트우드': 5.768008446955473, 'etc': 5.768008446955473, '영화음악': 5.768008446955473, 'ClintEastwood': 5.768008446955473, '영화감독': 5.768008446955473, '생일': 5.18271944179699, '안지영': 5.18271944179699, '볼빨간사춘기': 5.18271944179699, '생일축하노래': 5.18271944179699, '최애음악': 3.6743160899260396, '취저보이스': 4.46808034604093, '연말': 3.293123160132733, '멜론차트노답': 5.18271944179699, 'POP차트': 5.18271944179699, '내한': 4.441722032325576, '케샤': 5.506581536095124, '음색깡패': 5.506581536095124, '스트레스해소': 5.506581536095124, '재즈추천': 4.817486098650238, '황덕호': 4.817486098650238, '원더풀재즈': 4.817486098650238, '바람': 4.856395721429257, '생각나는': 4.856395721429257, '감성합합': 2.8299728050590147, '국내': 4.15150297606205, '장르불문': 4.2748125503667325, '비스트': 5.768008446955473, 'JessGlynne': 5.239565989113283, '제스글린': 5.239565989113283, '나만의Best3': 4.416056383260193, '피쉬슈즈': 4.416056383260193, '인디아티스트들의추천음악': 5.128963989819964, '중2병': 4.8969065287679125, '밴드': 4.8969065287679125, '락메탈': 4.8969065287679125, '버스': 5.239565989113283, '지하철': 5.239565989113283, '노을': 5.239565989113283, '기말고사': 3.0472142293891347, '음악의세계': 3.0472142293891347, '이갈룡': 3.813123056773264, '눈물': 2.85866000971738, '공허함': 4.416056383260193, '쓸쓸': 2.6632687277861598, '외로움': 4.416056383260193, '휴일': 3.4931686602009657, '가을비': 3.4931686602009657, '분위기_좋은_노래': 4.744000017063822, '세련되고': 4.744000017063822, '송가인': 5.128963989819964, '트롯스밍': 5.128963989819964, '정미애': 5.128963989819964, '날': 5.128963989819964, '날씨': 5.128963989819964, '음악': 5.128963989819964, '신나는음악': 3.9917579734469997, '러블리쏘': 4.042127480239986, '이별해서': 3.9438907442761684, 'electronica': 5.990526607380006, 'futurebass': 5.990526607380006, 'RandB': 5.990526607380006, 'PBRandB': 5.990526607380006, '패밀리그룹': 4.744000017063822, '비지스': 4.744000017063822, '팝_레전드': 4.744000017063822, '가족': 4.744000017063822, '잭슨파이브': 4.744000017063822, '1960_70': 4.744000017063822, '오스먼드패밀리': 4.744000017063822, '카펜터즈': 4.744000017063822, '여행하고': 3.5847391948613394, '봄이': 3.5847391948613394, '산책이나': 3.5847391948613394, '풍경에': 3.5847391948613394, '숫자제목': 4.077229230002833, '숫자': 4.077229230002833, '안예은단독공연': 5.768008446955473, '안예은': 5.768008446955473, '마녀성의춘몽가': 5.768008446955473, '홍연언니': 5.768008446955473, 'JPOP': 4.495169290773763, 'urban': 4.675628649636653, '해외알앤비소울': 4.675628649636653, 'RNBSOUL': 4.675628649636653, '얼터알앤비': 4.675628649636653, 'contemporary': 4.675628649636653, '어번컨템포러리': 4.675628649636653, 'Alternative': 4.675628649636653, '우울할때': 5.299878647114989, '최신팝': 5.299878647114989, '팝락': 5.299878647114989, 'PopRock': 5.299878647114989, '처음일듯': 5.077982367555866, '트와이스': 5.768008446955473, '일본타이틀': 5.768008446955473, 'Lofihiphop': 4.744000017063822, '징글벨': 5.432785819993899, '메리크리스마스': 5.432785819993899, '성탄절': 5.432785819993899, '캐롤': 3.239884361264392, '캐롤송': 5.432785819993899, '도움': 2.8299728050590147, '도입부부터좋은': 5.36410510708604, '쿵쿵': 5.36410510708604, '일할때듣기좋은노래': 5.36410510708604, '팝송': 3.5029149060414806, '도입부': 4.523030042137105, '메탈': 4.780056764294528, '찬공기': 5.029503778400638, '가을시작': 5.029503778400638, '대화': 4.211201243018354, '괜찮아요': 4.211201243018354, '매장음악카페': 5.128963989819964, '사랑설렘재즈': 5.128963989819964, '헤어진후': 4.190890836126954, '감성음악': 4.190890836126954, '이별노래': 4.190890836126954, '이별발라드': 4.190890836126954, '감성발라드': 4.190890836126954, '이별감성': 4.190890836126954, '영화': 2.8299728050590147, '명반': 2.8299728050590147, '유니크': 4.095270059743044, '잔잔한_노래': 4.675628649636653, '90s': 5.239565989113283, 'biggie': 5.239565989113283, '2Pac': 5.239565989113283, '겨울노래': 3.6284703263183764, '추위': 3.6284703263183764, '로보트': 5.128963989819964, 'ROBOT': 5.128963989819964, 'OST명곡': 4.675628649636653, '시대별차트': 3.4931686602009657, '국내차트': 3.4931686602009657, '감미로움': 4.675628649636653, '7080': 4.34287734754113, '가요제': 4.34287734754113, '낭만': 4.34287734754113, '대학': 4.34287734754113, '상큼발랄': 3.2775974606842073, '샹송': 4.113653788743499, '프랑스': 4.113653788743499, '칸소네': 4.113653788743499, '이탈리아': 3.799636342032568, '미국힙합': 3.786337203389151, '외힙입문': 3.786337203389151, '미국': 3.786337203389151, '슬픈힙합': 4.296976143807172, '슬플때': 4.296976143807172, '방송': 4.643149434053308, '하트시그널': 4.643149434053308, '하트시그널BGM': 4.643149434053308, '하트시그널3': 4.643149434053308, '나이트': 3.959583535258814, '많이들어본': 3.959583535258814, '옛날팝송': 3.959583535258814, '광고음악': 3.959583535258814, '이국적인': 5.18271944179699, '5월의신부': 4.8969065287679125, '웨딩송': 4.8969065287679125, '결혼식': 4.8969065287679125, '축가': 4.8969065287679125, '장르Top100': 5.077982367555866, '트로트Top100': 5.077982367555866, '성인가요Top100': 5.077982367555866, '트로트차트': 5.077982367555866, '인기트로트': 5.077982367555866, 'TOP100': 5.077982367555866, '해외': 5.432785819993899, '차트': 4.391048316644339, '멜론DJ': 4.391048316644339, '인기곡': 4.391048316644339, 'RnB': 4.939154859137503, '렬루': 4.939154859137503, '리듬앤블루스': 4.939154859137503, '추천곡': 4.817486098650238, '출근길에': 4.817486098650238, '트렌디하게': 4.817486098650238, '자전거': 2.8299728050590147, 'indie': 5.077982367555866, '새봄': 5.077982367555866, '홈트': 5.128963989819964, '스포츠': 5.128963989819964, '홈트레이닝': 5.128963989819964, '상쾌한': 5.128963989819964, '신청곡': 4.856395721429257, '라디오': 4.856395721429257, '송라이터': 4.856395721429257, '1970_80': 4.856395721429257, '아날로그': 4.856395721429257, '스테디셀러': 4.856395721429257, '오페라': 5.077982367555866, '아리아': 5.077982367555866, '베르디': 5.077982367555866, '합창곡': 5.077982367555866, 'classic': 5.077982367555866, '작곡가': 5.077982367555866, 'composer': 5.077982367555866, '리메이크': 4.8969065287679125, '감동': 4.8969065287679125, '션멘데스': 4.856395721429257, '싱어송라이터': 4.856395721429257, '분위기있는': 5.990526607380006, '봄바람': 3.5327737394508745, '봄노래': 3.5327737394508745, '방콕': 3.5327737394508745, '나른함': 4.416056383260193, 'bgm': 4.416056383260193, '그리운': 4.416056383260193, 'RapHiphop': 3.5227153200938304, '일렉트로니카팝': 3.5227153200938304, 'Stylish': 3.5227153200938304, '우울할땐그냥울어도되죠': 5.586311890181863, '괜찮은척하지않아도되요': 5.586311890181863, '애써밝으려고하지말아요': 5.586311890181863, '진짜나를찾아가는과정중': 5.586311890181863}\n"
     ]
    }
   ],
   "source": [
    "def make_song_num_dict(data):\n",
    "    song_ids = dict()\n",
    "    song_num = dict()\n",
    "    max_num = 0\n",
    "    \n",
    "    for i in range(len(data)):\n",
    "        songs = data['song_id'][i]\n",
    "        tags = data['tags'][i]\n",
    "        \n",
    "        for j in tags:\n",
    "            if not j in song_ids:\n",
    "                song_ids[j] = set(songs)\n",
    "            \n",
    "            else:\n",
    "                song_ids[j].update(songs)\n",
    "    \n",
    "    for i in song_ids:\n",
    "        song_num[i] = len(song_ids[i])\n",
    "        \n",
    "        max_num = max(song_num[i], max_num)\n",
    "    \n",
    "    return song_num, max_num\n",
    "\n",
    "song_num_dict, song_num_max = make_song_num_dict(train_data_sample2)\n",
    "tag_weights = {tag: np.log(song_num_max / cnt + 1) for tag, cnt in song_num_dict.items()}\n",
    "print(tag_weights)\n"
   ]
  },
  {
   "cell_type": "markdown",
   "id": "5869ea5c",
   "metadata": {},
   "source": [
    "## 코사인 유사도 사용\n",
    "\n",
    "- 세부 장르를 사용해 코사인 유사도 측정한다\n",
    "- 그후 유사도를 행렬로 저장한다"
   ]
  },
  {
   "cell_type": "code",
   "execution_count": 61,
   "id": "b998e83c",
   "metadata": {},
   "outputs": [
    {
     "data": {
      "text/plain": [
       "(18275, 197)"
      ]
     },
     "execution_count": 61,
     "metadata": {},
     "output_type": "execute_result"
    }
   ],
   "source": [
    "from sklearn.feature_extraction.text import CountVectorizer\n",
    "\n",
    "song_tag_appended['gnr_literal'] = song_tag_appended['gnr'].apply(lambda x : (' ').join(x))\n",
    "\n",
    "count_vect = CountVectorizer()\n",
    "gnr_mat = count_vect.fit_transform(song_tag_appended['gnr_literal'])\n",
    "\n",
    "gnr_mat.shape"
   ]
  },
  {
   "cell_type": "code",
   "execution_count": 62,
   "id": "60269f30",
   "metadata": {},
   "outputs": [
    {
     "data": {
      "text/plain": [
       "array([[1., 0., 0., ..., 0., 0., 0.],\n",
       "       [0., 1., 1., ..., 0., 0., 0.],\n",
       "       [0., 1., 1., ..., 0., 0., 0.],\n",
       "       ...,\n",
       "       [0., 0., 0., ..., 1., 1., 1.],\n",
       "       [0., 0., 0., ..., 1., 1., 1.],\n",
       "       [0., 0., 0., ..., 1., 1., 1.]])"
      ]
     },
     "execution_count": 62,
     "metadata": {},
     "output_type": "execute_result"
    }
   ],
   "source": [
    "from sklearn.metrics.pairwise import cosine_similarity\n",
    "\n",
    "gnr_sim = cosine_similarity(gnr_mat, gnr_mat)\n",
    "gnr_sim"
   ]
  },
  {
   "cell_type": "code",
   "execution_count": 63,
   "id": "77c46fae",
   "metadata": {},
   "outputs": [],
   "source": [
    "test_data_sample = train_data[500:1000].copy()\n",
    "#test_data_sample = train_data_eng.copy()\n",
    "test_data_sample = test_data_sample.reset_index(drop=True)\n",
    "test_my_tags = test_data_sample['tags'].tolist()\n",
    "test_my_songs = test_data_sample['song_id'].tolist()"
   ]
  },
  {
   "cell_type": "code",
   "execution_count": 64,
   "id": "ea3e8aaf",
   "metadata": {},
   "outputs": [],
   "source": [
    "from recommend import *\n",
    "\n",
    "weight_mat_cv = apply_genre_weight(get_embedding(song_tag_appended, 'cv'))\n",
    "weight_mat_tf = apply_genre_weight(get_embedding(song_tag_appended, 'tf'))"
   ]
  },
  {
   "cell_type": "markdown",
   "id": "42c30069",
   "metadata": {},
   "source": [
    "# 멀티프로세싱을 이용한 학습 및 결과 도출"
   ]
  },
  {
   "cell_type": "code",
   "execution_count": 73,
   "id": "b3bc161c",
   "metadata": {},
   "outputs": [
    {
     "name": "stdout",
     "output_type": "stream",
     "text": [
      "Tag : False, Genre : False, Like : False, Mode : cv\n",
      "MAP@K (K=10): 0.659\n",
      "nDCG: 0.743\n",
      "Tag : True, Genre : False, Like : False, Mode : cv\n",
      "MAP@K (K=10): 0.098\n",
      "nDCG: 0.139\n",
      "Tag : False, Genre : True, Like : False, Mode : cv\n",
      "MAP@K (K=10): 0.659\n",
      "nDCG: 0.743\n",
      "Tag : True, Genre : True, Like : False, Mode : cv\n",
      "MAP@K (K=10): 0.098\n",
      "nDCG: 0.139\n",
      "Tag : False, Genre : False, Like : True, Mode : cv\n",
      "MAP@K (K=10): 0.659\n",
      "nDCG: 0.743\n",
      "Tag : True, Genre : False, Like : True, Mode : cv\n",
      "MAP@K (K=10): 0.098\n",
      "nDCG: 0.139\n",
      "Tag : False, Genre : True, Like : True, Mode : cv\n",
      "MAP@K (K=10): 0.659\n",
      "nDCG: 0.743\n",
      "Tag : True, Genre : True, Like : True, Mode : cv\n",
      "MAP@K (K=10): 0.098\n",
      "nDCG: 0.139\n"
     ]
    }
   ],
   "source": [
    "import multiprocessing\n",
    "\n",
    "params_list = [\n",
    "    #태그 / 장르 / 좋아요 / mode(cv/tf)\n",
    "    (False, False, False, 'cv'),\n",
    "    (True, False, False, 'cv'),\n",
    "    (False, True, False, 'cv'),\n",
    "    (True, True, False, 'cv'),\n",
    "    (False, False, True, 'cv'),\n",
    "    (True, False, True, 'cv'),\n",
    "    (False, True, True, 'cv'),\n",
    "    (True, True, True, 'cv'),\n",
    "    #(False, False, False, 'tf'),\n",
    "    #(True, False, False, 'tf'),\n",
    "    #(False, True, False, 'tf'),\n",
    "    #(True, True, False, 'tf'),\n",
    "    #(False, False, True, 'tf'),\n",
    "    #(True, False, True, 'tf'),\n",
    "    #(False, True, True, 'tf'),\n",
    "    #(True, True, True, 'tf')\n",
    "]\n",
    "\n",
    "with multiprocessing.Pool(processes=4) as pool:\n",
    "    results = pool.starmap(process_fuc, [(test_my_songs, test_my_tags, song_tag_appended, param[0], param[1], param[2], \n",
    "                                         param[3], w2v, weight_mat_cv, weight_mat_tf, tag_weights) for param in params_list])\n",
    "    \n",
    "for result in results:\n",
    "    print(result)"
   ]
  },
  {
   "cell_type": "code",
   "execution_count": 74,
   "id": "5e6ab3d0",
   "metadata": {},
   "outputs": [
    {
     "name": "stdout",
     "output_type": "stream",
     "text": [
      "Tag : False, Genre : False, Like : False, Mode : cv\n",
      "MAP@K (K=10): 0.659\n",
      "nDCG: 0.743\n",
      "Tag : True, Genre : False, Like : False, Mode : cv\n",
      "MAP@K (K=10): 0.098\n",
      "nDCG: 0.139\n",
      "Tag : False, Genre : True, Like : False, Mode : cv\n",
      "MAP@K (K=10): 0.659\n",
      "nDCG: 0.743\n",
      "Tag : True, Genre : True, Like : False, Mode : cv\n",
      "MAP@K (K=10): 0.098\n",
      "nDCG: 0.139\n",
      "Tag : False, Genre : False, Like : True, Mode : cv\n",
      "MAP@K (K=10): 0.659\n",
      "nDCG: 0.743\n",
      "Tag : True, Genre : False, Like : True, Mode : cv\n",
      "MAP@K (K=10): 0.098\n",
      "nDCG: 0.139\n",
      "Tag : False, Genre : True, Like : True, Mode : cv\n",
      "MAP@K (K=10): 0.659\n",
      "nDCG: 0.743\n",
      "Tag : True, Genre : True, Like : True, Mode : cv\n",
      "MAP@K (K=10): 0.098\n",
      "nDCG: 0.139\n"
     ]
    }
   ],
   "source": [
    "params_list = [\n",
    "    #태그 / 장르 / 좋아요 / mode(cv/tf)\n",
    "    (False, False, False, 'cv'),\n",
    "    (True, False, False, 'cv'),\n",
    "    (False, True, False, 'cv'),\n",
    "    (True, True, False, 'cv'),\n",
    "    (False, False, True, 'cv'),\n",
    "    (True, False, True, 'cv'),\n",
    "    (False, True, True, 'cv'),\n",
    "    (True, True, True, 'cv'),\n",
    "    #(False, False, False, 'tf'),\n",
    "    #(True, False, False, 'tf'),\n",
    "    #(False, True, False, 'tf'),\n",
    "    #(True, True, False, 'tf'),\n",
    "    #(False, False, True, 'tf'),\n",
    "    #(True, False, True, 'tf'),\n",
    "    #(False, True, True, 'tf'),\n",
    "    #(True, True, True, 'tf')\n",
    "]\n",
    "\n",
    "with multiprocessing.Pool(processes=4) as pool:\n",
    "    results = pool.starmap(process_fuc, [(test_my_songs, test_my_tags, song_tag_appended, param[0], param[1], param[2], \n",
    "                                         param[3], w2v, weight_mat_cv, weight_mat_tf, tag_weights) for param in params_list])\n",
    "    \n",
    "for result in results:\n",
    "    print(result)"
   ]
  },
  {
   "cell_type": "code",
   "execution_count": 72,
   "id": "2d2c8d5d",
   "metadata": {},
   "outputs": [
    {
     "name": "stdout",
     "output_type": "stream",
     "text": [
      "T: True\n",
      "M: 12.433\n",
      "ccv\n",
      "\n"
     ]
    }
   ],
   "source": [
    "temp_b = True\n",
    "temp_val = 12.43344\n",
    "temp_cv = 'cv'\n",
    "print(f\"T: {temp_b}\" + \"\\n\" + \"M: {:.3f}\".format(temp_val) + \"\\n\" + \"c\" + temp_cv + \"\\n\")"
   ]
  },
  {
   "cell_type": "code",
   "execution_count": 62,
   "id": "16f11596",
   "metadata": {},
   "outputs": [
    {
     "name": "stdout",
     "output_type": "stream",
     "text": [
      "Recall@K (K=10): 0.05\n",
      "Precision@K (K=10): 0.10\n",
      "nDCG: 1.00\n"
     ]
    },
    {
     "name": "stderr",
     "output_type": "stream",
     "text": [
      "C:\\Users\\pigwo\\AppData\\Local\\Temp\\ipykernel_15248\\2057295318.py:37: RuntimeWarning: invalid value encountered in divide\n",
      "  simi *= (simi - min(simi)) / (max(simi) - min(simi))\n"
     ]
    }
   ],
   "source": [
    "rec1 = song_recommend(test_my_tags[0], test_my_songs[0], song_tag_appended, 'cos', False, False, False, 'cv')\n",
    "\n",
    "pred_list = rec1['song_id'].tolist()\n",
    "precision_k = get_precision_k(test_my_songs[0], pred_list)\n",
    "recall_k = get_recall_k(test_my_songs[0], pred_list)\n",
    "ndcg = get_ndcg(test_my_songs[0], pred_list, 10)\n",
    "\n",
    "print(\"Recall@K (K=10): {:.2f}\".format(recall_k))\n",
    "print(\"Precision@K (K=10): {:.2f}\".format(precision_k))\n",
    "print(\"nDCG: {:.2f}\".format(ndcg))"
   ]
  },
  {
   "cell_type": "code",
   "execution_count": 63,
   "id": "3fae05f6",
   "metadata": {},
   "outputs": [
    {
     "data": {
      "text/plain": [
       "\"\\npred_list = []\\nfor plist, tags in zip(test_my_songs, test_my_tags):\\n    recommended = song_recommend(tags, plist, train_data_sample2, song_tag_appended, 'cos')\\n    pred_list.append(recommended['song_id'].tolist())\\nprint(pred_list[0])\\n\""
      ]
     },
     "execution_count": 63,
     "metadata": {},
     "output_type": "execute_result"
    }
   ],
   "source": [
    "'''\n",
    "pred_list = []\n",
    "for plist, tags in zip(test_my_songs, test_my_tags):\n",
    "    recommended = song_recommend(tags, plist, train_data_sample2, song_tag_appended, 'cos')\n",
    "    pred_list.append(recommended['song_id'].tolist())\n",
    "print(pred_list[0])\n",
    "'''"
   ]
  },
  {
   "cell_type": "code",
   "execution_count": 64,
   "id": "3f9b5f94",
   "metadata": {},
   "outputs": [
    {
     "data": {
      "text/plain": [
       "'\\nmap_k = get_map_k(test_my_songs, pred_list, 10)\\nprint(\"MAP@K (K=10): {:.2f}\".format(map_k))\\n'"
      ]
     },
     "execution_count": 64,
     "metadata": {},
     "output_type": "execute_result"
    }
   ],
   "source": [
    "'''\n",
    "map_k = get_map_k(test_my_songs, pred_list, 10)\n",
    "print(\"MAP@K (K=10): {:.2f}\".format(map_k))\n",
    "'''"
   ]
  },
  {
   "cell_type": "markdown",
   "id": "57cbf383",
   "metadata": {},
   "source": [
    "---"
   ]
  },
  {
   "cell_type": "markdown",
   "id": "c72d7f2e",
   "metadata": {},
   "source": [
    "# 이 아래로는 사용 X"
   ]
  },
  {
   "cell_type": "markdown",
   "id": "6129a37f",
   "metadata": {},
   "source": [
    "----"
   ]
  },
  {
   "cell_type": "markdown",
   "id": "fa91fd8e",
   "metadata": {},
   "source": [
    "# 태그, 장르 불균형 데이터 처리 X\n",
    "\n",
    "- cv\n",
    "- recommend"
   ]
  },
  {
   "cell_type": "code",
   "execution_count": 65,
   "id": "7b4d2308",
   "metadata": {},
   "outputs": [
    {
     "name": "stderr",
     "output_type": "stream",
     "text": [
      "C:\\Users\\pigwo\\AppData\\Local\\Temp\\ipykernel_15248\\2057295318.py:37: RuntimeWarning: invalid value encountered in divide\n",
      "  simi *= (simi - min(simi)) / (max(simi) - min(simi))\n",
      "C:\\Users\\pigwo\\AppData\\Local\\Temp\\ipykernel_15248\\2057295318.py:37: RuntimeWarning: invalid value encountered in divide\n",
      "  simi *= (simi - min(simi)) / (max(simi) - min(simi))\n",
      "C:\\Users\\pigwo\\AppData\\Local\\Temp\\ipykernel_15248\\2057295318.py:37: RuntimeWarning: invalid value encountered in divide\n",
      "  simi *= (simi - min(simi)) / (max(simi) - min(simi))\n",
      "C:\\Users\\pigwo\\AppData\\Local\\Temp\\ipykernel_15248\\2057295318.py:37: RuntimeWarning: invalid value encountered in divide\n",
      "  simi *= (simi - min(simi)) / (max(simi) - min(simi))\n",
      "C:\\Users\\pigwo\\AppData\\Local\\Temp\\ipykernel_15248\\2057295318.py:37: RuntimeWarning: invalid value encountered in divide\n",
      "  simi *= (simi - min(simi)) / (max(simi) - min(simi))\n",
      "C:\\Users\\pigwo\\AppData\\Local\\Temp\\ipykernel_15248\\2057295318.py:37: RuntimeWarning: invalid value encountered in divide\n",
      "  simi *= (simi - min(simi)) / (max(simi) - min(simi))\n",
      "C:\\Users\\pigwo\\AppData\\Local\\Temp\\ipykernel_15248\\2057295318.py:37: RuntimeWarning: invalid value encountered in divide\n",
      "  simi *= (simi - min(simi)) / (max(simi) - min(simi))\n",
      "C:\\Users\\pigwo\\AppData\\Local\\Temp\\ipykernel_15248\\2057295318.py:37: RuntimeWarning: invalid value encountered in divide\n",
      "  simi *= (simi - min(simi)) / (max(simi) - min(simi))\n",
      "C:\\Users\\pigwo\\AppData\\Local\\Temp\\ipykernel_15248\\2057295318.py:37: RuntimeWarning: invalid value encountered in divide\n",
      "  simi *= (simi - min(simi)) / (max(simi) - min(simi))\n",
      "C:\\Users\\pigwo\\AppData\\Local\\Temp\\ipykernel_15248\\2057295318.py:37: RuntimeWarning: invalid value encountered in divide\n",
      "  simi *= (simi - min(simi)) / (max(simi) - min(simi))\n",
      "C:\\Users\\pigwo\\AppData\\Local\\Temp\\ipykernel_15248\\2057295318.py:37: RuntimeWarning: invalid value encountered in divide\n",
      "  simi *= (simi - min(simi)) / (max(simi) - min(simi))\n",
      "C:\\Users\\pigwo\\AppData\\Local\\Temp\\ipykernel_15248\\2057295318.py:37: RuntimeWarning: invalid value encountered in divide\n",
      "  simi *= (simi - min(simi)) / (max(simi) - min(simi))\n",
      "C:\\Users\\pigwo\\AppData\\Local\\Temp\\ipykernel_15248\\2057295318.py:37: RuntimeWarning: invalid value encountered in divide\n",
      "  simi *= (simi - min(simi)) / (max(simi) - min(simi))\n",
      "C:\\Users\\pigwo\\AppData\\Local\\Temp\\ipykernel_15248\\2057295318.py:37: RuntimeWarning: invalid value encountered in divide\n",
      "  simi *= (simi - min(simi)) / (max(simi) - min(simi))\n",
      "C:\\Users\\pigwo\\AppData\\Local\\Temp\\ipykernel_15248\\2057295318.py:37: RuntimeWarning: invalid value encountered in divide\n",
      "  simi *= (simi - min(simi)) / (max(simi) - min(simi))\n"
     ]
    },
    {
     "ename": "KeyboardInterrupt",
     "evalue": "",
     "output_type": "error",
     "traceback": [
      "\u001b[1;31m---------------------------------------------------------------------------\u001b[0m",
      "\u001b[1;31mKeyboardInterrupt\u001b[0m                         Traceback (most recent call last)",
      "Cell \u001b[1;32mIn[65], line 3\u001b[0m\n\u001b[0;32m      1\u001b[0m pred_list \u001b[38;5;241m=\u001b[39m []\n\u001b[0;32m      2\u001b[0m \u001b[38;5;28;01mfor\u001b[39;00m plist, tags \u001b[38;5;129;01min\u001b[39;00m \u001b[38;5;28mzip\u001b[39m(test_my_songs, test_my_tags):\n\u001b[1;32m----> 3\u001b[0m     recommended \u001b[38;5;241m=\u001b[39m song_recommend(tags, plist, song_tag_appended, \u001b[38;5;124m'\u001b[39m\u001b[38;5;124mcos\u001b[39m\u001b[38;5;124m'\u001b[39m, \u001b[38;5;28;01mFalse\u001b[39;00m, \u001b[38;5;28;01mFalse\u001b[39;00m, \u001b[38;5;28;01mFalse\u001b[39;00m, \u001b[38;5;124m'\u001b[39m\u001b[38;5;124mcv\u001b[39m\u001b[38;5;124m'\u001b[39m)\n\u001b[0;32m      4\u001b[0m     pred_list\u001b[38;5;241m.\u001b[39mappend(recommended[\u001b[38;5;124m'\u001b[39m\u001b[38;5;124msong_id\u001b[39m\u001b[38;5;124m'\u001b[39m]\u001b[38;5;241m.\u001b[39mtolist())\n\u001b[0;32m      5\u001b[0m \u001b[38;5;28mprint\u001b[39m(pred_list[\u001b[38;5;241m0\u001b[39m])\n",
      "Cell \u001b[1;32mIn[60], line 45\u001b[0m, in \u001b[0;36msong_recommend\u001b[1;34m(tags, songs, song_df, sim, tag_imb_mode, genre_imb_mode, like_weight, emb_mode)\u001b[0m\n\u001b[0;32m      5\u001b[0m \u001b[38;5;250m\u001b[39m\u001b[38;5;124;03m'''\u001b[39;00m\n\u001b[0;32m      6\u001b[0m \u001b[38;5;124;03m# 태그가 존재할 경우 + 태그의 개수가 3개 미만인경우 w2v로 태그를 3개까지 늘린다\u001b[39;00m\n\u001b[0;32m      7\u001b[0m \u001b[38;5;124;03mall_tags = []\u001b[39;00m\n\u001b[1;32m   (...)\u001b[0m\n\u001b[0;32m     19\u001b[0m \u001b[38;5;124;03m            i += 1\u001b[39;00m\n\u001b[0;32m     20\u001b[0m \u001b[38;5;124;03m'''\u001b[39;00m\n\u001b[0;32m     21\u001b[0m \u001b[38;5;250m\u001b[39m\u001b[38;5;124;03m'''\u001b[39;00m\n\u001b[0;32m     22\u001b[0m \u001b[38;5;124;03m# 해당 태그가 존재하는 플레이리스트의 노래를 추출하고 등장 빈도수로 정렬한다\u001b[39;00m\n\u001b[0;32m     23\u001b[0m \u001b[38;5;124;03mtag_songs = dict()\u001b[39;00m\n\u001b[1;32m   (...)\u001b[0m\n\u001b[0;32m     42\u001b[0m \u001b[38;5;124;03mtag_songs = tag_songs.reset_index(drop=True)\u001b[39;00m\n\u001b[0;32m     43\u001b[0m \u001b[38;5;124;03m'''\u001b[39;00m\n\u001b[1;32m---> 45\u001b[0m sorted_idx \u001b[38;5;241m=\u001b[39m get_tag_mean(ts, song_df[\u001b[38;5;124m'\u001b[39m\u001b[38;5;124mtags\u001b[39m\u001b[38;5;124m'\u001b[39m], tag_imb_mode)\n\u001b[0;32m     46\u001b[0m tag_simi_songs \u001b[38;5;241m=\u001b[39m song_df\u001b[38;5;241m.\u001b[39mloc[sorted_idx]\n\u001b[0;32m     47\u001b[0m tag_songs \u001b[38;5;241m=\u001b[39m tag_simi_songs\u001b[38;5;241m.\u001b[39miloc[:\u001b[38;5;241m1000\u001b[39m]\u001b[38;5;241m.\u001b[39mcopy()\n",
      "Cell \u001b[1;32mIn[43], line 20\u001b[0m, in \u001b[0;36mget_tag_mean\u001b[1;34m(input_songs, simi_songs, imb_mode)\u001b[0m\n\u001b[0;32m     17\u001b[0m         temp_tag_lst\u001b[38;5;241m.\u001b[39mappend(tag_weights\u001b[38;5;241m.\u001b[39mget(tag, \u001b[38;5;241m0\u001b[39m))\n\u001b[0;32m     18\u001b[0m     song_tag_weight\u001b[38;5;241m.\u001b[39mappend(\u001b[38;5;28msum\u001b[39m(temp_tag_lst) \u001b[38;5;241m/\u001b[39m \u001b[38;5;28mlen\u001b[39m(temp_tag_lst))\n\u001b[1;32m---> 20\u001b[0m temp_mean \u001b[38;5;241m=\u001b[39m np\u001b[38;5;241m.\u001b[39mmean([w2v\u001b[38;5;241m.\u001b[39mwv[tag] \u001b[38;5;28;01mfor\u001b[39;00m tag \u001b[38;5;129;01min\u001b[39;00m song_tags], axis\u001b[38;5;241m=\u001b[39m\u001b[38;5;241m0\u001b[39m)\n\u001b[0;32m     21\u001b[0m \u001b[38;5;28;01mif\u001b[39;00m np\u001b[38;5;241m.\u001b[39many(np\u001b[38;5;241m.\u001b[39misnan(temp_mean)):\n\u001b[0;32m     22\u001b[0m     temp_mean \u001b[38;5;241m=\u001b[39m np\u001b[38;5;241m.\u001b[39mzeros(w2v\u001b[38;5;241m.\u001b[39mvector_size)\n",
      "File \u001b[1;32m<__array_function__ internals>:200\u001b[0m, in \u001b[0;36mmean\u001b[1;34m(*args, **kwargs)\u001b[0m\n",
      "File \u001b[1;32m~\\anaconda3\\Lib\\site-packages\\numpy\\core\\fromnumeric.py:3464\u001b[0m, in \u001b[0;36mmean\u001b[1;34m(a, axis, dtype, out, keepdims, where)\u001b[0m\n\u001b[0;32m   3461\u001b[0m     \u001b[38;5;28;01melse\u001b[39;00m:\n\u001b[0;32m   3462\u001b[0m         \u001b[38;5;28;01mreturn\u001b[39;00m mean(axis\u001b[38;5;241m=\u001b[39maxis, dtype\u001b[38;5;241m=\u001b[39mdtype, out\u001b[38;5;241m=\u001b[39mout, \u001b[38;5;241m*\u001b[39m\u001b[38;5;241m*\u001b[39mkwargs)\n\u001b[1;32m-> 3464\u001b[0m \u001b[38;5;28;01mreturn\u001b[39;00m _methods\u001b[38;5;241m.\u001b[39m_mean(a, axis\u001b[38;5;241m=\u001b[39maxis, dtype\u001b[38;5;241m=\u001b[39mdtype,\n\u001b[0;32m   3465\u001b[0m                       out\u001b[38;5;241m=\u001b[39mout, \u001b[38;5;241m*\u001b[39m\u001b[38;5;241m*\u001b[39mkwargs)\n",
      "File \u001b[1;32m~\\anaconda3\\Lib\\site-packages\\numpy\\core\\_methods.py:165\u001b[0m, in \u001b[0;36m_mean\u001b[1;34m(a, axis, dtype, out, keepdims, where)\u001b[0m\n\u001b[0;32m    164\u001b[0m \u001b[38;5;28;01mdef\u001b[39;00m \u001b[38;5;21m_mean\u001b[39m(a, axis\u001b[38;5;241m=\u001b[39m\u001b[38;5;28;01mNone\u001b[39;00m, dtype\u001b[38;5;241m=\u001b[39m\u001b[38;5;28;01mNone\u001b[39;00m, out\u001b[38;5;241m=\u001b[39m\u001b[38;5;28;01mNone\u001b[39;00m, keepdims\u001b[38;5;241m=\u001b[39m\u001b[38;5;28;01mFalse\u001b[39;00m, \u001b[38;5;241m*\u001b[39m, where\u001b[38;5;241m=\u001b[39m\u001b[38;5;28;01mTrue\u001b[39;00m):\n\u001b[1;32m--> 165\u001b[0m     arr \u001b[38;5;241m=\u001b[39m asanyarray(a)\n\u001b[0;32m    167\u001b[0m     is_float16_result \u001b[38;5;241m=\u001b[39m \u001b[38;5;28;01mFalse\u001b[39;00m\n\u001b[0;32m    169\u001b[0m     rcount \u001b[38;5;241m=\u001b[39m _count_reduce_items(arr, axis, keepdims\u001b[38;5;241m=\u001b[39mkeepdims, where\u001b[38;5;241m=\u001b[39mwhere)\n",
      "\u001b[1;31mKeyboardInterrupt\u001b[0m: "
     ]
    }
   ],
   "source": [
    "pred_list = []\n",
    "for plist, tags in zip(test_my_songs, test_my_tags):\n",
    "    recommended = song_recommend(tags, plist, song_tag_appended, 'cos', False, False, False, 'cv')\n",
    "    pred_list.append(recommended['song_id'].tolist())\n",
    "print(pred_list[0])"
   ]
  },
  {
   "cell_type": "code",
   "execution_count": null,
   "id": "2763de6d",
   "metadata": {},
   "outputs": [],
   "source": [
    "map_k = get_map_k(test_my_songs, pred_list, 10)\n",
    "print(\"MAP@K (K=10): {:.3f}\".format(map_k))\n",
    "\n",
    "ndcg = ndcg_at_k(test_my_songs, pred_list, 10)\n",
    "print(\"nDCG: {:.3f}\".format(ndcg))"
   ]
  },
  {
   "cell_type": "code",
   "execution_count": null,
   "id": "57654d49",
   "metadata": {},
   "outputs": [],
   "source": [
    "pred_list = []\n",
    "for plist, tags in zip(test_my_songs, test_my_tags):\n",
    "    recommended = song_recommend(tags, plist, song_tag_appended, 'cos', False, False, True, 'cv')\n",
    "    pred_list.append(recommended['song_id'].tolist())\n",
    "print(pred_list[0])"
   ]
  },
  {
   "cell_type": "code",
   "execution_count": null,
   "id": "ae3ab8b9",
   "metadata": {},
   "outputs": [],
   "source": [
    "map_k = get_map_k(test_my_songs, pred_list, 10)\n",
    "print(\"MAP@K (K=10): {:.3f}\".format(map_k))\n",
    "\n",
    "ndcg = ndcg_at_k(test_my_songs, pred_list, 10)\n",
    "print(\"nDCG: {:.3f}\".format(ndcg))"
   ]
  },
  {
   "cell_type": "code",
   "execution_count": null,
   "id": "e35d6966",
   "metadata": {},
   "outputs": [],
   "source": [
    "pred_list = []\n",
    "for plist, tags in zip(test_my_songs, test_my_tags):\n",
    "    recommended = song_recommend(tags, plist, song_tag_appended, 'jac', False, False, False, 'cv')\n",
    "    pred_list.append(recommended['song_id'].tolist())\n",
    "print(pred_list[0])"
   ]
  },
  {
   "cell_type": "code",
   "execution_count": null,
   "id": "cbbf2514",
   "metadata": {},
   "outputs": [],
   "source": [
    "map_k = get_map_k(test_my_songs, pred_list, 10)\n",
    "print(\"MAP@K (K=10): {:.3f}\".format(map_k))\n",
    "\n",
    "ndcg = ndcg_at_k(test_my_songs, pred_list, 10)\n",
    "print(\"nDCG: {:.3f}\".format(ndcg))"
   ]
  },
  {
   "cell_type": "code",
   "execution_count": null,
   "id": "fe782ddd",
   "metadata": {},
   "outputs": [],
   "source": [
    "pred_list = []\n",
    "for plist, tags in zip(test_my_songs, test_my_tags):\n",
    "    recommended = song_recommend(tags, plist, song_tag_appended, 'jac', False, False, True, 'cv')\n",
    "    pred_list.append(recommended['song_id'].tolist())\n",
    "print(pred_list[0])"
   ]
  },
  {
   "cell_type": "code",
   "execution_count": null,
   "id": "3588a2bd",
   "metadata": {},
   "outputs": [],
   "source": [
    "map_k = get_map_k(test_my_songs, pred_list, 10)\n",
    "print(\"MAP@K (K=10): {:.3f}\".format(map_k))\n",
    "\n",
    "ndcg = ndcg_at_k(test_my_songs, pred_list, 10)\n",
    "print(\"nDCG: {:.3f}\".format(ndcg))"
   ]
  },
  {
   "cell_type": "code",
   "execution_count": null,
   "id": "6826ea01",
   "metadata": {},
   "outputs": [],
   "source": [
    "pred_list = []\n",
    "for plist, tags in zip(test_my_songs, test_my_tags):\n",
    "    recommended = song_recommend(tags, plist, song_tag_appended, 'pea', False, False, False, 'cv')\n",
    "    pred_list.append(recommended['song_id'].tolist())\n",
    "print(pred_list[0])"
   ]
  },
  {
   "cell_type": "code",
   "execution_count": null,
   "id": "df3f5271",
   "metadata": {},
   "outputs": [],
   "source": [
    "map_k = get_map_k(test_my_songs, pred_list, 10)\n",
    "print(\"MAP@K (K=10): {:.3f}\".format(map_k))\n",
    "\n",
    "ndcg = ndcg_at_k(test_my_songs, pred_list, 10)\n",
    "print(\"nDCG: {:.3f}\".format(ndcg))"
   ]
  },
  {
   "cell_type": "code",
   "execution_count": null,
   "id": "b72ca209",
   "metadata": {},
   "outputs": [],
   "source": [
    "pred_list = []\n",
    "for plist, tags in zip(test_my_songs, test_my_tags):\n",
    "    recommended = song_recommend(tags, plist, song_tag_appended, 'pea', False, False, True, 'cv')\n",
    "    pred_list.append(recommended['song_id'].tolist())\n",
    "print(pred_list[0])"
   ]
  },
  {
   "cell_type": "code",
   "execution_count": null,
   "id": "3cc01cc9",
   "metadata": {},
   "outputs": [],
   "source": [
    "map_k = get_map_k(test_my_songs, pred_list, 10)\n",
    "print(\"MAP@K (K=10): {:.3f}\".format(map_k))\n",
    "\n",
    "ndcg = ndcg_at_k(test_my_songs, pred_list, 10)\n",
    "print(\"nDCG: {:.3f}\".format(ndcg))"
   ]
  },
  {
   "cell_type": "markdown",
   "id": "7280b542",
   "metadata": {},
   "source": [
    "# 태그 불균형 데이터 처리\n",
    "\n",
    "- cv\n",
    "- recommend"
   ]
  },
  {
   "cell_type": "code",
   "execution_count": null,
   "id": "5bd74041",
   "metadata": {},
   "outputs": [],
   "source": [
    "pred_list = []\n",
    "for plist, tags in zip(test_my_songs, test_my_tags):\n",
    "    recommended = song_recommend(tags, plist, song_tag_appended, 'cos', True, False, False, 'cv')\n",
    "    pred_list.append(recommended['song_id'].tolist())\n",
    "print(pred_list[0])"
   ]
  },
  {
   "cell_type": "code",
   "execution_count": null,
   "id": "5124ebd4",
   "metadata": {},
   "outputs": [],
   "source": [
    "map_k = get_map_k(test_my_songs, pred_list, 10)\n",
    "print(\"MAP@K (K=10): {:.3f}\".format(map_k))\n",
    "\n",
    "ndcg = ndcg_at_k(test_my_songs, pred_list, 10)\n",
    "print(\"nDCG: {:.3f}\".format(ndcg))"
   ]
  },
  {
   "cell_type": "code",
   "execution_count": null,
   "id": "bbf17408",
   "metadata": {},
   "outputs": [],
   "source": [
    "pred_list = []\n",
    "for plist, tags in zip(test_my_songs, test_my_tags):\n",
    "    recommended = song_recommend(tags, plist, song_tag_appended, 'cos', True, False, True, 'cv')\n",
    "    pred_list.append(recommended['song_id'].tolist())\n",
    "print(pred_list[0])"
   ]
  },
  {
   "cell_type": "code",
   "execution_count": null,
   "id": "d203114a",
   "metadata": {},
   "outputs": [],
   "source": [
    "map_k = get_map_k(test_my_songs, pred_list, 10)\n",
    "print(\"MAP@K (K=10): {:.3f}\".format(map_k))\n",
    "\n",
    "ndcg = ndcg_at_k(test_my_songs, pred_list, 10)\n",
    "print(\"nDCG: {:.3f}\".format(ndcg))"
   ]
  },
  {
   "cell_type": "code",
   "execution_count": null,
   "id": "9553d016",
   "metadata": {},
   "outputs": [],
   "source": [
    "pred_list = []\n",
    "for plist, tags in zip(test_my_songs, test_my_tags):\n",
    "    recommended = song_recommend(tags, plist, song_tag_appended, 'jac', True, False, False, 'cv')\n",
    "    pred_list.append(recommended['song_id'].tolist())\n",
    "print(pred_list[0])"
   ]
  },
  {
   "cell_type": "code",
   "execution_count": null,
   "id": "852e4203",
   "metadata": {},
   "outputs": [],
   "source": [
    "map_k = get_map_k(test_my_songs, pred_list, 10)\n",
    "print(\"MAP@K (K=10): {:.3f}\".format(map_k))\n",
    "\n",
    "ndcg = ndcg_at_k(test_my_songs, pred_list, 10)\n",
    "print(\"nDCG: {:.3f}\".format(ndcg))"
   ]
  },
  {
   "cell_type": "code",
   "execution_count": null,
   "id": "4a578e90",
   "metadata": {},
   "outputs": [],
   "source": [
    "pred_list = []\n",
    "for plist, tags in zip(test_my_songs, test_my_tags):\n",
    "    recommended = song_recommend(tags, plist, song_tag_appended, 'jac', True, False, True, 'cv')\n",
    "    pred_list.append(recommended['song_id'].tolist())\n",
    "print(pred_list[0])"
   ]
  },
  {
   "cell_type": "code",
   "execution_count": null,
   "id": "8a4971f8",
   "metadata": {},
   "outputs": [],
   "source": [
    "map_k = get_map_k(test_my_songs, pred_list, 10)\n",
    "print(\"MAP@K (K=10): {:.3f}\".format(map_k))\n",
    "\n",
    "ndcg = ndcg_at_k(test_my_songs, pred_list, 10)\n",
    "print(\"nDCG: {:.3f}\".format(ndcg))"
   ]
  },
  {
   "cell_type": "code",
   "execution_count": null,
   "id": "3f59c796",
   "metadata": {},
   "outputs": [],
   "source": [
    "pred_list = []\n",
    "for plist, tags in zip(test_my_songs, test_my_tags):\n",
    "    recommended = song_recommend(tags, plist, song_tag_appended, 'pea', True, False, False, 'cv')\n",
    "    pred_list.append(recommended['song_id'].tolist())\n",
    "print(pred_list[0])"
   ]
  },
  {
   "cell_type": "code",
   "execution_count": null,
   "id": "8429aac2",
   "metadata": {},
   "outputs": [],
   "source": [
    "map_k = get_map_k(test_my_songs, pred_list, 10)\n",
    "print(\"MAP@K (K=10): {:.3f}\".format(map_k))\n",
    "\n",
    "ndcg = ndcg_at_k(test_my_songs, pred_list, 10)\n",
    "print(\"nDCG: {:.3f}\".format(ndcg))"
   ]
  },
  {
   "cell_type": "code",
   "execution_count": null,
   "id": "aefce2ad",
   "metadata": {},
   "outputs": [],
   "source": [
    "pred_list = []\n",
    "for plist, tags in zip(test_my_songs, test_my_tags):\n",
    "    recommended = song_recommend(tags, plist, song_tag_appended, 'pea', True, False, True, 'cv')\n",
    "    pred_list.append(recommended['song_id'].tolist())\n",
    "print(pred_list[0])"
   ]
  },
  {
   "cell_type": "code",
   "execution_count": null,
   "id": "4bcb9a6b",
   "metadata": {},
   "outputs": [],
   "source": [
    "map_k = get_map_k(test_my_songs, pred_list, 10)\n",
    "print(\"MAP@K (K=10): {:.3f}\".format(map_k))\n",
    "\n",
    "ndcg = ndcg_at_k(test_my_songs, pred_list, 10)\n",
    "print(\"nDCG: {:.3f}\".format(ndcg))"
   ]
  },
  {
   "cell_type": "markdown",
   "id": "9a1437a5",
   "metadata": {},
   "source": [
    "# 장르 불균형 데이터 처리\n",
    "\n",
    "- cv\n",
    "- recommend"
   ]
  },
  {
   "cell_type": "code",
   "execution_count": null,
   "id": "8de08630",
   "metadata": {},
   "outputs": [],
   "source": [
    "pred_list = []\n",
    "for plist, tags in zip(test_my_songs, test_my_tags):\n",
    "    recommended = song_recommend(tags, plist, song_tag_appended, 'cos', False, True, False, 'cv')\n",
    "    pred_list.append(recommended['song_id'].tolist())\n",
    "print(pred_list[0])"
   ]
  },
  {
   "cell_type": "code",
   "execution_count": null,
   "id": "7a607eb2",
   "metadata": {},
   "outputs": [],
   "source": [
    "map_k = get_map_k(test_my_songs, pred_list, 10)\n",
    "print(\"MAP@K (K=10): {:.3f}\".format(map_k))\n",
    "\n",
    "ndcg = ndcg_at_k(test_my_songs, pred_list, 10)\n",
    "print(\"nDCG: {:.3f}\".format(ndcg))"
   ]
  },
  {
   "cell_type": "code",
   "execution_count": null,
   "id": "883a2572",
   "metadata": {},
   "outputs": [],
   "source": [
    "pred_list = []\n",
    "for plist, tags in zip(test_my_songs, test_my_tags):\n",
    "    recommended = song_recommend(tags, plist, song_tag_appended, 'cos', False, True, True, 'cv')\n",
    "    pred_list.append(recommended['song_id'].tolist())\n",
    "print(pred_list[0])"
   ]
  },
  {
   "cell_type": "code",
   "execution_count": null,
   "id": "85822e50",
   "metadata": {},
   "outputs": [],
   "source": [
    "map_k = get_map_k(test_my_songs, pred_list, 10)\n",
    "print(\"MAP@K (K=10): {:.3f}\".format(map_k))\n",
    "\n",
    "ndcg = ndcg_at_k(test_my_songs, pred_list, 10)\n",
    "print(\"nDCG: {:.3f}\".format(ndcg))"
   ]
  },
  {
   "cell_type": "code",
   "execution_count": null,
   "id": "5a69f8c5",
   "metadata": {},
   "outputs": [],
   "source": [
    "pred_list = []\n",
    "for plist, tags in zip(test_my_songs, test_my_tags):\n",
    "    recommended = song_recommend(tags, plist, song_tag_appended, 'jac', False, True, False, 'cv')\n",
    "    pred_list.append(recommended['song_id'].tolist())\n",
    "print(pred_list[0])"
   ]
  },
  {
   "cell_type": "code",
   "execution_count": null,
   "id": "66c262b2",
   "metadata": {},
   "outputs": [],
   "source": [
    "map_k = get_map_k(test_my_songs, pred_list, 10)\n",
    "print(\"MAP@K (K=10): {:.3f}\".format(map_k))\n",
    "\n",
    "ndcg = ndcg_at_k(test_my_songs, pred_list, 10)\n",
    "print(\"nDCG: {:.3f}\".format(ndcg))"
   ]
  },
  {
   "cell_type": "code",
   "execution_count": null,
   "id": "44f12bcc",
   "metadata": {},
   "outputs": [],
   "source": [
    "pred_list = []\n",
    "for plist, tags in zip(test_my_songs, test_my_tags):\n",
    "    recommended = song_recommend(tags, plist, song_tag_appended, 'jac', False, True, True, 'cv')\n",
    "    pred_list.append(recommended['song_id'].tolist())\n",
    "print(pred_list[0])"
   ]
  },
  {
   "cell_type": "code",
   "execution_count": null,
   "id": "2d4e79a7",
   "metadata": {},
   "outputs": [],
   "source": [
    "map_k = get_map_k(test_my_songs, pred_list, 10)\n",
    "print(\"MAP@K (K=10): {:.3f}\".format(map_k))\n",
    "\n",
    "ndcg = ndcg_at_k(test_my_songs, pred_list, 10)\n",
    "print(\"nDCG: {:.3f}\".format(ndcg))"
   ]
  },
  {
   "cell_type": "code",
   "execution_count": null,
   "id": "f58232f5",
   "metadata": {},
   "outputs": [],
   "source": [
    "pred_list = []\n",
    "for plist, tags in zip(test_my_songs, test_my_tags):\n",
    "    recommended = song_recommend(tags, plist, song_tag_appended, 'pea', False, True, False, 'cv')\n",
    "    pred_list.append(recommended['song_id'].tolist())\n",
    "print(pred_list[0])"
   ]
  },
  {
   "cell_type": "code",
   "execution_count": null,
   "id": "600d1abf",
   "metadata": {},
   "outputs": [],
   "source": [
    "map_k = get_map_k(test_my_songs, pred_list, 10)\n",
    "print(\"MAP@K (K=10): {:.3f}\".format(map_k))\n",
    "\n",
    "ndcg = ndcg_at_k(test_my_songs, pred_list, 10)\n",
    "print(\"nDCG: {:.3f}\".format(ndcg))"
   ]
  },
  {
   "cell_type": "code",
   "execution_count": null,
   "id": "ac873e75",
   "metadata": {},
   "outputs": [],
   "source": [
    "pred_list = []\n",
    "for plist, tags in zip(test_my_songs, test_my_tags):\n",
    "    recommended = song_recommend(tags, plist, song_tag_appended, 'pea', False, True, True, 'cv')\n",
    "    pred_list.append(recommended['song_id'].tolist())\n",
    "print(pred_list[0])"
   ]
  },
  {
   "cell_type": "code",
   "execution_count": null,
   "id": "ff116080",
   "metadata": {},
   "outputs": [],
   "source": [
    "map_k = get_map_k(test_my_songs, pred_list, 10)\n",
    "print(\"MAP@K (K=10): {:.3f}\".format(map_k))\n",
    "\n",
    "ndcg = ndcg_at_k(test_my_songs, pred_list, 10)\n",
    "print(\"nDCG: {:.3f}\".format(ndcg))"
   ]
  },
  {
   "cell_type": "markdown",
   "id": "50a3df0c",
   "metadata": {},
   "source": [
    "# 태그, 장르 불균형 데이터 처리\n",
    "\n",
    "- cv\n",
    "- recommend"
   ]
  },
  {
   "cell_type": "code",
   "execution_count": null,
   "id": "d10f79a5",
   "metadata": {},
   "outputs": [],
   "source": [
    "pred_list = []\n",
    "for plist, tags in zip(test_my_songs, test_my_tags):\n",
    "    recommended = song_recommend(tags, plist, song_tag_appended, 'cos', True, True, False, 'cv')\n",
    "    pred_list.append(recommended['song_id'].tolist())\n",
    "print(pred_list[0])"
   ]
  },
  {
   "cell_type": "code",
   "execution_count": null,
   "id": "08577d60",
   "metadata": {},
   "outputs": [],
   "source": [
    "map_k = get_map_k(test_my_songs, pred_list, 10)\n",
    "print(\"MAP@K (K=10): {:.3f}\".format(map_k))\n",
    "\n",
    "ndcg = ndcg_at_k(test_my_songs, pred_list, 10)\n",
    "print(\"nDCG: {:.3f}\".format(ndcg))"
   ]
  },
  {
   "cell_type": "code",
   "execution_count": null,
   "id": "c7d20279",
   "metadata": {},
   "outputs": [],
   "source": [
    "pred_list = []\n",
    "for plist, tags in zip(test_my_songs, test_my_tags):\n",
    "    recommended = song_recommend(tags, plist, song_tag_appended, 'cos', True, True, True, 'cv')\n",
    "    pred_list.append(recommended['song_id'].tolist())\n",
    "print(pred_list[0])"
   ]
  },
  {
   "cell_type": "code",
   "execution_count": null,
   "id": "84328382",
   "metadata": {},
   "outputs": [],
   "source": [
    "map_k = get_map_k(test_my_songs, pred_list, 10)\n",
    "print(\"MAP@K (K=10): {:.3f}\".format(map_k))\n",
    "\n",
    "ndcg = ndcg_at_k(test_my_songs, pred_list, 10)\n",
    "print(\"nDCG: {:.3f}\".format(ndcg))"
   ]
  },
  {
   "cell_type": "code",
   "execution_count": null,
   "id": "7702e812",
   "metadata": {},
   "outputs": [],
   "source": [
    "pred_list = []\n",
    "for plist, tags in zip(test_my_songs, test_my_tags):\n",
    "    recommended = song_recommend(tags, plist, song_tag_appended, 'jac', True, True, False, 'cv')\n",
    "    pred_list.append(recommended['song_id'].tolist())\n",
    "print(pred_list[0])"
   ]
  },
  {
   "cell_type": "code",
   "execution_count": null,
   "id": "f636da1a",
   "metadata": {},
   "outputs": [],
   "source": [
    "map_k = get_map_k(test_my_songs, pred_list, 10)\n",
    "print(\"MAP@K (K=10): {:.3f}\".format(map_k))\n",
    "\n",
    "ndcg = ndcg_at_k(test_my_songs, pred_list, 10)\n",
    "print(\"nDCG: {:.3f}\".format(ndcg))"
   ]
  },
  {
   "cell_type": "code",
   "execution_count": null,
   "id": "a213bb50",
   "metadata": {},
   "outputs": [],
   "source": [
    "pred_list = []\n",
    "for plist, tags in zip(test_my_songs, test_my_tags):\n",
    "    recommended = song_recommend(tags, plist, song_tag_appended, 'jac', True, True, True, 'cv')\n",
    "    pred_list.append(recommended['song_id'].tolist())\n",
    "print(pred_list[0])"
   ]
  },
  {
   "cell_type": "code",
   "execution_count": null,
   "id": "53153569",
   "metadata": {},
   "outputs": [],
   "source": [
    "map_k = get_map_k(test_my_songs, pred_list, 10)\n",
    "print(\"MAP@K (K=10): {:.3f}\".format(map_k))\n",
    "\n",
    "ndcg = ndcg_at_k(test_my_songs, pred_list, 10)\n",
    "print(\"nDCG: {:.3f}\".format(ndcg))"
   ]
  },
  {
   "cell_type": "code",
   "execution_count": null,
   "id": "5c1755bd",
   "metadata": {},
   "outputs": [],
   "source": [
    "pred_list = []\n",
    "for plist, tags in zip(test_my_songs, test_my_tags):\n",
    "    recommended = song_recommend(tags, plist, song_tag_appended, 'pea', True, True, False, 'cv')\n",
    "    pred_list.append(recommended['song_id'].tolist())\n",
    "print(pred_list[0])"
   ]
  },
  {
   "cell_type": "code",
   "execution_count": null,
   "id": "f9e210a4",
   "metadata": {},
   "outputs": [],
   "source": [
    "map_k = get_map_k(test_my_songs, pred_list, 10)\n",
    "print(\"MAP@K (K=10): {:.3f}\".format(map_k))\n",
    "\n",
    "ndcg = ndcg_at_k(test_my_songs, pred_list, 10)\n",
    "print(\"nDCG: {:.3f}\".format(ndcg))"
   ]
  },
  {
   "cell_type": "code",
   "execution_count": null,
   "id": "abc4061c",
   "metadata": {},
   "outputs": [],
   "source": [
    "pred_list = []\n",
    "for plist, tags in zip(test_my_songs, test_my_tags):\n",
    "    recommended = song_recommend(tags, plist, song_tag_appended, 'pea', True, True, True, 'cv')\n",
    "    pred_list.append(recommended['song_id'].tolist())\n",
    "print(pred_list[0])"
   ]
  },
  {
   "cell_type": "code",
   "execution_count": null,
   "id": "202536a7",
   "metadata": {},
   "outputs": [],
   "source": [
    "map_k = get_map_k(test_my_songs, pred_list, 10)\n",
    "print(\"MAP@K (K=10): {:.3f}\".format(map_k))\n",
    "\n",
    "ndcg = ndcg_at_k(test_my_songs, pred_list, 10)\n",
    "print(\"nDCG: {:.3f}\".format(ndcg))"
   ]
  },
  {
   "cell_type": "markdown",
   "id": "35a89206",
   "metadata": {},
   "source": [
    "# 태그, 장르 불균형 데이터 처리 X\n",
    "\n",
    "- tf-idf\n",
    "- recommend"
   ]
  },
  {
   "cell_type": "code",
   "execution_count": null,
   "id": "b40e1bc3",
   "metadata": {},
   "outputs": [],
   "source": [
    "pred_list = []\n",
    "for plist, tags in zip(test_my_songs, test_my_tags):\n",
    "    recommended = song_recommend(tags, plist, song_tag_appended, 'cos', False, False, False, 'tf')\n",
    "    pred_list.append(recommended['song_id'].tolist())\n",
    "print(pred_list[0])"
   ]
  },
  {
   "cell_type": "code",
   "execution_count": null,
   "id": "9edbb532",
   "metadata": {},
   "outputs": [],
   "source": [
    "map_k = get_map_k(test_my_songs, pred_list, 10)\n",
    "print(\"MAP@K (K=10): {:.3f}\".format(map_k))\n",
    "\n",
    "ndcg = ndcg_at_k(test_my_songs, pred_list, 10)\n",
    "print(\"nDCG: {:.3f}\".format(ndcg))"
   ]
  },
  {
   "cell_type": "code",
   "execution_count": null,
   "id": "a6552747",
   "metadata": {},
   "outputs": [],
   "source": [
    "pred_list = []\n",
    "for plist, tags in zip(test_my_songs, test_my_tags):\n",
    "    recommended = song_recommend(tags, plist, song_tag_appended, 'cos', False, False, True, 'tf')\n",
    "    pred_list.append(recommended['song_id'].tolist())\n",
    "print(pred_list[0])"
   ]
  },
  {
   "cell_type": "code",
   "execution_count": null,
   "id": "128b9c5d",
   "metadata": {},
   "outputs": [],
   "source": [
    "map_k = get_map_k(test_my_songs, pred_list, 10)\n",
    "print(\"MAP@K (K=10): {:.3f}\".format(map_k))\n",
    "\n",
    "ndcg = ndcg_at_k(test_my_songs, pred_list, 10)\n",
    "print(\"nDCG: {:.3f}\".format(ndcg))"
   ]
  },
  {
   "cell_type": "code",
   "execution_count": null,
   "id": "2b027d95",
   "metadata": {},
   "outputs": [],
   "source": [
    "pred_list = []\n",
    "for plist, tags in zip(test_my_songs, test_my_tags):\n",
    "    recommended = song_recommend(tags, plist, song_tag_appended, 'jac', False, False, False, 'tf')\n",
    "    pred_list.append(recommended['song_id'].tolist())\n",
    "print(pred_list[0])"
   ]
  },
  {
   "cell_type": "code",
   "execution_count": null,
   "id": "a01d6745",
   "metadata": {},
   "outputs": [],
   "source": [
    "map_k = get_map_k(test_my_songs, pred_list, 10)\n",
    "print(\"MAP@K (K=10): {:.3f}\".format(map_k))\n",
    "\n",
    "ndcg = ndcg_at_k(test_my_songs, pred_list, 10)\n",
    "print(\"nDCG: {:.3f}\".format(ndcg))"
   ]
  },
  {
   "cell_type": "code",
   "execution_count": null,
   "id": "4eec4f48",
   "metadata": {},
   "outputs": [],
   "source": [
    "pred_list = []\n",
    "for plist, tags in zip(test_my_songs, test_my_tags):\n",
    "    recommended = song_recommend(tags, plist, song_tag_appended, 'jac', False, False, True, 'tf')\n",
    "    pred_list.append(recommended['song_id'].tolist())\n",
    "print(pred_list[0])"
   ]
  },
  {
   "cell_type": "code",
   "execution_count": null,
   "id": "2e0768cb",
   "metadata": {},
   "outputs": [],
   "source": [
    "map_k = get_map_k(test_my_songs, pred_list, 10)\n",
    "print(\"MAP@K (K=10): {:.3f}\".format(map_k))\n",
    "\n",
    "ndcg = ndcg_at_k(test_my_songs, pred_list, 10)\n",
    "print(\"nDCG: {:.3f}\".format(ndcg))"
   ]
  },
  {
   "cell_type": "code",
   "execution_count": null,
   "id": "938a9c40",
   "metadata": {},
   "outputs": [],
   "source": [
    "pred_list = []\n",
    "for plist, tags in zip(test_my_songs, test_my_tags):\n",
    "    recommended = song_recommend(tags, plist, song_tag_appended, 'pea', False, False, False, 'tf')\n",
    "    pred_list.append(recommended['song_id'].tolist())\n",
    "print(pred_list[0])"
   ]
  },
  {
   "cell_type": "code",
   "execution_count": null,
   "id": "dc70ef99",
   "metadata": {},
   "outputs": [],
   "source": [
    "map_k = get_map_k(test_my_songs, pred_list, 10)\n",
    "print(\"MAP@K (K=10): {:.3f}\".format(map_k))\n",
    "\n",
    "ndcg = ndcg_at_k(test_my_songs, pred_list, 10)\n",
    "print(\"nDCG: {:.3f}\".format(ndcg))"
   ]
  },
  {
   "cell_type": "code",
   "execution_count": null,
   "id": "eedfc6d3",
   "metadata": {},
   "outputs": [],
   "source": [
    "pred_list = []\n",
    "for plist, tags in zip(test_my_songs, test_my_tags):\n",
    "    recommended = song_recommend(tags, plist, song_tag_appended, 'pea', False, False, True, 'tf')\n",
    "    pred_list.append(recommended['song_id'].tolist())\n",
    "print(pred_list[0])"
   ]
  },
  {
   "cell_type": "code",
   "execution_count": null,
   "id": "1caddeaa",
   "metadata": {},
   "outputs": [],
   "source": [
    "map_k = get_map_k(test_my_songs, pred_list, 10)\n",
    "print(\"MAP@K (K=10): {:.3f}\".format(map_k))\n",
    "\n",
    "ndcg = ndcg_at_k(test_my_songs, pred_list, 10)\n",
    "print(\"nDCG: {:.3f}\".format(ndcg))"
   ]
  },
  {
   "cell_type": "markdown",
   "id": "0670fe4c",
   "metadata": {},
   "source": [
    "# 태그 불균형 데이터 처리\n",
    "\n",
    "- tf-idf\n",
    "- recommend"
   ]
  },
  {
   "cell_type": "code",
   "execution_count": null,
   "id": "2a175986",
   "metadata": {},
   "outputs": [],
   "source": [
    "pred_list = []\n",
    "for plist, tags in zip(test_my_songs, test_my_tags):\n",
    "    recommended = song_recommend(tags, plist, song_tag_appended, 'cos', True, False, False, 'tf')\n",
    "    pred_list.append(recommended['song_id'].tolist())\n",
    "print(pred_list[0])"
   ]
  },
  {
   "cell_type": "code",
   "execution_count": null,
   "id": "9c049777",
   "metadata": {},
   "outputs": [],
   "source": [
    "map_k = get_map_k(test_my_songs, pred_list, 10)\n",
    "print(\"MAP@K (K=10): {:.3f}\".format(map_k))\n",
    "\n",
    "ndcg = ndcg_at_k(test_my_songs, pred_list, 10)\n",
    "print(\"nDCG: {:.3f}\".format(ndcg))"
   ]
  },
  {
   "cell_type": "code",
   "execution_count": null,
   "id": "1683af71",
   "metadata": {},
   "outputs": [],
   "source": [
    "pred_list = []\n",
    "for plist, tags in zip(test_my_songs, test_my_tags):\n",
    "    recommended = song_recommend(tags, plist, song_tag_appended, 'cos', True, False, True, 'tf')\n",
    "    pred_list.append(recommended['song_id'].tolist())\n",
    "print(pred_list[0])"
   ]
  },
  {
   "cell_type": "code",
   "execution_count": null,
   "id": "af46fdfe",
   "metadata": {},
   "outputs": [],
   "source": [
    "map_k = get_map_k(test_my_songs, pred_list, 10)\n",
    "print(\"MAP@K (K=10): {:.3f}\".format(map_k))\n",
    "\n",
    "ndcg = ndcg_at_k(test_my_songs, pred_list, 10)\n",
    "print(\"nDCG: {:.3f}\".format(ndcg))"
   ]
  },
  {
   "cell_type": "code",
   "execution_count": null,
   "id": "fda5ef82",
   "metadata": {},
   "outputs": [],
   "source": [
    "pred_list = []\n",
    "for plist, tags in zip(test_my_songs, test_my_tags):\n",
    "    recommended = song_recommend(tags, plist, song_tag_appended, 'jac', True, False, False, 'tf')\n",
    "    pred_list.append(recommended['song_id'].tolist())\n",
    "print(pred_list[0])"
   ]
  },
  {
   "cell_type": "code",
   "execution_count": null,
   "id": "d5e7a0b5",
   "metadata": {},
   "outputs": [],
   "source": [
    "map_k = get_map_k(test_my_songs, pred_list, 10)\n",
    "print(\"MAP@K (K=10): {:.3f}\".format(map_k))\n",
    "\n",
    "ndcg = ndcg_at_k(test_my_songs, pred_list, 10)\n",
    "print(\"nDCG: {:.3f}\".format(ndcg))"
   ]
  },
  {
   "cell_type": "code",
   "execution_count": null,
   "id": "a8acf9db",
   "metadata": {},
   "outputs": [],
   "source": [
    "pred_list = []\n",
    "for plist, tags in zip(test_my_songs, test_my_tags):\n",
    "    recommended = song_recommend(tags, plist, song_tag_appended, 'jac', True, False, True, 'tf')\n",
    "    pred_list.append(recommended['song_id'].tolist())\n",
    "print(pred_list[0])"
   ]
  },
  {
   "cell_type": "code",
   "execution_count": null,
   "id": "31d0c08b",
   "metadata": {},
   "outputs": [],
   "source": [
    "map_k = get_map_k(test_my_songs, pred_list, 10)\n",
    "print(\"MAP@K (K=10): {:.3f}\".format(map_k))\n",
    "\n",
    "ndcg = ndcg_at_k(test_my_songs, pred_list, 10)\n",
    "print(\"nDCG: {:.3f}\".format(ndcg))"
   ]
  },
  {
   "cell_type": "code",
   "execution_count": null,
   "id": "f3f8104f",
   "metadata": {},
   "outputs": [],
   "source": [
    "pred_list = []\n",
    "for plist, tags in zip(test_my_songs, test_my_tags):\n",
    "    recommended = song_recommend(tags, plist, song_tag_appended, 'pea', True, False, False, 'tf')\n",
    "    pred_list.append(recommended['song_id'].tolist())\n",
    "print(pred_list[0])"
   ]
  },
  {
   "cell_type": "code",
   "execution_count": null,
   "id": "e15d6bc0",
   "metadata": {},
   "outputs": [],
   "source": [
    "map_k = get_map_k(test_my_songs, pred_list, 10)\n",
    "print(\"MAP@K (K=10): {:.3f}\".format(map_k))\n",
    "\n",
    "ndcg = ndcg_at_k(test_my_songs, pred_list, 10)\n",
    "print(\"nDCG: {:.3f}\".format(ndcg))"
   ]
  },
  {
   "cell_type": "code",
   "execution_count": null,
   "id": "594166c3",
   "metadata": {},
   "outputs": [],
   "source": [
    "pred_list = []\n",
    "for plist, tags in zip(test_my_songs, test_my_tags):\n",
    "    recommended = song_recommend(tags, plist, song_tag_appended, 'pea', True, False, True, 'tf')\n",
    "    pred_list.append(recommended['song_id'].tolist())\n",
    "print(pred_list[0])"
   ]
  },
  {
   "cell_type": "code",
   "execution_count": null,
   "id": "3aab51a2",
   "metadata": {},
   "outputs": [],
   "source": [
    "map_k = get_map_k(test_my_songs, pred_list, 10)\n",
    "print(\"MAP@K (K=10): {:.3f}\".format(map_k))\n",
    "\n",
    "ndcg = ndcg_at_k(test_my_songs, pred_list, 10)\n",
    "print(\"nDCG: {:.3f}\".format(ndcg))"
   ]
  },
  {
   "cell_type": "markdown",
   "id": "0d5865f2",
   "metadata": {},
   "source": [
    "# 장르 불균형 데이터 처리\n",
    "\n",
    "- tf-idf\n",
    "- recommend"
   ]
  },
  {
   "cell_type": "code",
   "execution_count": null,
   "id": "557f1be8",
   "metadata": {},
   "outputs": [],
   "source": [
    "pred_list = []\n",
    "for plist, tags in zip(test_my_songs, test_my_tags):\n",
    "    recommended = song_recommend(tags, plist, song_tag_appended, 'cos', False, True, False, 'tf')\n",
    "    pred_list.append(recommended['song_id'].tolist())\n",
    "print(pred_list[0])"
   ]
  },
  {
   "cell_type": "code",
   "execution_count": null,
   "id": "a3e5983a",
   "metadata": {},
   "outputs": [],
   "source": [
    "map_k = get_map_k(test_my_songs, pred_list, 10)\n",
    "print(\"MAP@K (K=10): {:.3f}\".format(map_k))\n",
    "\n",
    "ndcg = ndcg_at_k(test_my_songs, pred_list, 10)\n",
    "print(\"nDCG: {:.3f}\".format(ndcg))"
   ]
  },
  {
   "cell_type": "code",
   "execution_count": null,
   "id": "da213ba2",
   "metadata": {},
   "outputs": [],
   "source": [
    "pred_list = []\n",
    "for plist, tags in zip(test_my_songs, test_my_tags):\n",
    "    recommended = song_recommend(tags, plist, song_tag_appended, 'cos', False, True, True, 'tf')\n",
    "    pred_list.append(recommended['song_id'].tolist())\n",
    "print(pred_list[0])"
   ]
  },
  {
   "cell_type": "code",
   "execution_count": null,
   "id": "d9c6462e",
   "metadata": {},
   "outputs": [],
   "source": [
    "map_k = get_map_k(test_my_songs, pred_list, 10)\n",
    "print(\"MAP@K (K=10): {:.3f}\".format(map_k))\n",
    "\n",
    "ndcg = ndcg_at_k(test_my_songs, pred_list, 10)\n",
    "print(\"nDCG: {:.3f}\".format(ndcg))"
   ]
  },
  {
   "cell_type": "code",
   "execution_count": null,
   "id": "81195aef",
   "metadata": {},
   "outputs": [],
   "source": [
    "pred_list = []\n",
    "for plist, tags in zip(test_my_songs, test_my_tags):\n",
    "    recommended = song_recommend(tags, plist, song_tag_appended, 'jac', False, True, False, 'tf')\n",
    "    pred_list.append(recommended['song_id'].tolist())\n",
    "print(pred_list[0])"
   ]
  },
  {
   "cell_type": "code",
   "execution_count": null,
   "id": "b3b2fa16",
   "metadata": {},
   "outputs": [],
   "source": [
    "map_k = get_map_k(test_my_songs, pred_list, 10)\n",
    "print(\"MAP@K (K=10): {:.3f}\".format(map_k))\n",
    "\n",
    "ndcg = ndcg_at_k(test_my_songs, pred_list, 10)\n",
    "print(\"nDCG: {:.3f}\".format(ndcg))"
   ]
  },
  {
   "cell_type": "code",
   "execution_count": null,
   "id": "7d27e90d",
   "metadata": {},
   "outputs": [],
   "source": [
    "pred_list = []\n",
    "for plist, tags in zip(test_my_songs, test_my_tags):\n",
    "    recommended = song_recommend(tags, plist, song_tag_appended, 'jac', False, True, True, 'tf')\n",
    "    pred_list.append(recommended['song_id'].tolist())\n",
    "print(pred_list[0])"
   ]
  },
  {
   "cell_type": "code",
   "execution_count": null,
   "id": "8534737a",
   "metadata": {},
   "outputs": [],
   "source": [
    "map_k = get_map_k(test_my_songs, pred_list, 10)\n",
    "print(\"MAP@K (K=10): {:.3f}\".format(map_k))\n",
    "\n",
    "ndcg = ndcg_at_k(test_my_songs, pred_list, 10)\n",
    "print(\"nDCG: {:.3f}\".format(ndcg))"
   ]
  },
  {
   "cell_type": "code",
   "execution_count": null,
   "id": "6db64faf",
   "metadata": {},
   "outputs": [],
   "source": [
    "pred_list = []\n",
    "for plist, tags in zip(test_my_songs, test_my_tags):\n",
    "    recommended = song_recommend(tags, plist, song_tag_appended, 'pea', False, True, False, 'tf')\n",
    "    pred_list.append(recommended['song_id'].tolist())\n",
    "print(pred_list[0])"
   ]
  },
  {
   "cell_type": "code",
   "execution_count": null,
   "id": "fd7311a1",
   "metadata": {},
   "outputs": [],
   "source": [
    "map_k = get_map_k(test_my_songs, pred_list, 10)\n",
    "print(\"MAP@K (K=10): {:.3f}\".format(map_k))\n",
    "\n",
    "ndcg = ndcg_at_k(test_my_songs, pred_list, 10)\n",
    "print(\"nDCG: {:.3f}\".format(ndcg))"
   ]
  },
  {
   "cell_type": "code",
   "execution_count": null,
   "id": "41cc556c",
   "metadata": {},
   "outputs": [],
   "source": [
    "pred_list = []\n",
    "for plist, tags in zip(test_my_songs, test_my_tags):\n",
    "    recommended = song_recommend(tags, plist, song_tag_appended, 'pea', False, True, True, 'tf')\n",
    "    pred_list.append(recommended['song_id'].tolist())\n",
    "print(pred_list[0])"
   ]
  },
  {
   "cell_type": "code",
   "execution_count": null,
   "id": "7d065d1c",
   "metadata": {},
   "outputs": [],
   "source": [
    "map_k = get_map_k(test_my_songs, pred_list, 10)\n",
    "print(\"MAP@K (K=10): {:.3f}\".format(map_k))\n",
    "\n",
    "ndcg = ndcg_at_k(test_my_songs, pred_list, 10)\n",
    "print(\"nDCG: {:.3f}\".format(ndcg))"
   ]
  },
  {
   "cell_type": "markdown",
   "id": "6217cdce",
   "metadata": {},
   "source": [
    "# 태그, 장르 불균형 데이터 처리\n",
    "\n",
    "- tf-idf\n",
    "- recommend"
   ]
  },
  {
   "cell_type": "code",
   "execution_count": null,
   "id": "d7547f0d",
   "metadata": {},
   "outputs": [],
   "source": [
    "pred_list = []\n",
    "for plist, tags in zip(test_my_songs, test_my_tags):\n",
    "    recommended = song_recommend(tags, plist, song_tag_appended, 'cos', True, True, False, 'tf')\n",
    "    pred_list.append(recommended['song_id'].tolist())\n",
    "print(pred_list[0])"
   ]
  },
  {
   "cell_type": "code",
   "execution_count": null,
   "id": "ec47b506",
   "metadata": {},
   "outputs": [],
   "source": [
    "map_k = get_map_k(test_my_songs, pred_list, 10)\n",
    "print(\"MAP@K (K=10): {:.3f}\".format(map_k))\n",
    "\n",
    "ndcg = ndcg_at_k(test_my_songs, pred_list, 10)\n",
    "print(\"nDCG: {:.3f}\".format(ndcg))"
   ]
  },
  {
   "cell_type": "code",
   "execution_count": null,
   "id": "fd8cbbb0",
   "metadata": {},
   "outputs": [],
   "source": [
    "pred_list = []\n",
    "for plist, tags in zip(test_my_songs, test_my_tags):\n",
    "    recommended = song_recommend(tags, plist, song_tag_appended, 'cos', True, True, True, 'tf')\n",
    "    pred_list.append(recommended['song_id'].tolist())\n",
    "print(pred_list[0])"
   ]
  },
  {
   "cell_type": "code",
   "execution_count": null,
   "id": "88b94730",
   "metadata": {},
   "outputs": [],
   "source": [
    "map_k = get_map_k(test_my_songs, pred_list, 10)\n",
    "print(\"MAP@K (K=10): {:.3f}\".format(map_k))\n",
    "\n",
    "ndcg = ndcg_at_k(test_my_songs, pred_list, 10)\n",
    "print(\"nDCG: {:.3f}\".format(ndcg))"
   ]
  },
  {
   "cell_type": "code",
   "execution_count": null,
   "id": "6c88b227",
   "metadata": {},
   "outputs": [],
   "source": [
    "pred_list = []\n",
    "for plist, tags in zip(test_my_songs, test_my_tags):\n",
    "    recommended = song_recommend(tags, plist, song_tag_appended, 'jac', True, True, False, 'tf')\n",
    "    pred_list.append(recommended['song_id'].tolist())\n",
    "print(pred_list[0])"
   ]
  },
  {
   "cell_type": "code",
   "execution_count": null,
   "id": "f4411fda",
   "metadata": {},
   "outputs": [],
   "source": [
    "map_k = get_map_k(test_my_songs, pred_list, 10)\n",
    "print(\"MAP@K (K=10): {:.3f}\".format(map_k))\n",
    "\n",
    "ndcg = ndcg_at_k(test_my_songs, pred_list, 10)\n",
    "print(\"nDCG: {:.3f}\".format(ndcg))"
   ]
  },
  {
   "cell_type": "code",
   "execution_count": null,
   "id": "414c59a3",
   "metadata": {},
   "outputs": [],
   "source": [
    "pred_list = []\n",
    "for plist, tags in zip(test_my_songs, test_my_tags):\n",
    "    recommended = song_recommend(tags, plist, song_tag_appended, 'jac', True, True, True, 'tf')\n",
    "    pred_list.append(recommended['song_id'].tolist())\n",
    "print(pred_list[0])"
   ]
  },
  {
   "cell_type": "code",
   "execution_count": null,
   "id": "dbf9896b",
   "metadata": {},
   "outputs": [],
   "source": [
    "map_k = get_map_k(test_my_songs, pred_list, 10)\n",
    "print(\"MAP@K (K=10): {:.3f}\".format(map_k))\n",
    "\n",
    "ndcg = ndcg_at_k(test_my_songs, pred_list, 10)\n",
    "print(\"nDCG: {:.3f}\".format(ndcg))"
   ]
  },
  {
   "cell_type": "code",
   "execution_count": null,
   "id": "f07a31a7",
   "metadata": {},
   "outputs": [],
   "source": [
    "pred_list = []\n",
    "for plist, tags in zip(test_my_songs, test_my_tags):\n",
    "    recommended = song_recommend(tags, plist, song_tag_appended, 'pea', True, True, False, 'tf')\n",
    "    pred_list.append(recommended['song_id'].tolist())\n",
    "print(pred_list[0])"
   ]
  },
  {
   "cell_type": "code",
   "execution_count": null,
   "id": "60f35a81",
   "metadata": {},
   "outputs": [],
   "source": [
    "map_k = get_map_k(test_my_songs, pred_list, 10)\n",
    "print(\"MAP@K (K=10): {:.3f}\".format(map_k))\n",
    "\n",
    "ndcg = ndcg_at_k(test_my_songs, pred_list, 10)\n",
    "print(\"nDCG: {:.3f}\".format(ndcg))"
   ]
  },
  {
   "cell_type": "code",
   "execution_count": null,
   "id": "ecdf3c38",
   "metadata": {},
   "outputs": [],
   "source": [
    "pred_list = []\n",
    "for plist, tags in zip(test_my_songs, test_my_tags):\n",
    "    recommended = song_recommend(tags, plist, song_tag_appended, 'pea', True, True, True, 'tf')\n",
    "    pred_list.append(recommended['song_id'].tolist())\n",
    "print(pred_list[0])"
   ]
  },
  {
   "cell_type": "code",
   "execution_count": null,
   "id": "bceaf6fe",
   "metadata": {},
   "outputs": [],
   "source": [
    "map_k = get_map_k(test_my_songs, pred_list, 10)\n",
    "print(\"MAP@K (K=10): {:.3f}\".format(map_k))\n",
    "\n",
    "ndcg = ndcg_at_k(test_my_songs, pred_list, 10)\n",
    "print(\"nDCG: {:.3f}\".format(ndcg))"
   ]
  },
  {
   "cell_type": "markdown",
   "id": "f75ecb3d",
   "metadata": {},
   "source": [
    "# 태그, 장르 불균형 데이터 처리 X\n",
    "\n",
    "- cv\n",
    "- recommend2"
   ]
  },
  {
   "cell_type": "code",
   "execution_count": null,
   "id": "80c5bfa6",
   "metadata": {},
   "outputs": [],
   "source": [
    "pred_list = []\n",
    "for plist, tags in zip(test_my_songs, test_my_tags):\n",
    "    recommended = song_recommend2(tags, plist, song_tag_appended, 'cos', False, False, False, 'cv')\n",
    "    pred_list.append(recommended['song_id'].tolist())\n",
    "print(pred_list[0])"
   ]
  },
  {
   "cell_type": "code",
   "execution_count": null,
   "id": "d969dbaf",
   "metadata": {},
   "outputs": [],
   "source": [
    "map_k = get_map_k(test_my_songs, pred_list, 10)\n",
    "print(\"MAP@K (K=10): {:.3f}\".format(map_k))\n",
    "\n",
    "ndcg = ndcg_at_k(test_my_songs, pred_list, 10)\n",
    "print(\"nDCG: {:.3f}\".format(ndcg))"
   ]
  },
  {
   "cell_type": "code",
   "execution_count": null,
   "id": "a71657cc",
   "metadata": {},
   "outputs": [],
   "source": [
    "pred_list = []\n",
    "for plist, tags in zip(test_my_songs, test_my_tags):\n",
    "    recommended = song_recommend2(tags, plist, song_tag_appended, 'cos', False, False, True, 'cv')\n",
    "    pred_list.append(recommended['song_id'].tolist())\n",
    "print(pred_list[0])"
   ]
  },
  {
   "cell_type": "code",
   "execution_count": null,
   "id": "645dbbf6",
   "metadata": {},
   "outputs": [],
   "source": [
    "map_k = get_map_k(test_my_songs, pred_list, 10)\n",
    "print(\"MAP@K (K=10): {:.3f}\".format(map_k))\n",
    "\n",
    "ndcg = ndcg_at_k(test_my_songs, pred_list, 10)\n",
    "print(\"nDCG: {:.3f}\".format(ndcg))"
   ]
  },
  {
   "cell_type": "code",
   "execution_count": null,
   "id": "0ed35b41",
   "metadata": {},
   "outputs": [],
   "source": [
    "pred_list = []\n",
    "for plist, tags in zip(test_my_songs, test_my_tags):\n",
    "    recommended = song_recommend2(tags, plist, song_tag_appended, 'jac', False, False, False, 'cv')\n",
    "    pred_list.append(recommended['song_id'].tolist())\n",
    "print(pred_list[0])"
   ]
  },
  {
   "cell_type": "code",
   "execution_count": null,
   "id": "1a8cdaef",
   "metadata": {},
   "outputs": [],
   "source": [
    "map_k = get_map_k(test_my_songs, pred_list, 10)\n",
    "print(\"MAP@K (K=10): {:.3f}\".format(map_k))\n",
    "\n",
    "ndcg = ndcg_at_k(test_my_songs, pred_list, 10)\n",
    "print(\"nDCG: {:.3f}\".format(ndcg))"
   ]
  },
  {
   "cell_type": "code",
   "execution_count": null,
   "id": "5353d923",
   "metadata": {},
   "outputs": [],
   "source": [
    "pred_list = []\n",
    "for plist, tags in zip(test_my_songs, test_my_tags):\n",
    "    recommended = song_recommend2(tags, plist, song_tag_appended, 'jac', False, False, True, 'cv')\n",
    "    pred_list.append(recommended['song_id'].tolist())\n",
    "print(pred_list[0])"
   ]
  },
  {
   "cell_type": "code",
   "execution_count": null,
   "id": "450efb03",
   "metadata": {},
   "outputs": [],
   "source": [
    "map_k = get_map_k(test_my_songs, pred_list, 10)\n",
    "print(\"MAP@K (K=10): {:.3f}\".format(map_k))\n",
    "\n",
    "ndcg = ndcg_at_k(test_my_songs, pred_list, 10)\n",
    "print(\"nDCG: {:.3f}\".format(ndcg))"
   ]
  },
  {
   "cell_type": "code",
   "execution_count": null,
   "id": "efb4e9d1",
   "metadata": {},
   "outputs": [],
   "source": [
    "pred_list = []\n",
    "for plist, tags in zip(test_my_songs, test_my_tags):\n",
    "    recommended = song_recommend2(tags, plist, song_tag_appended, 'pea', False, False, False, 'cv')\n",
    "    pred_list.append(recommended['song_id'].tolist())\n",
    "print(pred_list[0])"
   ]
  },
  {
   "cell_type": "code",
   "execution_count": null,
   "id": "6d1e41c4",
   "metadata": {},
   "outputs": [],
   "source": [
    "map_k = get_map_k(test_my_songs, pred_list, 10)\n",
    "print(\"MAP@K (K=10): {:.3f}\".format(map_k))\n",
    "\n",
    "ndcg = ndcg_at_k(test_my_songs, pred_list, 10)\n",
    "print(\"nDCG: {:.3f}\".format(ndcg))"
   ]
  },
  {
   "cell_type": "code",
   "execution_count": null,
   "id": "6c5bc05f",
   "metadata": {},
   "outputs": [],
   "source": [
    "pred_list = []\n",
    "for plist, tags in zip(test_my_songs, test_my_tags):\n",
    "    recommended = song_recommend2(tags, plist, song_tag_appended, 'pea', False, False, True, 'cv')\n",
    "    pred_list.append(recommended['song_id'].tolist())\n",
    "print(pred_list[0])"
   ]
  },
  {
   "cell_type": "code",
   "execution_count": null,
   "id": "4168bf15",
   "metadata": {},
   "outputs": [],
   "source": [
    "map_k = get_map_k(test_my_songs, pred_list, 10)\n",
    "print(\"MAP@K (K=10): {:.3f}\".format(map_k))\n",
    "\n",
    "ndcg = ndcg_at_k(test_my_songs, pred_list, 10)\n",
    "print(\"nDCG: {:.3f}\".format(ndcg))"
   ]
  },
  {
   "cell_type": "markdown",
   "id": "10b2c777",
   "metadata": {},
   "source": [
    "# 태그 불균형 데이터 처리\n",
    "\n",
    "- cv\n",
    "- recommend2"
   ]
  },
  {
   "cell_type": "code",
   "execution_count": null,
   "id": "90f9a066",
   "metadata": {},
   "outputs": [],
   "source": [
    "pred_list = []\n",
    "for plist, tags in zip(test_my_songs, test_my_tags):\n",
    "    recommended = song_recommend2(tags, plist, song_tag_appended, 'cos', True, False, False, 'cv')\n",
    "    pred_list.append(recommended['song_id'].tolist())\n",
    "print(pred_list[0])"
   ]
  },
  {
   "cell_type": "code",
   "execution_count": null,
   "id": "307e5972",
   "metadata": {},
   "outputs": [],
   "source": [
    "map_k = get_map_k(test_my_songs, pred_list, 10)\n",
    "print(\"MAP@K (K=10): {:.3f}\".format(map_k))\n",
    "\n",
    "ndcg = ndcg_at_k(test_my_songs, pred_list, 10)\n",
    "print(\"nDCG: {:.3f}\".format(ndcg))"
   ]
  },
  {
   "cell_type": "code",
   "execution_count": null,
   "id": "65769aa5",
   "metadata": {},
   "outputs": [],
   "source": [
    "pred_list = []\n",
    "for plist, tags in zip(test_my_songs, test_my_tags):\n",
    "    recommended = song_recommend2(tags, plist, song_tag_appended, 'cos', True, False, True, 'cv')\n",
    "    pred_list.append(recommended['song_id'].tolist())\n",
    "print(pred_list[0])"
   ]
  },
  {
   "cell_type": "code",
   "execution_count": null,
   "id": "3d122e74",
   "metadata": {},
   "outputs": [],
   "source": [
    "map_k = get_map_k(test_my_songs, pred_list, 10)\n",
    "print(\"MAP@K (K=10): {:.3f}\".format(map_k))\n",
    "\n",
    "ndcg = ndcg_at_k(test_my_songs, pred_list, 10)\n",
    "print(\"nDCG: {:.3f}\".format(ndcg))"
   ]
  },
  {
   "cell_type": "code",
   "execution_count": null,
   "id": "5897e3d3",
   "metadata": {},
   "outputs": [],
   "source": [
    "pred_list = []\n",
    "for plist, tags in zip(test_my_songs, test_my_tags):\n",
    "    recommended = song_recommend2(tags, plist, song_tag_appended, 'jac', True, False, False, 'cv')\n",
    "    pred_list.append(recommended['song_id'].tolist())\n",
    "print(pred_list[0])"
   ]
  },
  {
   "cell_type": "code",
   "execution_count": null,
   "id": "d151587a",
   "metadata": {},
   "outputs": [],
   "source": [
    "map_k = get_map_k(test_my_songs, pred_list, 10)\n",
    "print(\"MAP@K (K=10): {:.3f}\".format(map_k))\n",
    "\n",
    "ndcg = ndcg_at_k(test_my_songs, pred_list, 10)\n",
    "print(\"nDCG: {:.3f}\".format(ndcg))"
   ]
  },
  {
   "cell_type": "code",
   "execution_count": null,
   "id": "64c6c109",
   "metadata": {},
   "outputs": [],
   "source": [
    "pred_list = []\n",
    "for plist, tags in zip(test_my_songs, test_my_tags):\n",
    "    recommended = song_recommend2(tags, plist, song_tag_appended, 'jac', True, False, True, 'cv')\n",
    "    pred_list.append(recommended['song_id'].tolist())\n",
    "print(pred_list[0])"
   ]
  },
  {
   "cell_type": "code",
   "execution_count": null,
   "id": "73fc9b3c",
   "metadata": {},
   "outputs": [],
   "source": [
    "map_k = get_map_k(test_my_songs, pred_list, 10)\n",
    "print(\"MAP@K (K=10): {:.3f}\".format(map_k))\n",
    "\n",
    "ndcg = ndcg_at_k(test_my_songs, pred_list, 10)\n",
    "print(\"nDCG: {:.3f}\".format(ndcg))"
   ]
  },
  {
   "cell_type": "code",
   "execution_count": null,
   "id": "3ce0ddc0",
   "metadata": {},
   "outputs": [],
   "source": [
    "pred_list = []\n",
    "for plist, tags in zip(test_my_songs, test_my_tags):\n",
    "    recommended = song_recommend2(tags, plist, song_tag_appended, 'pea', True, False, False, 'cv')\n",
    "    pred_list.append(recommended['song_id'].tolist())\n",
    "print(pred_list[0])"
   ]
  },
  {
   "cell_type": "code",
   "execution_count": null,
   "id": "227aca23",
   "metadata": {},
   "outputs": [],
   "source": [
    "map_k = get_map_k(test_my_songs, pred_list, 10)\n",
    "print(\"MAP@K (K=10): {:.3f}\".format(map_k))\n",
    "\n",
    "ndcg = ndcg_at_k(test_my_songs, pred_list, 10)\n",
    "print(\"nDCG: {:.3f}\".format(ndcg))"
   ]
  },
  {
   "cell_type": "code",
   "execution_count": null,
   "id": "05f5d45e",
   "metadata": {},
   "outputs": [],
   "source": [
    "pred_list = []\n",
    "for plist, tags in zip(test_my_songs, test_my_tags):\n",
    "    recommended = song_recommend2(tags, plist, song_tag_appended, 'pea', True, False, True, 'cv')\n",
    "    pred_list.append(recommended['song_id'].tolist())\n",
    "print(pred_list[0])"
   ]
  },
  {
   "cell_type": "code",
   "execution_count": null,
   "id": "be435fb8",
   "metadata": {},
   "outputs": [],
   "source": [
    "map_k = get_map_k(test_my_songs, pred_list, 10)\n",
    "print(\"MAP@K (K=10): {:.3f}\".format(map_k))\n",
    "\n",
    "ndcg = ndcg_at_k(test_my_songs, pred_list, 10)\n",
    "print(\"nDCG: {:.3f}\".format(ndcg))"
   ]
  },
  {
   "cell_type": "markdown",
   "id": "9d8387fb",
   "metadata": {},
   "source": [
    "# 장르 불균형 데이터 처리\n",
    "\n",
    "- cv\n",
    "- recommend2"
   ]
  },
  {
   "cell_type": "code",
   "execution_count": null,
   "id": "7cec9bd4",
   "metadata": {},
   "outputs": [],
   "source": [
    "pred_list = []\n",
    "for plist, tags in zip(test_my_songs, test_my_tags):\n",
    "    recommended = song_recommend2(tags, plist, song_tag_appended, 'cos', False, True, False, 'cv')\n",
    "    pred_list.append(recommended['song_id'].tolist())\n",
    "print(pred_list[0])"
   ]
  },
  {
   "cell_type": "code",
   "execution_count": null,
   "id": "8ff80575",
   "metadata": {},
   "outputs": [],
   "source": [
    "map_k = get_map_k(test_my_songs, pred_list, 10)\n",
    "print(\"MAP@K (K=10): {:.3f}\".format(map_k))\n",
    "\n",
    "ndcg = ndcg_at_k(test_my_songs, pred_list, 10)\n",
    "print(\"nDCG: {:.3f}\".format(ndcg))"
   ]
  },
  {
   "cell_type": "code",
   "execution_count": null,
   "id": "f6689d42",
   "metadata": {},
   "outputs": [],
   "source": [
    "pred_list = []\n",
    "for plist, tags in zip(test_my_songs, test_my_tags):\n",
    "    recommended = song_recommend2(tags, plist, song_tag_appended, 'cos', False, True, True, 'cv')\n",
    "    pred_list.append(recommended['song_id'].tolist())\n",
    "print(pred_list[0])"
   ]
  },
  {
   "cell_type": "code",
   "execution_count": null,
   "id": "0ea74a71",
   "metadata": {},
   "outputs": [],
   "source": [
    "map_k = get_map_k(test_my_songs, pred_list, 10)\n",
    "print(\"MAP@K (K=10): {:.3f}\".format(map_k))\n",
    "\n",
    "ndcg = ndcg_at_k(test_my_songs, pred_list, 10)\n",
    "print(\"nDCG: {:.3f}\".format(ndcg))"
   ]
  },
  {
   "cell_type": "code",
   "execution_count": null,
   "id": "f4c191e0",
   "metadata": {},
   "outputs": [],
   "source": [
    "pred_list = []\n",
    "for plist, tags in zip(test_my_songs, test_my_tags):\n",
    "    recommended = song_recommend2(tags, plist, song_tag_appended, 'jac', False, True, False, 'cv')\n",
    "    pred_list.append(recommended['song_id'].tolist())\n",
    "print(pred_list[0])"
   ]
  },
  {
   "cell_type": "code",
   "execution_count": null,
   "id": "91e1f0e7",
   "metadata": {},
   "outputs": [],
   "source": [
    "map_k = get_map_k(test_my_songs, pred_list, 10)\n",
    "print(\"MAP@K (K=10): {:.3f}\".format(map_k))\n",
    "\n",
    "ndcg = ndcg_at_k(test_my_songs, pred_list, 10)\n",
    "print(\"nDCG: {:.3f}\".format(ndcg))"
   ]
  },
  {
   "cell_type": "code",
   "execution_count": null,
   "id": "d97c2655",
   "metadata": {},
   "outputs": [],
   "source": [
    "pred_list = []\n",
    "for plist, tags in zip(test_my_songs, test_my_tags):\n",
    "    recommended = song_recommend2(tags, plist, song_tag_appended, 'jac', False, True, True, 'cv')\n",
    "    pred_list.append(recommended['song_id'].tolist())\n",
    "print(pred_list[0])"
   ]
  },
  {
   "cell_type": "code",
   "execution_count": null,
   "id": "0d62ba74",
   "metadata": {},
   "outputs": [],
   "source": [
    "map_k = get_map_k(test_my_songs, pred_list, 10)\n",
    "print(\"MAP@K (K=10): {:.3f}\".format(map_k))\n",
    "\n",
    "ndcg = ndcg_at_k(test_my_songs, pred_list, 10)\n",
    "print(\"nDCG: {:.3f}\".format(ndcg))"
   ]
  },
  {
   "cell_type": "code",
   "execution_count": null,
   "id": "c6e7b71d",
   "metadata": {},
   "outputs": [],
   "source": [
    "pred_list = []\n",
    "for plist, tags in zip(test_my_songs, test_my_tags):\n",
    "    recommended = song_recommend2(tags, plist, song_tag_appended, 'pea', False, True, False, 'cv')\n",
    "    pred_list.append(recommended['song_id'].tolist())\n",
    "print(pred_list[0])"
   ]
  },
  {
   "cell_type": "code",
   "execution_count": null,
   "id": "6c3473dc",
   "metadata": {},
   "outputs": [],
   "source": [
    "map_k = get_map_k(test_my_songs, pred_list, 10)\n",
    "print(\"MAP@K (K=10): {:.3f}\".format(map_k))\n",
    "\n",
    "ndcg = ndcg_at_k(test_my_songs, pred_list, 10)\n",
    "print(\"nDCG: {:.3f}\".format(ndcg))"
   ]
  },
  {
   "cell_type": "code",
   "execution_count": null,
   "id": "3a703d33",
   "metadata": {},
   "outputs": [],
   "source": [
    "pred_list = []\n",
    "for plist, tags in zip(test_my_songs, test_my_tags):\n",
    "    recommended = song_recommend2(tags, plist, song_tag_appended, 'pea', False, True, True, 'cv')\n",
    "    pred_list.append(recommended['song_id'].tolist())\n",
    "print(pred_list[0])"
   ]
  },
  {
   "cell_type": "code",
   "execution_count": null,
   "id": "13809ffd",
   "metadata": {},
   "outputs": [],
   "source": [
    "map_k = get_map_k(test_my_songs, pred_list, 10)\n",
    "print(\"MAP@K (K=10): {:.3f}\".format(map_k))\n",
    "\n",
    "ndcg = ndcg_at_k(test_my_songs, pred_list, 10)\n",
    "print(\"nDCG: {:.3f}\".format(ndcg))"
   ]
  },
  {
   "cell_type": "markdown",
   "id": "2c178ed8",
   "metadata": {},
   "source": [
    "# 태그, 장르 불균형 데이터 처리\n",
    "\n",
    "- cv\n",
    "- recommend2"
   ]
  },
  {
   "cell_type": "code",
   "execution_count": null,
   "id": "e77cc4c8",
   "metadata": {},
   "outputs": [],
   "source": [
    "pred_list = []\n",
    "for plist, tags in zip(test_my_songs, test_my_tags):\n",
    "    recommended = song_recommend2(tags, plist, song_tag_appended, 'cos', True, True, False, 'cv')\n",
    "    pred_list.append(recommended['song_id'].tolist())\n",
    "print(pred_list[0])"
   ]
  },
  {
   "cell_type": "code",
   "execution_count": null,
   "id": "d4574c03",
   "metadata": {},
   "outputs": [],
   "source": [
    "map_k = get_map_k(test_my_songs, pred_list, 10)\n",
    "print(\"MAP@K (K=10): {:.3f}\".format(map_k))\n",
    "\n",
    "ndcg = ndcg_at_k(test_my_songs, pred_list, 10)\n",
    "print(\"nDCG: {:.3f}\".format(ndcg))"
   ]
  },
  {
   "cell_type": "code",
   "execution_count": null,
   "id": "c2d5a904",
   "metadata": {},
   "outputs": [],
   "source": [
    "pred_list = []\n",
    "for plist, tags in zip(test_my_songs, test_my_tags):\n",
    "    recommended = song_recommend2(tags, plist, song_tag_appended, 'cos', True, True, True, 'cv')\n",
    "    pred_list.append(recommended['song_id'].tolist())\n",
    "print(pred_list[0])"
   ]
  },
  {
   "cell_type": "code",
   "execution_count": null,
   "id": "88195399",
   "metadata": {},
   "outputs": [],
   "source": [
    "map_k = get_map_k(test_my_songs, pred_list, 10)\n",
    "print(\"MAP@K (K=10): {:.3f}\".format(map_k))\n",
    "\n",
    "ndcg = ndcg_at_k(test_my_songs, pred_list, 10)\n",
    "print(\"nDCG: {:.3f}\".format(ndcg))"
   ]
  },
  {
   "cell_type": "code",
   "execution_count": null,
   "id": "b5ae0003",
   "metadata": {},
   "outputs": [],
   "source": [
    "pred_list = []\n",
    "for plist, tags in zip(test_my_songs, test_my_tags):\n",
    "    recommended = song_recommend2(tags, plist, song_tag_appended, 'jac', True, True, False, 'cv')\n",
    "    pred_list.append(recommended['song_id'].tolist())\n",
    "print(pred_list[0])"
   ]
  },
  {
   "cell_type": "code",
   "execution_count": null,
   "id": "9b34801d",
   "metadata": {},
   "outputs": [],
   "source": [
    "map_k = get_map_k(test_my_songs, pred_list, 10)\n",
    "print(\"MAP@K (K=10): {:.3f}\".format(map_k))\n",
    "\n",
    "ndcg = ndcg_at_k(test_my_songs, pred_list, 10)\n",
    "print(\"nDCG: {:.3f}\".format(ndcg))"
   ]
  },
  {
   "cell_type": "code",
   "execution_count": null,
   "id": "4112d55b",
   "metadata": {},
   "outputs": [],
   "source": [
    "pred_list = []\n",
    "for plist, tags in zip(test_my_songs, test_my_tags):\n",
    "    recommended = song_recommend2(tags, plist, song_tag_appended, 'jac', True, True, True, 'cv')\n",
    "    pred_list.append(recommended['song_id'].tolist())\n",
    "print(pred_list[0])"
   ]
  },
  {
   "cell_type": "code",
   "execution_count": null,
   "id": "86e4be61",
   "metadata": {},
   "outputs": [],
   "source": [
    "map_k = get_map_k(test_my_songs, pred_list, 10)\n",
    "print(\"MAP@K (K=10): {:.3f}\".format(map_k))\n",
    "\n",
    "ndcg = ndcg_at_k(test_my_songs, pred_list, 10)\n",
    "print(\"nDCG: {:.3f}\".format(ndcg))"
   ]
  },
  {
   "cell_type": "code",
   "execution_count": null,
   "id": "a3953998",
   "metadata": {},
   "outputs": [],
   "source": [
    "pred_list = []\n",
    "for plist, tags in zip(test_my_songs, test_my_tags):\n",
    "    recommended = song_recommend2(tags, plist, song_tag_appended, 'pea', True, True, False, 'cv')\n",
    "    pred_list.append(recommended['song_id'].tolist())\n",
    "print(pred_list[0])"
   ]
  },
  {
   "cell_type": "code",
   "execution_count": null,
   "id": "a18c19c6",
   "metadata": {},
   "outputs": [],
   "source": [
    "map_k = get_map_k(test_my_songs, pred_list, 10)\n",
    "print(\"MAP@K (K=10): {:.3f}\".format(map_k))\n",
    "\n",
    "ndcg = ndcg_at_k(test_my_songs, pred_list, 10)\n",
    "print(\"nDCG: {:.3f}\".format(ndcg))"
   ]
  },
  {
   "cell_type": "code",
   "execution_count": null,
   "id": "254e52ce",
   "metadata": {},
   "outputs": [],
   "source": [
    "pred_list = []\n",
    "for plist, tags in zip(test_my_songs, test_my_tags):\n",
    "    recommended = song_recommend2(tags, plist, song_tag_appended, 'pea', True, True, True, 'cv')\n",
    "    pred_list.append(recommended['song_id'].tolist())\n",
    "print(pred_list[0])"
   ]
  },
  {
   "cell_type": "code",
   "execution_count": null,
   "id": "845349c1",
   "metadata": {},
   "outputs": [],
   "source": [
    "map_k = get_map_k(test_my_songs, pred_list, 10)\n",
    "print(\"MAP@K (K=10): {:.3f}\".format(map_k))\n",
    "\n",
    "ndcg = ndcg_at_k(test_my_songs, pred_list, 10)\n",
    "print(\"nDCG: {:.3f}\".format(ndcg))"
   ]
  },
  {
   "cell_type": "markdown",
   "id": "3041cf85",
   "metadata": {},
   "source": [
    "# 태그, 장르 불균형 데이터 처리 X\n",
    "\n",
    "- tf-idf\n",
    "- recommend2"
   ]
  },
  {
   "cell_type": "code",
   "execution_count": null,
   "id": "c28f0184",
   "metadata": {},
   "outputs": [],
   "source": [
    "pred_list = []\n",
    "for plist, tags in zip(test_my_songs, test_my_tags):\n",
    "    recommended = song_recommend2(tags, plist, song_tag_appended, 'cos', False, False, False, 'tf')\n",
    "    pred_list.append(recommended['song_id'].tolist())\n",
    "print(pred_list[0])"
   ]
  },
  {
   "cell_type": "code",
   "execution_count": null,
   "id": "28e8b7a9",
   "metadata": {},
   "outputs": [],
   "source": [
    "map_k = get_map_k(test_my_songs, pred_list, 10)\n",
    "print(\"MAP@K (K=10): {:.3f}\".format(map_k))\n",
    "\n",
    "ndcg = ndcg_at_k(test_my_songs, pred_list, 10)\n",
    "print(\"nDCG: {:.3f}\".format(ndcg))"
   ]
  },
  {
   "cell_type": "code",
   "execution_count": null,
   "id": "faac1af4",
   "metadata": {},
   "outputs": [],
   "source": [
    "pred_list = []\n",
    "for plist, tags in zip(test_my_songs, test_my_tags):\n",
    "    recommended = song_recommend2(tags, plist, song_tag_appended, 'cos', False, False, True, 'tf')\n",
    "    pred_list.append(recommended['song_id'].tolist())\n",
    "print(pred_list[0])"
   ]
  },
  {
   "cell_type": "code",
   "execution_count": null,
   "id": "f730e123",
   "metadata": {},
   "outputs": [],
   "source": [
    "map_k = get_map_k(test_my_songs, pred_list, 10)\n",
    "print(\"MAP@K (K=10): {:.3f}\".format(map_k))\n",
    "\n",
    "ndcg = ndcg_at_k(test_my_songs, pred_list, 10)\n",
    "print(\"nDCG: {:.3f}\".format(ndcg))"
   ]
  },
  {
   "cell_type": "code",
   "execution_count": null,
   "id": "4e8c774e",
   "metadata": {},
   "outputs": [],
   "source": [
    "pred_list = []\n",
    "for plist, tags in zip(test_my_songs, test_my_tags):\n",
    "    recommended = song_recommend2(tags, plist, song_tag_appended, 'jac', False, False, False, 'tf')\n",
    "    pred_list.append(recommended['song_id'].tolist())\n",
    "print(pred_list[0])"
   ]
  },
  {
   "cell_type": "code",
   "execution_count": null,
   "id": "c09dcaa0",
   "metadata": {},
   "outputs": [],
   "source": [
    "map_k = get_map_k(test_my_songs, pred_list, 10)\n",
    "print(\"MAP@K (K=10): {:.3f}\".format(map_k))\n",
    "\n",
    "ndcg = ndcg_at_k(test_my_songs, pred_list, 10)\n",
    "print(\"nDCG: {:.3f}\".format(ndcg))"
   ]
  },
  {
   "cell_type": "code",
   "execution_count": null,
   "id": "4dd3855a",
   "metadata": {},
   "outputs": [],
   "source": [
    "pred_list = []\n",
    "for plist, tags in zip(test_my_songs, test_my_tags):\n",
    "    recommended = song_recommend2(tags, plist, song_tag_appended, 'jac', False, False, True, 'tf')\n",
    "    pred_list.append(recommended['song_id'].tolist())\n",
    "print(pred_list[0])"
   ]
  },
  {
   "cell_type": "code",
   "execution_count": null,
   "id": "80e8151a",
   "metadata": {},
   "outputs": [],
   "source": [
    "map_k = get_map_k(test_my_songs, pred_list, 10)\n",
    "print(\"MAP@K (K=10): {:.3f}\".format(map_k))\n",
    "\n",
    "ndcg = ndcg_at_k(test_my_songs, pred_list, 10)\n",
    "print(\"nDCG: {:.3f}\".format(ndcg))"
   ]
  },
  {
   "cell_type": "code",
   "execution_count": null,
   "id": "0b1b6173",
   "metadata": {},
   "outputs": [],
   "source": [
    "pred_list = []\n",
    "for plist, tags in zip(test_my_songs, test_my_tags):\n",
    "    recommended = song_recommend2(tags, plist, song_tag_appended, 'pea', False, False, False, 'tf')\n",
    "    pred_list.append(recommended['song_id'].tolist())\n",
    "print(pred_list[0])"
   ]
  },
  {
   "cell_type": "code",
   "execution_count": null,
   "id": "93ba07a1",
   "metadata": {},
   "outputs": [],
   "source": [
    "map_k = get_map_k(test_my_songs, pred_list, 10)\n",
    "print(\"MAP@K (K=10): {:.3f}\".format(map_k))\n",
    "\n",
    "ndcg = ndcg_at_k(test_my_songs, pred_list, 10)\n",
    "print(\"nDCG: {:.3f}\".format(ndcg))"
   ]
  },
  {
   "cell_type": "code",
   "execution_count": null,
   "id": "cbe13222",
   "metadata": {},
   "outputs": [],
   "source": [
    "pred_list = []\n",
    "for plist, tags in zip(test_my_songs, test_my_tags):\n",
    "    recommended = song_recommend2(tags, plist, song_tag_appended, 'pea', False, False, True, 'tf')\n",
    "    pred_list.append(recommended['song_id'].tolist())\n",
    "print(pred_list[0])"
   ]
  },
  {
   "cell_type": "code",
   "execution_count": null,
   "id": "9d17ce8d",
   "metadata": {},
   "outputs": [],
   "source": [
    "map_k = get_map_k(test_my_songs, pred_list, 10)\n",
    "print(\"MAP@K (K=10): {:.3f}\".format(map_k))\n",
    "\n",
    "ndcg = ndcg_at_k(test_my_songs, pred_list, 10)\n",
    "print(\"nDCG: {:.3f}\".format(ndcg))"
   ]
  },
  {
   "cell_type": "markdown",
   "id": "a5eb717a",
   "metadata": {},
   "source": [
    "# 태그 불균형 데이터 처리\n",
    "\n",
    "- tf-idf\n",
    "- recommend2"
   ]
  },
  {
   "cell_type": "code",
   "execution_count": null,
   "id": "aba6eda3",
   "metadata": {},
   "outputs": [],
   "source": [
    "pred_list = []\n",
    "for plist, tags in zip(test_my_songs, test_my_tags):\n",
    "    recommended = song_recommend2(tags, plist, song_tag_appended, 'cos', True, False, False, 'tf')\n",
    "    pred_list.append(recommended['song_id'].tolist())\n",
    "print(pred_list[0])"
   ]
  },
  {
   "cell_type": "code",
   "execution_count": null,
   "id": "c0d7ab37",
   "metadata": {},
   "outputs": [],
   "source": [
    "map_k = get_map_k(test_my_songs, pred_list, 10)\n",
    "print(\"MAP@K (K=10): {:.3f}\".format(map_k))\n",
    "\n",
    "ndcg = ndcg_at_k(test_my_songs, pred_list, 10)\n",
    "print(\"nDCG: {:.3f}\".format(ndcg))"
   ]
  },
  {
   "cell_type": "code",
   "execution_count": null,
   "id": "e8efa27d",
   "metadata": {},
   "outputs": [],
   "source": [
    "pred_list = []\n",
    "for plist, tags in zip(test_my_songs, test_my_tags):\n",
    "    recommended = song_recommend2(tags, plist, song_tag_appended, 'cos', True, False, True, 'tf')\n",
    "    pred_list.append(recommended['song_id'].tolist())\n",
    "print(pred_list[0])"
   ]
  },
  {
   "cell_type": "code",
   "execution_count": null,
   "id": "47a4b627",
   "metadata": {},
   "outputs": [],
   "source": [
    "map_k = get_map_k(test_my_songs, pred_list, 10)\n",
    "print(\"MAP@K (K=10): {:.3f}\".format(map_k))\n",
    "\n",
    "ndcg = ndcg_at_k(test_my_songs, pred_list, 10)\n",
    "print(\"nDCG: {:.3f}\".format(ndcg))"
   ]
  },
  {
   "cell_type": "code",
   "execution_count": null,
   "id": "0abe2ffa",
   "metadata": {},
   "outputs": [],
   "source": [
    "pred_list = []\n",
    "for plist, tags in zip(test_my_songs, test_my_tags):\n",
    "    recommended = song_recommend2(tags, plist, song_tag_appended, 'jac', True, False, False, 'tf')\n",
    "    pred_list.append(recommended['song_id'].tolist())\n",
    "print(pred_list[0])"
   ]
  },
  {
   "cell_type": "code",
   "execution_count": null,
   "id": "68c34ccf",
   "metadata": {},
   "outputs": [],
   "source": [
    "map_k = get_map_k(test_my_songs, pred_list, 10)\n",
    "print(\"MAP@K (K=10): {:.3f}\".format(map_k))\n",
    "\n",
    "ndcg = ndcg_at_k(test_my_songs, pred_list, 10)\n",
    "print(\"nDCG: {:.3f}\".format(ndcg))"
   ]
  },
  {
   "cell_type": "code",
   "execution_count": null,
   "id": "11b3c14b",
   "metadata": {},
   "outputs": [],
   "source": [
    "pred_list = []\n",
    "for plist, tags in zip(test_my_songs, test_my_tags):\n",
    "    recommended = song_recommend2(tags, plist, song_tag_appended, 'jac', True, False, True, 'tf')\n",
    "    pred_list.append(recommended['song_id'].tolist())\n",
    "print(pred_list[0])"
   ]
  },
  {
   "cell_type": "code",
   "execution_count": null,
   "id": "5a49b3c5",
   "metadata": {},
   "outputs": [],
   "source": [
    "map_k = get_map_k(test_my_songs, pred_list, 10)\n",
    "print(\"MAP@K (K=10): {:.3f}\".format(map_k))\n",
    "\n",
    "ndcg = ndcg_at_k(test_my_songs, pred_list, 10)\n",
    "print(\"nDCG: {:.3f}\".format(ndcg))"
   ]
  },
  {
   "cell_type": "code",
   "execution_count": null,
   "id": "fb917246",
   "metadata": {},
   "outputs": [],
   "source": [
    "pred_list = []\n",
    "for plist, tags in zip(test_my_songs, test_my_tags):\n",
    "    recommended = song_recommend2(tags, plist, song_tag_appended, 'pea', True, False, False, 'tf')\n",
    "    pred_list.append(recommended['song_id'].tolist())\n",
    "print(pred_list[0])"
   ]
  },
  {
   "cell_type": "code",
   "execution_count": null,
   "id": "4d29cbc4",
   "metadata": {},
   "outputs": [],
   "source": [
    "map_k = get_map_k(test_my_songs, pred_list, 10)\n",
    "print(\"MAP@K (K=10): {:.3f}\".format(map_k))\n",
    "\n",
    "ndcg = ndcg_at_k(test_my_songs, pred_list, 10)\n",
    "print(\"nDCG: {:.3f}\".format(ndcg))"
   ]
  },
  {
   "cell_type": "code",
   "execution_count": null,
   "id": "a6cb2cc7",
   "metadata": {},
   "outputs": [],
   "source": [
    "pred_list = []\n",
    "for plist, tags in zip(test_my_songs, test_my_tags):\n",
    "    recommended = song_recommend2(tags, plist, song_tag_appended, 'pea', True, False, True, 'tf')\n",
    "    pred_list.append(recommended['song_id'].tolist())\n",
    "print(pred_list[0])"
   ]
  },
  {
   "cell_type": "code",
   "execution_count": null,
   "id": "5905fc07",
   "metadata": {},
   "outputs": [],
   "source": [
    "map_k = get_map_k(test_my_songs, pred_list, 10)\n",
    "print(\"MAP@K (K=10): {:.3f}\".format(map_k))\n",
    "\n",
    "ndcg = ndcg_at_k(test_my_songs, pred_list, 10)\n",
    "print(\"nDCG: {:.3f}\".format(ndcg))"
   ]
  },
  {
   "cell_type": "markdown",
   "id": "e8c7c1e3",
   "metadata": {},
   "source": [
    "# 장르 불균형 데이터 처리\n",
    "\n",
    "- tf-idf\n",
    "- recommend2"
   ]
  },
  {
   "cell_type": "code",
   "execution_count": null,
   "id": "f92dd77a",
   "metadata": {},
   "outputs": [],
   "source": [
    "pred_list = []\n",
    "for plist, tags in zip(test_my_songs, test_my_tags):\n",
    "    recommended = song_recommend2(tags, plist, song_tag_appended, 'cos', False, True, False, 'tf')\n",
    "    pred_list.append(recommended['song_id'].tolist())\n",
    "print(pred_list[0])"
   ]
  },
  {
   "cell_type": "code",
   "execution_count": null,
   "id": "9cae34c2",
   "metadata": {},
   "outputs": [],
   "source": [
    "map_k = get_map_k(test_my_songs, pred_list, 10)\n",
    "print(\"MAP@K (K=10): {:.3f}\".format(map_k))\n",
    "\n",
    "ndcg = ndcg_at_k(test_my_songs, pred_list, 10)\n",
    "print(\"nDCG: {:.3f}\".format(ndcg))"
   ]
  },
  {
   "cell_type": "code",
   "execution_count": null,
   "id": "1cb485c6",
   "metadata": {},
   "outputs": [],
   "source": [
    "pred_list = []\n",
    "for plist, tags in zip(test_my_songs, test_my_tags):\n",
    "    recommended = song_recommend2(tags, plist, song_tag_appended, 'cos', False, True, True, 'tf')\n",
    "    pred_list.append(recommended['song_id'].tolist())\n",
    "print(pred_list[0])"
   ]
  },
  {
   "cell_type": "code",
   "execution_count": null,
   "id": "81a458bd",
   "metadata": {},
   "outputs": [],
   "source": [
    "map_k = get_map_k(test_my_songs, pred_list, 10)\n",
    "print(\"MAP@K (K=10): {:.3f}\".format(map_k))\n",
    "\n",
    "ndcg = ndcg_at_k(test_my_songs, pred_list, 10)\n",
    "print(\"nDCG: {:.3f}\".format(ndcg))"
   ]
  },
  {
   "cell_type": "code",
   "execution_count": null,
   "id": "5a351340",
   "metadata": {},
   "outputs": [],
   "source": [
    "pred_list = []\n",
    "for plist, tags in zip(test_my_songs, test_my_tags):\n",
    "    recommended = song_recommend2(tags, plist, song_tag_appended, 'jac', False, True, False, 'tf')\n",
    "    pred_list.append(recommended['song_id'].tolist())\n",
    "print(pred_list[0])"
   ]
  },
  {
   "cell_type": "code",
   "execution_count": null,
   "id": "275d9fd5",
   "metadata": {},
   "outputs": [],
   "source": [
    "map_k = get_map_k(test_my_songs, pred_list, 10)\n",
    "print(\"MAP@K (K=10): {:.3f}\".format(map_k))\n",
    "\n",
    "ndcg = ndcg_at_k(test_my_songs, pred_list, 10)\n",
    "print(\"nDCG: {:.3f}\".format(ndcg))"
   ]
  },
  {
   "cell_type": "code",
   "execution_count": null,
   "id": "9999acfb",
   "metadata": {},
   "outputs": [],
   "source": [
    "pred_list = []\n",
    "for plist, tags in zip(test_my_songs, test_my_tags):\n",
    "    recommended = song_recommend2(tags, plist, song_tag_appended, 'jac', False, True, True, 'tf')\n",
    "    pred_list.append(recommended['song_id'].tolist())\n",
    "print(pred_list[0])"
   ]
  },
  {
   "cell_type": "code",
   "execution_count": null,
   "id": "3b16bad4",
   "metadata": {},
   "outputs": [],
   "source": [
    "map_k = get_map_k(test_my_songs, pred_list, 10)\n",
    "print(\"MAP@K (K=10): {:.3f}\".format(map_k))\n",
    "\n",
    "ndcg = ndcg_at_k(test_my_songs, pred_list, 10)\n",
    "print(\"nDCG: {:.3f}\".format(ndcg))"
   ]
  },
  {
   "cell_type": "code",
   "execution_count": null,
   "id": "7a8c092f",
   "metadata": {},
   "outputs": [],
   "source": [
    "pred_list = []\n",
    "for plist, tags in zip(test_my_songs, test_my_tags):\n",
    "    recommended = song_recommend2(tags, plist, song_tag_appended, 'pea', False, True, False, 'tf')\n",
    "    pred_list.append(recommended['song_id'].tolist())\n",
    "print(pred_list[0])"
   ]
  },
  {
   "cell_type": "code",
   "execution_count": null,
   "id": "246f5c6a",
   "metadata": {},
   "outputs": [],
   "source": [
    "map_k = get_map_k(test_my_songs, pred_list, 10)\n",
    "print(\"MAP@K (K=10): {:.3f}\".format(map_k))\n",
    "\n",
    "ndcg = ndcg_at_k(test_my_songs, pred_list, 10)\n",
    "print(\"nDCG: {:.3f}\".format(ndcg))"
   ]
  },
  {
   "cell_type": "code",
   "execution_count": null,
   "id": "9aee42f3",
   "metadata": {},
   "outputs": [],
   "source": [
    "pred_list = []\n",
    "for plist, tags in zip(test_my_songs, test_my_tags):\n",
    "    recommended = song_recommend2(tags, plist, song_tag_appended, 'pea', False, True, True, 'tf')\n",
    "    pred_list.append(recommended['song_id'].tolist())\n",
    "print(pred_list[0])"
   ]
  },
  {
   "cell_type": "code",
   "execution_count": null,
   "id": "94f8f888",
   "metadata": {},
   "outputs": [],
   "source": [
    "map_k = get_map_k(test_my_songs, pred_list, 10)\n",
    "print(\"MAP@K (K=10): {:.3f}\".format(map_k))\n",
    "\n",
    "ndcg = ndcg_at_k(test_my_songs, pred_list, 10)\n",
    "print(\"nDCG: {:.3f}\".format(ndcg))"
   ]
  },
  {
   "cell_type": "markdown",
   "id": "06900fc0",
   "metadata": {},
   "source": [
    "# 태그, 장르 불균형 데이터 처리\n",
    "\n",
    "- tf-idf\n",
    "- recommend2"
   ]
  },
  {
   "cell_type": "code",
   "execution_count": null,
   "id": "c87c0da1",
   "metadata": {},
   "outputs": [],
   "source": [
    "pred_list = []\n",
    "for plist, tags in zip(test_my_songs, test_my_tags):\n",
    "    recommended = song_recommend2(tags, plist, song_tag_appended, 'cos', True, True, False, 'tf')\n",
    "    pred_list.append(recommended['song_id'].tolist())\n",
    "print(pred_list[0])"
   ]
  },
  {
   "cell_type": "code",
   "execution_count": null,
   "id": "4957c95e",
   "metadata": {},
   "outputs": [],
   "source": [
    "map_k = get_map_k(test_my_songs, pred_list, 10)\n",
    "print(\"MAP@K (K=10): {:.3f}\".format(map_k))\n",
    "\n",
    "ndcg = ndcg_at_k(test_my_songs, pred_list, 10)\n",
    "print(\"nDCG: {:.3f}\".format(ndcg))"
   ]
  },
  {
   "cell_type": "code",
   "execution_count": null,
   "id": "32487cef",
   "metadata": {},
   "outputs": [],
   "source": [
    "pred_list = []\n",
    "for plist, tags in zip(test_my_songs, test_my_tags):\n",
    "    recommended = song_recommend2(tags, plist, song_tag_appended, 'cos', True, True, True, 'tf')\n",
    "    pred_list.append(recommended['song_id'].tolist())\n",
    "print(pred_list[0])"
   ]
  },
  {
   "cell_type": "code",
   "execution_count": null,
   "id": "1b57f478",
   "metadata": {},
   "outputs": [],
   "source": [
    "map_k = get_map_k(test_my_songs, pred_list, 10)\n",
    "print(\"MAP@K (K=10): {:.3f}\".format(map_k))\n",
    "\n",
    "ndcg = ndcg_at_k(test_my_songs, pred_list, 10)\n",
    "print(\"nDCG: {:.3f}\".format(ndcg))"
   ]
  },
  {
   "cell_type": "code",
   "execution_count": null,
   "id": "bce7dd5c",
   "metadata": {},
   "outputs": [],
   "source": [
    "pred_list = []\n",
    "for plist, tags in zip(test_my_songs, test_my_tags):\n",
    "    recommended = song_recommend2(tags, plist, song_tag_appended, 'jac', True, True, False, 'tf')\n",
    "    pred_list.append(recommended['song_id'].tolist())\n",
    "print(pred_list[0])"
   ]
  },
  {
   "cell_type": "code",
   "execution_count": null,
   "id": "c30982ee",
   "metadata": {},
   "outputs": [],
   "source": [
    "map_k = get_map_k(test_my_songs, pred_list, 10)\n",
    "print(\"MAP@K (K=10): {:.3f}\".format(map_k))\n",
    "\n",
    "ndcg = ndcg_at_k(test_my_songs, pred_list, 10)\n",
    "print(\"nDCG: {:.3f}\".format(ndcg))"
   ]
  },
  {
   "cell_type": "code",
   "execution_count": null,
   "id": "d4ae44c3",
   "metadata": {},
   "outputs": [],
   "source": [
    "pred_list = []\n",
    "for plist, tags in zip(test_my_songs, test_my_tags):\n",
    "    recommended = song_recommend2(tags, plist, song_tag_appended, 'jac', True, True, True, 'tf')\n",
    "    pred_list.append(recommended['song_id'].tolist())\n",
    "print(pred_list[0])"
   ]
  },
  {
   "cell_type": "code",
   "execution_count": null,
   "id": "dd06a7c2",
   "metadata": {},
   "outputs": [],
   "source": [
    "map_k = get_map_k(test_my_songs, pred_list, 10)\n",
    "print(\"MAP@K (K=10): {:.3f}\".format(map_k))\n",
    "\n",
    "ndcg = ndcg_at_k(test_my_songs, pred_list, 10)\n",
    "print(\"nDCG: {:.3f}\".format(ndcg))"
   ]
  },
  {
   "cell_type": "code",
   "execution_count": null,
   "id": "c4c44743",
   "metadata": {},
   "outputs": [],
   "source": [
    "pred_list = []\n",
    "for plist, tags in zip(test_my_songs, test_my_tags):\n",
    "    recommended = song_recommend2(tags, plist, song_tag_appended, 'pea', True, True, False, 'tf')\n",
    "    pred_list.append(recommended['song_id'].tolist())\n",
    "print(pred_list[0])"
   ]
  },
  {
   "cell_type": "code",
   "execution_count": null,
   "id": "e2d5faff",
   "metadata": {},
   "outputs": [],
   "source": [
    "map_k = get_map_k(test_my_songs, pred_list, 10)\n",
    "print(\"MAP@K (K=10): {:.3f}\".format(map_k))\n",
    "\n",
    "ndcg = ndcg_at_k(test_my_songs, pred_list, 10)\n",
    "print(\"nDCG: {:.3f}\".format(ndcg))"
   ]
  },
  {
   "cell_type": "code",
   "execution_count": null,
   "id": "3c2f0eee",
   "metadata": {},
   "outputs": [],
   "source": [
    "pred_list = []\n",
    "for plist, tags in zip(test_my_songs, test_my_tags):\n",
    "    recommended = song_recommend2(tags, plist, song_tag_appended, 'pea', True, True, True, 'tf')\n",
    "    pred_list.append(recommended['song_id'].tolist())\n",
    "print(pred_list[0])"
   ]
  },
  {
   "cell_type": "code",
   "execution_count": null,
   "id": "795a1c0f",
   "metadata": {},
   "outputs": [],
   "source": [
    "map_k = get_map_k(test_my_songs, pred_list, 10)\n",
    "print(\"MAP@K (K=10): {:.3f}\".format(map_k))\n",
    "\n",
    "ndcg = ndcg_at_k(test_my_songs, pred_list, 10)\n",
    "print(\"nDCG: {:.3f}\".format(ndcg))"
   ]
  },
  {
   "cell_type": "markdown",
   "id": "0db59c7f",
   "metadata": {},
   "source": [
    "## 태그 세트 생성"
   ]
  },
  {
   "cell_type": "code",
   "execution_count": null,
   "id": "4284f6f0",
   "metadata": {},
   "outputs": [],
   "source": [
    "def make_tag_set(data):\n",
    "    tag_set = set()\n",
    "\n",
    "    for i in range(len(data)):\n",
    "        tag = data['tags'][i]\n",
    "    \n",
    "        for j in tag:\n",
    "            tag_set.add(j)\n",
    "\n",
    "    return tag_set"
   ]
  },
  {
   "cell_type": "code",
   "execution_count": null,
   "id": "af7cc036",
   "metadata": {},
   "outputs": [],
   "source": [
    "tag_set = make_tag_set(train_data_sample2)\n",
    "print(tag_set)"
   ]
  },
  {
   "cell_type": "markdown",
   "id": "7f2bbf8a",
   "metadata": {},
   "source": [
    "## 태그 불균형 데이터"
   ]
  },
  {
   "cell_type": "markdown",
   "id": "4f895554",
   "metadata": {},
   "source": [
    "## 불균형 정도 측정\n",
    "\n",
    "- 한 태그를 가지는 음악의 최대 개수, 한 태그를 가지는 음악의 개수를 추출\n",
    "- 가중치 부여에 관해서는 논의가 필요"
   ]
  },
  {
   "cell_type": "code",
   "execution_count": null,
   "id": "6f8df040",
   "metadata": {},
   "outputs": [],
   "source": [
    "def make_song_num_dict(data):\n",
    "    song_ids = dict()\n",
    "    song_num = dict()\n",
    "    max_num = 0\n",
    "    \n",
    "    for i in range(len(data)):\n",
    "        songs = data['song_id'][i]\n",
    "        tags = data['tags'][i]\n",
    "        \n",
    "        for j in tags:\n",
    "            if not j in song_ids:\n",
    "                song_ids[j] = set(songs)\n",
    "            \n",
    "            else:\n",
    "                song_ids[j].update(songs)\n",
    "    \n",
    "    for i in song_ids:\n",
    "        song_num[i] = len(song_ids[i])\n",
    "        \n",
    "        max_num = max(song_num[i], max_num)\n",
    "    \n",
    "    return song_num, max_num"
   ]
  },
  {
   "cell_type": "code",
   "execution_count": null,
   "id": "1a45d725",
   "metadata": {},
   "outputs": [],
   "source": [
    "song_num_dict, song_num_max = make_song_num_dict(train_data_sample2)\n",
    "print(song_num_max)\n",
    "print(song_num_dict)"
   ]
  },
  {
   "cell_type": "markdown",
   "id": "9b7e73bd",
   "metadata": {},
   "source": [
    "## 장르 데이터"
   ]
  },
  {
   "cell_type": "markdown",
   "id": "037279dd",
   "metadata": {},
   "source": [
    "## 불균형 데이터 처리"
   ]
  },
  {
   "cell_type": "code",
   "execution_count": null,
   "id": "76dd8271",
   "metadata": {},
   "outputs": [],
   "source": [
    "def make_genre_num_dict(appended_data):\n",
    "    song_ids = dict()\n",
    "    song_num = dict()\n",
    "    max_num = 0\n",
    "    \n",
    "    for i in range(len(appended_data)):\n",
    "        song = appended_data['song_id'][i]\n",
    "        gnrs = appended_data['gnr'][i]\n",
    "        \n",
    "        for j in gnrs:\n",
    "            if not j in song_ids:\n",
    "                song_ids[j] = {song}\n",
    "            \n",
    "            else:\n",
    "                song_ids[j].add(song)\n",
    "    \n",
    "    for i in song_ids:\n",
    "        song_num[i] = len(song_ids[i])\n",
    "        \n",
    "        max_num = max(song_num[i], max_num)\n",
    "    \n",
    "    return song_num, max_num"
   ]
  },
  {
   "cell_type": "code",
   "execution_count": null,
   "id": "3914fa84",
   "metadata": {},
   "outputs": [],
   "source": [
    "genre_num_dict, genre_num_max = make_genre_num_dict(song_tag_appended)\n",
    "print(genre_num_max)\n",
    "print(genre_num_dict)"
   ]
  },
  {
   "cell_type": "code",
   "execution_count": null,
   "id": "d5ba52cb",
   "metadata": {},
   "outputs": [],
   "source": []
  }
 ],
 "metadata": {
  "kernelspec": {
   "display_name": "[Tensorflow2.x]",
   "language": "python",
   "name": "week14"
  },
  "language_info": {
   "codemirror_mode": {
    "name": "ipython",
    "version": 3
   },
   "file_extension": ".py",
   "mimetype": "text/x-python",
   "name": "python",
   "nbconvert_exporter": "python",
   "pygments_lexer": "ipython3",
   "version": "3.10.9"
  }
 },
 "nbformat": 4,
 "nbformat_minor": 5
}
