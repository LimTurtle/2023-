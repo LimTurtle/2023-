{
 "cells": [
  {
   "cell_type": "markdown",
   "id": "3623a464",
   "metadata": {},
   "source": [
    "## 데이터 로드"
   ]
  },
  {
   "cell_type": "code",
   "execution_count": 13,
   "id": "1bf46884",
   "metadata": {},
   "outputs": [],
   "source": [
    "import json\n",
    "import pandas as pd\n",
    "import math\n",
    "import numpy as np\n",
    "\n",
    "with open('../Datasets/train.json', 'r', encoding='utf-8') as f:\n",
    "    json_data = json.load(f)"
   ]
  },
  {
   "cell_type": "code",
   "execution_count": 14,
   "id": "d7e6ed51",
   "metadata": {},
   "outputs": [
    {
     "data": {
      "text/html": [
       "<div>\n",
       "<style scoped>\n",
       "    .dataframe tbody tr th:only-of-type {\n",
       "        vertical-align: middle;\n",
       "    }\n",
       "\n",
       "    .dataframe tbody tr th {\n",
       "        vertical-align: top;\n",
       "    }\n",
       "\n",
       "    .dataframe thead th {\n",
       "        text-align: right;\n",
       "    }\n",
       "</style>\n",
       "<table border=\"1\" class=\"dataframe\">\n",
       "  <thead>\n",
       "    <tr style=\"text-align: right;\">\n",
       "      <th></th>\n",
       "      <th>tags</th>\n",
       "      <th>songs</th>\n",
       "      <th>like_cnt</th>\n",
       "    </tr>\n",
       "  </thead>\n",
       "  <tbody>\n",
       "    <tr>\n",
       "      <th>0</th>\n",
       "      <td>[락]</td>\n",
       "      <td>[525514, 129701, 383374, 562083, 297861, 13954...</td>\n",
       "      <td>71</td>\n",
       "    </tr>\n",
       "    <tr>\n",
       "      <th>1</th>\n",
       "      <td>[추억, 회상]</td>\n",
       "      <td>[432406, 675945, 497066, 120377, 389529, 24427...</td>\n",
       "      <td>1</td>\n",
       "    </tr>\n",
       "    <tr>\n",
       "      <th>2</th>\n",
       "      <td>[까페, 잔잔한]</td>\n",
       "      <td>[83116, 276692, 166267, 186301, 354465, 256598...</td>\n",
       "      <td>17</td>\n",
       "    </tr>\n",
       "    <tr>\n",
       "      <th>3</th>\n",
       "      <td>[연말, 눈오는날, 캐럴, 분위기, 따듯한, 크리스마스캐럴, 겨울노래, 크리스마스,...</td>\n",
       "      <td>[394031, 195524, 540149, 287984, 440773, 10033...</td>\n",
       "      <td>33</td>\n",
       "    </tr>\n",
       "    <tr>\n",
       "      <th>4</th>\n",
       "      <td>[댄스]</td>\n",
       "      <td>[159327, 553610, 5130, 645103, 294435, 100657,...</td>\n",
       "      <td>9</td>\n",
       "    </tr>\n",
       "  </tbody>\n",
       "</table>\n",
       "</div>"
      ],
      "text/plain": [
       "                                                tags  \\\n",
       "0                                                [락]   \n",
       "1                                           [추억, 회상]   \n",
       "2                                          [까페, 잔잔한]   \n",
       "3  [연말, 눈오는날, 캐럴, 분위기, 따듯한, 크리스마스캐럴, 겨울노래, 크리스마스,...   \n",
       "4                                               [댄스]   \n",
       "\n",
       "                                               songs  like_cnt  \n",
       "0  [525514, 129701, 383374, 562083, 297861, 13954...        71  \n",
       "1  [432406, 675945, 497066, 120377, 389529, 24427...         1  \n",
       "2  [83116, 276692, 166267, 186301, 354465, 256598...        17  \n",
       "3  [394031, 195524, 540149, 287984, 440773, 10033...        33  \n",
       "4  [159327, 553610, 5130, 645103, 294435, 100657,...         9  "
      ]
     },
     "execution_count": 14,
     "metadata": {},
     "output_type": "execute_result"
    }
   ],
   "source": [
    "train_data = pd.DataFrame(json_data)\n",
    "train_data = train_data.drop(['id', 'plylst_title', 'updt_date'], axis=1)\n",
    "train_data.head()"
   ]
  },
  {
   "cell_type": "code",
   "execution_count": 15,
   "id": "cc61bcc3",
   "metadata": {},
   "outputs": [],
   "source": [
    "with open('../Datasets/song_meta_with_likes.json', 'r', encoding='utf-8') as f:\n",
    "    json_data = json.load(f)"
   ]
  },
  {
   "cell_type": "code",
   "execution_count": 16,
   "id": "9d00a9fe",
   "metadata": {},
   "outputs": [
    {
     "data": {
      "text/html": [
       "<div>\n",
       "<style scoped>\n",
       "    .dataframe tbody tr th:only-of-type {\n",
       "        vertical-align: middle;\n",
       "    }\n",
       "\n",
       "    .dataframe tbody tr th {\n",
       "        vertical-align: top;\n",
       "    }\n",
       "\n",
       "    .dataframe thead th {\n",
       "        text-align: right;\n",
       "    }\n",
       "</style>\n",
       "<table border=\"1\" class=\"dataframe\">\n",
       "  <thead>\n",
       "    <tr style=\"text-align: right;\">\n",
       "      <th></th>\n",
       "      <th>song_gn_dtl_gnr_basket</th>\n",
       "      <th>issue_date</th>\n",
       "      <th>album_id</th>\n",
       "      <th>artist_id_basket</th>\n",
       "      <th>song_name</th>\n",
       "      <th>artist_name_basket</th>\n",
       "      <th>id</th>\n",
       "      <th>like_cnt_song</th>\n",
       "    </tr>\n",
       "  </thead>\n",
       "  <tbody>\n",
       "    <tr>\n",
       "      <th>0</th>\n",
       "      <td>[GN0901]</td>\n",
       "      <td>20140512</td>\n",
       "      <td>2255639</td>\n",
       "      <td>[2727]</td>\n",
       "      <td>Feelings</td>\n",
       "      <td>[Various Artists]</td>\n",
       "      <td>0</td>\n",
       "      <td>0.616807</td>\n",
       "    </tr>\n",
       "    <tr>\n",
       "      <th>1</th>\n",
       "      <td>[GN1601, GN1606]</td>\n",
       "      <td>20080421</td>\n",
       "      <td>376431</td>\n",
       "      <td>[29966]</td>\n",
       "      <td>Bach : Partita No. 4 In D Major, BWV 828 - II....</td>\n",
       "      <td>[Murray Perahia]</td>\n",
       "      <td>1</td>\n",
       "      <td>0.000000</td>\n",
       "    </tr>\n",
       "    <tr>\n",
       "      <th>2</th>\n",
       "      <td>[GN0901]</td>\n",
       "      <td>20180518</td>\n",
       "      <td>4698747</td>\n",
       "      <td>[3361]</td>\n",
       "      <td>Solsbury Hill (Remastered 2002)</td>\n",
       "      <td>[Peter Gabriel]</td>\n",
       "      <td>2</td>\n",
       "      <td>0.000000</td>\n",
       "    </tr>\n",
       "    <tr>\n",
       "      <th>3</th>\n",
       "      <td>[GN1102, GN1101]</td>\n",
       "      <td>20151016</td>\n",
       "      <td>2644882</td>\n",
       "      <td>[838543]</td>\n",
       "      <td>Feeling Right (Everything Is Nice) (Feat. Popc...</td>\n",
       "      <td>[Matoma]</td>\n",
       "      <td>3</td>\n",
       "      <td>22.996574</td>\n",
       "    </tr>\n",
       "    <tr>\n",
       "      <th>4</th>\n",
       "      <td>[GN1802, GN1801]</td>\n",
       "      <td>20110824</td>\n",
       "      <td>2008470</td>\n",
       "      <td>[560160]</td>\n",
       "      <td>그남자 그여자</td>\n",
       "      <td>[Jude Law]</td>\n",
       "      <td>4</td>\n",
       "      <td>0.297234</td>\n",
       "    </tr>\n",
       "  </tbody>\n",
       "</table>\n",
       "</div>"
      ],
      "text/plain": [
       "  song_gn_dtl_gnr_basket issue_date  album_id artist_id_basket  \\\n",
       "0               [GN0901]   20140512   2255639           [2727]   \n",
       "1       [GN1601, GN1606]   20080421    376431          [29966]   \n",
       "2               [GN0901]   20180518   4698747           [3361]   \n",
       "3       [GN1102, GN1101]   20151016   2644882         [838543]   \n",
       "4       [GN1802, GN1801]   20110824   2008470         [560160]   \n",
       "\n",
       "                                           song_name artist_name_basket  id  \\\n",
       "0                                           Feelings  [Various Artists]   0   \n",
       "1  Bach : Partita No. 4 In D Major, BWV 828 - II....   [Murray Perahia]   1   \n",
       "2                    Solsbury Hill (Remastered 2002)    [Peter Gabriel]   2   \n",
       "3  Feeling Right (Everything Is Nice) (Feat. Popc...           [Matoma]   3   \n",
       "4                                            그남자 그여자         [Jude Law]   4   \n",
       "\n",
       "   like_cnt_song  \n",
       "0       0.616807  \n",
       "1       0.000000  \n",
       "2       0.000000  \n",
       "3      22.996574  \n",
       "4       0.297234  "
      ]
     },
     "execution_count": 16,
     "metadata": {},
     "output_type": "execute_result"
    }
   ],
   "source": [
    "song_data = pd.DataFrame(json_data)\n",
    "song_data = song_data.drop(['album_name', 'song_gn_gnr_basket'], axis=1)\n",
    "song_data.head()"
   ]
  },
  {
   "cell_type": "markdown",
   "id": "bcf2ecba",
   "metadata": {},
   "source": [
    "## 데이터 열 이름 변경"
   ]
  },
  {
   "cell_type": "code",
   "execution_count": 17,
   "id": "36cf5e58",
   "metadata": {},
   "outputs": [
    {
     "data": {
      "text/html": [
       "<div>\n",
       "<style scoped>\n",
       "    .dataframe tbody tr th:only-of-type {\n",
       "        vertical-align: middle;\n",
       "    }\n",
       "\n",
       "    .dataframe tbody tr th {\n",
       "        vertical-align: top;\n",
       "    }\n",
       "\n",
       "    .dataframe thead th {\n",
       "        text-align: right;\n",
       "    }\n",
       "</style>\n",
       "<table border=\"1\" class=\"dataframe\">\n",
       "  <thead>\n",
       "    <tr style=\"text-align: right;\">\n",
       "      <th></th>\n",
       "      <th>tags</th>\n",
       "      <th>song_id</th>\n",
       "      <th>like_cnt</th>\n",
       "    </tr>\n",
       "  </thead>\n",
       "  <tbody>\n",
       "    <tr>\n",
       "      <th>0</th>\n",
       "      <td>[락]</td>\n",
       "      <td>[525514, 129701, 383374, 562083, 297861, 13954...</td>\n",
       "      <td>71</td>\n",
       "    </tr>\n",
       "    <tr>\n",
       "      <th>1</th>\n",
       "      <td>[추억, 회상]</td>\n",
       "      <td>[432406, 675945, 497066, 120377, 389529, 24427...</td>\n",
       "      <td>1</td>\n",
       "    </tr>\n",
       "    <tr>\n",
       "      <th>2</th>\n",
       "      <td>[까페, 잔잔한]</td>\n",
       "      <td>[83116, 276692, 166267, 186301, 354465, 256598...</td>\n",
       "      <td>17</td>\n",
       "    </tr>\n",
       "    <tr>\n",
       "      <th>3</th>\n",
       "      <td>[연말, 눈오는날, 캐럴, 분위기, 따듯한, 크리스마스캐럴, 겨울노래, 크리스마스,...</td>\n",
       "      <td>[394031, 195524, 540149, 287984, 440773, 10033...</td>\n",
       "      <td>33</td>\n",
       "    </tr>\n",
       "    <tr>\n",
       "      <th>4</th>\n",
       "      <td>[댄스]</td>\n",
       "      <td>[159327, 553610, 5130, 645103, 294435, 100657,...</td>\n",
       "      <td>9</td>\n",
       "    </tr>\n",
       "  </tbody>\n",
       "</table>\n",
       "</div>"
      ],
      "text/plain": [
       "                                                tags  \\\n",
       "0                                                [락]   \n",
       "1                                           [추억, 회상]   \n",
       "2                                          [까페, 잔잔한]   \n",
       "3  [연말, 눈오는날, 캐럴, 분위기, 따듯한, 크리스마스캐럴, 겨울노래, 크리스마스,...   \n",
       "4                                               [댄스]   \n",
       "\n",
       "                                             song_id  like_cnt  \n",
       "0  [525514, 129701, 383374, 562083, 297861, 13954...        71  \n",
       "1  [432406, 675945, 497066, 120377, 389529, 24427...         1  \n",
       "2  [83116, 276692, 166267, 186301, 354465, 256598...        17  \n",
       "3  [394031, 195524, 540149, 287984, 440773, 10033...        33  \n",
       "4  [159327, 553610, 5130, 645103, 294435, 100657,...         9  "
      ]
     },
     "execution_count": 17,
     "metadata": {},
     "output_type": "execute_result"
    }
   ],
   "source": [
    "train_data.rename(columns={'songs':'song_id'}, inplace=True)\n",
    "train_data.head()"
   ]
  },
  {
   "cell_type": "markdown",
   "id": "e2dcc1c1",
   "metadata": {},
   "source": [
    "## 데이터 추출\n",
    "\n",
    "- 500개의 플레이리스트 추출"
   ]
  },
  {
   "cell_type": "code",
   "execution_count": 18,
   "id": "9bec8482",
   "metadata": {},
   "outputs": [],
   "source": [
    "train_data_sample = train_data[:2000].copy()\n",
    "train_data_sample = train_data_sample.reset_index(drop=True)\n",
    "#train_data_sample = train_data"
   ]
  },
  {
   "cell_type": "code",
   "execution_count": 19,
   "id": "06c5ffc9",
   "metadata": {},
   "outputs": [
    {
     "data": {
      "text/html": [
       "<div>\n",
       "<style scoped>\n",
       "    .dataframe tbody tr th:only-of-type {\n",
       "        vertical-align: middle;\n",
       "    }\n",
       "\n",
       "    .dataframe tbody tr th {\n",
       "        vertical-align: top;\n",
       "    }\n",
       "\n",
       "    .dataframe thead th {\n",
       "        text-align: right;\n",
       "    }\n",
       "</style>\n",
       "<table border=\"1\" class=\"dataframe\">\n",
       "  <thead>\n",
       "    <tr style=\"text-align: right;\">\n",
       "      <th></th>\n",
       "      <th>gnr</th>\n",
       "      <th>issue_date</th>\n",
       "      <th>album_id</th>\n",
       "      <th>artist_id_basket</th>\n",
       "      <th>song_name</th>\n",
       "      <th>artist_name_basket</th>\n",
       "      <th>song_id</th>\n",
       "      <th>like_cnt_song</th>\n",
       "    </tr>\n",
       "  </thead>\n",
       "  <tbody>\n",
       "    <tr>\n",
       "      <th>0</th>\n",
       "      <td>[GN0901]</td>\n",
       "      <td>20140512</td>\n",
       "      <td>2255639</td>\n",
       "      <td>[2727]</td>\n",
       "      <td>Feelings</td>\n",
       "      <td>[Various Artists]</td>\n",
       "      <td>0</td>\n",
       "      <td>0.616807</td>\n",
       "    </tr>\n",
       "    <tr>\n",
       "      <th>1</th>\n",
       "      <td>[GN1601, GN1606]</td>\n",
       "      <td>20080421</td>\n",
       "      <td>376431</td>\n",
       "      <td>[29966]</td>\n",
       "      <td>Bach : Partita No. 4 In D Major, BWV 828 - II....</td>\n",
       "      <td>[Murray Perahia]</td>\n",
       "      <td>1</td>\n",
       "      <td>0.000000</td>\n",
       "    </tr>\n",
       "    <tr>\n",
       "      <th>2</th>\n",
       "      <td>[GN0901]</td>\n",
       "      <td>20180518</td>\n",
       "      <td>4698747</td>\n",
       "      <td>[3361]</td>\n",
       "      <td>Solsbury Hill (Remastered 2002)</td>\n",
       "      <td>[Peter Gabriel]</td>\n",
       "      <td>2</td>\n",
       "      <td>0.000000</td>\n",
       "    </tr>\n",
       "    <tr>\n",
       "      <th>3</th>\n",
       "      <td>[GN1102, GN1101]</td>\n",
       "      <td>20151016</td>\n",
       "      <td>2644882</td>\n",
       "      <td>[838543]</td>\n",
       "      <td>Feeling Right (Everything Is Nice) (Feat. Popc...</td>\n",
       "      <td>[Matoma]</td>\n",
       "      <td>3</td>\n",
       "      <td>22.996574</td>\n",
       "    </tr>\n",
       "    <tr>\n",
       "      <th>4</th>\n",
       "      <td>[GN1802, GN1801]</td>\n",
       "      <td>20110824</td>\n",
       "      <td>2008470</td>\n",
       "      <td>[560160]</td>\n",
       "      <td>그남자 그여자</td>\n",
       "      <td>[Jude Law]</td>\n",
       "      <td>4</td>\n",
       "      <td>0.297234</td>\n",
       "    </tr>\n",
       "  </tbody>\n",
       "</table>\n",
       "</div>"
      ],
      "text/plain": [
       "                gnr  issue_date  album_id artist_id_basket  \\\n",
       "0          [GN0901]    20140512   2255639           [2727]   \n",
       "1  [GN1601, GN1606]    20080421    376431          [29966]   \n",
       "2          [GN0901]    20180518   4698747           [3361]   \n",
       "3  [GN1102, GN1101]    20151016   2644882         [838543]   \n",
       "4  [GN1802, GN1801]    20110824   2008470         [560160]   \n",
       "\n",
       "                                           song_name artist_name_basket  \\\n",
       "0                                           Feelings  [Various Artists]   \n",
       "1  Bach : Partita No. 4 In D Major, BWV 828 - II....   [Murray Perahia]   \n",
       "2                    Solsbury Hill (Remastered 2002)    [Peter Gabriel]   \n",
       "3  Feeling Right (Everything Is Nice) (Feat. Popc...           [Matoma]   \n",
       "4                                            그남자 그여자         [Jude Law]   \n",
       "\n",
       "   song_id  like_cnt_song  \n",
       "0        0       0.616807  \n",
       "1        1       0.000000  \n",
       "2        2       0.000000  \n",
       "3        3      22.996574  \n",
       "4        4       0.297234  "
      ]
     },
     "execution_count": 19,
     "metadata": {},
     "output_type": "execute_result"
    }
   ],
   "source": [
    "song_data.rename(columns={'id':'song_id', 'song_gn_dtl_gnr_basket': 'gnr'}, inplace=True)\n",
    "song_data = song_data.astype({'issue_date':'int64'})\n",
    "song_data.head()"
   ]
  },
  {
   "cell_type": "markdown",
   "id": "ec6f0145",
   "metadata": {},
   "source": [
    "## 노래별 가중치 설정"
   ]
  },
  {
   "cell_type": "code",
   "execution_count": 20,
   "id": "a6cd3d95",
   "metadata": {},
   "outputs": [
    {
     "data": {
      "text/plain": [
       "count    591216.000000\n",
       "mean         18.528749\n",
       "std          73.444383\n",
       "min           0.005000\n",
       "25%           0.302632\n",
       "50%           1.509804\n",
       "75%           8.990398\n",
       "max        3548.345552\n",
       "Name: like_cnt_song, dtype: float64"
      ]
     },
     "execution_count": 20,
     "metadata": {},
     "output_type": "execute_result"
    },
    {
     "data": {
      "image/png": "[encoded data removed]",
      "text/plain": [
       "<Figure size 640x480 with 1 Axes>"
      ]
     },
     "metadata": {},
     "output_type": "display_data"
    }
   ],
   "source": [
    "# 좋아요 개수 분포 확인을 위한 코드\n",
    "clean_song_data = song_data[song_data['like_cnt_song'] > 0]\n",
    "clean_song_data['like_cnt_song'].hist(bins=100)\n",
    "clean_song_data['like_cnt_song'].describe()"
   ]
  },
  {
   "cell_type": "code",
   "execution_count": 21,
   "id": "63d1141b",
   "metadata": {},
   "outputs": [
    {
     "data": {
      "text/html": [
       "<div>\n",
       "<style scoped>\n",
       "    .dataframe tbody tr th:only-of-type {\n",
       "        vertical-align: middle;\n",
       "    }\n",
       "\n",
       "    .dataframe tbody tr th {\n",
       "        vertical-align: top;\n",
       "    }\n",
       "\n",
       "    .dataframe thead th {\n",
       "        text-align: right;\n",
       "    }\n",
       "</style>\n",
       "<table border=\"1\" class=\"dataframe\">\n",
       "  <thead>\n",
       "    <tr style=\"text-align: right;\">\n",
       "      <th></th>\n",
       "      <th>gnr</th>\n",
       "      <th>issue_date</th>\n",
       "      <th>album_id</th>\n",
       "      <th>artist_id_basket</th>\n",
       "      <th>song_name</th>\n",
       "      <th>artist_name_basket</th>\n",
       "      <th>song_id</th>\n",
       "      <th>like_cnt_song</th>\n",
       "      <th>weight</th>\n",
       "    </tr>\n",
       "  </thead>\n",
       "  <tbody>\n",
       "    <tr>\n",
       "      <th>0</th>\n",
       "      <td>[GN0901]</td>\n",
       "      <td>20140512</td>\n",
       "      <td>2255639</td>\n",
       "      <td>[2727]</td>\n",
       "      <td>Feelings</td>\n",
       "      <td>[Various Artists]</td>\n",
       "      <td>0</td>\n",
       "      <td>0.616807</td>\n",
       "      <td>0.85</td>\n",
       "    </tr>\n",
       "    <tr>\n",
       "      <th>1</th>\n",
       "      <td>[GN1601, GN1606]</td>\n",
       "      <td>20080421</td>\n",
       "      <td>376431</td>\n",
       "      <td>[29966]</td>\n",
       "      <td>Bach : Partita No. 4 In D Major, BWV 828 - II....</td>\n",
       "      <td>[Murray Perahia]</td>\n",
       "      <td>1</td>\n",
       "      <td>0.000000</td>\n",
       "      <td>0.00</td>\n",
       "    </tr>\n",
       "    <tr>\n",
       "      <th>2</th>\n",
       "      <td>[GN0901]</td>\n",
       "      <td>20180518</td>\n",
       "      <td>4698747</td>\n",
       "      <td>[3361]</td>\n",
       "      <td>Solsbury Hill (Remastered 2002)</td>\n",
       "      <td>[Peter Gabriel]</td>\n",
       "      <td>2</td>\n",
       "      <td>0.000000</td>\n",
       "      <td>0.00</td>\n",
       "    </tr>\n",
       "    <tr>\n",
       "      <th>3</th>\n",
       "      <td>[GN1102, GN1101]</td>\n",
       "      <td>20151016</td>\n",
       "      <td>2644882</td>\n",
       "      <td>[838543]</td>\n",
       "      <td>Feeling Right (Everything Is Nice) (Feat. Popc...</td>\n",
       "      <td>[Matoma]</td>\n",
       "      <td>3</td>\n",
       "      <td>22.996574</td>\n",
       "      <td>0.95</td>\n",
       "    </tr>\n",
       "    <tr>\n",
       "      <th>4</th>\n",
       "      <td>[GN1802, GN1801]</td>\n",
       "      <td>20110824</td>\n",
       "      <td>2008470</td>\n",
       "      <td>[560160]</td>\n",
       "      <td>그남자 그여자</td>\n",
       "      <td>[Jude Law]</td>\n",
       "      <td>4</td>\n",
       "      <td>0.297234</td>\n",
       "      <td>0.80</td>\n",
       "    </tr>\n",
       "    <tr>\n",
       "      <th>5</th>\n",
       "      <td>[GN1701]</td>\n",
       "      <td>20100602</td>\n",
       "      <td>911754</td>\n",
       "      <td>[475840]</td>\n",
       "      <td>Para Los Enamorados</td>\n",
       "      <td>[Bye, Lupita]</td>\n",
       "      <td>5</td>\n",
       "      <td>24.995233</td>\n",
       "      <td>0.95</td>\n",
       "    </tr>\n",
       "    <tr>\n",
       "      <th>6</th>\n",
       "      <td>[GN1601, GN1602, GN1614]</td>\n",
       "      <td>20170208</td>\n",
       "      <td>10038397</td>\n",
       "      <td>[162097, 100237]</td>\n",
       "      <td>Sibelius : Valse Triste Op.44 (시벨리우스 : 슬픈 왈츠 작...</td>\n",
       "      <td>[Herbert Blomstedt, San Francisco Symphony]</td>\n",
       "      <td>6</td>\n",
       "      <td>0.857143</td>\n",
       "      <td>0.85</td>\n",
       "    </tr>\n",
       "    <tr>\n",
       "      <th>7</th>\n",
       "      <td>[GN1601, GN1602, GN1614]</td>\n",
       "      <td>20190315</td>\n",
       "      <td>10261160</td>\n",
       "      <td>[105210, 261542]</td>\n",
       "      <td>Superman March (From &amp;#34;Superman&amp;#34; / Live...</td>\n",
       "      <td>[Los Angeles Philharmonic Orchestra, Gustavo D...</td>\n",
       "      <td>7</td>\n",
       "      <td>0.115385</td>\n",
       "      <td>0.80</td>\n",
       "    </tr>\n",
       "    <tr>\n",
       "      <th>8</th>\n",
       "      <td>[GN0301]</td>\n",
       "      <td>20070625</td>\n",
       "      <td>353020</td>\n",
       "      <td>[224583]</td>\n",
       "      <td>Lovers’ Leap (Feat. Qypthone)</td>\n",
       "      <td>[애플스]</td>\n",
       "      <td>8</td>\n",
       "      <td>0.000000</td>\n",
       "      <td>0.00</td>\n",
       "    </tr>\n",
       "    <tr>\n",
       "      <th>9</th>\n",
       "      <td>[GN0105, GN0101]</td>\n",
       "      <td>20170320</td>\n",
       "      <td>10047088</td>\n",
       "      <td>[753752]</td>\n",
       "      <td>사랑, 그대라는 멜로디</td>\n",
       "      <td>[진호]</td>\n",
       "      <td>9</td>\n",
       "      <td>7.006667</td>\n",
       "      <td>0.90</td>\n",
       "    </tr>\n",
       "  </tbody>\n",
       "</table>\n",
       "</div>"
      ],
      "text/plain": [
       "                        gnr  issue_date  album_id  artist_id_basket  \\\n",
       "0                  [GN0901]    20140512   2255639            [2727]   \n",
       "1          [GN1601, GN1606]    20080421    376431           [29966]   \n",
       "2                  [GN0901]    20180518   4698747            [3361]   \n",
       "3          [GN1102, GN1101]    20151016   2644882          [838543]   \n",
       "4          [GN1802, GN1801]    20110824   2008470          [560160]   \n",
       "5                  [GN1701]    20100602    911754          [475840]   \n",
       "6  [GN1601, GN1602, GN1614]    20170208  10038397  [162097, 100237]   \n",
       "7  [GN1601, GN1602, GN1614]    20190315  10261160  [105210, 261542]   \n",
       "8                  [GN0301]    20070625    353020          [224583]   \n",
       "9          [GN0105, GN0101]    20170320  10047088          [753752]   \n",
       "\n",
       "                                           song_name  \\\n",
       "0                                           Feelings   \n",
       "1  Bach : Partita No. 4 In D Major, BWV 828 - II....   \n",
       "2                    Solsbury Hill (Remastered 2002)   \n",
       "3  Feeling Right (Everything Is Nice) (Feat. Popc...   \n",
       "4                                            그남자 그여자   \n",
       "5                                Para Los Enamorados   \n",
       "6  Sibelius : Valse Triste Op.44 (시벨리우스 : 슬픈 왈츠 작...   \n",
       "7  Superman March (From &#34;Superman&#34; / Live...   \n",
       "8                      Lovers’ Leap (Feat. Qypthone)   \n",
       "9                                       사랑, 그대라는 멜로디   \n",
       "\n",
       "                                  artist_name_basket  song_id  like_cnt_song  \\\n",
       "0                                  [Various Artists]        0       0.616807   \n",
       "1                                   [Murray Perahia]        1       0.000000   \n",
       "2                                    [Peter Gabriel]        2       0.000000   \n",
       "3                                           [Matoma]        3      22.996574   \n",
       "4                                         [Jude Law]        4       0.297234   \n",
       "5                                      [Bye, Lupita]        5      24.995233   \n",
       "6        [Herbert Blomstedt, San Francisco Symphony]        6       0.857143   \n",
       "7  [Los Angeles Philharmonic Orchestra, Gustavo D...        7       0.115385   \n",
       "8                                              [애플스]        8       0.000000   \n",
       "9                                               [진호]        9       7.006667   \n",
       "\n",
       "  weight  \n",
       "0   0.85  \n",
       "1   0.00  \n",
       "2   0.00  \n",
       "3   0.95  \n",
       "4   0.80  \n",
       "5   0.95  \n",
       "6   0.85  \n",
       "7   0.80  \n",
       "8   0.00  \n",
       "9   0.90  "
      ]
     },
     "execution_count": 21,
     "metadata": {},
     "output_type": "execute_result"
    }
   ],
   "source": [
    "bins = [-1, 0.001, 0.3, 1.5, 9, 3600]  # 구간 분할\n",
    "labels = [0, 0.8, 0.85, 0.9, 0.95]  # 구간별 가중치 지정\n",
    "\n",
    "song_data['weight'] = pd.cut(song_data['like_cnt_song'], bins=bins, labels=labels)  # 구간별 가중치 지정\n",
    "song_data.head(10)"
   ]
  },
  {
   "cell_type": "markdown",
   "id": "ea43c58a",
   "metadata": {},
   "source": [
    "## 가중치 반영 여부 설정"
   ]
  },
  {
   "cell_type": "code",
   "execution_count": 22,
   "id": "75a4c6e2",
   "metadata": {},
   "outputs": [],
   "source": [
    "likeWeight = True"
   ]
  },
  {
   "cell_type": "markdown",
   "id": "7bdd9aa0",
   "metadata": {},
   "source": [
    "# 한국어 -> 영어 변환\n",
    "- 한국어 전처리에 어려움이 있어서, 영어로 모두 변환 후 처리"
   ]
  },
  {
   "cell_type": "code",
   "execution_count": 23,
   "id": "9987dda0",
   "metadata": {},
   "outputs": [
    {
     "data": {
      "text/plain": [
       "'\\nfrom googletrans import Translator\\nimport time\\n\\ndef trans_to_eng(tags):\\n    time.sleep(1)\\n    translator = Translator()\\n    translated = translator.translate(tags, src = \\'ko\\', dest = \\'en\\')\\n    return translated.text\\n\\nfor i in range(len(train_data_sample)):\\n    eng_tags = [trans_to_eng(tag) for tag in train_data_sample[\\'tags\\'][i]]\\n    train_data_sample[\\'tags\\'][i] = eng_tags\\n\\ntrain_data_sample.to_json(\\'../Datasets/train_eng1.json\\', orient=\\'records\\')\\ntrain_data_sample.head(30)\\n\\n    \\n#train_data.head()\\n#eng_tags = [trans_to_eng(tag) for tag in train_data[\\'tags\\'][1]]\\n#print(\"Kor: \", train_data[\\'tags\\'][1])\\n#print(\"Eng: \", eng_tags)\\n'"
      ]
     },
     "execution_count": 23,
     "metadata": {},
     "output_type": "execute_result"
    }
   ],
   "source": [
    "'''\n",
    "from googletrans import Translator\n",
    "import time\n",
    "\n",
    "def trans_to_eng(tags):\n",
    "    time.sleep(1)\n",
    "    translator = Translator()\n",
    "    translated = translator.translate(tags, src = 'ko', dest = 'en')\n",
    "    return translated.text\n",
    "\n",
    "for i in range(len(train_data_sample)):\n",
    "    eng_tags = [trans_to_eng(tag) for tag in train_data_sample['tags'][i]]\n",
    "    train_data_sample['tags'][i] = eng_tags\n",
    "\n",
    "train_data_sample.to_json('../Datasets/train_eng1.json', orient='records')\n",
    "train_data_sample.head(30)\n",
    "\n",
    "    \n",
    "#train_data.head()\n",
    "#eng_tags = [trans_to_eng(tag) for tag in train_data['tags'][1]]\n",
    "#print(\"Kor: \", train_data['tags'][1])\n",
    "#print(\"Eng: \", eng_tags)\n",
    "'''"
   ]
  },
  {
   "cell_type": "code",
   "execution_count": 24,
   "id": "dfce8f10",
   "metadata": {},
   "outputs": [
    {
     "data": {
      "text/plain": [
       "\"\\nwith open('../Datasets/train_eng.json', 'r', encoding='utf-8') as f:\\n    json_data = json.load(f)\\n \""
      ]
     },
     "execution_count": 24,
     "metadata": {},
     "output_type": "execute_result"
    }
   ],
   "source": [
    "'''\n",
    "with open('../Datasets/train_eng.json', 'r', encoding='utf-8') as f:\n",
    "    json_data = json.load(f)\n",
    " '''"
   ]
  },
  {
   "cell_type": "code",
   "execution_count": 25,
   "id": "a7c58672",
   "metadata": {},
   "outputs": [
    {
     "data": {
      "text/plain": [
       "'\\ntrain_data_eng = pd.DataFrame(json_data)\\ntrain_data_eng.head(10)\\n'"
      ]
     },
     "execution_count": 25,
     "metadata": {},
     "output_type": "execute_result"
    }
   ],
   "source": [
    "'''\n",
    "train_data_eng = pd.DataFrame(json_data)\n",
    "train_data_eng.head(10)\n",
    "'''"
   ]
  },
  {
   "cell_type": "markdown",
   "id": "5bd4c7c3",
   "metadata": {},
   "source": [
    "# 태그 자연어 전처리"
   ]
  },
  {
   "cell_type": "markdown",
   "id": "d10c3fba",
   "metadata": {},
   "source": [
    "### 특수문자 및 공백 제외 + 대->소문자 변환"
   ]
  },
  {
   "cell_type": "code",
   "execution_count": 26,
   "id": "d9c35cae",
   "metadata": {},
   "outputs": [
    {
     "data": {
      "text/plain": [
       "\"\\nimport re\\n\\nprint(train_data_eng['tags'][3])\\npattern = re.compile('[^a-zA-Z0-9]')#특수문자나 공백을 띄어쓰기로 처리할지는 이후 테스트\\nidx = 0\\nfor tags in train_data_eng['tags']:\\n    eng_tags = []\\n    for tag in tags:\\n        temp_tags = re.sub(pattern, ' ', tag).lower().split()\\n        for temp_tag in temp_tags:\\n            eng_tags.append(temp_tag)\\n    train_data_eng['tags'][idx] = eng_tags\\n    idx += 1\\nprint(train_data_eng['tags'][3])\\n\""
      ]
     },
     "execution_count": 26,
     "metadata": {},
     "output_type": "execute_result"
    }
   ],
   "source": [
    "'''\n",
    "import re\n",
    "\n",
    "print(train_data_eng['tags'][3])\n",
    "pattern = re.compile('[^a-zA-Z0-9]')#특수문자나 공백을 띄어쓰기로 처리할지는 이후 테스트\n",
    "idx = 0\n",
    "for tags in train_data_eng['tags']:\n",
    "    eng_tags = []\n",
    "    for tag in tags:\n",
    "        temp_tags = re.sub(pattern, ' ', tag).lower().split()\n",
    "        for temp_tag in temp_tags:\n",
    "            eng_tags.append(temp_tag)\n",
    "    train_data_eng['tags'][idx] = eng_tags\n",
    "    idx += 1\n",
    "print(train_data_eng['tags'][3])\n",
    "'''"
   ]
  },
  {
   "cell_type": "markdown",
   "id": "da78efbc",
   "metadata": {},
   "source": [
    "### Stopwords 제거"
   ]
  },
  {
   "cell_type": "code",
   "execution_count": 27,
   "id": "a42b28a7",
   "metadata": {},
   "outputs": [
    {
     "data": {
      "text/plain": [
       "\"\\nimport nltk\\nfrom nltk.corpus import stopwords\\n#nltk.download('popular') # nltk 라이브러리 사용을 위해 다운해야 함\\n\\nstops = set(stopwords.words('english'))\\n\\nfor i in range(len(train_data_eng)):\\n    eng_tags = [tag for tag in train_data_eng['tags'][i] if not tag in stops]\\n    if train_data_eng['tags'][i] != eng_tags:\\n        print(train_data_eng['tags'][i])\\n        print(eng_tags)\\n    train_data_eng['tags'][i] = eng_tags\\n    \""
      ]
     },
     "execution_count": 27,
     "metadata": {},
     "output_type": "execute_result"
    }
   ],
   "source": [
    "'''\n",
    "import nltk\n",
    "from nltk.corpus import stopwords\n",
    "#nltk.download('popular') # nltk 라이브러리 사용을 위해 다운해야 함\n",
    "\n",
    "stops = set(stopwords.words('english'))\n",
    "\n",
    "for i in range(len(train_data_eng)):\n",
    "    eng_tags = [tag for tag in train_data_eng['tags'][i] if not tag in stops]\n",
    "    if train_data_eng['tags'][i] != eng_tags:\n",
    "        print(train_data_eng['tags'][i])\n",
    "        print(eng_tags)\n",
    "    train_data_eng['tags'][i] = eng_tags\n",
    "    '''"
   ]
  },
  {
   "cell_type": "markdown",
   "id": "3dcb4758",
   "metadata": {},
   "source": [
    "### Stemming"
   ]
  },
  {
   "cell_type": "code",
   "execution_count": 28,
   "id": "59ce240b",
   "metadata": {},
   "outputs": [
    {
     "data": {
      "text/plain": [
       "\"\\nstemmer = nltk.stem.SnowballStemmer('english')\\nfor i in range(len(train_data_eng)):\\n    eng_tags = [stemmer.stem(tag) for tag in train_data_eng['tags'][i]]\\n    train_data_eng['tags'][i] = eng_tags\\n    \""
      ]
     },
     "execution_count": 28,
     "metadata": {},
     "output_type": "execute_result"
    }
   ],
   "source": [
    "'''\n",
    "stemmer = nltk.stem.SnowballStemmer('english')\n",
    "for i in range(len(train_data_eng)):\n",
    "    eng_tags = [stemmer.stem(tag) for tag in train_data_eng['tags'][i]]\n",
    "    train_data_eng['tags'][i] = eng_tags\n",
    "    '''"
   ]
  },
  {
   "cell_type": "markdown",
   "id": "93f2db71",
   "metadata": {},
   "source": [
    "### 중복 제거"
   ]
  },
  {
   "cell_type": "code",
   "execution_count": 29,
   "id": "15a8e3a4",
   "metadata": {},
   "outputs": [
    {
     "data": {
      "text/plain": [
       "\"\\nfor i in range(len(train_data_eng)):\\n    eng_tags = list(dict.fromkeys(train_data_eng['tags'][i]))\\n    train_data_eng['tags'][i] = eng_tags\\n    \""
      ]
     },
     "execution_count": 29,
     "metadata": {},
     "output_type": "execute_result"
    }
   ],
   "source": [
    "'''\n",
    "for i in range(len(train_data_eng)):\n",
    "    eng_tags = list(dict.fromkeys(train_data_eng['tags'][i]))\n",
    "    train_data_eng['tags'][i] = eng_tags\n",
    "    '''"
   ]
  },
  {
   "cell_type": "markdown",
   "id": "60d08b13",
   "metadata": {},
   "source": [
    "### 한 글자로 된 단어 제거"
   ]
  },
  {
   "cell_type": "code",
   "execution_count": 30,
   "id": "e51883c7",
   "metadata": {},
   "outputs": [
    {
     "data": {
      "text/plain": [
       "\"\\nfor i in range(len(train_data_eng)):\\n    eng_tags = [tag for tag in train_data_eng['tags'][i] if len(tag) > 1]\\n    train_data_eng['tags'][i] = eng_tags\\n    \""
      ]
     },
     "execution_count": 30,
     "metadata": {},
     "output_type": "execute_result"
    }
   ],
   "source": [
    "'''\n",
    "for i in range(len(train_data_eng)):\n",
    "    eng_tags = [tag for tag in train_data_eng['tags'][i] if len(tag) > 1]\n",
    "    train_data_eng['tags'][i] = eng_tags\n",
    "    '''"
   ]
  },
  {
   "cell_type": "markdown",
   "id": "387ea2ce",
   "metadata": {},
   "source": [
    "### 추가적인 자연어 처리"
   ]
  },
  {
   "cell_type": "code",
   "execution_count": 31,
   "id": "770dddf9",
   "metadata": {},
   "outputs": [
    {
     "data": {
      "text/plain": [
       "\"\\n# '록' 또는 '락' 이 'lock' 으로 번역되는 문제가 있어서, 'rock' 으로 일괄적으로 수정\\npattern = re.compile(r'\\x08lock\\x08')\\nfor i in range(len(train_data_eng)):\\n    eng_tags = [re.sub(pattern, 'rock', tag) for tag in train_data_eng['tags'][i]]\\n    train_data_eng['tags'][i] = eng_tags\\n    \""
      ]
     },
     "execution_count": 31,
     "metadata": {},
     "output_type": "execute_result"
    }
   ],
   "source": [
    "'''\n",
    "# '록' 또는 '락' 이 'lock' 으로 번역되는 문제가 있어서, 'rock' 으로 일괄적으로 수정\n",
    "pattern = re.compile(r'\\block\\b')\n",
    "for i in range(len(train_data_eng)):\n",
    "    eng_tags = [re.sub(pattern, 'rock', tag) for tag in train_data_eng['tags'][i]]\n",
    "    train_data_eng['tags'][i] = eng_tags\n",
    "    '''"
   ]
  },
  {
   "cell_type": "code",
   "execution_count": 32,
   "id": "c7a3f26a",
   "metadata": {},
   "outputs": [
    {
     "data": {
      "text/plain": [
       "'\\ntrain_data_sample = train_data_eng.copy()\\ntrain_data_sample = train_data_sample.reset_index(drop=True)\\ntrain_data_sample.head(20)\\n'"
      ]
     },
     "execution_count": 32,
     "metadata": {},
     "output_type": "execute_result"
    }
   ],
   "source": [
    "'''\n",
    "train_data_sample = train_data_eng.copy()\n",
    "train_data_sample = train_data_sample.reset_index(drop=True)\n",
    "train_data_sample.head(20)\n",
    "'''"
   ]
  },
  {
   "cell_type": "markdown",
   "id": "8079fb88",
   "metadata": {},
   "source": [
    "## 태그 병합\n",
    "\n",
    "- 같은 노래에 부여된 서로 다른 태그들을 합친다\n",
    "- 그 결과 동일한 태그 리스트가 거의 모든 노래에 부여되었다"
   ]
  },
  {
   "cell_type": "code",
   "execution_count": 33,
   "id": "790f2755",
   "metadata": {},
   "outputs": [
    {
     "data": {
      "text/html": [
       "<div>\n",
       "<style scoped>\n",
       "    .dataframe tbody tr th:only-of-type {\n",
       "        vertical-align: middle;\n",
       "    }\n",
       "\n",
       "    .dataframe tbody tr th {\n",
       "        vertical-align: top;\n",
       "    }\n",
       "\n",
       "    .dataframe thead th {\n",
       "        text-align: right;\n",
       "    }\n",
       "</style>\n",
       "<table border=\"1\" class=\"dataframe\">\n",
       "  <thead>\n",
       "    <tr style=\"text-align: right;\">\n",
       "      <th></th>\n",
       "      <th>tags</th>\n",
       "      <th>song_id</th>\n",
       "      <th>like_cnt</th>\n",
       "    </tr>\n",
       "  </thead>\n",
       "  <tbody>\n",
       "    <tr>\n",
       "      <th>0</th>\n",
       "      <td>[락]</td>\n",
       "      <td>525514</td>\n",
       "      <td>71</td>\n",
       "    </tr>\n",
       "    <tr>\n",
       "      <th>1</th>\n",
       "      <td>[락]</td>\n",
       "      <td>129701</td>\n",
       "      <td>71</td>\n",
       "    </tr>\n",
       "    <tr>\n",
       "      <th>2</th>\n",
       "      <td>[락]</td>\n",
       "      <td>383374</td>\n",
       "      <td>71</td>\n",
       "    </tr>\n",
       "    <tr>\n",
       "      <th>3</th>\n",
       "      <td>[락]</td>\n",
       "      <td>562083</td>\n",
       "      <td>71</td>\n",
       "    </tr>\n",
       "    <tr>\n",
       "      <th>4</th>\n",
       "      <td>[락]</td>\n",
       "      <td>297861</td>\n",
       "      <td>71</td>\n",
       "    </tr>\n",
       "    <tr>\n",
       "      <th>5</th>\n",
       "      <td>[락]</td>\n",
       "      <td>139541</td>\n",
       "      <td>71</td>\n",
       "    </tr>\n",
       "    <tr>\n",
       "      <th>6</th>\n",
       "      <td>[락]</td>\n",
       "      <td>351214</td>\n",
       "      <td>71</td>\n",
       "    </tr>\n",
       "    <tr>\n",
       "      <th>7</th>\n",
       "      <td>[락]</td>\n",
       "      <td>650298</td>\n",
       "      <td>71</td>\n",
       "    </tr>\n",
       "    <tr>\n",
       "      <th>8</th>\n",
       "      <td>[락]</td>\n",
       "      <td>531057</td>\n",
       "      <td>71</td>\n",
       "    </tr>\n",
       "    <tr>\n",
       "      <th>9</th>\n",
       "      <td>[락]</td>\n",
       "      <td>205238</td>\n",
       "      <td>71</td>\n",
       "    </tr>\n",
       "    <tr>\n",
       "      <th>10</th>\n",
       "      <td>[락]</td>\n",
       "      <td>706183</td>\n",
       "      <td>71</td>\n",
       "    </tr>\n",
       "    <tr>\n",
       "      <th>11</th>\n",
       "      <td>[락]</td>\n",
       "      <td>127099</td>\n",
       "      <td>71</td>\n",
       "    </tr>\n",
       "    <tr>\n",
       "      <th>12</th>\n",
       "      <td>[락]</td>\n",
       "      <td>660493</td>\n",
       "      <td>71</td>\n",
       "    </tr>\n",
       "    <tr>\n",
       "      <th>13</th>\n",
       "      <td>[락]</td>\n",
       "      <td>461973</td>\n",
       "      <td>71</td>\n",
       "    </tr>\n",
       "    <tr>\n",
       "      <th>14</th>\n",
       "      <td>[락]</td>\n",
       "      <td>121455</td>\n",
       "      <td>71</td>\n",
       "    </tr>\n",
       "    <tr>\n",
       "      <th>15</th>\n",
       "      <td>[락]</td>\n",
       "      <td>72552</td>\n",
       "      <td>71</td>\n",
       "    </tr>\n",
       "    <tr>\n",
       "      <th>16</th>\n",
       "      <td>[락]</td>\n",
       "      <td>223955</td>\n",
       "      <td>71</td>\n",
       "    </tr>\n",
       "    <tr>\n",
       "      <th>17</th>\n",
       "      <td>[락]</td>\n",
       "      <td>324992</td>\n",
       "      <td>71</td>\n",
       "    </tr>\n",
       "    <tr>\n",
       "      <th>18</th>\n",
       "      <td>[락]</td>\n",
       "      <td>50104</td>\n",
       "      <td>71</td>\n",
       "    </tr>\n",
       "    <tr>\n",
       "      <th>19</th>\n",
       "      <td>[추억, 회상]</td>\n",
       "      <td>432406</td>\n",
       "      <td>1</td>\n",
       "    </tr>\n",
       "    <tr>\n",
       "      <th>20</th>\n",
       "      <td>[추억, 회상]</td>\n",
       "      <td>675945</td>\n",
       "      <td>1</td>\n",
       "    </tr>\n",
       "    <tr>\n",
       "      <th>21</th>\n",
       "      <td>[추억, 회상]</td>\n",
       "      <td>497066</td>\n",
       "      <td>1</td>\n",
       "    </tr>\n",
       "    <tr>\n",
       "      <th>22</th>\n",
       "      <td>[추억, 회상]</td>\n",
       "      <td>120377</td>\n",
       "      <td>1</td>\n",
       "    </tr>\n",
       "    <tr>\n",
       "      <th>23</th>\n",
       "      <td>[추억, 회상]</td>\n",
       "      <td>389529</td>\n",
       "      <td>1</td>\n",
       "    </tr>\n",
       "    <tr>\n",
       "      <th>24</th>\n",
       "      <td>[추억, 회상]</td>\n",
       "      <td>244277</td>\n",
       "      <td>1</td>\n",
       "    </tr>\n",
       "    <tr>\n",
       "      <th>25</th>\n",
       "      <td>[추억, 회상]</td>\n",
       "      <td>461062</td>\n",
       "      <td>1</td>\n",
       "    </tr>\n",
       "    <tr>\n",
       "      <th>26</th>\n",
       "      <td>[추억, 회상]</td>\n",
       "      <td>696302</td>\n",
       "      <td>1</td>\n",
       "    </tr>\n",
       "    <tr>\n",
       "      <th>27</th>\n",
       "      <td>[추억, 회상]</td>\n",
       "      <td>442765</td>\n",
       "      <td>1</td>\n",
       "    </tr>\n",
       "    <tr>\n",
       "      <th>28</th>\n",
       "      <td>[추억, 회상]</td>\n",
       "      <td>532114</td>\n",
       "      <td>1</td>\n",
       "    </tr>\n",
       "    <tr>\n",
       "      <th>29</th>\n",
       "      <td>[추억, 회상]</td>\n",
       "      <td>586541</td>\n",
       "      <td>1</td>\n",
       "    </tr>\n",
       "  </tbody>\n",
       "</table>\n",
       "</div>"
      ],
      "text/plain": [
       "        tags song_id  like_cnt\n",
       "0        [락]  525514        71\n",
       "1        [락]  129701        71\n",
       "2        [락]  383374        71\n",
       "3        [락]  562083        71\n",
       "4        [락]  297861        71\n",
       "5        [락]  139541        71\n",
       "6        [락]  351214        71\n",
       "7        [락]  650298        71\n",
       "8        [락]  531057        71\n",
       "9        [락]  205238        71\n",
       "10       [락]  706183        71\n",
       "11       [락]  127099        71\n",
       "12       [락]  660493        71\n",
       "13       [락]  461973        71\n",
       "14       [락]  121455        71\n",
       "15       [락]   72552        71\n",
       "16       [락]  223955        71\n",
       "17       [락]  324992        71\n",
       "18       [락]   50104        71\n",
       "19  [추억, 회상]  432406         1\n",
       "20  [추억, 회상]  675945         1\n",
       "21  [추억, 회상]  497066         1\n",
       "22  [추억, 회상]  120377         1\n",
       "23  [추억, 회상]  389529         1\n",
       "24  [추억, 회상]  244277         1\n",
       "25  [추억, 회상]  461062         1\n",
       "26  [추억, 회상]  696302         1\n",
       "27  [추억, 회상]  442765         1\n",
       "28  [추억, 회상]  532114         1\n",
       "29  [추억, 회상]  586541         1"
      ]
     },
     "execution_count": 33,
     "metadata": {},
     "output_type": "execute_result"
    }
   ],
   "source": [
    "train_data_sample = train_data_sample.explode('song_id', ignore_index=True)\n",
    "train_data_sample.head(30)"
   ]
  },
  {
   "cell_type": "code",
   "execution_count": 34,
   "id": "ec6056ea",
   "metadata": {},
   "outputs": [
    {
     "name": "stdout",
     "output_type": "stream",
     "text": [
      "{'일상', '아이돌', '고백', '월요일', '회상', '최신', '시작', '사랑', '봄', '기분전환', '히트곡', 'kpop', '잔잔한', '걸그룹댄스', '추억', '여자아이돌', '다이어트', '걸그룹', '스트레스해소', '꽃놀이', '댄스', '신나는노래'}\n"
     ]
    }
   ],
   "source": [
    "train_dict = dict()\n",
    "\n",
    "for i in range(len(train_data_sample)):\n",
    "    song = train_data_sample['song_id'][i]\n",
    "    tag = train_data_sample['tags'][i]\n",
    "    \n",
    "    if song in train_dict:\n",
    "        for j in tag:\n",
    "            train_dict[song].add(j)\n",
    "    \n",
    "    else:\n",
    "        train_dict[song] = set(tag)\n",
    "        \n",
    "print(train_dict[157435])"
   ]
  },
  {
   "cell_type": "code",
   "execution_count": 35,
   "id": "4a038475",
   "metadata": {},
   "outputs": [
    {
     "data": {
      "text/plain": [
       "(52771, 3)"
      ]
     },
     "execution_count": 35,
     "metadata": {},
     "output_type": "execute_result"
    }
   ],
   "source": [
    "train_data_sample.drop_duplicates(subset='song_id', keep='first',inplace=True)\n",
    "train_data_sample.shape"
   ]
  },
  {
   "cell_type": "code",
   "execution_count": 36,
   "id": "8674dafe",
   "metadata": {},
   "outputs": [
    {
     "name": "stderr",
     "output_type": "stream",
     "text": [
      "C:\\Users\\pigwo\\AppData\\Local\\Temp\\ipykernel_15248\\1966443478.py:4: SettingWithCopyWarning: \n",
      "A value is trying to be set on a copy of a slice from a DataFrame\n",
      "\n",
      "See the caveats in the documentation: https://pandas.pydata.org/pandas-docs/stable/user_guide/indexing.html#returning-a-view-versus-a-copy\n",
      "  train_data_sample['tags'].iloc[i] = list(train_dict[song])\n"
     ]
    },
    {
     "data": {
      "text/html": [
       "<div>\n",
       "<style scoped>\n",
       "    .dataframe tbody tr th:only-of-type {\n",
       "        vertical-align: middle;\n",
       "    }\n",
       "\n",
       "    .dataframe tbody tr th {\n",
       "        vertical-align: top;\n",
       "    }\n",
       "\n",
       "    .dataframe thead th {\n",
       "        text-align: right;\n",
       "    }\n",
       "</style>\n",
       "<table border=\"1\" class=\"dataframe\">\n",
       "  <thead>\n",
       "    <tr style=\"text-align: right;\">\n",
       "      <th></th>\n",
       "      <th>tags</th>\n",
       "      <th>song_id</th>\n",
       "      <th>like_cnt</th>\n",
       "    </tr>\n",
       "  </thead>\n",
       "  <tbody>\n",
       "    <tr>\n",
       "      <th>0</th>\n",
       "      <td>[락]</td>\n",
       "      <td>525514</td>\n",
       "      <td>71</td>\n",
       "    </tr>\n",
       "    <tr>\n",
       "      <th>1</th>\n",
       "      <td>[락]</td>\n",
       "      <td>129701</td>\n",
       "      <td>71</td>\n",
       "    </tr>\n",
       "    <tr>\n",
       "      <th>2</th>\n",
       "      <td>[락]</td>\n",
       "      <td>383374</td>\n",
       "      <td>71</td>\n",
       "    </tr>\n",
       "    <tr>\n",
       "      <th>3</th>\n",
       "      <td>[락]</td>\n",
       "      <td>562083</td>\n",
       "      <td>71</td>\n",
       "    </tr>\n",
       "    <tr>\n",
       "      <th>4</th>\n",
       "      <td>[락]</td>\n",
       "      <td>297861</td>\n",
       "      <td>71</td>\n",
       "    </tr>\n",
       "  </tbody>\n",
       "</table>\n",
       "</div>"
      ],
      "text/plain": [
       "  tags song_id  like_cnt\n",
       "0  [락]  525514        71\n",
       "1  [락]  129701        71\n",
       "2  [락]  383374        71\n",
       "3  [락]  562083        71\n",
       "4  [락]  297861        71"
      ]
     },
     "execution_count": 36,
     "metadata": {},
     "output_type": "execute_result"
    }
   ],
   "source": [
    "for i in range(len(train_data_sample)):\n",
    "    song = train_data_sample['song_id'].iloc[i]\n",
    "    \n",
    "    train_data_sample['tags'].iloc[i] = list(train_dict[song])\n",
    "\n",
    "train_data_sample.head()"
   ]
  },
  {
   "cell_type": "code",
   "execution_count": 37,
   "id": "dbd80db8",
   "metadata": {},
   "outputs": [
    {
     "data": {
      "text/html": [
       "<div>\n",
       "<style scoped>\n",
       "    .dataframe tbody tr th:only-of-type {\n",
       "        vertical-align: middle;\n",
       "    }\n",
       "\n",
       "    .dataframe tbody tr th {\n",
       "        vertical-align: top;\n",
       "    }\n",
       "\n",
       "    .dataframe thead th {\n",
       "        text-align: right;\n",
       "    }\n",
       "</style>\n",
       "<table border=\"1\" class=\"dataframe\">\n",
       "  <thead>\n",
       "    <tr style=\"text-align: right;\">\n",
       "      <th></th>\n",
       "      <th>tags</th>\n",
       "      <th>song_id</th>\n",
       "      <th>like_cnt</th>\n",
       "      <th>gnr</th>\n",
       "      <th>issue_date</th>\n",
       "      <th>album_id</th>\n",
       "      <th>artist_id_basket</th>\n",
       "      <th>song_name</th>\n",
       "      <th>artist_name_basket</th>\n",
       "      <th>like_cnt_song</th>\n",
       "      <th>weight</th>\n",
       "    </tr>\n",
       "  </thead>\n",
       "  <tbody>\n",
       "    <tr>\n",
       "      <th>0</th>\n",
       "      <td>[락]</td>\n",
       "      <td>525514</td>\n",
       "      <td>71</td>\n",
       "      <td>[GN1402, GN1401]</td>\n",
       "      <td>20130506</td>\n",
       "      <td>2200223</td>\n",
       "      <td>[734201]</td>\n",
       "      <td>Hey Little Girl</td>\n",
       "      <td>[The Sol]</td>\n",
       "      <td>22.387011</td>\n",
       "      <td>0.95</td>\n",
       "    </tr>\n",
       "    <tr>\n",
       "      <th>1</th>\n",
       "      <td>[락]</td>\n",
       "      <td>129701</td>\n",
       "      <td>71</td>\n",
       "      <td>[GN0901, GN0902, GN1001]</td>\n",
       "      <td>20130917</td>\n",
       "      <td>2201802</td>\n",
       "      <td>[536907]</td>\n",
       "      <td>Octagon</td>\n",
       "      <td>[Royal Bangs]</td>\n",
       "      <td>13.747480</td>\n",
       "      <td>0.95</td>\n",
       "    </tr>\n",
       "    <tr>\n",
       "      <th>2</th>\n",
       "      <td>[락]</td>\n",
       "      <td>383374</td>\n",
       "      <td>71</td>\n",
       "      <td>[GN1012, GN1005, GN1001]</td>\n",
       "      <td>19911021</td>\n",
       "      <td>2216938</td>\n",
       "      <td>[166978]</td>\n",
       "      <td>The Road</td>\n",
       "      <td>[Honeymoon Suite]</td>\n",
       "      <td>3.736842</td>\n",
       "      <td>0.90</td>\n",
       "    </tr>\n",
       "    <tr>\n",
       "      <th>3</th>\n",
       "      <td>[락]</td>\n",
       "      <td>562083</td>\n",
       "      <td>71</td>\n",
       "      <td>[GN1013, GN0901, GN0902, GN1001]</td>\n",
       "      <td>20000919</td>\n",
       "      <td>43227</td>\n",
       "      <td>[19035]</td>\n",
       "      <td>Honeymoon</td>\n",
       "      <td>[Phoenix]</td>\n",
       "      <td>110.885322</td>\n",
       "      <td>0.95</td>\n",
       "    </tr>\n",
       "    <tr>\n",
       "      <th>4</th>\n",
       "      <td>[락]</td>\n",
       "      <td>297861</td>\n",
       "      <td>71</td>\n",
       "      <td>[GN1013, GN0901, GN0902, GN1001]</td>\n",
       "      <td>20050306</td>\n",
       "      <td>303657</td>\n",
       "      <td>[170117]</td>\n",
       "      <td>High</td>\n",
       "      <td>[James Blunt]</td>\n",
       "      <td>133.406470</td>\n",
       "      <td>0.95</td>\n",
       "    </tr>\n",
       "  </tbody>\n",
       "</table>\n",
       "</div>"
      ],
      "text/plain": [
       "  tags  song_id  like_cnt                               gnr  issue_date  \\\n",
       "0  [락]   525514        71                  [GN1402, GN1401]    20130506   \n",
       "1  [락]   129701        71          [GN0901, GN0902, GN1001]    20130917   \n",
       "2  [락]   383374        71          [GN1012, GN1005, GN1001]    19911021   \n",
       "3  [락]   562083        71  [GN1013, GN0901, GN0902, GN1001]    20000919   \n",
       "4  [락]   297861        71  [GN1013, GN0901, GN0902, GN1001]    20050306   \n",
       "\n",
       "   album_id artist_id_basket        song_name artist_name_basket  \\\n",
       "0   2200223         [734201]  Hey Little Girl          [The Sol]   \n",
       "1   2201802         [536907]          Octagon      [Royal Bangs]   \n",
       "2   2216938         [166978]         The Road  [Honeymoon Suite]   \n",
       "3     43227          [19035]        Honeymoon          [Phoenix]   \n",
       "4    303657         [170117]             High      [James Blunt]   \n",
       "\n",
       "   like_cnt_song weight  \n",
       "0      22.387011   0.95  \n",
       "1      13.747480   0.95  \n",
       "2       3.736842   0.90  \n",
       "3     110.885322   0.95  \n",
       "4     133.406470   0.95  "
      ]
     },
     "execution_count": 37,
     "metadata": {},
     "output_type": "execute_result"
    }
   ],
   "source": [
    "song_tag_appended = pd.merge(train_data_sample, song_data)\n",
    "song_tag_appended = song_tag_appended.astype({'song_id':'int64'})\n",
    "song_tag_appended.head()"
   ]
  },
  {
   "cell_type": "code",
   "execution_count": 38,
   "id": "c646e297",
   "metadata": {},
   "outputs": [
    {
     "name": "stdout",
     "output_type": "stream",
     "text": [
      "<class 'pandas.core.frame.DataFrame'>\n",
      "Int64Index: 52771 entries, 0 to 52770\n",
      "Data columns (total 11 columns):\n",
      " #   Column              Non-Null Count  Dtype   \n",
      "---  ------              --------------  -----   \n",
      " 0   tags                52771 non-null  object  \n",
      " 1   song_id             52771 non-null  int64   \n",
      " 2   like_cnt            52771 non-null  int64   \n",
      " 3   gnr                 52771 non-null  object  \n",
      " 4   issue_date          52771 non-null  int64   \n",
      " 5   album_id            52771 non-null  int64   \n",
      " 6   artist_id_basket    52771 non-null  object  \n",
      " 7   song_name           52771 non-null  object  \n",
      " 8   artist_name_basket  52771 non-null  object  \n",
      " 9   like_cnt_song       52771 non-null  float64 \n",
      " 10  weight              52771 non-null  category\n",
      "dtypes: category(1), float64(1), int64(4), object(5)\n",
      "memory usage: 4.5+ MB\n"
     ]
    }
   ],
   "source": [
    "song_tag_appended.info()"
   ]
  },
  {
   "cell_type": "markdown",
   "id": "4c740d7b",
   "metadata": {},
   "source": [
    "## Word2Vec 사용\n",
    "\n",
    "- 태그 리스트들을 word2vec로 학습시켜 태그 하나와 연관된 다른 태그들을 유추"
   ]
  },
  {
   "cell_type": "code",
   "execution_count": 39,
   "id": "bc470359",
   "metadata": {},
   "outputs": [],
   "source": [
    "train_data_sample2 = train_data[:2000].copy()\n",
    "#train_data_sample2 = train_data_eng.copy()\n",
    "train_data_sample2 = train_data_sample2.reset_index(drop=True)\n",
    "#train_data_sample2 = train_data"
   ]
  },
  {
   "cell_type": "code",
   "execution_count": 40,
   "id": "3ab58103",
   "metadata": {},
   "outputs": [
    {
     "data": {
      "text/plain": [
       "(1842, 100)"
      ]
     },
     "execution_count": 40,
     "metadata": {},
     "output_type": "execute_result"
    }
   ],
   "source": [
    "from gensim.models.word2vec import Word2Vec\n",
    "\n",
    "w2v = Word2Vec(sentences = song_tag_appended['tags'], vector_size = 100, \n",
    "               window = 5, min_count = 15, workers = 4, sg = 1)\n",
    "\n",
    "w2v.wv.vectors.shape"
   ]
  },
  {
   "cell_type": "code",
   "execution_count": 41,
   "id": "4962276a",
   "metadata": {},
   "outputs": [],
   "source": [
    "#print(w2v.wv.most_similar('rock'))"
   ]
  },
  {
   "cell_type": "markdown",
   "id": "51ab2ee5",
   "metadata": {},
   "source": [
    "# 태그 불균형"
   ]
  },
  {
   "cell_type": "code",
   "execution_count": 42,
   "id": "c64d9647",
   "metadata": {},
   "outputs": [
    {
     "name": "stdout",
     "output_type": "stream",
     "text": [
      "{'락': 1.901282579971651, '추억': 1.2163611882238565, '회상': 1.4398188415355953, '까페': 1.938380429147206, '잔잔한': 0.8609244820414126, '연말': 3.3754814145729135, '눈오는날': 4.081455831869468, '캐럴': 4.075917393043935, '분위기': 1.89940513379543, '따듯한': 5.185747014323461, '크리스마스캐럴': 5.606672430453258, '겨울노래': 3.4642332729151915, '크리스마스': 2.975768983532752, '겨울왕국': 5.606672430453258, '크리스마스송': 5.394980595751788, '댄스': 1.5594480493217517, '운동': 1.9344390102714857, '드라이브': 0.8243388817180411, 'Pop': 1.7684554361399365, '트로피컬하우스': 3.7314390685327323, '힐링': 0.9175441388270509, '기분전환': 0.6931471805599453, '2017': 5.394980595751788, '팝': 1.229655654854647, '트렌드': 5.10353757483204, '일렉': 2.372445512580598, '짝사랑': 4.7063624520831295, '취향저격': 2.114959537266662, '슬픔': 1.628250699154073, '고백': 3.6825625519508276, '사랑': 1.0335777348056434, '이별': 1.4701048673446182, '일렉트로니카': 2.6423971350394964, '포크': 4.2184567329301315, '메탈': 4.456459229456652, '인디': 1.4784188484085186, '록': 3.6572489102273305, 'Metal': 5.717511330568813, '이일우': 6.533982617606463, 'M에센셜': 5.876092396035909, 'Rock': 3.0196407713466864, 'kpop': 3.2471532775570484, '걸그룹댄스': 4.087026181414421, '스트레스해소': 3.3545496928703704, '새해': 4.064934822944195, '여행': 1.3531077446626678, '프로필음악': 5.438272526970362, '카카오톡': 5.438272526970362, '소원': 5.438272526970362, '프로필': 5.438272526970362, '소망': 5.438272526970362, '다짐': 5.438272526970362, '카톡': 5.438272526970362, '듣고': 6.198091494803055, '우울': 2.677179983045131, '이거': 6.198091494803055, '힘내': 4.515379831597932, '힙합': 1.146968886883218, '느낌있는': 2.265124973140034, '밤': 1.0791412438523413, '새벽': 0.9859311493366801, 'RnB': 2.466520382996295, '감각적인': 3.0341406089808247, '국내': 4.489692184006925, '그루브한': 5.057306813405402, '가을': 1.7529769316667643, '재즈': 2.027407157182237, '감성': 0.8598553922974442, '질리지않는': 5.809594501270839, '나만알고싶은': 4.878766171937243, '봄': 1.7862826514143788, '설렘': 1.3656264105020797, '비오는날': 1.438628130868588, '누군가생각날때': 6.351951659933069, '스밍': 5.483541682999952, '목록': 6.469540972225809, '폐막식': 6.469540972225809, '올림픽': 6.469540972225809, '엑소': 3.908985220673223, '조용히': 5.460648778465489, '혼자': 3.1847727805966906, '또는': 5.460648778465489, '새벽감성': 3.2728600766608253, '고민': 4.970873693949233, '맥주한잔': 4.7063624520831295, '카페': 1.3015690226215533, 'OST': 2.0643922854424486, '어쿠스틱': 3.1203082446506523, '편안한': 2.6342060039563706, '에너지': 4.568871126570853, '듀엣': 3.7314390685327323, '달달': 2.771407065055518, '피쳐링': 3.5494289386502187, '남녀': 3.9713395825845654, '신인': 5.3740237629217935, '국힙': 2.752534995044592, '신나는': 1.2690772323055393, '거슈윈': 5.985001398192873, '존윌리엄스': 5.985001398192873, '랩소디인블루': 5.985001398192873, '미국클래식': 5.985001398192873, '영화클래식': 5.985001398192873, '아메리칸클래식': 5.985001398192873, '겨울': 1.6731360973877665, '아침': 2.5966024766024565, '빅밴드': 6.198091494803055, '상쾌한': 4.250984949358599, '밝은': 6.198091494803055, '스윙': 5.809594501270839, '스윙재즈': 5.809594501270839, '휴식': 0.8365949658290548, '여름': 2.021320335480939, '매장음악': 1.2868364765139375, '헬스': 5.168749054843932, '스포츠': 4.930340702850864, '피트니스': 6.198091494803055, '다이어트': 4.930340702850864, '런닝': 6.198091494803055, '레깅스': 6.198091494803055, '필라테스': 6.198091494803055, '산책': 2.0649753516432017, '요가': 4.917191792017123, '발라드': 1.0535754922351455, '캐롤': 3.228896042621098, '위로': 2.4047145880704255, '80년대': 3.8504325155255574, '90년대발라드': 3.8680711178989635, '올드송': 3.9614796141407385, '90년대': 3.215436040878767, '옛날노래': 3.9614796141407385, '월드': 5.947357842842801, '연주': 4.794540485334914, '클럽': 2.2583977857412494, '스트레스': 1.4484604019038314, '주말': 2.180413156103106, '오후': 2.427247108400606, '나른한': 5.220645358449068, 'Chillout': 5.185747014323461, '나만들을꺼': 6.246784830117413, '나만들을거얌': 6.246784830117413, '중국음악': 5.438272526970362, '광동': 5.438272526970362, '홍콩': 5.438272526970362, '대만': 5.438272526970362, '중국노래': 5.438272526970362, '중국': 5.438272526970362, '중음': 5.438272526970362, '내가좋아하는음악트랙': 6.533982617606463, '노래추천': 4.1211392203027035, '인디추천': 5.530976476601612, '이달의인디포크': 6.533982617606463, '음악추천': 3.161376795749912, '추천노래': 4.878766171937243, '숨겨진': 5.20304227384745, '유럽여행': 5.20304227384745, '공기정화': 5.688620491466753, '피톤치드': 5.688620491466753, '연주곡': 2.3836411728601345, '사무실': 3.7314390685327323, '알앤비': 1.5225276809170325, '불금': 3.536776299114298, 'ballads': 6.246784830117413, '차막힘': 5.483541682999952, '차막힐때': 5.483541682999952, '졸릴때': 5.483541682999952, '달달한': 3.128376090196073, '연애': 3.407785640786539, '썸': 3.886040209056647, '노래모음': 3.9277441881140245, '히트곡': 3.886040209056647, '린아': 6.469540972225809, '선데이': 6.469540972225809, '스테파니': 6.469540972225809, '명곡': 2.1525342384683, '시간순': 6.469540972225809, '천상지희': 6.469540972225809, '다나': 6.469540972225809, '독서를돕는음악': 5.74726758659594, 'dance': 4.878766171937243, 'EDMFloor': 4.199450268348672, 'EDM': 2.953770593978114, 'electronica': 3.4877984180633437, '빌로우': 3.981301550392258, '펍': 4.99885185555592, '매장': 2.091676988438674, '그루브': 2.2291576244392286, '라운지': 4.917191792017123, '퇴근길': 2.6260916184050425, '세련된': 3.7391862062517776, '한강': 3.7788946139825224, '드라이브할때신나는노래': 6.297981286273154, '자기전': 4.20574449613151, '랩': 1.6440820300466268, '비트좋은': 7.631625632184923, '섹시': 4.760540026029241, '분위기좋은': 5.985001398192873, '뉴에이지': 1.9878910945057346, '월드뮤직': 4.355655842339199, '조용한': 3.0250510972078577, '무드': 4.970873693949233, '스웩': 4.8417835858062785, '잔잔하게': 5.911086961940665, '조용하게': 5.911086961940665, '저스디스': 6.843749949006225, '힙합엘이': 4.8539574181102, '니엘': 6.843749949006225, '꿀': 4.794540485334914, '보이스': 5.717511330568813, '뺏고싶다': 5.717511330568813, '성대': 5.717511330568813, '버스': 4.193196601853133, '도입부': 4.348316635532068, '트렌디': 2.108148337394591, '런쥔': 5.185747014323461, '라디오': 4.162519103057821, '포근함': 4.970873693949233, '따스한': 5.460648778465489, '벚꽃': 3.8203253402474378, 'Takealook': 4.86628366855393, '떄껄룩': 4.86628366855393, '플레이리스트': 3.5336394715343813, '팝음악': 4.86628366855393, '팝송추천': 3.449799681844561, '유튜브': 3.6325925091741302, '떼껄룩': 4.86628366855393, '카페음악': 2.878447892050586, 'Jazz': 3.1365156190543018, '흐린날': 5.0724778767629175, '힙한': 3.8592112519844797, '1990': 3.441244882791431, '1990년대': 4.162519103057821, '자연주의': 6.198091494803055, 'MTV': 4.771743385813907, '언플러그드': 6.198091494803055, 'unplugged': 6.198091494803055, '프로그레시브하우스': 4.817878527009333, '빅룸': 6.409013216782288, '시원': 4.806140301860119, '바다': 3.559030959084402, '신나는노래': 3.3781311929798243, '비': 3.2471532775570484, '아련': 4.655017991715659, '멜로': 5.294367267476675, '치명': 5.294367267476675, '아드레날린': 5.438272526970362, '샤우팅': 5.438272526970362, '강렬한사운드': 5.438272526970362, '운동할때듣는': 5.438272526970362, 'rockisnotdead': 5.438272526970362, '여자아이돌': 3.441244882791431, '싱어송라이터': 3.595097315881215, '인디밴드': 4.400890555591684, '귀호강': 4.284639647018503, '미러볼뮤직': 4.6450637496497675, '인디뮤직': 3.8636309520473455, '잠': 4.515379831597932, '일상': 3.6466033533765745, '추위': 3.299300153970128, '자장가': 2.7108618668246214, '내적댄스폭발': 6.409013216782288, '페스티벌음악': 6.409013216782288, '몽환적인': 4.0433372681224995, '일렉트로닉': 4.806140301860119, '힙합갬성': 4.144568007416602, '흥얼흥얼': 6.351951659933069, '쇼미': 3.8997413205822755, '외힙': 2.425422002953108, '기리보이의노래는길이보인다': 6.351951659933069, '왜이리딱딱한것이냐': 6.351951659933069, '기분좋은': 3.1550980890603575, '100번': 6.469540972225809, 'jazzymood': 5.688620491466753, '7살': 6.198091494803055, '9살': 6.198091494803055, '8살': 6.198091494803055, '키즈동화': 7.161912883825516, '8': 5.947357842842801, '쇼미더머니': 5.152038401101011, '가을밤': 4.400890555591684, '영국': 3.5654869648492693, '기타': 3.3597387664526965, '2016멜로디포레스트캠프': 4.716961591976208, '자연': 4.456459229456652, '음악': 3.1550980890603575, '쉼표': 4.716961591976208, '추천': 4.0118207088753115, '아무생각없이': 6.198091494803055, '아무노래': 6.198091494803055, '아무거나': 5.333394893160733, '생각': 3.8725319360972237, '비_오는_날': 5.74726758659594, '비_오는날': 5.74726758659594, '숨은명곡': 3.0810032255920574, '야경': 5.0131442213990205, '노래': 2.8019033184504103, '신나는곡': 5.580793604433814, '썸머': 5.580793604433814, '휴가': 4.2184567329301315, '바캉스': 3.9614796141407385, '해변': 4.284639647018503, '빌보드Hot50': 4.264307372494131, '빌보드': 3.424365907530085, '펑크락': 5.911086961940665, 'Maroon': 5.911086961940665, '위대함': 5.911086961940665, 'Coldplay': 5.911086961940665, '느껴져': 5.911086961940665, '날려버려': 5.911086961940665, 'Greenday': 5.911086961940665, '팝송': 2.0482423055401564, '여자가수': 3.727588982727938, '명품발라드': 4.596753915956933, '고음병': 4.596753915956933, '연인': 3.3041894085807364, 'mood': 6.0648505325015, '빗물같은': 6.351951659933069, '거짓말': 5.876092396035909, '아픈': 5.876092396035909, '찬송': 7.044226789665016, '오승훈': 3.9614796141407385, 'GZ': 3.9614796141407385, '파워워킹': 4.515379831597932, '흥겨운': 3.837413382561932, '출근길': 3.0984815800959984, '맥주': 3.8951525237864364, '비트': 2.4849066497880004, 'CCM': 3.2944365016808193, '소울': 2.1050718008461713, '가요': 2.8247614375157104, '여운': 5.152038401101011, '인디음악': 2.644751745508815, '달': 5.660546302921694, '나만알고싶은음악': 5.777942528786967, '빠른비트': 3.9614796141407385, '댄스곡': 2.8320270501725124, '힘들때': 3.595097315881215, '운동할때': 3.4848202702843785, '잔잔한음악': 5.185747014323461, '보컬재즈': 6.297981286273154, '퓨전재즈': 6.297981286273154, '팝재즈': 6.297981286273154, '심포닉메탈': 6.246784830117413, '우울할때': 4.05948999417771, '추억회상': 3.7085685160247235, '신날때': 4.244391595502333, '2000': 3.161376795749912, '2000년대': 3.7199351633435995, 'Top100에': 4.393204241894947, '댄스신에': 4.393204241894947, '댄스음악': 4.393204241894947, '기쁠때': 4.393204241894947, '칠링': 6.602878603950675, 'HIPSTER': 6.602878603950675, '칠뮤직': 6.602878603950675, '힙스터': 4.0327169734447095, 'Chill': 4.472934472216521, '해외알앤비소울': 4.7063624520831295, 'ksks': 5.185747014323461, '클래식': 2.0482423055401564, '저녁': 2.3767336872069054, '눈': 4.355655842339199, '잠들기전': 3.2402644953200155, 'Lofi': 4.393204241894947, '재즈힙합': 4.264307372494131, 'dope': 5.777942528786967, 'BlackMusic': 6.198091494803055, 'HipHop': 2.1473332935840688, '내적댄스': 2.7990870644067263, '노동요': 3.2021695431074835, '귀르가즘': 4.99885185555592, '호호클럽': 5.688620491466753, '디제이': 5.688620491466753, '꾸준히업뎃': 4.695876482732477, '띵곡': 2.743248513876363, '시원한': 3.0378020441910345, '시원한노래': 4.550714000192032, '여름밤': 3.3240077429710255, '상쾌': 4.60622731933338, '7월': 5.555572447491015, '6월': 5.555572447491015, '8월': 5.555572447491015, 'COOL': 5.20304227384745, '잔잔한팝송': 6.1516682986483175, '자기전에': 6.1516682986483175, '밤에듣기좋은노래': 3.2065705393767208, '힘든날': 6.1516682986483175, '발레음악': 6.02412532934753, '모던': 6.02412532934753, '발레': 6.02412532934753, 'RNBSOUL': 4.7063624520831295, 'before1970': 5.660546302921694, 'EarlySoul': 6.198091494803055, '김영후': 6.843749949006225, 'YOUNG': 6.843749949006225, '밴드': 3.7199351633435995, '내한': 5.294367267476675, '콘서트': 4.6450637496497675, '뉴홉클': 6.602878603950675, '공연': 4.264307372494131, '셋리스트': 4.716961591976208, 'NewHopeClub': 6.602878603950675, '국외': 4.806140301860119, '댄스본능': 6.297981286273154, '셧업앤댄스': 6.297981286273154, '댄스뮤직': 4.829758476296675, '멈출수없는': 6.297981286273154, '신진래퍼': 6.469540972225809, '뉴페이스': 6.469540972225809, '오케이션': 6.469540972225809, '국내힙합': 2.8349500110070274, '기리보이': 6.469540972225809, '비와이': 6.469540972225809, '2010': 4.817878527009333, '삶': 5.2754156022613525, '현섭': 6.602878603950675, '진원': 5.555572447491015, '독서': 3.142668048344133, '커피': 2.556305953238552, '북카페': 4.115369543465505, '우울한': 4.027450327392071, '그냥': 4.027450327392071, '새벽에': 5.483541682999952, '몽환한': 5.809594501270839, '일요일': 6.02412532934753, '시티팝': 4.244391595502333, '나들이': 4.6855013136030585, '목요일': 6.246784830117413, '힙합클럽': 3.6360758705965672, '힙존': 5.660546302921694, '마약': 5.660546302921694, '수록곡': 4.224875816226478, '나만알기아까운노래': 5.530976476601612, '뮤직카로마': 4.6855013136030585, '한동윤': 5.185747014323461, '걸그룹': 2.9355671049962706, '다중음격': 5.555572447491015, '아이돌': 2.343860366851793, '따뜻한': 2.597718227438906, '기분업': 4.2120798070113095, '스타일': 4.6855013136030585, '파티': 3.727588982727938, '인생곡': 5.10353757483204, 'Billboard': 4.635209503351081, 'futurebass': 6.1516682986483175, '퓨쳐베이스': 6.602878603950675, '장마': 3.9614796141407385, '여름방학': 5.606672430453258, '그리움': 3.0196407713466864, '늦잠': 6.107313346184535, '아쉬움': 6.107313346184535, '불면증': 3.416039077737497, '외로움': 4.168577453086971, '테크노': 4.6450637496497675, '빌보드핫100': 4.738509252426811, '연휴': 4.070410507291723, '가족': 3.7870383681589046, '성탄절': 4.481277422201337, '둠칫둠칫': 5.10353757483204, '외국펍': 6.469540972225809, '펍노래': 6.469540972225809, '이태원': 6.469540972225809, '맥주펍': 6.469540972225809, '리듬앤블루스': 5.580793604433814, '패셔너블': 6.1516682986483175, '뷰티샵': 6.1516682986483175, '커플': 3.91364074380256, '아티스트': 6.246784830117413, '부부뮤지션': 6.246784830117413, '에센셜': 6.246784830117413, '명작': 5.168749054843932, '뮤지션': 6.246784830117413, 'Summer': 4.771743385813907, '후회': 5.506975557384805, '부모님': 6.351951659933069, '눈물': 3.4584331833312483, '어버이날': 6.351951659933069, 'indie': 4.943667397989076, '나만의Best3': 4.917191792017123, '피쉬슈즈': 4.917191792017123, '이브': 5.135605554418745, '가즈아': 5.135605554418745, '일발장전': 5.135605554418745, '미세먼지': 4.99885185555592, '건조하고': 6.246784830117413, '답답함': 6.246784830117413, '안녕': 4.86628366855393, '상쾌해지는': 5.530976476601612, '호불호없는': 5.530976476601612, '모두가_흥얼흥얼': 5.530976476601612, '휴일': 4.524094496595017, '봄나물': 6.676889681574017, '졸음운전': 6.676889681574017, '고속도로': 5.506975557384805, '피아노': 2.25025076441861, '관현악': 6.246784830117413, '독주곡': 6.246784830117413, '클럽음악': 6.469540972225809, '1980년대': 6.297981286273154, '그냥좋은노래': 5.876092396035909, '겨울밤': 3.678904778395146, '스타일리쉬': 4.635209503351081, '유니크': 4.199450268348672, '방탄소년단': 3.1956071979288465, '타이틀곡': 4.550714000192032, 'BTS': 3.3340775206497257, '재즈추천': 5.119441479513187, 'GD': 6.756835485327714, '띵곡들': 4.393204241894947, '생기': 7.161912883825516, '히피': 7.161912883825516, '잔디': 7.161912883825516, '바람': 4.244391595502333, '이슬': 7.161912883825516, '풀내음': 7.161912883825516, '초록빛': 7.161912883825516, '목장': 7.161912883825516, '초원': 5.84228758890633, '샤워': 5.2754156022613525, '그루비': 5.947357842842801, '몽글': 5.947357842842801, '햇살': 3.8035370432709934, '봄바람': 4.081455831869468, '멜로디': 4.022212269424784, '출근': 5.313688814259511, 'Lizzo': 5.353501042760802, '컨트리': 4.596753915956933, '빌보드핫차트': 4.738509252426811, '추천곡': 2.9672444539563694, '좋은노래': 4.109634056661489, '연애중': 5.152038401101011, '달달하게': 4.771743385813907, '여름밤에듣기좋은음악': 5.152038401101011, '썸타는중': 5.152038401101011, '러브송': 4.675234648065159, '달달함': 5.606672430453258, 'ASMR': 4.930340702850864, '공부': 2.7837558863438696, '수면': 5.119441479513187, '백색소음': 5.119441479513187, '컴백전쟁': 5.911086961940665, '엠넷': 5.911086961940665, '퀸덤': 5.911086961940665, '퀸덤원곡모음': 5.911086961940665, '트로트': 3.07143577855517, '동요': 3.727588982727938, '인디곡': 4.878766171937243, '리드미컬': 3.7911364192414, '펑키': 5.2754156022613525, '감미로운': 4.162519103057821, '감성힙합': 2.553120162736982, '인싸': 3.9614796141407385, '스티비원더': 6.1516682986483175, 'funk': 5.633244007807469, '클럽노래': 4.878766171937243, '외사랑': 6.676889681574017, '너에게': 6.676889681574017, '편안한명상을위한': 4.424319546864133, '야외에서듣는피아노연주곡': 4.424319546864133, '공부하며듣는': 4.424319546864133, '힐링피아노연주곡': 4.424319546864133, '햇살좋은날': 4.424319546864133, '시험기간집중할때': 4.424319546864133, '모닝콜': 3.3240077429710255, '드림팝': 6.0648505325015, '슈게이징': 6.0648505325015, '몽환': 3.8288312398688773, '실험': 6.0648505325015, '센치한날': 5.294367267476675, 'WJSN': 6.297981286273154, '우주소녀': 6.297981286273154, '여유': 3.284784977333674, '도입': 4.970873693949233, '낭만': 4.727676349611192, '인생': 6.1516682986483175, '쓸쓸함': 4.054075680884808, '5월_4주차': 5.606672430453258, '주간': 5.606672430453258, '최신': 3.6325925091741302, '전지음악': 5.606672430453258, '인기': 4.138657462422678, '주간일렉트로니카': 5.606672430453258, '혼자만의겨울': 5.606672430453258, '혼자있을때': 5.238567362142263, '감성발라드': 3.8035370432709934, 'playlist3': 5.947357842842801, '슬픈노래': 5.2754156022613525, '이별노래': 4.817878527009333, '기분': 4.878766171937243, 'JPOP': 4.716961591976208, '센치한': 3.3781311929798243, '외국힙합노래': 3.9614796141407385, '인생곡들만': 5.555572447491015, '연말파티': 5.580793604433814, '올드팝': 3.7469968011585073, '믿고듣는': 4.50674210710591, '소란': 5.74726758659594, '행복': 3.6256639344923407, '데이트': 3.226639040212154, '내취향': 5.087885645230062, '짧고얕은음악지식속엄선': 6.602878603950675, '카페에서듣기좋은': 4.416447231516491, '티타임': 4.8539574181102, '쓸쓸': 3.4998061837496883, 'groove': 5.530976476601612, '크리스마스노래': 5.506975557384805, 'Chirstmas': 5.506975557384805, '끝': 5.633244007807469, '정서발달': 6.533982617606463, '아기동요': 5.947357842842801, '리스트': 5.633244007807469, '젝스키스': 6.02412532934753, '더포앳': 6.602878603950675, '류이치사카모토': 6.602878603950675, '김윤': 6.602878603950675, '김광민': 6.602878603950675, '박지섭': 6.602878603950675, '이루마': 6.602878603950675, '바이준': 6.602878603950675, '들었으면': 5.3740237629217935, '한번쯤': 5.3740237629217935, '이미지는_직접찍은사진': 5.3740237629217935, '하드록메탈': 5.84228758890633, '외로운': 4.806140301860119, '록발라드': 6.198091494803055, '남성적인': 6.198091494803055, '쓸쓸한': 3.45554651807784, '봄캐롤': 3.5558194260986595, '봄노래': 3.5273969405943633, '로큰롤': 5.333394893160733, '로큰롤명예의전당': 6.246784830117413, '명예의전당': 6.246784830117413, '업데이트중': 4.771743385813907, '잔잔함': 4.550714000192032, '조용한음악': 4.771743385813907, '알앤비소울': 4.771743385813907, 'SEX': 6.246784830117413, '트렌디하게': 5.135605554418745, 'Instruments': 6.351951659933069, '우아한': 6.351951659933069, '관악기': 6.351951659933069, 'classic': 4.7063624520831295, '남자아이돌': 4.312427712228204, '아이돌명곡': 4.333802003990894, '라이징스타': 5.057306813405402, '슬픔의': 4.943667397989076, '명상': 3.5687315843063887, '미술관': 4.6855013136030585, '청량함': 5.185747014323461, 'Elecronica': 5.185747014323461, '더위': 3.435584723971631, '배경음악': 3.2448513112714616, '노래방': 3.1103224141538592, 'Feat': 4.655017991715659, 'Duet': 4.655017991715659, '집중': 2.9774835919655915, '태교음악': 4.424319546864133, '어린이클래식': 4.60622731933338, '태교클래식': 4.60622731933338, '마음을감싸주는': 4.60622731933338, '릴랙스요가클래식': 4.60622731933338, '힐링테라피요가': 4.60622731933338, '잠결': 6.469540972225809, '토요명화': 6.469540972225809, '영화OST': 5.74726758659594, '중독성': 3.7353047682950913, '헤이즈': 5.483541682999952, '민중가요': 5.530976476601612, '이소라': 5.530976476601612, '추억의': 3.6536871125160912, '아미라면': 6.246784830117413, '최고의노래': 6.246784830117413, '아미를위한': 6.246784830117413, '힐링노래': 5.530976476601612, '아련하게': 6.756835485327714, '연주음악': 4.829758476296675, '외로움을': 6.756835485327714, '피곤': 4.498179990632957, '가을감성': 3.7123423451285396, '꿈': 5.238567362142263, '집': 3.515034527193101, '상큼한': 5.3740237629217935, '발랄한': 5.3740237629217935, '청량한': 4.440257192622401, '사이다': 5.057306813405402, '신맛': 5.3740237629217935, '텐션업': 5.3740237629217935, '쇼핑': 5.911086961940665, 'bgm': 3.8035370432709934, '감성적인': 3.9614796141407385, '책읽을때': 3.5818225852079313, 'Popular': 4.29843450143285, 'uspop': 4.727676349611192, '헬스장에서운동할때듣는노래': 4.917191792017123, '헬스장에서': 4.917191792017123, '운동할때듣는음악': 4.917191792017123, '헬스장': 4.917191792017123, '보이그룹': 3.89058555416309, '신곡': 3.2176657907465276, '옥콩': 5.633244007807469, '들을거없을때': 5.876092396035909, '많은곡수': 5.876092396035909, '좋아요좀눌러줘요': 5.876092396035909, '좋은곡들': 5.876092396035909, '방해금지': 6.1516682986483175, '지칠때': 5.438272526970362, '방학': 5.911086961940665, '달콤': 4.655017991715659, '파란': 5.911086961940665, '가을여행': 5.911086961940665, '하늘': 4.4086378971237465, '광고': 4.6157931733793784, '광고음악': 4.150514833689155, '가을이별': 5.84228758890633, '가을동화': 5.84228758890633, '뉴욕도': 6.93896320610633, '드럼': 7.044226789665016, '스래시메탈': 7.044226789665016, '환상적인': 7.044226789665016, '격렬함': 7.044226789665016, '속도감': 7.044226789665016, '들어봤을': 3.9614796141407385, '1960': 3.8118943685296527, '한번쯤은': 3.9614796141407385, '옥타곤': 7.161912883825516, 'Matisse': 7.161912883825516, 'Sadko': 7.161912883825516, '밴드음악': 3.9614796141407385, 'soul': 3.1826211123704624, 'JAZZY': 6.469540972225809, '박자': 5.777942528786967, '월요병': 3.6395720698783287, '음색': 3.5984452981943162, '겨울감성': 3.7010654388794677, '피크닉': 4.126943490704529, '무도': 7.449401045088014, '무한도전': 7.449401045088014, '커피와': 6.409013216782288, 'label_crew': 5.74726758659594, '스웨그': 5.74726758659594, 'aomg': 4.917191792017123, 'hilite': 5.74726758659594, '게임': 6.756835485327714, '넥슨': 6.756835485327714, '니드포스피드': 6.756835485327714, 'needforspeed': 6.756835485327714, '니드포스피드엣지': 6.756835485327714, '피아노연주곡모음': 4.075917393043935, '카페에서듣기좋은음악': 4.075917393043935, '아메리카노': 4.075917393043935, '가사없는': 4.075917393043935, '뉴에이지피아노연주곡': 4.075917393043935, '머리를맑게해주는': 4.075917393043935, '아침잠을깨워주는': 4.075917393043935, 'Home': 6.246784830117413, '감미롭고': 4.930340702850864, '차분': 5.717511330568813, '조용': 5.717511330568813, '8090세대': 5.74726758659594, '드럼머신': 6.756835485327714, 'TR808': 6.756835485327714, '리믹스': 4.904216017090188, '하이브리드': 6.756835485327714, '팝랩': 6.756835485327714, '흑인음악': 3.7788946139825224, '하우스': 3.5687315843063887, '키즈클래식': 6.676889681574017, '올해의앨범': 6.409013216782288, '연말결산': 4.312427712228204, '박효재': 6.409013216782288, '스쿨오브록': 5.606672430453258, '썸남': 6.0648505325015, '썸녀': 6.0648505325015, '침대': 4.03801251590844, '퇴근': 4.8417835858062785, '꽃': 4.370502148821927, '공감': 4.541760156992803, '2016': 4.264307372494131, '서재페': 4.027450327392071, '제10회': 4.264307372494131, '여름송': 6.351951659933069, '다정한': 6.93896320610633, '달콤한': 4.00153992148716, '5살': 6.843749949006225, '4살': 6.843749949006225, '3살': 6.843749949006225, '6살': 6.843749949006225, '아기동화': 6.843749949006225, '방탄소년단명곡': 6.246784830117413, '감성팝': 4.749462911647705, '팝발라드': 4.904216017090188, '감상': 6.409013216782288, '블랙아이드필승': 6.756835485327714, '아무로나미에': 5.606672430453258, '세트리스트': 4.970873693949233, '꿀보이스': 4.99885185555592, '로맨틱': 3.5462498418094417, '레스토랑': 6.297981286273154, '바': 6.297981286273154, '유니크한': 4.716961591976208, '흔하지않은': 4.716961591976208, '시크한': 4.716961591976208, '한국어패치': 5.606672430453258, '수능금지곡': 5.606672430453258, '금지곡': 5.606672430453258, '한글': 5.606672430453258, '한국어': 5.606672430453258, '외국힙합': 3.1912581238953655, '트렌디한': 3.9763076872446437, 'JAYJE': 3.9763076872446437, 'Moti': 5.911086961940665, 'Kshmr': 5.911086961940665, 'UMF': 5.911086961940665, 'DVBBS': 5.911086961940665, 'MartinGarrix': 5.911086961940665, '고막': 5.660546302921694, '좋아요': 3.91364074380256, '쓸쓸하고': 4.9847635828863694, '편집샵': 4.760540026029241, '모델': 5.74726758659594, '런웨이': 5.74726758659594, 'MTVEMA': 5.04236533552038, '토닥토닥': 4.917191792017123, '센치': 3.2448513112714616, '울고싶은날': 5.660546302921694, '원곡': 4.904216017090188, '비교': 4.904216017090188, '팬텀싱어': 4.904216017090188, '페스티벌': 4.2915126271330495, '응원': 4.515379831597932, '수험생': 6.02412532934753, '수능': 6.02412532934753, '긍정': 6.02412532934753, '시험': 5.220645358449068, '겨울공기': 6.246784830117413, '취향저격DJ': 6.246784830117413, '몽환적': 4.578077499260938, '또라이': 5.688620491466753, '아기클래식': 6.93896320610633, '0살': 6.93896320610633, 'ralalra': 4.917191792017123, '산뜻': 4.6450637496497675, '포근한': 3.6051769905664535, '잔잔': 4.99885185555592, '여름노래': 4.115369543465505, '아재': 4.559750482219207, '응답하라': 4.20574449613151, '복고': 4.20574449613151, '세대공감': 4.559750482219207, '30대': 4.326624988833461, '10대': 4.559750482219207, '애정': 6.1516682986483175, '듣는': 9.240675571772256, 'Vocal_Jazz': 5.84228758890633, 'Vocal': 5.84228758890633, 'Standard': 5.84228758890633, '잔잔하고_따스한': 6.107313346184535, '어쿠스틱음악': 6.107313346184535, '웹진웨이브': 6.533982617606463, 'weiv': 6.533982617606463, '위클리초이스': 5.688620491466753, '뉴이스트': 6.1516682986483175, 'Revealed': 5.530976476601612, '씨티팝': 4.393204241894947, '밤의시티팝': 4.393204241894947, '도시': 4.224875816226478, '도시의밤': 4.393204241894947, '밤드라이브': 4.393204241894947, '노을지는': 4.393204241894947, '레트로': 4.393204241894947, '고막힐링': 6.602878603950675, '세기말': 6.602878603950675, 'HiFi가이드': 6.198091494803055, '한지훈': 6.198091494803055, '이스케이프': 5.911086961940665, '이스케이프코리아2019': 5.911086961940665, '페발': 5.911086961940665, '할로윈': 5.087885645230062, '루프탑': 4.917191792017123, '리듬': 4.498179990632957, '운전': 3.8592112519844797, '신나고': 6.246784830117413, '기분을': 6.246784830117413, '올려줄': 6.246784830117413, '영혼': 6.533982617606463, '박효신': 6.533982617606463, '즐겨드는': 6.0648505325015, '업뎃중': 6.246784830117413, '무더위': 3.7010654388794677, '한국ost': 4.017002496124228, 'OST모음': 3.693621046686519, '해외팝': 4.891408909620621, '핫해': 4.891408909620621, '무념무우우우우우우우웅유상': 6.02412532934753, '멍때리기': 6.02412532934753, '일본노래': 6.533982617606463, '일본노래추천': 6.533982617606463, '일본': 5.717511330568813, '한번쯤들어봤던노래': 4.162519103057821, '감성감성': 4.162519103057821, '유명한': 4.162519103057821, '세벽감성': 4.162519103057821, '센치하게': 4.162519103057821, '뮤직테라피': 6.1516682986483175, '차안': 3.7314390685327323, '래퍼': 4.081455831869468, '탑골공원': 5.135605554418745, '그루비룸': 6.297981286273154, '딘': 6.297981286273154, '식케이': 6.297981286273154, '하드코어': 5.688620491466753, '작업': 4.655017991715659, '베이스': 4.930340702850864, 'disco': 6.676889681574017, '왜그럴까': 5.606672430453258, '여가수가많타': 5.606672430453258, '아이돌이넘많타': 5.606672430453258, '취향': 5.606672430453258, '휴양지': 3.6536871125160912, '열대야': 4.264307372494131, '경쾌한': 4.126943490704529, '두근두근': 4.126943490704529, '고막여친': 4.416447231516491, '봄날': 4.174673898665573, '집콕': 4.6855013136030585, '그래미어워드': 5.74726758659594, '컨츄리': 5.74726758659594, '61회': 5.74726758659594, '가스펠': 5.74726758659594, 'Motown': 5.911086961940665, '모타운': 5.911086961940665, '감성자극': 3.618785624682463, '장희': 3.9614796141407385, '2000년이후': 6.1516682986483175, '그래도': 6.1516682986483175, 'rhcp': 6.1516682986483175, '아픔': 5.185747014323461, '명장면': 5.394980595751788, '드라마': 2.8467388757310794, '잔잔한노래': 4.054075680884808, '조용한노래': 4.587371210417829, '버스창가': 4.587371210417829, '가사': 3.9277441881140245, '선선한밤': 4.587371210417829, '잠자기_전': 4.587371210417829, '워십': 4.8417835858062785, '경배': 4.8417835858062785, '하나님': 4.8417835858062785, '찬양': 4.8417835858062785, '예수님': 4.8417835858062785, '은혜': 4.8417835858062785, '10만': 4.277814884219929, '멜론': 4.277814884219929, '새해복많이받으세요': 5.294367267476675, '벅차오르는': 4.6855013136030585, '여돌': 4.50674210710591, '멜로디포레스트캠프': 4.957176715571489, '멜포캠': 4.957176715571489, '공연오락반장': 4.957176715571489, '떡상': 5.438272526970362, '신예': 5.438272526970362, '2020년': 5.438272526970362, '복많이받으세요': 5.438272526970362, '루키': 5.10353757483204, '시작': 4.27103767582437, '출발': 5.580793604433814, '2020': 5.580793604433814, '연초': 5.580793604433814, '화이팅': 4.7063624520831295, '싱잉랩': 5.483541682999952, '씨잼': 6.676889681574017, '멜랑꼴리': 5.3740237629217935, '베드룸팝': 5.3740237629217935, '비프리': 6.756835485327714, '운전할때': 6.469540972225809, '끄덕끄덕': 6.469540972225809, '엄마음악': 6.198091494803055, '태교': 3.3017415647290673, '아기음악': 6.198091494803055, '까페음악': 6.198091494803055, '감동적인': 5.530976476601612, '임산부': 6.198091494803055, '여자보컬': 4.625453282231197, '음색부자': 5.688620491466753, '잘모르는': 5.416390215277018, '서글픈': 5.416390215277018, '부드럽고': 5.660546302921694, '쉼': 5.660546302921694, 'KPOP탐구생활': 6.469540972225809, '아이돌탐구생활': 6.469540972225809, '릴렉스': 5.119441479513187, '차분한': 3.7353047682950913, '부드러운': 3.986321435634058, '재즈팝': 5.606672430453258, '페미니즘': 6.0648505325015, '여성': 6.0648505325015, '썸남썸녀': 5.483541682999952, 'something': 5.483541682999952, 'R': 5.438272526970362, '클린트이스트우드': 6.93896320610633, 'etc': 4.60622731933338, '영화음악': 5.633244007807469, 'ClintEastwood': 6.93896320610633, '영화감독': 6.93896320610633, '생일': 6.351951659933069, '안지영': 6.351951659933069, '볼빨간사춘기': 5.185747014323461, '생일축하노래': 6.351951659933069, '최애음악': 4.829758476296675, '취저보이스': 5.633244007807469, '멜론차트노답': 6.351951659933069, 'POP차트': 6.351951659933069, '케샤': 6.676889681574017, '음색깡패': 4.186982984711921, '황덕호': 5.530976476601612, '원더풀재즈': 5.530976476601612, '생각나는': 6.02412532934753, '감성합합': 3.9614796141407385, '장르불문': 5.438272526970362, '비스트': 6.93896320610633, 'JessGlynne': 6.409013216782288, '제스글린': 6.409013216782288, '인디아티스트들의추천음악': 5.633244007807469, '중2병': 6.0648505325015, '락메탈': 6.0648505325015, '지하철': 4.904216017090188, '노을': 5.633244007807469, '기말고사': 4.186982984711921, '음악의세계': 4.186982984711921, '이갈룡': 4.970873693949233, '공허함': 4.568871126570853, '가을비': 4.393204241894947, '분위기_좋은_노래': 5.911086961940665, '세련되고': 5.911086961940665, '송가인': 4.625453282231197, '트롯스밍': 6.297981286273154, '정미애': 4.625453282231197, '날': 6.297981286273154, '날씨': 6.297981286273154, '신나는음악': 4.829758476296675, '러블리쏘': 4.231337609907992, '이별해서': 5.10353757483204, 'RandB': 5.606672430453258, 'PBRandB': 7.161912883825516, '패밀리그룹': 5.911086961940665, '비지스': 5.911086961940665, '팝_레전드': 5.911086961940665, '잭슨파이브': 5.911086961940665, '1960_70': 5.3740237629217935, '오스먼드패밀리': 5.911086961940665, '카펜터즈': 5.911086961940665, '여행하고': 4.738509252426811, '봄이': 4.738509252426811, '산책이나': 4.738509252426811, '풍경에': 4.738509252426811, '숫자제목': 5.238567362142263, '숫자': 5.238567362142263, '안예은단독공연': 6.93896320610633, '안예은': 5.3740237629217935, '마녀성의춘몽가': 6.93896320610633, '홍연언니': 6.93896320610633, 'urban': 5.84228758890633, '얼터알앤비': 5.84228758890633, 'contemporary': 5.84228758890633, '어번컨템포러리': 5.84228758890633, 'Alternative': 5.84228758890633, '최신팝': 5.717511330568813, '팝락': 5.717511330568813, 'PopRock': 5.717511330568813, '처음일듯': 6.246784830117413, '트와이스': 6.93896320610633, '일본타이틀': 6.93896320610633, 'Lofihiphop': 5.911086961940665, '징글벨': 6.602878603950675, '메리크리스마스': 6.602878603950675, '캐롤송': 6.602878603950675, '도움': 3.9614796141407385, '도입부부터좋은': 6.533982617606463, '쿵쿵': 5.717511330568813, '일할때듣기좋은노래': 6.533982617606463, '찬공기': 6.198091494803055, '가을시작': 6.198091494803055, '대화': 5.3740237629217935, '괜찮아요': 5.3740237629217935, '매장음악카페': 6.297981286273154, '사랑설렘재즈': 6.297981286273154, '헤어진후': 5.353501042760802, '감성음악': 4.115369543465505, '이별발라드': 5.353501042760802, '이별감성': 5.353501042760802, '영화': 3.0268617325604326, '명반': 3.9614796141407385, '잔잔한_노래': 5.84228758890633, '90s': 6.409013216782288, 'biggie': 6.409013216782288, '2Pac': 6.409013216782288, '로보트': 6.297981286273154, 'ROBOT': 6.297981286273154, 'OST명곡': 5.84228758890633, '시대별차트': 4.00153992148716, '국내차트': 4.00153992148716, '감미로움': 5.84228758890633, '7080': 5.119441479513187, '가요제': 5.506975557384805, '대학': 5.506975557384805, '상큼발랄': 4.424319546864133, '샹송': 4.655017991715659, '프랑스': 4.943667397989076, '칸소네': 5.2754156022613525, '이탈리아': 4.957176715571489, '미국힙합': 4.943667397989076, '외힙입문': 4.943667397989076, '미국': 4.943667397989076, '슬픈힙합': 5.460648778465489, '슬플때': 5.460648778465489, '방송': 5.809594501270839, '하트시그널': 5.135605554418745, '하트시그널BGM': 5.809594501270839, '하트시그널3': 5.809594501270839, '나이트': 4.665074260157163, '많이들어본': 5.119441479513187, '옛날팝송': 5.119441479513187, '이국적인': 6.351951659933069, '5월의신부': 6.0648505325015, '웨딩송': 6.0648505325015, '결혼식': 6.0648505325015, '축가': 4.6450637496497675, '장르Top100': 6.246784830117413, '트로트Top100': 6.246784830117413, '성인가요Top100': 6.246784830117413, '트로트차트': 6.246784830117413, '인기트로트': 6.246784830117413, 'TOP100': 6.246784830117413, '해외': 6.602878603950675, '차트': 4.199450268348672, '멜론DJ': 5.555572447491015, '인기곡': 3.991367610642665, '렬루': 6.107313346184535, '출근길에': 5.985001398192873, '자전거': 3.8725319360972237, '새봄': 6.246784830117413, '홈트': 6.297981286273154, '홈트레이닝': 6.297981286273154, '신청곡': 6.02412532934753, '송라이터': 6.02412532934753, '1970_80': 5.555572447491015, '아날로그': 6.02412532934753, '스테디셀러': 6.02412532934753, '오페라': 6.246784830117413, '아리아': 6.246784830117413, '베르디': 6.246784830117413, '합창곡': 6.246784830117413, '작곡가': 6.246784830117413, 'composer': 6.246784830117413, '리메이크': 6.0648505325015, '감동': 6.0648505325015, '션멘데스': 6.02412532934753, '분위기있는': 4.86628366855393, '방콕': 4.6855013136030585, '나른함': 5.580793604433814, '그리운': 5.580793604433814, 'RapHiphop': 4.675234648065159, '일렉트로니카팝': 4.675234648065159, 'Stylish': 4.675234648065159, '우울할땐그냥울어도되죠': 6.756835485327714, '괜찮은척하지않아도되요': 6.756835485327714, '애써밝으려고하지말아요': 6.756835485327714, '진짜나를찾아가는과정중': 6.756835485327714, '듀오': 5.333394893160733, '새공': 5.333394893160733, '새벽공방': 5.333394893160733, 'Soul_Pop': 6.246784830117413, '트랜디': 6.246784830117413, 'GROOVY한': 6.246784830117413, '해외RnB': 6.246784830117413, 'EltonJohn': 6.756835485327714, '엘튼존': 6.756835485327714, '롱리다': 7.044226789665016, '에이핑크': 7.044226789665016, '콩쿠르': 6.469540972225809, '바이올린': 3.8951525237864364, '아르튀르그뤼미오': 6.469540972225809, 'ArthurGrumiaux': 6.469540972225809, '연주자': 6.469540972225809, 'violin': 6.469540972225809, '바이올리니스트': 6.469540972225809, '명연': 6.469540972225809, '목아픔': 6.0648505325015, '진땀': 6.0648505325015, '따뜻함': 5.220645358449068, '감각적': 6.246784830117413, '신스팝': 5.460648778465489, '느낌': 4.578077499260938, '낭만적': 5.688620491466753, '결혼': 4.60622731933338, '프로포즈': 4.60622731933338, '까페노래': 5.606672430453258, '엔플라잉': 7.161912883825516, '컴백': 7.161912883825516, '신화콘서트': 7.044226789665016, '코다라인': 4.1211392203027035, '파우푸': 4.1211392203027035, '21세비지': 4.1211392203027035, '디플로': 4.1211392203027035, '프렌치몬타나': 4.1211392203027035, '카이고': 3.539923591163782, '인디팝': 5.333394893160733, '음원선물': 5.20304227384745, '스밍초보': 5.20304227384745, '송가인팬': 5.20304227384745, '정미애님팬': 5.20304227384745, '취저': 4.224875816226478, '선택장애': 6.02412532934753, 'drive': 6.198091494803055, 'Rap': 5.057306813405402, '편한음악': 6.1516682986483175, '쉬어가기': 6.1516682986483175, '휴식시간': 5.717511330568813, '힘빼고듣는음악': 6.1516682986483175, '감성곡': 5.2754156022613525, '뭉클한': 6.351951659933069, '가수팬송': 5.313688814259511, '아이돌팬송': 5.313688814259511, '팬송': 5.313688814259511, '친구': 5.152038401101011, '졸업': 5.777942528786967, '우정': 5.777942528786967, '트랩': 3.8331126972838487, '라이딩': 6.297981286273154, '랩힙합': 5.0724778767629175, '추운': 6.351951659933069, '쌀쌀한': 5.152038401101011, '비오는날듣기좋은노래': 4.695876482732477, 'Glee': 6.469540972225809, '미드': 6.469540972225809, '글리': 6.469540972225809, '리듬공유': 6.297981286273154, '같이들어요': 6.297981286273154, '계속생각나는노래': 6.297981286273154, '내가듣고싶어추천하는노래': 6.297981286273154, '피아노연주곡': 6.93896320610633, '리프레쉬': 6.93896320610633, '피아노협주곡': 6.93896320610633, '마음': 5.20304227384745, '하루': 5.555572447491015, '흐름': 6.602878603950675, '점심': 6.602878603950675, '나른한오후': 5.057306813405402, '수고했어오늘도': 4.738509252426811, '옛사랑': 5.057306813405402, '사랑스러운': 5.057306813405402, '어두운': 5.057306813405402, '추워': 4.716961591976208, '버스안': 5.057306813405402, '밤공기': 5.057306813405402, '밤거리': 5.057306813405402, '오마이걸': 4.550714000192032, '잔망': 4.448324621387957, '발라드감성': 5.947357842842801, '공부할_때': 5.947357842842801, '힐링송': 5.947357842842801, '담소네공방': 5.947357842842801, '새벽_감성': 5.947357842842801, '가사가좋은음악': 5.947357842842801, '뿌듯': 6.02412532934753, '마무리': 6.02412532934753, '하교길': 6.02412532934753, '다양한장르': 6.02412532934753, '카페에서': 5.876092396035909, '슈가맨': 6.351951659933069, '대학가요제': 6.351951659933069, '욘사마': 6.351951659933069, '소유진': 6.351951659933069, '반전드라마': 6.351951659933069, '겨울연가': 6.351951659933069, '구미호외전': 6.351951659933069, '잊혀진_노래': 6.351951659933069, '3': 5.84228758890633, 'rough': 5.84228758890633, 'NCS': 5.84228758890633, '소풍': 4.727676349611192, '화이트데이': 5.84228758890633, '솔로': 3.326514992425773, '아이유': 4.541760156992803, '잔나비': 5.688620491466753, '백예린': 5.688620491466753, '영국감성': 5.416390215277018, '현기증': 5.606672430453258, '아지랑이': 5.606672430453258, '발렌타인데이': 4.943667397989076, 'FrankOcean': 6.602878603950675, 'peace': 6.602878603950675, '멜로디컬': 6.602878603950675, '용기': 5.238567362142263, '희망': 5.238567362142263, '울고싶을때': 5.168749054843932, '가야씨': 4.370502148821927, '퇴폐': 5.460648778465489, '춤': 3.693621046686519, '반젤리스': 6.246784830117413, '명곡을널리': 5.152038401101011, '추운날': 6.1516682986483175, '여름휴가': 6.02412532934753, '트로피컬': 6.02412532934753, '신남': 4.319500475865552, '골인': 5.416390215277018, '하우스음악': 3.9614796141407385, '내맘대로선곡': 3.9614796141407385, '12월': 4.806140301860119, '베낭여행': 5.3740237629217935, '영상작업': 5.3740237629217935, '일상속': 5.152038401101011, '2015': 6.1516682986483175, '낙엽': 4.144568007416602, '듀엣곡': 6.246784830117413, '팝송모음': 6.246784830117413, '춤추고싶은날': 3.9614796141407385, '내적': 3.9614796141407385, '사랑노래': 4.186982984711921, '허허': 5.20304227384745, '행복해': 5.20304227384745, '휘트니스': 6.107313346184535, '러닝머신': 6.107313346184535, '듣기좋은': 5.168749054843932, '즐거운': 4.400890555591684, '뮤직트랙': 5.633244007807469, '사운드소울': 5.985001398192873, '기묘한이야기': 5.985001398192873, '기묘한이야기시즌3': 5.985001398192873, '시즌3': 5.985001398192873, '다크': 5.20304227384745, '퇴폐적': 5.20304227384745, '우주': 5.20304227384745, '밤새벽': 3.981301550392258, '우울함': 5.20304227384745, '날씨좋은날': 6.198091494803055, '트랜드': 3.9614796141407385, '본토': 3.9614796141407385, '본토힙합': 3.9614796141407385, '로파이': 6.246784830117413, '피펑크': 6.533982617606463, 'GeorgeClinton': 6.533982617606463, '조지클린턴': 6.533982617606463, '펑카델릭': 6.533982617606463, '팔러먼트': 6.533982617606463, '고음': 5.057306813405402, '신나': 4.8539574181102, '명절': 5.057306813405402, '불면증해소': 3.9614796141407385, '보사노바': 5.606672430453258, '브라질': 5.606672430453258, '예쁜': 5.809594501270839, '매력적인': 5.057306813405402, '오케스트라': 6.297981286273154, '휘트니휴스턴': 6.843749949006225, '백스트리트보이즈': 6.843749949006225, '90년대명곡': 6.843749949006225, 'oldpop': 6.843749949006225, '90년대팝': 6.843749949006225, '그루비한': 5.238567362142263, '싸이코': 5.660546302921694, '아바맥스': 5.660546302921694, 'Halloween': 5.660546302921694, '데이빗보위': 5.660546302921694, '그런날엔': 5.606672430453258, '흑태': 5.606672430453258, '작곡': 3.7911364192414, '기억해': 5.606672430453258, '빨간우산': 5.606672430453258, '작사': 5.606672430453258, '혼밥': 6.246784830117413, '출근길_기분좋은': 5.20304227384745, '노래방가면무조건': 5.20304227384745, '흥폭발': 3.8951525237864364, '풋풋한': 5.911086961940665, '첫사랑': 5.168749054843932, '하프': 5.460648778465489, '이불': 5.460648778465489, '대표곡': 4.50674210710591, '회식': 5.633244007807469, '애창곡': 4.9847635828863694, '분위기띄울때': 4.29843450143285, '올드감성': 6.676889681574017, '팝송을': 6.0648505325015, '지친': 6.297981286273154, '추석': 5.238567362142263, '설날': 5.876092396035909, '신난_흥겨운': 5.876092396035909, '고독': 5.438272526970362, '2월': 6.02412532934753, '활기차게': 6.02412532934753, '다시': 6.02412532934753, '새해다짐': 6.02412532934753, '편한': 5.606672430453258, '감수성': 4.904216017090188, '불타는금요일': 6.843749949006225, 'Live': 5.717511330568813, '2018': 4.8417835858062785, '최신곡': 5.438272526970362, 'AOA': 6.246784830117413, '가을겨울사이': 6.469540972225809, '11월': 6.469540972225809, 'Music': 5.2754156022613525, 'SWAG': 6.198091494803055, '들썩들썩': 4.144568007416602, '해외랩힙합': 5.530976476601612, '피아노곡': 4.806140301860119, '찌질한': 6.02412532934753, '벽': 6.02412532934753, '토플': 6.107313346184535, '토익': 6.107313346184535, '꽃놀이': 5.985001398192873, '최신댄스': 5.74726758659594, '매장에서듣기좋은노래': 5.74726758659594, '웅장한': 5.580793604433814, '강렬한': 5.333394893160733, '회사': 5.057306813405402, '퇴사': 6.02412532934753, '분노': 5.333394893160733, '화날때': 6.02412532934753, '갠취': 4.665074260157163, '개취': 4.665074260157163, '깊은밤': 6.246784830117413, '월요일': 5.0131442213990205, '빠담빠담': 5.876092396035909, '도키도키': 5.876092396035909, '달닻': 4.319500475865552, '홀리데이': 5.438272526970362, 'Christmas': 5.438272526970362, 'xmas': 5.438272526970362, '고음폭발': 5.777942528786967, '센티멘탈': 5.0724778767629175, 'HipHop_Rap': 4.568871126570853, '기분전환에좋은신나는노래': 4.568871126570853, '댄스유발': 4.448324621387957, '두둠칫': 4.448324621387957, '고급진사운드': 4.448324621387957, '활기찬': 5.606672430453258, '오디오': 5.633244007807469, '전곡재생': 5.633244007807469, '아이즈원_전곡재생': 5.633244007807469, '아이즈원': 5.633244007807469, '전곡듣기': 5.633244007807469, '풀앨범': 5.633244007807469, '묩': 5.3740237629217935, '자작곡': 5.3740237629217935, '슈퍼스타K': 5.3740237629217935, '가을노래': 5.777942528786967, '시즌송': 3.84607311841178, '음스타그램': 5.74726758659594, '힙스타그램': 5.74726758659594, '한국힙합': 3.8504325155255574, 'KOREAN_HIPHOP': 5.74726758659594, '봄캐럴': 3.9614796141407385, 'Hillsong': 7.161912883825516, '예배': 7.161912883825516, '힐송': 7.161912883825516, 'Worship': 7.161912883825516, '호주': 7.161912883825516, '축제': 5.438272526970362, '주점': 5.438272526970362, '술': 5.438272526970362, '대학교': 5.438272526970362, '페이버릿': 6.676889681574017, 'favorite': 6.676889681574017, 'FC서울': 6.756835485327714, '서울': 6.756835485327714, '축구': 6.756835485327714, 'K리그': 6.756835485327714, '질주': 5.438272526970362, '락페스티벌': 6.246784830117413, '점프': 6.246784830117413, '파워풀': 6.246784830117413, '아이돌그룹': 6.246784830117413, '케이팝': 5.087885645230062, 'TV': 4.559750482219207, '내가좋아하는': 4.559750482219207, '좋아좋아': 4.559750482219207, '사극': 4.559750482219207, '일할때듣는음악': 6.297981286273154, '랩메탈': 6.02412532934753, '프로듀서': 6.02412532934753, 'Producer': 5.438272526970362, '뉴메탈': 6.02412532934753, '퇴근후': 5.777942528786967, '비오면업뎃': 5.777942528786967, '버스안에서': 5.777942528786967, '오늘도수고하셨습니다': 5.777942528786967, 'futureRnb': 6.198091494803055, '시부야케이': 6.198091494803055, 'Future': 6.198091494803055, '힘': 5.84228758890633, '애인': 5.84228758890633, '취향저걱': 3.9614796141407385, '잠잘때': 4.749462911647705, '조금다른캐롤': 5.876092396035909, '캠핑': 3.8331126972838487, '엠비션뮤직': 4.193196601853133, '릴러말즈': 4.193196601853133, '작업곡': 4.193196601853133, '듣기좋은곡': 6.198091494803055, '산책해요': 5.0724778767629175, '어쿠스틱한': 5.0724778767629175, '쿵짝쿵짝': 6.198091494803055, '코인노래방': 4.806140301860119, '남자발라드': 5.809594501270839, '노래방애창곡': 5.809594501270839, '추억의발라드': 5.809594501270839, '엑소디움': 5.688620491466753, '연말모임': 6.246784830117413, '모임': 6.246784830117413, '술자리': 6.246784830117413, '적적': 5.947357842842801, '감기': 5.947357842842801, '콧물': 5.947357842842801, '졸려': 5.947357842842801, '몸살': 5.947357842842801, '차분히': 5.947357842842801, '유닛': 5.168749054843932, '콜라보': 5.168749054843932, '스틸리댄': 6.533982617606463, 'SteelyDan': 6.533982617606463, '신비': 4.930340702850864, '신비한': 4.930340702850864, '잠안올때': 4.930340702850864, '잠오는': 4.930340702850864, '첫눈': 4.440257192622401, '깨끗': 6.676889681574017, 'i_know_it': 6.676889681574017, '오피셜차트': 3.8331126972838487, 'em': 3.9614796141407385, 'eminem': 3.9614796141407385, 'RapGod': 3.9614796141407385, '에미넴': 3.9614796141407385, '꿀잠': 4.087026181414421, '오르골': 5.057306813405402, '어린이집': 4.341032290743496, '낮잠': 4.05948999417771, '오르골자장가': 5.256819989687478, '유치원': 5.256819989687478, '통잠': 5.256819989687478, '여행휴식': 6.107313346184535, '세부장르': 6.107313346184535, 'house': 6.107313346184535, '주님을': 5.688620491466753, '기도하는': 5.688620491466753, '와인': 4.400890555591684, '위스키': 5.777942528786967, 'izm': 6.246784830117413, '웹진이즘': 6.246784830117413, '산촌편': 3.9614796141407385, 'TVN': 3.9614796141407385, '삽입곡': 3.9614796141407385, '삼시세끼': 3.9614796141407385, '온기': 5.911086961940665, '푸근함': 5.911086961940665, '따스함': 5.911086961940665, '구수함': 5.911086961940665, 'LadyGaGa': 6.602878603950675, '레이디가가': 6.602878603950675, '매력있는': 4.115369543465505, 'moody': 4.891408909620621, '차분하게': 5.04236533552038, '목소리좋다': 5.04236533552038, '2030': 5.04236533552038, '맘속에': 7.449401045088014, 'DPRLIVE': 5.74726758659594, '디피알라이브': 5.74726758659594, '밤에': 6.756835485327714, '쫑': 5.606672430453258, '홈트용': 5.606672430453258, 'Rm': 3.9614796141407385, '남준': 3.9614796141407385, '여유롭게듣기좋은': 5.438272526970362, '러닝': 6.297981286273154, '댄스다이어트': 5.84228758890633, '숙면': 4.27103767582437, '렉시': 5.0724778767629175, '엄정화': 5.0724778767629175, '디바': 5.0724778767629175, '이효리': 4.806140301860119, '선미': 5.0724778767629175, '이정현': 5.0724778767629175, '운동하기': 6.1516682986483175, '스트레스_풀어줄_노래': 6.1516682986483175, '헬보이': 6.843749949006225, '오사카': 6.297981286273154, '편련': 6.246784830117413, '힘내요': 6.246784830117413, '2010년대': 5.152038401101011, '백지영': 6.198091494803055, '레이블': 5.333394893160733, '디스코': 4.6855013136030585, '와인바': 6.93896320610633, '가을재즈': 6.93896320610633, '남자': 5.84228758890633, '음악캐스터': 6.02412532934753, '맞춤선곡': 6.02412532934753, '이런날엔이런음악': 6.02412532934753, '로살리아': 4.326624988833461, '팝추천': 4.326624988833461, '3월': 4.326624988833461, '강다니엘': 4.326624988833461, '업살': 4.326624988833461, '차일디쉬감비노': 4.326624988833461, 'drop_the_beat': 6.297981286273154, '이게_힙합이다_아나': 6.297981286273154, '힙구': 5.119441479513187, '모음': 5.119441479513187, '전체재생': 5.119441479513187, '이재원': 4.087026181414421, '문희준': 4.087026181414421, '사랑해요': 4.087026181414421, 'HOT': 4.087026181414421, '안승호': 4.087026181414421, '안칠현': 4.087026181414421, '장우혁': 4.087026181414421, '분위기깡패': 3.9614796141407385, '안전운전하세요': 6.533982617606463, '스윗마인드': 6.0648505325015, '매력': 5.256819989687478, 'sweetmind': 6.0648505325015, '패션': 6.0648505325015, '술한잔': 5.633244007807469, '매일들어도질리지않는': 5.809594501270839, '외힙모음': 5.809594501270839, '사무실픽': 6.351951659933069, '멜로디좋은노래': 5.947357842842801, '멜로디좋은힙합': 5.947357842842801, '합창': 6.843749949006225, '성가대': 6.843749949006225, '피아노연주': 6.107313346184535, '감성노래': 6.107313346184535, '피아노버전': 6.107313346184535, '알엔비': 4.957176715571489, '피아노솔로': 6.107313346184535, 'chanson': 5.394980595751788, 'Goldman': 6.198091494803055, 'JeanJacques': 6.198091494803055, '장자크골드만': 6.198091494803055, 'World': 5.394980595751788, '갬성갬성': 4.489692184006925, 'LilNasX': 5.3740237629217935, '목소리': 4.498179990632957, '소향': 5.633244007807469, '천상의': 5.633244007807469, '리듬감': 5.985001398192873, '음악의선물': 6.246784830117413, '음악의선율': 6.246784830117413, '달콤함': 5.660546302921694, '고막남친': 4.489692184006925, '스위트': 5.580793604433814, '설레는': 5.580793604433814, '출퇴근': 5.580793604433814, '외출': 5.294367267476675, '명작OST': 6.351951659933069, '할링': 5.256819989687478, '연말감성': 5.256819989687478, '연말노래': 5.256819989687478, '헤어짐': 5.057306813405402, '밸런타인데이': 6.02412532934753, '밸런타인': 6.02412532934753, '2월14일': 6.02412532934753, '초콜릿': 6.02412532934753, '발렌타인': 6.02412532934753, '펑키뮤직': 5.633244007807469, 'funky': 5.633244007807469, '라디오헤드': 5.220645358449068, '스매싱펌킨스': 5.220645358449068, '시규어로스': 5.220645358449068, '데이비드보위': 5.220645358449068, '콜드플레이': 5.220645358449068, '스웨이드': 5.220645358449068, '얼터너티브락': 4.655017991715659, '크랜베리스': 5.220645358449068, '핱시': 5.84228758890633, '하트시그널_BGM': 5.84228758890633, '정의동응원해': 5.84228758890633, '이거들어라': 3.991367610642665, '뭐듣냐': 3.991367610642665, '그거말고': 3.991367610642665, '해외힙합': 3.991367610642665, '차트100': 4.943667397989076, '힘내세요': 5.947357842842801, '추천합니다': 6.93896320610633, '숨겨진곡': 6.93896320610633, '남자가수': 6.246784830117413, '힙합돌': 6.246784830117413, '대중적인': 5.333394893160733, '스크랴빈': 5.717511330568813, '프로코피예프': 5.717511330568813, '러시아클래식': 5.717511330568813, '라흐마니노프': 5.717511330568813, '러시아': 5.717511330568813, '필': 5.660546302921694, '대중가요': 3.9614796141407385, '청량감': 6.351951659933069, '여름맞이': 6.351951659933069, '시원한곡': 6.351951659933069, '넷플릭스': 5.74726758659594, '사운드트랙': 7.044226789665016, 'Bandersnatch': 7.044226789665016, '밴더스내치': 7.044226789665016, '언더그라운드힙합': 6.843749949006225, 'Club': 6.843749949006225, 'trap': 6.843749949006225, '갱스터': 6.843749949006225, 'readme': 6.843749949006225, '호텔': 6.107313346184535, '혼술': 4.771743385813907, '제형': 3.9614796141407385, 'DAY6': 3.9614796141407385, '데이식스추천': 3.9614796141407385, '제이': 3.9614796141407385, '데이식스': 3.9614796141407385, 'jae': 3.9614796141407385, '박제형': 3.9614796141407385, '명상음악': 5.74726758659594, '감성EDM': 4.635209503351081, '최애곡': 4.635209503351081, '4월': 6.246784830117413, '아이돌솔로': 5.087885645230062, '규현': 5.087885645230062, '책': 5.947357842842801, '하모니카': 5.947357842842801, '흥': 4.472934472216521, '지친하루': 4.943667397989076, '걸그룹댄스곡': 4.943667397989076, '어반': 6.246784830117413, '아카펠라': 6.107313346184535, 'Realslow': 6.843749949006225, '합정역5번출구': 6.246784830117413, '퐁포유': 6.246784830117413, '놀면뭐하니': 6.246784830117413, '유재석': 6.246784830117413, '유산슬': 6.246784830117413, '사랑의재개발': 6.246784830117413, '너도알았으면': 5.809594501270839, '10월': 5.809594501270839, 'popsong': 5.438272526970362, '빅씨': 8.142257288342895, '프렌즈': 8.142257288342895, 'bigbangtheory': 8.142257288342895, 'bigC': 8.142257288342895, '빅뱅이론': 8.142257288342895, '주제가': 8.142257288342895, 'Friends': 8.142257288342895, 'SM엔터테인먼트': 4.064934822944195, 'SM': 4.064934822944195, 'SMTOWN': 4.064934822944195, '제목': 4.8417835858062785, '방': 5.460648778465489, '브런치': 6.297981286273154, '조깅': 6.297981286273154, '사계': 6.1516682986483175, '쇼팽': 6.1516682986483175, '모차르트': 6.1516682986483175, '현악기': 6.1516682986483175, '하이든': 6.1516682986483175, '비발디': 6.1516682986483175, '있어보이는': 6.1516682986483175, '월요일인데': 6.409013216782288, '등교or출근': 6.409013216782288, '날씨좋은': 5.876092396035909, '권태기': 6.297981286273154, '프렌치하우스': 5.2754156022613525, '신스': 5.2754156022613525, '누디스코': 5.2754156022613525, '펑크': 5.2754156022613525, '만능': 5.394980595751788, '능력': 5.394980595751788, '엔터테이너': 5.394980595751788, '스타': 5.394980595751788, '겸업': 5.394980595751788, '연기자': 5.394980595751788, '재능': 5.394980595751788, '가수': 5.394980595751788, '랩퍼': 5.717511330568813, '스윗': 5.660546302921694, '여름비': 5.717511330568813, 'FEMINISM': 6.533982617606463, '치명적인척': 5.20304227384745, '느낌적인': 5.20304227384745, '크로스오버': 4.716961591976208, '색다른': 4.716961591976208, '힙발라드': 4.6450637496497675, '오열': 3.9713395825845654, '공허': 3.9713395825845654, 'ontherecord': 6.198091494803055, '윤하': 5.483541682999952, '여자노래': 5.256819989687478, '코노': 5.256819989687478, '여성보컬': 4.794540485334914, '여자': 5.256819989687478, '여자노래방': 5.256819989687478, '얼터너티브': 5.483541682999952, '숨은띵곡': 3.9614796141407385, '샤데이': 5.911086961940665, 'Sade': 5.911086961940665, '고혹적분위기': 5.911086961940665, '보컬리스트': 5.911086961940665, '소울디바': 5.911086961940665, '컨템포러리소울': 5.911086961940665, '편지': 6.351951659933069, '러브레터': 6.351951659933069, '금요일': 5.985001398192873, '불타는': 5.985001398192873, '놀이': 6.246784830117413, 'remix': 6.533982617606463, '레전드': 6.1516682986483175, '멍때리며': 6.1516682986483175, '귀신': 6.602878603950675, '오싹한클래식': 6.602878603950675, '호러': 6.602878603950675, '공포의클래식': 6.602878603950675, '이한치한': 6.602878603950675, '공포': 6.602878603950675, '혼자듣지_않기를': 6.602878603950675, '어쿠스티한': 5.135605554418745, '자기소개': 5.416390215277018, '햇살이': 6.409013216782288, '카페에': 6.409013216782288, '중독성쩌는': 5.84228758890633, '1': 3.9614796141407385, '범규': 5.10353757483204, '투모로우바이투게더': 5.10353757483204, '편견버린': 6.469540972225809, '숨겨진명곡': 6.469540972225809, '봄비': 4.532887470117089, '멜로우': 4.7063624520831295, '넘나좋아': 4.400890555591684, 'X1': 6.93896320610633, '엑스원': 6.93896320610633, '나': 5.416390215277018, '참고막': 6.351951659933069, '띵곡만': 6.351951659933069, 'niki': 4.6450637496497675, '박보검': 6.1516682986483175, '응답하라1988': 6.1516682986483175, '바닷가': 5.911086961940665, '혼자여행': 5.911086961940665, '블루스': 5.74726758659594, '1970년대': 6.246784830117413, '블루스록': 6.246784830117413, '1960년대': 6.246784830117413, '청량': 4.878766171937243, '1950_60': 5.84228758890633, '엘비스프레슬리': 5.84228758890633, '록의뿌리': 5.84228758890633, '로커빌리': 5.84228758890633, '선레코드': 5.84228758890633, '2언리미티드': 6.198091494803055, '추억의댄스': 6.198091494803055, 'AceOfBase': 6.198091494803055, '유로댄스': 6.198091494803055, 'Eurodance': 6.198091494803055, '클럽댄스': 6.198091494803055, '6언더그라운드': 6.843749949006225, '마션': 6.107313346184535, 'Sci_Fi': 6.107313346184535, '인터스텔라': 6.107313346184535, '공상과학': 6.107313346184535, '아방가르드': 6.107313346184535, '실험적사운드': 6.107313346184535, '장르': 6.107313346184535, 'SF무비': 6.107313346184535, '뫼비우스의띠': 6.93896320610633, '띵띵띵곡': 6.93896320610633, '너무좋아서무한반복': 6.93896320610633, '눈사람': 5.985001398192873, '하얀눈': 5.985001398192873, 'indies': 5.660546302921694, '얼찌말대박': 5.911086961940665, '하이라이트': 5.911086961940665, '콜링유대박': 5.911086961940665, '일렉팝': 5.394980595751788, '퓨처하우스': 5.394980595751788, '딥하우스': 3.7588339227387273, '좋은하루': 5.717511330568813, 'haveaniceday': 5.717511330568813, '등교길': 5.438272526970362, '입문': 5.985001398192873, '여자솔로': 3.770819695563664, '남자솔로': 3.9614796141407385, '출근길퇴근길': 6.107313346184535, '별': 5.256819989687478, 'RnB소울': 6.1516682986483175, '나홀로': 5.10353757483204, '로맨스소설': 5.10353757483204, '흥남': 6.0648505325015, '시원함': 6.0648505325015, '미러볼': 6.0648505325015, '마이너감성': 5.947357842842801, '계획': 6.107313346184535, '고백팝송': 6.297981286273154, '수고했어요': 4.783075876913803, '효리네민박': 5.119441479513187, '효리네민박2': 5.119441479513187, '치유': 6.246784830117413, '싱숭생숭': 6.297981286273154, '서정적': 6.246784830117413, '아름다운': 6.246784830117413, '친근한': 6.246784830117413, '포크송': 6.246784830117413, 'Hip_Hop': 4.655017991715659, 'ordinary': 5.633244007807469, '하늘빛': 5.985001398192873, '석양': 5.985001398192873, '이벤트': 5.809594501270839, '신혼': 5.809594501270839, '공감가는가사': 5.74726758659594, '노래교실': 5.2754156022613525, '전통가요': 5.2754156022613525, '성인가요': 5.2754156022613525, '장윤정': 5.2754156022613525, '아련한': 6.756835485327714, '애잔': 6.756835485327714, '출근하기싫을때': 4.2120798070113095, '템포': 4.2120798070113095, '만나러갈때': 6.198091494803055, 'Blues': 6.602878603950675, '써던랩': 5.256819989687478, '중독적사운드': 5.256819989687478, '초기써던': 5.256819989687478, '노리밋레코드': 5.256819989687478, '안구테러자켓': 5.256819989687478, '남부힙합': 5.256819989687478, '블랙뮤직': 5.809594501270839, 'HIPHOPLE': 5.809594501270839, '노래나듣자': 3.9763076872446437, '뉴욕': 5.313688814259511, '혼자서': 5.313688814259511, '비가오는날': 6.351951659933069, '중화권': 6.351951659933069, '장마철': 6.351951659933069, '톨걸': 6.676889681574017, '하이틴': 6.676889681574017, '해외영화': 6.676889681574017, '일할때': 4.878766171937243, '베스트': 4.878766171937243, '코구멍에바람넣기': 5.985001398192873, '불토': 5.985001398192873, '상큼': 4.675234648065159, '발랄': 5.911086961940665, '히든트랙': 5.84228758890633, '정승환': 4.891408909620621, '드라마ost': 4.891408909620621, '호텔델루나OST': 4.891408909620621, '알바할때': 3.9614796141407385, '내꺼': 3.9614796141407385, '걱정': 5.911086961940665, '남성보컬': 6.93896320610633, '신나는비트': 6.02412532934753, '한국사랑': 5.438272526970362, 'alternativerock': 5.438272526970362, '천재_뮤지션': 5.438272526970362, '추억의팝': 6.533982617606463, '건전한노래': 6.02412532934753, '추억의락': 6.533982617606463, '잔잔한락': 6.533982617606463, '가을향기': 6.533982617606463, '서정적인': 6.0648505325015, 'bebop': 6.409013216782288, 'swing': 6.409013216782288, '착한노래': 6.93896320610633, '순수한': 6.93896320610633, '소녀': 6.93896320610633, '오피셜싱글': 5.580793604433814, '영국차트': 5.580793604433814, '나뭇잎': 5.911086961940665, '심쿵': 5.688620491466753, '핑클': 6.246784830117413, '캠핑클럽': 6.246784830117413, '성유리': 6.246784830117413, '이진': 6.246784830117413, '옥주현': 6.246784830117413, '나른': 5.555572447491015, '오월': 5.555572447491015, '장르스테디': 5.333394893160733, '스테디': 5.333394893160733, '해외락스테디': 5.333394893160733, '산뜻한': 5.777942528786967, '1살': 6.756835485327714, 'FM4U': 4.8539574181102, 'MBC': 4.8539574181102, '200312': 4.8539574181102, 'Heroic한': 5.947357842842801, '기운빠질때': 5.947357842842801, '춥다': 5.483541682999952, '겨울분위기': 5.483541682999952, '조명섭': 6.297981286273154, '빈대떡신사': 6.297981286273154, '가사로듣는': 4.783075876913803, '여운작업': 3.9614796141407385, 'hem__j': 3.9614796141407385, '그리고': 3.9614796141407385, '햄티비': 3.9614796141407385, '구독해요': 3.9614796141407385, 'longest': 6.297981286273154, '방준석': 5.947357842842801, '비와당신': 5.947357842842801, '유앤미블루': 5.947357842842801, '음악감독': 5.947357842842801, '라디오스타': 5.947357842842801, '편안함': 6.1516682986483175, '캐리비안의해적': 6.602878603950675, '어디선가': 6.602878603950675, '익숙한': 6.602878603950675, '계절': 6.246784830117413, '굿모닝': 6.297981286273154, '모닝': 6.297981286273154, '아침밥': 6.297981286273154, 'Morning': 6.297981286273154, '모닝커피': 6.297981286273154, '아침식사': 6.297981286273154, '버스에서': 5.530976476601612, '피곤함': 5.530976476601612, '신나게': 5.530976476601612, '야근': 5.530976476601612, 'Neverland': 3.9614796141407385, '나침반': 3.9614796141407385, 'zigzagnote': 3.9614796141407385, 'zigzag': 3.9614796141407385}\n"
     ]
    }
   ],
   "source": [
    "def make_song_num_dict(data):\n",
    "    song_ids = dict()\n",
    "    song_num = dict()\n",
    "    max_num = 0\n",
    "    \n",
    "    for i in range(len(data)):\n",
    "        songs = data['song_id'][i]\n",
    "        tags = data['tags'][i]\n",
    "        \n",
    "        for j in tags:\n",
    "            if not j in song_ids:\n",
    "                song_ids[j] = set(songs)\n",
    "            \n",
    "            else:\n",
    "                song_ids[j].update(songs)\n",
    "    \n",
    "    for i in song_ids:\n",
    "        song_num[i] = len(song_ids[i])\n",
    "        \n",
    "        max_num = max(song_num[i], max_num)\n",
    "    \n",
    "    return song_num, max_num\n",
    "\n",
    "song_num_dict, song_num_max = make_song_num_dict(train_data_sample2)\n",
    "tag_weights = {tag: np.log(song_num_max / cnt + 1) for tag, cnt in song_num_dict.items()}\n",
    "print(tag_weights)\n"
   ]
  },
  {
   "cell_type": "markdown",
   "id": "80711232",
   "metadata": {},
   "source": [
    "### 각 음악의 태그 평균 벡터 계산"
   ]
  },
  {
   "cell_type": "code",
   "execution_count": 43,
   "id": "5035e4c7",
   "metadata": {},
   "outputs": [],
   "source": [
    "from sklearn.metrics.pairwise import cosine_similarity\n",
    "\n",
    "def get_tag_mean(input_songs, simi_songs, imb_mode):\n",
    "    #print(input_songs)\n",
    "    #print(simi_songs)\n",
    "    user_tag_mean = np.mean([w2v.wv[tag] for tag in input_songs if tag in w2v.wv], axis=0)\n",
    "    if np.any(np.isnan(user_tag_mean)):\n",
    "        user_tag_mean = np.zeros(w2v.vector_size)\n",
    "    song_tag_mean = []\n",
    "    song_tag_weight = []\n",
    "    for tags in simi_songs:\n",
    "        song_tags = [tag for tag in tags if tag in w2v.wv]\n",
    "        if len(song_tags) > 0:\n",
    "            if imb_mode == True:\n",
    "                temp_tag_lst = []\n",
    "                for tag in song_tags:\n",
    "                    temp_tag_lst.append(tag_weights.get(tag, 0))\n",
    "                song_tag_weight.append(sum(temp_tag_lst) / len(temp_tag_lst))\n",
    "                \n",
    "            temp_mean = np.mean([w2v.wv[tag] for tag in song_tags], axis=0)\n",
    "            if np.any(np.isnan(temp_mean)):\n",
    "                temp_mean = np.zeros(w2v.vector_size)\n",
    "            song_tag_mean.append(temp_mean)\n",
    "        else:\n",
    "            if imb_mode == True:\n",
    "                song_tag_weight.append(0)\n",
    "            song_tag_mean.append(np.zeros(w2v.vector_size))\n",
    "    \n",
    "    song_tag_mean = np.array(song_tag_mean)\n",
    "    tag_mean_simi = cosine_similarity([user_tag_mean], song_tag_mean)\n",
    "    if imb_mode == True:\n",
    "        for i in range(len(tag_mean_simi[0])):\n",
    "            tag_mean_simi[0][i] *= song_tag_weight[i]\n",
    "    rec_idx = tag_mean_simi[0].argsort()[::-1]\n",
    "    return rec_idx\n"
   ]
  },
  {
   "cell_type": "markdown",
   "id": "5869ea5c",
   "metadata": {},
   "source": [
    "## 코사인 유사도 사용\n",
    "\n",
    "- 세부 장르를 사용해 코사인 유사도 측정한다\n",
    "- 그후 유사도를 행렬로 저장한다"
   ]
  },
  {
   "cell_type": "code",
   "execution_count": 44,
   "id": "b998e83c",
   "metadata": {},
   "outputs": [
    {
     "data": {
      "text/plain": [
       "(52771, 209)"
      ]
     },
     "execution_count": 44,
     "metadata": {},
     "output_type": "execute_result"
    }
   ],
   "source": [
    "from sklearn.feature_extraction.text import CountVectorizer\n",
    "\n",
    "song_tag_appended['gnr_literal'] = song_tag_appended['gnr'].apply(lambda x : (' ').join(x))\n",
    "\n",
    "count_vect = CountVectorizer()\n",
    "gnr_mat = count_vect.fit_transform(song_tag_appended['gnr_literal'])\n",
    "\n",
    "gnr_mat.shape"
   ]
  },
  {
   "cell_type": "code",
   "execution_count": 45,
   "id": "60269f30",
   "metadata": {},
   "outputs": [
    {
     "data": {
      "text/plain": [
       "array([[1.        , 0.        , 0.        , ..., 0.        , 0.        ,\n",
       "        0.        ],\n",
       "       [0.        , 1.        , 0.33333333, ..., 0.        , 0.        ,\n",
       "        0.        ],\n",
       "       [0.        , 0.33333333, 1.        , ..., 0.        , 0.        ,\n",
       "        0.        ],\n",
       "       ...,\n",
       "       [0.        , 0.        , 0.        , ..., 1.        , 0.57735027,\n",
       "        1.        ],\n",
       "       [0.        , 0.        , 0.        , ..., 0.57735027, 1.        ,\n",
       "        0.57735027],\n",
       "       [0.        , 0.        , 0.        , ..., 1.        , 0.57735027,\n",
       "        1.        ]])"
      ]
     },
     "execution_count": 45,
     "metadata": {},
     "output_type": "execute_result"
    }
   ],
   "source": [
    "from sklearn.metrics.pairwise import cosine_similarity\n",
    "\n",
    "gnr_sim = cosine_similarity(gnr_mat, gnr_mat)\n",
    "gnr_sim"
   ]
  },
  {
   "cell_type": "code",
   "execution_count": 46,
   "id": "2fde6e50",
   "metadata": {},
   "outputs": [
    {
     "name": "stdout",
     "output_type": "stream",
     "text": [
      "[0.         1.33333333 1.33333333 ... 0.         0.         0.        ]\n",
      "                     gnr  issue_date  album_id artist_id_basket  \\\n",
      "525514  [GN1402, GN1401]    20130506   2200223         [734201]   \n",
      "\n",
      "              song_name artist_name_basket  song_id  like_cnt_song weight  \n",
      "525514  Hey Little Girl          [The Sol]   525514      22.387011   0.95  \n",
      "                             gnr  issue_date  album_id artist_id_basket  \\\n",
      "129701  [GN0901, GN0902, GN1001]    20130917   2201802         [536907]   \n",
      "\n",
      "       song_name artist_name_basket  song_id  like_cnt_song weight  \n",
      "129701   Octagon      [Royal Bangs]   129701       13.74748   0.95  \n",
      "                                     gnr  issue_date  album_id  \\\n",
      "229622  [GN1402, GN1401, GN0901, GN0902]    20061212    528351   \n",
      "\n",
      "       artist_id_basket  song_name artist_name_basket  song_id  like_cnt_song  \\\n",
      "229622         [406781]  Say Hello     [Rosie Thomas]   229622      410.96578   \n",
      "\n",
      "       weight  \n",
      "229622   0.95  \n"
     ]
    }
   ],
   "source": [
    "simi_test = gnr_sim[1, :]\n",
    "simi_test2 = gnr_sim[2, :]\n",
    "print(simi_test + simi_test2)\n",
    "print(song_data[song_data['song_id']==525514])\n",
    "print(song_data[song_data['song_id']==129701])\n",
    "print(song_data[song_data['song_id']==229622])"
   ]
  },
  {
   "cell_type": "markdown",
   "id": "3645e64c",
   "metadata": {},
   "source": [
    "- 노래 id가 주어지면 유사도 순으로 n개의 노래 추출"
   ]
  },
  {
   "cell_type": "code",
   "execution_count": 47,
   "id": "0b569da4",
   "metadata": {},
   "outputs": [
    {
     "name": "stderr",
     "output_type": "stream",
     "text": [
      "C:\\Users\\pigwo\\anaconda3\\Lib\\site-packages\\scipy\\stats\\_stats_py.py:4424: ConstantInputWarning: An input array is constant; the correlation coefficient is not defined.\n",
      "  warnings.warn(stats.ConstantInputWarning(msg))\n"
     ]
    },
    {
     "name": "stdout",
     "output_type": "stream",
     "text": [
      "[-0.01186197  0.3236246   1.         ... -0.01456311 -0.01685699\n",
      " -0.01456311]\n"
     ]
    }
   ],
   "source": [
    "from sklearn.feature_extraction.text import CountVectorizer\n",
    "from sklearn.feature_extraction.text import TfidfVectorizer\n",
    "from sklearn.metrics.pairwise import cosine_similarity\n",
    "from sklearn.metrics import jaccard_score\n",
    "from scipy.stats import pearsonr\n",
    "\n",
    "def get_embedding(songs, mode):\n",
    "    songs['gnr_literal'] = songs['gnr'].apply(lambda x : (' ').join(x))\n",
    "    \n",
    "    if mode == 'cv':\n",
    "        count_vect = CountVectorizer()\n",
    "        gnr_mat = count_vect.fit_transform(songs['gnr_literal'])\n",
    "    \n",
    "    elif mode == 'tf':\n",
    "        tfidf_vect = TfidfVectorizer()\n",
    "        gnr_mat = tfidf_vect.fit_transform(songs['gnr_literal'])\n",
    "        \n",
    "    return gnr_mat\n",
    "\n",
    "def get_sim(song_index, gnr_mat, sim):\n",
    "    if sim == 'cos':\n",
    "        gnr_sim = cosine_similarity(gnr_mat[song_index], gnr_mat)\n",
    "    \n",
    "    elif sim == 'jac':\n",
    "        gnr_sim = []\n",
    "        \n",
    "        for song in gnr_mat:\n",
    "            gnr_sim.append(jaccard_score(gnr_mat[song_index], song, average='macro'))\n",
    "                \n",
    "    elif sim == 'pea':\n",
    "        gnr_sim = []\n",
    "        \n",
    "        for song in gnr_mat:\n",
    "            cor, p_value = pearsonr(gnr_mat[song_index].toarray().flatten(), song.toarray().flatten())\n",
    "            gnr_sim.append(cor)\n",
    "        \n",
    "        # NaN 값을 0으로 변경\n",
    "        gnr_sim = np.nan_to_num(gnr_sim, nan=0)\n",
    "\n",
    "    return np.array(gnr_sim)\n",
    "\n",
    "print(get_sim(2, get_embedding(song_tag_appended, 'cv'), 'pea'))"
   ]
  },
  {
   "cell_type": "code",
   "execution_count": 48,
   "id": "2aa07122",
   "metadata": {},
   "outputs": [
    {
     "name": "stdout",
     "output_type": "stream",
     "text": [
      "  (0, 96)\t3\n",
      "  (0, 95)\t2\n",
      "  (1, 47)\t0\n",
      "  (1, 48)\t2\n",
      "  (1, 55)\t1\n",
      "  (2, 55)\t1\n",
      "  (2, 66)\t3\n",
      "  (2, 59)\t4\n",
      "  (3, 47)\t0\n",
      "  (3, 48)\t2\n",
      "  (3, 55)\t1\n",
      "  (3, 67)\t2\n",
      "  (4, 47)\t0\n",
      "  (4, 48)\t2\n",
      "  (4, 55)\t1\n",
      "  (4, 67)\t2\n",
      "  (5, 47)\t0\n",
      "  (5, 48)\t2\n",
      "  (5, 55)\t1\n",
      "  (5, 67)\t2\n",
      "  (6, 55)\t1\n",
      "  (6, 67)\t2\n",
      "  (6, 57)\t3\n",
      "  (7, 47)\t0\n",
      "  (8, 90)\t2\n",
      "  :\t:\n",
      "  (52764, 188)\t1\n",
      "  (52764, 190)\t1\n",
      "  (52764, 192)\t2\n",
      "  (52765, 0)\t0\n",
      "  (52765, 4)\t1\n",
      "  (52765, 102)\t1\n",
      "  (52765, 105)\t1\n",
      "  (52766, 0)\t0\n",
      "  (52766, 4)\t1\n",
      "  (52766, 102)\t1\n",
      "  (52766, 105)\t1\n",
      "  (52767, 102)\t1\n",
      "  (52767, 105)\t1\n",
      "  (52767, 12)\t1\n",
      "  (52767, 10)\t1\n",
      "  (52768, 26)\t1\n",
      "  (52768, 102)\t1\n",
      "  (52768, 105)\t1\n",
      "  (52769, 0)\t0\n",
      "  (52769, 4)\t1\n",
      "  (52769, 102)\t1\n",
      "  (52769, 105)\t1\n",
      "  (52770, 26)\t1\n",
      "  (52770, 102)\t1\n",
      "  (52770, 105)\t1\n"
     ]
    }
   ],
   "source": [
    "def apply_genre_weight(mat):\n",
    "    genre_nums = mat.getnnz(0)\n",
    "    genre_num_max = max(genre_nums)\n",
    "    genre_weight = np.log(genre_num_max / genre_nums + 1)\n",
    "    \n",
    "    result_mat = mat.copy()\n",
    "    \n",
    "    for i in range(result_mat.shape[0]):\n",
    "        for j in result_mat[i].indices:\n",
    "            result_mat[(i, j)] *= genre_weight[j]\n",
    "    \n",
    "    return result_mat\n",
    "\n",
    "weight_mat_cv = apply_genre_weight(get_embedding(song_tag_appended, 'cv'))\n",
    "print(weight_mat_cv)"
   ]
  },
  {
   "cell_type": "code",
   "execution_count": 49,
   "id": "d42aaab1",
   "metadata": {},
   "outputs": [
    {
     "name": "stdout",
     "output_type": "stream",
     "text": [
      "  (0, 95)\t1.6737312612500261\n",
      "  (0, 96)\t2.5410196292928053\n",
      "  (1, 55)\t0.7296294844719692\n",
      "  (1, 48)\t1.5302537244713597\n",
      "  (1, 47)\t0.4218002014871865\n",
      "  (2, 59)\t3.1969180009150615\n",
      "  (2, 66)\t2.0512997523465057\n",
      "  (2, 55)\t0.49446853394576035\n",
      "  (3, 67)\t1.4816914098048408\n",
      "  (3, 55)\t0.5852772996940164\n",
      "  (3, 48)\t1.2275035298956822\n",
      "  (3, 47)\t0.33834992717635554\n",
      "  (4, 67)\t1.4816914098048408\n",
      "  (4, 55)\t0.5852772996940164\n",
      "  (4, 48)\t1.2275035298956822\n",
      "  (4, 47)\t0.33834992717635554\n",
      "  (5, 67)\t1.4816914098048408\n",
      "  (5, 55)\t0.5852772996940164\n",
      "  (5, 48)\t1.2275035298956822\n",
      "  (5, 47)\t0.33834992717635554\n",
      "  (6, 57)\t2.214128678088715\n",
      "  (6, 67)\t1.4621602460075687\n",
      "  (6, 55)\t0.577562368817381\n",
      "  (7, 47)\t0.9169834925530558\n",
      "  (8, 88)\t0.9078703548512083\n",
      "  :\t:\n",
      "  (52764, 102)\t0.42817290305707506\n",
      "  (52764, 4)\t0.33326390620244506\n",
      "  (52764, 0)\t0.18513245034543857\n",
      "  (52765, 105)\t0.9951171920668457\n",
      "  (52765, 102)\t0.6290619678917677\n",
      "  (52765, 4)\t0.4896238112365143\n",
      "  (52765, 0)\t0.2719924187248314\n",
      "  (52766, 105)\t0.9951171920668457\n",
      "  (52766, 102)\t0.6290619678917677\n",
      "  (52766, 4)\t0.4896238112365143\n",
      "  (52766, 0)\t0.2719924187248314\n",
      "  (52767, 10)\t0.5123838630328437\n",
      "  (52767, 12)\t0.8482533720651564\n",
      "  (52767, 105)\t0.9053300719267771\n",
      "  (52767, 102)\t0.5723031630626256\n",
      "  (52768, 105)\t1.0452207689317399\n",
      "  (52768, 102)\t0.6607348752762576\n",
      "  (52768, 26)\t0.7449765657408373\n",
      "  (52769, 105)\t0.9951171920668457\n",
      "  (52769, 102)\t0.6290619678917677\n",
      "  (52769, 4)\t0.4896238112365143\n",
      "  (52769, 0)\t0.2719924187248314\n",
      "  (52770, 105)\t1.0452207689317399\n",
      "  (52770, 102)\t0.6607348752762576\n",
      "  (52770, 26)\t0.7449765657408373\n"
     ]
    }
   ],
   "source": [
    "weight_mat_tf = apply_genre_weight(get_embedding(song_tag_appended, 'tf'))\n",
    "print(weight_mat_tf)"
   ]
  },
  {
   "cell_type": "code",
   "execution_count": 50,
   "id": "54063c57",
   "metadata": {},
   "outputs": [],
   "source": [
    "def find_sim_song(df, sim, mat, songs, emb_mode, genre_imb_mode=False, like_weight=False, top_n=0):\n",
    "    simi = np.zeros(len(df['song_id']))\n",
    "    minyear = 3000\n",
    "    \n",
    "    for song in songs:\n",
    "        title_song = df[df['song_id'] == song]\n",
    "        #print(title_song)\n",
    "        if not title_song.empty:\n",
    "            minyear = min(minyear, title_song['issue_date'].values[0]//10000)\n",
    "    \n",
    "    for song in songs:\n",
    "        title_song = df[df['song_id'] == song]\n",
    "        \n",
    "        if title_song.empty:\n",
    "            continue\n",
    "            \n",
    "        title_index = title_song.index.values\n",
    "        \n",
    "        if genre_imb_mode:\n",
    "            if emb_mode == 'cv':\n",
    "                sim_array = get_sim(title_index, weight_mat_cv, sim)\n",
    "            \n",
    "            elif emb_mode == 'tf':\n",
    "                sim_array = get_sim(title_index, weight_mat_tf, sim)\n",
    "            \n",
    "            #elif emb_mode == 'aver':\n",
    "                #sim_array = get_sim(title_index, weight_mat_aver, sim)\n",
    "        \n",
    "        else:\n",
    "            sim_array = get_sim(title_index, mat, sim)\n",
    "            \n",
    "        simi = simi + sim_array\n",
    "    \n",
    "    simi /= len(songs)\n",
    "    \n",
    "    # 유사도 값을 0~1 사이로 Scaling\n",
    "    simi *= (simi - min(simi)) / (max(simi) - min(simi))\n",
    "    \n",
    "    df['similarity'] = simi.reshape(-1, 1)\n",
    "    temp = df.sort_values(by=\"similarity\", ascending=False)\n",
    "    \n",
    "    # 가중치 스위치가 켜져 있다면 가중치 적용\n",
    "    if like_weight:\n",
    "        for i in range(len(temp)):\n",
    "            temp['similarity'].iloc[i] = temp['similarity'].iloc[i] * temp['weight'].iloc[i]\n",
    "    \n",
    "    # for song in songs:\n",
    "    #     title_song = df[df['song_id'] == song]\n",
    "    #     title_index = title_song.index.values\n",
    "        \n",
    "    #     temp = temp[temp.index.values != title_index]\n",
    "    \n",
    "    temp = temp[temp['issue_date'] > minyear*10000]\n",
    "        \n",
    "    # 유사도가 0.5 이하인 경우는 제외\n",
    "    #temp = temp[temp['similarity'] >= 0.5]\n",
    "    if top_n < 1:\n",
    "        temp = temp[temp['similarity'] >= 0.4]\n",
    "        temp = temp.reset_index(drop=True)\n",
    "        return temp\n",
    "    else:\n",
    "        temp = temp.reset_index(drop=True)\n",
    "        return temp.iloc[ : top_n]\n",
    "    \n",
    "    # final_index = temp.index.values[ : top_n]\n",
    "    "
   ]
  },
  {
   "cell_type": "code",
   "execution_count": 51,
   "id": "21b9f83c",
   "metadata": {},
   "outputs": [
    {
     "data": {
      "text/plain": [
       "\"\\nsimilar_songs = find_sim_song(song_tag_appended, 'cos', gnr_mat, [525514, 129701, 229622], 10)\\n\\nsimilar_songs[['song_id', 'similarity', 'issue_date', 'gnr']]\\n\""
      ]
     },
     "execution_count": 51,
     "metadata": {},
     "output_type": "execute_result"
    }
   ],
   "source": [
    "'''\n",
    "similar_songs = find_sim_song(song_tag_appended, 'cos', gnr_mat, [525514, 129701, 229622], 10)\n",
    "\n",
    "similar_songs[['song_id', 'similarity', 'issue_date', 'gnr']]\n",
    "'''"
   ]
  },
  {
   "cell_type": "markdown",
   "id": "cd4fd134",
   "metadata": {},
   "source": [
    "## 노래 추천\n",
    "\n",
    "- w2v로 추출한 태그에 해당하는 플레이리스트\n",
    "- 세부 장르의 유사도가 높은 노래 리스트\n",
    "- 히스토리(test 플레이리스트)의 발행 연도와 같은 연도에 발행한 노래"
   ]
  },
  {
   "cell_type": "code",
   "execution_count": 52,
   "id": "11bfc9e0",
   "metadata": {},
   "outputs": [
    {
     "data": {
      "text/plain": [
       "\"\\ndef song_recommend(tags, songs, tag_df, song_df, sim_mat):\\n    ts = tags\\n    \\n    # 태그가 존재할 경우 + 태그의 개수가 3개 미만인경우 w2v로 태그를 3개까지 늘린다\\n    all_tags = []\\n    if len(ts) != 0 and len(ts) < 3:\\n        for tag in ts:\\n            sim_tags = w2v.wv.most_similar(tag)\\n            for t in sim_tags:\\n                all_tags.append(t)\\n        all_tags = sorted(all_tags, key = lambda x : -x[1])\\n        i = 0\\n        while len(ts) != 0 and len(ts) < 3:\\n            tag = all_tags[i][0]\\n            if tag not in ts:\\n                ts.append(tag)\\n                i += 1\\n\\n    # 해당 태그가 존재하는 플레이리스트의 노래를 추출하고 등장 빈도수로 정렬한다\\n    tag_songs = dict()\\n    \\n    for tag in ts:\\n        for i in range(len(tag_df['song_id'])):\\n            if tag in tag_df['tags'][i]:\\n                \\n                for ss in tag_df['song_id'][i]:\\n                    if not ss in songs:\\n                        \\n                        if ss in tag_songs:\\n                            tag_songs[ss] += 1\\n                            \\n                        else:\\n                            tag_songs[ss] = 1\\n                        \\n    tag_songs = sorted(tag_songs.items(), key=lambda x: x[1], reverse=True)\\n    \\n    # 기존 노래(히스토리)가 있는 경우 장르 유사도를 계산해\\n    #상위 100개의 노래를 찾아낸다\\n    if len(songs) > 0:\\n        simi_songs = find_sim_song(song_df, sim_mat, songs, 100)\\n        print(simi_songs)\\n    \\n    # 기존 노래(히스토리)가 없는 경우 최신 노래(2018~2023년도)를 찾아낸다\\n    else:\\n        simi_songs = song_df\\n        simi_songs = simi_songs[simi_songs['issue_date'] > 20180000]\\n        simi_songs = simi_songs[simi_songs['issue_date'] < 20240000]\\n    \\n    # 태그로 만들어낸 플레이리스트와 장르 유사도로 만들어낸 노래 목록\\n    # 둘 모두에 존재하는 노래 10개 추출한다\\n    recommended = []\\n    index = 0\\n    \\n    while len(recommended) < 10 and index < len(tag_songs):\\n        tag_song = tag_songs[index][0]\\n        \\n        if tag_song in simi_songs:\\n            recommended.append(tag_song)\\n            \\n        index += 1\\n        \\n    # 둘 모두에 존재하는 노래가 10개 미만인 경우\\n    # 각각에서 우선순위가 높은 노래들을 추출한다   \\n    if len(recommended) < 10:\\n        \\n        # 태그와 유사도 두 부분에서 동일한 개수(홀수일 경우 태그 > 유사도) 추출\\n        # sc = 유사도 부분에서 추출할 노래의 개수\\n        if len(recommended) % 2 == 0:\\n            sc = (10-len(recommended)) / 2\\n        else:\\n            sc = (10-len(recommended)) // 2\\n        \\n        # 태그는 있고 히스토리가 없는 경우 태그 부분에서 10개를 추출하기 위한 코드\\n        if len(songs) == 0:\\n            sc = 0\\n        \\n        # 이미 추출한 노래를 제외하고 태그 부분에서 정해진 개수만큼 추출한다\\n        # 태그가 없을 경우 동작하지 않음\\n        index = 0\\n        while len(tag_songs) != 0 and len(recommended) < (10 - sc):\\n            tag_song = tag_songs[index][0]\\n            \\n            if not tag_song in recommended:\\n                recommended.append(tag_song)\\n            \\n            index += 1\\n        \\n        # 이미 추출한 노래를 제외하고 추천 노래가 10개가 될떄까지\\n        # 유사도 부분에서 추출한다\\n        index = 0\\n        while len(recommended) < 10:\\n            simi_song = simi_songs['song_id'].values[index]\\n            \\n            if not simi_song in recommended:\\n                recommended.append(simi_song)\\n            \\n            index += 1\\n            \\n    # 추출된 노래 id를 가지고 데이터프레임을 추출한다\\n    rec_index = []\\n    \\n    for rec in recommended:\\n        title_song = song_df[song_df['song_id'] == rec]\\n        title_index = title_song.index\\n        rec_index.append(title_index[0])\\n    \\n    return song_df.iloc[rec_index]\\n\""
      ]
     },
     "execution_count": 52,
     "metadata": {},
     "output_type": "execute_result"
    }
   ],
   "source": [
    "'''\n",
    "def song_recommend(tags, songs, tag_df, song_df, sim_mat):\n",
    "    ts = tags\n",
    "    \n",
    "    # 태그가 존재할 경우 + 태그의 개수가 3개 미만인경우 w2v로 태그를 3개까지 늘린다\n",
    "    all_tags = []\n",
    "    if len(ts) != 0 and len(ts) < 3:\n",
    "        for tag in ts:\n",
    "            sim_tags = w2v.wv.most_similar(tag)\n",
    "            for t in sim_tags:\n",
    "                all_tags.append(t)\n",
    "        all_tags = sorted(all_tags, key = lambda x : -x[1])\n",
    "        i = 0\n",
    "        while len(ts) != 0 and len(ts) < 3:\n",
    "            tag = all_tags[i][0]\n",
    "            if tag not in ts:\n",
    "                ts.append(tag)\n",
    "                i += 1\n",
    "\n",
    "    # 해당 태그가 존재하는 플레이리스트의 노래를 추출하고 등장 빈도수로 정렬한다\n",
    "    tag_songs = dict()\n",
    "    \n",
    "    for tag in ts:\n",
    "        for i in range(len(tag_df['song_id'])):\n",
    "            if tag in tag_df['tags'][i]:\n",
    "                \n",
    "                for ss in tag_df['song_id'][i]:\n",
    "                    if not ss in songs:\n",
    "                        \n",
    "                        if ss in tag_songs:\n",
    "                            tag_songs[ss] += 1\n",
    "                            \n",
    "                        else:\n",
    "                            tag_songs[ss] = 1\n",
    "                        \n",
    "    tag_songs = sorted(tag_songs.items(), key=lambda x: x[1], reverse=True)\n",
    "    \n",
    "    # 기존 노래(히스토리)가 있는 경우 장르 유사도를 계산해\n",
    "    #상위 100개의 노래를 찾아낸다\n",
    "    if len(songs) > 0:\n",
    "        simi_songs = find_sim_song(song_df, sim_mat, songs, 100)\n",
    "        print(simi_songs)\n",
    "    \n",
    "    # 기존 노래(히스토리)가 없는 경우 최신 노래(2018~2023년도)를 찾아낸다\n",
    "    else:\n",
    "        simi_songs = song_df\n",
    "        simi_songs = simi_songs[simi_songs['issue_date'] > 20180000]\n",
    "        simi_songs = simi_songs[simi_songs['issue_date'] < 20240000]\n",
    "    \n",
    "    # 태그로 만들어낸 플레이리스트와 장르 유사도로 만들어낸 노래 목록\n",
    "    # 둘 모두에 존재하는 노래 10개 추출한다\n",
    "    recommended = []\n",
    "    index = 0\n",
    "    \n",
    "    while len(recommended) < 10 and index < len(tag_songs):\n",
    "        tag_song = tag_songs[index][0]\n",
    "        \n",
    "        if tag_song in simi_songs:\n",
    "            recommended.append(tag_song)\n",
    "            \n",
    "        index += 1\n",
    "        \n",
    "    # 둘 모두에 존재하는 노래가 10개 미만인 경우\n",
    "    # 각각에서 우선순위가 높은 노래들을 추출한다   \n",
    "    if len(recommended) < 10:\n",
    "        \n",
    "        # 태그와 유사도 두 부분에서 동일한 개수(홀수일 경우 태그 > 유사도) 추출\n",
    "        # sc = 유사도 부분에서 추출할 노래의 개수\n",
    "        if len(recommended) % 2 == 0:\n",
    "            sc = (10-len(recommended)) / 2\n",
    "        else:\n",
    "            sc = (10-len(recommended)) // 2\n",
    "        \n",
    "        # 태그는 있고 히스토리가 없는 경우 태그 부분에서 10개를 추출하기 위한 코드\n",
    "        if len(songs) == 0:\n",
    "            sc = 0\n",
    "        \n",
    "        # 이미 추출한 노래를 제외하고 태그 부분에서 정해진 개수만큼 추출한다\n",
    "        # 태그가 없을 경우 동작하지 않음\n",
    "        index = 0\n",
    "        while len(tag_songs) != 0 and len(recommended) < (10 - sc):\n",
    "            tag_song = tag_songs[index][0]\n",
    "            \n",
    "            if not tag_song in recommended:\n",
    "                recommended.append(tag_song)\n",
    "            \n",
    "            index += 1\n",
    "        \n",
    "        # 이미 추출한 노래를 제외하고 추천 노래가 10개가 될떄까지\n",
    "        # 유사도 부분에서 추출한다\n",
    "        index = 0\n",
    "        while len(recommended) < 10:\n",
    "            simi_song = simi_songs['song_id'].values[index]\n",
    "            \n",
    "            if not simi_song in recommended:\n",
    "                recommended.append(simi_song)\n",
    "            \n",
    "            index += 1\n",
    "            \n",
    "    # 추출된 노래 id를 가지고 데이터프레임을 추출한다\n",
    "    rec_index = []\n",
    "    \n",
    "    for rec in recommended:\n",
    "        title_song = song_df[song_df['song_id'] == rec]\n",
    "        title_index = title_song.index\n",
    "        rec_index.append(title_index[0])\n",
    "    \n",
    "    return song_df.iloc[rec_index]\n",
    "'''"
   ]
  },
  {
   "cell_type": "code",
   "execution_count": 53,
   "id": "0725f1ef",
   "metadata": {},
   "outputs": [
    {
     "data": {
      "text/plain": [
       "\"\\ndef song_recommend_test(tags, songs, tag_df, song_df, sim_mat):\\n    ts = tags\\n    \\n    # 태그가 존재할 경우 + 태그의 개수가 3개 미만인경우 w2v로 태그를 3개까지 늘린다\\n    all_tags = []\\n    if len(ts) != 0 and len(ts) < 3:\\n        for tag in ts:\\n            sim_tags = w2v.wv.most_similar(tag)\\n            for t in sim_tags:\\n                all_tags.append(t)\\n        all_tags = sorted(all_tags, key = lambda x : -x[1])\\n        i = 0\\n        while len(ts) != 0 and len(ts) < 3:\\n            tag = all_tags[i][0]\\n            if tag not in ts:\\n                ts.append(tag)\\n                i += 1\\n\\n    # 해당 태그가 존재하는 플레이리스트의 노래를 추출하고 등장 빈도수로 정렬한다\\n    tag_songs = dict()\\n    \\n    for tag in ts:\\n        for i in range(len(tag_df['song_id'])):\\n            if tag in tag_df['tags'][i]:\\n                \\n                for ss in tag_df['song_id'][i]:\\n                    if not ss in songs:\\n                        \\n                        if ss in tag_songs:\\n                            tag_songs[ss] += 1\\n                            \\n                        else:\\n                            tag_songs[ss] = 1\\n                        \\n    tag_songs = sorted(tag_songs.items(), key=lambda x: x[1], reverse=True)\\n    \\n    # 기존 노래(히스토리)가 있는 경우 장르 유사도를 계산해\\n    #상위 100개의 노래를 찾아낸다\\n    if len(songs) > 0:\\n        simi_songs = find_sim_song(song_df, sim_mat, songs, 100)\\n    \\n    # 기존 노래(히스토리)가 없는 경우 최신 노래(2018~2023년도)를 찾아낸다\\n    else:\\n        simi_songs = song_df\\n        simi_songs = simi_songs[simi_songs['issue_date'] > 20180000]\\n        simi_songs = simi_songs[simi_songs['issue_date'] < 20240000]\\n    \\n    # 태그로 만들어낸 플레이리스트와 장르 유사도로 만들어낸 노래 목록\\n    # 둘 모두에 존재하는 노래 10개 추출한다\\n    recommended = []\\n    index = 0\\n    \\n    while len(recommended) < 10 and index < len(tag_songs):\\n        tag_song = tag_songs[index][0]\\n        \\n        if tag_song in simi_songs:\\n            recommended.append(tag_song)\\n            \\n        index += 1\\n    \\n    \\n    \\n    # 둘 모두에 존재하는 노래가 10개 미만인 경우\\n    # 각각에서 우선순위가 높은 노래들을 추출한다   \\n    if len(recommended) < 10:\\n        \\n        # 이미 추출한 노래를 제외하고 추천 노래가 10개가 될떄까지\\n        # 유사도 부분에서 추출한다\\n        index = 0\\n        while len(recommended) < 10 and len(simi_songs) != 0 and len(simi_songs) > index:\\n            simi_song = simi_songs['song_id'].values[index]\\n            \\n            if not simi_song in recommended:\\n                recommended.append(simi_song)\\n            \\n            index += 1\\n            \\n        if len(recommended) < 10:\\n            index = 0\\n            while len(tag_songs) != 0 and len(recommended) < 10:\\n                tag_song = tag_songs[index][0]\\n                if not tag_song in recommended:\\n                    recommended.append(tag_song)\\n                index += 1\\n            \\n    # 추출된 노래 id를 가지고 데이터프레임을 추출한다\\n    rec_index = []\\n    \\n    for rec in recommended:\\n        title_song = song_df[song_df['song_id'] == rec]\\n        title_index = title_song.index\\n        rec_index.append(title_index[0])\\n    \\n    return song_df.iloc[rec_index]\\n\""
      ]
     },
     "execution_count": 53,
     "metadata": {},
     "output_type": "execute_result"
    }
   ],
   "source": [
    "'''\n",
    "def song_recommend_test(tags, songs, tag_df, song_df, sim_mat):\n",
    "    ts = tags\n",
    "    \n",
    "    # 태그가 존재할 경우 + 태그의 개수가 3개 미만인경우 w2v로 태그를 3개까지 늘린다\n",
    "    all_tags = []\n",
    "    if len(ts) != 0 and len(ts) < 3:\n",
    "        for tag in ts:\n",
    "            sim_tags = w2v.wv.most_similar(tag)\n",
    "            for t in sim_tags:\n",
    "                all_tags.append(t)\n",
    "        all_tags = sorted(all_tags, key = lambda x : -x[1])\n",
    "        i = 0\n",
    "        while len(ts) != 0 and len(ts) < 3:\n",
    "            tag = all_tags[i][0]\n",
    "            if tag not in ts:\n",
    "                ts.append(tag)\n",
    "                i += 1\n",
    "\n",
    "    # 해당 태그가 존재하는 플레이리스트의 노래를 추출하고 등장 빈도수로 정렬한다\n",
    "    tag_songs = dict()\n",
    "    \n",
    "    for tag in ts:\n",
    "        for i in range(len(tag_df['song_id'])):\n",
    "            if tag in tag_df['tags'][i]:\n",
    "                \n",
    "                for ss in tag_df['song_id'][i]:\n",
    "                    if not ss in songs:\n",
    "                        \n",
    "                        if ss in tag_songs:\n",
    "                            tag_songs[ss] += 1\n",
    "                            \n",
    "                        else:\n",
    "                            tag_songs[ss] = 1\n",
    "                        \n",
    "    tag_songs = sorted(tag_songs.items(), key=lambda x: x[1], reverse=True)\n",
    "    \n",
    "    # 기존 노래(히스토리)가 있는 경우 장르 유사도를 계산해\n",
    "    #상위 100개의 노래를 찾아낸다\n",
    "    if len(songs) > 0:\n",
    "        simi_songs = find_sim_song(song_df, sim_mat, songs, 100)\n",
    "    \n",
    "    # 기존 노래(히스토리)가 없는 경우 최신 노래(2018~2023년도)를 찾아낸다\n",
    "    else:\n",
    "        simi_songs = song_df\n",
    "        simi_songs = simi_songs[simi_songs['issue_date'] > 20180000]\n",
    "        simi_songs = simi_songs[simi_songs['issue_date'] < 20240000]\n",
    "    \n",
    "    # 태그로 만들어낸 플레이리스트와 장르 유사도로 만들어낸 노래 목록\n",
    "    # 둘 모두에 존재하는 노래 10개 추출한다\n",
    "    recommended = []\n",
    "    index = 0\n",
    "    \n",
    "    while len(recommended) < 10 and index < len(tag_songs):\n",
    "        tag_song = tag_songs[index][0]\n",
    "        \n",
    "        if tag_song in simi_songs:\n",
    "            recommended.append(tag_song)\n",
    "            \n",
    "        index += 1\n",
    "    \n",
    "    \n",
    "    \n",
    "    # 둘 모두에 존재하는 노래가 10개 미만인 경우\n",
    "    # 각각에서 우선순위가 높은 노래들을 추출한다   \n",
    "    if len(recommended) < 10:\n",
    "        \n",
    "        # 이미 추출한 노래를 제외하고 추천 노래가 10개가 될떄까지\n",
    "        # 유사도 부분에서 추출한다\n",
    "        index = 0\n",
    "        while len(recommended) < 10 and len(simi_songs) != 0 and len(simi_songs) > index:\n",
    "            simi_song = simi_songs['song_id'].values[index]\n",
    "            \n",
    "            if not simi_song in recommended:\n",
    "                recommended.append(simi_song)\n",
    "            \n",
    "            index += 1\n",
    "            \n",
    "        if len(recommended) < 10:\n",
    "            index = 0\n",
    "            while len(tag_songs) != 0 and len(recommended) < 10:\n",
    "                tag_song = tag_songs[index][0]\n",
    "                if not tag_song in recommended:\n",
    "                    recommended.append(tag_song)\n",
    "                index += 1\n",
    "            \n",
    "    # 추출된 노래 id를 가지고 데이터프레임을 추출한다\n",
    "    rec_index = []\n",
    "    \n",
    "    for rec in recommended:\n",
    "        title_song = song_df[song_df['song_id'] == rec]\n",
    "        title_index = title_song.index\n",
    "        rec_index.append(title_index[0])\n",
    "    \n",
    "    return song_df.iloc[rec_index]\n",
    "'''"
   ]
  },
  {
   "cell_type": "markdown",
   "id": "5d61be16",
   "metadata": {},
   "source": [
    "# 모델 평가\n",
    "- [참고](https://chrisjune-13837.medium.com/%EC%B6%94%EC%B2%9C%EC%8B%9C%EC%8A%A4%ED%85%9C-%EC%84%B1%EB%8A%A5%ED%8F%89%EA%B0%80%EB%B0%A9%EB%B2%95-with-python-9932097f0ff9)"
   ]
  },
  {
   "cell_type": "markdown",
   "id": "efc7f926",
   "metadata": {},
   "source": [
    "# Recall@K"
   ]
  },
  {
   "cell_type": "code",
   "execution_count": 54,
   "id": "39e184f6",
   "metadata": {},
   "outputs": [],
   "source": [
    "def get_recall_k(y_true, y_pred):\n",
    "    recall_k = 0\n",
    "    \n",
    "    true_items = set(y_true)\n",
    "    pred_items = set(y_pred)\n",
    "    intersect_items = len(true_items.intersection(pred_items))\n",
    "    recall = intersect_items / len(true_items) if len(true_items) > 0 else 0\n",
    "    return recall\n",
    "\n",
    "#recall_k = get_recall_k(my_songs1, pred_list)\n",
    "#print(\"Recall@K (K=10): {:.2f}\".format(recall_k))"
   ]
  },
  {
   "cell_type": "markdown",
   "id": "070d02c3",
   "metadata": {},
   "source": [
    "# Precision@K"
   ]
  },
  {
   "cell_type": "code",
   "execution_count": 55,
   "id": "89d69a7d",
   "metadata": {},
   "outputs": [],
   "source": [
    "def get_precision_k(y_true, y_pred):\n",
    "    precision_k = 0\n",
    "    \n",
    "    true_items = set(y_true)\n",
    "    pred_items = set(y_pred)\n",
    "    intersect_items = len(true_items.intersection(pred_items))\n",
    "    recall = intersect_items / len(pred_items) if len(pred_items) > 0 else 0\n",
    "    return recall\n",
    "\n",
    "#precision_k = get_precision_k(my_songs1, pred_list)\n",
    "#print(\"Precision@K (K=10): {:.2f}\".format(precision_k))"
   ]
  },
  {
   "cell_type": "markdown",
   "id": "5bb58283",
   "metadata": {},
   "source": [
    "# Average Precision@K\n",
    "- 아이템 개수가 매우 적은 경우, 모델의 성능 또한 낮아지는 문제가 발생\n",
    "    - 해결방법\n",
    "        1. Thresholding : 사용자 플레이리스트 내 음악이 일정 개수 이상인 경우만 적용\n",
    "        2. Item Weighting : hits 에 1이 아닌 가중치를 이용. 이 때 precision 이 1 보다 크지 않게 하기 위해, 정규화 필요"
   ]
  },
  {
   "cell_type": "code",
   "execution_count": 56,
   "id": "f9271c78",
   "metadata": {},
   "outputs": [],
   "source": [
    "def get_ap_k(y_true, y_pred, k):\n",
    "    pred_items = y_pred[:k]\n",
    "    hits = []\n",
    "    for item in pred_items:\n",
    "        if item in y_true:\n",
    "            hits.append(1)\n",
    "        else:\n",
    "            hits.append(0)\n",
    "    precision_values = []\n",
    "    for i in range(1, k+1):\n",
    "        precision_values.append(sum(hits[:i]) / i)\n",
    "        \n",
    "    #print(precision_values)\n",
    "    \n",
    "    if len(precision_values) == 0:\n",
    "        return 0\n",
    "    else:\n",
    "        return sum(precision_values) / len(precision_values)\n",
    "    \n",
    "#ap_k = get_ap_k(my_songs1, pred_list, 10)\n",
    "#print(\"AP@K (K=10): {:.2f}\".format(ap_k))"
   ]
  },
  {
   "cell_type": "markdown",
   "id": "699dca51",
   "metadata": {},
   "source": [
    "# Mean Average Precision@K"
   ]
  },
  {
   "cell_type": "code",
   "execution_count": 57,
   "id": "c3fa9a46",
   "metadata": {},
   "outputs": [],
   "source": [
    "def get_map_k(y_true, y_pred, k):\n",
    "    sum_ap = 0\n",
    "    for true_item, pred_item in zip(y_true, y_pred):\n",
    "        ap_k = get_ap_k(true_item, pred_item, k)\n",
    "        sum_ap += ap_k\n",
    "    if len(y_true) == 0:\n",
    "        return 0\n",
    "    else:\n",
    "        return sum_ap / len(y_true)\n",
    "    \n",
    "#map_k = get_map_k(all_my_songs, all_pred_songs, 10)\n",
    "#print(\"MAP@K (K=10): {:.2f}\".format(map_k))"
   ]
  },
  {
   "cell_type": "markdown",
   "id": "24506ca8",
   "metadata": {},
   "source": [
    "# nDCG"
   ]
  },
  {
   "cell_type": "code",
   "execution_count": 58,
   "id": "041f5a99",
   "metadata": {},
   "outputs": [],
   "source": [
    "# 1차원 리스트에 대한 nDCG\n",
    "def get_ndcg(y_true, y_pred, k):\n",
    "    ndcg = 0\n",
    "    ranking = []\n",
    "    \n",
    "    for i in range(len(y_pred)):\n",
    "        if y_pred[i] in y_true:\n",
    "            ranking.append(1)\n",
    "        else:\n",
    "            ranking.append(0)\n",
    "        \n",
    "    # Ideal ranking을 계산하기 위해 ranking을 내림차순으로 정렬한 별도의 리스트\n",
    "    ideal_ranking = sorted(ranking, reverse=True)\n",
    "    \n",
    "    # DCG 계산\n",
    "    dcg = ranking[0]\n",
    "    for i in range(1, min(k, len(ranking))):\n",
    "        dcg += ranking[i] / np.log2(i + 1)\n",
    "    \n",
    "    # Ideal DCG 계산\n",
    "    ideal_dcg = ideal_ranking[0]\n",
    "    for i in range(1, min(k, len(ideal_ranking))):\n",
    "        ideal_dcg += ideal_ranking[i] / np.log2(i + 1)\n",
    "    \n",
    "    # nDCG 계산\n",
    "    if ideal_dcg == 0:\n",
    "        ndcg = 0\n",
    "    else:\n",
    "        ndcg = dcg / ideal_dcg\n",
    "    \n",
    "    return ndcg"
   ]
  },
  {
   "cell_type": "code",
   "execution_count": 59,
   "id": "1117da91",
   "metadata": {},
   "outputs": [],
   "source": [
    "# 2차원 리스트에 대한 nDCG\n",
    "def ndcg_at_k(y_true, y_pred, k):\n",
    "    ndcg = 0\n",
    "    cnt = 0\n",
    "    \n",
    "    # 기존 플레이리스트와 추천 플레이리스트를 1:1로 비교\n",
    "    for true_item, pred_item in zip(y_true, y_pred):\n",
    "        if len(true_item) == 0 or len(pred_item) == 0:\n",
    "            continue\n",
    "        ndcg += get_ndcg(true_item, pred_item, k)\n",
    "        cnt += 1\n",
    "    \n",
    "    # 모든 플레이리스트가 비어있을 경우 계산 불가능히므로 0을 반환\n",
    "    if len(y_true) == 0:\n",
    "        return 0\n",
    "    else:\n",
    "        return ndcg / cnt"
   ]
  },
  {
   "cell_type": "markdown",
   "id": "7967bb7a",
   "metadata": {},
   "source": [
    "# 추천 함수 수정\n",
    "\n",
    "### Rec1 : 사용자 플레이리스트 내 음악의 태그를 포함하는 노래 중에서 장르 유사도를 측정"
   ]
  },
  {
   "cell_type": "code",
   "execution_count": 60,
   "id": "ecf34d31",
   "metadata": {},
   "outputs": [],
   "source": [
    "def song_recommend(tags, songs, song_df, sim, tag_imb_mode, genre_imb_mode, like_weight, emb_mode):\n",
    "    \n",
    "    ts = tags\n",
    "    tag_simi_songs = []\n",
    "    '''\n",
    "    # 태그가 존재할 경우 + 태그의 개수가 3개 미만인경우 w2v로 태그를 3개까지 늘린다\n",
    "    all_tags = []\n",
    "    if len(ts) != 0 and len(ts) < 3:\n",
    "        for tag in ts:\n",
    "            sim_tags = w2v.wv.most_similar(tag)\n",
    "            for t in sim_tags:\n",
    "                all_tags.append(t)\n",
    "        all_tags = sorted(all_tags, key = lambda x : -x[1])\n",
    "        i = 0\n",
    "        while len(ts) != 0 and len(ts) < 3:\n",
    "            tag = all_tags[i][0]\n",
    "            if tag not in ts:\n",
    "                ts.append(tag)\n",
    "                i += 1\n",
    "    '''\n",
    "    '''\n",
    "    # 해당 태그가 존재하는 플레이리스트의 노래를 추출하고 등장 빈도수로 정렬한다\n",
    "    tag_songs = dict()\n",
    "    \n",
    "    for tag in ts:\n",
    "        #print(\"현재 태그: {}\".format(tag))\n",
    "        for i in range(len(tag_df['song_id'])):\n",
    "            if tag in tag_df['tags'][i]:\n",
    "                #print(\"태그에 맞는 노래: {}\".format(tag))\n",
    "                for ss in tag_df['song_id'][i]:\n",
    "                    #print(ss)\n",
    "                    if ss in tag_songs:\n",
    "                        tag_songs[ss] += 1\n",
    "                            \n",
    "                    else:\n",
    "                        tag_songs[ss] = 1\n",
    "                        \n",
    "    #tag_songs = sorted(tag_songs.items(), key=lambda x: x[1], reverse=True)\n",
    "    tag_songs = {key: value for key, value in tag_songs.items() if value > 0}\n",
    "    tag_songs = list(tag_songs)\n",
    "    tag_songs = song_df[song_df['song_id'].isin(tag_songs)]\n",
    "    tag_songs = tag_songs.reset_index(drop=True)\n",
    "    '''\n",
    "    \n",
    "    sorted_idx = get_tag_mean(ts, song_df['tags'], tag_imb_mode)\n",
    "    tag_simi_songs = song_df.loc[sorted_idx]\n",
    "    tag_songs = tag_simi_songs.iloc[:1000].copy()\n",
    "    tag_songs = tag_songs.reset_index()\n",
    "    \n",
    "    # 기존 노래(히스토리)가 있는 경우 장르 유사도를 계산해\n",
    "    #상위 100개의 노래를 찾아낸다\n",
    "    if len(songs) > 0:\n",
    "        if genre_imb_mode:\n",
    "            w_mat = apply_genre_weight(get_embedding(tag_songs, emb_mode))\n",
    "            simi_songs = find_sim_song(tag_songs, sim, w_mat, songs, emb_mode, False, like_weight, 100)\n",
    "                \n",
    "        else:\n",
    "            simi_songs = find_sim_song(tag_songs, sim, get_embedding(tag_songs, emb_mode), songs, emb_mode, False, like_weight, 100)\n",
    "    \n",
    "    # 기존 노래(히스토리)가 없는 경우 최신 노래(2018~2023년도)를 찾아낸다\n",
    "    else:\n",
    "        simi_songs = tag_songs\n",
    "        simi_songs = simi_songs[simi_songs['issue_date'] > 20180000]\n",
    "        simi_songs = simi_songs[simi_songs['issue_date'] < 20240000]\n",
    "    \n",
    "    # 태그로 만들어낸 플레이리스트와 장르 유사도로 만들어낸 노래 목록\n",
    "    # 둘 모두에 존재하는 노래 10개 추출한다\n",
    "    recommended = []\n",
    "    \n",
    "    for rec in simi_songs['song_id']:\n",
    "        title_song = tag_songs[tag_songs['song_id'] == rec]\n",
    "        if not title_song.empty:\n",
    "            title_index = title_song.index\n",
    "            recommended.append(title_index[0])\n",
    "    \n",
    "    return tag_songs.iloc[recommended[:10]]"
   ]
  },
  {
   "cell_type": "markdown",
   "id": "1c27a091",
   "metadata": {},
   "source": [
    "### Rec2 : 사용자 플레이리스트 내 장르 유사도를 측정 후, 음악의 태그 유사도에 따른 음악 추천"
   ]
  },
  {
   "cell_type": "code",
   "execution_count": 61,
   "id": "21de9da7",
   "metadata": {},
   "outputs": [],
   "source": [
    "def get_tag_simi(input_tag, simi_tags, imb_mode):\n",
    "    if imb_mode == False:\n",
    "        simi_lst = [w2v.wv.similarity(input_tag, simi_tag) for simi_tag in simi_tags if simi_tag in w2v.wv.key_to_index]\n",
    "        if len(simi_lst) == 0:\n",
    "            return 0\n",
    "        else:\n",
    "            return max(simi_lst)\n",
    "    else:\n",
    "        weighted_simi_lst = []\n",
    "        for tag in simi_tags:\n",
    "            if tag not in w2v.wv.key_to_index:\n",
    "                similarity = 0\n",
    "            else:\n",
    "                similarity = w2v.wv.similarity(input_tag, tag)\n",
    "            weighted_simi_lst.append(tag_weights.get(tag, 0)*similarity)\n",
    "        return max(weighted_simi_lst)\n",
    "        \n",
    "def song_recommend2(tags, songs, song_df, sim, tag_imb_mode, genre_imb_mode, like_weight, emb_mode):\n",
    "    \n",
    "    # 기존 노래(히스토리)가 있는 경우 장르 유사도를 계산해\n",
    "    #상위 100개의 노래를 찾아낸다\n",
    "    if len(songs) > 0:\n",
    "        # 장르 불균형데이터에 대해서는 상위 100개의 음악을 추출하는 것이 유효함\n",
    "        #if genre_imb_mode:\n",
    "        simi_songs = find_sim_song(song_df, sim, get_embedding(song_df, emb_mode), songs, emb_mode, genre_imb_mode, like_weight, 100)\n",
    "            \n",
    "        #else:\n",
    "        #simi_songs = find_sim_song(song_df, sim, get_cv(song_df), songs) #상위 100개가 아닌, 유사도가 0.4 이상인 음악만 추출\n",
    "    \n",
    "    # 기존 노래(히스토리)가 없는 경우 최신 노래(2018~2023년도)를 찾아낸다\n",
    "    else:\n",
    "        simi_songs = song_df\n",
    "        simi_songs = simi_songs[simi_songs['issue_date'] > 20180000]\n",
    "        simi_songs = simi_songs[simi_songs['issue_date'] < 20240000]\n",
    "    \n",
    "    #print(simi_songs.shape)\n",
    "    \n",
    "    '''\n",
    "\n",
    "    # 태그가 존재할 경우 + 태그의 개수가 3개 미만인경우 w2v로 태그를 3개까지 늘린다\n",
    "    all_tags = []\n",
    "    if len(ts) != 0 and len(ts) < 3:\n",
    "        for tag in ts:\n",
    "            sim_tags = w2v.wv.most_similar(tag)\n",
    "            for t in sim_tags:\n",
    "                all_tags.append(t)\n",
    "        all_tags = sorted(all_tags, key = lambda x : -x[1])\n",
    "        i = 0\n",
    "        while len(ts) != 0 and len(ts) < 3:\n",
    "            tag = all_tags[i][0]\n",
    "            if tag not in ts:\n",
    "                ts.append(tag)\n",
    "                i += 1\n",
    "    '''\n",
    "       \n",
    "    ts = tags\n",
    "    \n",
    "    # 해당 태그가 존재하는 플레이리스트의 노래를 추출하고 등장 빈도수로 정렬한다\n",
    "    tag_songs = dict()\n",
    "    tag_simi_mean = []\n",
    "    \n",
    "    '''\n",
    "    tags_public = dict()\n",
    "    \n",
    "    for simi_tags in simi_songs['tags']:\n",
    "        songs_similarity = []\n",
    "        for simi_tag in simi_tags:\n",
    "            for input_tag in ts:\n",
    "                tag_public = 0.0\n",
    "                if (simi_tag, input_tag) in tags_public:\n",
    "                    tag_public = tags_public[(simi_tag, input_tag)]\n",
    "                elif (input_tag, simi_tag) in tags_public:\n",
    "                    tag_public = tags_public[(input_tag, simi_tag)]\n",
    "                else:\n",
    "                    tag_public = get_tag_public(input_tag, simi_tag, simi_songs['tags'])\n",
    "                    tags_public[(input_tag, simi_tag)] = tag_public\n",
    "                    tags_public[(simi_tag, input_tag)] = tag_public\n",
    "                songs_similarity.append(tag_public)\n",
    "        if len(songs_similarity) == 0:\n",
    "            tag_simi_mean.append(0)\n",
    "        else:\n",
    "            tag_simi_mean.append(sum(songs_similarity) / len(songs_similarity))\n",
    "    '''\n",
    "    '''\n",
    "    for simi_tags in simi_songs['tags']:\n",
    "        songs_similarity = []\n",
    "        for input_tag in ts:\n",
    "            if input_tag not in w2v.wv.key_to_index:\n",
    "                continue\n",
    "            songs_similarity.append(get_tag_simi(input_tag, simi_tags, tag_imb_mode))\n",
    "        if len(songs_similarity) == 0:\n",
    "            tag_simi_mean.append(0)\n",
    "        else:\n",
    "            tag_simi_mean.append(sum(songs_similarity) / len(songs_similarity))\n",
    "    '''\n",
    "    '''\n",
    "    tag_simi_mean = pd.DataFrame(columns = ['tag_simi'], data = tag_simi_mean)\n",
    "    sorted_idx = tag_simi_mean['tag_simi'].sort_values(ascending = False).index\n",
    "    #for i in sorted_idx:\n",
    "    #    print(\"원본: {} / simi_mean: {}\".format(simi_songs.loc[i, 'song_id'], tag_simi_mean.loc[i, 'tag_simi']))\n",
    "    tag_simi_mean = simi_songs.loc[sorted_idx]\n",
    "    '''\n",
    "    '''\n",
    "    # 태그로 만들어낸 플레이리스트와 장르 유사도로 만들어낸 노래 목록\n",
    "    # 둘 모두에 존재하는 노래 10개 추출한다\n",
    "    recommended = []\n",
    "    \n",
    "    for rec in simi_songs['song_id']:\n",
    "        title_song = tag_songs[tag_songs['song_id'] == rec]\n",
    "        title_index = title_song.index\n",
    "        recommended.append(title_index[0])\n",
    "    \n",
    "    '''\n",
    "    sorted_idx = get_tag_mean(ts, simi_songs['tags'], tag_imb_mode)\n",
    "    tag_simi_mean = simi_songs.loc[sorted_idx]\n",
    "    \n",
    "    return tag_simi_mean.iloc[:10]\n",
    "\n"
   ]
  },
  {
   "cell_type": "code",
   "execution_count": 62,
   "id": "16f11596",
   "metadata": {},
   "outputs": [
    {
     "name": "stdout",
     "output_type": "stream",
     "text": [
      "Recall@K (K=10): 0.05\n",
      "Precision@K (K=10): 0.10\n",
      "nDCG: 1.00\n"
     ]
    },
    {
     "name": "stderr",
     "output_type": "stream",
     "text": [
      "C:\\Users\\pigwo\\AppData\\Local\\Temp\\ipykernel_15248\\2057295318.py:37: RuntimeWarning: invalid value encountered in divide\n",
      "  simi *= (simi - min(simi)) / (max(simi) - min(simi))\n"
     ]
    }
   ],
   "source": [
    "test_data_sample = train_data[:2000].copy()\n",
    "#test_data_sample = train_data_eng.copy()\n",
    "test_data_sample = test_data_sample.reset_index(drop=True)\n",
    "test_my_tags = test_data_sample['tags'].tolist()\n",
    "test_my_songs = test_data_sample['song_id'].tolist()\n",
    "\n",
    "rec1 = song_recommend(test_my_tags[0], test_my_songs[0], song_tag_appended, 'cos', False, False, False, 'cv')\n",
    "\n",
    "pred_list = rec1['song_id'].tolist()\n",
    "precision_k = get_precision_k(test_my_songs[0], pred_list)\n",
    "recall_k = get_recall_k(test_my_songs[0], pred_list)\n",
    "ndcg = get_ndcg(test_my_songs[0], pred_list, 10)\n",
    "\n",
    "print(\"Recall@K (K=10): {:.2f}\".format(recall_k))\n",
    "print(\"Precision@K (K=10): {:.2f}\".format(precision_k))\n",
    "print(\"nDCG: {:.2f}\".format(ndcg))"
   ]
  },
  {
   "cell_type": "code",
   "execution_count": 63,
   "id": "3fae05f6",
   "metadata": {},
   "outputs": [
    {
     "data": {
      "text/plain": [
       "\"\\npred_list = []\\nfor plist, tags in zip(test_my_songs, test_my_tags):\\n    recommended = song_recommend(tags, plist, train_data_sample2, song_tag_appended, 'cos')\\n    pred_list.append(recommended['song_id'].tolist())\\nprint(pred_list[0])\\n\""
      ]
     },
     "execution_count": 63,
     "metadata": {},
     "output_type": "execute_result"
    }
   ],
   "source": [
    "'''\n",
    "pred_list = []\n",
    "for plist, tags in zip(test_my_songs, test_my_tags):\n",
    "    recommended = song_recommend(tags, plist, train_data_sample2, song_tag_appended, 'cos')\n",
    "    pred_list.append(recommended['song_id'].tolist())\n",
    "print(pred_list[0])\n",
    "'''"
   ]
  },
  {
   "cell_type": "code",
   "execution_count": 64,
   "id": "3f9b5f94",
   "metadata": {},
   "outputs": [
    {
     "data": {
      "text/plain": [
       "'\\nmap_k = get_map_k(test_my_songs, pred_list, 10)\\nprint(\"MAP@K (K=10): {:.2f}\".format(map_k))\\n'"
      ]
     },
     "execution_count": 64,
     "metadata": {},
     "output_type": "execute_result"
    }
   ],
   "source": [
    "'''\n",
    "map_k = get_map_k(test_my_songs, pred_list, 10)\n",
    "print(\"MAP@K (K=10): {:.2f}\".format(map_k))\n",
    "'''"
   ]
  },
  {
   "cell_type": "markdown",
   "id": "57cbf383",
   "metadata": {},
   "source": [
    "---"
   ]
  },
  {
   "cell_type": "markdown",
   "id": "fa91fd8e",
   "metadata": {},
   "source": [
    "# 태그, 장르 불균형 데이터 처리 X\n",
    "\n",
    "- cv\n",
    "- recommend"
   ]
  },
  {
   "cell_type": "code",
   "execution_count": 65,
   "id": "7b4d2308",
   "metadata": {},
   "outputs": [
    {
     "name": "stderr",
     "output_type": "stream",
     "text": [
      "C:\\Users\\pigwo\\AppData\\Local\\Temp\\ipykernel_15248\\2057295318.py:37: RuntimeWarning: invalid value encountered in divide\n",
      "  simi *= (simi - min(simi)) / (max(simi) - min(simi))\n",
      "C:\\Users\\pigwo\\AppData\\Local\\Temp\\ipykernel_15248\\2057295318.py:37: RuntimeWarning: invalid value encountered in divide\n",
      "  simi *= (simi - min(simi)) / (max(simi) - min(simi))\n",
      "C:\\Users\\pigwo\\AppData\\Local\\Temp\\ipykernel_15248\\2057295318.py:37: RuntimeWarning: invalid value encountered in divide\n",
      "  simi *= (simi - min(simi)) / (max(simi) - min(simi))\n",
      "C:\\Users\\pigwo\\AppData\\Local\\Temp\\ipykernel_15248\\2057295318.py:37: RuntimeWarning: invalid value encountered in divide\n",
      "  simi *= (simi - min(simi)) / (max(simi) - min(simi))\n",
      "C:\\Users\\pigwo\\AppData\\Local\\Temp\\ipykernel_15248\\2057295318.py:37: RuntimeWarning: invalid value encountered in divide\n",
      "  simi *= (simi - min(simi)) / (max(simi) - min(simi))\n",
      "C:\\Users\\pigwo\\AppData\\Local\\Temp\\ipykernel_15248\\2057295318.py:37: RuntimeWarning: invalid value encountered in divide\n",
      "  simi *= (simi - min(simi)) / (max(simi) - min(simi))\n",
      "C:\\Users\\pigwo\\AppData\\Local\\Temp\\ipykernel_15248\\2057295318.py:37: RuntimeWarning: invalid value encountered in divide\n",
      "  simi *= (simi - min(simi)) / (max(simi) - min(simi))\n",
      "C:\\Users\\pigwo\\AppData\\Local\\Temp\\ipykernel_15248\\2057295318.py:37: RuntimeWarning: invalid value encountered in divide\n",
      "  simi *= (simi - min(simi)) / (max(simi) - min(simi))\n",
      "C:\\Users\\pigwo\\AppData\\Local\\Temp\\ipykernel_15248\\2057295318.py:37: RuntimeWarning: invalid value encountered in divide\n",
      "  simi *= (simi - min(simi)) / (max(simi) - min(simi))\n",
      "C:\\Users\\pigwo\\AppData\\Local\\Temp\\ipykernel_15248\\2057295318.py:37: RuntimeWarning: invalid value encountered in divide\n",
      "  simi *= (simi - min(simi)) / (max(simi) - min(simi))\n",
      "C:\\Users\\pigwo\\AppData\\Local\\Temp\\ipykernel_15248\\2057295318.py:37: RuntimeWarning: invalid value encountered in divide\n",
      "  simi *= (simi - min(simi)) / (max(simi) - min(simi))\n",
      "C:\\Users\\pigwo\\AppData\\Local\\Temp\\ipykernel_15248\\2057295318.py:37: RuntimeWarning: invalid value encountered in divide\n",
      "  simi *= (simi - min(simi)) / (max(simi) - min(simi))\n",
      "C:\\Users\\pigwo\\AppData\\Local\\Temp\\ipykernel_15248\\2057295318.py:37: RuntimeWarning: invalid value encountered in divide\n",
      "  simi *= (simi - min(simi)) / (max(simi) - min(simi))\n",
      "C:\\Users\\pigwo\\AppData\\Local\\Temp\\ipykernel_15248\\2057295318.py:37: RuntimeWarning: invalid value encountered in divide\n",
      "  simi *= (simi - min(simi)) / (max(simi) - min(simi))\n",
      "C:\\Users\\pigwo\\AppData\\Local\\Temp\\ipykernel_15248\\2057295318.py:37: RuntimeWarning: invalid value encountered in divide\n",
      "  simi *= (simi - min(simi)) / (max(simi) - min(simi))\n"
     ]
    },
    {
     "ename": "KeyboardInterrupt",
     "evalue": "",
     "output_type": "error",
     "traceback": [
      "\u001b[1;31m---------------------------------------------------------------------------\u001b[0m",
      "\u001b[1;31mKeyboardInterrupt\u001b[0m                         Traceback (most recent call last)",
      "Cell \u001b[1;32mIn[65], line 3\u001b[0m\n\u001b[0;32m      1\u001b[0m pred_list \u001b[38;5;241m=\u001b[39m []\n\u001b[0;32m      2\u001b[0m \u001b[38;5;28;01mfor\u001b[39;00m plist, tags \u001b[38;5;129;01min\u001b[39;00m \u001b[38;5;28mzip\u001b[39m(test_my_songs, test_my_tags):\n\u001b[1;32m----> 3\u001b[0m     recommended \u001b[38;5;241m=\u001b[39m song_recommend(tags, plist, song_tag_appended, \u001b[38;5;124m'\u001b[39m\u001b[38;5;124mcos\u001b[39m\u001b[38;5;124m'\u001b[39m, \u001b[38;5;28;01mFalse\u001b[39;00m, \u001b[38;5;28;01mFalse\u001b[39;00m, \u001b[38;5;28;01mFalse\u001b[39;00m, \u001b[38;5;124m'\u001b[39m\u001b[38;5;124mcv\u001b[39m\u001b[38;5;124m'\u001b[39m)\n\u001b[0;32m      4\u001b[0m     pred_list\u001b[38;5;241m.\u001b[39mappend(recommended[\u001b[38;5;124m'\u001b[39m\u001b[38;5;124msong_id\u001b[39m\u001b[38;5;124m'\u001b[39m]\u001b[38;5;241m.\u001b[39mtolist())\n\u001b[0;32m      5\u001b[0m \u001b[38;5;28mprint\u001b[39m(pred_list[\u001b[38;5;241m0\u001b[39m])\n",
      "Cell \u001b[1;32mIn[60], line 45\u001b[0m, in \u001b[0;36msong_recommend\u001b[1;34m(tags, songs, song_df, sim, tag_imb_mode, genre_imb_mode, like_weight, emb_mode)\u001b[0m\n\u001b[0;32m      5\u001b[0m \u001b[38;5;250m\u001b[39m\u001b[38;5;124;03m'''\u001b[39;00m\n\u001b[0;32m      6\u001b[0m \u001b[38;5;124;03m# 태그가 존재할 경우 + 태그의 개수가 3개 미만인경우 w2v로 태그를 3개까지 늘린다\u001b[39;00m\n\u001b[0;32m      7\u001b[0m \u001b[38;5;124;03mall_tags = []\u001b[39;00m\n\u001b[1;32m   (...)\u001b[0m\n\u001b[0;32m     19\u001b[0m \u001b[38;5;124;03m            i += 1\u001b[39;00m\n\u001b[0;32m     20\u001b[0m \u001b[38;5;124;03m'''\u001b[39;00m\n\u001b[0;32m     21\u001b[0m \u001b[38;5;250m\u001b[39m\u001b[38;5;124;03m'''\u001b[39;00m\n\u001b[0;32m     22\u001b[0m \u001b[38;5;124;03m# 해당 태그가 존재하는 플레이리스트의 노래를 추출하고 등장 빈도수로 정렬한다\u001b[39;00m\n\u001b[0;32m     23\u001b[0m \u001b[38;5;124;03mtag_songs = dict()\u001b[39;00m\n\u001b[1;32m   (...)\u001b[0m\n\u001b[0;32m     42\u001b[0m \u001b[38;5;124;03mtag_songs = tag_songs.reset_index(drop=True)\u001b[39;00m\n\u001b[0;32m     43\u001b[0m \u001b[38;5;124;03m'''\u001b[39;00m\n\u001b[1;32m---> 45\u001b[0m sorted_idx \u001b[38;5;241m=\u001b[39m get_tag_mean(ts, song_df[\u001b[38;5;124m'\u001b[39m\u001b[38;5;124mtags\u001b[39m\u001b[38;5;124m'\u001b[39m], tag_imb_mode)\n\u001b[0;32m     46\u001b[0m tag_simi_songs \u001b[38;5;241m=\u001b[39m song_df\u001b[38;5;241m.\u001b[39mloc[sorted_idx]\n\u001b[0;32m     47\u001b[0m tag_songs \u001b[38;5;241m=\u001b[39m tag_simi_songs\u001b[38;5;241m.\u001b[39miloc[:\u001b[38;5;241m1000\u001b[39m]\u001b[38;5;241m.\u001b[39mcopy()\n",
      "Cell \u001b[1;32mIn[43], line 20\u001b[0m, in \u001b[0;36mget_tag_mean\u001b[1;34m(input_songs, simi_songs, imb_mode)\u001b[0m\n\u001b[0;32m     17\u001b[0m         temp_tag_lst\u001b[38;5;241m.\u001b[39mappend(tag_weights\u001b[38;5;241m.\u001b[39mget(tag, \u001b[38;5;241m0\u001b[39m))\n\u001b[0;32m     18\u001b[0m     song_tag_weight\u001b[38;5;241m.\u001b[39mappend(\u001b[38;5;28msum\u001b[39m(temp_tag_lst) \u001b[38;5;241m/\u001b[39m \u001b[38;5;28mlen\u001b[39m(temp_tag_lst))\n\u001b[1;32m---> 20\u001b[0m temp_mean \u001b[38;5;241m=\u001b[39m np\u001b[38;5;241m.\u001b[39mmean([w2v\u001b[38;5;241m.\u001b[39mwv[tag] \u001b[38;5;28;01mfor\u001b[39;00m tag \u001b[38;5;129;01min\u001b[39;00m song_tags], axis\u001b[38;5;241m=\u001b[39m\u001b[38;5;241m0\u001b[39m)\n\u001b[0;32m     21\u001b[0m \u001b[38;5;28;01mif\u001b[39;00m np\u001b[38;5;241m.\u001b[39many(np\u001b[38;5;241m.\u001b[39misnan(temp_mean)):\n\u001b[0;32m     22\u001b[0m     temp_mean \u001b[38;5;241m=\u001b[39m np\u001b[38;5;241m.\u001b[39mzeros(w2v\u001b[38;5;241m.\u001b[39mvector_size)\n",
      "File \u001b[1;32m<__array_function__ internals>:200\u001b[0m, in \u001b[0;36mmean\u001b[1;34m(*args, **kwargs)\u001b[0m\n",
      "File \u001b[1;32m~\\anaconda3\\Lib\\site-packages\\numpy\\core\\fromnumeric.py:3464\u001b[0m, in \u001b[0;36mmean\u001b[1;34m(a, axis, dtype, out, keepdims, where)\u001b[0m\n\u001b[0;32m   3461\u001b[0m     \u001b[38;5;28;01melse\u001b[39;00m:\n\u001b[0;32m   3462\u001b[0m         \u001b[38;5;28;01mreturn\u001b[39;00m mean(axis\u001b[38;5;241m=\u001b[39maxis, dtype\u001b[38;5;241m=\u001b[39mdtype, out\u001b[38;5;241m=\u001b[39mout, \u001b[38;5;241m*\u001b[39m\u001b[38;5;241m*\u001b[39mkwargs)\n\u001b[1;32m-> 3464\u001b[0m \u001b[38;5;28;01mreturn\u001b[39;00m _methods\u001b[38;5;241m.\u001b[39m_mean(a, axis\u001b[38;5;241m=\u001b[39maxis, dtype\u001b[38;5;241m=\u001b[39mdtype,\n\u001b[0;32m   3465\u001b[0m                       out\u001b[38;5;241m=\u001b[39mout, \u001b[38;5;241m*\u001b[39m\u001b[38;5;241m*\u001b[39mkwargs)\n",
      "File \u001b[1;32m~\\anaconda3\\Lib\\site-packages\\numpy\\core\\_methods.py:165\u001b[0m, in \u001b[0;36m_mean\u001b[1;34m(a, axis, dtype, out, keepdims, where)\u001b[0m\n\u001b[0;32m    164\u001b[0m \u001b[38;5;28;01mdef\u001b[39;00m \u001b[38;5;21m_mean\u001b[39m(a, axis\u001b[38;5;241m=\u001b[39m\u001b[38;5;28;01mNone\u001b[39;00m, dtype\u001b[38;5;241m=\u001b[39m\u001b[38;5;28;01mNone\u001b[39;00m, out\u001b[38;5;241m=\u001b[39m\u001b[38;5;28;01mNone\u001b[39;00m, keepdims\u001b[38;5;241m=\u001b[39m\u001b[38;5;28;01mFalse\u001b[39;00m, \u001b[38;5;241m*\u001b[39m, where\u001b[38;5;241m=\u001b[39m\u001b[38;5;28;01mTrue\u001b[39;00m):\n\u001b[1;32m--> 165\u001b[0m     arr \u001b[38;5;241m=\u001b[39m asanyarray(a)\n\u001b[0;32m    167\u001b[0m     is_float16_result \u001b[38;5;241m=\u001b[39m \u001b[38;5;28;01mFalse\u001b[39;00m\n\u001b[0;32m    169\u001b[0m     rcount \u001b[38;5;241m=\u001b[39m _count_reduce_items(arr, axis, keepdims\u001b[38;5;241m=\u001b[39mkeepdims, where\u001b[38;5;241m=\u001b[39mwhere)\n",
      "\u001b[1;31mKeyboardInterrupt\u001b[0m: "
     ]
    }
   ],
   "source": [
    "pred_list = []\n",
    "for plist, tags in zip(test_my_songs, test_my_tags):\n",
    "    recommended = song_recommend(tags, plist, song_tag_appended, 'cos', False, False, False, 'cv')\n",
    "    pred_list.append(recommended['song_id'].tolist())\n",
    "print(pred_list[0])"
   ]
  },
  {
   "cell_type": "code",
   "execution_count": null,
   "id": "2763de6d",
   "metadata": {},
   "outputs": [],
   "source": [
    "map_k = get_map_k(test_my_songs, pred_list, 10)\n",
    "print(\"MAP@K (K=10): {:.3f}\".format(map_k))\n",
    "\n",
    "ndcg = ndcg_at_k(test_my_songs, pred_list, 10)\n",
    "print(\"nDCG: {:.3f}\".format(ndcg))"
   ]
  },
  {
   "cell_type": "code",
   "execution_count": null,
   "id": "57654d49",
   "metadata": {},
   "outputs": [],
   "source": [
    "pred_list = []\n",
    "for plist, tags in zip(test_my_songs, test_my_tags):\n",
    "    recommended = song_recommend(tags, plist, song_tag_appended, 'cos', False, False, True, 'cv')\n",
    "    pred_list.append(recommended['song_id'].tolist())\n",
    "print(pred_list[0])"
   ]
  },
  {
   "cell_type": "code",
   "execution_count": null,
   "id": "ae3ab8b9",
   "metadata": {},
   "outputs": [],
   "source": [
    "map_k = get_map_k(test_my_songs, pred_list, 10)\n",
    "print(\"MAP@K (K=10): {:.3f}\".format(map_k))\n",
    "\n",
    "ndcg = ndcg_at_k(test_my_songs, pred_list, 10)\n",
    "print(\"nDCG: {:.3f}\".format(ndcg))"
   ]
  },
  {
   "cell_type": "code",
   "execution_count": null,
   "id": "e35d6966",
   "metadata": {},
   "outputs": [],
   "source": [
    "pred_list = []\n",
    "for plist, tags in zip(test_my_songs, test_my_tags):\n",
    "    recommended = song_recommend(tags, plist, song_tag_appended, 'jac', False, False, False, 'cv')\n",
    "    pred_list.append(recommended['song_id'].tolist())\n",
    "print(pred_list[0])"
   ]
  },
  {
   "cell_type": "code",
   "execution_count": null,
   "id": "cbbf2514",
   "metadata": {},
   "outputs": [],
   "source": [
    "map_k = get_map_k(test_my_songs, pred_list, 10)\n",
    "print(\"MAP@K (K=10): {:.3f}\".format(map_k))\n",
    "\n",
    "ndcg = ndcg_at_k(test_my_songs, pred_list, 10)\n",
    "print(\"nDCG: {:.3f}\".format(ndcg))"
   ]
  },
  {
   "cell_type": "code",
   "execution_count": null,
   "id": "fe782ddd",
   "metadata": {},
   "outputs": [],
   "source": [
    "pred_list = []\n",
    "for plist, tags in zip(test_my_songs, test_my_tags):\n",
    "    recommended = song_recommend(tags, plist, song_tag_appended, 'jac', False, False, True, 'cv')\n",
    "    pred_list.append(recommended['song_id'].tolist())\n",
    "print(pred_list[0])"
   ]
  },
  {
   "cell_type": "code",
   "execution_count": null,
   "id": "3588a2bd",
   "metadata": {},
   "outputs": [],
   "source": [
    "map_k = get_map_k(test_my_songs, pred_list, 10)\n",
    "print(\"MAP@K (K=10): {:.3f}\".format(map_k))\n",
    "\n",
    "ndcg = ndcg_at_k(test_my_songs, pred_list, 10)\n",
    "print(\"nDCG: {:.3f}\".format(ndcg))"
   ]
  },
  {
   "cell_type": "code",
   "execution_count": null,
   "id": "6826ea01",
   "metadata": {},
   "outputs": [],
   "source": [
    "pred_list = []\n",
    "for plist, tags in zip(test_my_songs, test_my_tags):\n",
    "    recommended = song_recommend(tags, plist, song_tag_appended, 'pea', False, False, False, 'cv')\n",
    "    pred_list.append(recommended['song_id'].tolist())\n",
    "print(pred_list[0])"
   ]
  },
  {
   "cell_type": "code",
   "execution_count": null,
   "id": "df3f5271",
   "metadata": {},
   "outputs": [],
   "source": [
    "map_k = get_map_k(test_my_songs, pred_list, 10)\n",
    "print(\"MAP@K (K=10): {:.3f}\".format(map_k))\n",
    "\n",
    "ndcg = ndcg_at_k(test_my_songs, pred_list, 10)\n",
    "print(\"nDCG: {:.3f}\".format(ndcg))"
   ]
  },
  {
   "cell_type": "code",
   "execution_count": null,
   "id": "b72ca209",
   "metadata": {},
   "outputs": [],
   "source": [
    "pred_list = []\n",
    "for plist, tags in zip(test_my_songs, test_my_tags):\n",
    "    recommended = song_recommend(tags, plist, song_tag_appended, 'pea', False, False, True, 'cv')\n",
    "    pred_list.append(recommended['song_id'].tolist())\n",
    "print(pred_list[0])"
   ]
  },
  {
   "cell_type": "code",
   "execution_count": null,
   "id": "3cc01cc9",
   "metadata": {},
   "outputs": [],
   "source": [
    "map_k = get_map_k(test_my_songs, pred_list, 10)\n",
    "print(\"MAP@K (K=10): {:.3f}\".format(map_k))\n",
    "\n",
    "ndcg = ndcg_at_k(test_my_songs, pred_list, 10)\n",
    "print(\"nDCG: {:.3f}\".format(ndcg))"
   ]
  },
  {
   "cell_type": "markdown",
   "id": "7280b542",
   "metadata": {},
   "source": [
    "# 태그 불균형 데이터 처리\n",
    "\n",
    "- cv\n",
    "- recommend"
   ]
  },
  {
   "cell_type": "code",
   "execution_count": null,
   "id": "5bd74041",
   "metadata": {},
   "outputs": [],
   "source": [
    "pred_list = []\n",
    "for plist, tags in zip(test_my_songs, test_my_tags):\n",
    "    recommended = song_recommend(tags, plist, song_tag_appended, 'cos', True, False, False, 'cv')\n",
    "    pred_list.append(recommended['song_id'].tolist())\n",
    "print(pred_list[0])"
   ]
  },
  {
   "cell_type": "code",
   "execution_count": null,
   "id": "5124ebd4",
   "metadata": {},
   "outputs": [],
   "source": [
    "map_k = get_map_k(test_my_songs, pred_list, 10)\n",
    "print(\"MAP@K (K=10): {:.3f}\".format(map_k))\n",
    "\n",
    "ndcg = ndcg_at_k(test_my_songs, pred_list, 10)\n",
    "print(\"nDCG: {:.3f}\".format(ndcg))"
   ]
  },
  {
   "cell_type": "code",
   "execution_count": null,
   "id": "bbf17408",
   "metadata": {},
   "outputs": [],
   "source": [
    "pred_list = []\n",
    "for plist, tags in zip(test_my_songs, test_my_tags):\n",
    "    recommended = song_recommend(tags, plist, song_tag_appended, 'cos', True, False, True, 'cv')\n",
    "    pred_list.append(recommended['song_id'].tolist())\n",
    "print(pred_list[0])"
   ]
  },
  {
   "cell_type": "code",
   "execution_count": null,
   "id": "d203114a",
   "metadata": {},
   "outputs": [],
   "source": [
    "map_k = get_map_k(test_my_songs, pred_list, 10)\n",
    "print(\"MAP@K (K=10): {:.3f}\".format(map_k))\n",
    "\n",
    "ndcg = ndcg_at_k(test_my_songs, pred_list, 10)\n",
    "print(\"nDCG: {:.3f}\".format(ndcg))"
   ]
  },
  {
   "cell_type": "code",
   "execution_count": null,
   "id": "9553d016",
   "metadata": {},
   "outputs": [],
   "source": [
    "pred_list = []\n",
    "for plist, tags in zip(test_my_songs, test_my_tags):\n",
    "    recommended = song_recommend(tags, plist, song_tag_appended, 'jac', True, False, False, 'cv')\n",
    "    pred_list.append(recommended['song_id'].tolist())\n",
    "print(pred_list[0])"
   ]
  },
  {
   "cell_type": "code",
   "execution_count": null,
   "id": "852e4203",
   "metadata": {},
   "outputs": [],
   "source": [
    "map_k = get_map_k(test_my_songs, pred_list, 10)\n",
    "print(\"MAP@K (K=10): {:.3f}\".format(map_k))\n",
    "\n",
    "ndcg = ndcg_at_k(test_my_songs, pred_list, 10)\n",
    "print(\"nDCG: {:.3f}\".format(ndcg))"
   ]
  },
  {
   "cell_type": "code",
   "execution_count": null,
   "id": "4a578e90",
   "metadata": {},
   "outputs": [],
   "source": [
    "pred_list = []\n",
    "for plist, tags in zip(test_my_songs, test_my_tags):\n",
    "    recommended = song_recommend(tags, plist, song_tag_appended, 'jac', True, False, True, 'cv')\n",
    "    pred_list.append(recommended['song_id'].tolist())\n",
    "print(pred_list[0])"
   ]
  },
  {
   "cell_type": "code",
   "execution_count": null,
   "id": "8a4971f8",
   "metadata": {},
   "outputs": [],
   "source": [
    "map_k = get_map_k(test_my_songs, pred_list, 10)\n",
    "print(\"MAP@K (K=10): {:.3f}\".format(map_k))\n",
    "\n",
    "ndcg = ndcg_at_k(test_my_songs, pred_list, 10)\n",
    "print(\"nDCG: {:.3f}\".format(ndcg))"
   ]
  },
  {
   "cell_type": "code",
   "execution_count": null,
   "id": "3f59c796",
   "metadata": {},
   "outputs": [],
   "source": [
    "pred_list = []\n",
    "for plist, tags in zip(test_my_songs, test_my_tags):\n",
    "    recommended = song_recommend(tags, plist, song_tag_appended, 'pea', True, False, False, 'cv')\n",
    "    pred_list.append(recommended['song_id'].tolist())\n",
    "print(pred_list[0])"
   ]
  },
  {
   "cell_type": "code",
   "execution_count": null,
   "id": "8429aac2",
   "metadata": {},
   "outputs": [],
   "source": [
    "map_k = get_map_k(test_my_songs, pred_list, 10)\n",
    "print(\"MAP@K (K=10): {:.3f}\".format(map_k))\n",
    "\n",
    "ndcg = ndcg_at_k(test_my_songs, pred_list, 10)\n",
    "print(\"nDCG: {:.3f}\".format(ndcg))"
   ]
  },
  {
   "cell_type": "code",
   "execution_count": null,
   "id": "aefce2ad",
   "metadata": {},
   "outputs": [],
   "source": [
    "pred_list = []\n",
    "for plist, tags in zip(test_my_songs, test_my_tags):\n",
    "    recommended = song_recommend(tags, plist, song_tag_appended, 'pea', True, False, True, 'cv')\n",
    "    pred_list.append(recommended['song_id'].tolist())\n",
    "print(pred_list[0])"
   ]
  },
  {
   "cell_type": "code",
   "execution_count": null,
   "id": "4bcb9a6b",
   "metadata": {},
   "outputs": [],
   "source": [
    "map_k = get_map_k(test_my_songs, pred_list, 10)\n",
    "print(\"MAP@K (K=10): {:.3f}\".format(map_k))\n",
    "\n",
    "ndcg = ndcg_at_k(test_my_songs, pred_list, 10)\n",
    "print(\"nDCG: {:.3f}\".format(ndcg))"
   ]
  },
  {
   "cell_type": "markdown",
   "id": "9a1437a5",
   "metadata": {},
   "source": [
    "# 장르 불균형 데이터 처리\n",
    "\n",
    "- cv\n",
    "- recommend"
   ]
  },
  {
   "cell_type": "code",
   "execution_count": null,
   "id": "8de08630",
   "metadata": {},
   "outputs": [],
   "source": [
    "pred_list = []\n",
    "for plist, tags in zip(test_my_songs, test_my_tags):\n",
    "    recommended = song_recommend(tags, plist, song_tag_appended, 'cos', False, True, False, 'cv')\n",
    "    pred_list.append(recommended['song_id'].tolist())\n",
    "print(pred_list[0])"
   ]
  },
  {
   "cell_type": "code",
   "execution_count": null,
   "id": "7a607eb2",
   "metadata": {},
   "outputs": [],
   "source": [
    "map_k = get_map_k(test_my_songs, pred_list, 10)\n",
    "print(\"MAP@K (K=10): {:.3f}\".format(map_k))\n",
    "\n",
    "ndcg = ndcg_at_k(test_my_songs, pred_list, 10)\n",
    "print(\"nDCG: {:.3f}\".format(ndcg))"
   ]
  },
  {
   "cell_type": "code",
   "execution_count": null,
   "id": "883a2572",
   "metadata": {},
   "outputs": [],
   "source": [
    "pred_list = []\n",
    "for plist, tags in zip(test_my_songs, test_my_tags):\n",
    "    recommended = song_recommend(tags, plist, song_tag_appended, 'cos', False, True, True, 'cv')\n",
    "    pred_list.append(recommended['song_id'].tolist())\n",
    "print(pred_list[0])"
   ]
  },
  {
   "cell_type": "code",
   "execution_count": null,
   "id": "85822e50",
   "metadata": {},
   "outputs": [],
   "source": [
    "map_k = get_map_k(test_my_songs, pred_list, 10)\n",
    "print(\"MAP@K (K=10): {:.3f}\".format(map_k))\n",
    "\n",
    "ndcg = ndcg_at_k(test_my_songs, pred_list, 10)\n",
    "print(\"nDCG: {:.3f}\".format(ndcg))"
   ]
  },
  {
   "cell_type": "code",
   "execution_count": null,
   "id": "5a69f8c5",
   "metadata": {},
   "outputs": [],
   "source": [
    "pred_list = []\n",
    "for plist, tags in zip(test_my_songs, test_my_tags):\n",
    "    recommended = song_recommend(tags, plist, song_tag_appended, 'jac', False, True, False, 'cv')\n",
    "    pred_list.append(recommended['song_id'].tolist())\n",
    "print(pred_list[0])"
   ]
  },
  {
   "cell_type": "code",
   "execution_count": null,
   "id": "66c262b2",
   "metadata": {},
   "outputs": [],
   "source": [
    "map_k = get_map_k(test_my_songs, pred_list, 10)\n",
    "print(\"MAP@K (K=10): {:.3f}\".format(map_k))\n",
    "\n",
    "ndcg = ndcg_at_k(test_my_songs, pred_list, 10)\n",
    "print(\"nDCG: {:.3f}\".format(ndcg))"
   ]
  },
  {
   "cell_type": "code",
   "execution_count": null,
   "id": "44f12bcc",
   "metadata": {},
   "outputs": [],
   "source": [
    "pred_list = []\n",
    "for plist, tags in zip(test_my_songs, test_my_tags):\n",
    "    recommended = song_recommend(tags, plist, song_tag_appended, 'jac', False, True, True, 'cv')\n",
    "    pred_list.append(recommended['song_id'].tolist())\n",
    "print(pred_list[0])"
   ]
  },
  {
   "cell_type": "code",
   "execution_count": null,
   "id": "2d4e79a7",
   "metadata": {},
   "outputs": [],
   "source": [
    "map_k = get_map_k(test_my_songs, pred_list, 10)\n",
    "print(\"MAP@K (K=10): {:.3f}\".format(map_k))\n",
    "\n",
    "ndcg = ndcg_at_k(test_my_songs, pred_list, 10)\n",
    "print(\"nDCG: {:.3f}\".format(ndcg))"
   ]
  },
  {
   "cell_type": "code",
   "execution_count": null,
   "id": "f58232f5",
   "metadata": {},
   "outputs": [],
   "source": [
    "pred_list = []\n",
    "for plist, tags in zip(test_my_songs, test_my_tags):\n",
    "    recommended = song_recommend(tags, plist, song_tag_appended, 'pea', False, True, False, 'cv')\n",
    "    pred_list.append(recommended['song_id'].tolist())\n",
    "print(pred_list[0])"
   ]
  },
  {
   "cell_type": "code",
   "execution_count": null,
   "id": "600d1abf",
   "metadata": {},
   "outputs": [],
   "source": [
    "map_k = get_map_k(test_my_songs, pred_list, 10)\n",
    "print(\"MAP@K (K=10): {:.3f}\".format(map_k))\n",
    "\n",
    "ndcg = ndcg_at_k(test_my_songs, pred_list, 10)\n",
    "print(\"nDCG: {:.3f}\".format(ndcg))"
   ]
  },
  {
   "cell_type": "code",
   "execution_count": null,
   "id": "ac873e75",
   "metadata": {},
   "outputs": [],
   "source": [
    "pred_list = []\n",
    "for plist, tags in zip(test_my_songs, test_my_tags):\n",
    "    recommended = song_recommend(tags, plist, song_tag_appended, 'pea', False, True, True, 'cv')\n",
    "    pred_list.append(recommended['song_id'].tolist())\n",
    "print(pred_list[0])"
   ]
  },
  {
   "cell_type": "code",
   "execution_count": null,
   "id": "ff116080",
   "metadata": {},
   "outputs": [],
   "source": [
    "map_k = get_map_k(test_my_songs, pred_list, 10)\n",
    "print(\"MAP@K (K=10): {:.3f}\".format(map_k))\n",
    "\n",
    "ndcg = ndcg_at_k(test_my_songs, pred_list, 10)\n",
    "print(\"nDCG: {:.3f}\".format(ndcg))"
   ]
  },
  {
   "cell_type": "markdown",
   "id": "50a3df0c",
   "metadata": {},
   "source": [
    "# 태그, 장르 불균형 데이터 처리\n",
    "\n",
    "- cv\n",
    "- recommend"
   ]
  },
  {
   "cell_type": "code",
   "execution_count": null,
   "id": "d10f79a5",
   "metadata": {},
   "outputs": [],
   "source": [
    "pred_list = []\n",
    "for plist, tags in zip(test_my_songs, test_my_tags):\n",
    "    recommended = song_recommend(tags, plist, song_tag_appended, 'cos', True, True, False, 'cv')\n",
    "    pred_list.append(recommended['song_id'].tolist())\n",
    "print(pred_list[0])"
   ]
  },
  {
   "cell_type": "code",
   "execution_count": null,
   "id": "08577d60",
   "metadata": {},
   "outputs": [],
   "source": [
    "map_k = get_map_k(test_my_songs, pred_list, 10)\n",
    "print(\"MAP@K (K=10): {:.3f}\".format(map_k))\n",
    "\n",
    "ndcg = ndcg_at_k(test_my_songs, pred_list, 10)\n",
    "print(\"nDCG: {:.3f}\".format(ndcg))"
   ]
  },
  {
   "cell_type": "code",
   "execution_count": null,
   "id": "c7d20279",
   "metadata": {},
   "outputs": [],
   "source": [
    "pred_list = []\n",
    "for plist, tags in zip(test_my_songs, test_my_tags):\n",
    "    recommended = song_recommend(tags, plist, song_tag_appended, 'cos', True, True, True, 'cv')\n",
    "    pred_list.append(recommended['song_id'].tolist())\n",
    "print(pred_list[0])"
   ]
  },
  {
   "cell_type": "code",
   "execution_count": null,
   "id": "84328382",
   "metadata": {},
   "outputs": [],
   "source": [
    "map_k = get_map_k(test_my_songs, pred_list, 10)\n",
    "print(\"MAP@K (K=10): {:.3f}\".format(map_k))\n",
    "\n",
    "ndcg = ndcg_at_k(test_my_songs, pred_list, 10)\n",
    "print(\"nDCG: {:.3f}\".format(ndcg))"
   ]
  },
  {
   "cell_type": "code",
   "execution_count": null,
   "id": "7702e812",
   "metadata": {},
   "outputs": [],
   "source": [
    "pred_list = []\n",
    "for plist, tags in zip(test_my_songs, test_my_tags):\n",
    "    recommended = song_recommend(tags, plist, song_tag_appended, 'jac', True, True, False, 'cv')\n",
    "    pred_list.append(recommended['song_id'].tolist())\n",
    "print(pred_list[0])"
   ]
  },
  {
   "cell_type": "code",
   "execution_count": null,
   "id": "f636da1a",
   "metadata": {},
   "outputs": [],
   "source": [
    "map_k = get_map_k(test_my_songs, pred_list, 10)\n",
    "print(\"MAP@K (K=10): {:.3f}\".format(map_k))\n",
    "\n",
    "ndcg = ndcg_at_k(test_my_songs, pred_list, 10)\n",
    "print(\"nDCG: {:.3f}\".format(ndcg))"
   ]
  },
  {
   "cell_type": "code",
   "execution_count": null,
   "id": "a213bb50",
   "metadata": {},
   "outputs": [],
   "source": [
    "pred_list = []\n",
    "for plist, tags in zip(test_my_songs, test_my_tags):\n",
    "    recommended = song_recommend(tags, plist, song_tag_appended, 'jac', True, True, True, 'cv')\n",
    "    pred_list.append(recommended['song_id'].tolist())\n",
    "print(pred_list[0])"
   ]
  },
  {
   "cell_type": "code",
   "execution_count": null,
   "id": "53153569",
   "metadata": {},
   "outputs": [],
   "source": [
    "map_k = get_map_k(test_my_songs, pred_list, 10)\n",
    "print(\"MAP@K (K=10): {:.3f}\".format(map_k))\n",
    "\n",
    "ndcg = ndcg_at_k(test_my_songs, pred_list, 10)\n",
    "print(\"nDCG: {:.3f}\".format(ndcg))"
   ]
  },
  {
   "cell_type": "code",
   "execution_count": null,
   "id": "5c1755bd",
   "metadata": {},
   "outputs": [],
   "source": [
    "pred_list = []\n",
    "for plist, tags in zip(test_my_songs, test_my_tags):\n",
    "    recommended = song_recommend(tags, plist, song_tag_appended, 'pea', True, True, False, 'cv')\n",
    "    pred_list.append(recommended['song_id'].tolist())\n",
    "print(pred_list[0])"
   ]
  },
  {
   "cell_type": "code",
   "execution_count": null,
   "id": "f9e210a4",
   "metadata": {},
   "outputs": [],
   "source": [
    "map_k = get_map_k(test_my_songs, pred_list, 10)\n",
    "print(\"MAP@K (K=10): {:.3f}\".format(map_k))\n",
    "\n",
    "ndcg = ndcg_at_k(test_my_songs, pred_list, 10)\n",
    "print(\"nDCG: {:.3f}\".format(ndcg))"
   ]
  },
  {
   "cell_type": "code",
   "execution_count": null,
   "id": "abc4061c",
   "metadata": {},
   "outputs": [],
   "source": [
    "pred_list = []\n",
    "for plist, tags in zip(test_my_songs, test_my_tags):\n",
    "    recommended = song_recommend(tags, plist, song_tag_appended, 'pea', True, True, True, 'cv')\n",
    "    pred_list.append(recommended['song_id'].tolist())\n",
    "print(pred_list[0])"
   ]
  },
  {
   "cell_type": "code",
   "execution_count": null,
   "id": "202536a7",
   "metadata": {},
   "outputs": [],
   "source": [
    "map_k = get_map_k(test_my_songs, pred_list, 10)\n",
    "print(\"MAP@K (K=10): {:.3f}\".format(map_k))\n",
    "\n",
    "ndcg = ndcg_at_k(test_my_songs, pred_list, 10)\n",
    "print(\"nDCG: {:.3f}\".format(ndcg))"
   ]
  },
  {
   "cell_type": "markdown",
   "id": "35a89206",
   "metadata": {},
   "source": [
    "# 태그, 장르 불균형 데이터 처리 X\n",
    "\n",
    "- tf-idf\n",
    "- recommend"
   ]
  },
  {
   "cell_type": "code",
   "execution_count": null,
   "id": "b40e1bc3",
   "metadata": {},
   "outputs": [],
   "source": [
    "pred_list = []\n",
    "for plist, tags in zip(test_my_songs, test_my_tags):\n",
    "    recommended = song_recommend(tags, plist, song_tag_appended, 'cos', False, False, False, 'tf')\n",
    "    pred_list.append(recommended['song_id'].tolist())\n",
    "print(pred_list[0])"
   ]
  },
  {
   "cell_type": "code",
   "execution_count": null,
   "id": "9edbb532",
   "metadata": {},
   "outputs": [],
   "source": [
    "map_k = get_map_k(test_my_songs, pred_list, 10)\n",
    "print(\"MAP@K (K=10): {:.3f}\".format(map_k))\n",
    "\n",
    "ndcg = ndcg_at_k(test_my_songs, pred_list, 10)\n",
    "print(\"nDCG: {:.3f}\".format(ndcg))"
   ]
  },
  {
   "cell_type": "code",
   "execution_count": null,
   "id": "a6552747",
   "metadata": {},
   "outputs": [],
   "source": [
    "pred_list = []\n",
    "for plist, tags in zip(test_my_songs, test_my_tags):\n",
    "    recommended = song_recommend(tags, plist, song_tag_appended, 'cos', False, False, True, 'tf')\n",
    "    pred_list.append(recommended['song_id'].tolist())\n",
    "print(pred_list[0])"
   ]
  },
  {
   "cell_type": "code",
   "execution_count": null,
   "id": "128b9c5d",
   "metadata": {},
   "outputs": [],
   "source": [
    "map_k = get_map_k(test_my_songs, pred_list, 10)\n",
    "print(\"MAP@K (K=10): {:.3f}\".format(map_k))\n",
    "\n",
    "ndcg = ndcg_at_k(test_my_songs, pred_list, 10)\n",
    "print(\"nDCG: {:.3f}\".format(ndcg))"
   ]
  },
  {
   "cell_type": "code",
   "execution_count": null,
   "id": "2b027d95",
   "metadata": {},
   "outputs": [],
   "source": [
    "pred_list = []\n",
    "for plist, tags in zip(test_my_songs, test_my_tags):\n",
    "    recommended = song_recommend(tags, plist, song_tag_appended, 'jac', False, False, False, 'tf')\n",
    "    pred_list.append(recommended['song_id'].tolist())\n",
    "print(pred_list[0])"
   ]
  },
  {
   "cell_type": "code",
   "execution_count": null,
   "id": "a01d6745",
   "metadata": {},
   "outputs": [],
   "source": [
    "map_k = get_map_k(test_my_songs, pred_list, 10)\n",
    "print(\"MAP@K (K=10): {:.3f}\".format(map_k))\n",
    "\n",
    "ndcg = ndcg_at_k(test_my_songs, pred_list, 10)\n",
    "print(\"nDCG: {:.3f}\".format(ndcg))"
   ]
  },
  {
   "cell_type": "code",
   "execution_count": null,
   "id": "4eec4f48",
   "metadata": {},
   "outputs": [],
   "source": [
    "pred_list = []\n",
    "for plist, tags in zip(test_my_songs, test_my_tags):\n",
    "    recommended = song_recommend(tags, plist, song_tag_appended, 'jac', False, False, True, 'tf')\n",
    "    pred_list.append(recommended['song_id'].tolist())\n",
    "print(pred_list[0])"
   ]
  },
  {
   "cell_type": "code",
   "execution_count": null,
   "id": "2e0768cb",
   "metadata": {},
   "outputs": [],
   "source": [
    "map_k = get_map_k(test_my_songs, pred_list, 10)\n",
    "print(\"MAP@K (K=10): {:.3f}\".format(map_k))\n",
    "\n",
    "ndcg = ndcg_at_k(test_my_songs, pred_list, 10)\n",
    "print(\"nDCG: {:.3f}\".format(ndcg))"
   ]
  },
  {
   "cell_type": "code",
   "execution_count": null,
   "id": "938a9c40",
   "metadata": {},
   "outputs": [],
   "source": [
    "pred_list = []\n",
    "for plist, tags in zip(test_my_songs, test_my_tags):\n",
    "    recommended = song_recommend(tags, plist, song_tag_appended, 'pea', False, False, False, 'tf')\n",
    "    pred_list.append(recommended['song_id'].tolist())\n",
    "print(pred_list[0])"
   ]
  },
  {
   "cell_type": "code",
   "execution_count": null,
   "id": "dc70ef99",
   "metadata": {},
   "outputs": [],
   "source": [
    "map_k = get_map_k(test_my_songs, pred_list, 10)\n",
    "print(\"MAP@K (K=10): {:.3f}\".format(map_k))\n",
    "\n",
    "ndcg = ndcg_at_k(test_my_songs, pred_list, 10)\n",
    "print(\"nDCG: {:.3f}\".format(ndcg))"
   ]
  },
  {
   "cell_type": "code",
   "execution_count": null,
   "id": "eedfc6d3",
   "metadata": {},
   "outputs": [],
   "source": [
    "pred_list = []\n",
    "for plist, tags in zip(test_my_songs, test_my_tags):\n",
    "    recommended = song_recommend(tags, plist, song_tag_appended, 'pea', False, False, True, 'tf')\n",
    "    pred_list.append(recommended['song_id'].tolist())\n",
    "print(pred_list[0])"
   ]
  },
  {
   "cell_type": "code",
   "execution_count": null,
   "id": "1caddeaa",
   "metadata": {},
   "outputs": [],
   "source": [
    "map_k = get_map_k(test_my_songs, pred_list, 10)\n",
    "print(\"MAP@K (K=10): {:.3f}\".format(map_k))\n",
    "\n",
    "ndcg = ndcg_at_k(test_my_songs, pred_list, 10)\n",
    "print(\"nDCG: {:.3f}\".format(ndcg))"
   ]
  },
  {
   "cell_type": "markdown",
   "id": "0670fe4c",
   "metadata": {},
   "source": [
    "# 태그 불균형 데이터 처리\n",
    "\n",
    "- tf-idf\n",
    "- recommend"
   ]
  },
  {
   "cell_type": "code",
   "execution_count": null,
   "id": "2a175986",
   "metadata": {},
   "outputs": [],
   "source": [
    "pred_list = []\n",
    "for plist, tags in zip(test_my_songs, test_my_tags):\n",
    "    recommended = song_recommend(tags, plist, song_tag_appended, 'cos', True, False, False, 'tf')\n",
    "    pred_list.append(recommended['song_id'].tolist())\n",
    "print(pred_list[0])"
   ]
  },
  {
   "cell_type": "code",
   "execution_count": null,
   "id": "9c049777",
   "metadata": {},
   "outputs": [],
   "source": [
    "map_k = get_map_k(test_my_songs, pred_list, 10)\n",
    "print(\"MAP@K (K=10): {:.3f}\".format(map_k))\n",
    "\n",
    "ndcg = ndcg_at_k(test_my_songs, pred_list, 10)\n",
    "print(\"nDCG: {:.3f}\".format(ndcg))"
   ]
  },
  {
   "cell_type": "code",
   "execution_count": null,
   "id": "1683af71",
   "metadata": {},
   "outputs": [],
   "source": [
    "pred_list = []\n",
    "for plist, tags in zip(test_my_songs, test_my_tags):\n",
    "    recommended = song_recommend(tags, plist, song_tag_appended, 'cos', True, False, True, 'tf')\n",
    "    pred_list.append(recommended['song_id'].tolist())\n",
    "print(pred_list[0])"
   ]
  },
  {
   "cell_type": "code",
   "execution_count": null,
   "id": "af46fdfe",
   "metadata": {},
   "outputs": [],
   "source": [
    "map_k = get_map_k(test_my_songs, pred_list, 10)\n",
    "print(\"MAP@K (K=10): {:.3f}\".format(map_k))\n",
    "\n",
    "ndcg = ndcg_at_k(test_my_songs, pred_list, 10)\n",
    "print(\"nDCG: {:.3f}\".format(ndcg))"
   ]
  },
  {
   "cell_type": "code",
   "execution_count": null,
   "id": "fda5ef82",
   "metadata": {},
   "outputs": [],
   "source": [
    "pred_list = []\n",
    "for plist, tags in zip(test_my_songs, test_my_tags):\n",
    "    recommended = song_recommend(tags, plist, song_tag_appended, 'jac', True, False, False, 'tf')\n",
    "    pred_list.append(recommended['song_id'].tolist())\n",
    "print(pred_list[0])"
   ]
  },
  {
   "cell_type": "code",
   "execution_count": null,
   "id": "d5e7a0b5",
   "metadata": {},
   "outputs": [],
   "source": [
    "map_k = get_map_k(test_my_songs, pred_list, 10)\n",
    "print(\"MAP@K (K=10): {:.3f}\".format(map_k))\n",
    "\n",
    "ndcg = ndcg_at_k(test_my_songs, pred_list, 10)\n",
    "print(\"nDCG: {:.3f}\".format(ndcg))"
   ]
  },
  {
   "cell_type": "code",
   "execution_count": null,
   "id": "a8acf9db",
   "metadata": {},
   "outputs": [],
   "source": [
    "pred_list = []\n",
    "for plist, tags in zip(test_my_songs, test_my_tags):\n",
    "    recommended = song_recommend(tags, plist, song_tag_appended, 'jac', True, False, True, 'tf')\n",
    "    pred_list.append(recommended['song_id'].tolist())\n",
    "print(pred_list[0])"
   ]
  },
  {
   "cell_type": "code",
   "execution_count": null,
   "id": "31d0c08b",
   "metadata": {},
   "outputs": [],
   "source": [
    "map_k = get_map_k(test_my_songs, pred_list, 10)\n",
    "print(\"MAP@K (K=10): {:.3f}\".format(map_k))\n",
    "\n",
    "ndcg = ndcg_at_k(test_my_songs, pred_list, 10)\n",
    "print(\"nDCG: {:.3f}\".format(ndcg))"
   ]
  },
  {
   "cell_type": "code",
   "execution_count": null,
   "id": "f3f8104f",
   "metadata": {},
   "outputs": [],
   "source": [
    "pred_list = []\n",
    "for plist, tags in zip(test_my_songs, test_my_tags):\n",
    "    recommended = song_recommend(tags, plist, song_tag_appended, 'pea', True, False, False, 'tf')\n",
    "    pred_list.append(recommended['song_id'].tolist())\n",
    "print(pred_list[0])"
   ]
  },
  {
   "cell_type": "code",
   "execution_count": null,
   "id": "e15d6bc0",
   "metadata": {},
   "outputs": [],
   "source": [
    "map_k = get_map_k(test_my_songs, pred_list, 10)\n",
    "print(\"MAP@K (K=10): {:.3f}\".format(map_k))\n",
    "\n",
    "ndcg = ndcg_at_k(test_my_songs, pred_list, 10)\n",
    "print(\"nDCG: {:.3f}\".format(ndcg))"
   ]
  },
  {
   "cell_type": "code",
   "execution_count": null,
   "id": "594166c3",
   "metadata": {},
   "outputs": [],
   "source": [
    "pred_list = []\n",
    "for plist, tags in zip(test_my_songs, test_my_tags):\n",
    "    recommended = song_recommend(tags, plist, song_tag_appended, 'pea', True, False, True, 'tf')\n",
    "    pred_list.append(recommended['song_id'].tolist())\n",
    "print(pred_list[0])"
   ]
  },
  {
   "cell_type": "code",
   "execution_count": null,
   "id": "3aab51a2",
   "metadata": {},
   "outputs": [],
   "source": [
    "map_k = get_map_k(test_my_songs, pred_list, 10)\n",
    "print(\"MAP@K (K=10): {:.3f}\".format(map_k))\n",
    "\n",
    "ndcg = ndcg_at_k(test_my_songs, pred_list, 10)\n",
    "print(\"nDCG: {:.3f}\".format(ndcg))"
   ]
  },
  {
   "cell_type": "markdown",
   "id": "0d5865f2",
   "metadata": {},
   "source": [
    "# 장르 불균형 데이터 처리\n",
    "\n",
    "- tf-idf\n",
    "- recommend"
   ]
  },
  {
   "cell_type": "code",
   "execution_count": null,
   "id": "557f1be8",
   "metadata": {},
   "outputs": [],
   "source": [
    "pred_list = []\n",
    "for plist, tags in zip(test_my_songs, test_my_tags):\n",
    "    recommended = song_recommend(tags, plist, song_tag_appended, 'cos', False, True, False, 'tf')\n",
    "    pred_list.append(recommended['song_id'].tolist())\n",
    "print(pred_list[0])"
   ]
  },
  {
   "cell_type": "code",
   "execution_count": null,
   "id": "a3e5983a",
   "metadata": {},
   "outputs": [],
   "source": [
    "map_k = get_map_k(test_my_songs, pred_list, 10)\n",
    "print(\"MAP@K (K=10): {:.3f}\".format(map_k))\n",
    "\n",
    "ndcg = ndcg_at_k(test_my_songs, pred_list, 10)\n",
    "print(\"nDCG: {:.3f}\".format(ndcg))"
   ]
  },
  {
   "cell_type": "code",
   "execution_count": null,
   "id": "da213ba2",
   "metadata": {},
   "outputs": [],
   "source": [
    "pred_list = []\n",
    "for plist, tags in zip(test_my_songs, test_my_tags):\n",
    "    recommended = song_recommend(tags, plist, song_tag_appended, 'cos', False, True, True, 'tf')\n",
    "    pred_list.append(recommended['song_id'].tolist())\n",
    "print(pred_list[0])"
   ]
  },
  {
   "cell_type": "code",
   "execution_count": null,
   "id": "d9c6462e",
   "metadata": {},
   "outputs": [],
   "source": [
    "map_k = get_map_k(test_my_songs, pred_list, 10)\n",
    "print(\"MAP@K (K=10): {:.3f}\".format(map_k))\n",
    "\n",
    "ndcg = ndcg_at_k(test_my_songs, pred_list, 10)\n",
    "print(\"nDCG: {:.3f}\".format(ndcg))"
   ]
  },
  {
   "cell_type": "code",
   "execution_count": null,
   "id": "81195aef",
   "metadata": {},
   "outputs": [],
   "source": [
    "pred_list = []\n",
    "for plist, tags in zip(test_my_songs, test_my_tags):\n",
    "    recommended = song_recommend(tags, plist, song_tag_appended, 'jac', False, True, False, 'tf')\n",
    "    pred_list.append(recommended['song_id'].tolist())\n",
    "print(pred_list[0])"
   ]
  },
  {
   "cell_type": "code",
   "execution_count": null,
   "id": "b3b2fa16",
   "metadata": {},
   "outputs": [],
   "source": [
    "map_k = get_map_k(test_my_songs, pred_list, 10)\n",
    "print(\"MAP@K (K=10): {:.3f}\".format(map_k))\n",
    "\n",
    "ndcg = ndcg_at_k(test_my_songs, pred_list, 10)\n",
    "print(\"nDCG: {:.3f}\".format(ndcg))"
   ]
  },
  {
   "cell_type": "code",
   "execution_count": null,
   "id": "7d27e90d",
   "metadata": {},
   "outputs": [],
   "source": [
    "pred_list = []\n",
    "for plist, tags in zip(test_my_songs, test_my_tags):\n",
    "    recommended = song_recommend(tags, plist, song_tag_appended, 'jac', False, True, True, 'tf')\n",
    "    pred_list.append(recommended['song_id'].tolist())\n",
    "print(pred_list[0])"
   ]
  },
  {
   "cell_type": "code",
   "execution_count": null,
   "id": "8534737a",
   "metadata": {},
   "outputs": [],
   "source": [
    "map_k = get_map_k(test_my_songs, pred_list, 10)\n",
    "print(\"MAP@K (K=10): {:.3f}\".format(map_k))\n",
    "\n",
    "ndcg = ndcg_at_k(test_my_songs, pred_list, 10)\n",
    "print(\"nDCG: {:.3f}\".format(ndcg))"
   ]
  },
  {
   "cell_type": "code",
   "execution_count": null,
   "id": "6db64faf",
   "metadata": {},
   "outputs": [],
   "source": [
    "pred_list = []\n",
    "for plist, tags in zip(test_my_songs, test_my_tags):\n",
    "    recommended = song_recommend(tags, plist, song_tag_appended, 'pea', False, True, False, 'tf')\n",
    "    pred_list.append(recommended['song_id'].tolist())\n",
    "print(pred_list[0])"
   ]
  },
  {
   "cell_type": "code",
   "execution_count": null,
   "id": "fd7311a1",
   "metadata": {},
   "outputs": [],
   "source": [
    "map_k = get_map_k(test_my_songs, pred_list, 10)\n",
    "print(\"MAP@K (K=10): {:.3f}\".format(map_k))\n",
    "\n",
    "ndcg = ndcg_at_k(test_my_songs, pred_list, 10)\n",
    "print(\"nDCG: {:.3f}\".format(ndcg))"
   ]
  },
  {
   "cell_type": "code",
   "execution_count": null,
   "id": "41cc556c",
   "metadata": {},
   "outputs": [],
   "source": [
    "pred_list = []\n",
    "for plist, tags in zip(test_my_songs, test_my_tags):\n",
    "    recommended = song_recommend(tags, plist, song_tag_appended, 'pea', False, True, True, 'tf')\n",
    "    pred_list.append(recommended['song_id'].tolist())\n",
    "print(pred_list[0])"
   ]
  },
  {
   "cell_type": "code",
   "execution_count": null,
   "id": "7d065d1c",
   "metadata": {},
   "outputs": [],
   "source": [
    "map_k = get_map_k(test_my_songs, pred_list, 10)\n",
    "print(\"MAP@K (K=10): {:.3f}\".format(map_k))\n",
    "\n",
    "ndcg = ndcg_at_k(test_my_songs, pred_list, 10)\n",
    "print(\"nDCG: {:.3f}\".format(ndcg))"
   ]
  },
  {
   "cell_type": "markdown",
   "id": "6217cdce",
   "metadata": {},
   "source": [
    "# 태그, 장르 불균형 데이터 처리\n",
    "\n",
    "- tf-idf\n",
    "- recommend"
   ]
  },
  {
   "cell_type": "code",
   "execution_count": null,
   "id": "d7547f0d",
   "metadata": {},
   "outputs": [],
   "source": [
    "pred_list = []\n",
    "for plist, tags in zip(test_my_songs, test_my_tags):\n",
    "    recommended = song_recommend(tags, plist, song_tag_appended, 'cos', True, True, False, 'tf')\n",
    "    pred_list.append(recommended['song_id'].tolist())\n",
    "print(pred_list[0])"
   ]
  },
  {
   "cell_type": "code",
   "execution_count": null,
   "id": "ec47b506",
   "metadata": {},
   "outputs": [],
   "source": [
    "map_k = get_map_k(test_my_songs, pred_list, 10)\n",
    "print(\"MAP@K (K=10): {:.3f}\".format(map_k))\n",
    "\n",
    "ndcg = ndcg_at_k(test_my_songs, pred_list, 10)\n",
    "print(\"nDCG: {:.3f}\".format(ndcg))"
   ]
  },
  {
   "cell_type": "code",
   "execution_count": null,
   "id": "fd8cbbb0",
   "metadata": {},
   "outputs": [],
   "source": [
    "pred_list = []\n",
    "for plist, tags in zip(test_my_songs, test_my_tags):\n",
    "    recommended = song_recommend(tags, plist, song_tag_appended, 'cos', True, True, True, 'tf')\n",
    "    pred_list.append(recommended['song_id'].tolist())\n",
    "print(pred_list[0])"
   ]
  },
  {
   "cell_type": "code",
   "execution_count": null,
   "id": "88b94730",
   "metadata": {},
   "outputs": [],
   "source": [
    "map_k = get_map_k(test_my_songs, pred_list, 10)\n",
    "print(\"MAP@K (K=10): {:.3f}\".format(map_k))\n",
    "\n",
    "ndcg = ndcg_at_k(test_my_songs, pred_list, 10)\n",
    "print(\"nDCG: {:.3f}\".format(ndcg))"
   ]
  },
  {
   "cell_type": "code",
   "execution_count": null,
   "id": "6c88b227",
   "metadata": {},
   "outputs": [],
   "source": [
    "pred_list = []\n",
    "for plist, tags in zip(test_my_songs, test_my_tags):\n",
    "    recommended = song_recommend(tags, plist, song_tag_appended, 'jac', True, True, False, 'tf')\n",
    "    pred_list.append(recommended['song_id'].tolist())\n",
    "print(pred_list[0])"
   ]
  },
  {
   "cell_type": "code",
   "execution_count": null,
   "id": "f4411fda",
   "metadata": {},
   "outputs": [],
   "source": [
    "map_k = get_map_k(test_my_songs, pred_list, 10)\n",
    "print(\"MAP@K (K=10): {:.3f}\".format(map_k))\n",
    "\n",
    "ndcg = ndcg_at_k(test_my_songs, pred_list, 10)\n",
    "print(\"nDCG: {:.3f}\".format(ndcg))"
   ]
  },
  {
   "cell_type": "code",
   "execution_count": null,
   "id": "414c59a3",
   "metadata": {},
   "outputs": [],
   "source": [
    "pred_list = []\n",
    "for plist, tags in zip(test_my_songs, test_my_tags):\n",
    "    recommended = song_recommend(tags, plist, song_tag_appended, 'jac', True, True, True, 'tf')\n",
    "    pred_list.append(recommended['song_id'].tolist())\n",
    "print(pred_list[0])"
   ]
  },
  {
   "cell_type": "code",
   "execution_count": null,
   "id": "dbf9896b",
   "metadata": {},
   "outputs": [],
   "source": [
    "map_k = get_map_k(test_my_songs, pred_list, 10)\n",
    "print(\"MAP@K (K=10): {:.3f}\".format(map_k))\n",
    "\n",
    "ndcg = ndcg_at_k(test_my_songs, pred_list, 10)\n",
    "print(\"nDCG: {:.3f}\".format(ndcg))"
   ]
  },
  {
   "cell_type": "code",
   "execution_count": null,
   "id": "f07a31a7",
   "metadata": {},
   "outputs": [],
   "source": [
    "pred_list = []\n",
    "for plist, tags in zip(test_my_songs, test_my_tags):\n",
    "    recommended = song_recommend(tags, plist, song_tag_appended, 'pea', True, True, False, 'tf')\n",
    "    pred_list.append(recommended['song_id'].tolist())\n",
    "print(pred_list[0])"
   ]
  },
  {
   "cell_type": "code",
   "execution_count": null,
   "id": "60f35a81",
   "metadata": {},
   "outputs": [],
   "source": [
    "map_k = get_map_k(test_my_songs, pred_list, 10)\n",
    "print(\"MAP@K (K=10): {:.3f}\".format(map_k))\n",
    "\n",
    "ndcg = ndcg_at_k(test_my_songs, pred_list, 10)\n",
    "print(\"nDCG: {:.3f}\".format(ndcg))"
   ]
  },
  {
   "cell_type": "code",
   "execution_count": null,
   "id": "ecdf3c38",
   "metadata": {},
   "outputs": [],
   "source": [
    "pred_list = []\n",
    "for plist, tags in zip(test_my_songs, test_my_tags):\n",
    "    recommended = song_recommend(tags, plist, song_tag_appended, 'pea', True, True, True, 'tf')\n",
    "    pred_list.append(recommended['song_id'].tolist())\n",
    "print(pred_list[0])"
   ]
  },
  {
   "cell_type": "code",
   "execution_count": null,
   "id": "bceaf6fe",
   "metadata": {},
   "outputs": [],
   "source": [
    "map_k = get_map_k(test_my_songs, pred_list, 10)\n",
    "print(\"MAP@K (K=10): {:.3f}\".format(map_k))\n",
    "\n",
    "ndcg = ndcg_at_k(test_my_songs, pred_list, 10)\n",
    "print(\"nDCG: {:.3f}\".format(ndcg))"
   ]
  },
  {
   "cell_type": "markdown",
   "id": "f75ecb3d",
   "metadata": {},
   "source": [
    "# 태그, 장르 불균형 데이터 처리 X\n",
    "\n",
    "- cv\n",
    "- recommend2"
   ]
  },
  {
   "cell_type": "code",
   "execution_count": null,
   "id": "80c5bfa6",
   "metadata": {},
   "outputs": [],
   "source": [
    "pred_list = []\n",
    "for plist, tags in zip(test_my_songs, test_my_tags):\n",
    "    recommended = song_recommend2(tags, plist, song_tag_appended, 'cos', False, False, False, 'cv')\n",
    "    pred_list.append(recommended['song_id'].tolist())\n",
    "print(pred_list[0])"
   ]
  },
  {
   "cell_type": "code",
   "execution_count": null,
   "id": "d969dbaf",
   "metadata": {},
   "outputs": [],
   "source": [
    "map_k = get_map_k(test_my_songs, pred_list, 10)\n",
    "print(\"MAP@K (K=10): {:.3f}\".format(map_k))\n",
    "\n",
    "ndcg = ndcg_at_k(test_my_songs, pred_list, 10)\n",
    "print(\"nDCG: {:.3f}\".format(ndcg))"
   ]
  },
  {
   "cell_type": "code",
   "execution_count": null,
   "id": "a71657cc",
   "metadata": {},
   "outputs": [],
   "source": [
    "pred_list = []\n",
    "for plist, tags in zip(test_my_songs, test_my_tags):\n",
    "    recommended = song_recommend2(tags, plist, song_tag_appended, 'cos', False, False, True, 'cv')\n",
    "    pred_list.append(recommended['song_id'].tolist())\n",
    "print(pred_list[0])"
   ]
  },
  {
   "cell_type": "code",
   "execution_count": null,
   "id": "645dbbf6",
   "metadata": {},
   "outputs": [],
   "source": [
    "map_k = get_map_k(test_my_songs, pred_list, 10)\n",
    "print(\"MAP@K (K=10): {:.3f}\".format(map_k))\n",
    "\n",
    "ndcg = ndcg_at_k(test_my_songs, pred_list, 10)\n",
    "print(\"nDCG: {:.3f}\".format(ndcg))"
   ]
  },
  {
   "cell_type": "code",
   "execution_count": null,
   "id": "0ed35b41",
   "metadata": {},
   "outputs": [],
   "source": [
    "pred_list = []\n",
    "for plist, tags in zip(test_my_songs, test_my_tags):\n",
    "    recommended = song_recommend2(tags, plist, song_tag_appended, 'jac', False, False, False, 'cv')\n",
    "    pred_list.append(recommended['song_id'].tolist())\n",
    "print(pred_list[0])"
   ]
  },
  {
   "cell_type": "code",
   "execution_count": null,
   "id": "1a8cdaef",
   "metadata": {},
   "outputs": [],
   "source": [
    "map_k = get_map_k(test_my_songs, pred_list, 10)\n",
    "print(\"MAP@K (K=10): {:.3f}\".format(map_k))\n",
    "\n",
    "ndcg = ndcg_at_k(test_my_songs, pred_list, 10)\n",
    "print(\"nDCG: {:.3f}\".format(ndcg))"
   ]
  },
  {
   "cell_type": "code",
   "execution_count": null,
   "id": "5353d923",
   "metadata": {},
   "outputs": [],
   "source": [
    "pred_list = []\n",
    "for plist, tags in zip(test_my_songs, test_my_tags):\n",
    "    recommended = song_recommend2(tags, plist, song_tag_appended, 'jac', False, False, True, 'cv')\n",
    "    pred_list.append(recommended['song_id'].tolist())\n",
    "print(pred_list[0])"
   ]
  },
  {
   "cell_type": "code",
   "execution_count": null,
   "id": "450efb03",
   "metadata": {},
   "outputs": [],
   "source": [
    "map_k = get_map_k(test_my_songs, pred_list, 10)\n",
    "print(\"MAP@K (K=10): {:.3f}\".format(map_k))\n",
    "\n",
    "ndcg = ndcg_at_k(test_my_songs, pred_list, 10)\n",
    "print(\"nDCG: {:.3f}\".format(ndcg))"
   ]
  },
  {
   "cell_type": "code",
   "execution_count": null,
   "id": "efb4e9d1",
   "metadata": {},
   "outputs": [],
   "source": [
    "pred_list = []\n",
    "for plist, tags in zip(test_my_songs, test_my_tags):\n",
    "    recommended = song_recommend2(tags, plist, song_tag_appended, 'pea', False, False, False, 'cv')\n",
    "    pred_list.append(recommended['song_id'].tolist())\n",
    "print(pred_list[0])"
   ]
  },
  {
   "cell_type": "code",
   "execution_count": null,
   "id": "6d1e41c4",
   "metadata": {},
   "outputs": [],
   "source": [
    "map_k = get_map_k(test_my_songs, pred_list, 10)\n",
    "print(\"MAP@K (K=10): {:.3f}\".format(map_k))\n",
    "\n",
    "ndcg = ndcg_at_k(test_my_songs, pred_list, 10)\n",
    "print(\"nDCG: {:.3f}\".format(ndcg))"
   ]
  },
  {
   "cell_type": "code",
   "execution_count": null,
   "id": "6c5bc05f",
   "metadata": {},
   "outputs": [],
   "source": [
    "pred_list = []\n",
    "for plist, tags in zip(test_my_songs, test_my_tags):\n",
    "    recommended = song_recommend2(tags, plist, song_tag_appended, 'pea', False, False, True, 'cv')\n",
    "    pred_list.append(recommended['song_id'].tolist())\n",
    "print(pred_list[0])"
   ]
  },
  {
   "cell_type": "code",
   "execution_count": null,
   "id": "4168bf15",
   "metadata": {},
   "outputs": [],
   "source": [
    "map_k = get_map_k(test_my_songs, pred_list, 10)\n",
    "print(\"MAP@K (K=10): {:.3f}\".format(map_k))\n",
    "\n",
    "ndcg = ndcg_at_k(test_my_songs, pred_list, 10)\n",
    "print(\"nDCG: {:.3f}\".format(ndcg))"
   ]
  },
  {
   "cell_type": "markdown",
   "id": "10b2c777",
   "metadata": {},
   "source": [
    "# 태그 불균형 데이터 처리\n",
    "\n",
    "- cv\n",
    "- recommend2"
   ]
  },
  {
   "cell_type": "code",
   "execution_count": null,
   "id": "90f9a066",
   "metadata": {},
   "outputs": [],
   "source": [
    "pred_list = []\n",
    "for plist, tags in zip(test_my_songs, test_my_tags):\n",
    "    recommended = song_recommend2(tags, plist, song_tag_appended, 'cos', True, False, False, 'cv')\n",
    "    pred_list.append(recommended['song_id'].tolist())\n",
    "print(pred_list[0])"
   ]
  },
  {
   "cell_type": "code",
   "execution_count": null,
   "id": "307e5972",
   "metadata": {},
   "outputs": [],
   "source": [
    "map_k = get_map_k(test_my_songs, pred_list, 10)\n",
    "print(\"MAP@K (K=10): {:.3f}\".format(map_k))\n",
    "\n",
    "ndcg = ndcg_at_k(test_my_songs, pred_list, 10)\n",
    "print(\"nDCG: {:.3f}\".format(ndcg))"
   ]
  },
  {
   "cell_type": "code",
   "execution_count": null,
   "id": "65769aa5",
   "metadata": {},
   "outputs": [],
   "source": [
    "pred_list = []\n",
    "for plist, tags in zip(test_my_songs, test_my_tags):\n",
    "    recommended = song_recommend2(tags, plist, song_tag_appended, 'cos', True, False, True, 'cv')\n",
    "    pred_list.append(recommended['song_id'].tolist())\n",
    "print(pred_list[0])"
   ]
  },
  {
   "cell_type": "code",
   "execution_count": null,
   "id": "3d122e74",
   "metadata": {},
   "outputs": [],
   "source": [
    "map_k = get_map_k(test_my_songs, pred_list, 10)\n",
    "print(\"MAP@K (K=10): {:.3f}\".format(map_k))\n",
    "\n",
    "ndcg = ndcg_at_k(test_my_songs, pred_list, 10)\n",
    "print(\"nDCG: {:.3f}\".format(ndcg))"
   ]
  },
  {
   "cell_type": "code",
   "execution_count": null,
   "id": "5897e3d3",
   "metadata": {},
   "outputs": [],
   "source": [
    "pred_list = []\n",
    "for plist, tags in zip(test_my_songs, test_my_tags):\n",
    "    recommended = song_recommend2(tags, plist, song_tag_appended, 'jac', True, False, False, 'cv')\n",
    "    pred_list.append(recommended['song_id'].tolist())\n",
    "print(pred_list[0])"
   ]
  },
  {
   "cell_type": "code",
   "execution_count": null,
   "id": "d151587a",
   "metadata": {},
   "outputs": [],
   "source": [
    "map_k = get_map_k(test_my_songs, pred_list, 10)\n",
    "print(\"MAP@K (K=10): {:.3f}\".format(map_k))\n",
    "\n",
    "ndcg = ndcg_at_k(test_my_songs, pred_list, 10)\n",
    "print(\"nDCG: {:.3f}\".format(ndcg))"
   ]
  },
  {
   "cell_type": "code",
   "execution_count": null,
   "id": "64c6c109",
   "metadata": {},
   "outputs": [],
   "source": [
    "pred_list = []\n",
    "for plist, tags in zip(test_my_songs, test_my_tags):\n",
    "    recommended = song_recommend2(tags, plist, song_tag_appended, 'jac', True, False, True, 'cv')\n",
    "    pred_list.append(recommended['song_id'].tolist())\n",
    "print(pred_list[0])"
   ]
  },
  {
   "cell_type": "code",
   "execution_count": null,
   "id": "73fc9b3c",
   "metadata": {},
   "outputs": [],
   "source": [
    "map_k = get_map_k(test_my_songs, pred_list, 10)\n",
    "print(\"MAP@K (K=10): {:.3f}\".format(map_k))\n",
    "\n",
    "ndcg = ndcg_at_k(test_my_songs, pred_list, 10)\n",
    "print(\"nDCG: {:.3f}\".format(ndcg))"
   ]
  },
  {
   "cell_type": "code",
   "execution_count": null,
   "id": "3ce0ddc0",
   "metadata": {},
   "outputs": [],
   "source": [
    "pred_list = []\n",
    "for plist, tags in zip(test_my_songs, test_my_tags):\n",
    "    recommended = song_recommend2(tags, plist, song_tag_appended, 'pea', True, False, False, 'cv')\n",
    "    pred_list.append(recommended['song_id'].tolist())\n",
    "print(pred_list[0])"
   ]
  },
  {
   "cell_type": "code",
   "execution_count": null,
   "id": "227aca23",
   "metadata": {},
   "outputs": [],
   "source": [
    "map_k = get_map_k(test_my_songs, pred_list, 10)\n",
    "print(\"MAP@K (K=10): {:.3f}\".format(map_k))\n",
    "\n",
    "ndcg = ndcg_at_k(test_my_songs, pred_list, 10)\n",
    "print(\"nDCG: {:.3f}\".format(ndcg))"
   ]
  },
  {
   "cell_type": "code",
   "execution_count": null,
   "id": "05f5d45e",
   "metadata": {},
   "outputs": [],
   "source": [
    "pred_list = []\n",
    "for plist, tags in zip(test_my_songs, test_my_tags):\n",
    "    recommended = song_recommend2(tags, plist, song_tag_appended, 'pea', True, False, True, 'cv')\n",
    "    pred_list.append(recommended['song_id'].tolist())\n",
    "print(pred_list[0])"
   ]
  },
  {
   "cell_type": "code",
   "execution_count": null,
   "id": "be435fb8",
   "metadata": {},
   "outputs": [],
   "source": [
    "map_k = get_map_k(test_my_songs, pred_list, 10)\n",
    "print(\"MAP@K (K=10): {:.3f}\".format(map_k))\n",
    "\n",
    "ndcg = ndcg_at_k(test_my_songs, pred_list, 10)\n",
    "print(\"nDCG: {:.3f}\".format(ndcg))"
   ]
  },
  {
   "cell_type": "markdown",
   "id": "9d8387fb",
   "metadata": {},
   "source": [
    "# 장르 불균형 데이터 처리\n",
    "\n",
    "- cv\n",
    "- recommend2"
   ]
  },
  {
   "cell_type": "code",
   "execution_count": null,
   "id": "7cec9bd4",
   "metadata": {},
   "outputs": [],
   "source": [
    "pred_list = []\n",
    "for plist, tags in zip(test_my_songs, test_my_tags):\n",
    "    recommended = song_recommend2(tags, plist, song_tag_appended, 'cos', False, True, False, 'cv')\n",
    "    pred_list.append(recommended['song_id'].tolist())\n",
    "print(pred_list[0])"
   ]
  },
  {
   "cell_type": "code",
   "execution_count": null,
   "id": "8ff80575",
   "metadata": {},
   "outputs": [],
   "source": [
    "map_k = get_map_k(test_my_songs, pred_list, 10)\n",
    "print(\"MAP@K (K=10): {:.3f}\".format(map_k))\n",
    "\n",
    "ndcg = ndcg_at_k(test_my_songs, pred_list, 10)\n",
    "print(\"nDCG: {:.3f}\".format(ndcg))"
   ]
  },
  {
   "cell_type": "code",
   "execution_count": null,
   "id": "f6689d42",
   "metadata": {},
   "outputs": [],
   "source": [
    "pred_list = []\n",
    "for plist, tags in zip(test_my_songs, test_my_tags):\n",
    "    recommended = song_recommend2(tags, plist, song_tag_appended, 'cos', False, True, True, 'cv')\n",
    "    pred_list.append(recommended['song_id'].tolist())\n",
    "print(pred_list[0])"
   ]
  },
  {
   "cell_type": "code",
   "execution_count": null,
   "id": "0ea74a71",
   "metadata": {},
   "outputs": [],
   "source": [
    "map_k = get_map_k(test_my_songs, pred_list, 10)\n",
    "print(\"MAP@K (K=10): {:.3f}\".format(map_k))\n",
    "\n",
    "ndcg = ndcg_at_k(test_my_songs, pred_list, 10)\n",
    "print(\"nDCG: {:.3f}\".format(ndcg))"
   ]
  },
  {
   "cell_type": "code",
   "execution_count": null,
   "id": "f4c191e0",
   "metadata": {},
   "outputs": [],
   "source": [
    "pred_list = []\n",
    "for plist, tags in zip(test_my_songs, test_my_tags):\n",
    "    recommended = song_recommend2(tags, plist, song_tag_appended, 'jac', False, True, False, 'cv')\n",
    "    pred_list.append(recommended['song_id'].tolist())\n",
    "print(pred_list[0])"
   ]
  },
  {
   "cell_type": "code",
   "execution_count": null,
   "id": "91e1f0e7",
   "metadata": {},
   "outputs": [],
   "source": [
    "map_k = get_map_k(test_my_songs, pred_list, 10)\n",
    "print(\"MAP@K (K=10): {:.3f}\".format(map_k))\n",
    "\n",
    "ndcg = ndcg_at_k(test_my_songs, pred_list, 10)\n",
    "print(\"nDCG: {:.3f}\".format(ndcg))"
   ]
  },
  {
   "cell_type": "code",
   "execution_count": null,
   "id": "d97c2655",
   "metadata": {},
   "outputs": [],
   "source": [
    "pred_list = []\n",
    "for plist, tags in zip(test_my_songs, test_my_tags):\n",
    "    recommended = song_recommend2(tags, plist, song_tag_appended, 'jac', False, True, True, 'cv')\n",
    "    pred_list.append(recommended['song_id'].tolist())\n",
    "print(pred_list[0])"
   ]
  },
  {
   "cell_type": "code",
   "execution_count": null,
   "id": "0d62ba74",
   "metadata": {},
   "outputs": [],
   "source": [
    "map_k = get_map_k(test_my_songs, pred_list, 10)\n",
    "print(\"MAP@K (K=10): {:.3f}\".format(map_k))\n",
    "\n",
    "ndcg = ndcg_at_k(test_my_songs, pred_list, 10)\n",
    "print(\"nDCG: {:.3f}\".format(ndcg))"
   ]
  },
  {
   "cell_type": "code",
   "execution_count": null,
   "id": "c6e7b71d",
   "metadata": {},
   "outputs": [],
   "source": [
    "pred_list = []\n",
    "for plist, tags in zip(test_my_songs, test_my_tags):\n",
    "    recommended = song_recommend2(tags, plist, song_tag_appended, 'pea', False, True, False, 'cv')\n",
    "    pred_list.append(recommended['song_id'].tolist())\n",
    "print(pred_list[0])"
   ]
  },
  {
   "cell_type": "code",
   "execution_count": null,
   "id": "6c3473dc",
   "metadata": {},
   "outputs": [],
   "source": [
    "map_k = get_map_k(test_my_songs, pred_list, 10)\n",
    "print(\"MAP@K (K=10): {:.3f}\".format(map_k))\n",
    "\n",
    "ndcg = ndcg_at_k(test_my_songs, pred_list, 10)\n",
    "print(\"nDCG: {:.3f}\".format(ndcg))"
   ]
  },
  {
   "cell_type": "code",
   "execution_count": null,
   "id": "3a703d33",
   "metadata": {},
   "outputs": [],
   "source": [
    "pred_list = []\n",
    "for plist, tags in zip(test_my_songs, test_my_tags):\n",
    "    recommended = song_recommend2(tags, plist, song_tag_appended, 'pea', False, True, True, 'cv')\n",
    "    pred_list.append(recommended['song_id'].tolist())\n",
    "print(pred_list[0])"
   ]
  },
  {
   "cell_type": "code",
   "execution_count": null,
   "id": "13809ffd",
   "metadata": {},
   "outputs": [],
   "source": [
    "map_k = get_map_k(test_my_songs, pred_list, 10)\n",
    "print(\"MAP@K (K=10): {:.3f}\".format(map_k))\n",
    "\n",
    "ndcg = ndcg_at_k(test_my_songs, pred_list, 10)\n",
    "print(\"nDCG: {:.3f}\".format(ndcg))"
   ]
  },
  {
   "cell_type": "markdown",
   "id": "2c178ed8",
   "metadata": {},
   "source": [
    "# 태그, 장르 불균형 데이터 처리\n",
    "\n",
    "- cv\n",
    "- recommend2"
   ]
  },
  {
   "cell_type": "code",
   "execution_count": null,
   "id": "e77cc4c8",
   "metadata": {},
   "outputs": [],
   "source": [
    "pred_list = []\n",
    "for plist, tags in zip(test_my_songs, test_my_tags):\n",
    "    recommended = song_recommend2(tags, plist, song_tag_appended, 'cos', True, True, False, 'cv')\n",
    "    pred_list.append(recommended['song_id'].tolist())\n",
    "print(pred_list[0])"
   ]
  },
  {
   "cell_type": "code",
   "execution_count": null,
   "id": "d4574c03",
   "metadata": {},
   "outputs": [],
   "source": [
    "map_k = get_map_k(test_my_songs, pred_list, 10)\n",
    "print(\"MAP@K (K=10): {:.3f}\".format(map_k))\n",
    "\n",
    "ndcg = ndcg_at_k(test_my_songs, pred_list, 10)\n",
    "print(\"nDCG: {:.3f}\".format(ndcg))"
   ]
  },
  {
   "cell_type": "code",
   "execution_count": null,
   "id": "c2d5a904",
   "metadata": {},
   "outputs": [],
   "source": [
    "pred_list = []\n",
    "for plist, tags in zip(test_my_songs, test_my_tags):\n",
    "    recommended = song_recommend2(tags, plist, song_tag_appended, 'cos', True, True, True, 'cv')\n",
    "    pred_list.append(recommended['song_id'].tolist())\n",
    "print(pred_list[0])"
   ]
  },
  {
   "cell_type": "code",
   "execution_count": null,
   "id": "88195399",
   "metadata": {},
   "outputs": [],
   "source": [
    "map_k = get_map_k(test_my_songs, pred_list, 10)\n",
    "print(\"MAP@K (K=10): {:.3f}\".format(map_k))\n",
    "\n",
    "ndcg = ndcg_at_k(test_my_songs, pred_list, 10)\n",
    "print(\"nDCG: {:.3f}\".format(ndcg))"
   ]
  },
  {
   "cell_type": "code",
   "execution_count": null,
   "id": "b5ae0003",
   "metadata": {},
   "outputs": [],
   "source": [
    "pred_list = []\n",
    "for plist, tags in zip(test_my_songs, test_my_tags):\n",
    "    recommended = song_recommend2(tags, plist, song_tag_appended, 'jac', True, True, False, 'cv')\n",
    "    pred_list.append(recommended['song_id'].tolist())\n",
    "print(pred_list[0])"
   ]
  },
  {
   "cell_type": "code",
   "execution_count": null,
   "id": "9b34801d",
   "metadata": {},
   "outputs": [],
   "source": [
    "map_k = get_map_k(test_my_songs, pred_list, 10)\n",
    "print(\"MAP@K (K=10): {:.3f}\".format(map_k))\n",
    "\n",
    "ndcg = ndcg_at_k(test_my_songs, pred_list, 10)\n",
    "print(\"nDCG: {:.3f}\".format(ndcg))"
   ]
  },
  {
   "cell_type": "code",
   "execution_count": null,
   "id": "4112d55b",
   "metadata": {},
   "outputs": [],
   "source": [
    "pred_list = []\n",
    "for plist, tags in zip(test_my_songs, test_my_tags):\n",
    "    recommended = song_recommend2(tags, plist, song_tag_appended, 'jac', True, True, True, 'cv')\n",
    "    pred_list.append(recommended['song_id'].tolist())\n",
    "print(pred_list[0])"
   ]
  },
  {
   "cell_type": "code",
   "execution_count": null,
   "id": "86e4be61",
   "metadata": {},
   "outputs": [],
   "source": [
    "map_k = get_map_k(test_my_songs, pred_list, 10)\n",
    "print(\"MAP@K (K=10): {:.3f}\".format(map_k))\n",
    "\n",
    "ndcg = ndcg_at_k(test_my_songs, pred_list, 10)\n",
    "print(\"nDCG: {:.3f}\".format(ndcg))"
   ]
  },
  {
   "cell_type": "code",
   "execution_count": null,
   "id": "a3953998",
   "metadata": {},
   "outputs": [],
   "source": [
    "pred_list = []\n",
    "for plist, tags in zip(test_my_songs, test_my_tags):\n",
    "    recommended = song_recommend2(tags, plist, song_tag_appended, 'pea', True, True, False, 'cv')\n",
    "    pred_list.append(recommended['song_id'].tolist())\n",
    "print(pred_list[0])"
   ]
  },
  {
   "cell_type": "code",
   "execution_count": null,
   "id": "a18c19c6",
   "metadata": {},
   "outputs": [],
   "source": [
    "map_k = get_map_k(test_my_songs, pred_list, 10)\n",
    "print(\"MAP@K (K=10): {:.3f}\".format(map_k))\n",
    "\n",
    "ndcg = ndcg_at_k(test_my_songs, pred_list, 10)\n",
    "print(\"nDCG: {:.3f}\".format(ndcg))"
   ]
  },
  {
   "cell_type": "code",
   "execution_count": null,
   "id": "254e52ce",
   "metadata": {},
   "outputs": [],
   "source": [
    "pred_list = []\n",
    "for plist, tags in zip(test_my_songs, test_my_tags):\n",
    "    recommended = song_recommend2(tags, plist, song_tag_appended, 'pea', True, True, True, 'cv')\n",
    "    pred_list.append(recommended['song_id'].tolist())\n",
    "print(pred_list[0])"
   ]
  },
  {
   "cell_type": "code",
   "execution_count": null,
   "id": "845349c1",
   "metadata": {},
   "outputs": [],
   "source": [
    "map_k = get_map_k(test_my_songs, pred_list, 10)\n",
    "print(\"MAP@K (K=10): {:.3f}\".format(map_k))\n",
    "\n",
    "ndcg = ndcg_at_k(test_my_songs, pred_list, 10)\n",
    "print(\"nDCG: {:.3f}\".format(ndcg))"
   ]
  },
  {
   "cell_type": "markdown",
   "id": "3041cf85",
   "metadata": {},
   "source": [
    "# 태그, 장르 불균형 데이터 처리 X\n",
    "\n",
    "- tf-idf\n",
    "- recommend2"
   ]
  },
  {
   "cell_type": "code",
   "execution_count": null,
   "id": "c28f0184",
   "metadata": {},
   "outputs": [],
   "source": [
    "pred_list = []\n",
    "for plist, tags in zip(test_my_songs, test_my_tags):\n",
    "    recommended = song_recommend2(tags, plist, song_tag_appended, 'cos', False, False, False, 'tf')\n",
    "    pred_list.append(recommended['song_id'].tolist())\n",
    "print(pred_list[0])"
   ]
  },
  {
   "cell_type": "code",
   "execution_count": null,
   "id": "28e8b7a9",
   "metadata": {},
   "outputs": [],
   "source": [
    "map_k = get_map_k(test_my_songs, pred_list, 10)\n",
    "print(\"MAP@K (K=10): {:.3f}\".format(map_k))\n",
    "\n",
    "ndcg = ndcg_at_k(test_my_songs, pred_list, 10)\n",
    "print(\"nDCG: {:.3f}\".format(ndcg))"
   ]
  },
  {
   "cell_type": "code",
   "execution_count": null,
   "id": "faac1af4",
   "metadata": {},
   "outputs": [],
   "source": [
    "pred_list = []\n",
    "for plist, tags in zip(test_my_songs, test_my_tags):\n",
    "    recommended = song_recommend2(tags, plist, song_tag_appended, 'cos', False, False, True, 'tf')\n",
    "    pred_list.append(recommended['song_id'].tolist())\n",
    "print(pred_list[0])"
   ]
  },
  {
   "cell_type": "code",
   "execution_count": null,
   "id": "f730e123",
   "metadata": {},
   "outputs": [],
   "source": [
    "map_k = get_map_k(test_my_songs, pred_list, 10)\n",
    "print(\"MAP@K (K=10): {:.3f}\".format(map_k))\n",
    "\n",
    "ndcg = ndcg_at_k(test_my_songs, pred_list, 10)\n",
    "print(\"nDCG: {:.3f}\".format(ndcg))"
   ]
  },
  {
   "cell_type": "code",
   "execution_count": null,
   "id": "4e8c774e",
   "metadata": {},
   "outputs": [],
   "source": [
    "pred_list = []\n",
    "for plist, tags in zip(test_my_songs, test_my_tags):\n",
    "    recommended = song_recommend2(tags, plist, song_tag_appended, 'jac', False, False, False, 'tf')\n",
    "    pred_list.append(recommended['song_id'].tolist())\n",
    "print(pred_list[0])"
   ]
  },
  {
   "cell_type": "code",
   "execution_count": null,
   "id": "c09dcaa0",
   "metadata": {},
   "outputs": [],
   "source": [
    "map_k = get_map_k(test_my_songs, pred_list, 10)\n",
    "print(\"MAP@K (K=10): {:.3f}\".format(map_k))\n",
    "\n",
    "ndcg = ndcg_at_k(test_my_songs, pred_list, 10)\n",
    "print(\"nDCG: {:.3f}\".format(ndcg))"
   ]
  },
  {
   "cell_type": "code",
   "execution_count": null,
   "id": "4dd3855a",
   "metadata": {},
   "outputs": [],
   "source": [
    "pred_list = []\n",
    "for plist, tags in zip(test_my_songs, test_my_tags):\n",
    "    recommended = song_recommend2(tags, plist, song_tag_appended, 'jac', False, False, True, 'tf')\n",
    "    pred_list.append(recommended['song_id'].tolist())\n",
    "print(pred_list[0])"
   ]
  },
  {
   "cell_type": "code",
   "execution_count": null,
   "id": "80e8151a",
   "metadata": {},
   "outputs": [],
   "source": [
    "map_k = get_map_k(test_my_songs, pred_list, 10)\n",
    "print(\"MAP@K (K=10): {:.3f}\".format(map_k))\n",
    "\n",
    "ndcg = ndcg_at_k(test_my_songs, pred_list, 10)\n",
    "print(\"nDCG: {:.3f}\".format(ndcg))"
   ]
  },
  {
   "cell_type": "code",
   "execution_count": null,
   "id": "0b1b6173",
   "metadata": {},
   "outputs": [],
   "source": [
    "pred_list = []\n",
    "for plist, tags in zip(test_my_songs, test_my_tags):\n",
    "    recommended = song_recommend2(tags, plist, song_tag_appended, 'pea', False, False, False, 'tf')\n",
    "    pred_list.append(recommended['song_id'].tolist())\n",
    "print(pred_list[0])"
   ]
  },
  {
   "cell_type": "code",
   "execution_count": null,
   "id": "93ba07a1",
   "metadata": {},
   "outputs": [],
   "source": [
    "map_k = get_map_k(test_my_songs, pred_list, 10)\n",
    "print(\"MAP@K (K=10): {:.3f}\".format(map_k))\n",
    "\n",
    "ndcg = ndcg_at_k(test_my_songs, pred_list, 10)\n",
    "print(\"nDCG: {:.3f}\".format(ndcg))"
   ]
  },
  {
   "cell_type": "code",
   "execution_count": null,
   "id": "cbe13222",
   "metadata": {},
   "outputs": [],
   "source": [
    "pred_list = []\n",
    "for plist, tags in zip(test_my_songs, test_my_tags):\n",
    "    recommended = song_recommend2(tags, plist, song_tag_appended, 'pea', False, False, True, 'tf')\n",
    "    pred_list.append(recommended['song_id'].tolist())\n",
    "print(pred_list[0])"
   ]
  },
  {
   "cell_type": "code",
   "execution_count": null,
   "id": "9d17ce8d",
   "metadata": {},
   "outputs": [],
   "source": [
    "map_k = get_map_k(test_my_songs, pred_list, 10)\n",
    "print(\"MAP@K (K=10): {:.3f}\".format(map_k))\n",
    "\n",
    "ndcg = ndcg_at_k(test_my_songs, pred_list, 10)\n",
    "print(\"nDCG: {:.3f}\".format(ndcg))"
   ]
  },
  {
   "cell_type": "markdown",
   "id": "a5eb717a",
   "metadata": {},
   "source": [
    "# 태그 불균형 데이터 처리\n",
    "\n",
    "- tf-idf\n",
    "- recommend2"
   ]
  },
  {
   "cell_type": "code",
   "execution_count": null,
   "id": "aba6eda3",
   "metadata": {},
   "outputs": [],
   "source": [
    "pred_list = []\n",
    "for plist, tags in zip(test_my_songs, test_my_tags):\n",
    "    recommended = song_recommend2(tags, plist, song_tag_appended, 'cos', True, False, False, 'tf')\n",
    "    pred_list.append(recommended['song_id'].tolist())\n",
    "print(pred_list[0])"
   ]
  },
  {
   "cell_type": "code",
   "execution_count": null,
   "id": "c0d7ab37",
   "metadata": {},
   "outputs": [],
   "source": [
    "map_k = get_map_k(test_my_songs, pred_list, 10)\n",
    "print(\"MAP@K (K=10): {:.3f}\".format(map_k))\n",
    "\n",
    "ndcg = ndcg_at_k(test_my_songs, pred_list, 10)\n",
    "print(\"nDCG: {:.3f}\".format(ndcg))"
   ]
  },
  {
   "cell_type": "code",
   "execution_count": null,
   "id": "e8efa27d",
   "metadata": {},
   "outputs": [],
   "source": [
    "pred_list = []\n",
    "for plist, tags in zip(test_my_songs, test_my_tags):\n",
    "    recommended = song_recommend2(tags, plist, song_tag_appended, 'cos', True, False, True, 'tf')\n",
    "    pred_list.append(recommended['song_id'].tolist())\n",
    "print(pred_list[0])"
   ]
  },
  {
   "cell_type": "code",
   "execution_count": null,
   "id": "47a4b627",
   "metadata": {},
   "outputs": [],
   "source": [
    "map_k = get_map_k(test_my_songs, pred_list, 10)\n",
    "print(\"MAP@K (K=10): {:.3f}\".format(map_k))\n",
    "\n",
    "ndcg = ndcg_at_k(test_my_songs, pred_list, 10)\n",
    "print(\"nDCG: {:.3f}\".format(ndcg))"
   ]
  },
  {
   "cell_type": "code",
   "execution_count": null,
   "id": "0abe2ffa",
   "metadata": {},
   "outputs": [],
   "source": [
    "pred_list = []\n",
    "for plist, tags in zip(test_my_songs, test_my_tags):\n",
    "    recommended = song_recommend2(tags, plist, song_tag_appended, 'jac', True, False, False, 'tf')\n",
    "    pred_list.append(recommended['song_id'].tolist())\n",
    "print(pred_list[0])"
   ]
  },
  {
   "cell_type": "code",
   "execution_count": null,
   "id": "68c34ccf",
   "metadata": {},
   "outputs": [],
   "source": [
    "map_k = get_map_k(test_my_songs, pred_list, 10)\n",
    "print(\"MAP@K (K=10): {:.3f}\".format(map_k))\n",
    "\n",
    "ndcg = ndcg_at_k(test_my_songs, pred_list, 10)\n",
    "print(\"nDCG: {:.3f}\".format(ndcg))"
   ]
  },
  {
   "cell_type": "code",
   "execution_count": null,
   "id": "11b3c14b",
   "metadata": {},
   "outputs": [],
   "source": [
    "pred_list = []\n",
    "for plist, tags in zip(test_my_songs, test_my_tags):\n",
    "    recommended = song_recommend2(tags, plist, song_tag_appended, 'jac', True, False, True, 'tf')\n",
    "    pred_list.append(recommended['song_id'].tolist())\n",
    "print(pred_list[0])"
   ]
  },
  {
   "cell_type": "code",
   "execution_count": null,
   "id": "5a49b3c5",
   "metadata": {},
   "outputs": [],
   "source": [
    "map_k = get_map_k(test_my_songs, pred_list, 10)\n",
    "print(\"MAP@K (K=10): {:.3f}\".format(map_k))\n",
    "\n",
    "ndcg = ndcg_at_k(test_my_songs, pred_list, 10)\n",
    "print(\"nDCG: {:.3f}\".format(ndcg))"
   ]
  },
  {
   "cell_type": "code",
   "execution_count": null,
   "id": "fb917246",
   "metadata": {},
   "outputs": [],
   "source": [
    "pred_list = []\n",
    "for plist, tags in zip(test_my_songs, test_my_tags):\n",
    "    recommended = song_recommend2(tags, plist, song_tag_appended, 'pea', True, False, False, 'tf')\n",
    "    pred_list.append(recommended['song_id'].tolist())\n",
    "print(pred_list[0])"
   ]
  },
  {
   "cell_type": "code",
   "execution_count": null,
   "id": "4d29cbc4",
   "metadata": {},
   "outputs": [],
   "source": [
    "map_k = get_map_k(test_my_songs, pred_list, 10)\n",
    "print(\"MAP@K (K=10): {:.3f}\".format(map_k))\n",
    "\n",
    "ndcg = ndcg_at_k(test_my_songs, pred_list, 10)\n",
    "print(\"nDCG: {:.3f}\".format(ndcg))"
   ]
  },
  {
   "cell_type": "code",
   "execution_count": null,
   "id": "a6cb2cc7",
   "metadata": {},
   "outputs": [],
   "source": [
    "pred_list = []\n",
    "for plist, tags in zip(test_my_songs, test_my_tags):\n",
    "    recommended = song_recommend2(tags, plist, song_tag_appended, 'pea', True, False, True, 'tf')\n",
    "    pred_list.append(recommended['song_id'].tolist())\n",
    "print(pred_list[0])"
   ]
  },
  {
   "cell_type": "code",
   "execution_count": null,
   "id": "5905fc07",
   "metadata": {},
   "outputs": [],
   "source": [
    "map_k = get_map_k(test_my_songs, pred_list, 10)\n",
    "print(\"MAP@K (K=10): {:.3f}\".format(map_k))\n",
    "\n",
    "ndcg = ndcg_at_k(test_my_songs, pred_list, 10)\n",
    "print(\"nDCG: {:.3f}\".format(ndcg))"
   ]
  },
  {
   "cell_type": "markdown",
   "id": "e8c7c1e3",
   "metadata": {},
   "source": [
    "# 장르 불균형 데이터 처리\n",
    "\n",
    "- tf-idf\n",
    "- recommend2"
   ]
  },
  {
   "cell_type": "code",
   "execution_count": null,
   "id": "f92dd77a",
   "metadata": {},
   "outputs": [],
   "source": [
    "pred_list = []\n",
    "for plist, tags in zip(test_my_songs, test_my_tags):\n",
    "    recommended = song_recommend2(tags, plist, song_tag_appended, 'cos', False, True, False, 'tf')\n",
    "    pred_list.append(recommended['song_id'].tolist())\n",
    "print(pred_list[0])"
   ]
  },
  {
   "cell_type": "code",
   "execution_count": null,
   "id": "9cae34c2",
   "metadata": {},
   "outputs": [],
   "source": [
    "map_k = get_map_k(test_my_songs, pred_list, 10)\n",
    "print(\"MAP@K (K=10): {:.3f}\".format(map_k))\n",
    "\n",
    "ndcg = ndcg_at_k(test_my_songs, pred_list, 10)\n",
    "print(\"nDCG: {:.3f}\".format(ndcg))"
   ]
  },
  {
   "cell_type": "code",
   "execution_count": null,
   "id": "1cb485c6",
   "metadata": {},
   "outputs": [],
   "source": [
    "pred_list = []\n",
    "for plist, tags in zip(test_my_songs, test_my_tags):\n",
    "    recommended = song_recommend2(tags, plist, song_tag_appended, 'cos', False, True, True, 'tf')\n",
    "    pred_list.append(recommended['song_id'].tolist())\n",
    "print(pred_list[0])"
   ]
  },
  {
   "cell_type": "code",
   "execution_count": null,
   "id": "81a458bd",
   "metadata": {},
   "outputs": [],
   "source": [
    "map_k = get_map_k(test_my_songs, pred_list, 10)\n",
    "print(\"MAP@K (K=10): {:.3f}\".format(map_k))\n",
    "\n",
    "ndcg = ndcg_at_k(test_my_songs, pred_list, 10)\n",
    "print(\"nDCG: {:.3f}\".format(ndcg))"
   ]
  },
  {
   "cell_type": "code",
   "execution_count": null,
   "id": "5a351340",
   "metadata": {},
   "outputs": [],
   "source": [
    "pred_list = []\n",
    "for plist, tags in zip(test_my_songs, test_my_tags):\n",
    "    recommended = song_recommend2(tags, plist, song_tag_appended, 'jac', False, True, False, 'tf')\n",
    "    pred_list.append(recommended['song_id'].tolist())\n",
    "print(pred_list[0])"
   ]
  },
  {
   "cell_type": "code",
   "execution_count": null,
   "id": "275d9fd5",
   "metadata": {},
   "outputs": [],
   "source": [
    "map_k = get_map_k(test_my_songs, pred_list, 10)\n",
    "print(\"MAP@K (K=10): {:.3f}\".format(map_k))\n",
    "\n",
    "ndcg = ndcg_at_k(test_my_songs, pred_list, 10)\n",
    "print(\"nDCG: {:.3f}\".format(ndcg))"
   ]
  },
  {
   "cell_type": "code",
   "execution_count": null,
   "id": "9999acfb",
   "metadata": {},
   "outputs": [],
   "source": [
    "pred_list = []\n",
    "for plist, tags in zip(test_my_songs, test_my_tags):\n",
    "    recommended = song_recommend2(tags, plist, song_tag_appended, 'jac', False, True, True, 'tf')\n",
    "    pred_list.append(recommended['song_id'].tolist())\n",
    "print(pred_list[0])"
   ]
  },
  {
   "cell_type": "code",
   "execution_count": null,
   "id": "3b16bad4",
   "metadata": {},
   "outputs": [],
   "source": [
    "map_k = get_map_k(test_my_songs, pred_list, 10)\n",
    "print(\"MAP@K (K=10): {:.3f}\".format(map_k))\n",
    "\n",
    "ndcg = ndcg_at_k(test_my_songs, pred_list, 10)\n",
    "print(\"nDCG: {:.3f}\".format(ndcg))"
   ]
  },
  {
   "cell_type": "code",
   "execution_count": null,
   "id": "7a8c092f",
   "metadata": {},
   "outputs": [],
   "source": [
    "pred_list = []\n",
    "for plist, tags in zip(test_my_songs, test_my_tags):\n",
    "    recommended = song_recommend2(tags, plist, song_tag_appended, 'pea', False, True, False, 'tf')\n",
    "    pred_list.append(recommended['song_id'].tolist())\n",
    "print(pred_list[0])"
   ]
  },
  {
   "cell_type": "code",
   "execution_count": null,
   "id": "246f5c6a",
   "metadata": {},
   "outputs": [],
   "source": [
    "map_k = get_map_k(test_my_songs, pred_list, 10)\n",
    "print(\"MAP@K (K=10): {:.3f}\".format(map_k))\n",
    "\n",
    "ndcg = ndcg_at_k(test_my_songs, pred_list, 10)\n",
    "print(\"nDCG: {:.3f}\".format(ndcg))"
   ]
  },
  {
   "cell_type": "code",
   "execution_count": null,
   "id": "9aee42f3",
   "metadata": {},
   "outputs": [],
   "source": [
    "pred_list = []\n",
    "for plist, tags in zip(test_my_songs, test_my_tags):\n",
    "    recommended = song_recommend2(tags, plist, song_tag_appended, 'pea', False, True, True, 'tf')\n",
    "    pred_list.append(recommended['song_id'].tolist())\n",
    "print(pred_list[0])"
   ]
  },
  {
   "cell_type": "code",
   "execution_count": null,
   "id": "94f8f888",
   "metadata": {},
   "outputs": [],
   "source": [
    "map_k = get_map_k(test_my_songs, pred_list, 10)\n",
    "print(\"MAP@K (K=10): {:.3f}\".format(map_k))\n",
    "\n",
    "ndcg = ndcg_at_k(test_my_songs, pred_list, 10)\n",
    "print(\"nDCG: {:.3f}\".format(ndcg))"
   ]
  },
  {
   "cell_type": "markdown",
   "id": "06900fc0",
   "metadata": {},
   "source": [
    "# 태그, 장르 불균형 데이터 처리\n",
    "\n",
    "- tf-idf\n",
    "- recommend2"
   ]
  },
  {
   "cell_type": "code",
   "execution_count": null,
   "id": "c87c0da1",
   "metadata": {},
   "outputs": [],
   "source": [
    "pred_list = []\n",
    "for plist, tags in zip(test_my_songs, test_my_tags):\n",
    "    recommended = song_recommend2(tags, plist, song_tag_appended, 'cos', True, True, False, 'tf')\n",
    "    pred_list.append(recommended['song_id'].tolist())\n",
    "print(pred_list[0])"
   ]
  },
  {
   "cell_type": "code",
   "execution_count": null,
   "id": "4957c95e",
   "metadata": {},
   "outputs": [],
   "source": [
    "map_k = get_map_k(test_my_songs, pred_list, 10)\n",
    "print(\"MAP@K (K=10): {:.3f}\".format(map_k))\n",
    "\n",
    "ndcg = ndcg_at_k(test_my_songs, pred_list, 10)\n",
    "print(\"nDCG: {:.3f}\".format(ndcg))"
   ]
  },
  {
   "cell_type": "code",
   "execution_count": null,
   "id": "32487cef",
   "metadata": {},
   "outputs": [],
   "source": [
    "pred_list = []\n",
    "for plist, tags in zip(test_my_songs, test_my_tags):\n",
    "    recommended = song_recommend2(tags, plist, song_tag_appended, 'cos', True, True, True, 'tf')\n",
    "    pred_list.append(recommended['song_id'].tolist())\n",
    "print(pred_list[0])"
   ]
  },
  {
   "cell_type": "code",
   "execution_count": null,
   "id": "1b57f478",
   "metadata": {},
   "outputs": [],
   "source": [
    "map_k = get_map_k(test_my_songs, pred_list, 10)\n",
    "print(\"MAP@K (K=10): {:.3f}\".format(map_k))\n",
    "\n",
    "ndcg = ndcg_at_k(test_my_songs, pred_list, 10)\n",
    "print(\"nDCG: {:.3f}\".format(ndcg))"
   ]
  },
  {
   "cell_type": "code",
   "execution_count": null,
   "id": "bce7dd5c",
   "metadata": {},
   "outputs": [],
   "source": [
    "pred_list = []\n",
    "for plist, tags in zip(test_my_songs, test_my_tags):\n",
    "    recommended = song_recommend2(tags, plist, song_tag_appended, 'jac', True, True, False, 'tf')\n",
    "    pred_list.append(recommended['song_id'].tolist())\n",
    "print(pred_list[0])"
   ]
  },
  {
   "cell_type": "code",
   "execution_count": null,
   "id": "c30982ee",
   "metadata": {},
   "outputs": [],
   "source": [
    "map_k = get_map_k(test_my_songs, pred_list, 10)\n",
    "print(\"MAP@K (K=10): {:.3f}\".format(map_k))\n",
    "\n",
    "ndcg = ndcg_at_k(test_my_songs, pred_list, 10)\n",
    "print(\"nDCG: {:.3f}\".format(ndcg))"
   ]
  },
  {
   "cell_type": "code",
   "execution_count": null,
   "id": "d4ae44c3",
   "metadata": {},
   "outputs": [],
   "source": [
    "pred_list = []\n",
    "for plist, tags in zip(test_my_songs, test_my_tags):\n",
    "    recommended = song_recommend2(tags, plist, song_tag_appended, 'jac', True, True, True, 'tf')\n",
    "    pred_list.append(recommended['song_id'].tolist())\n",
    "print(pred_list[0])"
   ]
  },
  {
   "cell_type": "code",
   "execution_count": null,
   "id": "dd06a7c2",
   "metadata": {},
   "outputs": [],
   "source": [
    "map_k = get_map_k(test_my_songs, pred_list, 10)\n",
    "print(\"MAP@K (K=10): {:.3f}\".format(map_k))\n",
    "\n",
    "ndcg = ndcg_at_k(test_my_songs, pred_list, 10)\n",
    "print(\"nDCG: {:.3f}\".format(ndcg))"
   ]
  },
  {
   "cell_type": "code",
   "execution_count": null,
   "id": "c4c44743",
   "metadata": {},
   "outputs": [],
   "source": [
    "pred_list = []\n",
    "for plist, tags in zip(test_my_songs, test_my_tags):\n",
    "    recommended = song_recommend2(tags, plist, song_tag_appended, 'pea', True, True, False, 'tf')\n",
    "    pred_list.append(recommended['song_id'].tolist())\n",
    "print(pred_list[0])"
   ]
  },
  {
   "cell_type": "code",
   "execution_count": null,
   "id": "e2d5faff",
   "metadata": {},
   "outputs": [],
   "source": [
    "map_k = get_map_k(test_my_songs, pred_list, 10)\n",
    "print(\"MAP@K (K=10): {:.3f}\".format(map_k))\n",
    "\n",
    "ndcg = ndcg_at_k(test_my_songs, pred_list, 10)\n",
    "print(\"nDCG: {:.3f}\".format(ndcg))"
   ]
  },
  {
   "cell_type": "code",
   "execution_count": null,
   "id": "3c2f0eee",
   "metadata": {},
   "outputs": [],
   "source": [
    "pred_list = []\n",
    "for plist, tags in zip(test_my_songs, test_my_tags):\n",
    "    recommended = song_recommend2(tags, plist, song_tag_appended, 'pea', True, True, True, 'tf')\n",
    "    pred_list.append(recommended['song_id'].tolist())\n",
    "print(pred_list[0])"
   ]
  },
  {
   "cell_type": "code",
   "execution_count": null,
   "id": "795a1c0f",
   "metadata": {},
   "outputs": [],
   "source": [
    "map_k = get_map_k(test_my_songs, pred_list, 10)\n",
    "print(\"MAP@K (K=10): {:.3f}\".format(map_k))\n",
    "\n",
    "ndcg = ndcg_at_k(test_my_songs, pred_list, 10)\n",
    "print(\"nDCG: {:.3f}\".format(ndcg))"
   ]
  },
  {
   "cell_type": "markdown",
   "id": "0db59c7f",
   "metadata": {},
   "source": [
    "## 태그 세트 생성"
   ]
  },
  {
   "cell_type": "code",
   "execution_count": null,
   "id": "4284f6f0",
   "metadata": {},
   "outputs": [],
   "source": [
    "def make_tag_set(data):\n",
    "    tag_set = set()\n",
    "\n",
    "    for i in range(len(data)):\n",
    "        tag = data['tags'][i]\n",
    "    \n",
    "        for j in tag:\n",
    "            tag_set.add(j)\n",
    "\n",
    "    return tag_set"
   ]
  },
  {
   "cell_type": "code",
   "execution_count": null,
   "id": "af7cc036",
   "metadata": {},
   "outputs": [],
   "source": [
    "tag_set = make_tag_set(train_data_sample2)\n",
    "print(tag_set)"
   ]
  },
  {
   "cell_type": "markdown",
   "id": "7f2bbf8a",
   "metadata": {},
   "source": [
    "## 태그 불균형 데이터"
   ]
  },
  {
   "cell_type": "markdown",
   "id": "4f895554",
   "metadata": {},
   "source": [
    "## 불균형 정도 측정\n",
    "\n",
    "- 한 태그를 가지는 음악의 최대 개수, 한 태그를 가지는 음악의 개수를 추출\n",
    "- 가중치 부여에 관해서는 논의가 필요"
   ]
  },
  {
   "cell_type": "code",
   "execution_count": null,
   "id": "6f8df040",
   "metadata": {},
   "outputs": [],
   "source": [
    "def make_song_num_dict(data):\n",
    "    song_ids = dict()\n",
    "    song_num = dict()\n",
    "    max_num = 0\n",
    "    \n",
    "    for i in range(len(data)):\n",
    "        songs = data['song_id'][i]\n",
    "        tags = data['tags'][i]\n",
    "        \n",
    "        for j in tags:\n",
    "            if not j in song_ids:\n",
    "                song_ids[j] = set(songs)\n",
    "            \n",
    "            else:\n",
    "                song_ids[j].update(songs)\n",
    "    \n",
    "    for i in song_ids:\n",
    "        song_num[i] = len(song_ids[i])\n",
    "        \n",
    "        max_num = max(song_num[i], max_num)\n",
    "    \n",
    "    return song_num, max_num"
   ]
  },
  {
   "cell_type": "code",
   "execution_count": null,
   "id": "1a45d725",
   "metadata": {},
   "outputs": [],
   "source": [
    "song_num_dict, song_num_max = make_song_num_dict(train_data_sample2)\n",
    "print(song_num_max)\n",
    "print(song_num_dict)"
   ]
  },
  {
   "cell_type": "markdown",
   "id": "9b7e73bd",
   "metadata": {},
   "source": [
    "## 장르 데이터"
   ]
  },
  {
   "cell_type": "markdown",
   "id": "037279dd",
   "metadata": {},
   "source": [
    "## 불균형 데이터 처리"
   ]
  },
  {
   "cell_type": "code",
   "execution_count": null,
   "id": "76dd8271",
   "metadata": {},
   "outputs": [],
   "source": [
    "def make_genre_num_dict(appended_data):\n",
    "    song_ids = dict()\n",
    "    song_num = dict()\n",
    "    max_num = 0\n",
    "    \n",
    "    for i in range(len(appended_data)):\n",
    "        song = appended_data['song_id'][i]\n",
    "        gnrs = appended_data['gnr'][i]\n",
    "        \n",
    "        for j in gnrs:\n",
    "            if not j in song_ids:\n",
    "                song_ids[j] = {song}\n",
    "            \n",
    "            else:\n",
    "                song_ids[j].add(song)\n",
    "    \n",
    "    for i in song_ids:\n",
    "        song_num[i] = len(song_ids[i])\n",
    "        \n",
    "        max_num = max(song_num[i], max_num)\n",
    "    \n",
    "    return song_num, max_num"
   ]
  },
  {
   "cell_type": "code",
   "execution_count": null,
   "id": "3914fa84",
   "metadata": {},
   "outputs": [],
   "source": [
    "genre_num_dict, genre_num_max = make_genre_num_dict(song_tag_appended)\n",
    "print(genre_num_max)\n",
    "print(genre_num_dict)"
   ]
  },
  {
   "cell_type": "code",
   "execution_count": null,
   "id": "d5ba52cb",
   "metadata": {},
   "outputs": [],
   "source": []
  }
 ],
 "metadata": {
  "kernelspec": {
   "display_name": "Python 3 (ipykernel)",
   "language": "python",
   "name": "python3"
  },
  "language_info": {
   "codemirror_mode": {
    "name": "ipython",
    "version": 3
   },
   "file_extension": ".py",
   "mimetype": "text/x-python",
   "name": "python",
   "nbconvert_exporter": "python",
   "pygments_lexer": "ipython3",
   "version": "3.11.3"
  }
 },
 "nbformat": 4,
 "nbformat_minor": 5
}
