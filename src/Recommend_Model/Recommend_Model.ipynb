{
 "cells": [
  {
   "cell_type": "markdown",
   "id": "3623a464",
   "metadata": {},
   "source": [
    "## 데이터 로드"
   ]
  },
  {
   "cell_type": "code",
   "execution_count": 1,
   "id": "1bf46884",
   "metadata": {},
   "outputs": [],
   "source": [
    "import json\n",
    "import pandas as pd\n",
    "\n",
    "with open('../Datasets/train.json', 'r', encoding='utf-8') as f:\n",
    "    json_data = json.load(f)"
   ]
  },
  {
   "cell_type": "code",
   "execution_count": 2,
   "id": "d7e6ed51",
   "metadata": {},
   "outputs": [
    {
     "data": {
      "text/html": [
       "<div>\n",
       "<style scoped>\n",
       "    .dataframe tbody tr th:only-of-type {\n",
       "        vertical-align: middle;\n",
       "    }\n",
       "\n",
       "    .dataframe tbody tr th {\n",
       "        vertical-align: top;\n",
       "    }\n",
       "\n",
       "    .dataframe thead th {\n",
       "        text-align: right;\n",
       "    }\n",
       "</style>\n",
       "<table border=\"1\" class=\"dataframe\">\n",
       "  <thead>\n",
       "    <tr style=\"text-align: right;\">\n",
       "      <th></th>\n",
       "      <th>tags</th>\n",
       "      <th>songs</th>\n",
       "      <th>like_cnt</th>\n",
       "    </tr>\n",
       "  </thead>\n",
       "  <tbody>\n",
       "    <tr>\n",
       "      <th>0</th>\n",
       "      <td>[락]</td>\n",
       "      <td>[525514, 129701, 383374, 562083, 297861, 13954...</td>\n",
       "      <td>71</td>\n",
       "    </tr>\n",
       "    <tr>\n",
       "      <th>1</th>\n",
       "      <td>[추억, 회상]</td>\n",
       "      <td>[432406, 675945, 497066, 120377, 389529, 24427...</td>\n",
       "      <td>1</td>\n",
       "    </tr>\n",
       "    <tr>\n",
       "      <th>2</th>\n",
       "      <td>[까페, 잔잔한]</td>\n",
       "      <td>[83116, 276692, 166267, 186301, 354465, 256598...</td>\n",
       "      <td>17</td>\n",
       "    </tr>\n",
       "    <tr>\n",
       "      <th>3</th>\n",
       "      <td>[연말, 눈오는날, 캐럴, 분위기, 따듯한, 크리스마스캐럴, 겨울노래, 크리스마스,...</td>\n",
       "      <td>[394031, 195524, 540149, 287984, 440773, 10033...</td>\n",
       "      <td>33</td>\n",
       "    </tr>\n",
       "    <tr>\n",
       "      <th>4</th>\n",
       "      <td>[댄스]</td>\n",
       "      <td>[159327, 553610, 5130, 645103, 294435, 100657,...</td>\n",
       "      <td>9</td>\n",
       "    </tr>\n",
       "  </tbody>\n",
       "</table>\n",
       "</div>"
      ],
      "text/plain": [
       "                                                tags  \\\n",
       "0                                                [락]   \n",
       "1                                           [추억, 회상]   \n",
       "2                                          [까페, 잔잔한]   \n",
       "3  [연말, 눈오는날, 캐럴, 분위기, 따듯한, 크리스마스캐럴, 겨울노래, 크리스마스,...   \n",
       "4                                               [댄스]   \n",
       "\n",
       "                                               songs  like_cnt  \n",
       "0  [525514, 129701, 383374, 562083, 297861, 13954...        71  \n",
       "1  [432406, 675945, 497066, 120377, 389529, 24427...         1  \n",
       "2  [83116, 276692, 166267, 186301, 354465, 256598...        17  \n",
       "3  [394031, 195524, 540149, 287984, 440773, 10033...        33  \n",
       "4  [159327, 553610, 5130, 645103, 294435, 100657,...         9  "
      ]
     },
     "execution_count": 2,
     "metadata": {},
     "output_type": "execute_result"
    }
   ],
   "source": [
    "train_data = pd.DataFrame(json_data)\n",
    "train_data = train_data.drop(['id', 'plylst_title', 'updt_date'], axis=1)\n",
    "train_data.head()"
   ]
  },
  {
   "cell_type": "code",
   "execution_count": 3,
   "id": "cc61bcc3",
   "metadata": {},
   "outputs": [],
   "source": [
    "with open('../Datasets/song_meta_with_likes.json', 'r', encoding='utf-8') as f:\n",
    "    json_data = json.load(f)"
   ]
  },
  {
   "cell_type": "code",
   "execution_count": 4,
   "id": "9d00a9fe",
   "metadata": {},
   "outputs": [
    {
     "data": {
      "text/html": [
       "<div>\n",
       "<style scoped>\n",
       "    .dataframe tbody tr th:only-of-type {\n",
       "        vertical-align: middle;\n",
       "    }\n",
       "\n",
       "    .dataframe tbody tr th {\n",
       "        vertical-align: top;\n",
       "    }\n",
       "\n",
       "    .dataframe thead th {\n",
       "        text-align: right;\n",
       "    }\n",
       "</style>\n",
       "<table border=\"1\" class=\"dataframe\">\n",
       "  <thead>\n",
       "    <tr style=\"text-align: right;\">\n",
       "      <th></th>\n",
       "      <th>song_gn_dtl_gnr_basket</th>\n",
       "      <th>issue_date</th>\n",
       "      <th>album_id</th>\n",
       "      <th>artist_id_basket</th>\n",
       "      <th>song_name</th>\n",
       "      <th>artist_name_basket</th>\n",
       "      <th>id</th>\n",
       "      <th>like_cnt_song</th>\n",
       "    </tr>\n",
       "  </thead>\n",
       "  <tbody>\n",
       "    <tr>\n",
       "      <th>0</th>\n",
       "      <td>[GN0901]</td>\n",
       "      <td>20140512</td>\n",
       "      <td>2255639</td>\n",
       "      <td>[2727]</td>\n",
       "      <td>Feelings</td>\n",
       "      <td>[Various Artists]</td>\n",
       "      <td>0</td>\n",
       "      <td>0.616807</td>\n",
       "    </tr>\n",
       "    <tr>\n",
       "      <th>1</th>\n",
       "      <td>[GN1601, GN1606]</td>\n",
       "      <td>20080421</td>\n",
       "      <td>376431</td>\n",
       "      <td>[29966]</td>\n",
       "      <td>Bach : Partita No. 4 In D Major, BWV 828 - II....</td>\n",
       "      <td>[Murray Perahia]</td>\n",
       "      <td>1</td>\n",
       "      <td>0.000000</td>\n",
       "    </tr>\n",
       "    <tr>\n",
       "      <th>2</th>\n",
       "      <td>[GN0901]</td>\n",
       "      <td>20180518</td>\n",
       "      <td>4698747</td>\n",
       "      <td>[3361]</td>\n",
       "      <td>Solsbury Hill (Remastered 2002)</td>\n",
       "      <td>[Peter Gabriel]</td>\n",
       "      <td>2</td>\n",
       "      <td>0.000000</td>\n",
       "    </tr>\n",
       "    <tr>\n",
       "      <th>3</th>\n",
       "      <td>[GN1102, GN1101]</td>\n",
       "      <td>20151016</td>\n",
       "      <td>2644882</td>\n",
       "      <td>[838543]</td>\n",
       "      <td>Feeling Right (Everything Is Nice) (Feat. Popc...</td>\n",
       "      <td>[Matoma]</td>\n",
       "      <td>3</td>\n",
       "      <td>22.996574</td>\n",
       "    </tr>\n",
       "    <tr>\n",
       "      <th>4</th>\n",
       "      <td>[GN1802, GN1801]</td>\n",
       "      <td>20110824</td>\n",
       "      <td>2008470</td>\n",
       "      <td>[560160]</td>\n",
       "      <td>그남자 그여자</td>\n",
       "      <td>[Jude Law]</td>\n",
       "      <td>4</td>\n",
       "      <td>0.297234</td>\n",
       "    </tr>\n",
       "  </tbody>\n",
       "</table>\n",
       "</div>"
      ],
      "text/plain": [
       "  song_gn_dtl_gnr_basket issue_date  album_id artist_id_basket  \\\n",
       "0               [GN0901]   20140512   2255639           [2727]   \n",
       "1       [GN1601, GN1606]   20080421    376431          [29966]   \n",
       "2               [GN0901]   20180518   4698747           [3361]   \n",
       "3       [GN1102, GN1101]   20151016   2644882         [838543]   \n",
       "4       [GN1802, GN1801]   20110824   2008470         [560160]   \n",
       "\n",
       "                                           song_name artist_name_basket  id  \\\n",
       "0                                           Feelings  [Various Artists]   0   \n",
       "1  Bach : Partita No. 4 In D Major, BWV 828 - II....   [Murray Perahia]   1   \n",
       "2                    Solsbury Hill (Remastered 2002)    [Peter Gabriel]   2   \n",
       "3  Feeling Right (Everything Is Nice) (Feat. Popc...           [Matoma]   3   \n",
       "4                                            그남자 그여자         [Jude Law]   4   \n",
       "\n",
       "   like_cnt_song  \n",
       "0       0.616807  \n",
       "1       0.000000  \n",
       "2       0.000000  \n",
       "3      22.996574  \n",
       "4       0.297234  "
      ]
     },
     "execution_count": 4,
     "metadata": {},
     "output_type": "execute_result"
    }
   ],
   "source": [
    "song_data = pd.DataFrame(json_data)\n",
    "song_data = song_data.drop(['album_name', 'song_gn_gnr_basket'], axis=1)\n",
    "song_data.head()"
   ]
  },
  {
   "cell_type": "markdown",
   "id": "bcf2ecba",
   "metadata": {},
   "source": [
    "## 데이터 열 이름 변경"
   ]
  },
  {
   "cell_type": "code",
   "execution_count": 5,
   "id": "36cf5e58",
   "metadata": {},
   "outputs": [
    {
     "data": {
      "text/html": [
       "<div>\n",
       "<style scoped>\n",
       "    .dataframe tbody tr th:only-of-type {\n",
       "        vertical-align: middle;\n",
       "    }\n",
       "\n",
       "    .dataframe tbody tr th {\n",
       "        vertical-align: top;\n",
       "    }\n",
       "\n",
       "    .dataframe thead th {\n",
       "        text-align: right;\n",
       "    }\n",
       "</style>\n",
       "<table border=\"1\" class=\"dataframe\">\n",
       "  <thead>\n",
       "    <tr style=\"text-align: right;\">\n",
       "      <th></th>\n",
       "      <th>tags</th>\n",
       "      <th>song_id</th>\n",
       "      <th>like_cnt</th>\n",
       "    </tr>\n",
       "  </thead>\n",
       "  <tbody>\n",
       "    <tr>\n",
       "      <th>0</th>\n",
       "      <td>[락]</td>\n",
       "      <td>[525514, 129701, 383374, 562083, 297861, 13954...</td>\n",
       "      <td>71</td>\n",
       "    </tr>\n",
       "    <tr>\n",
       "      <th>1</th>\n",
       "      <td>[추억, 회상]</td>\n",
       "      <td>[432406, 675945, 497066, 120377, 389529, 24427...</td>\n",
       "      <td>1</td>\n",
       "    </tr>\n",
       "    <tr>\n",
       "      <th>2</th>\n",
       "      <td>[까페, 잔잔한]</td>\n",
       "      <td>[83116, 276692, 166267, 186301, 354465, 256598...</td>\n",
       "      <td>17</td>\n",
       "    </tr>\n",
       "    <tr>\n",
       "      <th>3</th>\n",
       "      <td>[연말, 눈오는날, 캐럴, 분위기, 따듯한, 크리스마스캐럴, 겨울노래, 크리스마스,...</td>\n",
       "      <td>[394031, 195524, 540149, 287984, 440773, 10033...</td>\n",
       "      <td>33</td>\n",
       "    </tr>\n",
       "    <tr>\n",
       "      <th>4</th>\n",
       "      <td>[댄스]</td>\n",
       "      <td>[159327, 553610, 5130, 645103, 294435, 100657,...</td>\n",
       "      <td>9</td>\n",
       "    </tr>\n",
       "  </tbody>\n",
       "</table>\n",
       "</div>"
      ],
      "text/plain": [
       "                                                tags  \\\n",
       "0                                                [락]   \n",
       "1                                           [추억, 회상]   \n",
       "2                                          [까페, 잔잔한]   \n",
       "3  [연말, 눈오는날, 캐럴, 분위기, 따듯한, 크리스마스캐럴, 겨울노래, 크리스마스,...   \n",
       "4                                               [댄스]   \n",
       "\n",
       "                                             song_id  like_cnt  \n",
       "0  [525514, 129701, 383374, 562083, 297861, 13954...        71  \n",
       "1  [432406, 675945, 497066, 120377, 389529, 24427...         1  \n",
       "2  [83116, 276692, 166267, 186301, 354465, 256598...        17  \n",
       "3  [394031, 195524, 540149, 287984, 440773, 10033...        33  \n",
       "4  [159327, 553610, 5130, 645103, 294435, 100657,...         9  "
      ]
     },
     "execution_count": 5,
     "metadata": {},
     "output_type": "execute_result"
    }
   ],
   "source": [
    "train_data.rename(columns={'songs':'song_id'}, inplace=True)\n",
    "train_data.head()"
   ]
  },
  {
   "cell_type": "markdown",
   "id": "e2dcc1c1",
   "metadata": {},
   "source": [
    "## 데이터 추출\n",
    "\n",
    "- 500개의 플레이리스트 추출"
   ]
  },
  {
   "cell_type": "code",
   "execution_count": 6,
   "id": "9bec8482",
   "metadata": {},
   "outputs": [],
   "source": [
    "train_data_sample = train_data[500:1000].copy()\n",
    "train_data_sample = train_data_sample.reset_index(drop=True)\n",
    "#train_data_sample = train_data"
   ]
  },
  {
   "cell_type": "code",
   "execution_count": 7,
   "id": "06c5ffc9",
   "metadata": {},
   "outputs": [
    {
     "data": {
      "text/html": [
       "<div>\n",
       "<style scoped>\n",
       "    .dataframe tbody tr th:only-of-type {\n",
       "        vertical-align: middle;\n",
       "    }\n",
       "\n",
       "    .dataframe tbody tr th {\n",
       "        vertical-align: top;\n",
       "    }\n",
       "\n",
       "    .dataframe thead th {\n",
       "        text-align: right;\n",
       "    }\n",
       "</style>\n",
       "<table border=\"1\" class=\"dataframe\">\n",
       "  <thead>\n",
       "    <tr style=\"text-align: right;\">\n",
       "      <th></th>\n",
       "      <th>gnr</th>\n",
       "      <th>issue_date</th>\n",
       "      <th>album_id</th>\n",
       "      <th>artist_id_basket</th>\n",
       "      <th>song_name</th>\n",
       "      <th>artist_name_basket</th>\n",
       "      <th>song_id</th>\n",
       "      <th>like_cnt_song</th>\n",
       "    </tr>\n",
       "  </thead>\n",
       "  <tbody>\n",
       "    <tr>\n",
       "      <th>0</th>\n",
       "      <td>[GN0901]</td>\n",
       "      <td>20140512</td>\n",
       "      <td>2255639</td>\n",
       "      <td>[2727]</td>\n",
       "      <td>Feelings</td>\n",
       "      <td>[Various Artists]</td>\n",
       "      <td>0</td>\n",
       "      <td>0.616807</td>\n",
       "    </tr>\n",
       "    <tr>\n",
       "      <th>1</th>\n",
       "      <td>[GN1601, GN1606]</td>\n",
       "      <td>20080421</td>\n",
       "      <td>376431</td>\n",
       "      <td>[29966]</td>\n",
       "      <td>Bach : Partita No. 4 In D Major, BWV 828 - II....</td>\n",
       "      <td>[Murray Perahia]</td>\n",
       "      <td>1</td>\n",
       "      <td>0.000000</td>\n",
       "    </tr>\n",
       "    <tr>\n",
       "      <th>2</th>\n",
       "      <td>[GN0901]</td>\n",
       "      <td>20180518</td>\n",
       "      <td>4698747</td>\n",
       "      <td>[3361]</td>\n",
       "      <td>Solsbury Hill (Remastered 2002)</td>\n",
       "      <td>[Peter Gabriel]</td>\n",
       "      <td>2</td>\n",
       "      <td>0.000000</td>\n",
       "    </tr>\n",
       "    <tr>\n",
       "      <th>3</th>\n",
       "      <td>[GN1102, GN1101]</td>\n",
       "      <td>20151016</td>\n",
       "      <td>2644882</td>\n",
       "      <td>[838543]</td>\n",
       "      <td>Feeling Right (Everything Is Nice) (Feat. Popc...</td>\n",
       "      <td>[Matoma]</td>\n",
       "      <td>3</td>\n",
       "      <td>22.996574</td>\n",
       "    </tr>\n",
       "    <tr>\n",
       "      <th>4</th>\n",
       "      <td>[GN1802, GN1801]</td>\n",
       "      <td>20110824</td>\n",
       "      <td>2008470</td>\n",
       "      <td>[560160]</td>\n",
       "      <td>그남자 그여자</td>\n",
       "      <td>[Jude Law]</td>\n",
       "      <td>4</td>\n",
       "      <td>0.297234</td>\n",
       "    </tr>\n",
       "  </tbody>\n",
       "</table>\n",
       "</div>"
      ],
      "text/plain": [
       "                gnr  issue_date  album_id artist_id_basket  \\\n",
       "0          [GN0901]    20140512   2255639           [2727]   \n",
       "1  [GN1601, GN1606]    20080421    376431          [29966]   \n",
       "2          [GN0901]    20180518   4698747           [3361]   \n",
       "3  [GN1102, GN1101]    20151016   2644882         [838543]   \n",
       "4  [GN1802, GN1801]    20110824   2008470         [560160]   \n",
       "\n",
       "                                           song_name artist_name_basket  \\\n",
       "0                                           Feelings  [Various Artists]   \n",
       "1  Bach : Partita No. 4 In D Major, BWV 828 - II....   [Murray Perahia]   \n",
       "2                    Solsbury Hill (Remastered 2002)    [Peter Gabriel]   \n",
       "3  Feeling Right (Everything Is Nice) (Feat. Popc...           [Matoma]   \n",
       "4                                            그남자 그여자         [Jude Law]   \n",
       "\n",
       "   song_id  like_cnt_song  \n",
       "0        0       0.616807  \n",
       "1        1       0.000000  \n",
       "2        2       0.000000  \n",
       "3        3      22.996574  \n",
       "4        4       0.297234  "
      ]
     },
     "execution_count": 7,
     "metadata": {},
     "output_type": "execute_result"
    }
   ],
   "source": [
    "song_data.rename(columns={'id':'song_id', 'song_gn_dtl_gnr_basket': 'gnr'}, inplace=True)\n",
    "song_data = song_data.astype({'issue_date':'int64'})\n",
    "song_data.head()"
   ]
  },
  {
   "cell_type": "markdown",
   "id": "ec6f0145",
   "metadata": {},
   "source": [
    "## 노래별 가중치 설정"
   ]
  },
  {
   "cell_type": "code",
   "execution_count": 8,
   "id": "a6cd3d95",
   "metadata": {},
   "outputs": [
    {
     "data": {
      "text/plain": [
       "count    591216.000000\n",
       "mean         18.528749\n",
       "std          73.444383\n",
       "min           0.005000\n",
       "25%           0.302632\n",
       "50%           1.509804\n",
       "75%           8.990398\n",
       "max        3548.345552\n",
       "Name: like_cnt_song, dtype: float64"
      ]
     },
     "execution_count": 8,
     "metadata": {},
     "output_type": "execute_result"
    },
    {
     "data": {
      "image/png": "[encoded data removed]",
      "text/plain": [
       "<Figure size 640x480 with 1 Axes>"
      ]
     },
     "metadata": {},
     "output_type": "display_data"
    }
   ],
   "source": [
    "# 좋아요 개수 분포 확인을 위한 코드\n",
    "clean_song_data = song_data[song_data['like_cnt_song'] > 0]\n",
    "clean_song_data['like_cnt_song'].hist(bins=100)\n",
    "clean_song_data['like_cnt_song'].describe()"
   ]
  },
  {
   "cell_type": "code",
   "execution_count": 9,
   "id": "63d1141b",
   "metadata": {},
   "outputs": [
    {
     "data": {
      "text/html": [
       "<div>\n",
       "<style scoped>\n",
       "    .dataframe tbody tr th:only-of-type {\n",
       "        vertical-align: middle;\n",
       "    }\n",
       "\n",
       "    .dataframe tbody tr th {\n",
       "        vertical-align: top;\n",
       "    }\n",
       "\n",
       "    .dataframe thead th {\n",
       "        text-align: right;\n",
       "    }\n",
       "</style>\n",
       "<table border=\"1\" class=\"dataframe\">\n",
       "  <thead>\n",
       "    <tr style=\"text-align: right;\">\n",
       "      <th></th>\n",
       "      <th>gnr</th>\n",
       "      <th>issue_date</th>\n",
       "      <th>album_id</th>\n",
       "      <th>artist_id_basket</th>\n",
       "      <th>song_name</th>\n",
       "      <th>artist_name_basket</th>\n",
       "      <th>song_id</th>\n",
       "      <th>like_cnt_song</th>\n",
       "      <th>weight</th>\n",
       "    </tr>\n",
       "  </thead>\n",
       "  <tbody>\n",
       "    <tr>\n",
       "      <th>0</th>\n",
       "      <td>[GN0901]</td>\n",
       "      <td>20140512</td>\n",
       "      <td>2255639</td>\n",
       "      <td>[2727]</td>\n",
       "      <td>Feelings</td>\n",
       "      <td>[Various Artists]</td>\n",
       "      <td>0</td>\n",
       "      <td>0.616807</td>\n",
       "      <td>0.85</td>\n",
       "    </tr>\n",
       "    <tr>\n",
       "      <th>1</th>\n",
       "      <td>[GN1601, GN1606]</td>\n",
       "      <td>20080421</td>\n",
       "      <td>376431</td>\n",
       "      <td>[29966]</td>\n",
       "      <td>Bach : Partita No. 4 In D Major, BWV 828 - II....</td>\n",
       "      <td>[Murray Perahia]</td>\n",
       "      <td>1</td>\n",
       "      <td>0.000000</td>\n",
       "      <td>0.00</td>\n",
       "    </tr>\n",
       "    <tr>\n",
       "      <th>2</th>\n",
       "      <td>[GN0901]</td>\n",
       "      <td>20180518</td>\n",
       "      <td>4698747</td>\n",
       "      <td>[3361]</td>\n",
       "      <td>Solsbury Hill (Remastered 2002)</td>\n",
       "      <td>[Peter Gabriel]</td>\n",
       "      <td>2</td>\n",
       "      <td>0.000000</td>\n",
       "      <td>0.00</td>\n",
       "    </tr>\n",
       "    <tr>\n",
       "      <th>3</th>\n",
       "      <td>[GN1102, GN1101]</td>\n",
       "      <td>20151016</td>\n",
       "      <td>2644882</td>\n",
       "      <td>[838543]</td>\n",
       "      <td>Feeling Right (Everything Is Nice) (Feat. Popc...</td>\n",
       "      <td>[Matoma]</td>\n",
       "      <td>3</td>\n",
       "      <td>22.996574</td>\n",
       "      <td>0.95</td>\n",
       "    </tr>\n",
       "    <tr>\n",
       "      <th>4</th>\n",
       "      <td>[GN1802, GN1801]</td>\n",
       "      <td>20110824</td>\n",
       "      <td>2008470</td>\n",
       "      <td>[560160]</td>\n",
       "      <td>그남자 그여자</td>\n",
       "      <td>[Jude Law]</td>\n",
       "      <td>4</td>\n",
       "      <td>0.297234</td>\n",
       "      <td>0.80</td>\n",
       "    </tr>\n",
       "    <tr>\n",
       "      <th>5</th>\n",
       "      <td>[GN1701]</td>\n",
       "      <td>20100602</td>\n",
       "      <td>911754</td>\n",
       "      <td>[475840]</td>\n",
       "      <td>Para Los Enamorados</td>\n",
       "      <td>[Bye, Lupita]</td>\n",
       "      <td>5</td>\n",
       "      <td>24.995233</td>\n",
       "      <td>0.95</td>\n",
       "    </tr>\n",
       "    <tr>\n",
       "      <th>6</th>\n",
       "      <td>[GN1601, GN1602, GN1614]</td>\n",
       "      <td>20170208</td>\n",
       "      <td>10038397</td>\n",
       "      <td>[162097, 100237]</td>\n",
       "      <td>Sibelius : Valse Triste Op.44 (시벨리우스 : 슬픈 왈츠 작...</td>\n",
       "      <td>[Herbert Blomstedt, San Francisco Symphony]</td>\n",
       "      <td>6</td>\n",
       "      <td>0.857143</td>\n",
       "      <td>0.85</td>\n",
       "    </tr>\n",
       "    <tr>\n",
       "      <th>7</th>\n",
       "      <td>[GN1601, GN1602, GN1614]</td>\n",
       "      <td>20190315</td>\n",
       "      <td>10261160</td>\n",
       "      <td>[105210, 261542]</td>\n",
       "      <td>Superman March (From &amp;#34;Superman&amp;#34; / Live...</td>\n",
       "      <td>[Los Angeles Philharmonic Orchestra, Gustavo D...</td>\n",
       "      <td>7</td>\n",
       "      <td>0.115385</td>\n",
       "      <td>0.80</td>\n",
       "    </tr>\n",
       "    <tr>\n",
       "      <th>8</th>\n",
       "      <td>[GN0301]</td>\n",
       "      <td>20070625</td>\n",
       "      <td>353020</td>\n",
       "      <td>[224583]</td>\n",
       "      <td>Lovers’ Leap (Feat. Qypthone)</td>\n",
       "      <td>[애플스]</td>\n",
       "      <td>8</td>\n",
       "      <td>0.000000</td>\n",
       "      <td>0.00</td>\n",
       "    </tr>\n",
       "    <tr>\n",
       "      <th>9</th>\n",
       "      <td>[GN0105, GN0101]</td>\n",
       "      <td>20170320</td>\n",
       "      <td>10047088</td>\n",
       "      <td>[753752]</td>\n",
       "      <td>사랑, 그대라는 멜로디</td>\n",
       "      <td>[진호]</td>\n",
       "      <td>9</td>\n",
       "      <td>7.006667</td>\n",
       "      <td>0.90</td>\n",
       "    </tr>\n",
       "  </tbody>\n",
       "</table>\n",
       "</div>"
      ],
      "text/plain": [
       "                        gnr  issue_date  album_id  artist_id_basket  \\\n",
       "0                  [GN0901]    20140512   2255639            [2727]   \n",
       "1          [GN1601, GN1606]    20080421    376431           [29966]   \n",
       "2                  [GN0901]    20180518   4698747            [3361]   \n",
       "3          [GN1102, GN1101]    20151016   2644882          [838543]   \n",
       "4          [GN1802, GN1801]    20110824   2008470          [560160]   \n",
       "5                  [GN1701]    20100602    911754          [475840]   \n",
       "6  [GN1601, GN1602, GN1614]    20170208  10038397  [162097, 100237]   \n",
       "7  [GN1601, GN1602, GN1614]    20190315  10261160  [105210, 261542]   \n",
       "8                  [GN0301]    20070625    353020          [224583]   \n",
       "9          [GN0105, GN0101]    20170320  10047088          [753752]   \n",
       "\n",
       "                                           song_name  \\\n",
       "0                                           Feelings   \n",
       "1  Bach : Partita No. 4 In D Major, BWV 828 - II....   \n",
       "2                    Solsbury Hill (Remastered 2002)   \n",
       "3  Feeling Right (Everything Is Nice) (Feat. Popc...   \n",
       "4                                            그남자 그여자   \n",
       "5                                Para Los Enamorados   \n",
       "6  Sibelius : Valse Triste Op.44 (시벨리우스 : 슬픈 왈츠 작...   \n",
       "7  Superman March (From &#34;Superman&#34; / Live...   \n",
       "8                      Lovers’ Leap (Feat. Qypthone)   \n",
       "9                                       사랑, 그대라는 멜로디   \n",
       "\n",
       "                                  artist_name_basket  song_id  like_cnt_song  \\\n",
       "0                                  [Various Artists]        0       0.616807   \n",
       "1                                   [Murray Perahia]        1       0.000000   \n",
       "2                                    [Peter Gabriel]        2       0.000000   \n",
       "3                                           [Matoma]        3      22.996574   \n",
       "4                                         [Jude Law]        4       0.297234   \n",
       "5                                      [Bye, Lupita]        5      24.995233   \n",
       "6        [Herbert Blomstedt, San Francisco Symphony]        6       0.857143   \n",
       "7  [Los Angeles Philharmonic Orchestra, Gustavo D...        7       0.115385   \n",
       "8                                              [애플스]        8       0.000000   \n",
       "9                                               [진호]        9       7.006667   \n",
       "\n",
       "  weight  \n",
       "0   0.85  \n",
       "1   0.00  \n",
       "2   0.00  \n",
       "3   0.95  \n",
       "4   0.80  \n",
       "5   0.95  \n",
       "6   0.85  \n",
       "7   0.80  \n",
       "8   0.00  \n",
       "9   0.90  "
      ]
     },
     "execution_count": 9,
     "metadata": {},
     "output_type": "execute_result"
    }
   ],
   "source": [
    "bins = [-1, 0.001, 0.3, 1.5, 9, 3600]  # 구간 분할\n",
    "labels = [0, 0.8, 0.85, 0.9, 0.95]  # 구간별 가중치 지정\n",
    "\n",
    "song_data['weight'] = pd.cut(song_data['like_cnt_song'], bins=bins, labels=labels)  # 구간별 가중치 지정\n",
    "song_data.head(10)"
   ]
  },
  {
   "cell_type": "markdown",
   "id": "7bdd9aa0",
   "metadata": {},
   "source": [
    "# 한국어 -> 영어 변환\n",
    "- 한국어 전처리에 어려움이 있어서, 영어로 모두 변환 후 처리"
   ]
  },
  {
   "cell_type": "code",
   "execution_count": 10,
   "id": "9987dda0",
   "metadata": {},
   "outputs": [
    {
     "data": {
      "text/plain": [
       "'\\nfrom googletrans import Translator\\nimport time\\n\\ndef trans_to_eng(tags):\\n    time.sleep(1)\\n    translator = Translator()\\n    translated = translator.translate(tags, src = \\'ko\\', dest = \\'en\\')\\n    return translated.text\\n\\nfor i in range(len(train_data_sample)):\\n    eng_tags = [trans_to_eng(tag) for tag in train_data_sample[\\'tags\\'][i]]\\n    train_data_sample[\\'tags\\'][i] = eng_tags\\n\\ntrain_data_sample.to_json(\\'../Datasets/train_eng1.json\\', orient=\\'records\\')\\ntrain_data_sample.head(30)\\n\\n    \\n#train_data.head()\\n#eng_tags = [trans_to_eng(tag) for tag in train_data[\\'tags\\'][1]]\\n#print(\"Kor: \", train_data[\\'tags\\'][1])\\n#print(\"Eng: \", eng_tags)\\n'"
      ]
     },
     "execution_count": 10,
     "metadata": {},
     "output_type": "execute_result"
    }
   ],
   "source": [
    "'''\n",
    "from googletrans import Translator\n",
    "import time\n",
    "\n",
    "def trans_to_eng(tags):\n",
    "    time.sleep(1)\n",
    "    translator = Translator()\n",
    "    translated = translator.translate(tags, src = 'ko', dest = 'en')\n",
    "    return translated.text\n",
    "\n",
    "for i in range(len(train_data_sample)):\n",
    "    eng_tags = [trans_to_eng(tag) for tag in train_data_sample['tags'][i]]\n",
    "    train_data_sample['tags'][i] = eng_tags\n",
    "\n",
    "train_data_sample.to_json('../Datasets/train_eng1.json', orient='records')\n",
    "train_data_sample.head(30)\n",
    "\n",
    "    \n",
    "#train_data.head()\n",
    "#eng_tags = [trans_to_eng(tag) for tag in train_data['tags'][1]]\n",
    "#print(\"Kor: \", train_data['tags'][1])\n",
    "#print(\"Eng: \", eng_tags)\n",
    "'''"
   ]
  },
  {
   "cell_type": "code",
   "execution_count": 11,
   "id": "dfce8f10",
   "metadata": {},
   "outputs": [],
   "source": [
    "with open('../Datasets/train_eng1.json', 'r', encoding='utf-8') as f:\n",
    "    json_data = json.load(f)"
   ]
  },
  {
   "cell_type": "code",
   "execution_count": 12,
   "id": "a7c58672",
   "metadata": {},
   "outputs": [
    {
     "data": {
      "text/html": [
       "<div>\n",
       "<style scoped>\n",
       "    .dataframe tbody tr th:only-of-type {\n",
       "        vertical-align: middle;\n",
       "    }\n",
       "\n",
       "    .dataframe tbody tr th {\n",
       "        vertical-align: top;\n",
       "    }\n",
       "\n",
       "    .dataframe thead th {\n",
       "        text-align: right;\n",
       "    }\n",
       "</style>\n",
       "<table border=\"1\" class=\"dataframe\">\n",
       "  <thead>\n",
       "    <tr style=\"text-align: right;\">\n",
       "      <th></th>\n",
       "      <th>tags</th>\n",
       "      <th>song_id</th>\n",
       "      <th>like_cnt</th>\n",
       "    </tr>\n",
       "  </thead>\n",
       "  <tbody>\n",
       "    <tr>\n",
       "      <th>0</th>\n",
       "      <td>[Billow, EDMFLOOR]</td>\n",
       "      <td>[582347, 577988, 4096, 223252, 108282, 279668,...</td>\n",
       "      <td>0</td>\n",
       "    </tr>\n",
       "    <tr>\n",
       "      <th>1</th>\n",
       "      <td>[Mood, night, dawn]</td>\n",
       "      <td>[275780, 507372, 515378, 69298, 485934, 70353,...</td>\n",
       "      <td>11</td>\n",
       "    </tr>\n",
       "    <tr>\n",
       "      <th>2</th>\n",
       "      <td>[dance]</td>\n",
       "      <td>[569611, 526963, 153766, 530329, 259795, 38108...</td>\n",
       "      <td>9</td>\n",
       "    </tr>\n",
       "    <tr>\n",
       "      <th>3</th>\n",
       "      <td>[girl group, Ballade]</td>\n",
       "      <td>[250038, 242240, 566455, 462740, 51643, 148007...</td>\n",
       "      <td>8</td>\n",
       "    </tr>\n",
       "    <tr>\n",
       "      <th>4</th>\n",
       "      <td>[rest, autumn, windless, Smashing, depressed, ...</td>\n",
       "      <td>[582800, 450067, 500795, 204042, 350054, 56196...</td>\n",
       "      <td>7</td>\n",
       "    </tr>\n",
       "    <tr>\n",
       "      <th>5</th>\n",
       "      <td>[OST]</td>\n",
       "      <td>[77272, 570436, 519581, 682976, 254934, 413652...</td>\n",
       "      <td>54</td>\n",
       "    </tr>\n",
       "    <tr>\n",
       "      <th>6</th>\n",
       "      <td>[new song, beat, beat]</td>\n",
       "      <td>[138733, 201419, 581276, 299548, 239410, 40614...</td>\n",
       "      <td>4</td>\n",
       "    </tr>\n",
       "    <tr>\n",
       "      <th>7</th>\n",
       "      <td>[jazz]</td>\n",
       "      <td>[21633, 334647, 522108, 380071, 221363, 364759...</td>\n",
       "      <td>41</td>\n",
       "    </tr>\n",
       "    <tr>\n",
       "      <th>8</th>\n",
       "      <td>[rest, Monday disease, good song, timbre, heal...</td>\n",
       "      <td>[128740, 649662, 348552, 166841, 24913, 323611...</td>\n",
       "      <td>1</td>\n",
       "    </tr>\n",
       "    <tr>\n",
       "      <th>9</th>\n",
       "      <td>[healing]</td>\n",
       "      <td>[270269, 331055, 514773, 300534, 488307, 33533...</td>\n",
       "      <td>2</td>\n",
       "    </tr>\n",
       "  </tbody>\n",
       "</table>\n",
       "</div>"
      ],
      "text/plain": [
       "                                                tags  \\\n",
       "0                                 [Billow, EDMFLOOR]   \n",
       "1                                [Mood, night, dawn]   \n",
       "2                                            [dance]   \n",
       "3                              [girl group, Ballade]   \n",
       "4  [rest, autumn, windless, Smashing, depressed, ...   \n",
       "5                                              [OST]   \n",
       "6                             [new song, beat, beat]   \n",
       "7                                             [jazz]   \n",
       "8  [rest, Monday disease, good song, timbre, heal...   \n",
       "9                                          [healing]   \n",
       "\n",
       "                                             song_id  like_cnt  \n",
       "0  [582347, 577988, 4096, 223252, 108282, 279668,...         0  \n",
       "1  [275780, 507372, 515378, 69298, 485934, 70353,...        11  \n",
       "2  [569611, 526963, 153766, 530329, 259795, 38108...         9  \n",
       "3  [250038, 242240, 566455, 462740, 51643, 148007...         8  \n",
       "4  [582800, 450067, 500795, 204042, 350054, 56196...         7  \n",
       "5  [77272, 570436, 519581, 682976, 254934, 413652...        54  \n",
       "6  [138733, 201419, 581276, 299548, 239410, 40614...         4  \n",
       "7  [21633, 334647, 522108, 380071, 221363, 364759...        41  \n",
       "8  [128740, 649662, 348552, 166841, 24913, 323611...         1  \n",
       "9  [270269, 331055, 514773, 300534, 488307, 33533...         2  "
      ]
     },
     "execution_count": 12,
     "metadata": {},
     "output_type": "execute_result"
    }
   ],
   "source": [
    "train_data_eng = pd.DataFrame(json_data)\n",
    "train_data_eng.head(10)"
   ]
  },
  {
   "cell_type": "markdown",
   "id": "5bd4c7c3",
   "metadata": {},
   "source": [
    "# 태그 자연어 전처리"
   ]
  },
  {
   "cell_type": "markdown",
   "id": "d10c3fba",
   "metadata": {},
   "source": [
    "### 특수문자 및 공백 제외 + 대->소문자 변환"
   ]
  },
  {
   "cell_type": "code",
   "execution_count": 13,
   "id": "d9c35cae",
   "metadata": {},
   "outputs": [
    {
     "name": "stdout",
     "output_type": "stream",
     "text": [
      "['girl group', 'Ballade']\n",
      "['girl', 'group', 'ballade']\n"
     ]
    },
    {
     "name": "stderr",
     "output_type": "stream",
     "text": [
      "C:\\Users\\pigwo\\AppData\\Local\\Temp\\ipykernel_5032\\2424180763.py:12: SettingWithCopyWarning: \n",
      "A value is trying to be set on a copy of a slice from a DataFrame\n",
      "\n",
      "See the caveats in the documentation: https://pandas.pydata.org/pandas-docs/stable/user_guide/indexing.html#returning-a-view-versus-a-copy\n",
      "  train_data_eng['tags'][idx] = eng_tags\n"
     ]
    }
   ],
   "source": [
    "import re\n",
    "\n",
    "print(train_data_eng['tags'][3])\n",
    "pattern = re.compile('[^a-zA-Z0-9]')#특수문자나 공백을 띄어쓰기로 처리할지는 이후 테스트\n",
    "idx = 0\n",
    "for tags in train_data_eng['tags']:\n",
    "    eng_tags = []\n",
    "    for tag in tags:\n",
    "        temp_tags = re.sub(pattern, ' ', tag).lower().split()\n",
    "        for temp_tag in temp_tags:\n",
    "            eng_tags.append(temp_tag)\n",
    "    train_data_eng['tags'][idx] = eng_tags\n",
    "    idx += 1\n",
    "print(train_data_eng['tags'][3])"
   ]
  },
  {
   "cell_type": "markdown",
   "id": "da78efbc",
   "metadata": {},
   "source": [
    "### Stopwords 제거"
   ]
  },
  {
   "cell_type": "code",
   "execution_count": 14,
   "id": "a42b28a7",
   "metadata": {},
   "outputs": [
    {
     "name": "stdout",
     "output_type": "stream",
     "text": [
      "['work', 'out']\n",
      "['work']\n",
      "['cafe', 'rest', 'coffee', 'and', 'drive', 'windless']\n",
      "['cafe', 'rest', 'coffee', 'drive', 'windless']\n",
      "['mood', 'work', 'out']\n",
      "['mood', 'work']\n",
      "['hip', 'hop', 'label', 'crew', 'lab', 'domestic', 'hip', 'hop', 'trend', 'show', 'me', 'the', 'money', 'swag', 'aomg', 'hilite', '2010']\n",
      "['hip', 'hop', 'label', 'crew', 'lab', 'domestic', 'hip', 'hop', 'trend', 'show', 'money', 'swag', 'aomg', 'hilite', '2010']\n",
      "['game', 'nexon', 'need', 'for', 'speed', 'ost', 'needforspeed', 'need', 'force', 'feed', 'edge']\n",
      "['game', 'nexon', 'need', 'speed', 'ost', 'needforspeed', 'need', 'force', 'feed', 'edge']\n",
      "['rest', 'performance', 'song', 'piano', 'piano', 'good', 'music', 'to', 'listen', 'to', 'in', 'the', 'cafe', 'americano', 'lyric', 'new', 'age', 'piano', 'performance', 'clearing', 'waking', 'up', 'breakfast']\n",
      "['rest', 'performance', 'song', 'piano', 'piano', 'good', 'music', 'listen', 'cafe', 'americano', 'lyric', 'new', 'age', 'piano', 'performance', 'clearing', 'waking', 'breakfast']\n",
      "['my', 'type', 'sleep', 'emotion', 'windless', 'dawn']\n",
      "['type', 'sleep', 'emotion', 'windless', 'dawn']\n",
      "['album', 'of', 'the', 'year', 'year', 'end', 'settlement', 'park', 'hyo', 'jae', 'rock', 'school', 'of', 'lock', '2017', 'rock']\n",
      "['album', 'year', 'year', 'end', 'settlement', 'park', 'hyo', 'jae', 'rock', 'school', 'lock', '2017', 'rock']\n",
      "['rest', 'labor', 'performance', 'song', 'piano', 'study', 'classic', 'before', 'sleeping', 'bed', 'lullaby', 'insomnia']\n",
      "['rest', 'labor', 'performance', 'song', 'piano', 'study', 'classic', 'sleeping', 'bed', 'lullaby', 'insomnia']\n",
      "['in', 'amuronami', 'setlist']\n",
      "['amuronami', 'setlist']\n",
      "['work', 'out']\n",
      "['work']\n",
      "['rainy', 'day', 'emotion', 'alone', 'dawn', 'dawn', 'depressed', 'tokodak', 'sensi', 'consolation', 'the', 'day', 'i', 'want', 'to', 'cry']\n",
      "['rainy', 'day', 'emotion', 'alone', 'dawn', 'dawn', 'depressed', 'tokodak', 'sensi', 'consolation', 'day', 'want', 'cry']\n",
      "['work', 'out']\n",
      "['work']\n",
      "['cheering', 'tokodak', 'examinee', 'sat', 'positive', 'mood', 'test', 'stress', 'cheer', 'up', 'exciting']\n",
      "['cheering', 'tokodak', 'examinee', 'sat', 'positive', 'mood', 'test', 'stress', 'cheer', 'exciting']\n",
      "['winter', 'calm', 'and', 'warm', 'acoustic', 'music']\n",
      "['winter', 'calm', 'warm', 'acoustic', 'music']\n",
      "['end', 'of', 'the', 'century', 'calm', 'emotion']\n",
      "['end', 'century', 'calm', 'emotion']\n",
      "['in', 'the', 'update']\n",
      "['update']\n",
      "['a', 'song', 'i', 'heard', 'about', 'once', 'ballade', 'emotion', 'famous', 'dawn', 'highly']\n",
      "['song', 'heard', 'ballade', 'emotion', 'famous', 'dawn', 'highly']\n",
      "['stress', 'work', 'out']\n",
      "['stress', 'work']\n",
      "['why', 'there', 'are', 'many', 'female', 'singers', 'there', 'are', 'many', 'idols', 'taste']\n",
      "['many', 'female', 'singers', 'many', 'idols', 'taste']\n",
      "['rainy', 'day', 'emotion', 'night', 'cafe', 'windless', 'dawn', 'drive', 'a', 'good', 'song', 'to', 'hear', 'at', 'night']\n",
      "['rainy', 'day', 'emotion', 'night', 'cafe', 'windless', 'dawn', 'drive', 'good', 'song', 'hear', 'night']\n",
      "['cheering', 'rest', 'house', 'cock', 'work', 'out', 'sweet', 'store', 'spring', 'carol', 'emotional', 'sensual']\n",
      "['cheering', 'rest', 'house', 'cock', 'work', 'sweet', 'store', 'spring', 'carol', 'emotional', 'sensual']\n",
      "['emotional', 'stimulus', 'han', 'river', 'a', 'good', 'song', 'to', 'hear', 'at', 'night', 'dawn', 'summer', 'night']\n",
      "['emotional', 'stimulus', 'han', 'river', 'good', 'song', 'hear', 'night', 'dawn', 'summer', 'night']\n",
      "['after', '2000', 'toray', 'still', 'rhcp']\n",
      "['2000', 'toray', 'still', 'rhcp']\n",
      "['calm', 'song', 'quiet', 'song', 'bus', 'window', 'lyrics', 'melody', 'cool', 'night', 'walk', 'sleeping', 'i']\n",
      "['calm', 'song', 'quiet', 'song', 'bus', 'window', 'lyrics', 'melody', 'cool', 'night', 'walk', 'sleeping']\n",
      "['emotion', 'start', 'depart', 'new', 'year', 'consolation', '2020', 'love', 'year', 'lover', 'go', 'for', 'it']\n",
      "['emotion', 'start', 'depart', 'new', 'year', 'consolation', '2020', 'love', 'year', 'lover', 'go']\n",
      "['rest', 'night', 'dawn', 'my', 'type', 'lofi', 'melanchole', 'comfortable', 'bedroom', 'pop', 'chill']\n",
      "['rest', 'night', 'dawn', 'type', 'lofi', 'melanchole', 'comfortable', 'bedroom', 'pop', 'chill']\n",
      "['when', 'driving', 'mood', 'nod']\n",
      "['driving', 'mood', 'nod']\n",
      "['quiet', 'do', 'not', 'know', 'well', 'indie', 'doleful']\n",
      "['quiet', 'know', 'well', 'indie', 'doleful']\n",
      "['rainy', 'day', 'suggestion', 'the', 'rainy', 'season', 'r', 'b', 'atmosphere', 'sing', 'r']\n",
      "['rainy', 'day', 'suggestion', 'rainy', 'season', 'r', 'b', 'atmosphere', 'sing', 'r']\n",
      "['my', 'type', 'pop', 'melon', 'chart', 'no', 'answer', 'pop', 'chart', 'billboard', 'pop']\n",
      "['type', 'pop', 'melon', 'chart', 'answer', 'pop', 'chart', 'billboard', 'pop']\n",
      "['my', 'own', 'best3', 'fish', 'shoes', 'recommended', 'music', 'of', 'indie', 'artists', 'indie']\n",
      "['best3', 'fish', 'shoes', 'recommended', 'music', 'indie', 'artists', 'indie']\n",
      "['finals', 'world', 'of', 'music']\n",
      "['finals', 'world', 'music']\n",
      "['day', 'off', 'idol', 'dance', 'autumn', 'drive', 'travel', 'mood', '2000s', '90s', 'exciting']\n",
      "['day', 'idol', 'dance', 'autumn', 'drive', 'travel', 'mood', '2000s', '90s', 'exciting']\n",
      "['song', 'ga', 'in', 'trosing', 'jung', 'mi', 'ae']\n",
      "['song', 'ga', 'trosing', 'jung', 'mi', 'ae']\n",
      "['me', 'weather', 'music', 'afternoon']\n",
      "['weather', 'music', 'afternoon']\n",
      "['store', 'music', 'work', 'out', 'exciting', 'music', 'drive', 'mood', 'beat']\n",
      "['store', 'music', 'work', 'exciting', 'music', 'drive', 'mood', 'beat']\n",
      "['travel', 'spring', 'walk', 'in', 'the', 'landscape']\n",
      "['travel', 'spring', 'walk', 'landscape']\n",
      "['ahn', 'ye', 'eun', 's', 'solo', 'performance', 'ahn', 'ye', 'eun', 'witch', 'hongyeon', 'sister']\n",
      "['ahn', 'ye', 'eun', 'solo', 'performance', 'ahn', 'ye', 'eun', 'witch', 'hongyeon', 'sister']\n",
      "['urban', 'overseas', 'r', 'a', 'soul', 'rnbsoul', 'alter', 'r', 'b', 'contemporary', 'urban', 'contemporary', 'alternative', 'dreamy']\n",
      "['urban', 'overseas', 'r', 'soul', 'rnbsoul', 'alter', 'r', 'b', 'contemporary', 'urban', 'contemporary', 'alternative', 'dreamy']\n",
      "['when', 'you', 'are', 'depressed', 'the', 'latest', 'pop', 'poplock', 'lock', 'pop', 'mood', 'poprock', 'rock', 'pop']\n",
      "['depressed', 'latest', 'pop', 'poplock', 'lock', 'pop', 'mood', 'poprock', 'rock', 'pop']\n",
      "['as', 'if', 'it', 'was', 'the', 'first', 'time', 'jazz']\n",
      "['first', 'time', 'jazz']\n",
      "['store', 'music', 'cafe', 'r', 'b', 'work', 'out', 'drive', 'travel', 'mood', 'love', 'soul', 'exciting']\n",
      "['store', 'music', 'cafe', 'r', 'b', 'work', 'drive', 'travel', 'mood', 'love', 'soul', 'exciting']\n",
      "['good', 'from', 'introduction', 'thump', 'a', 'good', 'song', 'to', 'hear', 'when', 'working', 'drive', 'pop', 'song', 'introduction', 'mood', 'pop', 'exciting']\n",
      "['good', 'introduction', 'thump', 'good', 'song', 'hear', 'working', 'drive', 'pop', 'song', 'introduction', 'mood', 'pop', 'exciting']\n",
      "['consolation', 'conversation', 'are', 'you', 'okay', 'tear']\n",
      "['consolation', 'conversation', 'okay', 'tear']\n",
      "['after', 'breaking', 'up', 'ballade', 'emotional', 'music', 'farewell', 'song', 'parting', 'ballad', 'emotional', 'ballad', 'parting', 'sensitivity', 'farewell']\n",
      "['breaking', 'ballade', 'emotional', 'music', 'farewell', 'song', 'parting', 'ballad', 'emotional', 'ballad', 'parting', 'sensitivity', 'farewell']\n",
      "['hip', 'hop', 'my', 'type', 'sensual', 'drive', 'groove', 'travel', 'mood', 'unique', 'drive', 'trendy']\n",
      "['hip', 'hop', 'type', 'sensual', 'drive', 'groove', 'travel', 'mood', 'unique', 'drive', 'trendy']\n",
      "['era', 'of', 'charts', 'domestic', 'chart']\n",
      "['era', 'charts', 'domestic', 'chart']\n",
      "['hip', 'hop', 'sad', 'hip', 'hop', 'emotional', 'hip', 'hop', 'tear', 'when', 'sad']\n",
      "['hip', 'hop', 'sad', 'hip', 'hop', 'emotional', 'hip', 'hop', 'tear', 'sad']\n",
      "['dance', 'memory', 'drive', 'night', 'mood', 'i', 've', 'heard', 'a', 'lot', 'pop', 'song', 'old', 'pop', 'song', 'advertising', 'music', 'exciting']\n",
      "['dance', 'memory', 'drive', 'night', 'mood', 'heard', 'lot', 'pop', 'song', 'old', 'pop', 'song', 'advertising', 'music', 'exciting']\n",
      "['summer', 'overseas', 'work', 'out', 'drive', 'pop', 'edm', 'pop', 'song', 'stress']\n",
      "['summer', 'overseas', 'work', 'drive', 'pop', 'edm', 'pop', 'song', 'stress']\n",
      "['recommended', 'song', 'rest', 'work', 'out', 'healing', 'on', 'the', 'way', 'to', 'work', 'trendy', 'mood', 'refined']\n",
      "['recommended', 'song', 'rest', 'work', 'healing', 'way', 'work', 'trendy', 'mood', 'refined']\n",
      "['work', 'out', 'bicycle']\n",
      "['work', 'bicycle']\n",
      "['indie', 'my', 'own', 'best3', 'fish', 'shoes', 'new', 'spring', 'indie']\n",
      "['indie', 'best3', 'fish', 'shoes', 'new', 'spring', 'indie']\n",
      "['home', 'sports', 'work', 'out', 'home', 'training', 'fresh', 'rock', 'rock']\n",
      "['home', 'sports', 'work', 'home', 'training', 'fresh', 'rock', 'rock']\n",
      "['sean', 'mendes', 'korean', 'emotion', 'my', 'type', 'singer', 'songwriter', 'atmosphere', 'timbre', 'mood', 'trendy', 'pop']\n",
      "['sean', 'mendes', 'korean', 'emotion', 'type', 'singer', 'songwriter', 'atmosphere', 'timbre', 'mood', 'trendy', 'pop']\n",
      "['when', 'you', 'are', 'depressed', 'you', 'can', 'just', 'lie', 'down', 'you', 'don', 't', 'have', 'to', 'pretend', 'to', 'be', 'okay', 'don', 't', 'try', 'to', 'be', 'bright', 'in', 'the', 'process', 'of', 'finding', 'real', 'me']\n",
      "['depressed', 'lie', 'pretend', 'okay', 'try', 'bright', 'process', 'finding', 'real']\n"
     ]
    },
    {
     "name": "stderr",
     "output_type": "stream",
     "text": [
      "C:\\Users\\pigwo\\AppData\\Local\\Temp\\ipykernel_5032\\1469886280.py:12: SettingWithCopyWarning: \n",
      "A value is trying to be set on a copy of a slice from a DataFrame\n",
      "\n",
      "See the caveats in the documentation: https://pandas.pydata.org/pandas-docs/stable/user_guide/indexing.html#returning-a-view-versus-a-copy\n",
      "  train_data_eng['tags'][i] = eng_tags\n"
     ]
    }
   ],
   "source": [
    "import nltk\n",
    "from nltk.corpus import stopwords\n",
    "#nltk.download('popular') # nltk 라이브러리 사용을 위해 다운해야 함\n",
    "\n",
    "stops = set(stopwords.words('english'))\n",
    "\n",
    "for i in range(len(train_data_eng)):\n",
    "    eng_tags = [tag for tag in train_data_eng['tags'][i] if not tag in stops]\n",
    "    if train_data_eng['tags'][i] != eng_tags:\n",
    "        print(train_data_eng['tags'][i])\n",
    "        print(eng_tags)\n",
    "    train_data_eng['tags'][i] = eng_tags"
   ]
  },
  {
   "cell_type": "markdown",
   "id": "3dcb4758",
   "metadata": {},
   "source": [
    "### Stemming"
   ]
  },
  {
   "cell_type": "code",
   "execution_count": 15,
   "id": "59ce240b",
   "metadata": {},
   "outputs": [
    {
     "name": "stderr",
     "output_type": "stream",
     "text": [
      "C:\\Users\\pigwo\\AppData\\Local\\Temp\\ipykernel_5032\\3854077717.py:4: SettingWithCopyWarning: \n",
      "A value is trying to be set on a copy of a slice from a DataFrame\n",
      "\n",
      "See the caveats in the documentation: https://pandas.pydata.org/pandas-docs/stable/user_guide/indexing.html#returning-a-view-versus-a-copy\n",
      "  train_data_eng['tags'][i] = eng_tags\n"
     ]
    }
   ],
   "source": [
    "stemmer = nltk.stem.SnowballStemmer('english')\n",
    "for i in range(len(train_data_eng)):\n",
    "    eng_tags = [stemmer.stem(tag) for tag in train_data_eng['tags'][i]]\n",
    "    train_data_eng['tags'][i] = eng_tags"
   ]
  },
  {
   "cell_type": "markdown",
   "id": "93f2db71",
   "metadata": {},
   "source": [
    "### 중복 제거"
   ]
  },
  {
   "cell_type": "code",
   "execution_count": 16,
   "id": "15a8e3a4",
   "metadata": {},
   "outputs": [
    {
     "name": "stderr",
     "output_type": "stream",
     "text": [
      "C:\\Users\\pigwo\\AppData\\Local\\Temp\\ipykernel_5032\\1253149308.py:3: SettingWithCopyWarning: \n",
      "A value is trying to be set on a copy of a slice from a DataFrame\n",
      "\n",
      "See the caveats in the documentation: https://pandas.pydata.org/pandas-docs/stable/user_guide/indexing.html#returning-a-view-versus-a-copy\n",
      "  train_data_eng['tags'][i] = eng_tags\n"
     ]
    }
   ],
   "source": [
    "for i in range(len(train_data_eng)):\n",
    "    eng_tags = list(dict.fromkeys(train_data_eng['tags'][i]))\n",
    "    train_data_eng['tags'][i] = eng_tags"
   ]
  },
  {
   "cell_type": "markdown",
   "id": "60d08b13",
   "metadata": {},
   "source": [
    "### 한 글자로 된 단어 제거"
   ]
  },
  {
   "cell_type": "code",
   "execution_count": 17,
   "id": "e51883c7",
   "metadata": {},
   "outputs": [
    {
     "name": "stderr",
     "output_type": "stream",
     "text": [
      "C:\\Users\\pigwo\\AppData\\Local\\Temp\\ipykernel_5032\\423532492.py:3: SettingWithCopyWarning: \n",
      "A value is trying to be set on a copy of a slice from a DataFrame\n",
      "\n",
      "See the caveats in the documentation: https://pandas.pydata.org/pandas-docs/stable/user_guide/indexing.html#returning-a-view-versus-a-copy\n",
      "  train_data_eng['tags'][i] = eng_tags\n"
     ]
    }
   ],
   "source": [
    "for i in range(len(train_data_eng)):\n",
    "    eng_tags = [tag for tag in train_data_eng['tags'][i] if len(tag) > 1]\n",
    "    train_data_eng['tags'][i] = eng_tags"
   ]
  },
  {
   "cell_type": "markdown",
   "id": "387ea2ce",
   "metadata": {},
   "source": [
    "### 추가적인 자연어 처리"
   ]
  },
  {
   "cell_type": "code",
   "execution_count": 18,
   "id": "770dddf9",
   "metadata": {},
   "outputs": [
    {
     "name": "stderr",
     "output_type": "stream",
     "text": [
      "C:\\Users\\pigwo\\AppData\\Local\\Temp\\ipykernel_5032\\3699684927.py:5: SettingWithCopyWarning: \n",
      "A value is trying to be set on a copy of a slice from a DataFrame\n",
      "\n",
      "See the caveats in the documentation: https://pandas.pydata.org/pandas-docs/stable/user_guide/indexing.html#returning-a-view-versus-a-copy\n",
      "  train_data_eng['tags'][i] = eng_tags\n"
     ]
    }
   ],
   "source": [
    "# '록' 또는 '락' 이 'lock' 으로 번역되는 문제가 있어서, 'rock' 으로 일괄적으로 수정\n",
    "pattern = re.compile(r'\\block\\b')\n",
    "for i in range(len(train_data_eng)):\n",
    "    eng_tags = [re.sub(pattern, 'rock', tag) for tag in train_data_eng['tags'][i]]\n",
    "    train_data_eng['tags'][i] = eng_tags"
   ]
  },
  {
   "cell_type": "code",
   "execution_count": 19,
   "id": "c7a3f26a",
   "metadata": {},
   "outputs": [
    {
     "data": {
      "text/html": [
       "<div>\n",
       "<style scoped>\n",
       "    .dataframe tbody tr th:only-of-type {\n",
       "        vertical-align: middle;\n",
       "    }\n",
       "\n",
       "    .dataframe tbody tr th {\n",
       "        vertical-align: top;\n",
       "    }\n",
       "\n",
       "    .dataframe thead th {\n",
       "        text-align: right;\n",
       "    }\n",
       "</style>\n",
       "<table border=\"1\" class=\"dataframe\">\n",
       "  <thead>\n",
       "    <tr style=\"text-align: right;\">\n",
       "      <th></th>\n",
       "      <th>tags</th>\n",
       "      <th>song_id</th>\n",
       "      <th>like_cnt</th>\n",
       "    </tr>\n",
       "  </thead>\n",
       "  <tbody>\n",
       "    <tr>\n",
       "      <th>0</th>\n",
       "      <td>[billow, edmfloor]</td>\n",
       "      <td>[582347, 577988, 4096, 223252, 108282, 279668,...</td>\n",
       "      <td>0</td>\n",
       "    </tr>\n",
       "    <tr>\n",
       "      <th>1</th>\n",
       "      <td>[mood, night, dawn]</td>\n",
       "      <td>[275780, 507372, 515378, 69298, 485934, 70353,...</td>\n",
       "      <td>11</td>\n",
       "    </tr>\n",
       "    <tr>\n",
       "      <th>2</th>\n",
       "      <td>[danc]</td>\n",
       "      <td>[569611, 526963, 153766, 530329, 259795, 38108...</td>\n",
       "      <td>9</td>\n",
       "    </tr>\n",
       "    <tr>\n",
       "      <th>3</th>\n",
       "      <td>[girl, group, ballad]</td>\n",
       "      <td>[250038, 242240, 566455, 462740, 51643, 148007...</td>\n",
       "      <td>8</td>\n",
       "    </tr>\n",
       "    <tr>\n",
       "      <th>4</th>\n",
       "      <td>[rest, autumn, windless, smash, depress, balla...</td>\n",
       "      <td>[582800, 450067, 500795, 204042, 350054, 56196...</td>\n",
       "      <td>7</td>\n",
       "    </tr>\n",
       "    <tr>\n",
       "      <th>5</th>\n",
       "      <td>[ost]</td>\n",
       "      <td>[77272, 570436, 519581, 682976, 254934, 413652...</td>\n",
       "      <td>54</td>\n",
       "    </tr>\n",
       "    <tr>\n",
       "      <th>6</th>\n",
       "      <td>[new, song, beat]</td>\n",
       "      <td>[138733, 201419, 581276, 299548, 239410, 40614...</td>\n",
       "      <td>4</td>\n",
       "    </tr>\n",
       "    <tr>\n",
       "      <th>7</th>\n",
       "      <td>[jazz]</td>\n",
       "      <td>[21633, 334647, 522108, 380071, 221363, 364759...</td>\n",
       "      <td>41</td>\n",
       "    </tr>\n",
       "    <tr>\n",
       "      <th>8</th>\n",
       "      <td>[rest, monday, diseas, good, song, timbr, heal...</td>\n",
       "      <td>[128740, 649662, 348552, 166841, 24913, 323611...</td>\n",
       "      <td>1</td>\n",
       "    </tr>\n",
       "    <tr>\n",
       "      <th>9</th>\n",
       "      <td>[heal]</td>\n",
       "      <td>[270269, 331055, 514773, 300534, 488307, 33533...</td>\n",
       "      <td>2</td>\n",
       "    </tr>\n",
       "    <tr>\n",
       "      <th>10</th>\n",
       "      <td>[winter, dinner, store, music, sensibl, cafe, ...</td>\n",
       "      <td>[453616, 81072, 640657, 413422, 689661, 588063...</td>\n",
       "      <td>2</td>\n",
       "    </tr>\n",
       "    <tr>\n",
       "      <th>11</th>\n",
       "      <td>[picnic, emot, mood, afternoon, travel]</td>\n",
       "      <td>[176330, 325736, 787, 331158, 232263, 601927, ...</td>\n",
       "      <td>7</td>\n",
       "    </tr>\n",
       "    <tr>\n",
       "      <th>12</th>\n",
       "      <td>[work]</td>\n",
       "      <td>[265904, 99053, 165390, 647114, 57405, 654396,...</td>\n",
       "      <td>7</td>\n",
       "    </tr>\n",
       "    <tr>\n",
       "      <th>13</th>\n",
       "      <td>[ballad]</td>\n",
       "      <td>[671392, 411561, 453886, 566121, 130906, 18679...</td>\n",
       "      <td>3</td>\n",
       "    </tr>\n",
       "    <tr>\n",
       "      <th>14</th>\n",
       "      <td>[rock]</td>\n",
       "      <td>[258229, 209549, 361437, 314297, 183040, 12810...</td>\n",
       "      <td>10</td>\n",
       "    </tr>\n",
       "    <tr>\n",
       "      <th>15</th>\n",
       "      <td>[martial, art, infinit, challeng]</td>\n",
       "      <td>[111043, 217961, 476443, 384269, 560206, 209803]</td>\n",
       "      <td>12</td>\n",
       "    </tr>\n",
       "    <tr>\n",
       "      <th>16</th>\n",
       "      <td>[cafe, rest, coffe, drive, windless]</td>\n",
       "      <td>[593769, 347475, 473643, 479285, 579862, 44759...</td>\n",
       "      <td>5</td>\n",
       "    </tr>\n",
       "    <tr>\n",
       "      <th>17</th>\n",
       "      <td>[jazz]</td>\n",
       "      <td>[260870, 172652, 224601, 395824, 346163, 49219...</td>\n",
       "      <td>92</td>\n",
       "    </tr>\n",
       "    <tr>\n",
       "      <th>18</th>\n",
       "      <td>[drive, spring, cherri, blossom]</td>\n",
       "      <td>[423708, 53975, 472630, 582547, 642725, 468104...</td>\n",
       "      <td>4</td>\n",
       "    </tr>\n",
       "    <tr>\n",
       "      <th>19</th>\n",
       "      <td>[agreeabl, drive, pop, walk]</td>\n",
       "      <td>[477080, 422700, 611089, 532622, 681062, 54082...</td>\n",
       "      <td>1</td>\n",
       "    </tr>\n",
       "  </tbody>\n",
       "</table>\n",
       "</div>"
      ],
      "text/plain": [
       "                                                 tags  \\\n",
       "0                                  [billow, edmfloor]   \n",
       "1                                 [mood, night, dawn]   \n",
       "2                                              [danc]   \n",
       "3                               [girl, group, ballad]   \n",
       "4   [rest, autumn, windless, smash, depress, balla...   \n",
       "5                                               [ost]   \n",
       "6                                   [new, song, beat]   \n",
       "7                                              [jazz]   \n",
       "8   [rest, monday, diseas, good, song, timbr, heal...   \n",
       "9                                              [heal]   \n",
       "10  [winter, dinner, store, music, sensibl, cafe, ...   \n",
       "11            [picnic, emot, mood, afternoon, travel]   \n",
       "12                                             [work]   \n",
       "13                                           [ballad]   \n",
       "14                                             [rock]   \n",
       "15                  [martial, art, infinit, challeng]   \n",
       "16               [cafe, rest, coffe, drive, windless]   \n",
       "17                                             [jazz]   \n",
       "18                   [drive, spring, cherri, blossom]   \n",
       "19                       [agreeabl, drive, pop, walk]   \n",
       "\n",
       "                                              song_id  like_cnt  \n",
       "0   [582347, 577988, 4096, 223252, 108282, 279668,...         0  \n",
       "1   [275780, 507372, 515378, 69298, 485934, 70353,...        11  \n",
       "2   [569611, 526963, 153766, 530329, 259795, 38108...         9  \n",
       "3   [250038, 242240, 566455, 462740, 51643, 148007...         8  \n",
       "4   [582800, 450067, 500795, 204042, 350054, 56196...         7  \n",
       "5   [77272, 570436, 519581, 682976, 254934, 413652...        54  \n",
       "6   [138733, 201419, 581276, 299548, 239410, 40614...         4  \n",
       "7   [21633, 334647, 522108, 380071, 221363, 364759...        41  \n",
       "8   [128740, 649662, 348552, 166841, 24913, 323611...         1  \n",
       "9   [270269, 331055, 514773, 300534, 488307, 33533...         2  \n",
       "10  [453616, 81072, 640657, 413422, 689661, 588063...         2  \n",
       "11  [176330, 325736, 787, 331158, 232263, 601927, ...         7  \n",
       "12  [265904, 99053, 165390, 647114, 57405, 654396,...         7  \n",
       "13  [671392, 411561, 453886, 566121, 130906, 18679...         3  \n",
       "14  [258229, 209549, 361437, 314297, 183040, 12810...        10  \n",
       "15   [111043, 217961, 476443, 384269, 560206, 209803]        12  \n",
       "16  [593769, 347475, 473643, 479285, 579862, 44759...         5  \n",
       "17  [260870, 172652, 224601, 395824, 346163, 49219...        92  \n",
       "18  [423708, 53975, 472630, 582547, 642725, 468104...         4  \n",
       "19  [477080, 422700, 611089, 532622, 681062, 54082...         1  "
      ]
     },
     "execution_count": 19,
     "metadata": {},
     "output_type": "execute_result"
    }
   ],
   "source": [
    "train_data_sample = train_data_eng.copy()\n",
    "train_data_sample = train_data_sample.reset_index(drop=True)\n",
    "train_data_sample.head(20)"
   ]
  },
  {
   "cell_type": "markdown",
   "id": "8079fb88",
   "metadata": {},
   "source": [
    "## 태그 병합\n",
    "\n",
    "- 같은 노래에 부여된 서로 다른 태그들을 합친다\n",
    "- 그 결과 동일한 태그 리스트가 거의 모든 노래에 부여되었다"
   ]
  },
  {
   "cell_type": "code",
   "execution_count": 20,
   "id": "790f2755",
   "metadata": {},
   "outputs": [
    {
     "data": {
      "text/html": [
       "<div>\n",
       "<style scoped>\n",
       "    .dataframe tbody tr th:only-of-type {\n",
       "        vertical-align: middle;\n",
       "    }\n",
       "\n",
       "    .dataframe tbody tr th {\n",
       "        vertical-align: top;\n",
       "    }\n",
       "\n",
       "    .dataframe thead th {\n",
       "        text-align: right;\n",
       "    }\n",
       "</style>\n",
       "<table border=\"1\" class=\"dataframe\">\n",
       "  <thead>\n",
       "    <tr style=\"text-align: right;\">\n",
       "      <th></th>\n",
       "      <th>tags</th>\n",
       "      <th>song_id</th>\n",
       "      <th>like_cnt</th>\n",
       "    </tr>\n",
       "  </thead>\n",
       "  <tbody>\n",
       "    <tr>\n",
       "      <th>0</th>\n",
       "      <td>[billow, edmfloor]</td>\n",
       "      <td>582347</td>\n",
       "      <td>0</td>\n",
       "    </tr>\n",
       "    <tr>\n",
       "      <th>1</th>\n",
       "      <td>[billow, edmfloor]</td>\n",
       "      <td>577988</td>\n",
       "      <td>0</td>\n",
       "    </tr>\n",
       "    <tr>\n",
       "      <th>2</th>\n",
       "      <td>[billow, edmfloor]</td>\n",
       "      <td>4096</td>\n",
       "      <td>0</td>\n",
       "    </tr>\n",
       "    <tr>\n",
       "      <th>3</th>\n",
       "      <td>[billow, edmfloor]</td>\n",
       "      <td>223252</td>\n",
       "      <td>0</td>\n",
       "    </tr>\n",
       "    <tr>\n",
       "      <th>4</th>\n",
       "      <td>[billow, edmfloor]</td>\n",
       "      <td>108282</td>\n",
       "      <td>0</td>\n",
       "    </tr>\n",
       "    <tr>\n",
       "      <th>5</th>\n",
       "      <td>[billow, edmfloor]</td>\n",
       "      <td>279668</td>\n",
       "      <td>0</td>\n",
       "    </tr>\n",
       "    <tr>\n",
       "      <th>6</th>\n",
       "      <td>[billow, edmfloor]</td>\n",
       "      <td>419946</td>\n",
       "      <td>0</td>\n",
       "    </tr>\n",
       "    <tr>\n",
       "      <th>7</th>\n",
       "      <td>[billow, edmfloor]</td>\n",
       "      <td>430613</td>\n",
       "      <td>0</td>\n",
       "    </tr>\n",
       "    <tr>\n",
       "      <th>8</th>\n",
       "      <td>[billow, edmfloor]</td>\n",
       "      <td>57445</td>\n",
       "      <td>0</td>\n",
       "    </tr>\n",
       "    <tr>\n",
       "      <th>9</th>\n",
       "      <td>[billow, edmfloor]</td>\n",
       "      <td>302788</td>\n",
       "      <td>0</td>\n",
       "    </tr>\n",
       "    <tr>\n",
       "      <th>10</th>\n",
       "      <td>[billow, edmfloor]</td>\n",
       "      <td>354904</td>\n",
       "      <td>0</td>\n",
       "    </tr>\n",
       "    <tr>\n",
       "      <th>11</th>\n",
       "      <td>[billow, edmfloor]</td>\n",
       "      <td>303097</td>\n",
       "      <td>0</td>\n",
       "    </tr>\n",
       "    <tr>\n",
       "      <th>12</th>\n",
       "      <td>[billow, edmfloor]</td>\n",
       "      <td>76018</td>\n",
       "      <td>0</td>\n",
       "    </tr>\n",
       "    <tr>\n",
       "      <th>13</th>\n",
       "      <td>[billow, edmfloor]</td>\n",
       "      <td>532911</td>\n",
       "      <td>0</td>\n",
       "    </tr>\n",
       "    <tr>\n",
       "      <th>14</th>\n",
       "      <td>[billow, edmfloor]</td>\n",
       "      <td>561868</td>\n",
       "      <td>0</td>\n",
       "    </tr>\n",
       "    <tr>\n",
       "      <th>15</th>\n",
       "      <td>[billow, edmfloor]</td>\n",
       "      <td>56844</td>\n",
       "      <td>0</td>\n",
       "    </tr>\n",
       "    <tr>\n",
       "      <th>16</th>\n",
       "      <td>[billow, edmfloor]</td>\n",
       "      <td>211510</td>\n",
       "      <td>0</td>\n",
       "    </tr>\n",
       "    <tr>\n",
       "      <th>17</th>\n",
       "      <td>[billow, edmfloor]</td>\n",
       "      <td>507202</td>\n",
       "      <td>0</td>\n",
       "    </tr>\n",
       "    <tr>\n",
       "      <th>18</th>\n",
       "      <td>[billow, edmfloor]</td>\n",
       "      <td>369332</td>\n",
       "      <td>0</td>\n",
       "    </tr>\n",
       "    <tr>\n",
       "      <th>19</th>\n",
       "      <td>[billow, edmfloor]</td>\n",
       "      <td>41296</td>\n",
       "      <td>0</td>\n",
       "    </tr>\n",
       "    <tr>\n",
       "      <th>20</th>\n",
       "      <td>[billow, edmfloor]</td>\n",
       "      <td>491460</td>\n",
       "      <td>0</td>\n",
       "    </tr>\n",
       "    <tr>\n",
       "      <th>21</th>\n",
       "      <td>[billow, edmfloor]</td>\n",
       "      <td>488758</td>\n",
       "      <td>0</td>\n",
       "    </tr>\n",
       "    <tr>\n",
       "      <th>22</th>\n",
       "      <td>[billow, edmfloor]</td>\n",
       "      <td>444002</td>\n",
       "      <td>0</td>\n",
       "    </tr>\n",
       "    <tr>\n",
       "      <th>23</th>\n",
       "      <td>[billow, edmfloor]</td>\n",
       "      <td>119616</td>\n",
       "      <td>0</td>\n",
       "    </tr>\n",
       "    <tr>\n",
       "      <th>24</th>\n",
       "      <td>[billow, edmfloor]</td>\n",
       "      <td>596833</td>\n",
       "      <td>0</td>\n",
       "    </tr>\n",
       "    <tr>\n",
       "      <th>25</th>\n",
       "      <td>[billow, edmfloor]</td>\n",
       "      <td>340244</td>\n",
       "      <td>0</td>\n",
       "    </tr>\n",
       "    <tr>\n",
       "      <th>26</th>\n",
       "      <td>[billow, edmfloor]</td>\n",
       "      <td>524187</td>\n",
       "      <td>0</td>\n",
       "    </tr>\n",
       "    <tr>\n",
       "      <th>27</th>\n",
       "      <td>[billow, edmfloor]</td>\n",
       "      <td>677131</td>\n",
       "      <td>0</td>\n",
       "    </tr>\n",
       "    <tr>\n",
       "      <th>28</th>\n",
       "      <td>[billow, edmfloor]</td>\n",
       "      <td>528986</td>\n",
       "      <td>0</td>\n",
       "    </tr>\n",
       "    <tr>\n",
       "      <th>29</th>\n",
       "      <td>[billow, edmfloor]</td>\n",
       "      <td>477709</td>\n",
       "      <td>0</td>\n",
       "    </tr>\n",
       "  </tbody>\n",
       "</table>\n",
       "</div>"
      ],
      "text/plain": [
       "                  tags song_id  like_cnt\n",
       "0   [billow, edmfloor]  582347         0\n",
       "1   [billow, edmfloor]  577988         0\n",
       "2   [billow, edmfloor]    4096         0\n",
       "3   [billow, edmfloor]  223252         0\n",
       "4   [billow, edmfloor]  108282         0\n",
       "5   [billow, edmfloor]  279668         0\n",
       "6   [billow, edmfloor]  419946         0\n",
       "7   [billow, edmfloor]  430613         0\n",
       "8   [billow, edmfloor]   57445         0\n",
       "9   [billow, edmfloor]  302788         0\n",
       "10  [billow, edmfloor]  354904         0\n",
       "11  [billow, edmfloor]  303097         0\n",
       "12  [billow, edmfloor]   76018         0\n",
       "13  [billow, edmfloor]  532911         0\n",
       "14  [billow, edmfloor]  561868         0\n",
       "15  [billow, edmfloor]   56844         0\n",
       "16  [billow, edmfloor]  211510         0\n",
       "17  [billow, edmfloor]  507202         0\n",
       "18  [billow, edmfloor]  369332         0\n",
       "19  [billow, edmfloor]   41296         0\n",
       "20  [billow, edmfloor]  491460         0\n",
       "21  [billow, edmfloor]  488758         0\n",
       "22  [billow, edmfloor]  444002         0\n",
       "23  [billow, edmfloor]  119616         0\n",
       "24  [billow, edmfloor]  596833         0\n",
       "25  [billow, edmfloor]  340244         0\n",
       "26  [billow, edmfloor]  524187         0\n",
       "27  [billow, edmfloor]  677131         0\n",
       "28  [billow, edmfloor]  528986         0\n",
       "29  [billow, edmfloor]  477709         0"
      ]
     },
     "execution_count": 20,
     "metadata": {},
     "output_type": "execute_result"
    }
   ],
   "source": [
    "train_data_sample = train_data_sample.explode('song_id', ignore_index=True)\n",
    "train_data_sample.head(30)"
   ]
  },
  {
   "cell_type": "code",
   "execution_count": 21,
   "id": "ec6056ea",
   "metadata": {},
   "outputs": [
    {
     "name": "stdout",
     "output_type": "stream",
     "text": [
      "{'song', 'hit', 'memori', 'group', 'kpop', 'girl', 'reminisc', 'idol', 'windless', 'danc'}\n"
     ]
    }
   ],
   "source": [
    "train_dict = dict()\n",
    "\n",
    "for i in range(len(train_data_sample)):\n",
    "    song = train_data_sample['song_id'][i]\n",
    "    tag = train_data_sample['tags'][i]\n",
    "    \n",
    "    if song in train_dict:\n",
    "        for j in tag:\n",
    "            train_dict[song].add(j)\n",
    "    \n",
    "    else:\n",
    "        train_dict[song] = set(tag)\n",
    "        \n",
    "print(train_dict[157435])"
   ]
  },
  {
   "cell_type": "code",
   "execution_count": 22,
   "id": "4a038475",
   "metadata": {},
   "outputs": [
    {
     "data": {
      "text/plain": [
       "(18275, 3)"
      ]
     },
     "execution_count": 22,
     "metadata": {},
     "output_type": "execute_result"
    }
   ],
   "source": [
    "train_data_sample.drop_duplicates(subset='song_id', keep='first',inplace=True)\n",
    "train_data_sample.shape"
   ]
  },
  {
   "cell_type": "code",
   "execution_count": 23,
   "id": "8674dafe",
   "metadata": {},
   "outputs": [
    {
     "name": "stderr",
     "output_type": "stream",
     "text": [
      "C:\\Users\\pigwo\\AppData\\Local\\Temp\\ipykernel_5032\\1966443478.py:4: SettingWithCopyWarning: \n",
      "A value is trying to be set on a copy of a slice from a DataFrame\n",
      "\n",
      "See the caveats in the documentation: https://pandas.pydata.org/pandas-docs/stable/user_guide/indexing.html#returning-a-view-versus-a-copy\n",
      "  train_data_sample['tags'].iloc[i] = list(train_dict[song])\n"
     ]
    },
    {
     "data": {
      "text/html": [
       "<div>\n",
       "<style scoped>\n",
       "    .dataframe tbody tr th:only-of-type {\n",
       "        vertical-align: middle;\n",
       "    }\n",
       "\n",
       "    .dataframe tbody tr th {\n",
       "        vertical-align: top;\n",
       "    }\n",
       "\n",
       "    .dataframe thead th {\n",
       "        text-align: right;\n",
       "    }\n",
       "</style>\n",
       "<table border=\"1\" class=\"dataframe\">\n",
       "  <thead>\n",
       "    <tr style=\"text-align: right;\">\n",
       "      <th></th>\n",
       "      <th>tags</th>\n",
       "      <th>song_id</th>\n",
       "      <th>like_cnt</th>\n",
       "    </tr>\n",
       "  </thead>\n",
       "  <tbody>\n",
       "    <tr>\n",
       "      <th>0</th>\n",
       "      <td>[edmfloor, billow]</td>\n",
       "      <td>582347</td>\n",
       "      <td>0</td>\n",
       "    </tr>\n",
       "    <tr>\n",
       "      <th>1</th>\n",
       "      <td>[edmfloor, billow]</td>\n",
       "      <td>577988</td>\n",
       "      <td>0</td>\n",
       "    </tr>\n",
       "    <tr>\n",
       "      <th>2</th>\n",
       "      <td>[edmfloor, billow]</td>\n",
       "      <td>4096</td>\n",
       "      <td>0</td>\n",
       "    </tr>\n",
       "    <tr>\n",
       "      <th>3</th>\n",
       "      <td>[edmfloor, billow]</td>\n",
       "      <td>223252</td>\n",
       "      <td>0</td>\n",
       "    </tr>\n",
       "    <tr>\n",
       "      <th>4</th>\n",
       "      <td>[edmfloor, club, billow, stress]</td>\n",
       "      <td>108282</td>\n",
       "      <td>0</td>\n",
       "    </tr>\n",
       "  </tbody>\n",
       "</table>\n",
       "</div>"
      ],
      "text/plain": [
       "                               tags song_id  like_cnt\n",
       "0                [edmfloor, billow]  582347         0\n",
       "1                [edmfloor, billow]  577988         0\n",
       "2                [edmfloor, billow]    4096         0\n",
       "3                [edmfloor, billow]  223252         0\n",
       "4  [edmfloor, club, billow, stress]  108282         0"
      ]
     },
     "execution_count": 23,
     "metadata": {},
     "output_type": "execute_result"
    }
   ],
   "source": [
    "for i in range(len(train_data_sample)):\n",
    "    song = train_data_sample['song_id'].iloc[i]\n",
    "    \n",
    "    train_data_sample['tags'].iloc[i] = list(train_dict[song])\n",
    "\n",
    "train_data_sample.head()"
   ]
  },
  {
   "cell_type": "code",
   "execution_count": 24,
   "id": "dbd80db8",
   "metadata": {},
   "outputs": [
    {
     "data": {
      "text/html": [
       "<div>\n",
       "<style scoped>\n",
       "    .dataframe tbody tr th:only-of-type {\n",
       "        vertical-align: middle;\n",
       "    }\n",
       "\n",
       "    .dataframe tbody tr th {\n",
       "        vertical-align: top;\n",
       "    }\n",
       "\n",
       "    .dataframe thead th {\n",
       "        text-align: right;\n",
       "    }\n",
       "</style>\n",
       "<table border=\"1\" class=\"dataframe\">\n",
       "  <thead>\n",
       "    <tr style=\"text-align: right;\">\n",
       "      <th></th>\n",
       "      <th>tags</th>\n",
       "      <th>song_id</th>\n",
       "      <th>like_cnt</th>\n",
       "      <th>gnr</th>\n",
       "      <th>issue_date</th>\n",
       "      <th>album_id</th>\n",
       "      <th>artist_id_basket</th>\n",
       "      <th>song_name</th>\n",
       "      <th>artist_name_basket</th>\n",
       "      <th>like_cnt_song</th>\n",
       "      <th>weight</th>\n",
       "    </tr>\n",
       "  </thead>\n",
       "  <tbody>\n",
       "    <tr>\n",
       "      <th>0</th>\n",
       "      <td>[edmfloor, billow]</td>\n",
       "      <td>582347</td>\n",
       "      <td>0</td>\n",
       "      <td>[GN1104, GN1103, GN1101]</td>\n",
       "      <td>20171220</td>\n",
       "      <td>10121025</td>\n",
       "      <td>[784873]</td>\n",
       "      <td>No Coming Down</td>\n",
       "      <td>[Nghtmre]</td>\n",
       "      <td>5.892632</td>\n",
       "      <td>0.90</td>\n",
       "    </tr>\n",
       "    <tr>\n",
       "      <th>1</th>\n",
       "      <td>[edmfloor, billow]</td>\n",
       "      <td>577988</td>\n",
       "      <td>0</td>\n",
       "      <td>[GN1014, GN1001]</td>\n",
       "      <td>20180605</td>\n",
       "      <td>10135634</td>\n",
       "      <td>[718938]</td>\n",
       "      <td>Get Out</td>\n",
       "      <td>[CHVRCHES]</td>\n",
       "      <td>178.479183</td>\n",
       "      <td>0.95</td>\n",
       "    </tr>\n",
       "    <tr>\n",
       "      <th>2</th>\n",
       "      <td>[edmfloor, billow]</td>\n",
       "      <td>4096</td>\n",
       "      <td>0</td>\n",
       "      <td>[GN1014, GN1001]</td>\n",
       "      <td>20180605</td>\n",
       "      <td>10135634</td>\n",
       "      <td>[718938]</td>\n",
       "      <td>Miracle</td>\n",
       "      <td>[CHVRCHES]</td>\n",
       "      <td>405.500124</td>\n",
       "      <td>0.95</td>\n",
       "    </tr>\n",
       "    <tr>\n",
       "      <th>3</th>\n",
       "      <td>[edmfloor, billow]</td>\n",
       "      <td>223252</td>\n",
       "      <td>0</td>\n",
       "      <td>[GN2701, GN2702, GN2703, GN1104, GN1103, GN1101]</td>\n",
       "      <td>20180413</td>\n",
       "      <td>10157297</td>\n",
       "      <td>[990703]</td>\n",
       "      <td>Batshit</td>\n",
       "      <td>[Sofi Tukker]</td>\n",
       "      <td>295.274991</td>\n",
       "      <td>0.95</td>\n",
       "    </tr>\n",
       "    <tr>\n",
       "      <th>4</th>\n",
       "      <td>[edmfloor, club, billow, stress]</td>\n",
       "      <td>108282</td>\n",
       "      <td>0</td>\n",
       "      <td>[GN2701, GN2702, GN2703, GN1104, GN1103, GN1101]</td>\n",
       "      <td>20180413</td>\n",
       "      <td>10157297</td>\n",
       "      <td>[990703]</td>\n",
       "      <td>Best Friend (Feat. NERVO, The Knocks &amp; Alisa U...</td>\n",
       "      <td>[Sofi Tukker]</td>\n",
       "      <td>188.843021</td>\n",
       "      <td>0.95</td>\n",
       "    </tr>\n",
       "  </tbody>\n",
       "</table>\n",
       "</div>"
      ],
      "text/plain": [
       "                               tags  song_id  like_cnt  \\\n",
       "0                [edmfloor, billow]   582347         0   \n",
       "1                [edmfloor, billow]   577988         0   \n",
       "2                [edmfloor, billow]     4096         0   \n",
       "3                [edmfloor, billow]   223252         0   \n",
       "4  [edmfloor, club, billow, stress]   108282         0   \n",
       "\n",
       "                                                gnr  issue_date  album_id  \\\n",
       "0                          [GN1104, GN1103, GN1101]    20171220  10121025   \n",
       "1                                  [GN1014, GN1001]    20180605  10135634   \n",
       "2                                  [GN1014, GN1001]    20180605  10135634   \n",
       "3  [GN2701, GN2702, GN2703, GN1104, GN1103, GN1101]    20180413  10157297   \n",
       "4  [GN2701, GN2702, GN2703, GN1104, GN1103, GN1101]    20180413  10157297   \n",
       "\n",
       "  artist_id_basket                                          song_name  \\\n",
       "0         [784873]                                     No Coming Down   \n",
       "1         [718938]                                            Get Out   \n",
       "2         [718938]                                            Miracle   \n",
       "3         [990703]                                            Batshit   \n",
       "4         [990703]  Best Friend (Feat. NERVO, The Knocks & Alisa U...   \n",
       "\n",
       "  artist_name_basket  like_cnt_song weight  \n",
       "0          [Nghtmre]       5.892632   0.90  \n",
       "1         [CHVRCHES]     178.479183   0.95  \n",
       "2         [CHVRCHES]     405.500124   0.95  \n",
       "3      [Sofi Tukker]     295.274991   0.95  \n",
       "4      [Sofi Tukker]     188.843021   0.95  "
      ]
     },
     "execution_count": 24,
     "metadata": {},
     "output_type": "execute_result"
    }
   ],
   "source": [
    "song_tag_appended = pd.merge(train_data_sample, song_data)\n",
    "song_tag_appended = song_tag_appended.astype({'song_id':'int64'})\n",
    "song_tag_appended.head()"
   ]
  },
  {
   "cell_type": "code",
   "execution_count": 25,
   "id": "c646e297",
   "metadata": {},
   "outputs": [
    {
     "name": "stdout",
     "output_type": "stream",
     "text": [
      "<class 'pandas.core.frame.DataFrame'>\n",
      "Int64Index: 18275 entries, 0 to 18274\n",
      "Data columns (total 11 columns):\n",
      " #   Column              Non-Null Count  Dtype   \n",
      "---  ------              --------------  -----   \n",
      " 0   tags                18275 non-null  object  \n",
      " 1   song_id             18275 non-null  int64   \n",
      " 2   like_cnt            18275 non-null  int64   \n",
      " 3   gnr                 18275 non-null  object  \n",
      " 4   issue_date          18275 non-null  int64   \n",
      " 5   album_id            18275 non-null  int64   \n",
      " 6   artist_id_basket    18275 non-null  object  \n",
      " 7   song_name           18275 non-null  object  \n",
      " 8   artist_name_basket  18275 non-null  object  \n",
      " 9   like_cnt_song       18275 non-null  float64 \n",
      " 10  weight              18275 non-null  category\n",
      "dtypes: category(1), float64(1), int64(4), object(5)\n",
      "memory usage: 1.6+ MB\n"
     ]
    }
   ],
   "source": [
    "song_tag_appended.info()"
   ]
  },
  {
   "cell_type": "markdown",
   "id": "4c740d7b",
   "metadata": {},
   "source": [
    "## Word2Vec 사용\n",
    "\n",
    "- 태그 리스트들을 word2vec로 학습시켜 태그 하나와 연관된 다른 태그들을 유추"
   ]
  },
  {
   "cell_type": "code",
   "execution_count": 26,
   "id": "bc470359",
   "metadata": {},
   "outputs": [],
   "source": [
    "#train_data_sample2 = train_data[500:1000].copy()\n",
    "train_data_sample2 = train_data_eng.copy()\n",
    "train_data_sample2 = train_data_sample2.reset_index(drop=True)\n",
    "#train_data_sample2 = train_data"
   ]
  },
  {
   "cell_type": "code",
   "execution_count": 27,
   "id": "3ab58103",
   "metadata": {},
   "outputs": [
    {
     "data": {
      "text/plain": [
       "(510, 100)"
      ]
     },
     "execution_count": 27,
     "metadata": {},
     "output_type": "execute_result"
    }
   ],
   "source": [
    "from gensim.models.word2vec import Word2Vec\n",
    "\n",
    "w2v = Word2Vec(sentences = song_tag_appended['tags'], vector_size = 100, \n",
    "               window = 5, min_count = 15, workers = 4, sg = 1)\n",
    "\n",
    "w2v.wv.vectors.shape"
   ]
  },
  {
   "cell_type": "code",
   "execution_count": 28,
   "id": "4962276a",
   "metadata": {},
   "outputs": [],
   "source": [
    "#print(w2v.wv.most_similar('rock'))"
   ]
  },
  {
   "cell_type": "markdown",
   "id": "80711232",
   "metadata": {},
   "source": [
    "### 각 음악의 태그 평균 벡터 계산"
   ]
  },
  {
   "cell_type": "code",
   "execution_count": 29,
   "id": "5035e4c7",
   "metadata": {},
   "outputs": [],
   "source": [
    "from sklearn.metrics.pairwise import cosine_similarity\n",
    "\n",
    "def get_tag_mean(input_songs, simi_songs):\n",
    "    #print(input_songs)\n",
    "    #print(simi_songs)\n",
    "    user_tag_mean = np.mean([w2v.wv[tag] for tag in input_songs if tag in w2v.wv], axis=0)\n",
    "    if np.any(np.isnan(user_tag_mean)):\n",
    "        user_tag_mean = np.zeros(w2v.vector_size)\n",
    "    song_tag_mean = []\n",
    "    for tags in simi_songs:\n",
    "        song_tags = [tag for tag in tags if tag in w2v.wv]\n",
    "        if len(song_tags) > 0:\n",
    "            temp_mean = np.mean([w2v.wv[tag] for tag in song_tags], axis=0)\n",
    "            if np.any(np.isnan(temp_mean)):\n",
    "                temp_mean = np.zeros(w2v.vector_size)\n",
    "            song_tag_mean.append(temp_mean)\n",
    "        else:\n",
    "            song_tag_mean.append(np.zeros(w2v.vector_size))\n",
    "        \n",
    "    song_tag_mean = np.array(song_tag_mean)\n",
    "    tag_mean_simi = cosine_similarity([user_tag_mean], song_tag_mean)\n",
    "    rec_idx = tag_mean_simi[0].argsort()[::-1]\n",
    "    return rec_idx\n"
   ]
  },
  {
   "cell_type": "markdown",
   "id": "640d14ce",
   "metadata": {},
   "source": [
    "# 단어 간 공동 등장 확률 계산\n",
    "- Word2Vec 에서 관련없는 단어들의 유사도까지 계산하는 문제 해결을 위해 직접 단어 간 공동 등장 확률을 구하기로 함"
   ]
  },
  {
   "cell_type": "code",
   "execution_count": 30,
   "id": "be324a06",
   "metadata": {},
   "outputs": [],
   "source": [
    "def get_tag_public(tag1, tag2, all_tags):\n",
    "    public = 0\n",
    "    total_tags = 0\n",
    "    \n",
    "    for tags in all_tags:\n",
    "        if tag1 in tags and tag2 in tags:\n",
    "            public += 1\n",
    "        if tag1 in tags or tag2 in tags:\n",
    "            total_tags += 1\n",
    "    \n",
    "    if total_tags > 0:\n",
    "        return public / total_tags\n",
    "    else:\n",
    "        return 0.0"
   ]
  },
  {
   "cell_type": "markdown",
   "id": "5869ea5c",
   "metadata": {},
   "source": [
    "## 코사인 유사도 사용\n",
    "\n",
    "- 세부 장르를 사용해 코사인 유사도 측정한다\n",
    "- 그후 유사도를 행렬로 저장한다"
   ]
  },
  {
   "cell_type": "code",
   "execution_count": 31,
   "id": "b998e83c",
   "metadata": {},
   "outputs": [
    {
     "data": {
      "text/plain": [
       "(18275, 197)"
      ]
     },
     "execution_count": 31,
     "metadata": {},
     "output_type": "execute_result"
    }
   ],
   "source": [
    "from sklearn.feature_extraction.text import CountVectorizer\n",
    "\n",
    "song_tag_appended['gnr_literal'] = song_tag_appended['gnr'].apply(lambda x : (' ').join(x))\n",
    "\n",
    "count_vect = CountVectorizer()\n",
    "gnr_mat = count_vect.fit_transform(song_tag_appended['gnr_literal'])\n",
    "\n",
    "gnr_mat.shape"
   ]
  },
  {
   "cell_type": "code",
   "execution_count": 32,
   "id": "60269f30",
   "metadata": {},
   "outputs": [
    {
     "data": {
      "text/plain": [
       "array([[1., 0., 0., ..., 0., 0., 0.],\n",
       "       [0., 1., 1., ..., 0., 0., 0.],\n",
       "       [0., 1., 1., ..., 0., 0., 0.],\n",
       "       ...,\n",
       "       [0., 0., 0., ..., 1., 1., 1.],\n",
       "       [0., 0., 0., ..., 1., 1., 1.],\n",
       "       [0., 0., 0., ..., 1., 1., 1.]])"
      ]
     },
     "execution_count": 32,
     "metadata": {},
     "output_type": "execute_result"
    }
   ],
   "source": [
    "from sklearn.metrics.pairwise import cosine_similarity\n",
    "\n",
    "gnr_sim = cosine_similarity(gnr_mat, gnr_mat)\n",
    "gnr_sim"
   ]
  },
  {
   "cell_type": "code",
   "execution_count": 33,
   "id": "2fde6e50",
   "metadata": {},
   "outputs": [
    {
     "name": "stdout",
     "output_type": "stream",
     "text": [
      "[0. 2. 2. ... 0. 0. 0.]\n",
      "                     gnr  issue_date  album_id artist_id_basket  \\\n",
      "525514  [GN1402, GN1401]    20130506   2200223         [734201]   \n",
      "\n",
      "              song_name artist_name_basket  song_id  like_cnt_song weight  \n",
      "525514  Hey Little Girl          [The Sol]   525514      22.387011   0.95  \n",
      "                             gnr  issue_date  album_id artist_id_basket  \\\n",
      "129701  [GN0901, GN0902, GN1001]    20130917   2201802         [536907]   \n",
      "\n",
      "       song_name artist_name_basket  song_id  like_cnt_song weight  \n",
      "129701   Octagon      [Royal Bangs]   129701       13.74748   0.95  \n",
      "                                     gnr  issue_date  album_id  \\\n",
      "229622  [GN1402, GN1401, GN0901, GN0902]    20061212    528351   \n",
      "\n",
      "       artist_id_basket  song_name artist_name_basket  song_id  like_cnt_song  \\\n",
      "229622         [406781]  Say Hello     [Rosie Thomas]   229622      410.96578   \n",
      "\n",
      "       weight  \n",
      "229622   0.95  \n"
     ]
    }
   ],
   "source": [
    "simi_test = gnr_sim[1, :]\n",
    "simi_test2 = gnr_sim[2, :]\n",
    "print(simi_test + simi_test2)\n",
    "print(song_data[song_data['song_id']==525514])\n",
    "print(song_data[song_data['song_id']==129701])\n",
    "print(song_data[song_data['song_id']==229622])"
   ]
  },
  {
   "cell_type": "markdown",
   "id": "3645e64c",
   "metadata": {},
   "source": [
    "- 노래 id가 주어지면 유사도 순으로 n개의 노래 추출"
   ]
  },
  {
   "cell_type": "code",
   "execution_count": 34,
   "id": "0b569da4",
   "metadata": {},
   "outputs": [
    {
     "name": "stdout",
     "output_type": "stream",
     "text": [
      "[0.00874153 0.00690811 0.00690811 ... 0.00704565 0.00704565 0.00704565]\n"
     ]
    }
   ],
   "source": [
    "from sklearn.feature_extraction.text import CountVectorizer\n",
    "from sklearn.feature_extraction.text import TfidfVectorizer\n",
    "from sklearn.metrics.pairwise import cosine_similarity\n",
    "import numpy as np\n",
    "\n",
    "def calculate_average_vector(matrix):\n",
    "    num_samples, num_features = matrix.shape\n",
    "    average_vector = np.zeros((num_features,))\n",
    "    \n",
    "    for i in range(num_samples):\n",
    "        average_vector += matrix[i].toarray()[0]\n",
    "    \n",
    "    average_vector /= num_samples\n",
    "    return average_vector\n",
    "\n",
    "def get_embedding(songs, mode):\n",
    "    songs['gnr_literal'] = songs['gnr'].apply(lambda x : (' ').join(x))\n",
    "    \n",
    "    if mode == 'cv':\n",
    "        count_vect = CountVectorizer()\n",
    "        gnr_mat = count_vect.fit_transform(songs['gnr_literal'])\n",
    "    \n",
    "    elif mode == 'tf':\n",
    "        tfidf_vect = TfidfVectorizer()\n",
    "        gnr_mat = tfidf_vect.fit_transform(songs['gnr_literal'])\n",
    "        \n",
    "    elif mode == 'aver':\n",
    "        vect = TfidfVectorizer()\n",
    "        tfidf_mat = vect.fit_transform(songs['gnr_literal'])\n",
    "        \n",
    "        gnr_mat = calculate_average_vector(tfidf_mat.T)\n",
    "        \n",
    "    return gnr_mat\n",
    "\n",
    "print(get_embedding(song_tag_appended, 'aver'))\n",
    "\n",
    "def get_sim(song_index, gnr_mat, sim):\n",
    "    if sim == 'cos':\n",
    "        gnr_sim = cosine_similarity(gnr_mat[song_index], gnr_mat)\n",
    "    \n",
    "    elif sim == 'jac':\n",
    "        gnr_sim = np.zeros(gnr_mat.shape[0])\n",
    "        \n",
    "        song_set = set(gnr_mat[song_index].indices)\n",
    "    \n",
    "        for i in range(gnr_mat.shape[0]):\n",
    "            other_set = set(gnr_mat[i].indices)\n",
    "            \n",
    "            union = song_set.union(other_set)\n",
    "            intersection = song_set.intersection(other_set)\n",
    "            \n",
    "            if len(union) != 0:\n",
    "                gnr_sim[i] = len(intersection)/len(union)\n",
    "                \n",
    "    elif sim == 'pea':\n",
    "        gnr_sim = np.zeros(gnr_mat.shape[0])\n",
    "    \n",
    "        a = gnr_mat[song_index].toarray()\n",
    "    \n",
    "        for i in range(gnr_mat.shape[0]):\n",
    "            b = gnr_mat[i].toarray()\n",
    "            b = b.T\n",
    "        \n",
    "            gnr_sim[i] = np.dot((a - np.mean(a)), (b - np.mean(b))) / ((np.linalg.norm(a - np.mean(a))) * (np.linalg.norm(b - np.mean(b))))\n",
    "\n",
    "    return gnr_sim"
   ]
  },
  {
   "cell_type": "code",
   "execution_count": 35,
   "id": "2aa07122",
   "metadata": {},
   "outputs": [
    {
     "name": "stdout",
     "output_type": "stream",
     "text": [
      "  (0, 70)\t1\n",
      "  (0, 69)\t2\n",
      "  (0, 67)\t1\n",
      "  (1, 66)\t4\n",
      "  (1, 53)\t1\n",
      "  (2, 66)\t4\n",
      "  (2, 53)\t1\n",
      "  (3, 70)\t1\n",
      "  (3, 69)\t2\n",
      "  (3, 67)\t1\n",
      "  (3, 187)\t3\n",
      "  (3, 188)\t4\n",
      "  (3, 189)\t3\n",
      "  (4, 70)\t1\n",
      "  (4, 69)\t2\n",
      "  (4, 67)\t1\n",
      "  (4, 187)\t3\n",
      "  (4, 188)\t4\n",
      "  (4, 189)\t3\n",
      "  (5, 70)\t1\n",
      "  (5, 67)\t1\n",
      "  (5, 187)\t3\n",
      "  (5, 189)\t3\n",
      "  (5, 48)\t4\n",
      "  (5, 190)\t2\n",
      "  :\t:\n",
      "  (18256, 121)\t1\n",
      "  (18256, 126)\t4\n",
      "  (18257, 121)\t1\n",
      "  (18258, 121)\t1\n",
      "  (18259, 121)\t1\n",
      "  (18260, 121)\t1\n",
      "  (18261, 121)\t1\n",
      "  (18262, 121)\t1\n",
      "  (18263, 121)\t1\n",
      "  (18264, 121)\t1\n",
      "  (18265, 121)\t1\n",
      "  (18265, 129)\t3\n",
      "  (18266, 121)\t1\n",
      "  (18267, 121)\t1\n",
      "  (18268, 121)\t1\n",
      "  (18269, 67)\t1\n",
      "  (18270, 121)\t1\n",
      "  (18271, 121)\t1\n",
      "  (18271, 129)\t3\n",
      "  (18272, 121)\t1\n",
      "  (18272, 129)\t3\n",
      "  (18273, 121)\t1\n",
      "  (18273, 129)\t3\n",
      "  (18274, 121)\t1\n",
      "  (18274, 129)\t3\n"
     ]
    }
   ],
   "source": [
    "def apply_genre_weight(mat):\n",
    "    genre_nums = mat.getnnz(0)\n",
    "    genre_num_max = max(genre_nums)\n",
    "    genre_weight = np.log(genre_num_max / genre_nums + 1)\n",
    "    \n",
    "    result_mat = mat.copy()\n",
    "    \n",
    "    for i in range(result_mat.shape[0]):\n",
    "        for j in result_mat[i].indices:\n",
    "            result_mat[(i, j)] *= genre_weight[j]\n",
    "    \n",
    "    return result_mat\n",
    "\n",
    "weight_mat_cv = apply_genre_weight(get_embedding(song_tag_appended, 'cv'))\n",
    "print(weight_mat_cv)"
   ]
  },
  {
   "cell_type": "code",
   "execution_count": 36,
   "id": "d42aaab1",
   "metadata": {},
   "outputs": [
    {
     "name": "stdout",
     "output_type": "stream",
     "text": [
      "  (0, 67)\t0.6901634426316346\n",
      "  (0, 69)\t1.5308638144253606\n",
      "  (0, 70)\t1.1612180304637099\n",
      "  (1, 53)\t0.7187516477867525\n",
      "  (1, 66)\t3.783142135473232\n",
      "  (2, 53)\t0.7187516477867525\n",
      "  (2, 66)\t3.783142135473232\n",
      "  (3, 189)\t1.7461050900236805\n",
      "  (3, 188)\t2.300624882315935\n",
      "  (3, 187)\t1.7190439910019486\n",
      "  (3, 67)\t0.38436096126872893\n",
      "  (3, 69)\t0.8525578883755764\n",
      "  (3, 70)\t0.6466973630619155\n",
      "  (4, 189)\t1.7461050900236805\n",
      "  (4, 188)\t2.300624882315935\n",
      "  (4, 187)\t1.7190439910019486\n",
      "  (4, 67)\t0.38436096126872893\n",
      "  (4, 69)\t0.8525578883755764\n",
      "  (4, 70)\t0.6466973630619155\n",
      "  (5, 190)\t0.8746583750666052\n",
      "  (5, 48)\t2.4989223342231397\n",
      "  (5, 189)\t1.7263419506806417\n",
      "  (5, 187)\t1.6995871403661578\n",
      "  (5, 67)\t0.3800106049935089\n",
      "  (5, 70)\t0.639377774927163\n",
      "  :\t:\n",
      "  (18256, 126)\t3.750001425317559\n",
      "  (18256, 121)\t0.9013607388018001\n",
      "  (18257, 121)\t1.7438592223550509\n",
      "  (18258, 121)\t1.7438592223550509\n",
      "  (18259, 121)\t1.7438592223550509\n",
      "  (18260, 121)\t1.7438592223550509\n",
      "  (18261, 121)\t1.7438592223550509\n",
      "  (18262, 121)\t1.7438592223550509\n",
      "  (18263, 121)\t1.7438592223550509\n",
      "  (18264, 121)\t1.7438592223550509\n",
      "  (18265, 129)\t3.0315025369710824\n",
      "  (18265, 121)\t0.9738828314565965\n",
      "  (18266, 121)\t1.7438592223550509\n",
      "  (18267, 121)\t1.7438592223550509\n",
      "  (18268, 121)\t1.7438592223550509\n",
      "  (18269, 67)\t1.3995699051401467\n",
      "  (18270, 121)\t1.7438592223550509\n",
      "  (18271, 129)\t3.0315025369710824\n",
      "  (18271, 121)\t0.9738828314565965\n",
      "  (18272, 129)\t3.0315025369710824\n",
      "  (18272, 121)\t0.9738828314565965\n",
      "  (18273, 129)\t3.0315025369710824\n",
      "  (18273, 121)\t0.9738828314565965\n",
      "  (18274, 129)\t3.0315025369710824\n",
      "  (18274, 121)\t0.9738828314565965\n"
     ]
    }
   ],
   "source": [
    "weight_mat_tf = apply_genre_weight(get_embedding(song_tag_appended, 'tf'))\n",
    "print(weight_mat_tf)"
   ]
  },
  {
   "cell_type": "code",
   "execution_count": 37,
   "id": "54063c57",
   "metadata": {},
   "outputs": [],
   "source": [
    "def find_sim_song(df, sim, mat, songs, emb_mode, genre_imb_mode=False, top_n=0):\n",
    "    simi = np.zeros(len(df['song_id']))\n",
    "    minyear = 3000\n",
    "    \n",
    "    for song in songs:\n",
    "        title_song = df[df['song_id'] == song]\n",
    "        #print(title_song)\n",
    "        if not title_song.empty:\n",
    "            minyear = min(minyear, title_song['issue_date'].values[0]//10000)\n",
    "    \n",
    "    for song in songs:\n",
    "        title_song = df[df['song_id'] == song]\n",
    "        \n",
    "        if title_song.empty:\n",
    "            continue\n",
    "            \n",
    "        title_index = title_song.index.values\n",
    "        \n",
    "        if genre_imb_mode:\n",
    "            if emb_mode == 'cv':\n",
    "                sim_array = get_sim(title_index, weight_mat_cv, sim)\n",
    "            \n",
    "            elif emb_mode == 'tf':\n",
    "                sim_array = get_sim(title_index, weight_mat_tf, sim)\n",
    "            \n",
    "            #elif emb_mode == 'aver':\n",
    "                #sim_array = get_sim(title_index, weight_mat_aver, sim)\n",
    "        \n",
    "        else:\n",
    "            sim_array = get_sim(title_index, mat, sim)\n",
    "            \n",
    "        simi = simi + sim_array\n",
    "    \n",
    "    simi /= len(songs)\n",
    "    \n",
    "    df['similarity'] = simi.reshape(-1, 1)\n",
    "    temp = df.sort_values(by=\"similarity\", ascending=False)\n",
    "    \n",
    "    # for song in songs:\n",
    "    #     title_song = df[df['song_id'] == song]\n",
    "    #     title_index = title_song.index.values\n",
    "        \n",
    "    #     temp = temp[temp.index.values != title_index]\n",
    "    \n",
    "    temp = temp[temp['issue_date'] > minyear*10000]\n",
    "        \n",
    "    # 유사도가 0.5 이하인 경우는 제외\n",
    "    #temp = temp[temp['similarity'] >= 0.5]\n",
    "    if top_n < 1:\n",
    "        temp = temp[temp['similarity'] >= 0.4]\n",
    "        temp = temp.reset_index(drop=True)\n",
    "        return temp\n",
    "    else:\n",
    "        temp = temp.reset_index(drop=True)\n",
    "        return temp.iloc[ : top_n]\n",
    "    \n",
    "    # final_index = temp.index.values[ : top_n]\n",
    "    "
   ]
  },
  {
   "cell_type": "code",
   "execution_count": 38,
   "id": "21b9f83c",
   "metadata": {},
   "outputs": [
    {
     "data": {
      "text/plain": [
       "\"\\nsimilar_songs = find_sim_song(song_tag_appended, 'cos', gnr_mat, [525514, 129701, 229622], 10)\\n\\nsimilar_songs[['song_id', 'similarity', 'issue_date', 'gnr']]\\n\""
      ]
     },
     "execution_count": 38,
     "metadata": {},
     "output_type": "execute_result"
    }
   ],
   "source": [
    "'''\n",
    "similar_songs = find_sim_song(song_tag_appended, 'cos', gnr_mat, [525514, 129701, 229622], 10)\n",
    "\n",
    "similar_songs[['song_id', 'similarity', 'issue_date', 'gnr']]\n",
    "'''"
   ]
  },
  {
   "cell_type": "markdown",
   "id": "cd4fd134",
   "metadata": {},
   "source": [
    "## 노래 추천\n",
    "\n",
    "- w2v로 추출한 태그에 해당하는 플레이리스트\n",
    "- 세부 장르의 유사도가 높은 노래 리스트\n",
    "- 히스토리(test 플레이리스트)의 발행 연도와 같은 연도에 발행한 노래"
   ]
  },
  {
   "cell_type": "code",
   "execution_count": 39,
   "id": "11bfc9e0",
   "metadata": {},
   "outputs": [
    {
     "data": {
      "text/plain": [
       "\"\\ndef song_recommend(tags, songs, tag_df, song_df, sim_mat):\\n    ts = tags\\n    \\n    # 태그가 존재할 경우 + 태그의 개수가 3개 미만인경우 w2v로 태그를 3개까지 늘린다\\n    all_tags = []\\n    if len(ts) != 0 and len(ts) < 3:\\n        for tag in ts:\\n            sim_tags = w2v.wv.most_similar(tag)\\n            for t in sim_tags:\\n                all_tags.append(t)\\n        all_tags = sorted(all_tags, key = lambda x : -x[1])\\n        i = 0\\n        while len(ts) != 0 and len(ts) < 3:\\n            tag = all_tags[i][0]\\n            if tag not in ts:\\n                ts.append(tag)\\n                i += 1\\n\\n    # 해당 태그가 존재하는 플레이리스트의 노래를 추출하고 등장 빈도수로 정렬한다\\n    tag_songs = dict()\\n    \\n    for tag in ts:\\n        for i in range(len(tag_df['song_id'])):\\n            if tag in tag_df['tags'][i]:\\n                \\n                for ss in tag_df['song_id'][i]:\\n                    if not ss in songs:\\n                        \\n                        if ss in tag_songs:\\n                            tag_songs[ss] += 1\\n                            \\n                        else:\\n                            tag_songs[ss] = 1\\n                        \\n    tag_songs = sorted(tag_songs.items(), key=lambda x: x[1], reverse=True)\\n    \\n    # 기존 노래(히스토리)가 있는 경우 장르 유사도를 계산해\\n    #상위 100개의 노래를 찾아낸다\\n    if len(songs) > 0:\\n        simi_songs = find_sim_song(song_df, sim_mat, songs, 100)\\n        print(simi_songs)\\n    \\n    # 기존 노래(히스토리)가 없는 경우 최신 노래(2018~2023년도)를 찾아낸다\\n    else:\\n        simi_songs = song_df\\n        simi_songs = simi_songs[simi_songs['issue_date'] > 20180000]\\n        simi_songs = simi_songs[simi_songs['issue_date'] < 20240000]\\n    \\n    # 태그로 만들어낸 플레이리스트와 장르 유사도로 만들어낸 노래 목록\\n    # 둘 모두에 존재하는 노래 10개 추출한다\\n    recommended = []\\n    index = 0\\n    \\n    while len(recommended) < 10 and index < len(tag_songs):\\n        tag_song = tag_songs[index][0]\\n        \\n        if tag_song in simi_songs:\\n            recommended.append(tag_song)\\n            \\n        index += 1\\n        \\n    # 둘 모두에 존재하는 노래가 10개 미만인 경우\\n    # 각각에서 우선순위가 높은 노래들을 추출한다   \\n    if len(recommended) < 10:\\n        \\n        # 태그와 유사도 두 부분에서 동일한 개수(홀수일 경우 태그 > 유사도) 추출\\n        # sc = 유사도 부분에서 추출할 노래의 개수\\n        if len(recommended) % 2 == 0:\\n            sc = (10-len(recommended)) / 2\\n        else:\\n            sc = (10-len(recommended)) // 2\\n        \\n        # 태그는 있고 히스토리가 없는 경우 태그 부분에서 10개를 추출하기 위한 코드\\n        if len(songs) == 0:\\n            sc = 0\\n        \\n        # 이미 추출한 노래를 제외하고 태그 부분에서 정해진 개수만큼 추출한다\\n        # 태그가 없을 경우 동작하지 않음\\n        index = 0\\n        while len(tag_songs) != 0 and len(recommended) < (10 - sc):\\n            tag_song = tag_songs[index][0]\\n            \\n            if not tag_song in recommended:\\n                recommended.append(tag_song)\\n            \\n            index += 1\\n        \\n        # 이미 추출한 노래를 제외하고 추천 노래가 10개가 될떄까지\\n        # 유사도 부분에서 추출한다\\n        index = 0\\n        while len(recommended) < 10:\\n            simi_song = simi_songs['song_id'].values[index]\\n            \\n            if not simi_song in recommended:\\n                recommended.append(simi_song)\\n            \\n            index += 1\\n            \\n    # 추출된 노래 id를 가지고 데이터프레임을 추출한다\\n    rec_index = []\\n    \\n    for rec in recommended:\\n        title_song = song_df[song_df['song_id'] == rec]\\n        title_index = title_song.index\\n        rec_index.append(title_index[0])\\n    \\n    return song_df.iloc[rec_index]\\n\""
      ]
     },
     "execution_count": 39,
     "metadata": {},
     "output_type": "execute_result"
    }
   ],
   "source": [
    "'''\n",
    "def song_recommend(tags, songs, tag_df, song_df, sim_mat):\n",
    "    ts = tags\n",
    "    \n",
    "    # 태그가 존재할 경우 + 태그의 개수가 3개 미만인경우 w2v로 태그를 3개까지 늘린다\n",
    "    all_tags = []\n",
    "    if len(ts) != 0 and len(ts) < 3:\n",
    "        for tag in ts:\n",
    "            sim_tags = w2v.wv.most_similar(tag)\n",
    "            for t in sim_tags:\n",
    "                all_tags.append(t)\n",
    "        all_tags = sorted(all_tags, key = lambda x : -x[1])\n",
    "        i = 0\n",
    "        while len(ts) != 0 and len(ts) < 3:\n",
    "            tag = all_tags[i][0]\n",
    "            if tag not in ts:\n",
    "                ts.append(tag)\n",
    "                i += 1\n",
    "\n",
    "    # 해당 태그가 존재하는 플레이리스트의 노래를 추출하고 등장 빈도수로 정렬한다\n",
    "    tag_songs = dict()\n",
    "    \n",
    "    for tag in ts:\n",
    "        for i in range(len(tag_df['song_id'])):\n",
    "            if tag in tag_df['tags'][i]:\n",
    "                \n",
    "                for ss in tag_df['song_id'][i]:\n",
    "                    if not ss in songs:\n",
    "                        \n",
    "                        if ss in tag_songs:\n",
    "                            tag_songs[ss] += 1\n",
    "                            \n",
    "                        else:\n",
    "                            tag_songs[ss] = 1\n",
    "                        \n",
    "    tag_songs = sorted(tag_songs.items(), key=lambda x: x[1], reverse=True)\n",
    "    \n",
    "    # 기존 노래(히스토리)가 있는 경우 장르 유사도를 계산해\n",
    "    #상위 100개의 노래를 찾아낸다\n",
    "    if len(songs) > 0:\n",
    "        simi_songs = find_sim_song(song_df, sim_mat, songs, 100)\n",
    "        print(simi_songs)\n",
    "    \n",
    "    # 기존 노래(히스토리)가 없는 경우 최신 노래(2018~2023년도)를 찾아낸다\n",
    "    else:\n",
    "        simi_songs = song_df\n",
    "        simi_songs = simi_songs[simi_songs['issue_date'] > 20180000]\n",
    "        simi_songs = simi_songs[simi_songs['issue_date'] < 20240000]\n",
    "    \n",
    "    # 태그로 만들어낸 플레이리스트와 장르 유사도로 만들어낸 노래 목록\n",
    "    # 둘 모두에 존재하는 노래 10개 추출한다\n",
    "    recommended = []\n",
    "    index = 0\n",
    "    \n",
    "    while len(recommended) < 10 and index < len(tag_songs):\n",
    "        tag_song = tag_songs[index][0]\n",
    "        \n",
    "        if tag_song in simi_songs:\n",
    "            recommended.append(tag_song)\n",
    "            \n",
    "        index += 1\n",
    "        \n",
    "    # 둘 모두에 존재하는 노래가 10개 미만인 경우\n",
    "    # 각각에서 우선순위가 높은 노래들을 추출한다   \n",
    "    if len(recommended) < 10:\n",
    "        \n",
    "        # 태그와 유사도 두 부분에서 동일한 개수(홀수일 경우 태그 > 유사도) 추출\n",
    "        # sc = 유사도 부분에서 추출할 노래의 개수\n",
    "        if len(recommended) % 2 == 0:\n",
    "            sc = (10-len(recommended)) / 2\n",
    "        else:\n",
    "            sc = (10-len(recommended)) // 2\n",
    "        \n",
    "        # 태그는 있고 히스토리가 없는 경우 태그 부분에서 10개를 추출하기 위한 코드\n",
    "        if len(songs) == 0:\n",
    "            sc = 0\n",
    "        \n",
    "        # 이미 추출한 노래를 제외하고 태그 부분에서 정해진 개수만큼 추출한다\n",
    "        # 태그가 없을 경우 동작하지 않음\n",
    "        index = 0\n",
    "        while len(tag_songs) != 0 and len(recommended) < (10 - sc):\n",
    "            tag_song = tag_songs[index][0]\n",
    "            \n",
    "            if not tag_song in recommended:\n",
    "                recommended.append(tag_song)\n",
    "            \n",
    "            index += 1\n",
    "        \n",
    "        # 이미 추출한 노래를 제외하고 추천 노래가 10개가 될떄까지\n",
    "        # 유사도 부분에서 추출한다\n",
    "        index = 0\n",
    "        while len(recommended) < 10:\n",
    "            simi_song = simi_songs['song_id'].values[index]\n",
    "            \n",
    "            if not simi_song in recommended:\n",
    "                recommended.append(simi_song)\n",
    "            \n",
    "            index += 1\n",
    "            \n",
    "    # 추출된 노래 id를 가지고 데이터프레임을 추출한다\n",
    "    rec_index = []\n",
    "    \n",
    "    for rec in recommended:\n",
    "        title_song = song_df[song_df['song_id'] == rec]\n",
    "        title_index = title_song.index\n",
    "        rec_index.append(title_index[0])\n",
    "    \n",
    "    return song_df.iloc[rec_index]\n",
    "'''"
   ]
  },
  {
   "cell_type": "code",
   "execution_count": 40,
   "id": "0725f1ef",
   "metadata": {},
   "outputs": [
    {
     "data": {
      "text/plain": [
       "\"\\ndef song_recommend_test(tags, songs, tag_df, song_df, sim_mat):\\n    ts = tags\\n    \\n    # 태그가 존재할 경우 + 태그의 개수가 3개 미만인경우 w2v로 태그를 3개까지 늘린다\\n    all_tags = []\\n    if len(ts) != 0 and len(ts) < 3:\\n        for tag in ts:\\n            sim_tags = w2v.wv.most_similar(tag)\\n            for t in sim_tags:\\n                all_tags.append(t)\\n        all_tags = sorted(all_tags, key = lambda x : -x[1])\\n        i = 0\\n        while len(ts) != 0 and len(ts) < 3:\\n            tag = all_tags[i][0]\\n            if tag not in ts:\\n                ts.append(tag)\\n                i += 1\\n\\n    # 해당 태그가 존재하는 플레이리스트의 노래를 추출하고 등장 빈도수로 정렬한다\\n    tag_songs = dict()\\n    \\n    for tag in ts:\\n        for i in range(len(tag_df['song_id'])):\\n            if tag in tag_df['tags'][i]:\\n                \\n                for ss in tag_df['song_id'][i]:\\n                    if not ss in songs:\\n                        \\n                        if ss in tag_songs:\\n                            tag_songs[ss] += 1\\n                            \\n                        else:\\n                            tag_songs[ss] = 1\\n                        \\n    tag_songs = sorted(tag_songs.items(), key=lambda x: x[1], reverse=True)\\n    \\n    # 기존 노래(히스토리)가 있는 경우 장르 유사도를 계산해\\n    #상위 100개의 노래를 찾아낸다\\n    if len(songs) > 0:\\n        simi_songs = find_sim_song(song_df, sim_mat, songs, 100)\\n    \\n    # 기존 노래(히스토리)가 없는 경우 최신 노래(2018~2023년도)를 찾아낸다\\n    else:\\n        simi_songs = song_df\\n        simi_songs = simi_songs[simi_songs['issue_date'] > 20180000]\\n        simi_songs = simi_songs[simi_songs['issue_date'] < 20240000]\\n    \\n    # 태그로 만들어낸 플레이리스트와 장르 유사도로 만들어낸 노래 목록\\n    # 둘 모두에 존재하는 노래 10개 추출한다\\n    recommended = []\\n    index = 0\\n    \\n    while len(recommended) < 10 and index < len(tag_songs):\\n        tag_song = tag_songs[index][0]\\n        \\n        if tag_song in simi_songs:\\n            recommended.append(tag_song)\\n            \\n        index += 1\\n    \\n    \\n    \\n    # 둘 모두에 존재하는 노래가 10개 미만인 경우\\n    # 각각에서 우선순위가 높은 노래들을 추출한다   \\n    if len(recommended) < 10:\\n        \\n        # 이미 추출한 노래를 제외하고 추천 노래가 10개가 될떄까지\\n        # 유사도 부분에서 추출한다\\n        index = 0\\n        while len(recommended) < 10 and len(simi_songs) != 0 and len(simi_songs) > index:\\n            simi_song = simi_songs['song_id'].values[index]\\n            \\n            if not simi_song in recommended:\\n                recommended.append(simi_song)\\n            \\n            index += 1\\n            \\n        if len(recommended) < 10:\\n            index = 0\\n            while len(tag_songs) != 0 and len(recommended) < 10:\\n                tag_song = tag_songs[index][0]\\n                if not tag_song in recommended:\\n                    recommended.append(tag_song)\\n                index += 1\\n            \\n    # 추출된 노래 id를 가지고 데이터프레임을 추출한다\\n    rec_index = []\\n    \\n    for rec in recommended:\\n        title_song = song_df[song_df['song_id'] == rec]\\n        title_index = title_song.index\\n        rec_index.append(title_index[0])\\n    \\n    return song_df.iloc[rec_index]\\n\""
      ]
     },
     "execution_count": 40,
     "metadata": {},
     "output_type": "execute_result"
    }
   ],
   "source": [
    "'''\n",
    "def song_recommend_test(tags, songs, tag_df, song_df, sim_mat):\n",
    "    ts = tags\n",
    "    \n",
    "    # 태그가 존재할 경우 + 태그의 개수가 3개 미만인경우 w2v로 태그를 3개까지 늘린다\n",
    "    all_tags = []\n",
    "    if len(ts) != 0 and len(ts) < 3:\n",
    "        for tag in ts:\n",
    "            sim_tags = w2v.wv.most_similar(tag)\n",
    "            for t in sim_tags:\n",
    "                all_tags.append(t)\n",
    "        all_tags = sorted(all_tags, key = lambda x : -x[1])\n",
    "        i = 0\n",
    "        while len(ts) != 0 and len(ts) < 3:\n",
    "            tag = all_tags[i][0]\n",
    "            if tag not in ts:\n",
    "                ts.append(tag)\n",
    "                i += 1\n",
    "\n",
    "    # 해당 태그가 존재하는 플레이리스트의 노래를 추출하고 등장 빈도수로 정렬한다\n",
    "    tag_songs = dict()\n",
    "    \n",
    "    for tag in ts:\n",
    "        for i in range(len(tag_df['song_id'])):\n",
    "            if tag in tag_df['tags'][i]:\n",
    "                \n",
    "                for ss in tag_df['song_id'][i]:\n",
    "                    if not ss in songs:\n",
    "                        \n",
    "                        if ss in tag_songs:\n",
    "                            tag_songs[ss] += 1\n",
    "                            \n",
    "                        else:\n",
    "                            tag_songs[ss] = 1\n",
    "                        \n",
    "    tag_songs = sorted(tag_songs.items(), key=lambda x: x[1], reverse=True)\n",
    "    \n",
    "    # 기존 노래(히스토리)가 있는 경우 장르 유사도를 계산해\n",
    "    #상위 100개의 노래를 찾아낸다\n",
    "    if len(songs) > 0:\n",
    "        simi_songs = find_sim_song(song_df, sim_mat, songs, 100)\n",
    "    \n",
    "    # 기존 노래(히스토리)가 없는 경우 최신 노래(2018~2023년도)를 찾아낸다\n",
    "    else:\n",
    "        simi_songs = song_df\n",
    "        simi_songs = simi_songs[simi_songs['issue_date'] > 20180000]\n",
    "        simi_songs = simi_songs[simi_songs['issue_date'] < 20240000]\n",
    "    \n",
    "    # 태그로 만들어낸 플레이리스트와 장르 유사도로 만들어낸 노래 목록\n",
    "    # 둘 모두에 존재하는 노래 10개 추출한다\n",
    "    recommended = []\n",
    "    index = 0\n",
    "    \n",
    "    while len(recommended) < 10 and index < len(tag_songs):\n",
    "        tag_song = tag_songs[index][0]\n",
    "        \n",
    "        if tag_song in simi_songs:\n",
    "            recommended.append(tag_song)\n",
    "            \n",
    "        index += 1\n",
    "    \n",
    "    \n",
    "    \n",
    "    # 둘 모두에 존재하는 노래가 10개 미만인 경우\n",
    "    # 각각에서 우선순위가 높은 노래들을 추출한다   \n",
    "    if len(recommended) < 10:\n",
    "        \n",
    "        # 이미 추출한 노래를 제외하고 추천 노래가 10개가 될떄까지\n",
    "        # 유사도 부분에서 추출한다\n",
    "        index = 0\n",
    "        while len(recommended) < 10 and len(simi_songs) != 0 and len(simi_songs) > index:\n",
    "            simi_song = simi_songs['song_id'].values[index]\n",
    "            \n",
    "            if not simi_song in recommended:\n",
    "                recommended.append(simi_song)\n",
    "            \n",
    "            index += 1\n",
    "            \n",
    "        if len(recommended) < 10:\n",
    "            index = 0\n",
    "            while len(tag_songs) != 0 and len(recommended) < 10:\n",
    "                tag_song = tag_songs[index][0]\n",
    "                if not tag_song in recommended:\n",
    "                    recommended.append(tag_song)\n",
    "                index += 1\n",
    "            \n",
    "    # 추출된 노래 id를 가지고 데이터프레임을 추출한다\n",
    "    rec_index = []\n",
    "    \n",
    "    for rec in recommended:\n",
    "        title_song = song_df[song_df['song_id'] == rec]\n",
    "        title_index = title_song.index\n",
    "        rec_index.append(title_index[0])\n",
    "    \n",
    "    return song_df.iloc[rec_index]\n",
    "'''"
   ]
  },
  {
   "cell_type": "markdown",
   "id": "5d61be16",
   "metadata": {},
   "source": [
    "# 모델 평가\n",
    "- [참고](https://chrisjune-13837.medium.com/%EC%B6%94%EC%B2%9C%EC%8B%9C%EC%8A%A4%ED%85%9C-%EC%84%B1%EB%8A%A5%ED%8F%89%EA%B0%80%EB%B0%A9%EB%B2%95-with-python-9932097f0ff9)"
   ]
  },
  {
   "cell_type": "markdown",
   "id": "efc7f926",
   "metadata": {},
   "source": [
    "# Recall@K"
   ]
  },
  {
   "cell_type": "code",
   "execution_count": 41,
   "id": "39e184f6",
   "metadata": {},
   "outputs": [],
   "source": [
    "def get_recall_k(y_true, y_pred):\n",
    "    recall_k = 0\n",
    "    \n",
    "    true_items = set(y_true)\n",
    "    pred_items = set(y_pred)\n",
    "    intersect_items = len(true_items.intersection(pred_items))\n",
    "    recall = intersect_items / len(true_items) if len(true_items) > 0 else 0\n",
    "    return recall\n",
    "\n",
    "#recall_k = get_recall_k(my_songs1, pred_list)\n",
    "#print(\"Recall@K (K=10): {:.2f}\".format(recall_k))"
   ]
  },
  {
   "cell_type": "markdown",
   "id": "070d02c3",
   "metadata": {},
   "source": [
    "# Precision@K"
   ]
  },
  {
   "cell_type": "code",
   "execution_count": 42,
   "id": "89d69a7d",
   "metadata": {},
   "outputs": [],
   "source": [
    "def get_precision_k(y_true, y_pred):\n",
    "    precision_k = 0\n",
    "    \n",
    "    true_items = set(y_true)\n",
    "    pred_items = set(y_pred)\n",
    "    intersect_items = len(true_items.intersection(pred_items))\n",
    "    recall = intersect_items / len(pred_items) if len(pred_items) > 0 else 0\n",
    "    return recall\n",
    "\n",
    "#precision_k = get_precision_k(my_songs1, pred_list)\n",
    "#print(\"Precision@K (K=10): {:.2f}\".format(precision_k))"
   ]
  },
  {
   "cell_type": "markdown",
   "id": "5bb58283",
   "metadata": {},
   "source": [
    "# Average Precision@K\n",
    "- 아이템 개수가 매우 적은 경우, 모델의 성능 또한 낮아지는 문제가 발생\n",
    "    - 해결방법\n",
    "        1. Thresholding : 사용자 플레이리스트 내 음악이 일정 개수 이상인 경우만 적용\n",
    "        2. Item Weighting : hits 에 1이 아닌 가중치를 이용. 이 때 precision 이 1 보다 크지 않게 하기 위해, 정규화 필요"
   ]
  },
  {
   "cell_type": "code",
   "execution_count": 43,
   "id": "f9271c78",
   "metadata": {},
   "outputs": [],
   "source": [
    "def get_ap_k(y_true, y_pred, k):\n",
    "    pred_items = y_pred[:k]\n",
    "    hits = []\n",
    "    for item in pred_items:\n",
    "        if item in y_true:\n",
    "            hits.append(1)\n",
    "        else:\n",
    "            hits.append(0)\n",
    "    precision_values = []\n",
    "    for i in range(1, k+1):\n",
    "        precision_values.append(sum(hits[:i]) / i)\n",
    "        \n",
    "    #print(precision_values)\n",
    "    \n",
    "    if len(precision_values) == 0:\n",
    "        return 0\n",
    "    else:\n",
    "        return sum(precision_values) / len(precision_values)\n",
    "    \n",
    "#ap_k = get_ap_k(my_songs1, pred_list, 10)\n",
    "#print(\"AP@K (K=10): {:.2f}\".format(ap_k))"
   ]
  },
  {
   "cell_type": "markdown",
   "id": "699dca51",
   "metadata": {},
   "source": [
    "# Mean Average Precision@K"
   ]
  },
  {
   "cell_type": "code",
   "execution_count": 44,
   "id": "c3fa9a46",
   "metadata": {},
   "outputs": [],
   "source": [
    "def get_map_k(y_true, y_pred, k):\n",
    "    sum_ap = 0\n",
    "    for true_item, pred_item in zip(y_true, y_pred):\n",
    "        ap_k = get_ap_k(true_item, pred_item, k)\n",
    "        sum_ap += ap_k\n",
    "    if len(y_true) == 0:\n",
    "        return 0\n",
    "    else:\n",
    "        return sum_ap / len(y_true)\n",
    "    \n",
    "#map_k = get_map_k(all_my_songs, all_pred_songs, 10)\n",
    "#print(\"MAP@K (K=10): {:.2f}\".format(map_k))"
   ]
  },
  {
   "cell_type": "markdown",
   "id": "7967bb7a",
   "metadata": {},
   "source": [
    "# 추천 함수 수정\n",
    "\n",
    "### 사용자 플레이리스트 내 음악의 태그를 포함하는 노래 중에서 장르 유사도를 측정"
   ]
  },
  {
   "cell_type": "code",
   "execution_count": 45,
   "id": "ecf34d31",
   "metadata": {},
   "outputs": [],
   "source": [
    "def song_recommend(tags, songs, song_df, sim, tag_imb_mode, genre_imb_mode, emb_mode):\n",
    "    \n",
    "    ts = tags\n",
    "    tag_simi_songs = []\n",
    "    '''\n",
    "    # 태그가 존재할 경우 + 태그의 개수가 3개 미만인경우 w2v로 태그를 3개까지 늘린다\n",
    "    all_tags = []\n",
    "    if len(ts) != 0 and len(ts) < 3:\n",
    "        for tag in ts:\n",
    "            sim_tags = w2v.wv.most_similar(tag)\n",
    "            for t in sim_tags:\n",
    "                all_tags.append(t)\n",
    "        all_tags = sorted(all_tags, key = lambda x : -x[1])\n",
    "        i = 0\n",
    "        while len(ts) != 0 and len(ts) < 3:\n",
    "            tag = all_tags[i][0]\n",
    "            if tag not in ts:\n",
    "                ts.append(tag)\n",
    "                i += 1\n",
    "    '''\n",
    "    '''\n",
    "    # 해당 태그가 존재하는 플레이리스트의 노래를 추출하고 등장 빈도수로 정렬한다\n",
    "    tag_songs = dict()\n",
    "    \n",
    "    for tag in ts:\n",
    "        #print(\"현재 태그: {}\".format(tag))\n",
    "        for i in range(len(tag_df['song_id'])):\n",
    "            if tag in tag_df['tags'][i]:\n",
    "                #print(\"태그에 맞는 노래: {}\".format(tag))\n",
    "                for ss in tag_df['song_id'][i]:\n",
    "                    #print(ss)\n",
    "                    if ss in tag_songs:\n",
    "                        tag_songs[ss] += 1\n",
    "                            \n",
    "                    else:\n",
    "                        tag_songs[ss] = 1\n",
    "                        \n",
    "    #tag_songs = sorted(tag_songs.items(), key=lambda x: x[1], reverse=True)\n",
    "    tag_songs = {key: value for key, value in tag_songs.items() if value > 0}\n",
    "    tag_songs = list(tag_songs)\n",
    "    tag_songs = song_df[song_df['song_id'].isin(tag_songs)]\n",
    "    tag_songs = tag_songs.reset_index(drop=True)\n",
    "    '''\n",
    "    \n",
    "    sorted_idx = get_tag_mean(ts, song_df['tags'])\n",
    "    tag_simi_songs = song_df.loc[sorted_idx]\n",
    "    tag_songs = tag_simi_songs.iloc[:1000].copy()\n",
    "    tag_songs = tag_songs.reset_index()\n",
    "    \n",
    "    # 기존 노래(히스토리)가 있는 경우 장르 유사도를 계산해\n",
    "    #상위 100개의 노래를 찾아낸다\n",
    "    if len(songs) > 0:\n",
    "        if genre_imb_mode:\n",
    "            w_mat = apply_genre_weight(get_embedding(tag_songs, emb_mode))\n",
    "            simi_songs = find_sim_song(tag_songs, sim, w_mat, songs, emb_mode, False, 100)\n",
    "                \n",
    "        else:\n",
    "            simi_songs = find_sim_song(tag_songs, sim, get_embedding(tag_songs, emb_mode), songs, emb_mode, False, 100)\n",
    "    \n",
    "    # 기존 노래(히스토리)가 없는 경우 최신 노래(2018~2023년도)를 찾아낸다\n",
    "    else:\n",
    "        simi_songs = tag_songs\n",
    "        simi_songs = simi_songs[simi_songs['issue_date'] > 20180000]\n",
    "        simi_songs = simi_songs[simi_songs['issue_date'] < 20240000]\n",
    "    \n",
    "    # 태그로 만들어낸 플레이리스트와 장르 유사도로 만들어낸 노래 목록\n",
    "    # 둘 모두에 존재하는 노래 10개 추출한다\n",
    "    recommended = []\n",
    "    \n",
    "    for rec in simi_songs['song_id']:\n",
    "        title_song = tag_songs[tag_songs['song_id'] == rec]\n",
    "        if not title_song.empty:\n",
    "            title_index = title_song.index\n",
    "            recommended.append(title_index[0])\n",
    "    \n",
    "    return tag_songs.iloc[recommended[:10]]"
   ]
  },
  {
   "cell_type": "markdown",
   "id": "9e992694",
   "metadata": {},
   "source": [
    "### 사용자 플레이리스트 내 음악과 높은 유사도를 가진 곡들 중, 태그 유사도가 높은 곡을 추천\n",
    "- 높은 유사도를 가진 곡을 상위 100개로 할지, 일정 유사도보다 높은 경우로 할지를 나눠서 테스트할 예정\n",
    "- 태그에 가중치를 부여할 때, 추출된 음악들 중에서가 아닌 사용자 플레이리스트 내 음악들에 대해 부여할 방법 고려 중"
   ]
  },
  {
   "cell_type": "code",
   "execution_count": 46,
   "id": "c64d9647",
   "metadata": {},
   "outputs": [],
   "source": [
    "def make_song_num_dict(data):\n",
    "    song_ids = dict()\n",
    "    song_num = dict()\n",
    "    max_num = 0\n",
    "    \n",
    "    for i in range(len(data)):\n",
    "        songs = data['song_id'][i]\n",
    "        tags = data['tags'][i]\n",
    "        \n",
    "        for j in tags:\n",
    "            if not j in song_ids:\n",
    "                song_ids[j] = set(songs)\n",
    "            \n",
    "            else:\n",
    "                song_ids[j].update(songs)\n",
    "    \n",
    "    for i in song_ids:\n",
    "        song_num[i] = len(song_ids[i])\n",
    "        \n",
    "        max_num = max(song_num[i], max_num)\n",
    "    \n",
    "    return song_num, max_num\n",
    "\n",
    "song_num_dict, song_num_max = make_song_num_dict(train_data_sample2)\n",
    "tag_weights = {tag: np.log(song_num_max / cnt + 1) for tag, cnt in song_num_dict.items()}\n",
    "#print(tag_weights)\n"
   ]
  },
  {
   "cell_type": "code",
   "execution_count": 47,
   "id": "21de9da7",
   "metadata": {},
   "outputs": [],
   "source": [
    "def get_tag_simi(input_tag, simi_tags, imb_mode):\n",
    "    if imb_mode == False:\n",
    "        simi_lst = [w2v.wv.similarity(input_tag, simi_tag) for simi_tag in simi_tags if simi_tag in w2v.wv.key_to_index]\n",
    "        if len(simi_lst) == 0:\n",
    "            return 0\n",
    "        else:\n",
    "            return max(simi_lst)\n",
    "    else:\n",
    "        weighted_simi_lst = []\n",
    "        for tag in simi_tags:\n",
    "            if tag not in w2v.wv.key_to_index:\n",
    "                similarity = 0\n",
    "            else:\n",
    "                similarity = w2v.wv.similarity(input_tag, tag)\n",
    "            weighted_simi_lst.append(tag_weights.get(tag, 0)*similarity)\n",
    "        return max(weighted_simi_lst)\n",
    "        \n",
    "def song_recommend2(tags, songs, song_df, sim, tag_imb_mode, genre_imb_mode, emb_mode):\n",
    "    \n",
    "    # 기존 노래(히스토리)가 있는 경우 장르 유사도를 계산해\n",
    "    #상위 100개의 노래를 찾아낸다\n",
    "    if len(songs) > 0:\n",
    "        # 장르 불균형데이터에 대해서는 상위 100개의 음악을 추출하는 것이 유효함\n",
    "        #if genre_imb_mode:\n",
    "        simi_songs = find_sim_song(song_df, sim, get_embedding(song_df, emb_mode), songs, emb_mode, genre_imb_mode, 100)\n",
    "            \n",
    "        #else:\n",
    "        #simi_songs = find_sim_song(song_df, sim, get_cv(song_df), songs) #상위 100개가 아닌, 유사도가 0.4 이상인 음악만 추출\n",
    "    \n",
    "    # 기존 노래(히스토리)가 없는 경우 최신 노래(2018~2023년도)를 찾아낸다\n",
    "    else:\n",
    "        simi_songs = song_df\n",
    "        simi_songs = simi_songs[simi_songs['issue_date'] > 20180000]\n",
    "        simi_songs = simi_songs[simi_songs['issue_date'] < 20240000]\n",
    "    \n",
    "    #print(simi_songs.shape)\n",
    "    \n",
    "    '''\n",
    "\n",
    "    # 태그가 존재할 경우 + 태그의 개수가 3개 미만인경우 w2v로 태그를 3개까지 늘린다\n",
    "    all_tags = []\n",
    "    if len(ts) != 0 and len(ts) < 3:\n",
    "        for tag in ts:\n",
    "            sim_tags = w2v.wv.most_similar(tag)\n",
    "            for t in sim_tags:\n",
    "                all_tags.append(t)\n",
    "        all_tags = sorted(all_tags, key = lambda x : -x[1])\n",
    "        i = 0\n",
    "        while len(ts) != 0 and len(ts) < 3:\n",
    "            tag = all_tags[i][0]\n",
    "            if tag not in ts:\n",
    "                ts.append(tag)\n",
    "                i += 1\n",
    "    '''\n",
    "       \n",
    "    ts = tags\n",
    "    \n",
    "    # 해당 태그가 존재하는 플레이리스트의 노래를 추출하고 등장 빈도수로 정렬한다\n",
    "    tag_songs = dict()\n",
    "    tag_simi_mean = []\n",
    "    \n",
    "    '''\n",
    "    tags_public = dict()\n",
    "    \n",
    "    for simi_tags in simi_songs['tags']:\n",
    "        songs_similarity = []\n",
    "        for simi_tag in simi_tags:\n",
    "            for input_tag in ts:\n",
    "                tag_public = 0.0\n",
    "                if (simi_tag, input_tag) in tags_public:\n",
    "                    tag_public = tags_public[(simi_tag, input_tag)]\n",
    "                elif (input_tag, simi_tag) in tags_public:\n",
    "                    tag_public = tags_public[(input_tag, simi_tag)]\n",
    "                else:\n",
    "                    tag_public = get_tag_public(input_tag, simi_tag, simi_songs['tags'])\n",
    "                    tags_public[(input_tag, simi_tag)] = tag_public\n",
    "                    tags_public[(simi_tag, input_tag)] = tag_public\n",
    "                songs_similarity.append(tag_public)\n",
    "        if len(songs_similarity) == 0:\n",
    "            tag_simi_mean.append(0)\n",
    "        else:\n",
    "            tag_simi_mean.append(sum(songs_similarity) / len(songs_similarity))\n",
    "    '''\n",
    "    '''\n",
    "    for simi_tags in simi_songs['tags']:\n",
    "        songs_similarity = []\n",
    "        for input_tag in ts:\n",
    "            if input_tag not in w2v.wv.key_to_index:\n",
    "                continue\n",
    "            songs_similarity.append(get_tag_simi(input_tag, simi_tags, tag_imb_mode))\n",
    "        if len(songs_similarity) == 0:\n",
    "            tag_simi_mean.append(0)\n",
    "        else:\n",
    "            tag_simi_mean.append(sum(songs_similarity) / len(songs_similarity))\n",
    "    '''\n",
    "    '''\n",
    "    tag_simi_mean = pd.DataFrame(columns = ['tag_simi'], data = tag_simi_mean)\n",
    "    sorted_idx = tag_simi_mean['tag_simi'].sort_values(ascending = False).index\n",
    "    #for i in sorted_idx:\n",
    "    #    print(\"원본: {} / simi_mean: {}\".format(simi_songs.loc[i, 'song_id'], tag_simi_mean.loc[i, 'tag_simi']))\n",
    "    tag_simi_mean = simi_songs.loc[sorted_idx]\n",
    "    '''\n",
    "    '''\n",
    "    # 태그로 만들어낸 플레이리스트와 장르 유사도로 만들어낸 노래 목록\n",
    "    # 둘 모두에 존재하는 노래 10개 추출한다\n",
    "    recommended = []\n",
    "    \n",
    "    for rec in simi_songs['song_id']:\n",
    "        title_song = tag_songs[tag_songs['song_id'] == rec]\n",
    "        title_index = title_song.index\n",
    "        recommended.append(title_index[0])\n",
    "    \n",
    "    '''\n",
    "    sorted_idx = get_tag_mean(ts, simi_songs['tags'])\n",
    "    tag_simi_mean = simi_songs.loc[sorted_idx]\n",
    "    \n",
    "    return tag_simi_mean.iloc[:10]\n",
    "\n"
   ]
  },
  {
   "cell_type": "code",
   "execution_count": 48,
   "id": "16f11596",
   "metadata": {},
   "outputs": [
    {
     "name": "stdout",
     "output_type": "stream",
     "text": [
      "Recall@K (K=10): 0.10\n",
      "Precision@K (K=10): 0.40\n"
     ]
    }
   ],
   "source": [
    "#test_data_sample = train_data[500:1000].copy()\n",
    "test_data_sample = train_data_eng.copy()\n",
    "test_data_sample = test_data_sample.reset_index(drop=True)\n",
    "test_my_tags = test_data_sample['tags'].tolist()\n",
    "test_my_songs = test_data_sample['song_id'].tolist()\n",
    "\n",
    "rec1 = song_recommend(test_my_tags[0], test_my_songs[0], song_tag_appended, 'cos', False, False, 'cv')\n",
    "\n",
    "pred_list = rec1['song_id'].tolist()\n",
    "precision_k = get_precision_k(test_my_songs[0], pred_list)\n",
    "recall_k = get_recall_k(test_my_songs[0], pred_list)\n",
    "\n",
    "print(\"Recall@K (K=10): {:.2f}\".format(recall_k))\n",
    "print(\"Precision@K (K=10): {:.2f}\".format(precision_k))"
   ]
  },
  {
   "cell_type": "code",
   "execution_count": 49,
   "id": "3fae05f6",
   "metadata": {},
   "outputs": [
    {
     "data": {
      "text/plain": [
       "\"\\npred_list = []\\nfor plist, tags in zip(test_my_songs, test_my_tags):\\n    recommended = song_recommend(tags, plist, train_data_sample2, song_tag_appended, 'cos')\\n    pred_list.append(recommended['song_id'].tolist())\\nprint(pred_list[0])\\n\""
      ]
     },
     "execution_count": 49,
     "metadata": {},
     "output_type": "execute_result"
    }
   ],
   "source": [
    "'''\n",
    "pred_list = []\n",
    "for plist, tags in zip(test_my_songs, test_my_tags):\n",
    "    recommended = song_recommend(tags, plist, train_data_sample2, song_tag_appended, 'cos')\n",
    "    pred_list.append(recommended['song_id'].tolist())\n",
    "print(pred_list[0])\n",
    "'''"
   ]
  },
  {
   "cell_type": "code",
   "execution_count": 50,
   "id": "3f9b5f94",
   "metadata": {},
   "outputs": [
    {
     "data": {
      "text/plain": [
       "'\\nmap_k = get_map_k(test_my_songs, pred_list, 10)\\nprint(\"MAP@K (K=10): {:.2f}\".format(map_k))\\n'"
      ]
     },
     "execution_count": 50,
     "metadata": {},
     "output_type": "execute_result"
    }
   ],
   "source": [
    "'''\n",
    "map_k = get_map_k(test_my_songs, pred_list, 10)\n",
    "print(\"MAP@K (K=10): {:.2f}\".format(map_k))\n",
    "'''"
   ]
  },
  {
   "cell_type": "markdown",
   "id": "fa91fd8e",
   "metadata": {},
   "source": [
    "# 태그, 장르 불균형 데이터 처리 X\n",
    "\n",
    "- cv\n",
    "- recommend"
   ]
  },
  {
   "cell_type": "code",
   "execution_count": 51,
   "id": "7b4d2308",
   "metadata": {},
   "outputs": [
    {
     "name": "stderr",
     "output_type": "stream",
     "text": [
      "C:\\Users\\pigwo\\anaconda3\\Lib\\site-packages\\numpy\\core\\fromnumeric.py:3464: RuntimeWarning: Mean of empty slice.\n",
      "  return _methods._mean(a, axis=axis, dtype=dtype,\n",
      "C:\\Users\\pigwo\\anaconda3\\Lib\\site-packages\\numpy\\core\\_methods.py:192: RuntimeWarning: invalid value encountered in scalar divide\n",
      "  ret = ret.dtype.type(ret / rcount)\n",
      "C:\\Users\\pigwo\\anaconda3\\Lib\\site-packages\\numpy\\core\\fromnumeric.py:3464: RuntimeWarning: Mean of empty slice.\n",
      "  return _methods._mean(a, axis=axis, dtype=dtype,\n",
      "C:\\Users\\pigwo\\anaconda3\\Lib\\site-packages\\numpy\\core\\_methods.py:192: RuntimeWarning: invalid value encountered in scalar divide\n",
      "  ret = ret.dtype.type(ret / rcount)\n",
      "C:\\Users\\pigwo\\anaconda3\\Lib\\site-packages\\numpy\\core\\fromnumeric.py:3464: RuntimeWarning: Mean of empty slice.\n",
      "  return _methods._mean(a, axis=axis, dtype=dtype,\n",
      "C:\\Users\\pigwo\\anaconda3\\Lib\\site-packages\\numpy\\core\\_methods.py:192: RuntimeWarning: invalid value encountered in scalar divide\n",
      "  ret = ret.dtype.type(ret / rcount)\n"
     ]
    },
    {
     "name": "stdout",
     "output_type": "stream",
     "text": [
      "[192605, 627798, 460096, 488758, 118237, 212413, 491455, 613123, 152875, 92724]\n"
     ]
    }
   ],
   "source": [
    "pred_list = []\n",
    "for plist, tags in zip(test_my_songs, test_my_tags):\n",
    "    recommended = song_recommend(tags, plist, song_tag_appended, 'cos', False, False, 'cv')\n",
    "    pred_list.append(recommended['song_id'].tolist())\n",
    "print(pred_list[0])"
   ]
  },
  {
   "cell_type": "code",
   "execution_count": 52,
   "id": "2763de6d",
   "metadata": {},
   "outputs": [
    {
     "name": "stdout",
     "output_type": "stream",
     "text": [
      "MAP@K (K=10): 0.325\n"
     ]
    }
   ],
   "source": [
    "map_k = get_map_k(test_my_songs, pred_list, 10)\n",
    "print(\"MAP@K (K=10): {:.3f}\".format(map_k))"
   ]
  },
  {
   "cell_type": "code",
   "execution_count": 53,
   "id": "e35d6966",
   "metadata": {},
   "outputs": [
    {
     "name": "stderr",
     "output_type": "stream",
     "text": [
      "C:\\Users\\pigwo\\AppData\\Local\\Temp\\ipykernel_5032\\1524012274.py:64: RuntimeWarning: invalid value encountered in divide\n",
      "  gnr_sim[i] = np.dot((a - np.mean(a)), (b - np.mean(b))) / ((np.linalg.norm(a - np.mean(a))) * (np.linalg.norm(b - np.mean(b))))\n",
      "C:\\Users\\pigwo\\AppData\\Local\\Temp\\ipykernel_5032\\1524012274.py:64: RuntimeWarning: invalid value encountered in divide\n",
      "  gnr_sim[i] = np.dot((a - np.mean(a)), (b - np.mean(b))) / ((np.linalg.norm(a - np.mean(a))) * (np.linalg.norm(b - np.mean(b))))\n",
      "C:\\Users\\pigwo\\AppData\\Local\\Temp\\ipykernel_5032\\1524012274.py:64: RuntimeWarning: invalid value encountered in divide\n",
      "  gnr_sim[i] = np.dot((a - np.mean(a)), (b - np.mean(b))) / ((np.linalg.norm(a - np.mean(a))) * (np.linalg.norm(b - np.mean(b))))\n",
      "C:\\Users\\pigwo\\AppData\\Local\\Temp\\ipykernel_5032\\1524012274.py:64: RuntimeWarning: invalid value encountered in divide\n",
      "  gnr_sim[i] = np.dot((a - np.mean(a)), (b - np.mean(b))) / ((np.linalg.norm(a - np.mean(a))) * (np.linalg.norm(b - np.mean(b))))\n",
      "C:\\Users\\pigwo\\AppData\\Local\\Temp\\ipykernel_5032\\1524012274.py:64: RuntimeWarning: invalid value encountered in divide\n",
      "  gnr_sim[i] = np.dot((a - np.mean(a)), (b - np.mean(b))) / ((np.linalg.norm(a - np.mean(a))) * (np.linalg.norm(b - np.mean(b))))\n",
      "C:\\Users\\pigwo\\AppData\\Local\\Temp\\ipykernel_5032\\1524012274.py:64: RuntimeWarning: invalid value encountered in divide\n",
      "  gnr_sim[i] = np.dot((a - np.mean(a)), (b - np.mean(b))) / ((np.linalg.norm(a - np.mean(a))) * (np.linalg.norm(b - np.mean(b))))\n",
      "C:\\Users\\pigwo\\AppData\\Local\\Temp\\ipykernel_5032\\1524012274.py:64: RuntimeWarning: invalid value encountered in divide\n",
      "  gnr_sim[i] = np.dot((a - np.mean(a)), (b - np.mean(b))) / ((np.linalg.norm(a - np.mean(a))) * (np.linalg.norm(b - np.mean(b))))\n",
      "C:\\Users\\pigwo\\AppData\\Local\\Temp\\ipykernel_5032\\1524012274.py:64: RuntimeWarning: invalid value encountered in divide\n",
      "  gnr_sim[i] = np.dot((a - np.mean(a)), (b - np.mean(b))) / ((np.linalg.norm(a - np.mean(a))) * (np.linalg.norm(b - np.mean(b))))\n",
      "C:\\Users\\pigwo\\AppData\\Local\\Temp\\ipykernel_5032\\1524012274.py:64: RuntimeWarning: invalid value encountered in divide\n",
      "  gnr_sim[i] = np.dot((a - np.mean(a)), (b - np.mean(b))) / ((np.linalg.norm(a - np.mean(a))) * (np.linalg.norm(b - np.mean(b))))\n",
      "C:\\Users\\pigwo\\AppData\\Local\\Temp\\ipykernel_5032\\1524012274.py:64: RuntimeWarning: invalid value encountered in divide\n",
      "  gnr_sim[i] = np.dot((a - np.mean(a)), (b - np.mean(b))) / ((np.linalg.norm(a - np.mean(a))) * (np.linalg.norm(b - np.mean(b))))\n",
      "C:\\Users\\pigwo\\AppData\\Local\\Temp\\ipykernel_5032\\1524012274.py:64: RuntimeWarning: invalid value encountered in divide\n",
      "  gnr_sim[i] = np.dot((a - np.mean(a)), (b - np.mean(b))) / ((np.linalg.norm(a - np.mean(a))) * (np.linalg.norm(b - np.mean(b))))\n",
      "C:\\Users\\pigwo\\AppData\\Local\\Temp\\ipykernel_5032\\1524012274.py:64: RuntimeWarning: invalid value encountered in divide\n",
      "  gnr_sim[i] = np.dot((a - np.mean(a)), (b - np.mean(b))) / ((np.linalg.norm(a - np.mean(a))) * (np.linalg.norm(b - np.mean(b))))\n",
      "C:\\Users\\pigwo\\anaconda3\\Lib\\site-packages\\numpy\\core\\fromnumeric.py:3464: RuntimeWarning: Mean of empty slice.\n",
      "  return _methods._mean(a, axis=axis, dtype=dtype,\n",
      "C:\\Users\\pigwo\\anaconda3\\Lib\\site-packages\\numpy\\core\\_methods.py:192: RuntimeWarning: invalid value encountered in scalar divide\n",
      "  ret = ret.dtype.type(ret / rcount)\n",
      "C:\\Users\\pigwo\\AppData\\Local\\Temp\\ipykernel_5032\\1524012274.py:64: RuntimeWarning: invalid value encountered in divide\n",
      "  gnr_sim[i] = np.dot((a - np.mean(a)), (b - np.mean(b))) / ((np.linalg.norm(a - np.mean(a))) * (np.linalg.norm(b - np.mean(b))))\n",
      "C:\\Users\\pigwo\\AppData\\Local\\Temp\\ipykernel_5032\\1524012274.py:64: RuntimeWarning: invalid value encountered in divide\n",
      "  gnr_sim[i] = np.dot((a - np.mean(a)), (b - np.mean(b))) / ((np.linalg.norm(a - np.mean(a))) * (np.linalg.norm(b - np.mean(b))))\n",
      "C:\\Users\\pigwo\\AppData\\Local\\Temp\\ipykernel_5032\\1524012274.py:64: RuntimeWarning: invalid value encountered in divide\n",
      "  gnr_sim[i] = np.dot((a - np.mean(a)), (b - np.mean(b))) / ((np.linalg.norm(a - np.mean(a))) * (np.linalg.norm(b - np.mean(b))))\n",
      "C:\\Users\\pigwo\\AppData\\Local\\Temp\\ipykernel_5032\\1524012274.py:64: RuntimeWarning: invalid value encountered in divide\n",
      "  gnr_sim[i] = np.dot((a - np.mean(a)), (b - np.mean(b))) / ((np.linalg.norm(a - np.mean(a))) * (np.linalg.norm(b - np.mean(b))))\n",
      "C:\\Users\\pigwo\\AppData\\Local\\Temp\\ipykernel_5032\\1524012274.py:64: RuntimeWarning: invalid value encountered in divide\n",
      "  gnr_sim[i] = np.dot((a - np.mean(a)), (b - np.mean(b))) / ((np.linalg.norm(a - np.mean(a))) * (np.linalg.norm(b - np.mean(b))))\n",
      "C:\\Users\\pigwo\\AppData\\Local\\Temp\\ipykernel_5032\\1524012274.py:64: RuntimeWarning: invalid value encountered in divide\n",
      "  gnr_sim[i] = np.dot((a - np.mean(a)), (b - np.mean(b))) / ((np.linalg.norm(a - np.mean(a))) * (np.linalg.norm(b - np.mean(b))))\n",
      "C:\\Users\\pigwo\\AppData\\Local\\Temp\\ipykernel_5032\\1524012274.py:64: RuntimeWarning: invalid value encountered in divide\n",
      "  gnr_sim[i] = np.dot((a - np.mean(a)), (b - np.mean(b))) / ((np.linalg.norm(a - np.mean(a))) * (np.linalg.norm(b - np.mean(b))))\n",
      "C:\\Users\\pigwo\\AppData\\Local\\Temp\\ipykernel_5032\\1524012274.py:64: RuntimeWarning: invalid value encountered in divide\n",
      "  gnr_sim[i] = np.dot((a - np.mean(a)), (b - np.mean(b))) / ((np.linalg.norm(a - np.mean(a))) * (np.linalg.norm(b - np.mean(b))))\n",
      "C:\\Users\\pigwo\\AppData\\Local\\Temp\\ipykernel_5032\\1524012274.py:64: RuntimeWarning: invalid value encountered in divide\n",
      "  gnr_sim[i] = np.dot((a - np.mean(a)), (b - np.mean(b))) / ((np.linalg.norm(a - np.mean(a))) * (np.linalg.norm(b - np.mean(b))))\n",
      "C:\\Users\\pigwo\\AppData\\Local\\Temp\\ipykernel_5032\\1524012274.py:64: RuntimeWarning: invalid value encountered in divide\n",
      "  gnr_sim[i] = np.dot((a - np.mean(a)), (b - np.mean(b))) / ((np.linalg.norm(a - np.mean(a))) * (np.linalg.norm(b - np.mean(b))))\n",
      "C:\\Users\\pigwo\\AppData\\Local\\Temp\\ipykernel_5032\\1524012274.py:64: RuntimeWarning: invalid value encountered in divide\n",
      "  gnr_sim[i] = np.dot((a - np.mean(a)), (b - np.mean(b))) / ((np.linalg.norm(a - np.mean(a))) * (np.linalg.norm(b - np.mean(b))))\n",
      "C:\\Users\\pigwo\\AppData\\Local\\Temp\\ipykernel_5032\\1524012274.py:64: RuntimeWarning: invalid value encountered in divide\n",
      "  gnr_sim[i] = np.dot((a - np.mean(a)), (b - np.mean(b))) / ((np.linalg.norm(a - np.mean(a))) * (np.linalg.norm(b - np.mean(b))))\n",
      "C:\\Users\\pigwo\\AppData\\Local\\Temp\\ipykernel_5032\\1524012274.py:64: RuntimeWarning: invalid value encountered in divide\n",
      "  gnr_sim[i] = np.dot((a - np.mean(a)), (b - np.mean(b))) / ((np.linalg.norm(a - np.mean(a))) * (np.linalg.norm(b - np.mean(b))))\n",
      "C:\\Users\\pigwo\\AppData\\Local\\Temp\\ipykernel_5032\\1524012274.py:64: RuntimeWarning: invalid value encountered in divide\n",
      "  gnr_sim[i] = np.dot((a - np.mean(a)), (b - np.mean(b))) / ((np.linalg.norm(a - np.mean(a))) * (np.linalg.norm(b - np.mean(b))))\n",
      "C:\\Users\\pigwo\\AppData\\Local\\Temp\\ipykernel_5032\\1524012274.py:64: RuntimeWarning: invalid value encountered in divide\n",
      "  gnr_sim[i] = np.dot((a - np.mean(a)), (b - np.mean(b))) / ((np.linalg.norm(a - np.mean(a))) * (np.linalg.norm(b - np.mean(b))))\n",
      "C:\\Users\\pigwo\\AppData\\Local\\Temp\\ipykernel_5032\\1524012274.py:64: RuntimeWarning: invalid value encountered in divide\n",
      "  gnr_sim[i] = np.dot((a - np.mean(a)), (b - np.mean(b))) / ((np.linalg.norm(a - np.mean(a))) * (np.linalg.norm(b - np.mean(b))))\n",
      "C:\\Users\\pigwo\\AppData\\Local\\Temp\\ipykernel_5032\\1524012274.py:64: RuntimeWarning: invalid value encountered in divide\n",
      "  gnr_sim[i] = np.dot((a - np.mean(a)), (b - np.mean(b))) / ((np.linalg.norm(a - np.mean(a))) * (np.linalg.norm(b - np.mean(b))))\n",
      "C:\\Users\\pigwo\\AppData\\Local\\Temp\\ipykernel_5032\\1524012274.py:64: RuntimeWarning: invalid value encountered in divide\n",
      "  gnr_sim[i] = np.dot((a - np.mean(a)), (b - np.mean(b))) / ((np.linalg.norm(a - np.mean(a))) * (np.linalg.norm(b - np.mean(b))))\n",
      "C:\\Users\\pigwo\\AppData\\Local\\Temp\\ipykernel_5032\\1524012274.py:64: RuntimeWarning: invalid value encountered in divide\n",
      "  gnr_sim[i] = np.dot((a - np.mean(a)), (b - np.mean(b))) / ((np.linalg.norm(a - np.mean(a))) * (np.linalg.norm(b - np.mean(b))))\n",
      "C:\\Users\\pigwo\\AppData\\Local\\Temp\\ipykernel_5032\\1524012274.py:64: RuntimeWarning: invalid value encountered in divide\n",
      "  gnr_sim[i] = np.dot((a - np.mean(a)), (b - np.mean(b))) / ((np.linalg.norm(a - np.mean(a))) * (np.linalg.norm(b - np.mean(b))))\n"
     ]
    },
    {
     "name": "stderr",
     "output_type": "stream",
     "text": [
      "C:\\Users\\pigwo\\AppData\\Local\\Temp\\ipykernel_5032\\1524012274.py:64: RuntimeWarning: invalid value encountered in divide\n",
      "  gnr_sim[i] = np.dot((a - np.mean(a)), (b - np.mean(b))) / ((np.linalg.norm(a - np.mean(a))) * (np.linalg.norm(b - np.mean(b))))\n",
      "C:\\Users\\pigwo\\AppData\\Local\\Temp\\ipykernel_5032\\1524012274.py:64: RuntimeWarning: invalid value encountered in divide\n",
      "  gnr_sim[i] = np.dot((a - np.mean(a)), (b - np.mean(b))) / ((np.linalg.norm(a - np.mean(a))) * (np.linalg.norm(b - np.mean(b))))\n",
      "C:\\Users\\pigwo\\AppData\\Local\\Temp\\ipykernel_5032\\1524012274.py:64: RuntimeWarning: invalid value encountered in divide\n",
      "  gnr_sim[i] = np.dot((a - np.mean(a)), (b - np.mean(b))) / ((np.linalg.norm(a - np.mean(a))) * (np.linalg.norm(b - np.mean(b))))\n",
      "C:\\Users\\pigwo\\AppData\\Local\\Temp\\ipykernel_5032\\1524012274.py:64: RuntimeWarning: invalid value encountered in divide\n",
      "  gnr_sim[i] = np.dot((a - np.mean(a)), (b - np.mean(b))) / ((np.linalg.norm(a - np.mean(a))) * (np.linalg.norm(b - np.mean(b))))\n",
      "C:\\Users\\pigwo\\AppData\\Local\\Temp\\ipykernel_5032\\1524012274.py:64: RuntimeWarning: invalid value encountered in divide\n",
      "  gnr_sim[i] = np.dot((a - np.mean(a)), (b - np.mean(b))) / ((np.linalg.norm(a - np.mean(a))) * (np.linalg.norm(b - np.mean(b))))\n",
      "C:\\Users\\pigwo\\AppData\\Local\\Temp\\ipykernel_5032\\1524012274.py:64: RuntimeWarning: invalid value encountered in divide\n",
      "  gnr_sim[i] = np.dot((a - np.mean(a)), (b - np.mean(b))) / ((np.linalg.norm(a - np.mean(a))) * (np.linalg.norm(b - np.mean(b))))\n",
      "C:\\Users\\pigwo\\AppData\\Local\\Temp\\ipykernel_5032\\1524012274.py:64: RuntimeWarning: invalid value encountered in divide\n",
      "  gnr_sim[i] = np.dot((a - np.mean(a)), (b - np.mean(b))) / ((np.linalg.norm(a - np.mean(a))) * (np.linalg.norm(b - np.mean(b))))\n",
      "C:\\Users\\pigwo\\AppData\\Local\\Temp\\ipykernel_5032\\1524012274.py:64: RuntimeWarning: invalid value encountered in divide\n",
      "  gnr_sim[i] = np.dot((a - np.mean(a)), (b - np.mean(b))) / ((np.linalg.norm(a - np.mean(a))) * (np.linalg.norm(b - np.mean(b))))\n",
      "C:\\Users\\pigwo\\AppData\\Local\\Temp\\ipykernel_5032\\1524012274.py:64: RuntimeWarning: invalid value encountered in divide\n",
      "  gnr_sim[i] = np.dot((a - np.mean(a)), (b - np.mean(b))) / ((np.linalg.norm(a - np.mean(a))) * (np.linalg.norm(b - np.mean(b))))\n",
      "C:\\Users\\pigwo\\AppData\\Local\\Temp\\ipykernel_5032\\1524012274.py:64: RuntimeWarning: invalid value encountered in divide\n",
      "  gnr_sim[i] = np.dot((a - np.mean(a)), (b - np.mean(b))) / ((np.linalg.norm(a - np.mean(a))) * (np.linalg.norm(b - np.mean(b))))\n",
      "C:\\Users\\pigwo\\AppData\\Local\\Temp\\ipykernel_5032\\1524012274.py:64: RuntimeWarning: invalid value encountered in divide\n",
      "  gnr_sim[i] = np.dot((a - np.mean(a)), (b - np.mean(b))) / ((np.linalg.norm(a - np.mean(a))) * (np.linalg.norm(b - np.mean(b))))\n",
      "C:\\Users\\pigwo\\AppData\\Local\\Temp\\ipykernel_5032\\1524012274.py:64: RuntimeWarning: invalid value encountered in divide\n",
      "  gnr_sim[i] = np.dot((a - np.mean(a)), (b - np.mean(b))) / ((np.linalg.norm(a - np.mean(a))) * (np.linalg.norm(b - np.mean(b))))\n",
      "C:\\Users\\pigwo\\AppData\\Local\\Temp\\ipykernel_5032\\1524012274.py:64: RuntimeWarning: invalid value encountered in divide\n",
      "  gnr_sim[i] = np.dot((a - np.mean(a)), (b - np.mean(b))) / ((np.linalg.norm(a - np.mean(a))) * (np.linalg.norm(b - np.mean(b))))\n",
      "C:\\Users\\pigwo\\AppData\\Local\\Temp\\ipykernel_5032\\1524012274.py:64: RuntimeWarning: invalid value encountered in divide\n",
      "  gnr_sim[i] = np.dot((a - np.mean(a)), (b - np.mean(b))) / ((np.linalg.norm(a - np.mean(a))) * (np.linalg.norm(b - np.mean(b))))\n",
      "C:\\Users\\pigwo\\AppData\\Local\\Temp\\ipykernel_5032\\1524012274.py:64: RuntimeWarning: invalid value encountered in divide\n",
      "  gnr_sim[i] = np.dot((a - np.mean(a)), (b - np.mean(b))) / ((np.linalg.norm(a - np.mean(a))) * (np.linalg.norm(b - np.mean(b))))\n",
      "C:\\Users\\pigwo\\AppData\\Local\\Temp\\ipykernel_5032\\1524012274.py:64: RuntimeWarning: invalid value encountered in divide\n",
      "  gnr_sim[i] = np.dot((a - np.mean(a)), (b - np.mean(b))) / ((np.linalg.norm(a - np.mean(a))) * (np.linalg.norm(b - np.mean(b))))\n",
      "C:\\Users\\pigwo\\AppData\\Local\\Temp\\ipykernel_5032\\1524012274.py:64: RuntimeWarning: invalid value encountered in divide\n",
      "  gnr_sim[i] = np.dot((a - np.mean(a)), (b - np.mean(b))) / ((np.linalg.norm(a - np.mean(a))) * (np.linalg.norm(b - np.mean(b))))\n",
      "C:\\Users\\pigwo\\AppData\\Local\\Temp\\ipykernel_5032\\1524012274.py:64: RuntimeWarning: invalid value encountered in divide\n",
      "  gnr_sim[i] = np.dot((a - np.mean(a)), (b - np.mean(b))) / ((np.linalg.norm(a - np.mean(a))) * (np.linalg.norm(b - np.mean(b))))\n",
      "C:\\Users\\pigwo\\AppData\\Local\\Temp\\ipykernel_5032\\1524012274.py:64: RuntimeWarning: invalid value encountered in divide\n",
      "  gnr_sim[i] = np.dot((a - np.mean(a)), (b - np.mean(b))) / ((np.linalg.norm(a - np.mean(a))) * (np.linalg.norm(b - np.mean(b))))\n",
      "C:\\Users\\pigwo\\AppData\\Local\\Temp\\ipykernel_5032\\1524012274.py:64: RuntimeWarning: invalid value encountered in divide\n",
      "  gnr_sim[i] = np.dot((a - np.mean(a)), (b - np.mean(b))) / ((np.linalg.norm(a - np.mean(a))) * (np.linalg.norm(b - np.mean(b))))\n",
      "C:\\Users\\pigwo\\AppData\\Local\\Temp\\ipykernel_5032\\1524012274.py:64: RuntimeWarning: invalid value encountered in divide\n",
      "  gnr_sim[i] = np.dot((a - np.mean(a)), (b - np.mean(b))) / ((np.linalg.norm(a - np.mean(a))) * (np.linalg.norm(b - np.mean(b))))\n",
      "C:\\Users\\pigwo\\AppData\\Local\\Temp\\ipykernel_5032\\1524012274.py:64: RuntimeWarning: invalid value encountered in divide\n",
      "  gnr_sim[i] = np.dot((a - np.mean(a)), (b - np.mean(b))) / ((np.linalg.norm(a - np.mean(a))) * (np.linalg.norm(b - np.mean(b))))\n",
      "C:\\Users\\pigwo\\AppData\\Local\\Temp\\ipykernel_5032\\1524012274.py:64: RuntimeWarning: invalid value encountered in divide\n",
      "  gnr_sim[i] = np.dot((a - np.mean(a)), (b - np.mean(b))) / ((np.linalg.norm(a - np.mean(a))) * (np.linalg.norm(b - np.mean(b))))\n",
      "C:\\Users\\pigwo\\AppData\\Local\\Temp\\ipykernel_5032\\1524012274.py:64: RuntimeWarning: invalid value encountered in divide\n",
      "  gnr_sim[i] = np.dot((a - np.mean(a)), (b - np.mean(b))) / ((np.linalg.norm(a - np.mean(a))) * (np.linalg.norm(b - np.mean(b))))\n",
      "C:\\Users\\pigwo\\AppData\\Local\\Temp\\ipykernel_5032\\1524012274.py:64: RuntimeWarning: invalid value encountered in divide\n",
      "  gnr_sim[i] = np.dot((a - np.mean(a)), (b - np.mean(b))) / ((np.linalg.norm(a - np.mean(a))) * (np.linalg.norm(b - np.mean(b))))\n",
      "C:\\Users\\pigwo\\AppData\\Local\\Temp\\ipykernel_5032\\1524012274.py:64: RuntimeWarning: invalid value encountered in divide\n",
      "  gnr_sim[i] = np.dot((a - np.mean(a)), (b - np.mean(b))) / ((np.linalg.norm(a - np.mean(a))) * (np.linalg.norm(b - np.mean(b))))\n",
      "C:\\Users\\pigwo\\AppData\\Local\\Temp\\ipykernel_5032\\1524012274.py:64: RuntimeWarning: invalid value encountered in divide\n",
      "  gnr_sim[i] = np.dot((a - np.mean(a)), (b - np.mean(b))) / ((np.linalg.norm(a - np.mean(a))) * (np.linalg.norm(b - np.mean(b))))\n",
      "C:\\Users\\pigwo\\AppData\\Local\\Temp\\ipykernel_5032\\1524012274.py:64: RuntimeWarning: invalid value encountered in divide\n",
      "  gnr_sim[i] = np.dot((a - np.mean(a)), (b - np.mean(b))) / ((np.linalg.norm(a - np.mean(a))) * (np.linalg.norm(b - np.mean(b))))\n",
      "C:\\Users\\pigwo\\AppData\\Local\\Temp\\ipykernel_5032\\1524012274.py:64: RuntimeWarning: invalid value encountered in divide\n",
      "  gnr_sim[i] = np.dot((a - np.mean(a)), (b - np.mean(b))) / ((np.linalg.norm(a - np.mean(a))) * (np.linalg.norm(b - np.mean(b))))\n",
      "C:\\Users\\pigwo\\AppData\\Local\\Temp\\ipykernel_5032\\1524012274.py:64: RuntimeWarning: invalid value encountered in divide\n",
      "  gnr_sim[i] = np.dot((a - np.mean(a)), (b - np.mean(b))) / ((np.linalg.norm(a - np.mean(a))) * (np.linalg.norm(b - np.mean(b))))\n",
      "C:\\Users\\pigwo\\AppData\\Local\\Temp\\ipykernel_5032\\1524012274.py:64: RuntimeWarning: invalid value encountered in divide\n",
      "  gnr_sim[i] = np.dot((a - np.mean(a)), (b - np.mean(b))) / ((np.linalg.norm(a - np.mean(a))) * (np.linalg.norm(b - np.mean(b))))\n",
      "C:\\Users\\pigwo\\AppData\\Local\\Temp\\ipykernel_5032\\1524012274.py:64: RuntimeWarning: invalid value encountered in divide\n",
      "  gnr_sim[i] = np.dot((a - np.mean(a)), (b - np.mean(b))) / ((np.linalg.norm(a - np.mean(a))) * (np.linalg.norm(b - np.mean(b))))\n",
      "C:\\Users\\pigwo\\AppData\\Local\\Temp\\ipykernel_5032\\1524012274.py:64: RuntimeWarning: invalid value encountered in divide\n",
      "  gnr_sim[i] = np.dot((a - np.mean(a)), (b - np.mean(b))) / ((np.linalg.norm(a - np.mean(a))) * (np.linalg.norm(b - np.mean(b))))\n"
     ]
    },
    {
     "name": "stderr",
     "output_type": "stream",
     "text": [
      "C:\\Users\\pigwo\\AppData\\Local\\Temp\\ipykernel_5032\\1524012274.py:64: RuntimeWarning: invalid value encountered in divide\n",
      "  gnr_sim[i] = np.dot((a - np.mean(a)), (b - np.mean(b))) / ((np.linalg.norm(a - np.mean(a))) * (np.linalg.norm(b - np.mean(b))))\n",
      "C:\\Users\\pigwo\\AppData\\Local\\Temp\\ipykernel_5032\\1524012274.py:64: RuntimeWarning: invalid value encountered in divide\n",
      "  gnr_sim[i] = np.dot((a - np.mean(a)), (b - np.mean(b))) / ((np.linalg.norm(a - np.mean(a))) * (np.linalg.norm(b - np.mean(b))))\n",
      "C:\\Users\\pigwo\\AppData\\Local\\Temp\\ipykernel_5032\\1524012274.py:64: RuntimeWarning: invalid value encountered in divide\n",
      "  gnr_sim[i] = np.dot((a - np.mean(a)), (b - np.mean(b))) / ((np.linalg.norm(a - np.mean(a))) * (np.linalg.norm(b - np.mean(b))))\n",
      "C:\\Users\\pigwo\\AppData\\Local\\Temp\\ipykernel_5032\\1524012274.py:64: RuntimeWarning: invalid value encountered in divide\n",
      "  gnr_sim[i] = np.dot((a - np.mean(a)), (b - np.mean(b))) / ((np.linalg.norm(a - np.mean(a))) * (np.linalg.norm(b - np.mean(b))))\n",
      "C:\\Users\\pigwo\\AppData\\Local\\Temp\\ipykernel_5032\\1524012274.py:64: RuntimeWarning: invalid value encountered in divide\n",
      "  gnr_sim[i] = np.dot((a - np.mean(a)), (b - np.mean(b))) / ((np.linalg.norm(a - np.mean(a))) * (np.linalg.norm(b - np.mean(b))))\n",
      "C:\\Users\\pigwo\\AppData\\Local\\Temp\\ipykernel_5032\\1524012274.py:64: RuntimeWarning: invalid value encountered in divide\n",
      "  gnr_sim[i] = np.dot((a - np.mean(a)), (b - np.mean(b))) / ((np.linalg.norm(a - np.mean(a))) * (np.linalg.norm(b - np.mean(b))))\n",
      "C:\\Users\\pigwo\\AppData\\Local\\Temp\\ipykernel_5032\\1524012274.py:64: RuntimeWarning: invalid value encountered in divide\n",
      "  gnr_sim[i] = np.dot((a - np.mean(a)), (b - np.mean(b))) / ((np.linalg.norm(a - np.mean(a))) * (np.linalg.norm(b - np.mean(b))))\n",
      "C:\\Users\\pigwo\\AppData\\Local\\Temp\\ipykernel_5032\\1524012274.py:64: RuntimeWarning: invalid value encountered in divide\n",
      "  gnr_sim[i] = np.dot((a - np.mean(a)), (b - np.mean(b))) / ((np.linalg.norm(a - np.mean(a))) * (np.linalg.norm(b - np.mean(b))))\n",
      "C:\\Users\\pigwo\\AppData\\Local\\Temp\\ipykernel_5032\\1524012274.py:64: RuntimeWarning: invalid value encountered in divide\n",
      "  gnr_sim[i] = np.dot((a - np.mean(a)), (b - np.mean(b))) / ((np.linalg.norm(a - np.mean(a))) * (np.linalg.norm(b - np.mean(b))))\n",
      "C:\\Users\\pigwo\\AppData\\Local\\Temp\\ipykernel_5032\\1524012274.py:64: RuntimeWarning: invalid value encountered in divide\n",
      "  gnr_sim[i] = np.dot((a - np.mean(a)), (b - np.mean(b))) / ((np.linalg.norm(a - np.mean(a))) * (np.linalg.norm(b - np.mean(b))))\n",
      "C:\\Users\\pigwo\\AppData\\Local\\Temp\\ipykernel_5032\\1524012274.py:64: RuntimeWarning: invalid value encountered in divide\n",
      "  gnr_sim[i] = np.dot((a - np.mean(a)), (b - np.mean(b))) / ((np.linalg.norm(a - np.mean(a))) * (np.linalg.norm(b - np.mean(b))))\n",
      "C:\\Users\\pigwo\\AppData\\Local\\Temp\\ipykernel_5032\\1524012274.py:64: RuntimeWarning: invalid value encountered in divide\n",
      "  gnr_sim[i] = np.dot((a - np.mean(a)), (b - np.mean(b))) / ((np.linalg.norm(a - np.mean(a))) * (np.linalg.norm(b - np.mean(b))))\n",
      "C:\\Users\\pigwo\\AppData\\Local\\Temp\\ipykernel_5032\\1524012274.py:64: RuntimeWarning: invalid value encountered in divide\n",
      "  gnr_sim[i] = np.dot((a - np.mean(a)), (b - np.mean(b))) / ((np.linalg.norm(a - np.mean(a))) * (np.linalg.norm(b - np.mean(b))))\n",
      "C:\\Users\\pigwo\\AppData\\Local\\Temp\\ipykernel_5032\\1524012274.py:64: RuntimeWarning: invalid value encountered in divide\n",
      "  gnr_sim[i] = np.dot((a - np.mean(a)), (b - np.mean(b))) / ((np.linalg.norm(a - np.mean(a))) * (np.linalg.norm(b - np.mean(b))))\n",
      "C:\\Users\\pigwo\\AppData\\Local\\Temp\\ipykernel_5032\\1524012274.py:64: RuntimeWarning: invalid value encountered in divide\n",
      "  gnr_sim[i] = np.dot((a - np.mean(a)), (b - np.mean(b))) / ((np.linalg.norm(a - np.mean(a))) * (np.linalg.norm(b - np.mean(b))))\n",
      "C:\\Users\\pigwo\\AppData\\Local\\Temp\\ipykernel_5032\\1524012274.py:64: RuntimeWarning: invalid value encountered in divide\n",
      "  gnr_sim[i] = np.dot((a - np.mean(a)), (b - np.mean(b))) / ((np.linalg.norm(a - np.mean(a))) * (np.linalg.norm(b - np.mean(b))))\n",
      "C:\\Users\\pigwo\\AppData\\Local\\Temp\\ipykernel_5032\\1524012274.py:64: RuntimeWarning: invalid value encountered in divide\n",
      "  gnr_sim[i] = np.dot((a - np.mean(a)), (b - np.mean(b))) / ((np.linalg.norm(a - np.mean(a))) * (np.linalg.norm(b - np.mean(b))))\n",
      "C:\\Users\\pigwo\\AppData\\Local\\Temp\\ipykernel_5032\\1524012274.py:64: RuntimeWarning: invalid value encountered in divide\n",
      "  gnr_sim[i] = np.dot((a - np.mean(a)), (b - np.mean(b))) / ((np.linalg.norm(a - np.mean(a))) * (np.linalg.norm(b - np.mean(b))))\n",
      "C:\\Users\\pigwo\\AppData\\Local\\Temp\\ipykernel_5032\\1524012274.py:64: RuntimeWarning: invalid value encountered in divide\n",
      "  gnr_sim[i] = np.dot((a - np.mean(a)), (b - np.mean(b))) / ((np.linalg.norm(a - np.mean(a))) * (np.linalg.norm(b - np.mean(b))))\n",
      "C:\\Users\\pigwo\\AppData\\Local\\Temp\\ipykernel_5032\\1524012274.py:64: RuntimeWarning: invalid value encountered in divide\n",
      "  gnr_sim[i] = np.dot((a - np.mean(a)), (b - np.mean(b))) / ((np.linalg.norm(a - np.mean(a))) * (np.linalg.norm(b - np.mean(b))))\n",
      "C:\\Users\\pigwo\\AppData\\Local\\Temp\\ipykernel_5032\\1524012274.py:64: RuntimeWarning: invalid value encountered in divide\n",
      "  gnr_sim[i] = np.dot((a - np.mean(a)), (b - np.mean(b))) / ((np.linalg.norm(a - np.mean(a))) * (np.linalg.norm(b - np.mean(b))))\n",
      "C:\\Users\\pigwo\\AppData\\Local\\Temp\\ipykernel_5032\\1524012274.py:64: RuntimeWarning: invalid value encountered in divide\n",
      "  gnr_sim[i] = np.dot((a - np.mean(a)), (b - np.mean(b))) / ((np.linalg.norm(a - np.mean(a))) * (np.linalg.norm(b - np.mean(b))))\n",
      "C:\\Users\\pigwo\\AppData\\Local\\Temp\\ipykernel_5032\\1524012274.py:64: RuntimeWarning: invalid value encountered in divide\n",
      "  gnr_sim[i] = np.dot((a - np.mean(a)), (b - np.mean(b))) / ((np.linalg.norm(a - np.mean(a))) * (np.linalg.norm(b - np.mean(b))))\n",
      "C:\\Users\\pigwo\\AppData\\Local\\Temp\\ipykernel_5032\\1524012274.py:64: RuntimeWarning: invalid value encountered in divide\n",
      "  gnr_sim[i] = np.dot((a - np.mean(a)), (b - np.mean(b))) / ((np.linalg.norm(a - np.mean(a))) * (np.linalg.norm(b - np.mean(b))))\n",
      "C:\\Users\\pigwo\\AppData\\Local\\Temp\\ipykernel_5032\\1524012274.py:64: RuntimeWarning: invalid value encountered in divide\n",
      "  gnr_sim[i] = np.dot((a - np.mean(a)), (b - np.mean(b))) / ((np.linalg.norm(a - np.mean(a))) * (np.linalg.norm(b - np.mean(b))))\n",
      "C:\\Users\\pigwo\\AppData\\Local\\Temp\\ipykernel_5032\\1524012274.py:64: RuntimeWarning: invalid value encountered in divide\n",
      "  gnr_sim[i] = np.dot((a - np.mean(a)), (b - np.mean(b))) / ((np.linalg.norm(a - np.mean(a))) * (np.linalg.norm(b - np.mean(b))))\n",
      "C:\\Users\\pigwo\\AppData\\Local\\Temp\\ipykernel_5032\\1524012274.py:64: RuntimeWarning: invalid value encountered in divide\n",
      "  gnr_sim[i] = np.dot((a - np.mean(a)), (b - np.mean(b))) / ((np.linalg.norm(a - np.mean(a))) * (np.linalg.norm(b - np.mean(b))))\n",
      "C:\\Users\\pigwo\\AppData\\Local\\Temp\\ipykernel_5032\\1524012274.py:64: RuntimeWarning: invalid value encountered in divide\n",
      "  gnr_sim[i] = np.dot((a - np.mean(a)), (b - np.mean(b))) / ((np.linalg.norm(a - np.mean(a))) * (np.linalg.norm(b - np.mean(b))))\n",
      "C:\\Users\\pigwo\\AppData\\Local\\Temp\\ipykernel_5032\\1524012274.py:64: RuntimeWarning: invalid value encountered in divide\n",
      "  gnr_sim[i] = np.dot((a - np.mean(a)), (b - np.mean(b))) / ((np.linalg.norm(a - np.mean(a))) * (np.linalg.norm(b - np.mean(b))))\n",
      "C:\\Users\\pigwo\\AppData\\Local\\Temp\\ipykernel_5032\\1524012274.py:64: RuntimeWarning: invalid value encountered in divide\n",
      "  gnr_sim[i] = np.dot((a - np.mean(a)), (b - np.mean(b))) / ((np.linalg.norm(a - np.mean(a))) * (np.linalg.norm(b - np.mean(b))))\n",
      "C:\\Users\\pigwo\\AppData\\Local\\Temp\\ipykernel_5032\\1524012274.py:64: RuntimeWarning: invalid value encountered in divide\n",
      "  gnr_sim[i] = np.dot((a - np.mean(a)), (b - np.mean(b))) / ((np.linalg.norm(a - np.mean(a))) * (np.linalg.norm(b - np.mean(b))))\n",
      "C:\\Users\\pigwo\\AppData\\Local\\Temp\\ipykernel_5032\\1524012274.py:64: RuntimeWarning: invalid value encountered in divide\n",
      "  gnr_sim[i] = np.dot((a - np.mean(a)), (b - np.mean(b))) / ((np.linalg.norm(a - np.mean(a))) * (np.linalg.norm(b - np.mean(b))))\n",
      "C:\\Users\\pigwo\\AppData\\Local\\Temp\\ipykernel_5032\\1524012274.py:64: RuntimeWarning: invalid value encountered in divide\n",
      "  gnr_sim[i] = np.dot((a - np.mean(a)), (b - np.mean(b))) / ((np.linalg.norm(a - np.mean(a))) * (np.linalg.norm(b - np.mean(b))))\n"
     ]
    },
    {
     "name": "stderr",
     "output_type": "stream",
     "text": [
      "C:\\Users\\pigwo\\AppData\\Local\\Temp\\ipykernel_5032\\1524012274.py:64: RuntimeWarning: invalid value encountered in divide\n",
      "  gnr_sim[i] = np.dot((a - np.mean(a)), (b - np.mean(b))) / ((np.linalg.norm(a - np.mean(a))) * (np.linalg.norm(b - np.mean(b))))\n",
      "C:\\Users\\pigwo\\AppData\\Local\\Temp\\ipykernel_5032\\1524012274.py:64: RuntimeWarning: invalid value encountered in divide\n",
      "  gnr_sim[i] = np.dot((a - np.mean(a)), (b - np.mean(b))) / ((np.linalg.norm(a - np.mean(a))) * (np.linalg.norm(b - np.mean(b))))\n",
      "C:\\Users\\pigwo\\AppData\\Local\\Temp\\ipykernel_5032\\1524012274.py:64: RuntimeWarning: invalid value encountered in divide\n",
      "  gnr_sim[i] = np.dot((a - np.mean(a)), (b - np.mean(b))) / ((np.linalg.norm(a - np.mean(a))) * (np.linalg.norm(b - np.mean(b))))\n",
      "C:\\Users\\pigwo\\AppData\\Local\\Temp\\ipykernel_5032\\1524012274.py:64: RuntimeWarning: invalid value encountered in divide\n",
      "  gnr_sim[i] = np.dot((a - np.mean(a)), (b - np.mean(b))) / ((np.linalg.norm(a - np.mean(a))) * (np.linalg.norm(b - np.mean(b))))\n",
      "C:\\Users\\pigwo\\AppData\\Local\\Temp\\ipykernel_5032\\1524012274.py:64: RuntimeWarning: invalid value encountered in divide\n",
      "  gnr_sim[i] = np.dot((a - np.mean(a)), (b - np.mean(b))) / ((np.linalg.norm(a - np.mean(a))) * (np.linalg.norm(b - np.mean(b))))\n",
      "C:\\Users\\pigwo\\AppData\\Local\\Temp\\ipykernel_5032\\1524012274.py:64: RuntimeWarning: invalid value encountered in divide\n",
      "  gnr_sim[i] = np.dot((a - np.mean(a)), (b - np.mean(b))) / ((np.linalg.norm(a - np.mean(a))) * (np.linalg.norm(b - np.mean(b))))\n",
      "C:\\Users\\pigwo\\AppData\\Local\\Temp\\ipykernel_5032\\1524012274.py:64: RuntimeWarning: invalid value encountered in divide\n",
      "  gnr_sim[i] = np.dot((a - np.mean(a)), (b - np.mean(b))) / ((np.linalg.norm(a - np.mean(a))) * (np.linalg.norm(b - np.mean(b))))\n",
      "C:\\Users\\pigwo\\AppData\\Local\\Temp\\ipykernel_5032\\1524012274.py:64: RuntimeWarning: invalid value encountered in divide\n",
      "  gnr_sim[i] = np.dot((a - np.mean(a)), (b - np.mean(b))) / ((np.linalg.norm(a - np.mean(a))) * (np.linalg.norm(b - np.mean(b))))\n",
      "C:\\Users\\pigwo\\AppData\\Local\\Temp\\ipykernel_5032\\1524012274.py:64: RuntimeWarning: invalid value encountered in divide\n",
      "  gnr_sim[i] = np.dot((a - np.mean(a)), (b - np.mean(b))) / ((np.linalg.norm(a - np.mean(a))) * (np.linalg.norm(b - np.mean(b))))\n",
      "C:\\Users\\pigwo\\AppData\\Local\\Temp\\ipykernel_5032\\1524012274.py:64: RuntimeWarning: invalid value encountered in divide\n",
      "  gnr_sim[i] = np.dot((a - np.mean(a)), (b - np.mean(b))) / ((np.linalg.norm(a - np.mean(a))) * (np.linalg.norm(b - np.mean(b))))\n",
      "C:\\Users\\pigwo\\AppData\\Local\\Temp\\ipykernel_5032\\1524012274.py:64: RuntimeWarning: invalid value encountered in divide\n",
      "  gnr_sim[i] = np.dot((a - np.mean(a)), (b - np.mean(b))) / ((np.linalg.norm(a - np.mean(a))) * (np.linalg.norm(b - np.mean(b))))\n",
      "C:\\Users\\pigwo\\AppData\\Local\\Temp\\ipykernel_5032\\1524012274.py:64: RuntimeWarning: invalid value encountered in divide\n",
      "  gnr_sim[i] = np.dot((a - np.mean(a)), (b - np.mean(b))) / ((np.linalg.norm(a - np.mean(a))) * (np.linalg.norm(b - np.mean(b))))\n",
      "C:\\Users\\pigwo\\AppData\\Local\\Temp\\ipykernel_5032\\1524012274.py:64: RuntimeWarning: invalid value encountered in divide\n",
      "  gnr_sim[i] = np.dot((a - np.mean(a)), (b - np.mean(b))) / ((np.linalg.norm(a - np.mean(a))) * (np.linalg.norm(b - np.mean(b))))\n",
      "C:\\Users\\pigwo\\AppData\\Local\\Temp\\ipykernel_5032\\1524012274.py:64: RuntimeWarning: invalid value encountered in divide\n",
      "  gnr_sim[i] = np.dot((a - np.mean(a)), (b - np.mean(b))) / ((np.linalg.norm(a - np.mean(a))) * (np.linalg.norm(b - np.mean(b))))\n",
      "C:\\Users\\pigwo\\AppData\\Local\\Temp\\ipykernel_5032\\1524012274.py:64: RuntimeWarning: invalid value encountered in divide\n",
      "  gnr_sim[i] = np.dot((a - np.mean(a)), (b - np.mean(b))) / ((np.linalg.norm(a - np.mean(a))) * (np.linalg.norm(b - np.mean(b))))\n",
      "C:\\Users\\pigwo\\AppData\\Local\\Temp\\ipykernel_5032\\1524012274.py:64: RuntimeWarning: invalid value encountered in divide\n",
      "  gnr_sim[i] = np.dot((a - np.mean(a)), (b - np.mean(b))) / ((np.linalg.norm(a - np.mean(a))) * (np.linalg.norm(b - np.mean(b))))\n",
      "C:\\Users\\pigwo\\AppData\\Local\\Temp\\ipykernel_5032\\1524012274.py:64: RuntimeWarning: invalid value encountered in divide\n",
      "  gnr_sim[i] = np.dot((a - np.mean(a)), (b - np.mean(b))) / ((np.linalg.norm(a - np.mean(a))) * (np.linalg.norm(b - np.mean(b))))\n",
      "C:\\Users\\pigwo\\AppData\\Local\\Temp\\ipykernel_5032\\1524012274.py:64: RuntimeWarning: invalid value encountered in divide\n",
      "  gnr_sim[i] = np.dot((a - np.mean(a)), (b - np.mean(b))) / ((np.linalg.norm(a - np.mean(a))) * (np.linalg.norm(b - np.mean(b))))\n",
      "C:\\Users\\pigwo\\AppData\\Local\\Temp\\ipykernel_5032\\1524012274.py:64: RuntimeWarning: invalid value encountered in divide\n",
      "  gnr_sim[i] = np.dot((a - np.mean(a)), (b - np.mean(b))) / ((np.linalg.norm(a - np.mean(a))) * (np.linalg.norm(b - np.mean(b))))\n",
      "C:\\Users\\pigwo\\AppData\\Local\\Temp\\ipykernel_5032\\1524012274.py:64: RuntimeWarning: invalid value encountered in divide\n",
      "  gnr_sim[i] = np.dot((a - np.mean(a)), (b - np.mean(b))) / ((np.linalg.norm(a - np.mean(a))) * (np.linalg.norm(b - np.mean(b))))\n",
      "C:\\Users\\pigwo\\AppData\\Local\\Temp\\ipykernel_5032\\1524012274.py:64: RuntimeWarning: invalid value encountered in divide\n",
      "  gnr_sim[i] = np.dot((a - np.mean(a)), (b - np.mean(b))) / ((np.linalg.norm(a - np.mean(a))) * (np.linalg.norm(b - np.mean(b))))\n",
      "C:\\Users\\pigwo\\AppData\\Local\\Temp\\ipykernel_5032\\1524012274.py:64: RuntimeWarning: invalid value encountered in divide\n",
      "  gnr_sim[i] = np.dot((a - np.mean(a)), (b - np.mean(b))) / ((np.linalg.norm(a - np.mean(a))) * (np.linalg.norm(b - np.mean(b))))\n",
      "C:\\Users\\pigwo\\AppData\\Local\\Temp\\ipykernel_5032\\1524012274.py:64: RuntimeWarning: invalid value encountered in divide\n",
      "  gnr_sim[i] = np.dot((a - np.mean(a)), (b - np.mean(b))) / ((np.linalg.norm(a - np.mean(a))) * (np.linalg.norm(b - np.mean(b))))\n",
      "C:\\Users\\pigwo\\AppData\\Local\\Temp\\ipykernel_5032\\1524012274.py:64: RuntimeWarning: invalid value encountered in divide\n",
      "  gnr_sim[i] = np.dot((a - np.mean(a)), (b - np.mean(b))) / ((np.linalg.norm(a - np.mean(a))) * (np.linalg.norm(b - np.mean(b))))\n",
      "C:\\Users\\pigwo\\AppData\\Local\\Temp\\ipykernel_5032\\1524012274.py:64: RuntimeWarning: invalid value encountered in divide\n",
      "  gnr_sim[i] = np.dot((a - np.mean(a)), (b - np.mean(b))) / ((np.linalg.norm(a - np.mean(a))) * (np.linalg.norm(b - np.mean(b))))\n",
      "C:\\Users\\pigwo\\AppData\\Local\\Temp\\ipykernel_5032\\1524012274.py:64: RuntimeWarning: invalid value encountered in divide\n",
      "  gnr_sim[i] = np.dot((a - np.mean(a)), (b - np.mean(b))) / ((np.linalg.norm(a - np.mean(a))) * (np.linalg.norm(b - np.mean(b))))\n",
      "C:\\Users\\pigwo\\AppData\\Local\\Temp\\ipykernel_5032\\1524012274.py:64: RuntimeWarning: invalid value encountered in divide\n",
      "  gnr_sim[i] = np.dot((a - np.mean(a)), (b - np.mean(b))) / ((np.linalg.norm(a - np.mean(a))) * (np.linalg.norm(b - np.mean(b))))\n",
      "C:\\Users\\pigwo\\AppData\\Local\\Temp\\ipykernel_5032\\1524012274.py:64: RuntimeWarning: invalid value encountered in divide\n",
      "  gnr_sim[i] = np.dot((a - np.mean(a)), (b - np.mean(b))) / ((np.linalg.norm(a - np.mean(a))) * (np.linalg.norm(b - np.mean(b))))\n",
      "C:\\Users\\pigwo\\AppData\\Local\\Temp\\ipykernel_5032\\1524012274.py:64: RuntimeWarning: invalid value encountered in divide\n",
      "  gnr_sim[i] = np.dot((a - np.mean(a)), (b - np.mean(b))) / ((np.linalg.norm(a - np.mean(a))) * (np.linalg.norm(b - np.mean(b))))\n",
      "C:\\Users\\pigwo\\AppData\\Local\\Temp\\ipykernel_5032\\1524012274.py:64: RuntimeWarning: invalid value encountered in divide\n",
      "  gnr_sim[i] = np.dot((a - np.mean(a)), (b - np.mean(b))) / ((np.linalg.norm(a - np.mean(a))) * (np.linalg.norm(b - np.mean(b))))\n",
      "C:\\Users\\pigwo\\AppData\\Local\\Temp\\ipykernel_5032\\1524012274.py:64: RuntimeWarning: invalid value encountered in divide\n",
      "  gnr_sim[i] = np.dot((a - np.mean(a)), (b - np.mean(b))) / ((np.linalg.norm(a - np.mean(a))) * (np.linalg.norm(b - np.mean(b))))\n",
      "C:\\Users\\pigwo\\AppData\\Local\\Temp\\ipykernel_5032\\1524012274.py:64: RuntimeWarning: invalid value encountered in divide\n",
      "  gnr_sim[i] = np.dot((a - np.mean(a)), (b - np.mean(b))) / ((np.linalg.norm(a - np.mean(a))) * (np.linalg.norm(b - np.mean(b))))\n",
      "C:\\Users\\pigwo\\AppData\\Local\\Temp\\ipykernel_5032\\1524012274.py:64: RuntimeWarning: invalid value encountered in divide\n",
      "  gnr_sim[i] = np.dot((a - np.mean(a)), (b - np.mean(b))) / ((np.linalg.norm(a - np.mean(a))) * (np.linalg.norm(b - np.mean(b))))\n"
     ]
    },
    {
     "name": "stderr",
     "output_type": "stream",
     "text": [
      "C:\\Users\\pigwo\\AppData\\Local\\Temp\\ipykernel_5032\\1524012274.py:64: RuntimeWarning: invalid value encountered in divide\n",
      "  gnr_sim[i] = np.dot((a - np.mean(a)), (b - np.mean(b))) / ((np.linalg.norm(a - np.mean(a))) * (np.linalg.norm(b - np.mean(b))))\n",
      "C:\\Users\\pigwo\\AppData\\Local\\Temp\\ipykernel_5032\\1524012274.py:64: RuntimeWarning: invalid value encountered in divide\n",
      "  gnr_sim[i] = np.dot((a - np.mean(a)), (b - np.mean(b))) / ((np.linalg.norm(a - np.mean(a))) * (np.linalg.norm(b - np.mean(b))))\n",
      "C:\\Users\\pigwo\\AppData\\Local\\Temp\\ipykernel_5032\\1524012274.py:64: RuntimeWarning: invalid value encountered in divide\n",
      "  gnr_sim[i] = np.dot((a - np.mean(a)), (b - np.mean(b))) / ((np.linalg.norm(a - np.mean(a))) * (np.linalg.norm(b - np.mean(b))))\n",
      "C:\\Users\\pigwo\\AppData\\Local\\Temp\\ipykernel_5032\\1524012274.py:64: RuntimeWarning: invalid value encountered in divide\n",
      "  gnr_sim[i] = np.dot((a - np.mean(a)), (b - np.mean(b))) / ((np.linalg.norm(a - np.mean(a))) * (np.linalg.norm(b - np.mean(b))))\n",
      "C:\\Users\\pigwo\\AppData\\Local\\Temp\\ipykernel_5032\\1524012274.py:64: RuntimeWarning: invalid value encountered in divide\n",
      "  gnr_sim[i] = np.dot((a - np.mean(a)), (b - np.mean(b))) / ((np.linalg.norm(a - np.mean(a))) * (np.linalg.norm(b - np.mean(b))))\n",
      "C:\\Users\\pigwo\\AppData\\Local\\Temp\\ipykernel_5032\\1524012274.py:64: RuntimeWarning: invalid value encountered in divide\n",
      "  gnr_sim[i] = np.dot((a - np.mean(a)), (b - np.mean(b))) / ((np.linalg.norm(a - np.mean(a))) * (np.linalg.norm(b - np.mean(b))))\n",
      "C:\\Users\\pigwo\\AppData\\Local\\Temp\\ipykernel_5032\\1524012274.py:64: RuntimeWarning: invalid value encountered in divide\n",
      "  gnr_sim[i] = np.dot((a - np.mean(a)), (b - np.mean(b))) / ((np.linalg.norm(a - np.mean(a))) * (np.linalg.norm(b - np.mean(b))))\n",
      "C:\\Users\\pigwo\\AppData\\Local\\Temp\\ipykernel_5032\\1524012274.py:64: RuntimeWarning: invalid value encountered in divide\n",
      "  gnr_sim[i] = np.dot((a - np.mean(a)), (b - np.mean(b))) / ((np.linalg.norm(a - np.mean(a))) * (np.linalg.norm(b - np.mean(b))))\n",
      "C:\\Users\\pigwo\\AppData\\Local\\Temp\\ipykernel_5032\\1524012274.py:64: RuntimeWarning: invalid value encountered in divide\n",
      "  gnr_sim[i] = np.dot((a - np.mean(a)), (b - np.mean(b))) / ((np.linalg.norm(a - np.mean(a))) * (np.linalg.norm(b - np.mean(b))))\n",
      "C:\\Users\\pigwo\\AppData\\Local\\Temp\\ipykernel_5032\\1524012274.py:64: RuntimeWarning: invalid value encountered in divide\n",
      "  gnr_sim[i] = np.dot((a - np.mean(a)), (b - np.mean(b))) / ((np.linalg.norm(a - np.mean(a))) * (np.linalg.norm(b - np.mean(b))))\n",
      "C:\\Users\\pigwo\\AppData\\Local\\Temp\\ipykernel_5032\\1524012274.py:64: RuntimeWarning: invalid value encountered in divide\n",
      "  gnr_sim[i] = np.dot((a - np.mean(a)), (b - np.mean(b))) / ((np.linalg.norm(a - np.mean(a))) * (np.linalg.norm(b - np.mean(b))))\n",
      "C:\\Users\\pigwo\\AppData\\Local\\Temp\\ipykernel_5032\\1524012274.py:64: RuntimeWarning: invalid value encountered in divide\n",
      "  gnr_sim[i] = np.dot((a - np.mean(a)), (b - np.mean(b))) / ((np.linalg.norm(a - np.mean(a))) * (np.linalg.norm(b - np.mean(b))))\n",
      "C:\\Users\\pigwo\\AppData\\Local\\Temp\\ipykernel_5032\\1524012274.py:64: RuntimeWarning: invalid value encountered in divide\n",
      "  gnr_sim[i] = np.dot((a - np.mean(a)), (b - np.mean(b))) / ((np.linalg.norm(a - np.mean(a))) * (np.linalg.norm(b - np.mean(b))))\n",
      "C:\\Users\\pigwo\\AppData\\Local\\Temp\\ipykernel_5032\\1524012274.py:64: RuntimeWarning: invalid value encountered in divide\n",
      "  gnr_sim[i] = np.dot((a - np.mean(a)), (b - np.mean(b))) / ((np.linalg.norm(a - np.mean(a))) * (np.linalg.norm(b - np.mean(b))))\n",
      "C:\\Users\\pigwo\\AppData\\Local\\Temp\\ipykernel_5032\\1524012274.py:64: RuntimeWarning: invalid value encountered in divide\n",
      "  gnr_sim[i] = np.dot((a - np.mean(a)), (b - np.mean(b))) / ((np.linalg.norm(a - np.mean(a))) * (np.linalg.norm(b - np.mean(b))))\n",
      "C:\\Users\\pigwo\\AppData\\Local\\Temp\\ipykernel_5032\\1524012274.py:64: RuntimeWarning: invalid value encountered in divide\n",
      "  gnr_sim[i] = np.dot((a - np.mean(a)), (b - np.mean(b))) / ((np.linalg.norm(a - np.mean(a))) * (np.linalg.norm(b - np.mean(b))))\n",
      "C:\\Users\\pigwo\\AppData\\Local\\Temp\\ipykernel_5032\\1524012274.py:64: RuntimeWarning: invalid value encountered in divide\n",
      "  gnr_sim[i] = np.dot((a - np.mean(a)), (b - np.mean(b))) / ((np.linalg.norm(a - np.mean(a))) * (np.linalg.norm(b - np.mean(b))))\n",
      "C:\\Users\\pigwo\\AppData\\Local\\Temp\\ipykernel_5032\\1524012274.py:64: RuntimeWarning: invalid value encountered in divide\n",
      "  gnr_sim[i] = np.dot((a - np.mean(a)), (b - np.mean(b))) / ((np.linalg.norm(a - np.mean(a))) * (np.linalg.norm(b - np.mean(b))))\n",
      "C:\\Users\\pigwo\\AppData\\Local\\Temp\\ipykernel_5032\\1524012274.py:64: RuntimeWarning: invalid value encountered in divide\n",
      "  gnr_sim[i] = np.dot((a - np.mean(a)), (b - np.mean(b))) / ((np.linalg.norm(a - np.mean(a))) * (np.linalg.norm(b - np.mean(b))))\n",
      "C:\\Users\\pigwo\\AppData\\Local\\Temp\\ipykernel_5032\\1524012274.py:64: RuntimeWarning: invalid value encountered in divide\n",
      "  gnr_sim[i] = np.dot((a - np.mean(a)), (b - np.mean(b))) / ((np.linalg.norm(a - np.mean(a))) * (np.linalg.norm(b - np.mean(b))))\n",
      "C:\\Users\\pigwo\\AppData\\Local\\Temp\\ipykernel_5032\\1524012274.py:64: RuntimeWarning: invalid value encountered in divide\n",
      "  gnr_sim[i] = np.dot((a - np.mean(a)), (b - np.mean(b))) / ((np.linalg.norm(a - np.mean(a))) * (np.linalg.norm(b - np.mean(b))))\n",
      "C:\\Users\\pigwo\\AppData\\Local\\Temp\\ipykernel_5032\\1524012274.py:64: RuntimeWarning: invalid value encountered in divide\n",
      "  gnr_sim[i] = np.dot((a - np.mean(a)), (b - np.mean(b))) / ((np.linalg.norm(a - np.mean(a))) * (np.linalg.norm(b - np.mean(b))))\n",
      "C:\\Users\\pigwo\\AppData\\Local\\Temp\\ipykernel_5032\\1524012274.py:64: RuntimeWarning: invalid value encountered in divide\n",
      "  gnr_sim[i] = np.dot((a - np.mean(a)), (b - np.mean(b))) / ((np.linalg.norm(a - np.mean(a))) * (np.linalg.norm(b - np.mean(b))))\n",
      "C:\\Users\\pigwo\\AppData\\Local\\Temp\\ipykernel_5032\\1524012274.py:64: RuntimeWarning: invalid value encountered in divide\n",
      "  gnr_sim[i] = np.dot((a - np.mean(a)), (b - np.mean(b))) / ((np.linalg.norm(a - np.mean(a))) * (np.linalg.norm(b - np.mean(b))))\n",
      "C:\\Users\\pigwo\\AppData\\Local\\Temp\\ipykernel_5032\\1524012274.py:64: RuntimeWarning: invalid value encountered in divide\n",
      "  gnr_sim[i] = np.dot((a - np.mean(a)), (b - np.mean(b))) / ((np.linalg.norm(a - np.mean(a))) * (np.linalg.norm(b - np.mean(b))))\n",
      "C:\\Users\\pigwo\\AppData\\Local\\Temp\\ipykernel_5032\\1524012274.py:64: RuntimeWarning: invalid value encountered in divide\n",
      "  gnr_sim[i] = np.dot((a - np.mean(a)), (b - np.mean(b))) / ((np.linalg.norm(a - np.mean(a))) * (np.linalg.norm(b - np.mean(b))))\n",
      "C:\\Users\\pigwo\\AppData\\Local\\Temp\\ipykernel_5032\\1524012274.py:64: RuntimeWarning: invalid value encountered in divide\n",
      "  gnr_sim[i] = np.dot((a - np.mean(a)), (b - np.mean(b))) / ((np.linalg.norm(a - np.mean(a))) * (np.linalg.norm(b - np.mean(b))))\n",
      "C:\\Users\\pigwo\\AppData\\Local\\Temp\\ipykernel_5032\\1524012274.py:64: RuntimeWarning: invalid value encountered in divide\n",
      "  gnr_sim[i] = np.dot((a - np.mean(a)), (b - np.mean(b))) / ((np.linalg.norm(a - np.mean(a))) * (np.linalg.norm(b - np.mean(b))))\n",
      "C:\\Users\\pigwo\\AppData\\Local\\Temp\\ipykernel_5032\\1524012274.py:64: RuntimeWarning: invalid value encountered in divide\n",
      "  gnr_sim[i] = np.dot((a - np.mean(a)), (b - np.mean(b))) / ((np.linalg.norm(a - np.mean(a))) * (np.linalg.norm(b - np.mean(b))))\n",
      "C:\\Users\\pigwo\\AppData\\Local\\Temp\\ipykernel_5032\\1524012274.py:64: RuntimeWarning: invalid value encountered in divide\n",
      "  gnr_sim[i] = np.dot((a - np.mean(a)), (b - np.mean(b))) / ((np.linalg.norm(a - np.mean(a))) * (np.linalg.norm(b - np.mean(b))))\n",
      "C:\\Users\\pigwo\\AppData\\Local\\Temp\\ipykernel_5032\\1524012274.py:64: RuntimeWarning: invalid value encountered in divide\n",
      "  gnr_sim[i] = np.dot((a - np.mean(a)), (b - np.mean(b))) / ((np.linalg.norm(a - np.mean(a))) * (np.linalg.norm(b - np.mean(b))))\n",
      "C:\\Users\\pigwo\\AppData\\Local\\Temp\\ipykernel_5032\\1524012274.py:64: RuntimeWarning: invalid value encountered in divide\n",
      "  gnr_sim[i] = np.dot((a - np.mean(a)), (b - np.mean(b))) / ((np.linalg.norm(a - np.mean(a))) * (np.linalg.norm(b - np.mean(b))))\n",
      "C:\\Users\\pigwo\\AppData\\Local\\Temp\\ipykernel_5032\\1524012274.py:64: RuntimeWarning: invalid value encountered in divide\n",
      "  gnr_sim[i] = np.dot((a - np.mean(a)), (b - np.mean(b))) / ((np.linalg.norm(a - np.mean(a))) * (np.linalg.norm(b - np.mean(b))))\n"
     ]
    },
    {
     "name": "stderr",
     "output_type": "stream",
     "text": [
      "C:\\Users\\pigwo\\AppData\\Local\\Temp\\ipykernel_5032\\1524012274.py:64: RuntimeWarning: invalid value encountered in divide\n",
      "  gnr_sim[i] = np.dot((a - np.mean(a)), (b - np.mean(b))) / ((np.linalg.norm(a - np.mean(a))) * (np.linalg.norm(b - np.mean(b))))\n",
      "C:\\Users\\pigwo\\AppData\\Local\\Temp\\ipykernel_5032\\1524012274.py:64: RuntimeWarning: invalid value encountered in divide\n",
      "  gnr_sim[i] = np.dot((a - np.mean(a)), (b - np.mean(b))) / ((np.linalg.norm(a - np.mean(a))) * (np.linalg.norm(b - np.mean(b))))\n",
      "C:\\Users\\pigwo\\AppData\\Local\\Temp\\ipykernel_5032\\1524012274.py:64: RuntimeWarning: invalid value encountered in divide\n",
      "  gnr_sim[i] = np.dot((a - np.mean(a)), (b - np.mean(b))) / ((np.linalg.norm(a - np.mean(a))) * (np.linalg.norm(b - np.mean(b))))\n",
      "C:\\Users\\pigwo\\AppData\\Local\\Temp\\ipykernel_5032\\1524012274.py:64: RuntimeWarning: invalid value encountered in divide\n",
      "  gnr_sim[i] = np.dot((a - np.mean(a)), (b - np.mean(b))) / ((np.linalg.norm(a - np.mean(a))) * (np.linalg.norm(b - np.mean(b))))\n",
      "C:\\Users\\pigwo\\AppData\\Local\\Temp\\ipykernel_5032\\1524012274.py:64: RuntimeWarning: invalid value encountered in divide\n",
      "  gnr_sim[i] = np.dot((a - np.mean(a)), (b - np.mean(b))) / ((np.linalg.norm(a - np.mean(a))) * (np.linalg.norm(b - np.mean(b))))\n",
      "C:\\Users\\pigwo\\AppData\\Local\\Temp\\ipykernel_5032\\1524012274.py:64: RuntimeWarning: invalid value encountered in divide\n",
      "  gnr_sim[i] = np.dot((a - np.mean(a)), (b - np.mean(b))) / ((np.linalg.norm(a - np.mean(a))) * (np.linalg.norm(b - np.mean(b))))\n",
      "C:\\Users\\pigwo\\AppData\\Local\\Temp\\ipykernel_5032\\1524012274.py:64: RuntimeWarning: invalid value encountered in divide\n",
      "  gnr_sim[i] = np.dot((a - np.mean(a)), (b - np.mean(b))) / ((np.linalg.norm(a - np.mean(a))) * (np.linalg.norm(b - np.mean(b))))\n",
      "C:\\Users\\pigwo\\AppData\\Local\\Temp\\ipykernel_5032\\1524012274.py:64: RuntimeWarning: invalid value encountered in divide\n",
      "  gnr_sim[i] = np.dot((a - np.mean(a)), (b - np.mean(b))) / ((np.linalg.norm(a - np.mean(a))) * (np.linalg.norm(b - np.mean(b))))\n",
      "C:\\Users\\pigwo\\AppData\\Local\\Temp\\ipykernel_5032\\1524012274.py:64: RuntimeWarning: invalid value encountered in divide\n",
      "  gnr_sim[i] = np.dot((a - np.mean(a)), (b - np.mean(b))) / ((np.linalg.norm(a - np.mean(a))) * (np.linalg.norm(b - np.mean(b))))\n",
      "C:\\Users\\pigwo\\AppData\\Local\\Temp\\ipykernel_5032\\1524012274.py:64: RuntimeWarning: invalid value encountered in divide\n",
      "  gnr_sim[i] = np.dot((a - np.mean(a)), (b - np.mean(b))) / ((np.linalg.norm(a - np.mean(a))) * (np.linalg.norm(b - np.mean(b))))\n",
      "C:\\Users\\pigwo\\AppData\\Local\\Temp\\ipykernel_5032\\1524012274.py:64: RuntimeWarning: invalid value encountered in divide\n",
      "  gnr_sim[i] = np.dot((a - np.mean(a)), (b - np.mean(b))) / ((np.linalg.norm(a - np.mean(a))) * (np.linalg.norm(b - np.mean(b))))\n",
      "C:\\Users\\pigwo\\AppData\\Local\\Temp\\ipykernel_5032\\1524012274.py:64: RuntimeWarning: invalid value encountered in divide\n",
      "  gnr_sim[i] = np.dot((a - np.mean(a)), (b - np.mean(b))) / ((np.linalg.norm(a - np.mean(a))) * (np.linalg.norm(b - np.mean(b))))\n",
      "C:\\Users\\pigwo\\anaconda3\\Lib\\site-packages\\numpy\\core\\fromnumeric.py:3464: RuntimeWarning: Mean of empty slice.\n",
      "  return _methods._mean(a, axis=axis, dtype=dtype,\n",
      "C:\\Users\\pigwo\\anaconda3\\Lib\\site-packages\\numpy\\core\\_methods.py:192: RuntimeWarning: invalid value encountered in scalar divide\n",
      "  ret = ret.dtype.type(ret / rcount)\n",
      "C:\\Users\\pigwo\\AppData\\Local\\Temp\\ipykernel_5032\\1524012274.py:64: RuntimeWarning: invalid value encountered in divide\n",
      "  gnr_sim[i] = np.dot((a - np.mean(a)), (b - np.mean(b))) / ((np.linalg.norm(a - np.mean(a))) * (np.linalg.norm(b - np.mean(b))))\n",
      "C:\\Users\\pigwo\\AppData\\Local\\Temp\\ipykernel_5032\\1524012274.py:64: RuntimeWarning: invalid value encountered in divide\n",
      "  gnr_sim[i] = np.dot((a - np.mean(a)), (b - np.mean(b))) / ((np.linalg.norm(a - np.mean(a))) * (np.linalg.norm(b - np.mean(b))))\n",
      "C:\\Users\\pigwo\\AppData\\Local\\Temp\\ipykernel_5032\\1524012274.py:64: RuntimeWarning: invalid value encountered in divide\n",
      "  gnr_sim[i] = np.dot((a - np.mean(a)), (b - np.mean(b))) / ((np.linalg.norm(a - np.mean(a))) * (np.linalg.norm(b - np.mean(b))))\n",
      "C:\\Users\\pigwo\\AppData\\Local\\Temp\\ipykernel_5032\\1524012274.py:64: RuntimeWarning: invalid value encountered in divide\n",
      "  gnr_sim[i] = np.dot((a - np.mean(a)), (b - np.mean(b))) / ((np.linalg.norm(a - np.mean(a))) * (np.linalg.norm(b - np.mean(b))))\n",
      "C:\\Users\\pigwo\\AppData\\Local\\Temp\\ipykernel_5032\\1524012274.py:64: RuntimeWarning: invalid value encountered in divide\n",
      "  gnr_sim[i] = np.dot((a - np.mean(a)), (b - np.mean(b))) / ((np.linalg.norm(a - np.mean(a))) * (np.linalg.norm(b - np.mean(b))))\n",
      "C:\\Users\\pigwo\\AppData\\Local\\Temp\\ipykernel_5032\\1524012274.py:64: RuntimeWarning: invalid value encountered in divide\n",
      "  gnr_sim[i] = np.dot((a - np.mean(a)), (b - np.mean(b))) / ((np.linalg.norm(a - np.mean(a))) * (np.linalg.norm(b - np.mean(b))))\n",
      "C:\\Users\\pigwo\\AppData\\Local\\Temp\\ipykernel_5032\\1524012274.py:64: RuntimeWarning: invalid value encountered in divide\n",
      "  gnr_sim[i] = np.dot((a - np.mean(a)), (b - np.mean(b))) / ((np.linalg.norm(a - np.mean(a))) * (np.linalg.norm(b - np.mean(b))))\n",
      "C:\\Users\\pigwo\\AppData\\Local\\Temp\\ipykernel_5032\\1524012274.py:64: RuntimeWarning: invalid value encountered in divide\n",
      "  gnr_sim[i] = np.dot((a - np.mean(a)), (b - np.mean(b))) / ((np.linalg.norm(a - np.mean(a))) * (np.linalg.norm(b - np.mean(b))))\n",
      "C:\\Users\\pigwo\\AppData\\Local\\Temp\\ipykernel_5032\\1524012274.py:64: RuntimeWarning: invalid value encountered in divide\n",
      "  gnr_sim[i] = np.dot((a - np.mean(a)), (b - np.mean(b))) / ((np.linalg.norm(a - np.mean(a))) * (np.linalg.norm(b - np.mean(b))))\n",
      "C:\\Users\\pigwo\\AppData\\Local\\Temp\\ipykernel_5032\\1524012274.py:64: RuntimeWarning: invalid value encountered in divide\n",
      "  gnr_sim[i] = np.dot((a - np.mean(a)), (b - np.mean(b))) / ((np.linalg.norm(a - np.mean(a))) * (np.linalg.norm(b - np.mean(b))))\n",
      "C:\\Users\\pigwo\\AppData\\Local\\Temp\\ipykernel_5032\\1524012274.py:64: RuntimeWarning: invalid value encountered in divide\n",
      "  gnr_sim[i] = np.dot((a - np.mean(a)), (b - np.mean(b))) / ((np.linalg.norm(a - np.mean(a))) * (np.linalg.norm(b - np.mean(b))))\n",
      "C:\\Users\\pigwo\\AppData\\Local\\Temp\\ipykernel_5032\\1524012274.py:64: RuntimeWarning: invalid value encountered in divide\n",
      "  gnr_sim[i] = np.dot((a - np.mean(a)), (b - np.mean(b))) / ((np.linalg.norm(a - np.mean(a))) * (np.linalg.norm(b - np.mean(b))))\n",
      "C:\\Users\\pigwo\\AppData\\Local\\Temp\\ipykernel_5032\\1524012274.py:64: RuntimeWarning: invalid value encountered in divide\n",
      "  gnr_sim[i] = np.dot((a - np.mean(a)), (b - np.mean(b))) / ((np.linalg.norm(a - np.mean(a))) * (np.linalg.norm(b - np.mean(b))))\n",
      "C:\\Users\\pigwo\\AppData\\Local\\Temp\\ipykernel_5032\\1524012274.py:64: RuntimeWarning: invalid value encountered in divide\n",
      "  gnr_sim[i] = np.dot((a - np.mean(a)), (b - np.mean(b))) / ((np.linalg.norm(a - np.mean(a))) * (np.linalg.norm(b - np.mean(b))))\n",
      "C:\\Users\\pigwo\\AppData\\Local\\Temp\\ipykernel_5032\\1524012274.py:64: RuntimeWarning: invalid value encountered in divide\n",
      "  gnr_sim[i] = np.dot((a - np.mean(a)), (b - np.mean(b))) / ((np.linalg.norm(a - np.mean(a))) * (np.linalg.norm(b - np.mean(b))))\n",
      "C:\\Users\\pigwo\\AppData\\Local\\Temp\\ipykernel_5032\\1524012274.py:64: RuntimeWarning: invalid value encountered in divide\n",
      "  gnr_sim[i] = np.dot((a - np.mean(a)), (b - np.mean(b))) / ((np.linalg.norm(a - np.mean(a))) * (np.linalg.norm(b - np.mean(b))))\n",
      "C:\\Users\\pigwo\\AppData\\Local\\Temp\\ipykernel_5032\\1524012274.py:64: RuntimeWarning: invalid value encountered in divide\n",
      "  gnr_sim[i] = np.dot((a - np.mean(a)), (b - np.mean(b))) / ((np.linalg.norm(a - np.mean(a))) * (np.linalg.norm(b - np.mean(b))))\n",
      "C:\\Users\\pigwo\\AppData\\Local\\Temp\\ipykernel_5032\\1524012274.py:64: RuntimeWarning: invalid value encountered in divide\n",
      "  gnr_sim[i] = np.dot((a - np.mean(a)), (b - np.mean(b))) / ((np.linalg.norm(a - np.mean(a))) * (np.linalg.norm(b - np.mean(b))))\n",
      "C:\\Users\\pigwo\\AppData\\Local\\Temp\\ipykernel_5032\\1524012274.py:64: RuntimeWarning: invalid value encountered in divide\n",
      "  gnr_sim[i] = np.dot((a - np.mean(a)), (b - np.mean(b))) / ((np.linalg.norm(a - np.mean(a))) * (np.linalg.norm(b - np.mean(b))))\n",
      "C:\\Users\\pigwo\\AppData\\Local\\Temp\\ipykernel_5032\\1524012274.py:64: RuntimeWarning: invalid value encountered in divide\n",
      "  gnr_sim[i] = np.dot((a - np.mean(a)), (b - np.mean(b))) / ((np.linalg.norm(a - np.mean(a))) * (np.linalg.norm(b - np.mean(b))))\n"
     ]
    },
    {
     "name": "stderr",
     "output_type": "stream",
     "text": [
      "C:\\Users\\pigwo\\AppData\\Local\\Temp\\ipykernel_5032\\1524012274.py:64: RuntimeWarning: invalid value encountered in divide\n",
      "  gnr_sim[i] = np.dot((a - np.mean(a)), (b - np.mean(b))) / ((np.linalg.norm(a - np.mean(a))) * (np.linalg.norm(b - np.mean(b))))\n",
      "C:\\Users\\pigwo\\AppData\\Local\\Temp\\ipykernel_5032\\1524012274.py:64: RuntimeWarning: invalid value encountered in divide\n",
      "  gnr_sim[i] = np.dot((a - np.mean(a)), (b - np.mean(b))) / ((np.linalg.norm(a - np.mean(a))) * (np.linalg.norm(b - np.mean(b))))\n",
      "C:\\Users\\pigwo\\AppData\\Local\\Temp\\ipykernel_5032\\1524012274.py:64: RuntimeWarning: invalid value encountered in divide\n",
      "  gnr_sim[i] = np.dot((a - np.mean(a)), (b - np.mean(b))) / ((np.linalg.norm(a - np.mean(a))) * (np.linalg.norm(b - np.mean(b))))\n",
      "C:\\Users\\pigwo\\AppData\\Local\\Temp\\ipykernel_5032\\1524012274.py:64: RuntimeWarning: invalid value encountered in divide\n",
      "  gnr_sim[i] = np.dot((a - np.mean(a)), (b - np.mean(b))) / ((np.linalg.norm(a - np.mean(a))) * (np.linalg.norm(b - np.mean(b))))\n",
      "C:\\Users\\pigwo\\AppData\\Local\\Temp\\ipykernel_5032\\1524012274.py:64: RuntimeWarning: invalid value encountered in divide\n",
      "  gnr_sim[i] = np.dot((a - np.mean(a)), (b - np.mean(b))) / ((np.linalg.norm(a - np.mean(a))) * (np.linalg.norm(b - np.mean(b))))\n",
      "C:\\Users\\pigwo\\AppData\\Local\\Temp\\ipykernel_5032\\1524012274.py:64: RuntimeWarning: invalid value encountered in divide\n",
      "  gnr_sim[i] = np.dot((a - np.mean(a)), (b - np.mean(b))) / ((np.linalg.norm(a - np.mean(a))) * (np.linalg.norm(b - np.mean(b))))\n",
      "C:\\Users\\pigwo\\AppData\\Local\\Temp\\ipykernel_5032\\1524012274.py:64: RuntimeWarning: invalid value encountered in divide\n",
      "  gnr_sim[i] = np.dot((a - np.mean(a)), (b - np.mean(b))) / ((np.linalg.norm(a - np.mean(a))) * (np.linalg.norm(b - np.mean(b))))\n",
      "C:\\Users\\pigwo\\AppData\\Local\\Temp\\ipykernel_5032\\1524012274.py:64: RuntimeWarning: invalid value encountered in divide\n",
      "  gnr_sim[i] = np.dot((a - np.mean(a)), (b - np.mean(b))) / ((np.linalg.norm(a - np.mean(a))) * (np.linalg.norm(b - np.mean(b))))\n",
      "C:\\Users\\pigwo\\AppData\\Local\\Temp\\ipykernel_5032\\1524012274.py:64: RuntimeWarning: invalid value encountered in divide\n",
      "  gnr_sim[i] = np.dot((a - np.mean(a)), (b - np.mean(b))) / ((np.linalg.norm(a - np.mean(a))) * (np.linalg.norm(b - np.mean(b))))\n",
      "C:\\Users\\pigwo\\AppData\\Local\\Temp\\ipykernel_5032\\1524012274.py:64: RuntimeWarning: invalid value encountered in divide\n",
      "  gnr_sim[i] = np.dot((a - np.mean(a)), (b - np.mean(b))) / ((np.linalg.norm(a - np.mean(a))) * (np.linalg.norm(b - np.mean(b))))\n",
      "C:\\Users\\pigwo\\anaconda3\\Lib\\site-packages\\numpy\\core\\fromnumeric.py:3464: RuntimeWarning: Mean of empty slice.\n",
      "  return _methods._mean(a, axis=axis, dtype=dtype,\n",
      "C:\\Users\\pigwo\\anaconda3\\Lib\\site-packages\\numpy\\core\\_methods.py:192: RuntimeWarning: invalid value encountered in scalar divide\n",
      "  ret = ret.dtype.type(ret / rcount)\n",
      "C:\\Users\\pigwo\\AppData\\Local\\Temp\\ipykernel_5032\\1524012274.py:64: RuntimeWarning: invalid value encountered in divide\n",
      "  gnr_sim[i] = np.dot((a - np.mean(a)), (b - np.mean(b))) / ((np.linalg.norm(a - np.mean(a))) * (np.linalg.norm(b - np.mean(b))))\n",
      "C:\\Users\\pigwo\\AppData\\Local\\Temp\\ipykernel_5032\\1524012274.py:64: RuntimeWarning: invalid value encountered in divide\n",
      "  gnr_sim[i] = np.dot((a - np.mean(a)), (b - np.mean(b))) / ((np.linalg.norm(a - np.mean(a))) * (np.linalg.norm(b - np.mean(b))))\n",
      "C:\\Users\\pigwo\\AppData\\Local\\Temp\\ipykernel_5032\\1524012274.py:64: RuntimeWarning: invalid value encountered in divide\n",
      "  gnr_sim[i] = np.dot((a - np.mean(a)), (b - np.mean(b))) / ((np.linalg.norm(a - np.mean(a))) * (np.linalg.norm(b - np.mean(b))))\n",
      "C:\\Users\\pigwo\\AppData\\Local\\Temp\\ipykernel_5032\\1524012274.py:64: RuntimeWarning: invalid value encountered in divide\n",
      "  gnr_sim[i] = np.dot((a - np.mean(a)), (b - np.mean(b))) / ((np.linalg.norm(a - np.mean(a))) * (np.linalg.norm(b - np.mean(b))))\n",
      "C:\\Users\\pigwo\\AppData\\Local\\Temp\\ipykernel_5032\\1524012274.py:64: RuntimeWarning: invalid value encountered in divide\n",
      "  gnr_sim[i] = np.dot((a - np.mean(a)), (b - np.mean(b))) / ((np.linalg.norm(a - np.mean(a))) * (np.linalg.norm(b - np.mean(b))))\n",
      "C:\\Users\\pigwo\\AppData\\Local\\Temp\\ipykernel_5032\\1524012274.py:64: RuntimeWarning: invalid value encountered in divide\n",
      "  gnr_sim[i] = np.dot((a - np.mean(a)), (b - np.mean(b))) / ((np.linalg.norm(a - np.mean(a))) * (np.linalg.norm(b - np.mean(b))))\n",
      "C:\\Users\\pigwo\\AppData\\Local\\Temp\\ipykernel_5032\\1524012274.py:64: RuntimeWarning: invalid value encountered in divide\n",
      "  gnr_sim[i] = np.dot((a - np.mean(a)), (b - np.mean(b))) / ((np.linalg.norm(a - np.mean(a))) * (np.linalg.norm(b - np.mean(b))))\n",
      "C:\\Users\\pigwo\\AppData\\Local\\Temp\\ipykernel_5032\\1524012274.py:64: RuntimeWarning: invalid value encountered in divide\n",
      "  gnr_sim[i] = np.dot((a - np.mean(a)), (b - np.mean(b))) / ((np.linalg.norm(a - np.mean(a))) * (np.linalg.norm(b - np.mean(b))))\n",
      "C:\\Users\\pigwo\\AppData\\Local\\Temp\\ipykernel_5032\\1524012274.py:64: RuntimeWarning: invalid value encountered in divide\n",
      "  gnr_sim[i] = np.dot((a - np.mean(a)), (b - np.mean(b))) / ((np.linalg.norm(a - np.mean(a))) * (np.linalg.norm(b - np.mean(b))))\n",
      "C:\\Users\\pigwo\\AppData\\Local\\Temp\\ipykernel_5032\\1524012274.py:64: RuntimeWarning: invalid value encountered in divide\n",
      "  gnr_sim[i] = np.dot((a - np.mean(a)), (b - np.mean(b))) / ((np.linalg.norm(a - np.mean(a))) * (np.linalg.norm(b - np.mean(b))))\n",
      "C:\\Users\\pigwo\\AppData\\Local\\Temp\\ipykernel_5032\\1524012274.py:64: RuntimeWarning: invalid value encountered in divide\n",
      "  gnr_sim[i] = np.dot((a - np.mean(a)), (b - np.mean(b))) / ((np.linalg.norm(a - np.mean(a))) * (np.linalg.norm(b - np.mean(b))))\n",
      "C:\\Users\\pigwo\\AppData\\Local\\Temp\\ipykernel_5032\\1524012274.py:64: RuntimeWarning: invalid value encountered in divide\n",
      "  gnr_sim[i] = np.dot((a - np.mean(a)), (b - np.mean(b))) / ((np.linalg.norm(a - np.mean(a))) * (np.linalg.norm(b - np.mean(b))))\n",
      "C:\\Users\\pigwo\\AppData\\Local\\Temp\\ipykernel_5032\\1524012274.py:64: RuntimeWarning: invalid value encountered in divide\n",
      "  gnr_sim[i] = np.dot((a - np.mean(a)), (b - np.mean(b))) / ((np.linalg.norm(a - np.mean(a))) * (np.linalg.norm(b - np.mean(b))))\n",
      "C:\\Users\\pigwo\\AppData\\Local\\Temp\\ipykernel_5032\\1524012274.py:64: RuntimeWarning: invalid value encountered in divide\n",
      "  gnr_sim[i] = np.dot((a - np.mean(a)), (b - np.mean(b))) / ((np.linalg.norm(a - np.mean(a))) * (np.linalg.norm(b - np.mean(b))))\n",
      "C:\\Users\\pigwo\\AppData\\Local\\Temp\\ipykernel_5032\\1524012274.py:64: RuntimeWarning: invalid value encountered in divide\n",
      "  gnr_sim[i] = np.dot((a - np.mean(a)), (b - np.mean(b))) / ((np.linalg.norm(a - np.mean(a))) * (np.linalg.norm(b - np.mean(b))))\n",
      "C:\\Users\\pigwo\\AppData\\Local\\Temp\\ipykernel_5032\\1524012274.py:64: RuntimeWarning: invalid value encountered in divide\n",
      "  gnr_sim[i] = np.dot((a - np.mean(a)), (b - np.mean(b))) / ((np.linalg.norm(a - np.mean(a))) * (np.linalg.norm(b - np.mean(b))))\n",
      "C:\\Users\\pigwo\\AppData\\Local\\Temp\\ipykernel_5032\\1524012274.py:64: RuntimeWarning: invalid value encountered in divide\n",
      "  gnr_sim[i] = np.dot((a - np.mean(a)), (b - np.mean(b))) / ((np.linalg.norm(a - np.mean(a))) * (np.linalg.norm(b - np.mean(b))))\n",
      "C:\\Users\\pigwo\\AppData\\Local\\Temp\\ipykernel_5032\\1524012274.py:64: RuntimeWarning: invalid value encountered in divide\n",
      "  gnr_sim[i] = np.dot((a - np.mean(a)), (b - np.mean(b))) / ((np.linalg.norm(a - np.mean(a))) * (np.linalg.norm(b - np.mean(b))))\n",
      "C:\\Users\\pigwo\\AppData\\Local\\Temp\\ipykernel_5032\\1524012274.py:64: RuntimeWarning: invalid value encountered in divide\n",
      "  gnr_sim[i] = np.dot((a - np.mean(a)), (b - np.mean(b))) / ((np.linalg.norm(a - np.mean(a))) * (np.linalg.norm(b - np.mean(b))))\n",
      "C:\\Users\\pigwo\\AppData\\Local\\Temp\\ipykernel_5032\\1524012274.py:64: RuntimeWarning: invalid value encountered in divide\n",
      "  gnr_sim[i] = np.dot((a - np.mean(a)), (b - np.mean(b))) / ((np.linalg.norm(a - np.mean(a))) * (np.linalg.norm(b - np.mean(b))))\n",
      "C:\\Users\\pigwo\\AppData\\Local\\Temp\\ipykernel_5032\\1524012274.py:64: RuntimeWarning: invalid value encountered in divide\n",
      "  gnr_sim[i] = np.dot((a - np.mean(a)), (b - np.mean(b))) / ((np.linalg.norm(a - np.mean(a))) * (np.linalg.norm(b - np.mean(b))))\n",
      "C:\\Users\\pigwo\\AppData\\Local\\Temp\\ipykernel_5032\\1524012274.py:64: RuntimeWarning: invalid value encountered in divide\n",
      "  gnr_sim[i] = np.dot((a - np.mean(a)), (b - np.mean(b))) / ((np.linalg.norm(a - np.mean(a))) * (np.linalg.norm(b - np.mean(b))))\n"
     ]
    },
    {
     "name": "stderr",
     "output_type": "stream",
     "text": [
      "C:\\Users\\pigwo\\AppData\\Local\\Temp\\ipykernel_5032\\1524012274.py:64: RuntimeWarning: invalid value encountered in divide\n",
      "  gnr_sim[i] = np.dot((a - np.mean(a)), (b - np.mean(b))) / ((np.linalg.norm(a - np.mean(a))) * (np.linalg.norm(b - np.mean(b))))\n",
      "C:\\Users\\pigwo\\AppData\\Local\\Temp\\ipykernel_5032\\1524012274.py:64: RuntimeWarning: invalid value encountered in divide\n",
      "  gnr_sim[i] = np.dot((a - np.mean(a)), (b - np.mean(b))) / ((np.linalg.norm(a - np.mean(a))) * (np.linalg.norm(b - np.mean(b))))\n",
      "C:\\Users\\pigwo\\AppData\\Local\\Temp\\ipykernel_5032\\1524012274.py:64: RuntimeWarning: invalid value encountered in divide\n",
      "  gnr_sim[i] = np.dot((a - np.mean(a)), (b - np.mean(b))) / ((np.linalg.norm(a - np.mean(a))) * (np.linalg.norm(b - np.mean(b))))\n",
      "C:\\Users\\pigwo\\AppData\\Local\\Temp\\ipykernel_5032\\1524012274.py:64: RuntimeWarning: invalid value encountered in divide\n",
      "  gnr_sim[i] = np.dot((a - np.mean(a)), (b - np.mean(b))) / ((np.linalg.norm(a - np.mean(a))) * (np.linalg.norm(b - np.mean(b))))\n",
      "C:\\Users\\pigwo\\AppData\\Local\\Temp\\ipykernel_5032\\1524012274.py:64: RuntimeWarning: invalid value encountered in divide\n",
      "  gnr_sim[i] = np.dot((a - np.mean(a)), (b - np.mean(b))) / ((np.linalg.norm(a - np.mean(a))) * (np.linalg.norm(b - np.mean(b))))\n",
      "C:\\Users\\pigwo\\AppData\\Local\\Temp\\ipykernel_5032\\1524012274.py:64: RuntimeWarning: invalid value encountered in divide\n",
      "  gnr_sim[i] = np.dot((a - np.mean(a)), (b - np.mean(b))) / ((np.linalg.norm(a - np.mean(a))) * (np.linalg.norm(b - np.mean(b))))\n",
      "C:\\Users\\pigwo\\AppData\\Local\\Temp\\ipykernel_5032\\1524012274.py:64: RuntimeWarning: invalid value encountered in divide\n",
      "  gnr_sim[i] = np.dot((a - np.mean(a)), (b - np.mean(b))) / ((np.linalg.norm(a - np.mean(a))) * (np.linalg.norm(b - np.mean(b))))\n",
      "C:\\Users\\pigwo\\AppData\\Local\\Temp\\ipykernel_5032\\1524012274.py:64: RuntimeWarning: invalid value encountered in divide\n",
      "  gnr_sim[i] = np.dot((a - np.mean(a)), (b - np.mean(b))) / ((np.linalg.norm(a - np.mean(a))) * (np.linalg.norm(b - np.mean(b))))\n",
      "C:\\Users\\pigwo\\AppData\\Local\\Temp\\ipykernel_5032\\1524012274.py:64: RuntimeWarning: invalid value encountered in divide\n",
      "  gnr_sim[i] = np.dot((a - np.mean(a)), (b - np.mean(b))) / ((np.linalg.norm(a - np.mean(a))) * (np.linalg.norm(b - np.mean(b))))\n",
      "C:\\Users\\pigwo\\AppData\\Local\\Temp\\ipykernel_5032\\1524012274.py:64: RuntimeWarning: invalid value encountered in divide\n",
      "  gnr_sim[i] = np.dot((a - np.mean(a)), (b - np.mean(b))) / ((np.linalg.norm(a - np.mean(a))) * (np.linalg.norm(b - np.mean(b))))\n",
      "C:\\Users\\pigwo\\AppData\\Local\\Temp\\ipykernel_5032\\1524012274.py:64: RuntimeWarning: invalid value encountered in divide\n",
      "  gnr_sim[i] = np.dot((a - np.mean(a)), (b - np.mean(b))) / ((np.linalg.norm(a - np.mean(a))) * (np.linalg.norm(b - np.mean(b))))\n",
      "C:\\Users\\pigwo\\AppData\\Local\\Temp\\ipykernel_5032\\1524012274.py:64: RuntimeWarning: invalid value encountered in divide\n",
      "  gnr_sim[i] = np.dot((a - np.mean(a)), (b - np.mean(b))) / ((np.linalg.norm(a - np.mean(a))) * (np.linalg.norm(b - np.mean(b))))\n",
      "C:\\Users\\pigwo\\AppData\\Local\\Temp\\ipykernel_5032\\1524012274.py:64: RuntimeWarning: invalid value encountered in divide\n",
      "  gnr_sim[i] = np.dot((a - np.mean(a)), (b - np.mean(b))) / ((np.linalg.norm(a - np.mean(a))) * (np.linalg.norm(b - np.mean(b))))\n",
      "C:\\Users\\pigwo\\AppData\\Local\\Temp\\ipykernel_5032\\1524012274.py:64: RuntimeWarning: invalid value encountered in divide\n",
      "  gnr_sim[i] = np.dot((a - np.mean(a)), (b - np.mean(b))) / ((np.linalg.norm(a - np.mean(a))) * (np.linalg.norm(b - np.mean(b))))\n",
      "C:\\Users\\pigwo\\AppData\\Local\\Temp\\ipykernel_5032\\1524012274.py:64: RuntimeWarning: invalid value encountered in divide\n",
      "  gnr_sim[i] = np.dot((a - np.mean(a)), (b - np.mean(b))) / ((np.linalg.norm(a - np.mean(a))) * (np.linalg.norm(b - np.mean(b))))\n",
      "C:\\Users\\pigwo\\AppData\\Local\\Temp\\ipykernel_5032\\1524012274.py:64: RuntimeWarning: invalid value encountered in divide\n",
      "  gnr_sim[i] = np.dot((a - np.mean(a)), (b - np.mean(b))) / ((np.linalg.norm(a - np.mean(a))) * (np.linalg.norm(b - np.mean(b))))\n",
      "C:\\Users\\pigwo\\AppData\\Local\\Temp\\ipykernel_5032\\1524012274.py:64: RuntimeWarning: invalid value encountered in divide\n",
      "  gnr_sim[i] = np.dot((a - np.mean(a)), (b - np.mean(b))) / ((np.linalg.norm(a - np.mean(a))) * (np.linalg.norm(b - np.mean(b))))\n",
      "C:\\Users\\pigwo\\AppData\\Local\\Temp\\ipykernel_5032\\1524012274.py:64: RuntimeWarning: invalid value encountered in divide\n",
      "  gnr_sim[i] = np.dot((a - np.mean(a)), (b - np.mean(b))) / ((np.linalg.norm(a - np.mean(a))) * (np.linalg.norm(b - np.mean(b))))\n",
      "C:\\Users\\pigwo\\AppData\\Local\\Temp\\ipykernel_5032\\1524012274.py:64: RuntimeWarning: invalid value encountered in divide\n",
      "  gnr_sim[i] = np.dot((a - np.mean(a)), (b - np.mean(b))) / ((np.linalg.norm(a - np.mean(a))) * (np.linalg.norm(b - np.mean(b))))\n",
      "C:\\Users\\pigwo\\AppData\\Local\\Temp\\ipykernel_5032\\1524012274.py:64: RuntimeWarning: invalid value encountered in divide\n",
      "  gnr_sim[i] = np.dot((a - np.mean(a)), (b - np.mean(b))) / ((np.linalg.norm(a - np.mean(a))) * (np.linalg.norm(b - np.mean(b))))\n",
      "C:\\Users\\pigwo\\AppData\\Local\\Temp\\ipykernel_5032\\1524012274.py:64: RuntimeWarning: invalid value encountered in divide\n",
      "  gnr_sim[i] = np.dot((a - np.mean(a)), (b - np.mean(b))) / ((np.linalg.norm(a - np.mean(a))) * (np.linalg.norm(b - np.mean(b))))\n",
      "C:\\Users\\pigwo\\AppData\\Local\\Temp\\ipykernel_5032\\1524012274.py:64: RuntimeWarning: invalid value encountered in divide\n",
      "  gnr_sim[i] = np.dot((a - np.mean(a)), (b - np.mean(b))) / ((np.linalg.norm(a - np.mean(a))) * (np.linalg.norm(b - np.mean(b))))\n",
      "C:\\Users\\pigwo\\AppData\\Local\\Temp\\ipykernel_5032\\1524012274.py:64: RuntimeWarning: invalid value encountered in divide\n",
      "  gnr_sim[i] = np.dot((a - np.mean(a)), (b - np.mean(b))) / ((np.linalg.norm(a - np.mean(a))) * (np.linalg.norm(b - np.mean(b))))\n",
      "C:\\Users\\pigwo\\AppData\\Local\\Temp\\ipykernel_5032\\1524012274.py:64: RuntimeWarning: invalid value encountered in divide\n",
      "  gnr_sim[i] = np.dot((a - np.mean(a)), (b - np.mean(b))) / ((np.linalg.norm(a - np.mean(a))) * (np.linalg.norm(b - np.mean(b))))\n",
      "C:\\Users\\pigwo\\AppData\\Local\\Temp\\ipykernel_5032\\1524012274.py:64: RuntimeWarning: invalid value encountered in divide\n",
      "  gnr_sim[i] = np.dot((a - np.mean(a)), (b - np.mean(b))) / ((np.linalg.norm(a - np.mean(a))) * (np.linalg.norm(b - np.mean(b))))\n",
      "C:\\Users\\pigwo\\AppData\\Local\\Temp\\ipykernel_5032\\1524012274.py:64: RuntimeWarning: invalid value encountered in divide\n",
      "  gnr_sim[i] = np.dot((a - np.mean(a)), (b - np.mean(b))) / ((np.linalg.norm(a - np.mean(a))) * (np.linalg.norm(b - np.mean(b))))\n",
      "C:\\Users\\pigwo\\AppData\\Local\\Temp\\ipykernel_5032\\1524012274.py:64: RuntimeWarning: invalid value encountered in divide\n",
      "  gnr_sim[i] = np.dot((a - np.mean(a)), (b - np.mean(b))) / ((np.linalg.norm(a - np.mean(a))) * (np.linalg.norm(b - np.mean(b))))\n",
      "C:\\Users\\pigwo\\AppData\\Local\\Temp\\ipykernel_5032\\1524012274.py:64: RuntimeWarning: invalid value encountered in divide\n",
      "  gnr_sim[i] = np.dot((a - np.mean(a)), (b - np.mean(b))) / ((np.linalg.norm(a - np.mean(a))) * (np.linalg.norm(b - np.mean(b))))\n",
      "C:\\Users\\pigwo\\AppData\\Local\\Temp\\ipykernel_5032\\1524012274.py:64: RuntimeWarning: invalid value encountered in divide\n",
      "  gnr_sim[i] = np.dot((a - np.mean(a)), (b - np.mean(b))) / ((np.linalg.norm(a - np.mean(a))) * (np.linalg.norm(b - np.mean(b))))\n",
      "C:\\Users\\pigwo\\AppData\\Local\\Temp\\ipykernel_5032\\1524012274.py:64: RuntimeWarning: invalid value encountered in divide\n",
      "  gnr_sim[i] = np.dot((a - np.mean(a)), (b - np.mean(b))) / ((np.linalg.norm(a - np.mean(a))) * (np.linalg.norm(b - np.mean(b))))\n",
      "C:\\Users\\pigwo\\AppData\\Local\\Temp\\ipykernel_5032\\1524012274.py:64: RuntimeWarning: invalid value encountered in divide\n",
      "  gnr_sim[i] = np.dot((a - np.mean(a)), (b - np.mean(b))) / ((np.linalg.norm(a - np.mean(a))) * (np.linalg.norm(b - np.mean(b))))\n",
      "C:\\Users\\pigwo\\AppData\\Local\\Temp\\ipykernel_5032\\1524012274.py:64: RuntimeWarning: invalid value encountered in divide\n",
      "  gnr_sim[i] = np.dot((a - np.mean(a)), (b - np.mean(b))) / ((np.linalg.norm(a - np.mean(a))) * (np.linalg.norm(b - np.mean(b))))\n",
      "C:\\Users\\pigwo\\AppData\\Local\\Temp\\ipykernel_5032\\1524012274.py:64: RuntimeWarning: invalid value encountered in divide\n",
      "  gnr_sim[i] = np.dot((a - np.mean(a)), (b - np.mean(b))) / ((np.linalg.norm(a - np.mean(a))) * (np.linalg.norm(b - np.mean(b))))\n"
     ]
    },
    {
     "name": "stderr",
     "output_type": "stream",
     "text": [
      "C:\\Users\\pigwo\\AppData\\Local\\Temp\\ipykernel_5032\\1524012274.py:64: RuntimeWarning: invalid value encountered in divide\n",
      "  gnr_sim[i] = np.dot((a - np.mean(a)), (b - np.mean(b))) / ((np.linalg.norm(a - np.mean(a))) * (np.linalg.norm(b - np.mean(b))))\n",
      "C:\\Users\\pigwo\\AppData\\Local\\Temp\\ipykernel_5032\\1524012274.py:64: RuntimeWarning: invalid value encountered in divide\n",
      "  gnr_sim[i] = np.dot((a - np.mean(a)), (b - np.mean(b))) / ((np.linalg.norm(a - np.mean(a))) * (np.linalg.norm(b - np.mean(b))))\n",
      "C:\\Users\\pigwo\\AppData\\Local\\Temp\\ipykernel_5032\\1524012274.py:64: RuntimeWarning: invalid value encountered in divide\n",
      "  gnr_sim[i] = np.dot((a - np.mean(a)), (b - np.mean(b))) / ((np.linalg.norm(a - np.mean(a))) * (np.linalg.norm(b - np.mean(b))))\n",
      "C:\\Users\\pigwo\\AppData\\Local\\Temp\\ipykernel_5032\\1524012274.py:64: RuntimeWarning: invalid value encountered in divide\n",
      "  gnr_sim[i] = np.dot((a - np.mean(a)), (b - np.mean(b))) / ((np.linalg.norm(a - np.mean(a))) * (np.linalg.norm(b - np.mean(b))))\n",
      "C:\\Users\\pigwo\\AppData\\Local\\Temp\\ipykernel_5032\\1524012274.py:64: RuntimeWarning: invalid value encountered in divide\n",
      "  gnr_sim[i] = np.dot((a - np.mean(a)), (b - np.mean(b))) / ((np.linalg.norm(a - np.mean(a))) * (np.linalg.norm(b - np.mean(b))))\n",
      "C:\\Users\\pigwo\\AppData\\Local\\Temp\\ipykernel_5032\\1524012274.py:64: RuntimeWarning: invalid value encountered in divide\n",
      "  gnr_sim[i] = np.dot((a - np.mean(a)), (b - np.mean(b))) / ((np.linalg.norm(a - np.mean(a))) * (np.linalg.norm(b - np.mean(b))))\n",
      "C:\\Users\\pigwo\\AppData\\Local\\Temp\\ipykernel_5032\\1524012274.py:64: RuntimeWarning: invalid value encountered in divide\n",
      "  gnr_sim[i] = np.dot((a - np.mean(a)), (b - np.mean(b))) / ((np.linalg.norm(a - np.mean(a))) * (np.linalg.norm(b - np.mean(b))))\n",
      "C:\\Users\\pigwo\\AppData\\Local\\Temp\\ipykernel_5032\\1524012274.py:64: RuntimeWarning: invalid value encountered in divide\n",
      "  gnr_sim[i] = np.dot((a - np.mean(a)), (b - np.mean(b))) / ((np.linalg.norm(a - np.mean(a))) * (np.linalg.norm(b - np.mean(b))))\n",
      "C:\\Users\\pigwo\\AppData\\Local\\Temp\\ipykernel_5032\\1524012274.py:64: RuntimeWarning: invalid value encountered in divide\n",
      "  gnr_sim[i] = np.dot((a - np.mean(a)), (b - np.mean(b))) / ((np.linalg.norm(a - np.mean(a))) * (np.linalg.norm(b - np.mean(b))))\n",
      "C:\\Users\\pigwo\\AppData\\Local\\Temp\\ipykernel_5032\\1524012274.py:64: RuntimeWarning: invalid value encountered in divide\n",
      "  gnr_sim[i] = np.dot((a - np.mean(a)), (b - np.mean(b))) / ((np.linalg.norm(a - np.mean(a))) * (np.linalg.norm(b - np.mean(b))))\n",
      "C:\\Users\\pigwo\\AppData\\Local\\Temp\\ipykernel_5032\\1524012274.py:64: RuntimeWarning: invalid value encountered in divide\n",
      "  gnr_sim[i] = np.dot((a - np.mean(a)), (b - np.mean(b))) / ((np.linalg.norm(a - np.mean(a))) * (np.linalg.norm(b - np.mean(b))))\n",
      "C:\\Users\\pigwo\\AppData\\Local\\Temp\\ipykernel_5032\\1524012274.py:64: RuntimeWarning: invalid value encountered in divide\n",
      "  gnr_sim[i] = np.dot((a - np.mean(a)), (b - np.mean(b))) / ((np.linalg.norm(a - np.mean(a))) * (np.linalg.norm(b - np.mean(b))))\n",
      "C:\\Users\\pigwo\\AppData\\Local\\Temp\\ipykernel_5032\\1524012274.py:64: RuntimeWarning: invalid value encountered in divide\n",
      "  gnr_sim[i] = np.dot((a - np.mean(a)), (b - np.mean(b))) / ((np.linalg.norm(a - np.mean(a))) * (np.linalg.norm(b - np.mean(b))))\n",
      "C:\\Users\\pigwo\\AppData\\Local\\Temp\\ipykernel_5032\\1524012274.py:64: RuntimeWarning: invalid value encountered in divide\n",
      "  gnr_sim[i] = np.dot((a - np.mean(a)), (b - np.mean(b))) / ((np.linalg.norm(a - np.mean(a))) * (np.linalg.norm(b - np.mean(b))))\n",
      "C:\\Users\\pigwo\\AppData\\Local\\Temp\\ipykernel_5032\\1524012274.py:64: RuntimeWarning: invalid value encountered in divide\n",
      "  gnr_sim[i] = np.dot((a - np.mean(a)), (b - np.mean(b))) / ((np.linalg.norm(a - np.mean(a))) * (np.linalg.norm(b - np.mean(b))))\n",
      "C:\\Users\\pigwo\\AppData\\Local\\Temp\\ipykernel_5032\\1524012274.py:64: RuntimeWarning: invalid value encountered in divide\n",
      "  gnr_sim[i] = np.dot((a - np.mean(a)), (b - np.mean(b))) / ((np.linalg.norm(a - np.mean(a))) * (np.linalg.norm(b - np.mean(b))))\n",
      "C:\\Users\\pigwo\\AppData\\Local\\Temp\\ipykernel_5032\\1524012274.py:64: RuntimeWarning: invalid value encountered in divide\n",
      "  gnr_sim[i] = np.dot((a - np.mean(a)), (b - np.mean(b))) / ((np.linalg.norm(a - np.mean(a))) * (np.linalg.norm(b - np.mean(b))))\n",
      "C:\\Users\\pigwo\\AppData\\Local\\Temp\\ipykernel_5032\\1524012274.py:64: RuntimeWarning: invalid value encountered in divide\n",
      "  gnr_sim[i] = np.dot((a - np.mean(a)), (b - np.mean(b))) / ((np.linalg.norm(a - np.mean(a))) * (np.linalg.norm(b - np.mean(b))))\n",
      "C:\\Users\\pigwo\\AppData\\Local\\Temp\\ipykernel_5032\\1524012274.py:64: RuntimeWarning: invalid value encountered in divide\n",
      "  gnr_sim[i] = np.dot((a - np.mean(a)), (b - np.mean(b))) / ((np.linalg.norm(a - np.mean(a))) * (np.linalg.norm(b - np.mean(b))))\n",
      "C:\\Users\\pigwo\\AppData\\Local\\Temp\\ipykernel_5032\\1524012274.py:64: RuntimeWarning: invalid value encountered in divide\n",
      "  gnr_sim[i] = np.dot((a - np.mean(a)), (b - np.mean(b))) / ((np.linalg.norm(a - np.mean(a))) * (np.linalg.norm(b - np.mean(b))))\n",
      "C:\\Users\\pigwo\\AppData\\Local\\Temp\\ipykernel_5032\\1524012274.py:64: RuntimeWarning: invalid value encountered in divide\n",
      "  gnr_sim[i] = np.dot((a - np.mean(a)), (b - np.mean(b))) / ((np.linalg.norm(a - np.mean(a))) * (np.linalg.norm(b - np.mean(b))))\n",
      "C:\\Users\\pigwo\\AppData\\Local\\Temp\\ipykernel_5032\\1524012274.py:64: RuntimeWarning: invalid value encountered in divide\n",
      "  gnr_sim[i] = np.dot((a - np.mean(a)), (b - np.mean(b))) / ((np.linalg.norm(a - np.mean(a))) * (np.linalg.norm(b - np.mean(b))))\n",
      "C:\\Users\\pigwo\\AppData\\Local\\Temp\\ipykernel_5032\\1524012274.py:64: RuntimeWarning: invalid value encountered in divide\n",
      "  gnr_sim[i] = np.dot((a - np.mean(a)), (b - np.mean(b))) / ((np.linalg.norm(a - np.mean(a))) * (np.linalg.norm(b - np.mean(b))))\n",
      "C:\\Users\\pigwo\\AppData\\Local\\Temp\\ipykernel_5032\\1524012274.py:64: RuntimeWarning: invalid value encountered in divide\n",
      "  gnr_sim[i] = np.dot((a - np.mean(a)), (b - np.mean(b))) / ((np.linalg.norm(a - np.mean(a))) * (np.linalg.norm(b - np.mean(b))))\n",
      "C:\\Users\\pigwo\\AppData\\Local\\Temp\\ipykernel_5032\\1524012274.py:64: RuntimeWarning: invalid value encountered in divide\n",
      "  gnr_sim[i] = np.dot((a - np.mean(a)), (b - np.mean(b))) / ((np.linalg.norm(a - np.mean(a))) * (np.linalg.norm(b - np.mean(b))))\n",
      "C:\\Users\\pigwo\\AppData\\Local\\Temp\\ipykernel_5032\\1524012274.py:64: RuntimeWarning: invalid value encountered in divide\n",
      "  gnr_sim[i] = np.dot((a - np.mean(a)), (b - np.mean(b))) / ((np.linalg.norm(a - np.mean(a))) * (np.linalg.norm(b - np.mean(b))))\n",
      "C:\\Users\\pigwo\\AppData\\Local\\Temp\\ipykernel_5032\\1524012274.py:64: RuntimeWarning: invalid value encountered in divide\n",
      "  gnr_sim[i] = np.dot((a - np.mean(a)), (b - np.mean(b))) / ((np.linalg.norm(a - np.mean(a))) * (np.linalg.norm(b - np.mean(b))))\n",
      "C:\\Users\\pigwo\\AppData\\Local\\Temp\\ipykernel_5032\\1524012274.py:64: RuntimeWarning: invalid value encountered in divide\n",
      "  gnr_sim[i] = np.dot((a - np.mean(a)), (b - np.mean(b))) / ((np.linalg.norm(a - np.mean(a))) * (np.linalg.norm(b - np.mean(b))))\n",
      "C:\\Users\\pigwo\\AppData\\Local\\Temp\\ipykernel_5032\\1524012274.py:64: RuntimeWarning: invalid value encountered in divide\n",
      "  gnr_sim[i] = np.dot((a - np.mean(a)), (b - np.mean(b))) / ((np.linalg.norm(a - np.mean(a))) * (np.linalg.norm(b - np.mean(b))))\n",
      "C:\\Users\\pigwo\\AppData\\Local\\Temp\\ipykernel_5032\\1524012274.py:64: RuntimeWarning: invalid value encountered in divide\n",
      "  gnr_sim[i] = np.dot((a - np.mean(a)), (b - np.mean(b))) / ((np.linalg.norm(a - np.mean(a))) * (np.linalg.norm(b - np.mean(b))))\n",
      "C:\\Users\\pigwo\\AppData\\Local\\Temp\\ipykernel_5032\\1524012274.py:64: RuntimeWarning: invalid value encountered in divide\n",
      "  gnr_sim[i] = np.dot((a - np.mean(a)), (b - np.mean(b))) / ((np.linalg.norm(a - np.mean(a))) * (np.linalg.norm(b - np.mean(b))))\n",
      "C:\\Users\\pigwo\\AppData\\Local\\Temp\\ipykernel_5032\\1524012274.py:64: RuntimeWarning: invalid value encountered in divide\n",
      "  gnr_sim[i] = np.dot((a - np.mean(a)), (b - np.mean(b))) / ((np.linalg.norm(a - np.mean(a))) * (np.linalg.norm(b - np.mean(b))))\n",
      "C:\\Users\\pigwo\\AppData\\Local\\Temp\\ipykernel_5032\\1524012274.py:64: RuntimeWarning: invalid value encountered in divide\n",
      "  gnr_sim[i] = np.dot((a - np.mean(a)), (b - np.mean(b))) / ((np.linalg.norm(a - np.mean(a))) * (np.linalg.norm(b - np.mean(b))))\n"
     ]
    },
    {
     "name": "stderr",
     "output_type": "stream",
     "text": [
      "C:\\Users\\pigwo\\AppData\\Local\\Temp\\ipykernel_5032\\1524012274.py:64: RuntimeWarning: invalid value encountered in divide\n",
      "  gnr_sim[i] = np.dot((a - np.mean(a)), (b - np.mean(b))) / ((np.linalg.norm(a - np.mean(a))) * (np.linalg.norm(b - np.mean(b))))\n",
      "C:\\Users\\pigwo\\AppData\\Local\\Temp\\ipykernel_5032\\1524012274.py:64: RuntimeWarning: invalid value encountered in divide\n",
      "  gnr_sim[i] = np.dot((a - np.mean(a)), (b - np.mean(b))) / ((np.linalg.norm(a - np.mean(a))) * (np.linalg.norm(b - np.mean(b))))\n",
      "C:\\Users\\pigwo\\AppData\\Local\\Temp\\ipykernel_5032\\1524012274.py:64: RuntimeWarning: invalid value encountered in divide\n",
      "  gnr_sim[i] = np.dot((a - np.mean(a)), (b - np.mean(b))) / ((np.linalg.norm(a - np.mean(a))) * (np.linalg.norm(b - np.mean(b))))\n",
      "C:\\Users\\pigwo\\AppData\\Local\\Temp\\ipykernel_5032\\1524012274.py:64: RuntimeWarning: invalid value encountered in divide\n",
      "  gnr_sim[i] = np.dot((a - np.mean(a)), (b - np.mean(b))) / ((np.linalg.norm(a - np.mean(a))) * (np.linalg.norm(b - np.mean(b))))\n",
      "C:\\Users\\pigwo\\AppData\\Local\\Temp\\ipykernel_5032\\1524012274.py:64: RuntimeWarning: invalid value encountered in divide\n",
      "  gnr_sim[i] = np.dot((a - np.mean(a)), (b - np.mean(b))) / ((np.linalg.norm(a - np.mean(a))) * (np.linalg.norm(b - np.mean(b))))\n",
      "C:\\Users\\pigwo\\AppData\\Local\\Temp\\ipykernel_5032\\1524012274.py:64: RuntimeWarning: invalid value encountered in divide\n",
      "  gnr_sim[i] = np.dot((a - np.mean(a)), (b - np.mean(b))) / ((np.linalg.norm(a - np.mean(a))) * (np.linalg.norm(b - np.mean(b))))\n",
      "C:\\Users\\pigwo\\AppData\\Local\\Temp\\ipykernel_5032\\1524012274.py:64: RuntimeWarning: invalid value encountered in divide\n",
      "  gnr_sim[i] = np.dot((a - np.mean(a)), (b - np.mean(b))) / ((np.linalg.norm(a - np.mean(a))) * (np.linalg.norm(b - np.mean(b))))\n",
      "C:\\Users\\pigwo\\AppData\\Local\\Temp\\ipykernel_5032\\1524012274.py:64: RuntimeWarning: invalid value encountered in divide\n",
      "  gnr_sim[i] = np.dot((a - np.mean(a)), (b - np.mean(b))) / ((np.linalg.norm(a - np.mean(a))) * (np.linalg.norm(b - np.mean(b))))\n",
      "C:\\Users\\pigwo\\AppData\\Local\\Temp\\ipykernel_5032\\1524012274.py:64: RuntimeWarning: invalid value encountered in divide\n",
      "  gnr_sim[i] = np.dot((a - np.mean(a)), (b - np.mean(b))) / ((np.linalg.norm(a - np.mean(a))) * (np.linalg.norm(b - np.mean(b))))\n",
      "C:\\Users\\pigwo\\AppData\\Local\\Temp\\ipykernel_5032\\1524012274.py:64: RuntimeWarning: invalid value encountered in divide\n",
      "  gnr_sim[i] = np.dot((a - np.mean(a)), (b - np.mean(b))) / ((np.linalg.norm(a - np.mean(a))) * (np.linalg.norm(b - np.mean(b))))\n"
     ]
    },
    {
     "ename": "KeyboardInterrupt",
     "evalue": "",
     "output_type": "error",
     "traceback": [
      "\u001b[1;31m---------------------------------------------------------------------------\u001b[0m",
      "\u001b[1;31mKeyboardInterrupt\u001b[0m                         Traceback (most recent call last)",
      "Cell \u001b[1;32mIn[53], line 3\u001b[0m\n\u001b[0;32m      1\u001b[0m pred_list \u001b[38;5;241m=\u001b[39m []\n\u001b[0;32m      2\u001b[0m \u001b[38;5;28;01mfor\u001b[39;00m plist, tags \u001b[38;5;129;01min\u001b[39;00m \u001b[38;5;28mzip\u001b[39m(test_my_songs, test_my_tags):\n\u001b[1;32m----> 3\u001b[0m     recommended \u001b[38;5;241m=\u001b[39m song_recommend(tags, plist, song_tag_appended, \u001b[38;5;124m'\u001b[39m\u001b[38;5;124mpea\u001b[39m\u001b[38;5;124m'\u001b[39m, \u001b[38;5;28;01mFalse\u001b[39;00m, \u001b[38;5;28;01mFalse\u001b[39;00m, \u001b[38;5;124m'\u001b[39m\u001b[38;5;124mcv\u001b[39m\u001b[38;5;124m'\u001b[39m)\n\u001b[0;32m      4\u001b[0m     pred_list\u001b[38;5;241m.\u001b[39mappend(recommended[\u001b[38;5;124m'\u001b[39m\u001b[38;5;124msong_id\u001b[39m\u001b[38;5;124m'\u001b[39m]\u001b[38;5;241m.\u001b[39mtolist())\n\u001b[0;32m      5\u001b[0m \u001b[38;5;28mprint\u001b[39m(pred_list[\u001b[38;5;241m0\u001b[39m])\n",
      "Cell \u001b[1;32mIn[45], line 58\u001b[0m, in \u001b[0;36msong_recommend\u001b[1;34m(tags, songs, song_df, sim, tag_imb_mode, genre_imb_mode, emb_mode)\u001b[0m\n\u001b[0;32m     55\u001b[0m         simi_songs \u001b[38;5;241m=\u001b[39m find_sim_song(tag_songs, sim, w_mat, songs, emb_mode, \u001b[38;5;28;01mFalse\u001b[39;00m, \u001b[38;5;241m100\u001b[39m)\n\u001b[0;32m     57\u001b[0m     \u001b[38;5;28;01melse\u001b[39;00m:\n\u001b[1;32m---> 58\u001b[0m         simi_songs \u001b[38;5;241m=\u001b[39m find_sim_song(tag_songs, sim, get_embedding(tag_songs, emb_mode), songs, emb_mode, \u001b[38;5;28;01mFalse\u001b[39;00m, \u001b[38;5;241m100\u001b[39m)\n\u001b[0;32m     60\u001b[0m \u001b[38;5;66;03m# 기존 노래(히스토리)가 없는 경우 최신 노래(2018~2023년도)를 찾아낸다\u001b[39;00m\n\u001b[0;32m     61\u001b[0m \u001b[38;5;28;01melse\u001b[39;00m:\n\u001b[0;32m     62\u001b[0m     simi_songs \u001b[38;5;241m=\u001b[39m tag_songs\n",
      "Cell \u001b[1;32mIn[37], line 30\u001b[0m, in \u001b[0;36mfind_sim_song\u001b[1;34m(df, sim, mat, songs, emb_mode, genre_imb_mode, top_n)\u001b[0m\n\u001b[0;32m     24\u001b[0m             sim_array \u001b[38;5;241m=\u001b[39m get_sim(title_index, weight_mat_tf, sim)\n\u001b[0;32m     26\u001b[0m         \u001b[38;5;66;03m#elif emb_mode == 'aver':\u001b[39;00m\n\u001b[0;32m     27\u001b[0m             \u001b[38;5;66;03m#sim_array = get_sim(title_index, weight_mat_aver, sim)\u001b[39;00m\n\u001b[0;32m     28\u001b[0m     \n\u001b[0;32m     29\u001b[0m     \u001b[38;5;28;01melse\u001b[39;00m:\n\u001b[1;32m---> 30\u001b[0m         sim_array \u001b[38;5;241m=\u001b[39m get_sim(title_index, mat, sim)\n\u001b[0;32m     32\u001b[0m     simi \u001b[38;5;241m=\u001b[39m simi \u001b[38;5;241m+\u001b[39m sim_array\n\u001b[0;32m     34\u001b[0m simi \u001b[38;5;241m/\u001b[39m\u001b[38;5;241m=\u001b[39m \u001b[38;5;28mlen\u001b[39m(songs)\n",
      "Cell \u001b[1;32mIn[34], line 64\u001b[0m, in \u001b[0;36mget_sim\u001b[1;34m(song_index, gnr_mat, sim)\u001b[0m\n\u001b[0;32m     61\u001b[0m         b \u001b[38;5;241m=\u001b[39m gnr_mat[i]\u001b[38;5;241m.\u001b[39mtoarray()\n\u001b[0;32m     62\u001b[0m         b \u001b[38;5;241m=\u001b[39m b\u001b[38;5;241m.\u001b[39mT\n\u001b[1;32m---> 64\u001b[0m         gnr_sim[i] \u001b[38;5;241m=\u001b[39m np\u001b[38;5;241m.\u001b[39mdot((a \u001b[38;5;241m-\u001b[39m np\u001b[38;5;241m.\u001b[39mmean(a)), (b \u001b[38;5;241m-\u001b[39m np\u001b[38;5;241m.\u001b[39mmean(b))) \u001b[38;5;241m/\u001b[39m ((np\u001b[38;5;241m.\u001b[39mlinalg\u001b[38;5;241m.\u001b[39mnorm(a \u001b[38;5;241m-\u001b[39m np\u001b[38;5;241m.\u001b[39mmean(a))) \u001b[38;5;241m*\u001b[39m (np\u001b[38;5;241m.\u001b[39mlinalg\u001b[38;5;241m.\u001b[39mnorm(b \u001b[38;5;241m-\u001b[39m np\u001b[38;5;241m.\u001b[39mmean(b))))\n\u001b[0;32m     66\u001b[0m \u001b[38;5;28;01mreturn\u001b[39;00m gnr_sim\n",
      "File \u001b[1;32m<__array_function__ internals>:200\u001b[0m, in \u001b[0;36mnorm\u001b[1;34m(*args, **kwargs)\u001b[0m\n",
      "File \u001b[1;32m~\\anaconda3\\Lib\\site-packages\\numpy\\linalg\\linalg.py:2511\u001b[0m, in \u001b[0;36mnorm\u001b[1;34m(x, ord, axis, keepdims)\u001b[0m\n\u001b[0;32m   2509\u001b[0m     sqnorm \u001b[38;5;241m=\u001b[39m x_real\u001b[38;5;241m.\u001b[39mdot(x_real) \u001b[38;5;241m+\u001b[39m x_imag\u001b[38;5;241m.\u001b[39mdot(x_imag)\n\u001b[0;32m   2510\u001b[0m \u001b[38;5;28;01melse\u001b[39;00m:\n\u001b[1;32m-> 2511\u001b[0m     sqnorm \u001b[38;5;241m=\u001b[39m x\u001b[38;5;241m.\u001b[39mdot(x)\n\u001b[0;32m   2512\u001b[0m ret \u001b[38;5;241m=\u001b[39m sqrt(sqnorm)\n\u001b[0;32m   2513\u001b[0m \u001b[38;5;28;01mif\u001b[39;00m keepdims:\n",
      "\u001b[1;31mKeyboardInterrupt\u001b[0m: "
     ]
    }
   ],
   "source": [
    "pred_list = []\n",
    "for plist, tags in zip(test_my_songs, test_my_tags):\n",
    "    recommended = song_recommend(tags, plist, song_tag_appended, 'jac', False, False, 'cv')\n",
    "    pred_list.append(recommended['song_id'].tolist())\n",
    "print(pred_list[0])"
   ]
  },
  {
   "cell_type": "code",
   "execution_count": null,
   "id": "cbbf2514",
   "metadata": {},
   "outputs": [],
   "source": [
    "map_k = get_map_k(test_my_songs, pred_list, 10)\n",
    "print(\"MAP@K (K=10): {:.3f}\".format(map_k))"
   ]
  },
  {
   "cell_type": "code",
   "execution_count": null,
   "id": "6826ea01",
   "metadata": {},
   "outputs": [],
   "source": [
    "pred_list = []\n",
    "for plist, tags in zip(test_my_songs, test_my_tags):\n",
    "    recommended = song_recommend(tags, plist, song_tag_appended, 'pea', False, False, 'cv')\n",
    "    pred_list.append(recommended['song_id'].tolist())\n",
    "print(pred_list[0])"
   ]
  },
  {
   "cell_type": "code",
   "execution_count": null,
   "id": "df3f5271",
   "metadata": {},
   "outputs": [],
   "source": [
    "map_k = get_map_k(test_my_songs, pred_list, 10)\n",
    "print(\"MAP@K (K=10): {:.3f}\".format(map_k))"
   ]
  },
  {
   "cell_type": "markdown",
   "id": "7280b542",
   "metadata": {},
   "source": [
    "# 태그 불균형 데이터 처리\n",
    "\n",
    "- cv\n",
    "- recommend"
   ]
  },
  {
   "cell_type": "code",
   "execution_count": null,
   "id": "5bd74041",
   "metadata": {},
   "outputs": [],
   "source": [
    "pred_list = []\n",
    "for plist, tags in zip(test_my_songs, test_my_tags):\n",
    "    recommended = song_recommend(tags, plist, song_tag_appended, 'cos', True, False, 'cv')\n",
    "    pred_list.append(recommended['song_id'].tolist())\n",
    "print(pred_list[0])"
   ]
  },
  {
   "cell_type": "code",
   "execution_count": null,
   "id": "5124ebd4",
   "metadata": {},
   "outputs": [],
   "source": [
    "map_k = get_map_k(test_my_songs, pred_list, 10)\n",
    "print(\"MAP@K (K=10): {:.3f}\".format(map_k))"
   ]
  },
  {
   "cell_type": "code",
   "execution_count": null,
   "id": "9553d016",
   "metadata": {},
   "outputs": [],
   "source": [
    "pred_list = []\n",
    "for plist, tags in zip(test_my_songs, test_my_tags):\n",
    "    recommended = song_recommend(tags, plist, song_tag_appended, 'jac', True, False, 'cv')\n",
    "    pred_list.append(recommended['song_id'].tolist())\n",
    "print(pred_list[0])"
   ]
  },
  {
   "cell_type": "code",
   "execution_count": null,
   "id": "852e4203",
   "metadata": {},
   "outputs": [],
   "source": [
    "map_k = get_map_k(test_my_songs, pred_list, 10)\n",
    "print(\"MAP@K (K=10): {:.3f}\".format(map_k))"
   ]
  },
  {
   "cell_type": "code",
   "execution_count": null,
   "id": "3f59c796",
   "metadata": {},
   "outputs": [],
   "source": [
    "pred_list = []\n",
    "for plist, tags in zip(test_my_songs, test_my_tags):\n",
    "    recommended = song_recommend(tags, plist, song_tag_appended, 'pea', True, False, 'cv')\n",
    "    pred_list.append(recommended['song_id'].tolist())\n",
    "print(pred_list[0])"
   ]
  },
  {
   "cell_type": "code",
   "execution_count": null,
   "id": "8429aac2",
   "metadata": {},
   "outputs": [],
   "source": [
    "map_k = get_map_k(test_my_songs, pred_list, 10)\n",
    "print(\"MAP@K (K=10): {:.3f}\".format(map_k))"
   ]
  },
  {
   "cell_type": "markdown",
   "id": "9a1437a5",
   "metadata": {},
   "source": [
    "# 장르 불균형 데이터 처리\n",
    "\n",
    "- cv\n",
    "- recommend"
   ]
  },
  {
   "cell_type": "code",
   "execution_count": null,
   "id": "8de08630",
   "metadata": {},
   "outputs": [],
   "source": [
    "pred_list = []\n",
    "for plist, tags in zip(test_my_songs, test_my_tags):\n",
    "    recommended = song_recommend(tags, plist, song_tag_appended, 'cos', False, True, 'cv')\n",
    "    pred_list.append(recommended['song_id'].tolist())\n",
    "print(pred_list[0])"
   ]
  },
  {
   "cell_type": "code",
   "execution_count": null,
   "id": "7a607eb2",
   "metadata": {},
   "outputs": [],
   "source": [
    "map_k = get_map_k(test_my_songs, pred_list, 10)\n",
    "print(\"MAP@K (K=10): {:.3f}\".format(map_k))"
   ]
  },
  {
   "cell_type": "code",
   "execution_count": null,
   "id": "5a69f8c5",
   "metadata": {},
   "outputs": [],
   "source": [
    "pred_list = []\n",
    "for plist, tags in zip(test_my_songs, test_my_tags):\n",
    "    recommended = song_recommend(tags, plist, song_tag_appended, 'jac', False, True, 'cv')\n",
    "    pred_list.append(recommended['song_id'].tolist())\n",
    "print(pred_list[0])"
   ]
  },
  {
   "cell_type": "code",
   "execution_count": null,
   "id": "66c262b2",
   "metadata": {},
   "outputs": [],
   "source": [
    "map_k = get_map_k(test_my_songs, pred_list, 10)\n",
    "print(\"MAP@K (K=10): {:.3f}\".format(map_k))"
   ]
  },
  {
   "cell_type": "code",
   "execution_count": null,
   "id": "f58232f5",
   "metadata": {},
   "outputs": [],
   "source": [
    "pred_list = []\n",
    "for plist, tags in zip(test_my_songs, test_my_tags):\n",
    "    recommended = song_recommend(tags, plist, song_tag_appended, 'pea', False, True, 'cv')\n",
    "    pred_list.append(recommended['song_id'].tolist())\n",
    "print(pred_list[0])"
   ]
  },
  {
   "cell_type": "code",
   "execution_count": null,
   "id": "600d1abf",
   "metadata": {},
   "outputs": [],
   "source": [
    "map_k = get_map_k(test_my_songs, pred_list, 10)\n",
    "print(\"MAP@K (K=10): {:.3f}\".format(map_k))"
   ]
  },
  {
   "cell_type": "markdown",
   "id": "50a3df0c",
   "metadata": {},
   "source": [
    "# 태그, 장르 불균형 데이터 처리\n",
    "\n",
    "- cv\n",
    "- recommend"
   ]
  },
  {
   "cell_type": "code",
   "execution_count": null,
   "id": "d10f79a5",
   "metadata": {},
   "outputs": [],
   "source": [
    "pred_list = []\n",
    "for plist, tags in zip(test_my_songs, test_my_tags):\n",
    "    recommended = song_recommend(tags, plist, song_tag_appended, 'cos', True, True, 'cv')\n",
    "    pred_list.append(recommended['song_id'].tolist())\n",
    "print(pred_list[0])"
   ]
  },
  {
   "cell_type": "code",
   "execution_count": null,
   "id": "08577d60",
   "metadata": {},
   "outputs": [],
   "source": [
    "map_k = get_map_k(test_my_songs, pred_list, 10)\n",
    "print(\"MAP@K (K=10): {:.3f}\".format(map_k))"
   ]
  },
  {
   "cell_type": "code",
   "execution_count": null,
   "id": "7702e812",
   "metadata": {},
   "outputs": [],
   "source": [
    "pred_list = []\n",
    "for plist, tags in zip(test_my_songs, test_my_tags):\n",
    "    recommended = song_recommend(tags, plist, song_tag_appended, 'jac', True, True, 'cv')\n",
    "    pred_list.append(recommended['song_id'].tolist())\n",
    "print(pred_list[0])"
   ]
  },
  {
   "cell_type": "code",
   "execution_count": null,
   "id": "f636da1a",
   "metadata": {},
   "outputs": [],
   "source": [
    "map_k = get_map_k(test_my_songs, pred_list, 10)\n",
    "print(\"MAP@K (K=10): {:.3f}\".format(map_k))"
   ]
  },
  {
   "cell_type": "code",
   "execution_count": null,
   "id": "5c1755bd",
   "metadata": {},
   "outputs": [],
   "source": [
    "pred_list = []\n",
    "for plist, tags in zip(test_my_songs, test_my_tags):\n",
    "    recommended = song_recommend(tags, plist, song_tag_appended, 'pea', True, True, 'cv')\n",
    "    pred_list.append(recommended['song_id'].tolist())\n",
    "print(pred_list[0])"
   ]
  },
  {
   "cell_type": "code",
   "execution_count": null,
   "id": "f9e210a4",
   "metadata": {},
   "outputs": [],
   "source": [
    "map_k = get_map_k(test_my_songs, pred_list, 10)\n",
    "print(\"MAP@K (K=10): {:.3f}\".format(map_k))"
   ]
  },
  {
   "cell_type": "markdown",
   "id": "35a89206",
   "metadata": {},
   "source": [
    "# 태그, 장르 불균형 데이터 처리 X\n",
    "\n",
    "- tf-idf\n",
    "- recommend"
   ]
  },
  {
   "cell_type": "code",
   "execution_count": null,
   "id": "b40e1bc3",
   "metadata": {},
   "outputs": [],
   "source": [
    "pred_list = []\n",
    "for plist, tags in zip(test_my_songs, test_my_tags):\n",
    "    recommended = song_recommend(tags, plist, song_tag_appended, 'cos', False, False, 'tf')\n",
    "    pred_list.append(recommended['song_id'].tolist())\n",
    "print(pred_list[0])"
   ]
  },
  {
   "cell_type": "code",
   "execution_count": null,
   "id": "9edbb532",
   "metadata": {},
   "outputs": [],
   "source": [
    "map_k = get_map_k(test_my_songs, pred_list, 10)\n",
    "print(\"MAP@K (K=10): {:.3f}\".format(map_k))"
   ]
  },
  {
   "cell_type": "code",
   "execution_count": null,
   "id": "2b027d95",
   "metadata": {},
   "outputs": [],
   "source": [
    "pred_list = []\n",
    "for plist, tags in zip(test_my_songs, test_my_tags):\n",
    "    recommended = song_recommend(tags, plist, song_tag_appended, 'jac', False, False, 'tf')\n",
    "    pred_list.append(recommended['song_id'].tolist())\n",
    "print(pred_list[0])"
   ]
  },
  {
   "cell_type": "code",
   "execution_count": null,
   "id": "a01d6745",
   "metadata": {},
   "outputs": [],
   "source": [
    "map_k = get_map_k(test_my_songs, pred_list, 10)\n",
    "print(\"MAP@K (K=10): {:.3f}\".format(map_k))"
   ]
  },
  {
   "cell_type": "code",
   "execution_count": null,
   "id": "938a9c40",
   "metadata": {},
   "outputs": [],
   "source": [
    "pred_list = []\n",
    "for plist, tags in zip(test_my_songs, test_my_tags):\n",
    "    recommended = song_recommend(tags, plist, song_tag_appended, 'pea', False, False, 'tf')\n",
    "    pred_list.append(recommended['song_id'].tolist())\n",
    "print(pred_list[0])"
   ]
  },
  {
   "cell_type": "code",
   "execution_count": null,
   "id": "dc70ef99",
   "metadata": {},
   "outputs": [],
   "source": [
    "map_k = get_map_k(test_my_songs, pred_list, 10)\n",
    "print(\"MAP@K (K=10): {:.3f}\".format(map_k))"
   ]
  },
  {
   "cell_type": "markdown",
   "id": "0670fe4c",
   "metadata": {},
   "source": [
    "# 태그 불균형 데이터 처리\n",
    "\n",
    "- tf-idf\n",
    "- recommend"
   ]
  },
  {
   "cell_type": "code",
   "execution_count": null,
   "id": "2a175986",
   "metadata": {},
   "outputs": [],
   "source": [
    "pred_list = []\n",
    "for plist, tags in zip(test_my_songs, test_my_tags):\n",
    "    recommended = song_recommend(tags, plist, song_tag_appended, 'cos', True, False, 'tf')\n",
    "    pred_list.append(recommended['song_id'].tolist())\n",
    "print(pred_list[0])"
   ]
  },
  {
   "cell_type": "code",
   "execution_count": null,
   "id": "9c049777",
   "metadata": {},
   "outputs": [],
   "source": [
    "map_k = get_map_k(test_my_songs, pred_list, 10)\n",
    "print(\"MAP@K (K=10): {:.3f}\".format(map_k))"
   ]
  },
  {
   "cell_type": "code",
   "execution_count": null,
   "id": "fda5ef82",
   "metadata": {},
   "outputs": [],
   "source": [
    "pred_list = []\n",
    "for plist, tags in zip(test_my_songs, test_my_tags):\n",
    "    recommended = song_recommend(tags, plist, song_tag_appended, 'jac', True, False, 'tf')\n",
    "    pred_list.append(recommended['song_id'].tolist())\n",
    "print(pred_list[0])"
   ]
  },
  {
   "cell_type": "code",
   "execution_count": null,
   "id": "d5e7a0b5",
   "metadata": {},
   "outputs": [],
   "source": [
    "map_k = get_map_k(test_my_songs, pred_list, 10)\n",
    "print(\"MAP@K (K=10): {:.3f}\".format(map_k))"
   ]
  },
  {
   "cell_type": "code",
   "execution_count": null,
   "id": "f3f8104f",
   "metadata": {},
   "outputs": [],
   "source": [
    "pred_list = []\n",
    "for plist, tags in zip(test_my_songs, test_my_tags):\n",
    "    recommended = song_recommend(tags, plist, song_tag_appended, 'pea', True, False, 'tf')\n",
    "    pred_list.append(recommended['song_id'].tolist())\n",
    "print(pred_list[0])"
   ]
  },
  {
   "cell_type": "code",
   "execution_count": null,
   "id": "e15d6bc0",
   "metadata": {},
   "outputs": [],
   "source": [
    "map_k = get_map_k(test_my_songs, pred_list, 10)\n",
    "print(\"MAP@K (K=10): {:.3f}\".format(map_k))"
   ]
  },
  {
   "cell_type": "markdown",
   "id": "0d5865f2",
   "metadata": {},
   "source": [
    "# 장르 불균형 데이터 처리\n",
    "\n",
    "- tf-idf\n",
    "- recommend"
   ]
  },
  {
   "cell_type": "code",
   "execution_count": null,
   "id": "557f1be8",
   "metadata": {},
   "outputs": [],
   "source": [
    "pred_list = []\n",
    "for plist, tags in zip(test_my_songs, test_my_tags):\n",
    "    recommended = song_recommend(tags, plist, song_tag_appended, 'cos', False, True, 'tf')\n",
    "    pred_list.append(recommended['song_id'].tolist())\n",
    "print(pred_list[0])"
   ]
  },
  {
   "cell_type": "code",
   "execution_count": null,
   "id": "a3e5983a",
   "metadata": {},
   "outputs": [],
   "source": [
    "map_k = get_map_k(test_my_songs, pred_list, 10)\n",
    "print(\"MAP@K (K=10): {:.3f}\".format(map_k))"
   ]
  },
  {
   "cell_type": "code",
   "execution_count": null,
   "id": "81195aef",
   "metadata": {},
   "outputs": [],
   "source": [
    "pred_list = []\n",
    "for plist, tags in zip(test_my_songs, test_my_tags):\n",
    "    recommended = song_recommend(tags, plist, song_tag_appended, 'jac', False, True, 'tf')\n",
    "    pred_list.append(recommended['song_id'].tolist())\n",
    "print(pred_list[0])"
   ]
  },
  {
   "cell_type": "code",
   "execution_count": null,
   "id": "b3b2fa16",
   "metadata": {},
   "outputs": [],
   "source": [
    "map_k = get_map_k(test_my_songs, pred_list, 10)\n",
    "print(\"MAP@K (K=10): {:.3f}\".format(map_k))"
   ]
  },
  {
   "cell_type": "code",
   "execution_count": null,
   "id": "6db64faf",
   "metadata": {},
   "outputs": [],
   "source": [
    "pred_list = []\n",
    "for plist, tags in zip(test_my_songs, test_my_tags):\n",
    "    recommended = song_recommend(tags, plist, song_tag_appended, 'pea', False, True, 'tf')\n",
    "    pred_list.append(recommended['song_id'].tolist())\n",
    "print(pred_list[0])"
   ]
  },
  {
   "cell_type": "code",
   "execution_count": null,
   "id": "fd7311a1",
   "metadata": {},
   "outputs": [],
   "source": [
    "map_k = get_map_k(test_my_songs, pred_list, 10)\n",
    "print(\"MAP@K (K=10): {:.3f}\".format(map_k))"
   ]
  },
  {
   "cell_type": "markdown",
   "id": "6217cdce",
   "metadata": {},
   "source": [
    "# 태그, 장르 불균형 데이터 처리\n",
    "\n",
    "- tf-idf\n",
    "- recommend"
   ]
  },
  {
   "cell_type": "code",
   "execution_count": null,
   "id": "d7547f0d",
   "metadata": {},
   "outputs": [],
   "source": [
    "pred_list = []\n",
    "for plist, tags in zip(test_my_songs, test_my_tags):\n",
    "    recommended = song_recommend(tags, plist, song_tag_appended, 'cos', True, True, 'tf')\n",
    "    pred_list.append(recommended['song_id'].tolist())\n",
    "print(pred_list[0])"
   ]
  },
  {
   "cell_type": "code",
   "execution_count": null,
   "id": "ec47b506",
   "metadata": {},
   "outputs": [],
   "source": [
    "map_k = get_map_k(test_my_songs, pred_list, 10)\n",
    "print(\"MAP@K (K=10): {:.3f}\".format(map_k))"
   ]
  },
  {
   "cell_type": "code",
   "execution_count": null,
   "id": "6c88b227",
   "metadata": {},
   "outputs": [],
   "source": [
    "pred_list = []\n",
    "for plist, tags in zip(test_my_songs, test_my_tags):\n",
    "    recommended = song_recommend(tags, plist, song_tag_appended, 'jac', True, True, 'tf')\n",
    "    pred_list.append(recommended['song_id'].tolist())\n",
    "print(pred_list[0])"
   ]
  },
  {
   "cell_type": "code",
   "execution_count": null,
   "id": "f4411fda",
   "metadata": {},
   "outputs": [],
   "source": [
    "map_k = get_map_k(test_my_songs, pred_list, 10)\n",
    "print(\"MAP@K (K=10): {:.3f}\".format(map_k))"
   ]
  },
  {
   "cell_type": "code",
   "execution_count": null,
   "id": "f07a31a7",
   "metadata": {},
   "outputs": [],
   "source": [
    "pred_list = []\n",
    "for plist, tags in zip(test_my_songs, test_my_tags):\n",
    "    recommended = song_recommend(tags, plist, song_tag_appended, 'pea', True, True, 'tf')\n",
    "    pred_list.append(recommended['song_id'].tolist())\n",
    "print(pred_list[0])"
   ]
  },
  {
   "cell_type": "code",
   "execution_count": null,
   "id": "60f35a81",
   "metadata": {},
   "outputs": [],
   "source": [
    "map_k = get_map_k(test_my_songs, pred_list, 10)\n",
    "print(\"MAP@K (K=10): {:.3f}\".format(map_k))"
   ]
  },
  {
   "cell_type": "markdown",
   "id": "f75ecb3d",
   "metadata": {},
   "source": [
    "# 태그, 장르 불균형 데이터 처리 X\n",
    "\n",
    "- cv\n",
    "- recommend2"
   ]
  },
  {
   "cell_type": "code",
   "execution_count": null,
   "id": "80c5bfa6",
   "metadata": {},
   "outputs": [],
   "source": [
    "pred_list = []\n",
    "for plist, tags in zip(test_my_songs, test_my_tags):\n",
    "    recommended = song_recommend2(tags, plist, song_tag_appended, 'cos', False, False, 'cv')\n",
    "    pred_list.append(recommended['song_id'].tolist())\n",
    "print(pred_list[0])"
   ]
  },
  {
   "cell_type": "code",
   "execution_count": null,
   "id": "d969dbaf",
   "metadata": {},
   "outputs": [],
   "source": [
    "map_k = get_map_k(test_my_songs, pred_list, 10)\n",
    "print(\"MAP@K (K=10): {:.3f}\".format(map_k))"
   ]
  },
  {
   "cell_type": "code",
   "execution_count": null,
   "id": "0ed35b41",
   "metadata": {},
   "outputs": [],
   "source": [
    "pred_list = []\n",
    "for plist, tags in zip(test_my_songs, test_my_tags):\n",
    "    recommended = song_recommend2(tags, plist, song_tag_appended, 'jac', False, False, 'cv')\n",
    "    pred_list.append(recommended['song_id'].tolist())\n",
    "print(pred_list[0])"
   ]
  },
  {
   "cell_type": "code",
   "execution_count": null,
   "id": "1a8cdaef",
   "metadata": {},
   "outputs": [],
   "source": [
    "map_k = get_map_k(test_my_songs, pred_list, 10)\n",
    "print(\"MAP@K (K=10): {:.3f}\".format(map_k))"
   ]
  },
  {
   "cell_type": "code",
   "execution_count": null,
   "id": "efb4e9d1",
   "metadata": {},
   "outputs": [],
   "source": [
    "pred_list = []\n",
    "for plist, tags in zip(test_my_songs, test_my_tags):\n",
    "    recommended = song_recommend2(tags, plist, song_tag_appended, 'pea', False, False, 'cv')\n",
    "    pred_list.append(recommended['song_id'].tolist())\n",
    "print(pred_list[0])"
   ]
  },
  {
   "cell_type": "code",
   "execution_count": null,
   "id": "6d1e41c4",
   "metadata": {},
   "outputs": [],
   "source": [
    "map_k = get_map_k(test_my_songs, pred_list, 10)\n",
    "print(\"MAP@K (K=10): {:.3f}\".format(map_k))"
   ]
  },
  {
   "cell_type": "markdown",
   "id": "10b2c777",
   "metadata": {},
   "source": [
    "# 태그 불균형 데이터 처리\n",
    "\n",
    "- cv\n",
    "- recommend2"
   ]
  },
  {
   "cell_type": "code",
   "execution_count": null,
   "id": "90f9a066",
   "metadata": {},
   "outputs": [],
   "source": [
    "pred_list = []\n",
    "for plist, tags in zip(test_my_songs, test_my_tags):\n",
    "    recommended = song_recommend2(tags, plist, song_tag_appended, 'cos', True, False, 'cv')\n",
    "    pred_list.append(recommended['song_id'].tolist())\n",
    "print(pred_list[0])"
   ]
  },
  {
   "cell_type": "code",
   "execution_count": null,
   "id": "307e5972",
   "metadata": {},
   "outputs": [],
   "source": [
    "map_k = get_map_k(test_my_songs, pred_list, 10)\n",
    "print(\"MAP@K (K=10): {:.3f}\".format(map_k))"
   ]
  },
  {
   "cell_type": "code",
   "execution_count": null,
   "id": "5897e3d3",
   "metadata": {},
   "outputs": [],
   "source": [
    "pred_list = []\n",
    "for plist, tags in zip(test_my_songs, test_my_tags):\n",
    "    recommended = song_recommend2(tags, plist, song_tag_appended, 'jac', True, False, 'cv')\n",
    "    pred_list.append(recommended['song_id'].tolist())\n",
    "print(pred_list[0])"
   ]
  },
  {
   "cell_type": "code",
   "execution_count": null,
   "id": "d151587a",
   "metadata": {},
   "outputs": [],
   "source": [
    "map_k = get_map_k(test_my_songs, pred_list, 10)\n",
    "print(\"MAP@K (K=10): {:.3f}\".format(map_k))"
   ]
  },
  {
   "cell_type": "code",
   "execution_count": null,
   "id": "3ce0ddc0",
   "metadata": {},
   "outputs": [],
   "source": [
    "pred_list = []\n",
    "for plist, tags in zip(test_my_songs, test_my_tags):\n",
    "    recommended = song_recommend2(tags, plist, song_tag_appended, 'pea', True, False, 'cv')\n",
    "    pred_list.append(recommended['song_id'].tolist())\n",
    "print(pred_list[0])"
   ]
  },
  {
   "cell_type": "code",
   "execution_count": null,
   "id": "227aca23",
   "metadata": {},
   "outputs": [],
   "source": [
    "map_k = get_map_k(test_my_songs, pred_list, 10)\n",
    "print(\"MAP@K (K=10): {:.3f}\".format(map_k))"
   ]
  },
  {
   "cell_type": "markdown",
   "id": "9d8387fb",
   "metadata": {},
   "source": [
    "# 장르 불균형 데이터 처리\n",
    "\n",
    "- cv\n",
    "- recommend2"
   ]
  },
  {
   "cell_type": "code",
   "execution_count": null,
   "id": "7cec9bd4",
   "metadata": {},
   "outputs": [],
   "source": [
    "pred_list = []\n",
    "for plist, tags in zip(test_my_songs, test_my_tags):\n",
    "    recommended = song_recommend2(tags, plist, song_tag_appended, 'cos', False, True, 'cv')\n",
    "    pred_list.append(recommended['song_id'].tolist())\n",
    "print(pred_list[0])"
   ]
  },
  {
   "cell_type": "code",
   "execution_count": null,
   "id": "8ff80575",
   "metadata": {},
   "outputs": [],
   "source": [
    "map_k = get_map_k(test_my_songs, pred_list, 10)\n",
    "print(\"MAP@K (K=10): {:.3f}\".format(map_k))"
   ]
  },
  {
   "cell_type": "code",
   "execution_count": null,
   "id": "f4c191e0",
   "metadata": {},
   "outputs": [],
   "source": [
    "pred_list = []\n",
    "for plist, tags in zip(test_my_songs, test_my_tags):\n",
    "    recommended = song_recommend2(tags, plist, song_tag_appended, 'jac', False, True, 'cv')\n",
    "    pred_list.append(recommended['song_id'].tolist())\n",
    "print(pred_list[0])"
   ]
  },
  {
   "cell_type": "code",
   "execution_count": null,
   "id": "91e1f0e7",
   "metadata": {},
   "outputs": [],
   "source": [
    "map_k = get_map_k(test_my_songs, pred_list, 10)\n",
    "print(\"MAP@K (K=10): {:.3f}\".format(map_k))"
   ]
  },
  {
   "cell_type": "code",
   "execution_count": null,
   "id": "c6e7b71d",
   "metadata": {},
   "outputs": [],
   "source": [
    "pred_list = []\n",
    "for plist, tags in zip(test_my_songs, test_my_tags):\n",
    "    recommended = song_recommend2(tags, plist, song_tag_appended, 'pea', False, True, 'cv')\n",
    "    pred_list.append(recommended['song_id'].tolist())\n",
    "print(pred_list[0])"
   ]
  },
  {
   "cell_type": "code",
   "execution_count": null,
   "id": "6c3473dc",
   "metadata": {},
   "outputs": [],
   "source": [
    "map_k = get_map_k(test_my_songs, pred_list, 10)\n",
    "print(\"MAP@K (K=10): {:.3f}\".format(map_k))"
   ]
  },
  {
   "cell_type": "markdown",
   "id": "2c178ed8",
   "metadata": {},
   "source": [
    "# 태그, 장르 불균형 데이터 처리\n",
    "\n",
    "- cv\n",
    "- recommend2"
   ]
  },
  {
   "cell_type": "code",
   "execution_count": null,
   "id": "e77cc4c8",
   "metadata": {},
   "outputs": [],
   "source": [
    "pred_list = []\n",
    "for plist, tags in zip(test_my_songs, test_my_tags):\n",
    "    recommended = song_recommend2(tags, plist, song_tag_appended, 'cos', True, True, 'cv')\n",
    "    pred_list.append(recommended['song_id'].tolist())\n",
    "print(pred_list[0])"
   ]
  },
  {
   "cell_type": "code",
   "execution_count": null,
   "id": "d4574c03",
   "metadata": {},
   "outputs": [],
   "source": [
    "map_k = get_map_k(test_my_songs, pred_list, 10)\n",
    "print(\"MAP@K (K=10): {:.3f}\".format(map_k))"
   ]
  },
  {
   "cell_type": "code",
   "execution_count": null,
   "id": "b5ae0003",
   "metadata": {},
   "outputs": [],
   "source": [
    "pred_list = []\n",
    "for plist, tags in zip(test_my_songs, test_my_tags):\n",
    "    recommended = song_recommend2(tags, plist, song_tag_appended, 'jac', True, True, 'cv')\n",
    "    pred_list.append(recommended['song_id'].tolist())\n",
    "print(pred_list[0])"
   ]
  },
  {
   "cell_type": "code",
   "execution_count": null,
   "id": "9b34801d",
   "metadata": {},
   "outputs": [],
   "source": [
    "map_k = get_map_k(test_my_songs, pred_list, 10)\n",
    "print(\"MAP@K (K=10): {:.3f}\".format(map_k))"
   ]
  },
  {
   "cell_type": "code",
   "execution_count": null,
   "id": "a3953998",
   "metadata": {},
   "outputs": [],
   "source": [
    "pred_list = []\n",
    "for plist, tags in zip(test_my_songs, test_my_tags):\n",
    "    recommended = song_recommend2(tags, plist, song_tag_appended, 'pea', True, True, 'cv')\n",
    "    pred_list.append(recommended['song_id'].tolist())\n",
    "print(pred_list[0])"
   ]
  },
  {
   "cell_type": "code",
   "execution_count": null,
   "id": "a18c19c6",
   "metadata": {},
   "outputs": [],
   "source": [
    "map_k = get_map_k(test_my_songs, pred_list, 10)\n",
    "print(\"MAP@K (K=10): {:.3f}\".format(map_k))"
   ]
  },
  {
   "cell_type": "markdown",
   "id": "3041cf85",
   "metadata": {},
   "source": [
    "# 태그, 장르 불균형 데이터 처리 X\n",
    "\n",
    "- tf-idf\n",
    "- recommend2"
   ]
  },
  {
   "cell_type": "code",
   "execution_count": null,
   "id": "c28f0184",
   "metadata": {},
   "outputs": [],
   "source": [
    "pred_list = []\n",
    "for plist, tags in zip(test_my_songs, test_my_tags):\n",
    "    recommended = song_recommend2(tags, plist, song_tag_appended, 'cos', False, False, 'tf')\n",
    "    pred_list.append(recommended['song_id'].tolist())\n",
    "print(pred_list[0])"
   ]
  },
  {
   "cell_type": "code",
   "execution_count": null,
   "id": "28e8b7a9",
   "metadata": {},
   "outputs": [],
   "source": [
    "map_k = get_map_k(test_my_songs, pred_list, 10)\n",
    "print(\"MAP@K (K=10): {:.3f}\".format(map_k))"
   ]
  },
  {
   "cell_type": "code",
   "execution_count": null,
   "id": "4e8c774e",
   "metadata": {},
   "outputs": [],
   "source": [
    "pred_list = []\n",
    "for plist, tags in zip(test_my_songs, test_my_tags):\n",
    "    recommended = song_recommend2(tags, plist, song_tag_appended, 'jac', False, False, 'tf')\n",
    "    pred_list.append(recommended['song_id'].tolist())\n",
    "print(pred_list[0])"
   ]
  },
  {
   "cell_type": "code",
   "execution_count": null,
   "id": "c09dcaa0",
   "metadata": {},
   "outputs": [],
   "source": [
    "map_k = get_map_k(test_my_songs, pred_list, 10)\n",
    "print(\"MAP@K (K=10): {:.3f}\".format(map_k))"
   ]
  },
  {
   "cell_type": "code",
   "execution_count": null,
   "id": "0b1b6173",
   "metadata": {},
   "outputs": [],
   "source": [
    "pred_list = []\n",
    "for plist, tags in zip(test_my_songs, test_my_tags):\n",
    "    recommended = song_recommend2(tags, plist, song_tag_appended, 'pea', False, False, 'tf')\n",
    "    pred_list.append(recommended['song_id'].tolist())\n",
    "print(pred_list[0])"
   ]
  },
  {
   "cell_type": "code",
   "execution_count": null,
   "id": "93ba07a1",
   "metadata": {},
   "outputs": [],
   "source": [
    "map_k = get_map_k(test_my_songs, pred_list, 10)\n",
    "print(\"MAP@K (K=10): {:.3f}\".format(map_k))"
   ]
  },
  {
   "cell_type": "markdown",
   "id": "a5eb717a",
   "metadata": {},
   "source": [
    "# 태그 불균형 데이터 처리\n",
    "\n",
    "- tf-idf\n",
    "- recommend2"
   ]
  },
  {
   "cell_type": "code",
   "execution_count": null,
   "id": "aba6eda3",
   "metadata": {},
   "outputs": [],
   "source": [
    "pred_list = []\n",
    "for plist, tags in zip(test_my_songs, test_my_tags):\n",
    "    recommended = song_recommend2(tags, plist, song_tag_appended, 'cos', True, False, 'tf')\n",
    "    pred_list.append(recommended['song_id'].tolist())\n",
    "print(pred_list[0])"
   ]
  },
  {
   "cell_type": "code",
   "execution_count": null,
   "id": "c0d7ab37",
   "metadata": {},
   "outputs": [],
   "source": [
    "map_k = get_map_k(test_my_songs, pred_list, 10)\n",
    "print(\"MAP@K (K=10): {:.3f}\".format(map_k))"
   ]
  },
  {
   "cell_type": "code",
   "execution_count": null,
   "id": "0abe2ffa",
   "metadata": {},
   "outputs": [],
   "source": [
    "pred_list = []\n",
    "for plist, tags in zip(test_my_songs, test_my_tags):\n",
    "    recommended = song_recommend2(tags, plist, song_tag_appended, 'jac', True, False, 'tf')\n",
    "    pred_list.append(recommended['song_id'].tolist())\n",
    "print(pred_list[0])"
   ]
  },
  {
   "cell_type": "code",
   "execution_count": null,
   "id": "68c34ccf",
   "metadata": {},
   "outputs": [],
   "source": [
    "map_k = get_map_k(test_my_songs, pred_list, 10)\n",
    "print(\"MAP@K (K=10): {:.3f}\".format(map_k))"
   ]
  },
  {
   "cell_type": "code",
   "execution_count": null,
   "id": "fb917246",
   "metadata": {},
   "outputs": [],
   "source": [
    "pred_list = []\n",
    "for plist, tags in zip(test_my_songs, test_my_tags):\n",
    "    recommended = song_recommend2(tags, plist, song_tag_appended, 'pea', True, False, 'tf')\n",
    "    pred_list.append(recommended['song_id'].tolist())\n",
    "print(pred_list[0])"
   ]
  },
  {
   "cell_type": "code",
   "execution_count": null,
   "id": "4d29cbc4",
   "metadata": {},
   "outputs": [],
   "source": [
    "map_k = get_map_k(test_my_songs, pred_list, 10)\n",
    "print(\"MAP@K (K=10): {:.3f}\".format(map_k))"
   ]
  },
  {
   "cell_type": "markdown",
   "id": "e8c7c1e3",
   "metadata": {},
   "source": [
    "# 장르 불균형 데이터 처리\n",
    "\n",
    "- tf-idf\n",
    "- recommend2"
   ]
  },
  {
   "cell_type": "code",
   "execution_count": null,
   "id": "f92dd77a",
   "metadata": {},
   "outputs": [],
   "source": [
    "pred_list = []\n",
    "for plist, tags in zip(test_my_songs, test_my_tags):\n",
    "    recommended = song_recommend2(tags, plist, song_tag_appended, 'cos', False, True, 'tf')\n",
    "    pred_list.append(recommended['song_id'].tolist())\n",
    "print(pred_list[0])"
   ]
  },
  {
   "cell_type": "code",
   "execution_count": null,
   "id": "9cae34c2",
   "metadata": {},
   "outputs": [],
   "source": [
    "map_k = get_map_k(test_my_songs, pred_list, 10)\n",
    "print(\"MAP@K (K=10): {:.3f}\".format(map_k))"
   ]
  },
  {
   "cell_type": "code",
   "execution_count": null,
   "id": "5a351340",
   "metadata": {},
   "outputs": [],
   "source": [
    "pred_list = []\n",
    "for plist, tags in zip(test_my_songs, test_my_tags):\n",
    "    recommended = song_recommend2(tags, plist, song_tag_appended, 'jac', False, True, 'tf')\n",
    "    pred_list.append(recommended['song_id'].tolist())\n",
    "print(pred_list[0])"
   ]
  },
  {
   "cell_type": "code",
   "execution_count": null,
   "id": "275d9fd5",
   "metadata": {},
   "outputs": [],
   "source": [
    "map_k = get_map_k(test_my_songs, pred_list, 10)\n",
    "print(\"MAP@K (K=10): {:.3f}\".format(map_k))"
   ]
  },
  {
   "cell_type": "code",
   "execution_count": null,
   "id": "7a8c092f",
   "metadata": {},
   "outputs": [],
   "source": [
    "pred_list = []\n",
    "for plist, tags in zip(test_my_songs, test_my_tags):\n",
    "    recommended = song_recommend2(tags, plist, song_tag_appended, 'pea', False, True, 'tf')\n",
    "    pred_list.append(recommended['song_id'].tolist())\n",
    "print(pred_list[0])"
   ]
  },
  {
   "cell_type": "code",
   "execution_count": null,
   "id": "246f5c6a",
   "metadata": {},
   "outputs": [],
   "source": [
    "map_k = get_map_k(test_my_songs, pred_list, 10)\n",
    "print(\"MAP@K (K=10): {:.3f}\".format(map_k))"
   ]
  },
  {
   "cell_type": "markdown",
   "id": "06900fc0",
   "metadata": {},
   "source": [
    "# 태그, 장르 불균형 데이터 처리\n",
    "\n",
    "- tf-idf\n",
    "- recommend2"
   ]
  },
  {
   "cell_type": "code",
   "execution_count": null,
   "id": "c87c0da1",
   "metadata": {},
   "outputs": [],
   "source": [
    "pred_list = []\n",
    "for plist, tags in zip(test_my_songs, test_my_tags):\n",
    "    recommended = song_recommend2(tags, plist, song_tag_appended, 'cos', True, True, 'tf')\n",
    "    pred_list.append(recommended['song_id'].tolist())\n",
    "print(pred_list[0])"
   ]
  },
  {
   "cell_type": "code",
   "execution_count": null,
   "id": "4957c95e",
   "metadata": {},
   "outputs": [],
   "source": [
    "map_k = get_map_k(test_my_songs, pred_list, 10)\n",
    "print(\"MAP@K (K=10): {:.3f}\".format(map_k))"
   ]
  },
  {
   "cell_type": "code",
   "execution_count": null,
   "id": "bce7dd5c",
   "metadata": {},
   "outputs": [],
   "source": [
    "pred_list = []\n",
    "for plist, tags in zip(test_my_songs, test_my_tags):\n",
    "    recommended = song_recommend2(tags, plist, song_tag_appended, 'jac', True, True, 'tf')\n",
    "    pred_list.append(recommended['song_id'].tolist())\n",
    "print(pred_list[0])"
   ]
  },
  {
   "cell_type": "code",
   "execution_count": null,
   "id": "c30982ee",
   "metadata": {},
   "outputs": [],
   "source": [
    "map_k = get_map_k(test_my_songs, pred_list, 10)\n",
    "print(\"MAP@K (K=10): {:.3f}\".format(map_k))"
   ]
  },
  {
   "cell_type": "code",
   "execution_count": null,
   "id": "c4c44743",
   "metadata": {},
   "outputs": [],
   "source": [
    "pred_list = []\n",
    "for plist, tags in zip(test_my_songs, test_my_tags):\n",
    "    recommended = song_recommend2(tags, plist, song_tag_appended, 'pea', True, True, 'tf')\n",
    "    pred_list.append(recommended['song_id'].tolist())\n",
    "print(pred_list[0])"
   ]
  },
  {
   "cell_type": "code",
   "execution_count": null,
   "id": "e2d5faff",
   "metadata": {},
   "outputs": [],
   "source": [
    "map_k = get_map_k(test_my_songs, pred_list, 10)\n",
    "print(\"MAP@K (K=10): {:.3f}\".format(map_k))"
   ]
  },
  {
   "cell_type": "markdown",
   "id": "3273609a",
   "metadata": {},
   "source": [
    "# nDCG"
   ]
  },
  {
   "cell_type": "code",
   "execution_count": null,
   "id": "f8a1426c",
   "metadata": {},
   "outputs": [],
   "source": [
    "def ndcg_at_k(y_true, y_pred, k):\n",
    "    ndcg = 0\n",
    "    ranking = []\n",
    "    \n",
    "    for i in range(k):\n",
    "        if y_pred[i] in y_true:\n",
    "            ranking.append(1)\n",
    "        else:\n",
    "            ranking.append(0)\n",
    "    print(ranking)\n",
    "        \n",
    "    # Ideal ranking을 계산하기 위해 ranking을 내림차순으로 정렬한 별도의 리스트\n",
    "    ideal_ranking = sorted(ranking, reverse=True)\n",
    "    \n",
    "    # DCG 계산\n",
    "    dcg = ranking[0]\n",
    "    for i in range(1, min(k, len(ranking))):\n",
    "        dcg += ranking[i] / np.log2(i + 1)\n",
    "    \n",
    "    # Ideal DCG 계산\n",
    "    ideal_dcg = ideal_ranking[0]\n",
    "    for i in range(1, min(k, len(ideal_ranking))):\n",
    "        ideal_dcg += ideal_ranking[i] / np.log2(i + 1)\n",
    "    \n",
    "    # nDCG 계산\n",
    "    if ideal_dcg == 0:\n",
    "        ndcg = 0\n",
    "    else:\n",
    "        ndcg = dcg / ideal_dcg\n",
    "    \n",
    "    return ndcg"
   ]
  },
  {
   "cell_type": "code",
   "execution_count": null,
   "id": "2a4349c6",
   "metadata": {},
   "outputs": [],
   "source": [
    "ndcg = 0\n",
    "plsts = 0\n",
    "\n",
    "for true_item, pred_item in zip(test_my_songs, pred_list):\n",
    "    ndcg += ndcg_at_k(true_item, pred_item, k=10)\n",
    "    plsts += 1\n",
    "    \n",
    "ndcg_result = ndcg / plsts\n",
    "print(f'nDCG: {ndcg_result:.4f}')"
   ]
  },
  {
   "cell_type": "markdown",
   "id": "0db59c7f",
   "metadata": {},
   "source": [
    "## 태그 세트 생성"
   ]
  },
  {
   "cell_type": "code",
   "execution_count": null,
   "id": "4284f6f0",
   "metadata": {},
   "outputs": [],
   "source": [
    "def make_tag_set(data):\n",
    "    tag_set = set()\n",
    "\n",
    "    for i in range(len(data)):\n",
    "        tag = data['tags'][i]\n",
    "    \n",
    "        for j in tag:\n",
    "            tag_set.add(j)\n",
    "\n",
    "    return tag_set"
   ]
  },
  {
   "cell_type": "code",
   "execution_count": null,
   "id": "af7cc036",
   "metadata": {},
   "outputs": [],
   "source": [
    "tag_set = make_tag_set(train_data_sample2)\n",
    "print(tag_set)"
   ]
  },
  {
   "cell_type": "markdown",
   "id": "7f2bbf8a",
   "metadata": {},
   "source": [
    "## 태그 불균형 데이터"
   ]
  },
  {
   "cell_type": "markdown",
   "id": "4f895554",
   "metadata": {},
   "source": [
    "## 불균형 정도 측정\n",
    "\n",
    "- 한 태그를 가지는 음악의 최대 개수, 한 태그를 가지는 음악의 개수를 추출\n",
    "- 가중치 부여에 관해서는 논의가 필요"
   ]
  },
  {
   "cell_type": "code",
   "execution_count": null,
   "id": "6f8df040",
   "metadata": {},
   "outputs": [],
   "source": [
    "def make_song_num_dict(data):\n",
    "    song_ids = dict()\n",
    "    song_num = dict()\n",
    "    max_num = 0\n",
    "    \n",
    "    for i in range(len(data)):\n",
    "        songs = data['song_id'][i]\n",
    "        tags = data['tags'][i]\n",
    "        \n",
    "        for j in tags:\n",
    "            if not j in song_ids:\n",
    "                song_ids[j] = set(songs)\n",
    "            \n",
    "            else:\n",
    "                song_ids[j].update(songs)\n",
    "    \n",
    "    for i in song_ids:\n",
    "        song_num[i] = len(song_ids[i])\n",
    "        \n",
    "        max_num = max(song_num[i], max_num)\n",
    "    \n",
    "    return song_num, max_num"
   ]
  },
  {
   "cell_type": "code",
   "execution_count": null,
   "id": "1a45d725",
   "metadata": {},
   "outputs": [],
   "source": [
    "song_num_dict, song_num_max = make_song_num_dict(train_data_sample2)\n",
    "print(song_num_max)\n",
    "print(song_num_dict)"
   ]
  },
  {
   "cell_type": "markdown",
   "id": "9b7e73bd",
   "metadata": {},
   "source": [
    "## 장르 데이터"
   ]
  },
  {
   "cell_type": "markdown",
   "id": "037279dd",
   "metadata": {},
   "source": [
    "## 불균형 데이터 처리"
   ]
  },
  {
   "cell_type": "code",
   "execution_count": null,
   "id": "76dd8271",
   "metadata": {},
   "outputs": [],
   "source": [
    "def make_genre_num_dict(appended_data):\n",
    "    song_ids = dict()\n",
    "    song_num = dict()\n",
    "    max_num = 0\n",
    "    \n",
    "    for i in range(len(appended_data)):\n",
    "        song = appended_data['song_id'][i]\n",
    "        gnrs = appended_data['gnr'][i]\n",
    "        \n",
    "        for j in gnrs:\n",
    "            if not j in song_ids:\n",
    "                song_ids[j] = {song}\n",
    "            \n",
    "            else:\n",
    "                song_ids[j].add(song)\n",
    "    \n",
    "    for i in song_ids:\n",
    "        song_num[i] = len(song_ids[i])\n",
    "        \n",
    "        max_num = max(song_num[i], max_num)\n",
    "    \n",
    "    return song_num, max_num"
   ]
  },
  {
   "cell_type": "code",
   "execution_count": null,
   "id": "3914fa84",
   "metadata": {},
   "outputs": [],
   "source": [
    "genre_num_dict, genre_num_max = make_genre_num_dict(song_tag_appended)\n",
    "print(genre_num_max)\n",
    "print(genre_num_dict)"
   ]
  },
  {
   "cell_type": "code",
   "execution_count": null,
   "id": "d5ba52cb",
   "metadata": {},
   "outputs": [],
   "source": []
  }
 ],
 "metadata": {
  "kernelspec": {
   "display_name": "Python 3 (ipykernel)",
   "language": "python",
   "name": "python3"
  },
  "language_info": {
   "codemirror_mode": {
    "name": "ipython",
    "version": 3
   },
   "file_extension": ".py",
   "mimetype": "text/x-python",
   "name": "python",
   "nbconvert_exporter": "python",
   "pygments_lexer": "ipython3",
   "version": "3.11.3"
  }
 },
 "nbformat": 4,
 "nbformat_minor": 5
}
