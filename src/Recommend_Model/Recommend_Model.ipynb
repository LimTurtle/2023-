{
 "cells": [
  {
   "cell_type": "markdown",
   "id": "3623a464",
   "metadata": {},
   "source": [
    "## 데이터 로드"
   ]
  },
  {
   "cell_type": "code",
   "execution_count": 16,
   "id": "1bf46884",
   "metadata": {},
   "outputs": [],
   "source": [
    "import json\n",
    "import pandas as pd\n",
    "import math\n",
    "import numpy as np\n",
    "\n",
    "with open('../Datasets/train.json', 'r', encoding='utf-8') as f:\n",
    "    json_data = json.load(f)"
   ]
  },
  {
   "cell_type": "code",
   "execution_count": 17,
   "id": "d7e6ed51",
   "metadata": {},
   "outputs": [
    {
     "data": {
      "text/html": [
       "<div>\n",
       "<style scoped>\n",
       "    .dataframe tbody tr th:only-of-type {\n",
       "        vertical-align: middle;\n",
       "    }\n",
       "\n",
       "    .dataframe tbody tr th {\n",
       "        vertical-align: top;\n",
       "    }\n",
       "\n",
       "    .dataframe thead th {\n",
       "        text-align: right;\n",
       "    }\n",
       "</style>\n",
       "<table border=\"1\" class=\"dataframe\">\n",
       "  <thead>\n",
       "    <tr style=\"text-align: right;\">\n",
       "      <th></th>\n",
       "      <th>tags</th>\n",
       "      <th>songs</th>\n",
       "      <th>like_cnt</th>\n",
       "    </tr>\n",
       "  </thead>\n",
       "  <tbody>\n",
       "    <tr>\n",
       "      <th>0</th>\n",
       "      <td>[락]</td>\n",
       "      <td>[525514, 129701, 383374, 562083, 297861, 13954...</td>\n",
       "      <td>71</td>\n",
       "    </tr>\n",
       "    <tr>\n",
       "      <th>1</th>\n",
       "      <td>[추억, 회상]</td>\n",
       "      <td>[432406, 675945, 497066, 120377, 389529, 24427...</td>\n",
       "      <td>1</td>\n",
       "    </tr>\n",
       "    <tr>\n",
       "      <th>2</th>\n",
       "      <td>[까페, 잔잔한]</td>\n",
       "      <td>[83116, 276692, 166267, 186301, 354465, 256598...</td>\n",
       "      <td>17</td>\n",
       "    </tr>\n",
       "    <tr>\n",
       "      <th>3</th>\n",
       "      <td>[연말, 눈오는날, 캐럴, 분위기, 따듯한, 크리스마스캐럴, 겨울노래, 크리스마스,...</td>\n",
       "      <td>[394031, 195524, 540149, 287984, 440773, 10033...</td>\n",
       "      <td>33</td>\n",
       "    </tr>\n",
       "    <tr>\n",
       "      <th>4</th>\n",
       "      <td>[댄스]</td>\n",
       "      <td>[159327, 553610, 5130, 645103, 294435, 100657,...</td>\n",
       "      <td>9</td>\n",
       "    </tr>\n",
       "  </tbody>\n",
       "</table>\n",
       "</div>"
      ],
      "text/plain": [
       "                                                tags  \\\n",
       "0                                                [락]   \n",
       "1                                           [추억, 회상]   \n",
       "2                                          [까페, 잔잔한]   \n",
       "3  [연말, 눈오는날, 캐럴, 분위기, 따듯한, 크리스마스캐럴, 겨울노래, 크리스마스,...   \n",
       "4                                               [댄스]   \n",
       "\n",
       "                                               songs  like_cnt  \n",
       "0  [525514, 129701, 383374, 562083, 297861, 13954...        71  \n",
       "1  [432406, 675945, 497066, 120377, 389529, 24427...         1  \n",
       "2  [83116, 276692, 166267, 186301, 354465, 256598...        17  \n",
       "3  [394031, 195524, 540149, 287984, 440773, 10033...        33  \n",
       "4  [159327, 553610, 5130, 645103, 294435, 100657,...         9  "
      ]
     },
     "execution_count": 17,
     "metadata": {},
     "output_type": "execute_result"
    }
   ],
   "source": [
    "train_data = pd.DataFrame(json_data)\n",
    "train_data = train_data.drop(['id', 'plylst_title', 'updt_date'], axis=1)\n",
    "train_data.head()"
   ]
  },
  {
   "cell_type": "code",
   "execution_count": 18,
   "id": "cc61bcc3",
   "metadata": {},
   "outputs": [],
   "source": [
    "with open('../Datasets/song_meta_with_likes.json', 'r', encoding='utf-8') as f:\n",
    "    json_data = json.load(f)"
   ]
  },
  {
   "cell_type": "code",
   "execution_count": 19,
   "id": "9d00a9fe",
   "metadata": {},
   "outputs": [
    {
     "data": {
      "text/html": [
       "<div>\n",
       "<style scoped>\n",
       "    .dataframe tbody tr th:only-of-type {\n",
       "        vertical-align: middle;\n",
       "    }\n",
       "\n",
       "    .dataframe tbody tr th {\n",
       "        vertical-align: top;\n",
       "    }\n",
       "\n",
       "    .dataframe thead th {\n",
       "        text-align: right;\n",
       "    }\n",
       "</style>\n",
       "<table border=\"1\" class=\"dataframe\">\n",
       "  <thead>\n",
       "    <tr style=\"text-align: right;\">\n",
       "      <th></th>\n",
       "      <th>song_gn_dtl_gnr_basket</th>\n",
       "      <th>issue_date</th>\n",
       "      <th>album_id</th>\n",
       "      <th>artist_id_basket</th>\n",
       "      <th>song_name</th>\n",
       "      <th>artist_name_basket</th>\n",
       "      <th>id</th>\n",
       "      <th>like_cnt_song</th>\n",
       "    </tr>\n",
       "  </thead>\n",
       "  <tbody>\n",
       "    <tr>\n",
       "      <th>0</th>\n",
       "      <td>[GN0901]</td>\n",
       "      <td>20140512</td>\n",
       "      <td>2255639</td>\n",
       "      <td>[2727]</td>\n",
       "      <td>Feelings</td>\n",
       "      <td>[Various Artists]</td>\n",
       "      <td>0</td>\n",
       "      <td>0.616807</td>\n",
       "    </tr>\n",
       "    <tr>\n",
       "      <th>1</th>\n",
       "      <td>[GN1601, GN1606]</td>\n",
       "      <td>20080421</td>\n",
       "      <td>376431</td>\n",
       "      <td>[29966]</td>\n",
       "      <td>Bach : Partita No. 4 In D Major, BWV 828 - II....</td>\n",
       "      <td>[Murray Perahia]</td>\n",
       "      <td>1</td>\n",
       "      <td>0.000000</td>\n",
       "    </tr>\n",
       "    <tr>\n",
       "      <th>2</th>\n",
       "      <td>[GN0901]</td>\n",
       "      <td>20180518</td>\n",
       "      <td>4698747</td>\n",
       "      <td>[3361]</td>\n",
       "      <td>Solsbury Hill (Remastered 2002)</td>\n",
       "      <td>[Peter Gabriel]</td>\n",
       "      <td>2</td>\n",
       "      <td>0.000000</td>\n",
       "    </tr>\n",
       "    <tr>\n",
       "      <th>3</th>\n",
       "      <td>[GN1102, GN1101]</td>\n",
       "      <td>20151016</td>\n",
       "      <td>2644882</td>\n",
       "      <td>[838543]</td>\n",
       "      <td>Feeling Right (Everything Is Nice) (Feat. Popc...</td>\n",
       "      <td>[Matoma]</td>\n",
       "      <td>3</td>\n",
       "      <td>22.996574</td>\n",
       "    </tr>\n",
       "    <tr>\n",
       "      <th>4</th>\n",
       "      <td>[GN1802, GN1801]</td>\n",
       "      <td>20110824</td>\n",
       "      <td>2008470</td>\n",
       "      <td>[560160]</td>\n",
       "      <td>그남자 그여자</td>\n",
       "      <td>[Jude Law]</td>\n",
       "      <td>4</td>\n",
       "      <td>0.297234</td>\n",
       "    </tr>\n",
       "  </tbody>\n",
       "</table>\n",
       "</div>"
      ],
      "text/plain": [
       "  song_gn_dtl_gnr_basket issue_date  album_id artist_id_basket  \\\n",
       "0               [GN0901]   20140512   2255639           [2727]   \n",
       "1       [GN1601, GN1606]   20080421    376431          [29966]   \n",
       "2               [GN0901]   20180518   4698747           [3361]   \n",
       "3       [GN1102, GN1101]   20151016   2644882         [838543]   \n",
       "4       [GN1802, GN1801]   20110824   2008470         [560160]   \n",
       "\n",
       "                                           song_name artist_name_basket  id  \\\n",
       "0                                           Feelings  [Various Artists]   0   \n",
       "1  Bach : Partita No. 4 In D Major, BWV 828 - II....   [Murray Perahia]   1   \n",
       "2                    Solsbury Hill (Remastered 2002)    [Peter Gabriel]   2   \n",
       "3  Feeling Right (Everything Is Nice) (Feat. Popc...           [Matoma]   3   \n",
       "4                                            그남자 그여자         [Jude Law]   4   \n",
       "\n",
       "   like_cnt_song  \n",
       "0       0.616807  \n",
       "1       0.000000  \n",
       "2       0.000000  \n",
       "3      22.996574  \n",
       "4       0.297234  "
      ]
     },
     "execution_count": 19,
     "metadata": {},
     "output_type": "execute_result"
    }
   ],
   "source": [
    "song_data = pd.DataFrame(json_data)\n",
    "song_data = song_data.drop(['album_name', 'song_gn_gnr_basket'], axis=1)\n",
    "song_data.head()"
   ]
  },
  {
   "cell_type": "markdown",
   "id": "bcf2ecba",
   "metadata": {},
   "source": [
    "## 데이터 열 이름 변경"
   ]
  },
  {
   "cell_type": "code",
   "execution_count": 20,
   "id": "36cf5e58",
   "metadata": {},
   "outputs": [
    {
     "data": {
      "text/html": [
       "<div>\n",
       "<style scoped>\n",
       "    .dataframe tbody tr th:only-of-type {\n",
       "        vertical-align: middle;\n",
       "    }\n",
       "\n",
       "    .dataframe tbody tr th {\n",
       "        vertical-align: top;\n",
       "    }\n",
       "\n",
       "    .dataframe thead th {\n",
       "        text-align: right;\n",
       "    }\n",
       "</style>\n",
       "<table border=\"1\" class=\"dataframe\">\n",
       "  <thead>\n",
       "    <tr style=\"text-align: right;\">\n",
       "      <th></th>\n",
       "      <th>tags</th>\n",
       "      <th>song_id</th>\n",
       "      <th>like_cnt</th>\n",
       "    </tr>\n",
       "  </thead>\n",
       "  <tbody>\n",
       "    <tr>\n",
       "      <th>0</th>\n",
       "      <td>[락]</td>\n",
       "      <td>[525514, 129701, 383374, 562083, 297861, 13954...</td>\n",
       "      <td>71</td>\n",
       "    </tr>\n",
       "    <tr>\n",
       "      <th>1</th>\n",
       "      <td>[추억, 회상]</td>\n",
       "      <td>[432406, 675945, 497066, 120377, 389529, 24427...</td>\n",
       "      <td>1</td>\n",
       "    </tr>\n",
       "    <tr>\n",
       "      <th>2</th>\n",
       "      <td>[까페, 잔잔한]</td>\n",
       "      <td>[83116, 276692, 166267, 186301, 354465, 256598...</td>\n",
       "      <td>17</td>\n",
       "    </tr>\n",
       "    <tr>\n",
       "      <th>3</th>\n",
       "      <td>[연말, 눈오는날, 캐럴, 분위기, 따듯한, 크리스마스캐럴, 겨울노래, 크리스마스,...</td>\n",
       "      <td>[394031, 195524, 540149, 287984, 440773, 10033...</td>\n",
       "      <td>33</td>\n",
       "    </tr>\n",
       "    <tr>\n",
       "      <th>4</th>\n",
       "      <td>[댄스]</td>\n",
       "      <td>[159327, 553610, 5130, 645103, 294435, 100657,...</td>\n",
       "      <td>9</td>\n",
       "    </tr>\n",
       "  </tbody>\n",
       "</table>\n",
       "</div>"
      ],
      "text/plain": [
       "                                                tags  \\\n",
       "0                                                [락]   \n",
       "1                                           [추억, 회상]   \n",
       "2                                          [까페, 잔잔한]   \n",
       "3  [연말, 눈오는날, 캐럴, 분위기, 따듯한, 크리스마스캐럴, 겨울노래, 크리스마스,...   \n",
       "4                                               [댄스]   \n",
       "\n",
       "                                             song_id  like_cnt  \n",
       "0  [525514, 129701, 383374, 562083, 297861, 13954...        71  \n",
       "1  [432406, 675945, 497066, 120377, 389529, 24427...         1  \n",
       "2  [83116, 276692, 166267, 186301, 354465, 256598...        17  \n",
       "3  [394031, 195524, 540149, 287984, 440773, 10033...        33  \n",
       "4  [159327, 553610, 5130, 645103, 294435, 100657,...         9  "
      ]
     },
     "execution_count": 20,
     "metadata": {},
     "output_type": "execute_result"
    }
   ],
   "source": [
    "train_data.rename(columns={'songs':'song_id'}, inplace=True)\n",
    "train_data.head()"
   ]
  },
  {
   "cell_type": "markdown",
   "id": "e2dcc1c1",
   "metadata": {},
   "source": [
    "## 데이터 추출\n",
    "\n",
    "- 500개의 플레이리스트 추출"
   ]
  },
  {
   "cell_type": "code",
   "execution_count": 21,
   "id": "9bec8482",
   "metadata": {},
   "outputs": [],
   "source": [
    "train_data_sample = train_data[:2000].copy()\n",
    "train_data_sample = train_data_sample.reset_index(drop=True)\n",
    "#train_data_sample = train_data"
   ]
  },
  {
   "cell_type": "code",
   "execution_count": 22,
   "id": "06c5ffc9",
   "metadata": {},
   "outputs": [
    {
     "data": {
      "text/html": [
       "<div>\n",
       "<style scoped>\n",
       "    .dataframe tbody tr th:only-of-type {\n",
       "        vertical-align: middle;\n",
       "    }\n",
       "\n",
       "    .dataframe tbody tr th {\n",
       "        vertical-align: top;\n",
       "    }\n",
       "\n",
       "    .dataframe thead th {\n",
       "        text-align: right;\n",
       "    }\n",
       "</style>\n",
       "<table border=\"1\" class=\"dataframe\">\n",
       "  <thead>\n",
       "    <tr style=\"text-align: right;\">\n",
       "      <th></th>\n",
       "      <th>gnr</th>\n",
       "      <th>issue_date</th>\n",
       "      <th>album_id</th>\n",
       "      <th>artist_id_basket</th>\n",
       "      <th>song_name</th>\n",
       "      <th>artist_name_basket</th>\n",
       "      <th>song_id</th>\n",
       "      <th>like_cnt_song</th>\n",
       "    </tr>\n",
       "  </thead>\n",
       "  <tbody>\n",
       "    <tr>\n",
       "      <th>0</th>\n",
       "      <td>[GN0901]</td>\n",
       "      <td>20140512</td>\n",
       "      <td>2255639</td>\n",
       "      <td>[2727]</td>\n",
       "      <td>Feelings</td>\n",
       "      <td>[Various Artists]</td>\n",
       "      <td>0</td>\n",
       "      <td>0.616807</td>\n",
       "    </tr>\n",
       "    <tr>\n",
       "      <th>1</th>\n",
       "      <td>[GN1601, GN1606]</td>\n",
       "      <td>20080421</td>\n",
       "      <td>376431</td>\n",
       "      <td>[29966]</td>\n",
       "      <td>Bach : Partita No. 4 In D Major, BWV 828 - II....</td>\n",
       "      <td>[Murray Perahia]</td>\n",
       "      <td>1</td>\n",
       "      <td>0.000000</td>\n",
       "    </tr>\n",
       "    <tr>\n",
       "      <th>2</th>\n",
       "      <td>[GN0901]</td>\n",
       "      <td>20180518</td>\n",
       "      <td>4698747</td>\n",
       "      <td>[3361]</td>\n",
       "      <td>Solsbury Hill (Remastered 2002)</td>\n",
       "      <td>[Peter Gabriel]</td>\n",
       "      <td>2</td>\n",
       "      <td>0.000000</td>\n",
       "    </tr>\n",
       "    <tr>\n",
       "      <th>3</th>\n",
       "      <td>[GN1102, GN1101]</td>\n",
       "      <td>20151016</td>\n",
       "      <td>2644882</td>\n",
       "      <td>[838543]</td>\n",
       "      <td>Feeling Right (Everything Is Nice) (Feat. Popc...</td>\n",
       "      <td>[Matoma]</td>\n",
       "      <td>3</td>\n",
       "      <td>22.996574</td>\n",
       "    </tr>\n",
       "    <tr>\n",
       "      <th>4</th>\n",
       "      <td>[GN1802, GN1801]</td>\n",
       "      <td>20110824</td>\n",
       "      <td>2008470</td>\n",
       "      <td>[560160]</td>\n",
       "      <td>그남자 그여자</td>\n",
       "      <td>[Jude Law]</td>\n",
       "      <td>4</td>\n",
       "      <td>0.297234</td>\n",
       "    </tr>\n",
       "  </tbody>\n",
       "</table>\n",
       "</div>"
      ],
      "text/plain": [
       "                gnr  issue_date  album_id artist_id_basket  \\\n",
       "0          [GN0901]    20140512   2255639           [2727]   \n",
       "1  [GN1601, GN1606]    20080421    376431          [29966]   \n",
       "2          [GN0901]    20180518   4698747           [3361]   \n",
       "3  [GN1102, GN1101]    20151016   2644882         [838543]   \n",
       "4  [GN1802, GN1801]    20110824   2008470         [560160]   \n",
       "\n",
       "                                           song_name artist_name_basket  \\\n",
       "0                                           Feelings  [Various Artists]   \n",
       "1  Bach : Partita No. 4 In D Major, BWV 828 - II....   [Murray Perahia]   \n",
       "2                    Solsbury Hill (Remastered 2002)    [Peter Gabriel]   \n",
       "3  Feeling Right (Everything Is Nice) (Feat. Popc...           [Matoma]   \n",
       "4                                            그남자 그여자         [Jude Law]   \n",
       "\n",
       "   song_id  like_cnt_song  \n",
       "0        0       0.616807  \n",
       "1        1       0.000000  \n",
       "2        2       0.000000  \n",
       "3        3      22.996574  \n",
       "4        4       0.297234  "
      ]
     },
     "execution_count": 22,
     "metadata": {},
     "output_type": "execute_result"
    }
   ],
   "source": [
    "song_data.rename(columns={'id':'song_id', 'song_gn_dtl_gnr_basket': 'gnr'}, inplace=True)\n",
    "song_data = song_data.astype({'issue_date':'int64'})\n",
    "song_data.head()"
   ]
  },
  {
   "cell_type": "markdown",
   "id": "ec6f0145",
   "metadata": {},
   "source": [
    "## 노래별 가중치 설정"
   ]
  },
  {
   "cell_type": "code",
   "execution_count": 23,
   "id": "a6cd3d95",
   "metadata": {},
   "outputs": [
    {
     "data": {
      "text/plain": [
       "count    591216.000000\n",
       "mean         18.528749\n",
       "std          73.444383\n",
       "min           0.005000\n",
       "25%           0.302632\n",
       "50%           1.509804\n",
       "75%           8.990398\n",
       "max        3548.345552\n",
       "Name: like_cnt_song, dtype: float64"
      ]
     },
     "execution_count": 23,
     "metadata": {},
     "output_type": "execute_result"
    },
    {
     "data": {
      "image/png": "[encoded data removed]",
      "text/plain": [
       "<Figure size 640x480 with 1 Axes>"
      ]
     },
     "metadata": {},
     "output_type": "display_data"
    }
   ],
   "source": [
    "# 좋아요 개수 분포 확인을 위한 코드\n",
    "clean_song_data = song_data[song_data['like_cnt_song'] > 0]\n",
    "clean_song_data['like_cnt_song'].hist(bins=100)\n",
    "clean_song_data['like_cnt_song'].describe()"
   ]
  },
  {
   "cell_type": "code",
   "execution_count": 24,
   "id": "63d1141b",
   "metadata": {},
   "outputs": [
    {
     "data": {
      "text/html": [
       "<div>\n",
       "<style scoped>\n",
       "    .dataframe tbody tr th:only-of-type {\n",
       "        vertical-align: middle;\n",
       "    }\n",
       "\n",
       "    .dataframe tbody tr th {\n",
       "        vertical-align: top;\n",
       "    }\n",
       "\n",
       "    .dataframe thead th {\n",
       "        text-align: right;\n",
       "    }\n",
       "</style>\n",
       "<table border=\"1\" class=\"dataframe\">\n",
       "  <thead>\n",
       "    <tr style=\"text-align: right;\">\n",
       "      <th></th>\n",
       "      <th>gnr</th>\n",
       "      <th>issue_date</th>\n",
       "      <th>album_id</th>\n",
       "      <th>artist_id_basket</th>\n",
       "      <th>song_name</th>\n",
       "      <th>artist_name_basket</th>\n",
       "      <th>song_id</th>\n",
       "      <th>like_cnt_song</th>\n",
       "      <th>weight</th>\n",
       "    </tr>\n",
       "  </thead>\n",
       "  <tbody>\n",
       "    <tr>\n",
       "      <th>0</th>\n",
       "      <td>[GN0901]</td>\n",
       "      <td>20140512</td>\n",
       "      <td>2255639</td>\n",
       "      <td>[2727]</td>\n",
       "      <td>Feelings</td>\n",
       "      <td>[Various Artists]</td>\n",
       "      <td>0</td>\n",
       "      <td>0.616807</td>\n",
       "      <td>0.85</td>\n",
       "    </tr>\n",
       "    <tr>\n",
       "      <th>1</th>\n",
       "      <td>[GN1601, GN1606]</td>\n",
       "      <td>20080421</td>\n",
       "      <td>376431</td>\n",
       "      <td>[29966]</td>\n",
       "      <td>Bach : Partita No. 4 In D Major, BWV 828 - II....</td>\n",
       "      <td>[Murray Perahia]</td>\n",
       "      <td>1</td>\n",
       "      <td>0.000000</td>\n",
       "      <td>0.00</td>\n",
       "    </tr>\n",
       "    <tr>\n",
       "      <th>2</th>\n",
       "      <td>[GN0901]</td>\n",
       "      <td>20180518</td>\n",
       "      <td>4698747</td>\n",
       "      <td>[3361]</td>\n",
       "      <td>Solsbury Hill (Remastered 2002)</td>\n",
       "      <td>[Peter Gabriel]</td>\n",
       "      <td>2</td>\n",
       "      <td>0.000000</td>\n",
       "      <td>0.00</td>\n",
       "    </tr>\n",
       "    <tr>\n",
       "      <th>3</th>\n",
       "      <td>[GN1102, GN1101]</td>\n",
       "      <td>20151016</td>\n",
       "      <td>2644882</td>\n",
       "      <td>[838543]</td>\n",
       "      <td>Feeling Right (Everything Is Nice) (Feat. Popc...</td>\n",
       "      <td>[Matoma]</td>\n",
       "      <td>3</td>\n",
       "      <td>22.996574</td>\n",
       "      <td>0.95</td>\n",
       "    </tr>\n",
       "    <tr>\n",
       "      <th>4</th>\n",
       "      <td>[GN1802, GN1801]</td>\n",
       "      <td>20110824</td>\n",
       "      <td>2008470</td>\n",
       "      <td>[560160]</td>\n",
       "      <td>그남자 그여자</td>\n",
       "      <td>[Jude Law]</td>\n",
       "      <td>4</td>\n",
       "      <td>0.297234</td>\n",
       "      <td>0.80</td>\n",
       "    </tr>\n",
       "    <tr>\n",
       "      <th>5</th>\n",
       "      <td>[GN1701]</td>\n",
       "      <td>20100602</td>\n",
       "      <td>911754</td>\n",
       "      <td>[475840]</td>\n",
       "      <td>Para Los Enamorados</td>\n",
       "      <td>[Bye, Lupita]</td>\n",
       "      <td>5</td>\n",
       "      <td>24.995233</td>\n",
       "      <td>0.95</td>\n",
       "    </tr>\n",
       "    <tr>\n",
       "      <th>6</th>\n",
       "      <td>[GN1601, GN1602, GN1614]</td>\n",
       "      <td>20170208</td>\n",
       "      <td>10038397</td>\n",
       "      <td>[162097, 100237]</td>\n",
       "      <td>Sibelius : Valse Triste Op.44 (시벨리우스 : 슬픈 왈츠 작...</td>\n",
       "      <td>[Herbert Blomstedt, San Francisco Symphony]</td>\n",
       "      <td>6</td>\n",
       "      <td>0.857143</td>\n",
       "      <td>0.85</td>\n",
       "    </tr>\n",
       "    <tr>\n",
       "      <th>7</th>\n",
       "      <td>[GN1601, GN1602, GN1614]</td>\n",
       "      <td>20190315</td>\n",
       "      <td>10261160</td>\n",
       "      <td>[105210, 261542]</td>\n",
       "      <td>Superman March (From &amp;#34;Superman&amp;#34; / Live...</td>\n",
       "      <td>[Los Angeles Philharmonic Orchestra, Gustavo D...</td>\n",
       "      <td>7</td>\n",
       "      <td>0.115385</td>\n",
       "      <td>0.80</td>\n",
       "    </tr>\n",
       "    <tr>\n",
       "      <th>8</th>\n",
       "      <td>[GN0301]</td>\n",
       "      <td>20070625</td>\n",
       "      <td>353020</td>\n",
       "      <td>[224583]</td>\n",
       "      <td>Lovers’ Leap (Feat. Qypthone)</td>\n",
       "      <td>[애플스]</td>\n",
       "      <td>8</td>\n",
       "      <td>0.000000</td>\n",
       "      <td>0.00</td>\n",
       "    </tr>\n",
       "    <tr>\n",
       "      <th>9</th>\n",
       "      <td>[GN0105, GN0101]</td>\n",
       "      <td>20170320</td>\n",
       "      <td>10047088</td>\n",
       "      <td>[753752]</td>\n",
       "      <td>사랑, 그대라는 멜로디</td>\n",
       "      <td>[진호]</td>\n",
       "      <td>9</td>\n",
       "      <td>7.006667</td>\n",
       "      <td>0.90</td>\n",
       "    </tr>\n",
       "  </tbody>\n",
       "</table>\n",
       "</div>"
      ],
      "text/plain": [
       "                        gnr  issue_date  album_id  artist_id_basket  \\\n",
       "0                  [GN0901]    20140512   2255639            [2727]   \n",
       "1          [GN1601, GN1606]    20080421    376431           [29966]   \n",
       "2                  [GN0901]    20180518   4698747            [3361]   \n",
       "3          [GN1102, GN1101]    20151016   2644882          [838543]   \n",
       "4          [GN1802, GN1801]    20110824   2008470          [560160]   \n",
       "5                  [GN1701]    20100602    911754          [475840]   \n",
       "6  [GN1601, GN1602, GN1614]    20170208  10038397  [162097, 100237]   \n",
       "7  [GN1601, GN1602, GN1614]    20190315  10261160  [105210, 261542]   \n",
       "8                  [GN0301]    20070625    353020          [224583]   \n",
       "9          [GN0105, GN0101]    20170320  10047088          [753752]   \n",
       "\n",
       "                                           song_name  \\\n",
       "0                                           Feelings   \n",
       "1  Bach : Partita No. 4 In D Major, BWV 828 - II....   \n",
       "2                    Solsbury Hill (Remastered 2002)   \n",
       "3  Feeling Right (Everything Is Nice) (Feat. Popc...   \n",
       "4                                            그남자 그여자   \n",
       "5                                Para Los Enamorados   \n",
       "6  Sibelius : Valse Triste Op.44 (시벨리우스 : 슬픈 왈츠 작...   \n",
       "7  Superman March (From &#34;Superman&#34; / Live...   \n",
       "8                      Lovers’ Leap (Feat. Qypthone)   \n",
       "9                                       사랑, 그대라는 멜로디   \n",
       "\n",
       "                                  artist_name_basket  song_id  like_cnt_song  \\\n",
       "0                                  [Various Artists]        0       0.616807   \n",
       "1                                   [Murray Perahia]        1       0.000000   \n",
       "2                                    [Peter Gabriel]        2       0.000000   \n",
       "3                                           [Matoma]        3      22.996574   \n",
       "4                                         [Jude Law]        4       0.297234   \n",
       "5                                      [Bye, Lupita]        5      24.995233   \n",
       "6        [Herbert Blomstedt, San Francisco Symphony]        6       0.857143   \n",
       "7  [Los Angeles Philharmonic Orchestra, Gustavo D...        7       0.115385   \n",
       "8                                              [애플스]        8       0.000000   \n",
       "9                                               [진호]        9       7.006667   \n",
       "\n",
       "  weight  \n",
       "0   0.85  \n",
       "1   0.00  \n",
       "2   0.00  \n",
       "3   0.95  \n",
       "4   0.80  \n",
       "5   0.95  \n",
       "6   0.85  \n",
       "7   0.80  \n",
       "8   0.00  \n",
       "9   0.90  "
      ]
     },
     "execution_count": 24,
     "metadata": {},
     "output_type": "execute_result"
    }
   ],
   "source": [
    "bins = [-1, 0.001, 0.3, 1.5, 9, 3600]  # 구간 분할\n",
    "labels = [0, 0.8, 0.85, 0.9, 0.95]  # 구간별 가중치 지정\n",
    "\n",
    "song_data['weight'] = pd.cut(song_data['like_cnt_song'], bins=bins, labels=labels)  # 구간별 가중치 지정\n",
    "song_data.head(10)"
   ]
  },
  {
   "cell_type": "markdown",
   "id": "ea43c58a",
   "metadata": {},
   "source": [
    "## 가중치 반영 여부 설정"
   ]
  },
  {
   "cell_type": "code",
   "execution_count": 25,
   "id": "75a4c6e2",
   "metadata": {},
   "outputs": [],
   "source": [
    "likeWeight = True"
   ]
  },
  {
   "cell_type": "markdown",
   "id": "7bdd9aa0",
   "metadata": {},
   "source": [
    "# 한국어 -> 영어 변환\n",
    "- 한국어 전처리에 어려움이 있어서, 영어로 모두 변환 후 처리"
   ]
  },
  {
   "cell_type": "code",
   "execution_count": 26,
   "id": "9987dda0",
   "metadata": {},
   "outputs": [
    {
     "data": {
      "text/plain": [
       "'\\nfrom googletrans import Translator\\nimport time\\n\\ndef trans_to_eng(tags):\\n    time.sleep(1)\\n    translator = Translator()\\n    translated = translator.translate(tags, src = \\'ko\\', dest = \\'en\\')\\n    return translated.text\\n\\nfor i in range(len(train_data_sample)):\\n    eng_tags = [trans_to_eng(tag) for tag in train_data_sample[\\'tags\\'][i]]\\n    train_data_sample[\\'tags\\'][i] = eng_tags\\n\\ntrain_data_sample.to_json(\\'../Datasets/train_eng1.json\\', orient=\\'records\\')\\ntrain_data_sample.head(30)\\n\\n    \\n#train_data.head()\\n#eng_tags = [trans_to_eng(tag) for tag in train_data[\\'tags\\'][1]]\\n#print(\"Kor: \", train_data[\\'tags\\'][1])\\n#print(\"Eng: \", eng_tags)\\n'"
      ]
     },
     "execution_count": 26,
     "metadata": {},
     "output_type": "execute_result"
    }
   ],
   "source": [
    "'''\n",
    "from googletrans import Translator\n",
    "import time\n",
    "\n",
    "def trans_to_eng(tags):\n",
    "    time.sleep(1)\n",
    "    translator = Translator()\n",
    "    translated = translator.translate(tags, src = 'ko', dest = 'en')\n",
    "    return translated.text\n",
    "\n",
    "for i in range(len(train_data_sample)):\n",
    "    eng_tags = [trans_to_eng(tag) for tag in train_data_sample['tags'][i]]\n",
    "    train_data_sample['tags'][i] = eng_tags\n",
    "\n",
    "train_data_sample.to_json('../Datasets/train_eng1.json', orient='records')\n",
    "train_data_sample.head(30)\n",
    "\n",
    "    \n",
    "#train_data.head()\n",
    "#eng_tags = [trans_to_eng(tag) for tag in train_data['tags'][1]]\n",
    "#print(\"Kor: \", train_data['tags'][1])\n",
    "#print(\"Eng: \", eng_tags)\n",
    "'''"
   ]
  },
  {
   "cell_type": "code",
   "execution_count": 27,
   "id": "dfce8f10",
   "metadata": {},
   "outputs": [],
   "source": [
    "with open('../Datasets/train_eng.json', 'r', encoding='utf-8') as f:\n",
    "    json_data = json.load(f)"
   ]
  },
  {
   "cell_type": "code",
   "execution_count": 28,
   "id": "a7c58672",
   "metadata": {},
   "outputs": [
    {
     "data": {
      "text/html": [
       "<div>\n",
       "<style scoped>\n",
       "    .dataframe tbody tr th:only-of-type {\n",
       "        vertical-align: middle;\n",
       "    }\n",
       "\n",
       "    .dataframe tbody tr th {\n",
       "        vertical-align: top;\n",
       "    }\n",
       "\n",
       "    .dataframe thead th {\n",
       "        text-align: right;\n",
       "    }\n",
       "</style>\n",
       "<table border=\"1\" class=\"dataframe\">\n",
       "  <thead>\n",
       "    <tr style=\"text-align: right;\">\n",
       "      <th></th>\n",
       "      <th>tags</th>\n",
       "      <th>song_id</th>\n",
       "      <th>like_cnt</th>\n",
       "    </tr>\n",
       "  </thead>\n",
       "  <tbody>\n",
       "    <tr>\n",
       "      <th>0</th>\n",
       "      <td>[Lock]</td>\n",
       "      <td>[525514, 129701, 383374, 562083, 297861, 13954...</td>\n",
       "      <td>71</td>\n",
       "    </tr>\n",
       "    <tr>\n",
       "      <th>1</th>\n",
       "      <td>[memory, reminisce]</td>\n",
       "      <td>[432406, 675945, 497066, 120377, 389529, 24427...</td>\n",
       "      <td>1</td>\n",
       "    </tr>\n",
       "    <tr>\n",
       "      <th>2</th>\n",
       "      <td>[Cafe, windless]</td>\n",
       "      <td>[83116, 276692, 166267, 186301, 354465, 256598...</td>\n",
       "      <td>17</td>\n",
       "    </tr>\n",
       "    <tr>\n",
       "      <th>3</th>\n",
       "      <td>[Year-end, snowy day, Carol, atmosphere, Warm,...</td>\n",
       "      <td>[394031, 195524, 540149, 287984, 440773, 10033...</td>\n",
       "      <td>33</td>\n",
       "    </tr>\n",
       "    <tr>\n",
       "      <th>4</th>\n",
       "      <td>[dance]</td>\n",
       "      <td>[159327, 553610, 5130, 645103, 294435, 100657,...</td>\n",
       "      <td>9</td>\n",
       "    </tr>\n",
       "    <tr>\n",
       "      <th>5</th>\n",
       "      <td>[work out, drive, Pop, Tropical house, healing...</td>\n",
       "      <td>[418694, 222305, 96545, 135950, 304687, 457451...</td>\n",
       "      <td>435</td>\n",
       "    </tr>\n",
       "    <tr>\n",
       "      <th>6</th>\n",
       "      <td>[crush, My type, sadness, confession, love, fa...</td>\n",
       "      <td>[528130, 505036, 398947, 627363, 37748, 376358...</td>\n",
       "      <td>24</td>\n",
       "    </tr>\n",
       "    <tr>\n",
       "      <th>7</th>\n",
       "      <td>[windless, memory, reminisce]</td>\n",
       "      <td>[496913, 632529, 501426, 515574, 411161, 10341...</td>\n",
       "      <td>5</td>\n",
       "    </tr>\n",
       "    <tr>\n",
       "      <th>8</th>\n",
       "      <td>[Electronica, fork, metal, Lock, dance, Indie]</td>\n",
       "      <td>[634861, 270738, 163936, 692209, 449477, 56342...</td>\n",
       "      <td>0</td>\n",
       "    </tr>\n",
       "    <tr>\n",
       "      <th>9</th>\n",
       "      <td>[rock, Metal, Lee Il -woo, M essential, metal,...</td>\n",
       "      <td>[613315, 439294, 230806, 497932, 113479, 93506...</td>\n",
       "      <td>7</td>\n",
       "    </tr>\n",
       "  </tbody>\n",
       "</table>\n",
       "</div>"
      ],
      "text/plain": [
       "                                                tags  \\\n",
       "0                                             [Lock]   \n",
       "1                                [memory, reminisce]   \n",
       "2                                   [Cafe, windless]   \n",
       "3  [Year-end, snowy day, Carol, atmosphere, Warm,...   \n",
       "4                                            [dance]   \n",
       "5  [work out, drive, Pop, Tropical house, healing...   \n",
       "6  [crush, My type, sadness, confession, love, fa...   \n",
       "7                      [windless, memory, reminisce]   \n",
       "8     [Electronica, fork, metal, Lock, dance, Indie]   \n",
       "9  [rock, Metal, Lee Il -woo, M essential, metal,...   \n",
       "\n",
       "                                             song_id  like_cnt  \n",
       "0  [525514, 129701, 383374, 562083, 297861, 13954...        71  \n",
       "1  [432406, 675945, 497066, 120377, 389529, 24427...         1  \n",
       "2  [83116, 276692, 166267, 186301, 354465, 256598...        17  \n",
       "3  [394031, 195524, 540149, 287984, 440773, 10033...        33  \n",
       "4  [159327, 553610, 5130, 645103, 294435, 100657,...         9  \n",
       "5  [418694, 222305, 96545, 135950, 304687, 457451...       435  \n",
       "6  [528130, 505036, 398947, 627363, 37748, 376358...        24  \n",
       "7  [496913, 632529, 501426, 515574, 411161, 10341...         5  \n",
       "8  [634861, 270738, 163936, 692209, 449477, 56342...         0  \n",
       "9  [613315, 439294, 230806, 497932, 113479, 93506...         7  "
      ]
     },
     "execution_count": 28,
     "metadata": {},
     "output_type": "execute_result"
    }
   ],
   "source": [
    "train_data_eng = pd.DataFrame(json_data)\n",
    "train_data_eng.head(10)"
   ]
  },
  {
   "cell_type": "markdown",
   "id": "5bd4c7c3",
   "metadata": {},
   "source": [
    "# 태그 자연어 전처리"
   ]
  },
  {
   "cell_type": "markdown",
   "id": "d10c3fba",
   "metadata": {},
   "source": [
    "### 특수문자 및 공백 제외 + 대->소문자 변환"
   ]
  },
  {
   "cell_type": "code",
   "execution_count": 29,
   "id": "d9c35cae",
   "metadata": {},
   "outputs": [
    {
     "name": "stdout",
     "output_type": "stream",
     "text": [
      "['Year-end', 'snowy day', 'Carol', 'atmosphere', 'Warm', 'Christmas carol', 'Winter song', 'christmas', 'Frozen', 'Christmas song']\n"
     ]
    },
    {
     "name": "stderr",
     "output_type": "stream",
     "text": [
      "C:\\Users\\pigwo\\AppData\\Local\\Temp\\ipykernel_12988\\2424180763.py:12: SettingWithCopyWarning: \n",
      "A value is trying to be set on a copy of a slice from a DataFrame\n",
      "\n",
      "See the caveats in the documentation: https://pandas.pydata.org/pandas-docs/stable/user_guide/indexing.html#returning-a-view-versus-a-copy\n",
      "  train_data_eng['tags'][idx] = eng_tags\n"
     ]
    },
    {
     "name": "stdout",
     "output_type": "stream",
     "text": [
      "['year', 'end', 'snowy', 'day', 'carol', 'atmosphere', 'warm', 'christmas', 'carol', 'winter', 'song', 'christmas', 'frozen', 'christmas', 'song']\n"
     ]
    }
   ],
   "source": [
    "import re\n",
    "\n",
    "print(train_data_eng['tags'][3])\n",
    "pattern = re.compile('[^a-zA-Z0-9]')#특수문자나 공백을 띄어쓰기로 처리할지는 이후 테스트\n",
    "idx = 0\n",
    "for tags in train_data_eng['tags']:\n",
    "    eng_tags = []\n",
    "    for tag in tags:\n",
    "        temp_tags = re.sub(pattern, ' ', tag).lower().split()\n",
    "        for temp_tag in temp_tags:\n",
    "            eng_tags.append(temp_tag)\n",
    "    train_data_eng['tags'][idx] = eng_tags\n",
    "    idx += 1\n",
    "print(train_data_eng['tags'][3])"
   ]
  },
  {
   "cell_type": "markdown",
   "id": "da78efbc",
   "metadata": {},
   "source": [
    "### Stopwords 제거"
   ]
  },
  {
   "cell_type": "code",
   "execution_count": 30,
   "id": "a42b28a7",
   "metadata": {},
   "outputs": [
    {
     "name": "stderr",
     "output_type": "stream",
     "text": [
      "[nltk_data] Downloading collection 'popular'\n",
      "[nltk_data]    | \n",
      "[nltk_data]    | Downloading package cmudict to\n",
      "[nltk_data]    |     C:\\Users\\pigwo\\AppData\\Roaming\\nltk_data...\n",
      "[nltk_data]    |   Unzipping corpora\\cmudict.zip.\n",
      "[nltk_data]    | Downloading package gazetteers to\n",
      "[nltk_data]    |     C:\\Users\\pigwo\\AppData\\Roaming\\nltk_data...\n",
      "[nltk_data]    |   Unzipping corpora\\gazetteers.zip.\n",
      "[nltk_data]    | Downloading package genesis to\n",
      "[nltk_data]    |     C:\\Users\\pigwo\\AppData\\Roaming\\nltk_data...\n",
      "[nltk_data]    |   Unzipping corpora\\genesis.zip.\n",
      "[nltk_data]    | Downloading package gutenberg to\n",
      "[nltk_data]    |     C:\\Users\\pigwo\\AppData\\Roaming\\nltk_data...\n",
      "[nltk_data]    |   Unzipping corpora\\gutenberg.zip.\n",
      "[nltk_data]    | Downloading package inaugural to\n",
      "[nltk_data]    |     C:\\Users\\pigwo\\AppData\\Roaming\\nltk_data...\n",
      "[nltk_data]    |   Unzipping corpora\\inaugural.zip.\n",
      "[nltk_data]    | Downloading package movie_reviews to\n",
      "[nltk_data]    |     C:\\Users\\pigwo\\AppData\\Roaming\\nltk_data...\n",
      "[nltk_data]    |   Unzipping corpora\\movie_reviews.zip.\n",
      "[nltk_data]    | Downloading package names to\n",
      "[nltk_data]    |     C:\\Users\\pigwo\\AppData\\Roaming\\nltk_data...\n",
      "[nltk_data]    |   Unzipping corpora\\names.zip.\n",
      "[nltk_data]    | Downloading package shakespeare to\n",
      "[nltk_data]    |     C:\\Users\\pigwo\\AppData\\Roaming\\nltk_data...\n",
      "[nltk_data]    |   Unzipping corpora\\shakespeare.zip.\n",
      "[nltk_data]    | Downloading package stopwords to\n",
      "[nltk_data]    |     C:\\Users\\pigwo\\AppData\\Roaming\\nltk_data...\n",
      "[nltk_data]    |   Unzipping corpora\\stopwords.zip.\n",
      "[nltk_data]    | Downloading package treebank to\n",
      "[nltk_data]    |     C:\\Users\\pigwo\\AppData\\Roaming\\nltk_data...\n",
      "[nltk_data]    |   Unzipping corpora\\treebank.zip.\n",
      "[nltk_data]    | Downloading package twitter_samples to\n",
      "[nltk_data]    |     C:\\Users\\pigwo\\AppData\\Roaming\\nltk_data...\n",
      "[nltk_data]    |   Unzipping corpora\\twitter_samples.zip.\n",
      "[nltk_data]    | Downloading package omw to\n",
      "[nltk_data]    |     C:\\Users\\pigwo\\AppData\\Roaming\\nltk_data...\n",
      "[nltk_data]    | Downloading package omw-1.4 to\n",
      "[nltk_data]    |     C:\\Users\\pigwo\\AppData\\Roaming\\nltk_data...\n",
      "[nltk_data]    | Downloading package wordnet to\n",
      "[nltk_data]    |     C:\\Users\\pigwo\\AppData\\Roaming\\nltk_data...\n",
      "[nltk_data]    | Downloading package wordnet2021 to\n",
      "[nltk_data]    |     C:\\Users\\pigwo\\AppData\\Roaming\\nltk_data...\n",
      "[nltk_data]    | Downloading package wordnet31 to\n",
      "[nltk_data]    |     C:\\Users\\pigwo\\AppData\\Roaming\\nltk_data...\n",
      "[nltk_data]    | Downloading package wordnet_ic to\n",
      "[nltk_data]    |     C:\\Users\\pigwo\\AppData\\Roaming\\nltk_data...\n",
      "[nltk_data]    |   Unzipping corpora\\wordnet_ic.zip.\n",
      "[nltk_data]    | Downloading package words to\n",
      "[nltk_data]    |     C:\\Users\\pigwo\\AppData\\Roaming\\nltk_data...\n",
      "[nltk_data]    |   Unzipping corpora\\words.zip.\n",
      "[nltk_data]    | Downloading package maxent_ne_chunker to\n",
      "[nltk_data]    |     C:\\Users\\pigwo\\AppData\\Roaming\\nltk_data...\n",
      "[nltk_data]    |   Unzipping chunkers\\maxent_ne_chunker.zip.\n",
      "[nltk_data]    | Downloading package punkt to\n",
      "[nltk_data]    |     C:\\Users\\pigwo\\AppData\\Roaming\\nltk_data...\n",
      "[nltk_data]    |   Unzipping tokenizers\\punkt.zip.\n",
      "[nltk_data]    | Downloading package snowball_data to\n",
      "[nltk_data]    |     C:\\Users\\pigwo\\AppData\\Roaming\\nltk_data...\n",
      "[nltk_data]    | Downloading package averaged_perceptron_tagger to\n",
      "[nltk_data]    |     C:\\Users\\pigwo\\AppData\\Roaming\\nltk_data...\n",
      "[nltk_data]    |   Unzipping taggers\\averaged_perceptron_tagger.zip.\n",
      "[nltk_data]    | \n",
      "[nltk_data]  Done downloading collection popular\n",
      "C:\\Users\\pigwo\\AppData\\Local\\Temp\\ipykernel_12988\\4285793813.py:12: SettingWithCopyWarning: \n",
      "A value is trying to be set on a copy of a slice from a DataFrame\n",
      "\n",
      "See the caveats in the documentation: https://pandas.pydata.org/pandas-docs/stable/user_guide/indexing.html#returning-a-view-versus-a-copy\n",
      "  train_data_eng['tags'][i] = eng_tags\n"
     ]
    },
    {
     "name": "stdout",
     "output_type": "stream",
     "text": [
      "['work', 'out', 'drive', 'pop', 'tropical', 'house', 'healing', 'mood', '2017', 'pop', 'trend', 'elect']\n",
      "['work', 'drive', 'pop', 'tropical', 'house', 'healing', 'mood', '2017', 'pop', 'trend', 'elect']\n",
      "['crush', 'my', 'type', 'sadness', 'confession', 'love', 'farewell']\n",
      "['crush', 'type', 'sadness', 'confession', 'love', 'farewell']\n",
      "['rock', 'metal', 'lee', 'il', 'woo', 'm', 'essential', 'metal', 'rock', 'lock']\n",
      "['rock', 'metal', 'lee', 'il', 'woo', 'essential', 'metal', 'rock', 'lock']\n",
      "['listen', 'depressed', 'healing', 'this', 'cheer', 'up']\n",
      "['listen', 'depressed', 'healing', 'cheer']\n",
      "['emotion', 'unbeaten', 'i', 'only', 'want', 'to', 'know', 'pop']\n",
      "['emotion', 'unbeaten', 'want', 'know', 'pop']\n",
      "['rainy', 'day', 'when', 'someone', 'thinks']\n",
      "['rainy', 'day', 'someone', 'thinks']\n",
      "['quietly', 'alone', 'or', 'dawn', 'worry', 'a', 'glass', 'of', 'beer']\n",
      "['quietly', 'alone', 'dawn', 'worry', 'glass', 'beer']\n",
      "['duet', 'my', 'type', 'sweetness', 'feature', 'love', 'gender']\n",
      "['duet', 'type', 'sweetness', 'feature', 'love', 'gender']\n",
      "['gushwin', 'john', 'williams', 'rhapsody', 'in', 'blue', 'american', 'classic', 'movie', 'classic', 'american', 'classic']\n",
      "['gushwin', 'john', 'williams', 'rhapsody', 'blue', 'american', 'classic', 'movie', 'classic', 'american', 'classic']\n",
      "['summer', 'electronica', 'store', 'music', 'my', 'type', 'dance', 'drive', 'travel', 'mood', 'elect', 'exciting']\n",
      "['summer', 'electronica', 'store', 'music', 'type', 'dance', 'drive', 'travel', 'mood', 'elect', 'exciting']\n",
      "['health', 'sports', 'fitness', 'work', 'out', 'diet', 'running', 'leggings', 'pilates', 'walk', 'yoga']\n",
      "['health', 'sports', 'fitness', 'work', 'diet', 'running', 'leggings', 'pilates', 'walk', 'yoga']\n",
      "['healing', 'rest', 'work', 'out']\n",
      "['healing', 'rest', 'work']\n",
      "['turn', 'me', 'off', 'i', 'go', 'to', 'me']\n",
      "['turn', 'go']\n",
      "['fork', 'my', 'favorite', 'music', 'track', 'song', 'recommendation', 'indie', 'recommendation', 'this', 'month', 'music', 'recommendation', 'indie']\n",
      "['fork', 'favorite', 'music', 'track', 'song', 'recommendation', 'indie', 'recommendation', 'month', 'music', 'recommendation', 'indie']\n",
      "['emotion', 'night', 'pop', 'travel', 'recommended', 'song', 'hidden', 'travel', 'to', 'europe']\n",
      "['emotion', 'night', 'pop', 'travel', 'recommended', 'song', 'hidden', 'travel', 'europe']\n",
      "['chastity', 'when', 'it', 's', 'cold', 'dance', 'when', 'sleepy']\n",
      "['chastity', 'cold', 'dance', 'sleepy']\n",
      "['rest', 'sweet', 'my', 'type', 'romantic', 'relationship', 'healing', 'mood', 'flutter', 'love', 'thumb']\n",
      "['rest', 'sweet', 'type', 'romantic', 'relationship', 'healing', 'mood', 'flutter', 'love', 'thumb']\n",
      "['music', 'that', 'helps', 'reading']\n",
      "['music', 'helps', 'reading']\n",
      "['han', 'river', 'i', 'am', 'excited', 'when', 'i', 'drive', 'drive', 'jet']\n",
      "['han', 'river', 'excited', 'drive', 'drive', 'jet']\n",
      "['honey', 'voice', 'i', 'want', 'to', 'take', 'it', 'indie', 'vocal', 'cords']\n",
      "['honey', 'voice', 'want', 'take', 'indie', 'vocal', 'cords']\n",
      "['cloudy', 'day', 'night', 'windless', 'my', 'type', 'atmosphere', 'money', 'hip', 'indie', 'dawn']\n",
      "['cloudy', 'day', 'night', 'windless', 'type', 'atmosphere', 'money', 'hip', 'indie', 'dawn']\n",
      "['summer', 'cool', 'cafe', 'work', 'out', 'dance', 'drive', 'pop', 'travel', 'ocean']\n",
      "['summer', 'cool', 'cafe', 'work', 'dance', 'drive', 'pop', 'travel', 'ocean']\n",
      "['adrenaline', 'drive', 'shouting', 'a', 'strong', 'sound', 'listening', 'to', 'exercise', 'rock', 'rockisnotdead', 'stress']\n",
      "['adrenaline', 'drive', 'shouting', 'strong', 'sound', 'listening', 'exercise', 'rock', 'rockisnotdead', 'stress']\n",
      "['my', 'type', 'singer', 'songwriter', 'indie', 'band', 'dwelling', 'mirror', 'bol', 'music', 'music', 'recommendation', 'indie', 'indie', 'music']\n",
      "['type', 'singer', 'songwriter', 'indie', 'band', 'dwelling', 'mirror', 'bol', 'music', 'music', 'recommendation', 'indie', 'indie', 'music']\n",
      "['soup', 'hip', 'hop', 'humming', 'shomi', 'muzzle', 'the', 'song', 'of', 'kiriboy', 'can', 'be', 'seen', 'why', 'is', 'it', 'so', 'hard']\n",
      "['soup', 'hip', 'hop', 'humming', 'shomi', 'muzzle', 'song', 'kiriboy', 'seen', 'hard']\n",
      "['mood', 'work', 'out']\n",
      "['mood', 'work']\n",
      "['8', 'show', 'me', 'the', 'money']\n",
      "['8', 'show', 'money']\n",
      "['suggestion', 'cafe', 'without', 'thought', 'store', 'any', 'song', 'travel', 'anything', 'thought', 'mood', 'exciting']\n",
      "['suggestion', 'cafe', 'without', 'thought', 'store', 'song', 'travel', 'anything', 'thought', 'mood', 'exciting']\n",
      "['hidden', 'cafe', 'ballade', 'my', 'type', 'drive', 'winter', 'mood', 'love', 'indie']\n",
      "['hidden', 'cafe', 'ballade', 'type', 'drive', 'winter', 'mood', 'love', 'indie']\n",
      "['emotion', 'night', 'windless', 'my', 'type', 'drive', 'travel', 'mood', 'pop', 'song']\n",
      "['emotion', 'night', 'windless', 'type', 'drive', 'travel', 'mood', 'pop', 'song']\n",
      "['hidden', 'music', 'that', 'only', 'i', 'want', 'to', 'know']\n",
      "['hidden', 'music', 'want', 'know']\n",
      "['fast', 'bit', 'exciting', 'song', 'dance', 'song', 'hard', 'when', 'exercising']\n",
      "['fast', 'bit', 'exciting', 'song', 'dance', 'song', 'hard', 'exercising']\n",
      "['when', 'you', 'are', 'depressed', 'memories', 'when', 'exercising', 'when', 'you', 'are', 'excited', '2000', '2000s', 'top100', 'in', 'the', 'dance', 'scene', 'dance', 'music', 'when', 'you', 'are', 'happy']\n",
      "['depressed', 'memories', 'exercising', 'excited', '2000', '2000s', 'top100', 'dance', 'scene', 'dance', 'music', 'happy']\n",
      "['rest', 'emotion', 'r', 'b', 'overseas', 'r', 'a', 'soul']\n",
      "['rest', 'emotion', 'r', 'b', 'overseas', 'r', 'soul']\n",
      "['year', 'end', 'dinner', 'night', 'carol', 'eye', 'afternoon', 'before', 'sleeping', 'lofi', 'jazz', 'hip', 'hop', 'lullaby']\n",
      "['year', 'end', 'dinner', 'night', 'carol', 'eye', 'afternoon', 'sleeping', 'lofi', 'jazz', 'hip', 'hop', 'lullaby']\n",
      "['hip', 'hop', 'emotion', 'i', 'only', 'want', 'to', 'know', 'dope', 'pop', 'blackmusic', 'hiphop', 'mood', 'inner', 'dance', 'trendy']\n",
      "['hip', 'hop', 'emotion', 'want', 'know', 'dope', 'pop', 'blackmusic', 'hiphop', 'mood', 'inner', 'dance', 'trendy']\n",
      "['emotion', 'feelings', 'my', 'type', 'drive', 'travel', 'mood', 'steadily', 'exciting']\n",
      "['emotion', 'feelings', 'type', 'drive', 'travel', 'mood', 'steadily', 'exciting']\n",
      "['summer', 'cool', 'song', 'summer', 'night', 'refreshing', 'in', 'july', 'june', 'cool', 'august', 'cool']\n",
      "['summer', 'cool', 'song', 'summer', 'night', 'refreshing', 'july', 'june', 'cool', 'august', 'cool']\n",
      "['cafe', 'rest', 'windless', 'calm', 'pop', 'song', 'emotion', 'pop', 'song', 'love', 'before', 'go', 'to', 'bed', 'a', 'good', 'song', 'to', 'hear', 'at', 'night', 'hard', 'day']\n",
      "['cafe', 'rest', 'windless', 'calm', 'pop', 'song', 'emotion', 'pop', 'song', 'love', 'go', 'bed', 'good', 'song', 'hear', 'night', 'hard', 'day']\n",
      "['overseas', 'r', 'a', 'soul', 'rnbsoul', 'before1970', 'groove', 'masterpiece', 'earlysoul', 'soul']\n",
      "['overseas', 'r', 'soul', 'rnbsoul', 'before1970', 'groove', 'masterpiece', 'earlysoul', 'soul']\n",
      "['dance', 'instinct', 'exciting', 'shut', 'up', 'dance', 'dance', 'dance', 'music', 'unstable']\n",
      "['dance', 'instinct', 'exciting', 'shut', 'dance', 'dance', 'dance', 'music', 'unstable']\n",
      "['rainy', 'day', 'emotion', 'depressed', 'pop', 'groove', 'consolation', 'mood', 'pop', 'song', 'just', 'pop']\n",
      "['rainy', 'day', 'emotion', 'depressed', 'pop', 'groove', 'consolation', 'mood', 'pop', 'song', 'pop']\n",
      "['rest', 'night', 'windless', 'at', 'dawn', 'dawn', 'pop', 'dreamy', 'emotion', 'pop', 'chill']\n",
      "['rest', 'night', 'windless', 'dawn', 'dawn', 'pop', 'dreamy', 'emotion', 'pop', 'chill']\n",
      "['recorded', 'song', 'a', 'song', 'that', 'i', 'only', 'know']\n",
      "['recorded', 'song', 'song', 'know']\n",
      "['summer', 'emotion', 'the', 'rainy', 'season', 'summer', 'vacation', 'windless', 'groove', 'travel']\n",
      "['summer', 'emotion', 'rainy', 'season', 'summer', 'vacation', 'windless', 'groove', 'travel']\n",
      "['hip', 'hop', 'agreeable', 'holidays', 'work', 'out', 'dance', 'drive', 'family', 'beat', 'stress', 'afternoon']\n",
      "['hip', 'hop', 'agreeable', 'holidays', 'work', 'dance', 'drive', 'family', 'beat', 'stress', 'afternoon']\n",
      "['regret', 'parents', 'tear', 'mother', 's', 'day', 'family', 'love']\n",
      "['regret', 'parents', 'tear', 'mother', 'day', 'family', 'love']\n",
      "['indie', 'my', 'own', 'best3', 'fish', 'shoes', 'indie']\n",
      "['indie', 'best3', 'fish', 'shoes', 'indie']\n",
      "['day', 'off', 'spring', 'drowsy', 'driving', 'dance', 'drive', 'travel', 'highway', 'rest', 'mood', 'exciting']\n",
      "['day', 'spring', 'drowsy', 'driving', 'dance', 'drive', 'travel', 'highway', 'rest', 'mood', 'exciting']\n",
      "['health', 'sports', 'club', 'music', 'work', 'out']\n",
      "['health', 'sports', 'club', 'music', 'work']\n",
      "['hidden', 'i', 'only', 'want', 'to', 'know', 'cafe', 'ballade', 'r', 'b', 'store', 'music', 'indie']\n",
      "['hidden', 'want', 'know', 'cafe', 'ballade', 'r', 'b', 'store', 'music', 'indie']\n",
      "['dawn', 'just', 'a', 'good', 'song', 'emotion', 'winter', 'night']\n",
      "['dawn', 'good', 'song', 'emotion', 'winter', 'night']\n",
      "['mood', 'work', 'out']\n",
      "['mood', 'work']\n",
      "['work', 'out']\n",
      "['work']\n",
      "['agreeable', 'go', 'to', 'work', 'pop', 'song', 'refreshing', 'morning']\n",
      "['agreeable', 'go', 'work', 'pop', 'song', 'refreshing', 'morning']\n",
      "['recommended', 'song', 'emotion', 'dawn', 'depressed', 'good', 'song', 'sadness', 'consolation', 'healing', 'cheer', 'up']\n",
      "['recommended', 'song', 'emotion', 'dawn', 'depressed', 'good', 'song', 'sadness', 'consolation', 'healing', 'cheer']\n",
      "['dating', 'emotion', 'summer', 'night', 'sweetly', 'good', 'music', 'to', 'listen', 'to', 'summer', 'nights', 'thumb', 'flutter', 'love']\n",
      "['dating', 'emotion', 'summer', 'night', 'sweetly', 'good', 'music', 'listen', 'summer', 'nights', 'thumb', 'flutter', 'love']\n",
      "['sadness', 'crush', 'farewell', 'external', 'to', 'you']\n",
      "['sadness', 'crush', 'farewell', 'external']\n",
      "['for', 'comfort', 'piano', 'performance', 'that', 'listens', 'outdoors', 'performance', 'song', 'studying', 'and', 'listening', 'piano', 'healing', 'piano', 'performance', 'sunny', 'day', 'when', 'focusing', 'on', 'the', 'exam', 'period', 'morning', 'call', 'lullaby']\n",
      "['comfort', 'piano', 'performance', 'listens', 'outdoors', 'performance', 'song', 'studying', 'listening', 'piano', 'healing', 'piano', 'performance', 'sunny', 'day', 'focusing', 'exam', 'period', 'morning', 'call', 'lullaby']\n",
      "['emotion', 'night', 'summer', 'night', 'dawn', 'when', 'you', 'are', 'alone', 'emotional', 'ballad', 'nectarous', 'ballade']\n",
      "['emotion', 'night', 'summer', 'night', 'dawn', 'alone', 'emotional', 'ballad', 'nectarous', 'ballade']\n",
      "['only', 'life', 'songs']\n",
      "['life', 'songs']\n",
      "['agreeable', 'store', 'music', 'lover', 'love', 'happiness', 'confession', 'date', 'my', 'taste', 'sweetness']\n",
      "['agreeable', 'store', 'music', 'lover', 'love', 'happiness', 'confession', 'date', 'taste', 'sweetness']\n",
      "['short', 'and', 'shallow', 'music', 'knowledge']\n",
      "['short', 'shallow', 'music', 'knowledge']\n",
      "['cafe', 'rest', 'cafe', 'spare', 'my', 'type', 'good', 'to', 'hear', 'in', 'a', 'cafe', 'coffee', 'emotion', 'tea', 'time', 'healing']\n",
      "['cafe', 'rest', 'cafe', 'spare', 'type', 'good', 'hear', 'cafe', 'coffee', 'emotion', 'tea', 'time', 'healing']\n",
      "['stress', 'work', 'out']\n",
      "['stress', 'work']\n",
      "['i', 'would', 'hear', 'indie', 'music', 'once', 'the', 'image', 'is', 'thoed', 'by', 'yourself', 'indie']\n",
      "['would', 'hear', 'indie', 'music', 'image', 'thoed', 'indie']\n",
      "['dongyoon', 'han', 'rock', 'and', 'roll', 'rocken', 'roll', 'hall', 'of', 'fame', 'mood', 'hall', 'of', 'fame', 'multimigibility']\n",
      "['dongyoon', 'han', 'rock', 'roll', 'rocken', 'roll', 'hall', 'fame', 'mood', 'hall', 'fame', 'multimigibility']\n",
      "['store', 'music', 'work', 'out', 'stress', 'store', 'drive', 'mood', 'recent', 'trendy', 'pop']\n",
      "['store', 'music', 'work', 'stress', 'store', 'drive', 'mood', 'recent', 'trendy', 'pop']\n",
      "['windless', 'night', 'dawn', 'ballade', 'r', 'b', 'update', 'calmness', 'quiet', 'quiet', 'music', 'r', 'a', 'soul']\n",
      "['windless', 'night', 'dawn', 'ballade', 'r', 'b', 'update', 'calmness', 'quiet', 'quiet', 'music', 'r', 'soul']\n",
      "['concentration', 'prenatal', 'music', 'labor', 'children', 's', 'classic', 'prenatal', 'classic', 'lullaby', 'morning', 'call', 'wrapped', 'relax', 'yoga', 'classic', 'healing', 'therapy', 'yoga']\n",
      "['concentration', 'prenatal', 'music', 'labor', 'children', 'classic', 'prenatal', 'classic', 'lullaby', 'morning', 'call', 'wrapped', 'relax', 'yoga', 'classic', 'healing', 'therapy', 'yoga']\n",
      "['people', 's', 'song']\n",
      "['people', 'song']\n",
      "['ami', 'ramen', 'the', 'best', 'song', 'bts', 'ami', 'healing', 'song']\n",
      "['ami', 'ramen', 'best', 'song', 'bts', 'ami', 'healing', 'song']\n",
      "['cafe', 'windless', 'afternoon', 'piano', 'consolation', 'tired', 'before', 'sleeping', 'new', 'age', 'lullaby', 'book', 'cafe']\n",
      "['cafe', 'windless', 'afternoon', 'piano', 'consolation', 'tired', 'sleeping', 'new', 'age', 'lullaby', 'book', 'cafe']\n",
      "['summer', 'work', 'out']\n",
      "['summer', 'work']\n",
      "['rest', 'weekend', 'alone', 'windless', 'memory', 'vacation', 'emotional', 'atmosphere', 'when', 'reading']\n",
      "['rest', 'weekend', 'alone', 'windless', 'memory', 'vacation', 'emotional', 'atmosphere', 'reading']\n",
      "['the', 'song', 'you', 'listen', 'to', 'when', 'you', 'exercise', 'at', 'the', 'gym', 'in', 'the', 'gym', 'music', 'that', 'i', 'listen', 'to', 'when', 'i', 'exercise', 'gym', 'work', 'out']\n",
      "['song', 'listen', 'exercise', 'gym', 'gym', 'music', 'listen', 'exercise', 'gym', 'work']\n",
      "['when', 'you', 'don', 't', 'hear', 'many', 'grains', 'pop', 'song', 'please', 'like', 'it', 'good', 'songs']\n",
      "['hear', 'many', 'grains', 'pop', 'song', 'please', 'like', 'good', 'songs']\n",
      "['prohibition', 'mood', 'when', 'you', 'are', 'tired']\n",
      "['prohibition', 'mood', 'tired']\n",
      "['memory', 'you', 'must', 'have', 'heard', '1960', '2000', 'sing', 'at', 'least', 'once']\n",
      "['memory', 'must', 'heard', '1960', '2000', 'sing', 'least']\n",
      "['work', 'out']\n",
      "['work']\n",
      "['cafe', 'rest', 'coffee', 'and', 'drive', 'windless']\n",
      "['cafe', 'rest', 'coffee', 'drive', 'windless']\n",
      "['mood', 'work', 'out']\n",
      "['mood', 'work']\n",
      "['hip', 'hop', 'label', 'crew', 'lab', 'domestic', 'hip', 'hop', 'trend', 'show', 'me', 'the', 'money', 'swag', 'aomg', 'hilite', '2010']\n",
      "['hip', 'hop', 'label', 'crew', 'lab', 'domestic', 'hip', 'hop', 'trend', 'show', 'money', 'swag', 'aomg', 'hilite', '2010']\n",
      "['game', 'nexon', 'need', 'for', 'speed', 'ost', 'needforspeed', 'need', 'force', 'feed', 'edge']\n",
      "['game', 'nexon', 'need', 'speed', 'ost', 'needforspeed', 'need', 'force', 'feed', 'edge']\n",
      "['rest', 'performance', 'song', 'piano', 'piano', 'good', 'music', 'to', 'listen', 'to', 'in', 'the', 'cafe', 'americano', 'lyric', 'new', 'age', 'piano', 'performance', 'clearing', 'waking', 'up', 'breakfast']\n",
      "['rest', 'performance', 'song', 'piano', 'piano', 'good', 'music', 'listen', 'cafe', 'americano', 'lyric', 'new', 'age', 'piano', 'performance', 'clearing', 'waking', 'breakfast']\n",
      "['my', 'type', 'sleep', 'emotion', 'windless', 'dawn']\n",
      "['type', 'sleep', 'emotion', 'windless', 'dawn']\n",
      "['album', 'of', 'the', 'year', 'year', 'end', 'settlement', 'park', 'hyo', 'jae', 'rock', 'school', 'of', 'lock', '2017', 'rock']\n",
      "['album', 'year', 'year', 'end', 'settlement', 'park', 'hyo', 'jae', 'rock', 'school', 'lock', '2017', 'rock']\n",
      "['rest', 'labor', 'performance', 'song', 'piano', 'study', 'classic', 'before', 'sleeping', 'bed', 'lullaby', 'insomnia']\n",
      "['rest', 'labor', 'performance', 'song', 'piano', 'study', 'classic', 'sleeping', 'bed', 'lullaby', 'insomnia']\n",
      "['in', 'amuronami', 'setlist']\n",
      "['amuronami', 'setlist']\n",
      "['work', 'out']\n",
      "['work']\n",
      "['rainy', 'day', 'emotion', 'alone', 'dawn', 'dawn', 'depressed', 'tokodak', 'sensi', 'consolation', 'the', 'day', 'i', 'want', 'to', 'cry']\n",
      "['rainy', 'day', 'emotion', 'alone', 'dawn', 'dawn', 'depressed', 'tokodak', 'sensi', 'consolation', 'day', 'want', 'cry']\n",
      "['work', 'out']\n",
      "['work']\n",
      "['cheering', 'tokodak', 'examinee', 'sat', 'positive', 'mood', 'test', 'stress', 'cheer', 'up', 'exciting']\n",
      "['cheering', 'tokodak', 'examinee', 'sat', 'positive', 'mood', 'test', 'stress', 'cheer', 'exciting']\n",
      "['winter', 'calm', 'and', 'warm', 'acoustic', 'music']\n",
      "['winter', 'calm', 'warm', 'acoustic', 'music']\n",
      "['end', 'of', 'the', 'century', 'calm', 'emotion']\n",
      "['end', 'century', 'calm', 'emotion']\n",
      "['in', 'the', 'update']\n",
      "['update']\n",
      "['a', 'song', 'i', 'heard', 'about', 'once', 'ballade', 'emotion', 'famous', 'dawn', 'highly']\n",
      "['song', 'heard', 'ballade', 'emotion', 'famous', 'dawn', 'highly']\n",
      "['stress', 'work', 'out']\n",
      "['stress', 'work']\n",
      "['why', 'there', 'are', 'many', 'female', 'singers', 'there', 'are', 'many', 'idols', 'taste']\n",
      "['many', 'female', 'singers', 'many', 'idols', 'taste']\n",
      "['rainy', 'day', 'emotion', 'night', 'cafe', 'windless', 'dawn', 'drive', 'a', 'good', 'song', 'to', 'hear', 'at', 'night']\n",
      "['rainy', 'day', 'emotion', 'night', 'cafe', 'windless', 'dawn', 'drive', 'good', 'song', 'hear', 'night']\n"
     ]
    },
    {
     "name": "stdout",
     "output_type": "stream",
     "text": [
      "['cheering', 'rest', 'house', 'cock', 'work', 'out', 'sweet', 'store', 'spring', 'carol', 'emotional', 'sensual']\n",
      "['cheering', 'rest', 'house', 'cock', 'work', 'sweet', 'store', 'spring', 'carol', 'emotional', 'sensual']\n",
      "['emotional', 'stimulus', 'han', 'river', 'a', 'good', 'song', 'to', 'hear', 'at', 'night', 'dawn', 'summer', 'night']\n",
      "['emotional', 'stimulus', 'han', 'river', 'good', 'song', 'hear', 'night', 'dawn', 'summer', 'night']\n",
      "['after', '2000', 'toray', 'still', 'rhcp']\n",
      "['2000', 'toray', 'still', 'rhcp']\n",
      "['calm', 'song', 'quiet', 'song', 'bus', 'window', 'lyrics', 'melody', 'cool', 'night', 'walk', 'sleeping', 'i']\n",
      "['calm', 'song', 'quiet', 'song', 'bus', 'window', 'lyrics', 'melody', 'cool', 'night', 'walk', 'sleeping']\n",
      "['emotion', 'start', 'depart', 'new', 'year', 'consolation', '2020', 'love', 'year', 'lover', 'go', 'for', 'it']\n",
      "['emotion', 'start', 'depart', 'new', 'year', 'consolation', '2020', 'love', 'year', 'lover', 'go']\n",
      "['rest', 'night', 'dawn', 'my', 'type', 'lofi', 'melanchole', 'comfortable', 'bedroom', 'pop', 'chill']\n",
      "['rest', 'night', 'dawn', 'type', 'lofi', 'melanchole', 'comfortable', 'bedroom', 'pop', 'chill']\n",
      "['when', 'driving', 'mood', 'nod']\n",
      "['driving', 'mood', 'nod']\n",
      "['quiet', 'do', 'not', 'know', 'well', 'indie', 'doleful']\n",
      "['quiet', 'know', 'well', 'indie', 'doleful']\n",
      "['rainy', 'day', 'suggestion', 'the', 'rainy', 'season', 'r', 'b', 'atmosphere', 'sing', 'r']\n",
      "['rainy', 'day', 'suggestion', 'rainy', 'season', 'r', 'b', 'atmosphere', 'sing', 'r']\n",
      "['my', 'type', 'pop', 'melon', 'chart', 'no', 'answer', 'pop', 'chart', 'billboard', 'pop']\n",
      "['type', 'pop', 'melon', 'chart', 'answer', 'pop', 'chart', 'billboard', 'pop']\n",
      "['my', 'own', 'best3', 'fish', 'shoes', 'recommended', 'music', 'of', 'indie', 'artists', 'indie']\n",
      "['best3', 'fish', 'shoes', 'recommended', 'music', 'indie', 'artists', 'indie']\n",
      "['finals', 'world', 'of', 'music']\n",
      "['finals', 'world', 'music']\n",
      "['day', 'off', 'idol', 'dance', 'autumn', 'drive', 'travel', 'mood', '2000s', '90s', 'exciting']\n",
      "['day', 'idol', 'dance', 'autumn', 'drive', 'travel', 'mood', '2000s', '90s', 'exciting']\n",
      "['song', 'ga', 'in', 'trosing', 'jung', 'mi', 'ae']\n",
      "['song', 'ga', 'trosing', 'jung', 'mi', 'ae']\n",
      "['me', 'weather', 'music', 'afternoon']\n",
      "['weather', 'music', 'afternoon']\n",
      "['store', 'music', 'work', 'out', 'exciting', 'music', 'drive', 'mood', 'beat']\n",
      "['store', 'music', 'work', 'exciting', 'music', 'drive', 'mood', 'beat']\n",
      "['travel', 'spring', 'walk', 'in', 'the', 'landscape']\n",
      "['travel', 'spring', 'walk', 'landscape']\n",
      "['ahn', 'ye', 'eun', 's', 'solo', 'performance', 'ahn', 'ye', 'eun', 'witch', 'hongyeon', 'sister']\n",
      "['ahn', 'ye', 'eun', 'solo', 'performance', 'ahn', 'ye', 'eun', 'witch', 'hongyeon', 'sister']\n",
      "['urban', 'overseas', 'r', 'a', 'soul', 'rnbsoul', 'alter', 'r', 'b', 'contemporary', 'urban', 'contemporary', 'alternative', 'dreamy']\n",
      "['urban', 'overseas', 'r', 'soul', 'rnbsoul', 'alter', 'r', 'b', 'contemporary', 'urban', 'contemporary', 'alternative', 'dreamy']\n",
      "['when', 'you', 'are', 'depressed', 'the', 'latest', 'pop', 'poplock', 'lock', 'pop', 'mood', 'poprock', 'rock', 'pop']\n",
      "['depressed', 'latest', 'pop', 'poplock', 'lock', 'pop', 'mood', 'poprock', 'rock', 'pop']\n",
      "['as', 'if', 'it', 'was', 'the', 'first', 'time', 'jazz']\n",
      "['first', 'time', 'jazz']\n",
      "['store', 'music', 'cafe', 'r', 'b', 'work', 'out', 'drive', 'travel', 'mood', 'love', 'soul', 'exciting']\n",
      "['store', 'music', 'cafe', 'r', 'b', 'work', 'drive', 'travel', 'mood', 'love', 'soul', 'exciting']\n",
      "['good', 'from', 'introduction', 'thump', 'a', 'good', 'song', 'to', 'hear', 'when', 'working', 'drive', 'pop', 'song', 'introduction', 'mood', 'pop', 'exciting']\n",
      "['good', 'introduction', 'thump', 'good', 'song', 'hear', 'working', 'drive', 'pop', 'song', 'introduction', 'mood', 'pop', 'exciting']\n",
      "['consolation', 'conversation', 'are', 'you', 'okay', 'tear']\n",
      "['consolation', 'conversation', 'okay', 'tear']\n",
      "['after', 'breaking', 'up', 'ballade', 'emotional', 'music', 'farewell', 'song', 'parting', 'ballad', 'emotional', 'ballad', 'parting', 'sensitivity', 'farewell']\n",
      "['breaking', 'ballade', 'emotional', 'music', 'farewell', 'song', 'parting', 'ballad', 'emotional', 'ballad', 'parting', 'sensitivity', 'farewell']\n",
      "['hip', 'hop', 'my', 'type', 'sensual', 'drive', 'groove', 'travel', 'mood', 'unique', 'drive', 'trendy']\n",
      "['hip', 'hop', 'type', 'sensual', 'drive', 'groove', 'travel', 'mood', 'unique', 'drive', 'trendy']\n",
      "['era', 'of', 'charts', 'domestic', 'chart']\n",
      "['era', 'charts', 'domestic', 'chart']\n",
      "['hip', 'hop', 'sad', 'hip', 'hop', 'emotional', 'hip', 'hop', 'tear', 'when', 'sad']\n",
      "['hip', 'hop', 'sad', 'hip', 'hop', 'emotional', 'hip', 'hop', 'tear', 'sad']\n",
      "['dance', 'memory', 'drive', 'night', 'mood', 'i', 've', 'heard', 'a', 'lot', 'pop', 'song', 'old', 'pop', 'song', 'advertising', 'music', 'exciting']\n",
      "['dance', 'memory', 'drive', 'night', 'mood', 'heard', 'lot', 'pop', 'song', 'old', 'pop', 'song', 'advertising', 'music', 'exciting']\n",
      "['summer', 'overseas', 'work', 'out', 'drive', 'pop', 'edm', 'pop', 'song', 'stress']\n",
      "['summer', 'overseas', 'work', 'drive', 'pop', 'edm', 'pop', 'song', 'stress']\n",
      "['recommended', 'song', 'rest', 'work', 'out', 'healing', 'on', 'the', 'way', 'to', 'work', 'trendy', 'mood', 'refined']\n",
      "['recommended', 'song', 'rest', 'work', 'healing', 'way', 'work', 'trendy', 'mood', 'refined']\n",
      "['work', 'out', 'bicycle']\n",
      "['work', 'bicycle']\n",
      "['indie', 'my', 'own', 'best3', 'fish', 'shoes', 'new', 'spring', 'indie']\n",
      "['indie', 'best3', 'fish', 'shoes', 'new', 'spring', 'indie']\n",
      "['home', 'sports', 'work', 'out', 'home', 'training', 'fresh', 'rock', 'rock']\n",
      "['home', 'sports', 'work', 'home', 'training', 'fresh', 'rock', 'rock']\n",
      "['sean', 'mendes', 'korean', 'emotion', 'my', 'type', 'singer', 'songwriter', 'atmosphere', 'timbre', 'mood', 'trendy', 'pop']\n",
      "['sean', 'mendes', 'korean', 'emotion', 'type', 'singer', 'songwriter', 'atmosphere', 'timbre', 'mood', 'trendy', 'pop']\n",
      "['when', 'you', 'are', 'depressed', 'you', 'can', 'just', 'lie', 'down', 'you', 'don', 't', 'have', 'to', 'pretend', 'to', 'be', 'okay', 'don', 't', 'try', 'to', 'be', 'bright', 'in', 'the', 'process', 'of', 'finding', 'real', 'me']\n",
      "['depressed', 'lie', 'pretend', 'okay', 'try', 'bright', 'process', 'finding', 'real']\n",
      "['eltonjohn', 'school', 'of', 'lock', 'elton', 'zone', 'rock', 'rock']\n",
      "['eltonjohn', 'school', 'lock', 'elton', 'zone', 'rock', 'rock']\n",
      "['fleet', 'a', 'pink']\n",
      "['fleet', 'pink']\n",
      "['sound', 'gift', 'summing', 'beginner', 'song', 'ga', 'in', 'jung', 'mi', 'ae', 'songgain', 'fan', 'jung', 'mi', 'ae', 'fan']\n",
      "['sound', 'gift', 'summing', 'beginner', 'song', 'ga', 'jung', 'mi', 'ae', 'songgain', 'fan', 'jung', 'mi', 'ae', 'fan']\n",
      "['emotion', 'r', 'b', 'my', 'type', 'emotional', 'hip', 'hop', 'tackle', 'trendy']\n",
      "['emotion', 'r', 'b', 'type', 'emotional', 'hip', 'hop', 'tackle', 'trendy']\n",
      "['my', 'type', 'selection', 'disorder']\n",
      "['type', 'selection', 'disorder']\n",
      "['stress', 'work', 'out']\n",
      "['stress', 'work']\n",
      "['traps', 'work', 'out', 'riding', 'riphip', 'hop', 'bicycle', 'sports']\n",
      "['traps', 'work', 'riding', 'riphip', 'hop', 'bicycle', 'sports']\n",
      "['rainy', 'day', 'the', 'rainy', 'season', 'a', 'good', 'song', 'to', 'hear', 'on', 'rainy', 'days', 'rain']\n",
      "['rainy', 'day', 'rainy', 'season', 'good', 'song', 'hear', 'rainy', 'days', 'rain']\n",
      "['inner', 'dance', 'rhythm', 'sharing', 'list', 'together', 'a', 'song', 'that', 'keeps', 'thinking', 'the', 'song', 'i', 'recommend', 'i', 'want', 'to', 'hear']\n",
      "['inner', 'dance', 'rhythm', 'sharing', 'list', 'together', 'song', 'keeps', 'thinking', 'song', 'recommend', 'want', 'hear']\n",
      "['lazy', 'afternoon', 'thank', 'you', 'for', 'today', 'old', 'love', 'beloved', 'dark', 'cold', 'inside', 'the', 'bus', 'chestnut', 'chestnut']\n",
      "['lazy', 'afternoon', 'thank', 'today', 'old', 'love', 'beloved', 'dark', 'cold', 'inside', 'bus', 'chestnut', 'chestnut']\n",
      "['oh', 'my', 'girl']\n",
      "['oh', 'girl']\n",
      "['1990s', 'era', 'of', 'charts', 'domestic', 'chart']\n",
      "['1990s', 'era', 'charts', 'domestic', 'chart']\n",
      "['ballad', 'sensibility', 'when', 'studying', 'when', 'windless', 'travel', 'healing', 'song', 'mood', 'damsonne', 'workshop', 'dawn', 'am', 'sensibility', 'lyrics', 'with', 'good', 'lyrics', 'love']\n",
      "['ballad', 'sensibility', 'studying', 'windless', 'travel', 'healing', 'song', 'mood', 'damsonne', 'workshop', 'dawn', 'sensibility', 'lyrics', 'good', 'lyrics', 'love']\n",
      "['dinner', 'proud', 'finish', 'happiness', 'drive', 'rest', 'thank', 'you', 'for', 'today', 'mood', 'way', 'home', 'school']\n",
      "['dinner', 'proud', 'finish', 'happiness', 'drive', 'rest', 'thank', 'today', 'mood', 'way', 'home', 'school']\n",
      "['rainy', 'day', 'autumn', 'at', 'the', 'cafe', 'jazz']\n",
      "['rainy', 'day', 'autumn', 'cafe', 'jazz']\n",
      "['emotion', 'store', 'music', 'dawn', 'my', 'type', 'windless', 'drive', 'travel', 'mood', 'pop', 'exciting']\n",
      "['emotion', 'store', 'music', 'dawn', 'type', 'windless', 'drive', 'travel', 'mood', 'pop', 'exciting']\n",
      "['when', 'you', 'are', 'depressed', 'longing']\n",
      "['depressed', 'longing']\n",
      "['stress', 'work', 'out']\n",
      "['stress', 'work']\n",
      "['valentine', 's', 'day', 'sweet', 'flutter']\n",
      "['valentine', 'day', 'sweet', 'flutter']\n",
      "['emotion', 'alone', 'idol', 'courage', 'hard', 'consolation', 'healing', 'hope', 'go', 'for', 'it', 'loneliness']\n",
      "['emotion', 'alone', 'idol', 'courage', 'hard', 'consolation', 'healing', 'hope', 'go', 'loneliness']\n",
      "['rainy', 'day', 'winter', 'emotion', 'night', 'dawn', 'depressed', 'consolation', 'when', 'you', 'want', 'to', 'cry', 'farewell', 'indie']\n",
      "['rainy', 'day', 'winter', 'emotion', 'night', 'dawn', 'depressed', 'consolation', 'want', 'cry', 'farewell', 'indie']\n",
      "['electronica', 'store', 'music', 'windless', 'travel', 'pop', 'song', 'house', 'music', 'pop', 'select', 'my', 'way']\n",
      "['electronica', 'store', 'music', 'windless', 'travel', 'pop', 'song', 'house', 'music', 'pop', 'select', 'way']\n",
      "['my', 'type', 'agreeable', 'december', 'dreamy']\n",
      "['type', 'agreeable', 'december', 'dreamy']\n",
      "['cafe', 'autumn', 'my', 'type', 'bus', 'mood', 'warm', 'fallen', 'leaves', 'pop', 'tone', 'comfortable']\n",
      "['cafe', 'autumn', 'type', 'bus', 'mood', 'warm', 'fallen', 'leaves', 'pop', 'tone', 'comfortable']\n",
      "['new', 'song', 'autumn', 'windless', 'my', 'type', 'afternoon', 'comfortable', 'rookie', 'sweet']\n",
      "['new', 'song', 'autumn', 'windless', 'type', 'afternoon', 'comfortable', 'rookie', 'sweet']\n",
      "['dance', 'dance', 'sing', 'mood', 'the', 'day', 'i', 'want', 'to', 'dance', 'inner', 'dance', 'inner', 'stress', 'exo', 'exciting']\n",
      "['dance', 'dance', 'sing', 'mood', 'day', 'want', 'dance', 'inner', 'dance', 'inner', 'stress', 'exo', 'exciting']\n",
      "['health', 'work', 'out', 'fitness', 'dance', 'drive', 'travel', 'exciting', 'music', 'treadmill', 'yoga']\n",
      "['health', 'work', 'fitness', 'dance', 'drive', 'travel', 'exciting', 'music', 'treadmill', 'yoga']\n",
      "['dark', 'decadent', 'depressed', 'universe', 'dreamy', 'dawn', 'at', 'night', 'depression', 'dreamy']\n",
      "['dark', 'decadent', 'depressed', 'universe', 'dreamy', 'dawn', 'night', 'depression', 'dreamy']\n",
      "['on', 'that', 'day', 'black', 'composition', 'remember', 'red', 'umbrella', 'lyrics']\n",
      "['day', 'black', 'composition', 'remember', 'red', 'umbrella', 'lyrics']\n",
      "['stress', 'work', 'out']\n",
      "['stress', 'work']\n",
      "['on', 'the', 'way', 'to', 'work', 'pleasant', 'karaoke', 'mood', 'inner', 'dance', 'hustle', 'exciting']\n",
      "['way', 'work', 'pleasant', 'karaoke', 'mood', 'inner', 'dance', 'hustle', 'exciting']\n",
      "['labor', 'performance', 'song', 'weekend', 'harp', 'reading', 'before', 'sleeping', 'bedding', 'cold', 'lullaby', 'morning']\n",
      "['labor', 'performance', 'song', 'weekend', 'harp', 'reading', 'sleeping', 'bedding', 'cold', 'lullaby', 'morning']\n",
      "['stress', 'karaoke', 'mood', 'when', 'the', 'atmosphere', 'floats', 'exciting']\n",
      "['stress', 'karaoke', 'mood', 'atmosphere', 'floats', 'exciting']\n",
      "['club', 'work', 'out']\n",
      "['club', 'work']\n",
      "['february', 'emotional', 'hip', 'hop', 'lively', 'start', 'again', 'new', 'year']\n",
      "['february', 'emotional', 'hip', 'hop', 'lively', 'start', 'new', 'year']\n",
      "['in', 'the', 'fall', 'and', 'winter', 'music', 'suggestion', 'sympathy', 'november', 'music']\n",
      "['fall', 'winter', 'music', 'suggestion', 'sympathy', 'november', 'music']\n",
      "['latest', 'dance', 'exciting', 'song', 'dance', 'store', 'a', 'good', 'song', 'to', 'hear', 'in', 'the', 'store']\n",
      "['latest', 'dance', 'exciting', 'song', 'dance', 'store', 'good', 'song', 'hear', 'store']\n",
      "['magnificent', 'strong', 'company', 'classic', 'leave', 'anger', 'when', 'angry', 'stress']\n",
      "['magnificent', 'strong', 'company', 'classic', 'leave', 'anger', 'angry', 'stress']\n",
      "['morning', 'monday', 'my', 'type', 'thought', 'loneliness', 'icy']\n",
      "['morning', 'monday', 'type', 'thought', 'loneliness', 'icy']\n",
      "['hiphop', 'rap', 'exciting', 'song', 'that', 'is', 'good', 'for', 'feeling', 'change', 'hip', 'hop']\n",
      "['hiphop', 'rap', 'exciting', 'song', 'good', 'feeling', 'change', 'hip', 'hop']\n",
      "['audio', 'all', 'song', 'playback', 'aizu', 'one', 'plassy', 'play', 'aizu', 'one', 'listen', 'to', 'all', 'songs', 'full', 'album']\n",
      "['audio', 'song', 'playback', 'aizu', 'one', 'plassy', 'play', 'aizu', 'one', 'listen', 'songs', 'full', 'album']\n",
      "['cafe', 'weekend', 'winter', 'night', 'store', 'drive', 'dawn', 'at', 'night', 'mood', 'christmas', 'cold', 'carol']\n",
      "['cafe', 'weekend', 'winter', 'night', 'store', 'drive', 'dawn', 'night', 'mood', 'christmas', 'cold', 'carol']\n",
      "['cheering', 'work', 'out', 'fc', 'seoul', 'seoul', 'stress', 'soccer', 'k', 'league']\n",
      "['cheering', 'work', 'fc', 'seoul', 'seoul', 'stress', 'soccer', 'k', 'league']\n",
      "['emotion', 'ballade', 'tv', 'i', 'like', 'good', 'good', 'ost', 'drama', 'history', 'exciting']\n",
      "['emotion', 'ballade', 'tv', 'like', 'good', 'good', 'ost', 'drama', 'history', 'exciting']\n",
      "['music', 'that', 'i', 'listen', 'to', 'when', 'working', 'thump', 'drive', 'mood', 'introduction', 'pop', 'exciting']\n",
      "['music', 'listen', 'working', 'thump', 'drive', 'mood', 'introduction', 'pop', 'exciting']\n",
      "['mood', 'the', 'rainy', 'season', 'autumn', '1990s']\n",
      "['mood', 'rainy', 'season', 'autumn', '1990s']\n",
      "['rainy', 'day', 'emotion', 'night', 'after', 'work', 'ballade', 'update', 'when', 'it', 'rains', 'in', 'the', 'bus', 'farewell', 'you', 'did', 'it', 'today', 'dawn']\n",
      "['rainy', 'day', 'emotion', 'night', 'work', 'ballade', 'update', 'rains', 'bus', 'farewell', 'today', 'dawn']\n",
      "['summer', 'store', 'music', 'work', 'out', 'jazz', 'futurernb', 'shibuya', 'kei', 'future', 'cafe', 'electronic']\n",
      "['summer', 'store', 'music', 'work', 'jazz', 'futurernb', 'shibuya', 'kei', 'future', 'cafe', 'electronic']\n"
     ]
    },
    {
     "name": "stdout",
     "output_type": "stream",
     "text": [
      "['emotion', 'cafe', 'windless', 'piano', 'my', 'type', 'etc', 'healing', 'warm', 'indie', 'comfortable']\n",
      "['emotion', 'cafe', 'windless', 'piano', 'type', 'etc', 'healing', 'warm', 'indie', 'comfortable']\n",
      "['sleeping', 'quiet', 'piano', 'consolation', 'healing', 'before', 'sleeping', 'new', 'age', 'bed', 'lullaby']\n",
      "['sleeping', 'quiet', 'piano', 'consolation', 'healing', 'sleeping', 'new', 'age', 'bed', 'lullaby']\n",
      "['emotion', 'a', 'little', 'different', 'carol', 'carol']\n",
      "['emotion', 'little', 'different', 'carol', 'carol']\n",
      "['work', 'out', 'windless']\n",
      "['work', 'windless']\n",
      "['hip', 'hop', 'kpop', 'r', 'b', 'my', 'type', 'drive', 'mood', 'trendy', 'exciting']\n",
      "['hip', 'hop', 'kpop', 'r', 'b', 'type', 'drive', 'mood', 'trendy', 'exciting']\n",
      "['coin', 'karaoke', '90s', 'balad', 'ballade', 'male', 'ballad', 'karaoke', 'memories', 'of', 'ballads', 'karaoke']\n",
      "['coin', 'karaoke', '90s', 'balad', 'ballade', 'male', 'ballad', 'karaoke', 'memories', 'ballads', 'karaoke']\n",
      "['enemy', 'cold', 'autumn', 'snot', 'winter', 'sensi', 'cold', 'i', 'm', 'sleepy', 'sick', 'undisturbedly']\n",
      "['enemy', 'cold', 'autumn', 'snot', 'winter', 'sensi', 'cold', 'sleepy', 'sick', 'undisturbedly']\n",
      "['emotion', 'mystery', 'r', 'b', 'dawn', 'dream', 'occult', 'when', 'you', 'are', 'sleeping', 'sleepy', 'indie']\n",
      "['emotion', 'mystery', 'r', 'b', 'dawn', 'dream', 'occult', 'sleeping', 'sleepy', 'indie']\n",
      "['in', 'amuronami', 'setlist']\n",
      "['amuronami', 'setlist']\n",
      "['asmr', 'performance', 'song', 'morning', 'windless', 'piano', 'clean', 'refreshing', 'i', 'know', 'it']\n",
      "['asmr', 'performance', 'song', 'morning', 'windless', 'piano', 'clean', 'refreshing', 'know']\n",
      "['background', 'music', 'vacation', 'spot', 'morning', 'healing', 'mountain', 'village', 'tvn', 'insertion', 'song', 'camping', 'three', 'or', 'three', 'meals', 'travel']\n",
      "['background', 'music', 'vacation', 'spot', 'morning', 'healing', 'mountain', 'village', 'tvn', 'insertion', 'song', 'camping', 'three', 'three', 'meals', 'travel']\n",
      "['rainy', 'day', 'emotion', 'night', 'dawn', 'my', 'type', 'calmly', 'voic', '2030']\n",
      "['rainy', 'day', 'emotion', 'night', 'dawn', 'type', 'calmly', 'voic', '2030']\n",
      "['in', 'my', 'heart']\n",
      "['heart']\n",
      "['at', 'dawn', 'at', 'night']\n",
      "['dawn', 'night']\n",
      "['concentration', 'labor', 'rooftop', 'good', 'to', 'hear', 'leisurely', 'afternoon', 'jazz', 'good', 'to', 'hear', 'in', 'a', 'cafe', 'coffee', 'way', 'home', 'when', 'reading']\n",
      "['concentration', 'labor', 'rooftop', 'good', 'hear', 'leisurely', 'afternoon', 'jazz', 'good', 'hear', 'cafe', 'coffee', 'way', 'home', 'reading']\n",
      "['rainy', 'day', 'emotion', 'the', 'rainy', 'season', 'rain']\n",
      "['rainy', 'day', 'emotion', 'rainy', 'season', 'rain']\n",
      "['hip', 'hop', 'exercise', 'stress', 'sing', 'to', 'release']\n",
      "['hip', 'hop', 'exercise', 'stress', 'sing', 'release']\n",
      "['rainy', 'day', 'the', 'rainy', 'season']\n",
      "['rainy', 'day', 'rainy', 'season']\n",
      "['flight', 'crush', 'cheer', 'up']\n",
      "['flight', 'crush', 'cheer']\n",
      "['music', 'caster', 'fabric', 'on', 'this', 'day', 'like', 'this', 'music']\n",
      "['music', 'caster', 'fabric', 'day', 'like', 'music']\n",
      "['new', 'song', 'rosalia', 'pop', 'recommendation', 'march', 'song', 'kang', 'daniel', 'ups', 'and', 'downs', 'child', 'diachegampino', 'kaigo', 'music', 'recommendation']\n",
      "['new', 'song', 'rosalia', 'pop', 'recommendation', 'march', 'song', 'kang', 'daniel', 'ups', 'downs', 'child', 'diachegampino', 'kaigo', 'music', 'recommendation']\n",
      "['hip', 'hop', 'drop', 'the', 'beat', 'lab', 'this', 'is', 'hip', 'hop', 'ana', 'hiphop', 'muzzle', 'rap']\n",
      "['hip', 'hop', 'drop', 'beat', 'lab', 'hip', 'hop', 'ana', 'hiphop', 'muzzle', 'rap']\n",
      "['lee', 'jae', 'won', 'moon', 'hee', 'jun', 'i', 'love', 'you', 'hot', 'ahn', 'seung', 'ho', 'chilhyun', 'ahn', 'jang', 'woo', 'hyuk']\n",
      "['lee', 'jae', 'moon', 'hee', 'jun', 'love', 'hot', 'ahn', 'seung', 'ho', 'chilhyun', 'ahn', 'jang', 'woo', 'hyuk']\n",
      "['when', 'you', 'are', 'depressed', 'the', 'latest', 'pop', 'poplock', 'lock', 'pop', 'mood', 'poprock', 'rock', 'pop']\n",
      "['depressed', 'latest', 'pop', 'poplock', 'lock', 'pop', 'mood', 'poprock', 'rock', 'pop']\n",
      "['jazz', 'gift', 'of', 'music', 'warm', 'melody', 'melody']\n",
      "['jazz', 'gift', 'music', 'warm', 'melody', 'melody']\n",
      "['rest', 'night', 'windless', 'dawn', 'emotion', 'new', 'age', 'piano', 'a', 'good', 'song', 'to', 'hear', 'at', 'night']\n",
      "['rest', 'night', 'windless', 'dawn', 'emotion', 'new', 'age', 'piano', 'good', 'song', 'hear', 'night']\n",
      "['cafe', 'romantic', 'agreeable', 'my', 'type', 'lover', 'store', 'flutter', 'date', 'love', 'sweetness']\n",
      "['cafe', 'romantic', 'agreeable', 'type', 'lover', 'store', 'flutter', 'date', 'love', 'sweetness']\n",
      "['valentine', 's', 'day', 'valentine', 'february', '14th', 'valentine', 's', 'day', 'jazz', 'chocolate', 'valentine']\n",
      "['valentine', 'day', 'valentine', 'february', '14th', 'valentine', 'day', 'jazz', 'chocolate', 'valentine']\n",
      "['summer', 'atmosphere', 'night', 'my', 'type', 'tropical', 'emotional', 'music', 'when', 'you', 'are', 'tired', 'house', 'emotion', 'swelter']\n",
      "['summer', 'atmosphere', 'night', 'type', 'tropical', 'emotional', 'music', 'tired', 'house', 'emotion', 'swelter']\n",
      "['hip', 'hop', 'listen', 'to', 'this', 'what', 'do', 'you', 'hear', 'not', 'that', 'domestic', 'hip', 'hop', 'overseas', 'hip', 'hop', 'muzzle', 'soup']\n",
      "['hip', 'hop', 'listen', 'hear', 'domestic', 'hip', 'hop', 'overseas', 'hip', 'hop', 'muzzle', 'soup']\n",
      "['emotion', 'cafe', 'store', 'drive', 'mood', 'lead', 'michul', 'cheer', 'up', 'trendy', 'atmosphere', 'refined']\n",
      "['emotion', 'cafe', 'store', 'drive', 'mood', 'lead', 'michul', 'cheer', 'trendy', 'atmosphere', 'refined']\n",
      "['i', 'recommend', 'it', 'hidden', 'emotion']\n",
      "['recommend', 'hidden', 'emotion']\n",
      "['popular', 'rnb', 'hiphop', 'popular', 'a', 'glass', 'of', 'beer']\n",
      "['popular', 'rnb', 'hiphop', 'popular', 'glass', 'beer']\n",
      "['commute', 'weekend', 'work', 'out', 'drive', 'pop', 'travel', 'mood', 'daily', 'inner', 'dance', 'exciting']\n",
      "['commute', 'weekend', 'work', 'drive', 'pop', 'travel', 'mood', 'daily', 'inner', 'dance', 'exciting']\n",
      "['dinner', 'cafe', 'winter', 'night', 'dawn', 'at', 'night', 'winter', 'song', 'mood', 'cold', 'way', 'home']\n",
      "['dinner', 'cafe', 'winter', 'night', 'dawn', 'night', 'winter', 'song', 'mood', 'cold', 'way', 'home']\n",
      "['windless', 'dinner', 'dawn', 'emotion', 'jet', 'sing', 'rest', 'a', 'good', 'song', 'to', 'hear', 'at', 'night', 'soft', 'ballade']\n",
      "['windless', 'dinner', 'dawn', 'emotion', 'jet', 'sing', 'rest', 'good', 'song', 'hear', 'night', 'soft', 'ballade']\n",
      "['my', 'type', 'new', 'man', 'emotion', 'edm', 'choi', 'ae', 'song']\n",
      "['type', 'new', 'man', 'emotion', 'edm', 'choi', 'ae', 'song']\n",
      "['a', 'cappella', 'rest', 'new', 'year']\n",
      "['cappella', 'rest', 'new', 'year']\n",
      "['autumn', 'hapjeong', 'station', 'exit', '5', 'trot', 'pompo', 'oil', 'mood', 'what', 'do', 'you', 'do', 'when', 'you', 'play', 'yoo', 'jae', 'suk', 'lacticide', 'development', 'of', 'love', 'exciting']\n",
      "['autumn', 'hapjeong', 'station', 'exit', '5', 'trot', 'pompo', 'oil', 'mood', 'play', 'yoo', 'jae', 'suk', 'lacticide', 'development', 'love', 'exciting']\n",
      "['if', 'you', 'knew', 'too', 'new', 'song', 'store', 'music', 'october', 'indie']\n",
      "['knew', 'new', 'song', 'store', 'music', 'october', 'indie']\n",
      "['store', 'music', 'work', 'out']\n",
      "['store', 'music', 'work']\n",
      "['snap', 'rest', 'prenatal', 'sleeping', 'nap', 'healing', 'before', 'sleeping', 'music', 'box', 'lullaby', 'deep', 'sleep']\n",
      "['snap', 'rest', 'prenatal', 'sleeping', 'nap', 'healing', 'sleeping', 'music', 'box', 'lullaby', 'deep', 'sleep']\n",
      "['sleep', 'winter', 'sensibility', 'dream', 'before', 'sleeping', 'mind', 'lullaby', 'deep', 'sleep', 'comfortable']\n",
      "['sleep', 'winter', 'sensibility', 'dream', 'sleeping', 'mind', 'lullaby', 'deep', 'sleep', 'comfortable']\n",
      "['the', 'four', 'seasons', 'classic', 'violin', 'chopin', 'mozart', 'string', 'classic', 'hayden', 'vivaldi', 'visible']\n",
      "['four', 'seasons', 'classic', 'violin', 'chopin', 'mozart', 'string', 'classic', 'hayden', 'vivaldi', 'visible']\n",
      "['it', 's', 'monday', 'pop', 'song', 'morning', 'go', 'to', 'school', 'or', 'to', 'work', 'exciting']\n",
      "['monday', 'pop', 'song', 'morning', 'go', 'school', 'work', 'exciting']\n",
      "['all', 'round', 'ability', 'entertainer', 'star', 'compassion', 'actor', 'talent', 'singer']\n",
      "['round', 'ability', 'entertainer', 'star', 'compassion', 'actor', 'talent', 'singer']\n",
      "['my', 'own', 'best3', 'fish', 'shoes', 'recommended', 'music', 'of', 'indie', 'artists', 'indie']\n",
      "['best3', 'fish', 'shoes', 'recommended', 'music', 'indie', 'artists', 'indie']\n",
      "['the', 'rainy', 'season', 'windless', 'legend', 'stupid', 'mood', 'relax']\n",
      "['rainy', 'season', 'windless', 'legend', 'stupid', 'mood', 'relax']\n",
      "['ghost', 'creepy', 'classic', 'horror', 'classic', 'lee', 'han', 'chi', 'fear', 'do', 'not', 'listen', 'alone']\n",
      "['ghost', 'creepy', 'classic', 'horror', 'classic', 'lee', 'han', 'chi', 'fear', 'listen', 'alone']\n",
      "['about', 'me', 'lyrics']\n",
      "['lyrics']\n",
      "['afternoon', 'healing', 'sunshine', 'warm', 'to', 'the', 'cafe']\n",
      "['afternoon', 'healing', 'sunshine', 'warm', 'cafe']\n",
      "['i', 'like', 'it', 'tackle', 'pop']\n",
      "['like', 'tackle', 'pop']\n",
      "['me', 'reference', 'boy', 'group', 'my', 'taste', 'bay']\n",
      "['reference', 'boy', 'group', 'taste', 'bay']\n",
      "['1950', '60', 'elvis', 'presley', 'lock', 'rock', 'and', 'roll', 'light', 'label', 'rock', 'rocker', 'billy', 'sun', 'record', 'exciting']\n",
      "['1950', '60', 'elvis', 'presley', 'lock', 'rock', 'roll', 'light', 'label', 'rock', 'rocker', 'billy', 'sun', 'record', 'exciting']\n",
      "['2', 'unlimited', 'techno', 'memories', 'of', 'memories', '1990', 'aceofbase', 'pop', 'euro', 'dance', 'eurodance', 'remix', 'club', 'dance']\n",
      "['2', 'unlimited', 'techno', 'memories', 'memories', '1990', 'aceofbase', 'pop', 'euro', 'dance', 'eurodance', 'remix', 'club', 'dance']\n",
      "['m', 'bius', 'strip', 'emotion', 'it', 'is', 'so', 'good', 'that', 'it', 'is', 'infinitely', 'repeated']\n",
      "['bius', 'strip', 'emotion', 'good', 'infinitely', 'repeated']\n",
      "['agreeable', 'commute', 'performance', 'song', 'cafe', 'go', 'to', 'school', 'morning', 'call', 'fresh', 'emotion', 'morning']\n",
      "['agreeable', 'commute', 'performance', 'song', 'cafe', 'go', 'school', 'morning', 'call', 'fresh', 'emotion', 'morning']\n",
      "['women', 's', 'solo', 'solo', 'male', 'feature']\n",
      "['women', 'solo', 'solo', 'male', 'feature']\n",
      "['rainy', 'day', 'spring', 'rain', 'emotion', 'a', 'good', 'song', 'to', 'hear', 'on', 'rainy', 'days']\n",
      "['rainy', 'day', 'spring', 'rain', 'emotion', 'good', 'song', 'hear', 'rainy', 'days']\n",
      "['work', 'out', 'female', 'singer', 'dance', 'drive', 'mood', 'pop', 'song', 'pop', 'exciting']\n",
      "['work', 'female', 'singer', 'dance', 'drive', 'mood', 'pop', 'song', 'pop', 'exciting']\n",
      "['singing', 'class', 'trot', 'traditional', 'song', 'song', 'ga', 'in', 'is', 'it', 'sex', 'lover', 'jung', 'mi', 'ae', 'jang', 'yoon', 'jung', 'karaoke', 'exciting']\n",
      "['singing', 'class', 'trot', 'traditional', 'song', 'song', 'ga', 'sex', 'lover', 'jung', 'mi', 'ae', 'jang', 'yoon', 'jung', 'karaoke', 'exciting']\n",
      "['commute', 'monday', 'disease', 'when', 'you', 'don', 't', 'want', 'to', 'go', 'to', 'work', 'beat', 'tempo', 'way', 'home', 'dance', 'song', 'exciting']\n",
      "['commute', 'monday', 'disease', 'want', 'go', 'work', 'beat', 'tempo', 'way', 'home', 'dance', 'song', 'exciting']\n",
      "['when', 'you', 'go', 'to', 'meet', 'when', 'you', 'are', 'excited', 'date']\n",
      "['go', 'meet', 'excited', 'date']\n",
      "['blues', 'm', 'essential', 'blues']\n",
      "['blues', 'essential', 'blues']\n",
      "['let', 's', 'listen', 'to', 'the', 'song']\n",
      "['let', 'listen', 'song']\n",
      "['rainy', 'day', 'china', 'the', 'rainy', 'season']\n",
      "['rainy', 'day', 'china', 'rainy', 'season']\n",
      "['winter', 'emotion', 'night', 'r', 'b', 'dawn', 'dawn', 'healing', 'before', 'sleeping', 'mood', 'indie']\n",
      "['winter', 'emotion', 'night', 'r', 'b', 'dawn', 'dawn', 'healing', 'sleeping', 'mood', 'indie']\n",
      "['women', 's', 'solo', 'emotion', 'girl', 'group', 'masterpiece', 'mood', 'representative', 'song', 'life', 'song']\n",
      "['women', 'solo', 'emotion', 'girl', 'group', 'masterpiece', 'mood', 'representative', 'song', 'life', 'song']\n",
      "['concentration', 'prenatal', 'performance', 'song', 'meditation', 'classic', 'healing', 'when', 'working', 'best', 'lullaby', 'study']\n",
      "['concentration', 'prenatal', 'performance', 'song', 'meditation', 'classic', 'healing', 'working', 'best', 'lullaby', 'study']\n",
      "['put', 'the', 'nasal', 'hole', 'drive', 'burnto', 'weekend']\n",
      "['put', 'nasal', 'hole', 'drive', 'burnto', 'weekend']\n",
      "['summer', 'my', 'type', 'cool', 'mood', 'love', 'love', 'song']\n",
      "['summer', 'type', 'cool', 'mood', 'love', 'love', 'song']\n",
      "['when', 'i', 'do', 'alba', 'mine']\n",
      "['alba', 'mine']\n",
      "['sleep', 'worry', 'tranquil', 'thought', 'me', 'before', 'sleeping', 'worry', 'comfortable']\n",
      "['sleep', 'worry', 'tranquil', 'thought', 'sleeping', 'worry', 'comfortable']\n",
      "['memories', 'of', 'pop', 'sound', 'memories', 'of', 'memories', 'calm', 'autumn', 'fragrance']\n",
      "['memories', 'pop', 'sound', 'memories', 'memories', 'calm', 'autumn', 'fragrance']\n",
      "['school', 'of', 'lock', 'rock', 'rock']\n",
      "['school', 'lock', 'rock', 'rock']\n",
      "['heroic', 'when', 'you', 'lose', 'energy']\n",
      "['heroic', 'lose', 'energy']\n",
      "['cafe', 'task', 'emotion', 'hem', 'j', 'indie', 'music', 'and', 'ham', 'tv', 'subscribe', 'youtube', 'when', 'reading']\n",
      "['cafe', 'task', 'emotion', 'hem', 'j', 'indie', 'music', 'ham', 'tv', 'subscribe', 'youtube', 'reading']\n",
      "['1990', 'ost', 'bang', 'jun', 'seok', 'etc', '2000', 'rain', 'and', 'you', 'u', 'm', 'blue', 'music', 'director', 'film', 'music', 'radio', 'star']\n",
      "['1990', 'ost', 'bang', 'jun', 'seok', 'etc', '2000', 'rain', 'u', 'blue', 'music', 'director', 'film', 'music', 'radio', 'star']\n",
      "['on', 'the', 'bus', 'tiredness', 'excitingly', 'night', 'shift', 'subway', 'drive', 'mood', 'way', 'home', 'company']\n",
      "['bus', 'tiredness', 'excitingly', 'night', 'shift', 'subway', 'drive', 'mood', 'way', 'home', 'company']\n"
     ]
    }
   ],
   "source": [
    "import nltk\n",
    "from nltk.corpus import stopwords\n",
    "#nltk.download('popular') # nltk 라이브러리 사용을 위해 다운해야 함\n",
    "\n",
    "stops = set(stopwords.words('english'))\n",
    "\n",
    "for i in range(len(train_data_eng)):\n",
    "    eng_tags = [tag for tag in train_data_eng['tags'][i] if not tag in stops]\n",
    "    if train_data_eng['tags'][i] != eng_tags:\n",
    "        print(train_data_eng['tags'][i])\n",
    "        print(eng_tags)\n",
    "    train_data_eng['tags'][i] = eng_tags"
   ]
  },
  {
   "cell_type": "markdown",
   "id": "3dcb4758",
   "metadata": {},
   "source": [
    "### Stemming"
   ]
  },
  {
   "cell_type": "code",
   "execution_count": 31,
   "id": "59ce240b",
   "metadata": {},
   "outputs": [
    {
     "name": "stderr",
     "output_type": "stream",
     "text": [
      "C:\\Users\\pigwo\\AppData\\Local\\Temp\\ipykernel_12988\\3854077717.py:4: SettingWithCopyWarning: \n",
      "A value is trying to be set on a copy of a slice from a DataFrame\n",
      "\n",
      "See the caveats in the documentation: https://pandas.pydata.org/pandas-docs/stable/user_guide/indexing.html#returning-a-view-versus-a-copy\n",
      "  train_data_eng['tags'][i] = eng_tags\n"
     ]
    }
   ],
   "source": [
    "stemmer = nltk.stem.SnowballStemmer('english')\n",
    "for i in range(len(train_data_eng)):\n",
    "    eng_tags = [stemmer.stem(tag) for tag in train_data_eng['tags'][i]]\n",
    "    train_data_eng['tags'][i] = eng_tags"
   ]
  },
  {
   "cell_type": "markdown",
   "id": "93f2db71",
   "metadata": {},
   "source": [
    "### 중복 제거"
   ]
  },
  {
   "cell_type": "code",
   "execution_count": 32,
   "id": "15a8e3a4",
   "metadata": {},
   "outputs": [
    {
     "name": "stderr",
     "output_type": "stream",
     "text": [
      "C:\\Users\\pigwo\\AppData\\Local\\Temp\\ipykernel_12988\\1253149308.py:3: SettingWithCopyWarning: \n",
      "A value is trying to be set on a copy of a slice from a DataFrame\n",
      "\n",
      "See the caveats in the documentation: https://pandas.pydata.org/pandas-docs/stable/user_guide/indexing.html#returning-a-view-versus-a-copy\n",
      "  train_data_eng['tags'][i] = eng_tags\n"
     ]
    }
   ],
   "source": [
    "for i in range(len(train_data_eng)):\n",
    "    eng_tags = list(dict.fromkeys(train_data_eng['tags'][i]))\n",
    "    train_data_eng['tags'][i] = eng_tags"
   ]
  },
  {
   "cell_type": "markdown",
   "id": "60d08b13",
   "metadata": {},
   "source": [
    "### 한 글자로 된 단어 제거"
   ]
  },
  {
   "cell_type": "code",
   "execution_count": 33,
   "id": "e51883c7",
   "metadata": {},
   "outputs": [
    {
     "name": "stderr",
     "output_type": "stream",
     "text": [
      "C:\\Users\\pigwo\\AppData\\Local\\Temp\\ipykernel_12988\\423532492.py:3: SettingWithCopyWarning: \n",
      "A value is trying to be set on a copy of a slice from a DataFrame\n",
      "\n",
      "See the caveats in the documentation: https://pandas.pydata.org/pandas-docs/stable/user_guide/indexing.html#returning-a-view-versus-a-copy\n",
      "  train_data_eng['tags'][i] = eng_tags\n"
     ]
    }
   ],
   "source": [
    "for i in range(len(train_data_eng)):\n",
    "    eng_tags = [tag for tag in train_data_eng['tags'][i] if len(tag) > 1]\n",
    "    train_data_eng['tags'][i] = eng_tags"
   ]
  },
  {
   "cell_type": "markdown",
   "id": "387ea2ce",
   "metadata": {},
   "source": [
    "### 추가적인 자연어 처리"
   ]
  },
  {
   "cell_type": "code",
   "execution_count": 34,
   "id": "770dddf9",
   "metadata": {},
   "outputs": [
    {
     "name": "stderr",
     "output_type": "stream",
     "text": [
      "C:\\Users\\pigwo\\AppData\\Local\\Temp\\ipykernel_12988\\3699684927.py:5: SettingWithCopyWarning: \n",
      "A value is trying to be set on a copy of a slice from a DataFrame\n",
      "\n",
      "See the caveats in the documentation: https://pandas.pydata.org/pandas-docs/stable/user_guide/indexing.html#returning-a-view-versus-a-copy\n",
      "  train_data_eng['tags'][i] = eng_tags\n"
     ]
    }
   ],
   "source": [
    "# '록' 또는 '락' 이 'lock' 으로 번역되는 문제가 있어서, 'rock' 으로 일괄적으로 수정\n",
    "pattern = re.compile(r'\\block\\b')\n",
    "for i in range(len(train_data_eng)):\n",
    "    eng_tags = [re.sub(pattern, 'rock', tag) for tag in train_data_eng['tags'][i]]\n",
    "    train_data_eng['tags'][i] = eng_tags"
   ]
  },
  {
   "cell_type": "code",
   "execution_count": 35,
   "id": "c7a3f26a",
   "metadata": {},
   "outputs": [
    {
     "data": {
      "text/html": [
       "<div>\n",
       "<style scoped>\n",
       "    .dataframe tbody tr th:only-of-type {\n",
       "        vertical-align: middle;\n",
       "    }\n",
       "\n",
       "    .dataframe tbody tr th {\n",
       "        vertical-align: top;\n",
       "    }\n",
       "\n",
       "    .dataframe thead th {\n",
       "        text-align: right;\n",
       "    }\n",
       "</style>\n",
       "<table border=\"1\" class=\"dataframe\">\n",
       "  <thead>\n",
       "    <tr style=\"text-align: right;\">\n",
       "      <th></th>\n",
       "      <th>tags</th>\n",
       "      <th>song_id</th>\n",
       "      <th>like_cnt</th>\n",
       "    </tr>\n",
       "  </thead>\n",
       "  <tbody>\n",
       "    <tr>\n",
       "      <th>0</th>\n",
       "      <td>[rock]</td>\n",
       "      <td>[525514, 129701, 383374, 562083, 297861, 13954...</td>\n",
       "      <td>71</td>\n",
       "    </tr>\n",
       "    <tr>\n",
       "      <th>1</th>\n",
       "      <td>[memori, reminisc]</td>\n",
       "      <td>[432406, 675945, 497066, 120377, 389529, 24427...</td>\n",
       "      <td>1</td>\n",
       "    </tr>\n",
       "    <tr>\n",
       "      <th>2</th>\n",
       "      <td>[cafe, windless]</td>\n",
       "      <td>[83116, 276692, 166267, 186301, 354465, 256598...</td>\n",
       "      <td>17</td>\n",
       "    </tr>\n",
       "    <tr>\n",
       "      <th>3</th>\n",
       "      <td>[year, end, snowi, day, carol, atmospher, warm...</td>\n",
       "      <td>[394031, 195524, 540149, 287984, 440773, 10033...</td>\n",
       "      <td>33</td>\n",
       "    </tr>\n",
       "    <tr>\n",
       "      <th>4</th>\n",
       "      <td>[danc]</td>\n",
       "      <td>[159327, 553610, 5130, 645103, 294435, 100657,...</td>\n",
       "      <td>9</td>\n",
       "    </tr>\n",
       "    <tr>\n",
       "      <th>5</th>\n",
       "      <td>[work, drive, pop, tropic, hous, heal, mood, 2...</td>\n",
       "      <td>[418694, 222305, 96545, 135950, 304687, 457451...</td>\n",
       "      <td>435</td>\n",
       "    </tr>\n",
       "    <tr>\n",
       "      <th>6</th>\n",
       "      <td>[crush, type, sad, confess, love, farewel]</td>\n",
       "      <td>[528130, 505036, 398947, 627363, 37748, 376358...</td>\n",
       "      <td>24</td>\n",
       "    </tr>\n",
       "    <tr>\n",
       "      <th>7</th>\n",
       "      <td>[windless, memori, reminisc]</td>\n",
       "      <td>[496913, 632529, 501426, 515574, 411161, 10341...</td>\n",
       "      <td>5</td>\n",
       "    </tr>\n",
       "    <tr>\n",
       "      <th>8</th>\n",
       "      <td>[electronica, fork, metal, rock, danc, indi]</td>\n",
       "      <td>[634861, 270738, 163936, 692209, 449477, 56342...</td>\n",
       "      <td>0</td>\n",
       "    </tr>\n",
       "    <tr>\n",
       "      <th>9</th>\n",
       "      <td>[rock, metal, lee, il, woo, essenti, rock]</td>\n",
       "      <td>[613315, 439294, 230806, 497932, 113479, 93506...</td>\n",
       "      <td>7</td>\n",
       "    </tr>\n",
       "    <tr>\n",
       "      <th>10</th>\n",
       "      <td>[kpop, danc, girl, group, stress, relief]</td>\n",
       "      <td>[507380, 144826, 553894, 660381, 260730, 28188...</td>\n",
       "      <td>74</td>\n",
       "    </tr>\n",
       "    <tr>\n",
       "      <th>11</th>\n",
       "      <td>[new, year, travel, profil, music, kakaotalk, ...</td>\n",
       "      <td>[658738, 698779, 124485, 512610, 310028, 17422...</td>\n",
       "      <td>42</td>\n",
       "    </tr>\n",
       "    <tr>\n",
       "      <th>12</th>\n",
       "      <td>[listen, depress, heal, cheer]</td>\n",
       "      <td>[449808, 691770, 640657, 313395, 697100, 34090...</td>\n",
       "      <td>1</td>\n",
       "    </tr>\n",
       "    <tr>\n",
       "      <th>13</th>\n",
       "      <td>[hip, hop, feel, night, dawn, rnb, sensual, dr...</td>\n",
       "      <td>[525152, 38765, 66139, 696379, 397438, 144461,...</td>\n",
       "      <td>1112</td>\n",
       "    </tr>\n",
       "    <tr>\n",
       "      <th>14</th>\n",
       "      <td>[autumn, jazz]</td>\n",
       "      <td>[37194, 493012, 516717, 458409, 573367, 5056, ...</td>\n",
       "      <td>146</td>\n",
       "    </tr>\n",
       "    <tr>\n",
       "      <th>15</th>\n",
       "      <td>[rock]</td>\n",
       "      <td>[313901, 352039, 259807, 146310, 473162, 70359...</td>\n",
       "      <td>2</td>\n",
       "    </tr>\n",
       "    <tr>\n",
       "      <th>16</th>\n",
       "      <td>[emot, unbeaten, want, know, pop]</td>\n",
       "      <td>[331055, 99287, 310974, 376435, 146989, 430106...</td>\n",
       "      <td>1</td>\n",
       "    </tr>\n",
       "    <tr>\n",
       "      <th>17</th>\n",
       "      <td>[spring, flutter, love]</td>\n",
       "      <td>[684998, 530279, 482241, 268506, 681473, 19552...</td>\n",
       "      <td>8</td>\n",
       "    </tr>\n",
       "    <tr>\n",
       "      <th>18</th>\n",
       "      <td>[raini, day, someon, think]</td>\n",
       "      <td>[379674, 164522, 33196, 281228, 640012, 117969...</td>\n",
       "      <td>17</td>\n",
       "    </tr>\n",
       "    <tr>\n",
       "      <th>19</th>\n",
       "      <td>[sume, list, close, ceremoni, olymp, exo]</td>\n",
       "      <td>[418343, 406377, 527227, 224195, 259795, 70652...</td>\n",
       "      <td>2</td>\n",
       "    </tr>\n",
       "  </tbody>\n",
       "</table>\n",
       "</div>"
      ],
      "text/plain": [
       "                                                 tags  \\\n",
       "0                                              [rock]   \n",
       "1                                  [memori, reminisc]   \n",
       "2                                    [cafe, windless]   \n",
       "3   [year, end, snowi, day, carol, atmospher, warm...   \n",
       "4                                              [danc]   \n",
       "5   [work, drive, pop, tropic, hous, heal, mood, 2...   \n",
       "6          [crush, type, sad, confess, love, farewel]   \n",
       "7                        [windless, memori, reminisc]   \n",
       "8        [electronica, fork, metal, rock, danc, indi]   \n",
       "9          [rock, metal, lee, il, woo, essenti, rock]   \n",
       "10          [kpop, danc, girl, group, stress, relief]   \n",
       "11  [new, year, travel, profil, music, kakaotalk, ...   \n",
       "12                     [listen, depress, heal, cheer]   \n",
       "13  [hip, hop, feel, night, dawn, rnb, sensual, dr...   \n",
       "14                                     [autumn, jazz]   \n",
       "15                                             [rock]   \n",
       "16                  [emot, unbeaten, want, know, pop]   \n",
       "17                            [spring, flutter, love]   \n",
       "18                        [raini, day, someon, think]   \n",
       "19          [sume, list, close, ceremoni, olymp, exo]   \n",
       "\n",
       "                                              song_id  like_cnt  \n",
       "0   [525514, 129701, 383374, 562083, 297861, 13954...        71  \n",
       "1   [432406, 675945, 497066, 120377, 389529, 24427...         1  \n",
       "2   [83116, 276692, 166267, 186301, 354465, 256598...        17  \n",
       "3   [394031, 195524, 540149, 287984, 440773, 10033...        33  \n",
       "4   [159327, 553610, 5130, 645103, 294435, 100657,...         9  \n",
       "5   [418694, 222305, 96545, 135950, 304687, 457451...       435  \n",
       "6   [528130, 505036, 398947, 627363, 37748, 376358...        24  \n",
       "7   [496913, 632529, 501426, 515574, 411161, 10341...         5  \n",
       "8   [634861, 270738, 163936, 692209, 449477, 56342...         0  \n",
       "9   [613315, 439294, 230806, 497932, 113479, 93506...         7  \n",
       "10  [507380, 144826, 553894, 660381, 260730, 28188...        74  \n",
       "11  [658738, 698779, 124485, 512610, 310028, 17422...        42  \n",
       "12  [449808, 691770, 640657, 313395, 697100, 34090...         1  \n",
       "13  [525152, 38765, 66139, 696379, 397438, 144461,...      1112  \n",
       "14  [37194, 493012, 516717, 458409, 573367, 5056, ...       146  \n",
       "15  [313901, 352039, 259807, 146310, 473162, 70359...         2  \n",
       "16  [331055, 99287, 310974, 376435, 146989, 430106...         1  \n",
       "17  [684998, 530279, 482241, 268506, 681473, 19552...         8  \n",
       "18  [379674, 164522, 33196, 281228, 640012, 117969...        17  \n",
       "19  [418343, 406377, 527227, 224195, 259795, 70652...         2  "
      ]
     },
     "execution_count": 35,
     "metadata": {},
     "output_type": "execute_result"
    }
   ],
   "source": [
    "train_data_sample = train_data_eng.copy()\n",
    "train_data_sample = train_data_sample.reset_index(drop=True)\n",
    "train_data_sample.head(20)"
   ]
  },
  {
   "cell_type": "markdown",
   "id": "8079fb88",
   "metadata": {},
   "source": [
    "## 태그 병합\n",
    "\n",
    "- 같은 노래에 부여된 서로 다른 태그들을 합친다\n",
    "- 그 결과 동일한 태그 리스트가 거의 모든 노래에 부여되었다"
   ]
  },
  {
   "cell_type": "code",
   "execution_count": 36,
   "id": "790f2755",
   "metadata": {},
   "outputs": [
    {
     "data": {
      "text/html": [
       "<div>\n",
       "<style scoped>\n",
       "    .dataframe tbody tr th:only-of-type {\n",
       "        vertical-align: middle;\n",
       "    }\n",
       "\n",
       "    .dataframe tbody tr th {\n",
       "        vertical-align: top;\n",
       "    }\n",
       "\n",
       "    .dataframe thead th {\n",
       "        text-align: right;\n",
       "    }\n",
       "</style>\n",
       "<table border=\"1\" class=\"dataframe\">\n",
       "  <thead>\n",
       "    <tr style=\"text-align: right;\">\n",
       "      <th></th>\n",
       "      <th>tags</th>\n",
       "      <th>song_id</th>\n",
       "      <th>like_cnt</th>\n",
       "    </tr>\n",
       "  </thead>\n",
       "  <tbody>\n",
       "    <tr>\n",
       "      <th>0</th>\n",
       "      <td>[rock]</td>\n",
       "      <td>525514</td>\n",
       "      <td>71</td>\n",
       "    </tr>\n",
       "    <tr>\n",
       "      <th>1</th>\n",
       "      <td>[rock]</td>\n",
       "      <td>129701</td>\n",
       "      <td>71</td>\n",
       "    </tr>\n",
       "    <tr>\n",
       "      <th>2</th>\n",
       "      <td>[rock]</td>\n",
       "      <td>383374</td>\n",
       "      <td>71</td>\n",
       "    </tr>\n",
       "    <tr>\n",
       "      <th>3</th>\n",
       "      <td>[rock]</td>\n",
       "      <td>562083</td>\n",
       "      <td>71</td>\n",
       "    </tr>\n",
       "    <tr>\n",
       "      <th>4</th>\n",
       "      <td>[rock]</td>\n",
       "      <td>297861</td>\n",
       "      <td>71</td>\n",
       "    </tr>\n",
       "    <tr>\n",
       "      <th>5</th>\n",
       "      <td>[rock]</td>\n",
       "      <td>139541</td>\n",
       "      <td>71</td>\n",
       "    </tr>\n",
       "    <tr>\n",
       "      <th>6</th>\n",
       "      <td>[rock]</td>\n",
       "      <td>351214</td>\n",
       "      <td>71</td>\n",
       "    </tr>\n",
       "    <tr>\n",
       "      <th>7</th>\n",
       "      <td>[rock]</td>\n",
       "      <td>650298</td>\n",
       "      <td>71</td>\n",
       "    </tr>\n",
       "    <tr>\n",
       "      <th>8</th>\n",
       "      <td>[rock]</td>\n",
       "      <td>531057</td>\n",
       "      <td>71</td>\n",
       "    </tr>\n",
       "    <tr>\n",
       "      <th>9</th>\n",
       "      <td>[rock]</td>\n",
       "      <td>205238</td>\n",
       "      <td>71</td>\n",
       "    </tr>\n",
       "    <tr>\n",
       "      <th>10</th>\n",
       "      <td>[rock]</td>\n",
       "      <td>706183</td>\n",
       "      <td>71</td>\n",
       "    </tr>\n",
       "    <tr>\n",
       "      <th>11</th>\n",
       "      <td>[rock]</td>\n",
       "      <td>127099</td>\n",
       "      <td>71</td>\n",
       "    </tr>\n",
       "    <tr>\n",
       "      <th>12</th>\n",
       "      <td>[rock]</td>\n",
       "      <td>660493</td>\n",
       "      <td>71</td>\n",
       "    </tr>\n",
       "    <tr>\n",
       "      <th>13</th>\n",
       "      <td>[rock]</td>\n",
       "      <td>461973</td>\n",
       "      <td>71</td>\n",
       "    </tr>\n",
       "    <tr>\n",
       "      <th>14</th>\n",
       "      <td>[rock]</td>\n",
       "      <td>121455</td>\n",
       "      <td>71</td>\n",
       "    </tr>\n",
       "    <tr>\n",
       "      <th>15</th>\n",
       "      <td>[rock]</td>\n",
       "      <td>72552</td>\n",
       "      <td>71</td>\n",
       "    </tr>\n",
       "    <tr>\n",
       "      <th>16</th>\n",
       "      <td>[rock]</td>\n",
       "      <td>223955</td>\n",
       "      <td>71</td>\n",
       "    </tr>\n",
       "    <tr>\n",
       "      <th>17</th>\n",
       "      <td>[rock]</td>\n",
       "      <td>324992</td>\n",
       "      <td>71</td>\n",
       "    </tr>\n",
       "    <tr>\n",
       "      <th>18</th>\n",
       "      <td>[rock]</td>\n",
       "      <td>50104</td>\n",
       "      <td>71</td>\n",
       "    </tr>\n",
       "    <tr>\n",
       "      <th>19</th>\n",
       "      <td>[memori, reminisc]</td>\n",
       "      <td>432406</td>\n",
       "      <td>1</td>\n",
       "    </tr>\n",
       "    <tr>\n",
       "      <th>20</th>\n",
       "      <td>[memori, reminisc]</td>\n",
       "      <td>675945</td>\n",
       "      <td>1</td>\n",
       "    </tr>\n",
       "    <tr>\n",
       "      <th>21</th>\n",
       "      <td>[memori, reminisc]</td>\n",
       "      <td>497066</td>\n",
       "      <td>1</td>\n",
       "    </tr>\n",
       "    <tr>\n",
       "      <th>22</th>\n",
       "      <td>[memori, reminisc]</td>\n",
       "      <td>120377</td>\n",
       "      <td>1</td>\n",
       "    </tr>\n",
       "    <tr>\n",
       "      <th>23</th>\n",
       "      <td>[memori, reminisc]</td>\n",
       "      <td>389529</td>\n",
       "      <td>1</td>\n",
       "    </tr>\n",
       "    <tr>\n",
       "      <th>24</th>\n",
       "      <td>[memori, reminisc]</td>\n",
       "      <td>244277</td>\n",
       "      <td>1</td>\n",
       "    </tr>\n",
       "    <tr>\n",
       "      <th>25</th>\n",
       "      <td>[memori, reminisc]</td>\n",
       "      <td>461062</td>\n",
       "      <td>1</td>\n",
       "    </tr>\n",
       "    <tr>\n",
       "      <th>26</th>\n",
       "      <td>[memori, reminisc]</td>\n",
       "      <td>696302</td>\n",
       "      <td>1</td>\n",
       "    </tr>\n",
       "    <tr>\n",
       "      <th>27</th>\n",
       "      <td>[memori, reminisc]</td>\n",
       "      <td>442765</td>\n",
       "      <td>1</td>\n",
       "    </tr>\n",
       "    <tr>\n",
       "      <th>28</th>\n",
       "      <td>[memori, reminisc]</td>\n",
       "      <td>532114</td>\n",
       "      <td>1</td>\n",
       "    </tr>\n",
       "    <tr>\n",
       "      <th>29</th>\n",
       "      <td>[memori, reminisc]</td>\n",
       "      <td>586541</td>\n",
       "      <td>1</td>\n",
       "    </tr>\n",
       "  </tbody>\n",
       "</table>\n",
       "</div>"
      ],
      "text/plain": [
       "                  tags song_id  like_cnt\n",
       "0               [rock]  525514        71\n",
       "1               [rock]  129701        71\n",
       "2               [rock]  383374        71\n",
       "3               [rock]  562083        71\n",
       "4               [rock]  297861        71\n",
       "5               [rock]  139541        71\n",
       "6               [rock]  351214        71\n",
       "7               [rock]  650298        71\n",
       "8               [rock]  531057        71\n",
       "9               [rock]  205238        71\n",
       "10              [rock]  706183        71\n",
       "11              [rock]  127099        71\n",
       "12              [rock]  660493        71\n",
       "13              [rock]  461973        71\n",
       "14              [rock]  121455        71\n",
       "15              [rock]   72552        71\n",
       "16              [rock]  223955        71\n",
       "17              [rock]  324992        71\n",
       "18              [rock]   50104        71\n",
       "19  [memori, reminisc]  432406         1\n",
       "20  [memori, reminisc]  675945         1\n",
       "21  [memori, reminisc]  497066         1\n",
       "22  [memori, reminisc]  120377         1\n",
       "23  [memori, reminisc]  389529         1\n",
       "24  [memori, reminisc]  244277         1\n",
       "25  [memori, reminisc]  461062         1\n",
       "26  [memori, reminisc]  696302         1\n",
       "27  [memori, reminisc]  442765         1\n",
       "28  [memori, reminisc]  532114         1\n",
       "29  [memori, reminisc]  586541         1"
      ]
     },
     "execution_count": 36,
     "metadata": {},
     "output_type": "execute_result"
    }
   ],
   "source": [
    "train_data_sample = train_data_sample.explode('song_id', ignore_index=True)\n",
    "train_data_sample.head(30)"
   ]
  },
  {
   "cell_type": "code",
   "execution_count": 37,
   "id": "ec6056ea",
   "metadata": {},
   "outputs": [
    {
     "name": "stdout",
     "output_type": "stream",
     "text": [
      "{'femal', 'daili', 'girl', 'idol', 'windless', 'flower', 'group', 'reminisc', 'love', 'relief', 'excit', 'hit', 'play', 'mood', 'confess', 'danc', 'diet', 'recent', 'stress', 'memori', 'spring', 'start', 'monday', 'song', 'kpop'}\n"
     ]
    }
   ],
   "source": [
    "train_dict = dict()\n",
    "\n",
    "for i in range(len(train_data_sample)):\n",
    "    song = train_data_sample['song_id'][i]\n",
    "    tag = train_data_sample['tags'][i]\n",
    "    \n",
    "    if song in train_dict:\n",
    "        for j in tag:\n",
    "            train_dict[song].add(j)\n",
    "    \n",
    "    else:\n",
    "        train_dict[song] = set(tag)\n",
    "        \n",
    "print(train_dict[157435])"
   ]
  },
  {
   "cell_type": "code",
   "execution_count": 38,
   "id": "4a038475",
   "metadata": {},
   "outputs": [
    {
     "data": {
      "text/plain": [
       "(52771, 3)"
      ]
     },
     "execution_count": 38,
     "metadata": {},
     "output_type": "execute_result"
    }
   ],
   "source": [
    "train_data_sample.drop_duplicates(subset='song_id', keep='first',inplace=True)\n",
    "train_data_sample.shape"
   ]
  },
  {
   "cell_type": "code",
   "execution_count": 39,
   "id": "8674dafe",
   "metadata": {},
   "outputs": [
    {
     "name": "stderr",
     "output_type": "stream",
     "text": [
      "C:\\Users\\pigwo\\AppData\\Local\\Temp\\ipykernel_12988\\1966443478.py:4: SettingWithCopyWarning: \n",
      "A value is trying to be set on a copy of a slice from a DataFrame\n",
      "\n",
      "See the caveats in the documentation: https://pandas.pydata.org/pandas-docs/stable/user_guide/indexing.html#returning-a-view-versus-a-copy\n",
      "  train_data_sample['tags'].iloc[i] = list(train_dict[song])\n"
     ]
    },
    {
     "data": {
      "text/html": [
       "<div>\n",
       "<style scoped>\n",
       "    .dataframe tbody tr th:only-of-type {\n",
       "        vertical-align: middle;\n",
       "    }\n",
       "\n",
       "    .dataframe tbody tr th {\n",
       "        vertical-align: top;\n",
       "    }\n",
       "\n",
       "    .dataframe thead th {\n",
       "        text-align: right;\n",
       "    }\n",
       "</style>\n",
       "<table border=\"1\" class=\"dataframe\">\n",
       "  <thead>\n",
       "    <tr style=\"text-align: right;\">\n",
       "      <th></th>\n",
       "      <th>tags</th>\n",
       "      <th>song_id</th>\n",
       "      <th>like_cnt</th>\n",
       "    </tr>\n",
       "  </thead>\n",
       "  <tbody>\n",
       "    <tr>\n",
       "      <th>0</th>\n",
       "      <td>[rock]</td>\n",
       "      <td>525514</td>\n",
       "      <td>71</td>\n",
       "    </tr>\n",
       "    <tr>\n",
       "      <th>1</th>\n",
       "      <td>[rock]</td>\n",
       "      <td>129701</td>\n",
       "      <td>71</td>\n",
       "    </tr>\n",
       "    <tr>\n",
       "      <th>2</th>\n",
       "      <td>[rock]</td>\n",
       "      <td>383374</td>\n",
       "      <td>71</td>\n",
       "    </tr>\n",
       "    <tr>\n",
       "      <th>3</th>\n",
       "      <td>[rock]</td>\n",
       "      <td>562083</td>\n",
       "      <td>71</td>\n",
       "    </tr>\n",
       "    <tr>\n",
       "      <th>4</th>\n",
       "      <td>[rock]</td>\n",
       "      <td>297861</td>\n",
       "      <td>71</td>\n",
       "    </tr>\n",
       "  </tbody>\n",
       "</table>\n",
       "</div>"
      ],
      "text/plain": [
       "     tags song_id  like_cnt\n",
       "0  [rock]  525514        71\n",
       "1  [rock]  129701        71\n",
       "2  [rock]  383374        71\n",
       "3  [rock]  562083        71\n",
       "4  [rock]  297861        71"
      ]
     },
     "execution_count": 39,
     "metadata": {},
     "output_type": "execute_result"
    }
   ],
   "source": [
    "for i in range(len(train_data_sample)):\n",
    "    song = train_data_sample['song_id'].iloc[i]\n",
    "    \n",
    "    train_data_sample['tags'].iloc[i] = list(train_dict[song])\n",
    "\n",
    "train_data_sample.head()"
   ]
  },
  {
   "cell_type": "code",
   "execution_count": 40,
   "id": "dbd80db8",
   "metadata": {},
   "outputs": [
    {
     "data": {
      "text/html": [
       "<div>\n",
       "<style scoped>\n",
       "    .dataframe tbody tr th:only-of-type {\n",
       "        vertical-align: middle;\n",
       "    }\n",
       "\n",
       "    .dataframe tbody tr th {\n",
       "        vertical-align: top;\n",
       "    }\n",
       "\n",
       "    .dataframe thead th {\n",
       "        text-align: right;\n",
       "    }\n",
       "</style>\n",
       "<table border=\"1\" class=\"dataframe\">\n",
       "  <thead>\n",
       "    <tr style=\"text-align: right;\">\n",
       "      <th></th>\n",
       "      <th>tags</th>\n",
       "      <th>song_id</th>\n",
       "      <th>like_cnt</th>\n",
       "      <th>gnr</th>\n",
       "      <th>issue_date</th>\n",
       "      <th>album_id</th>\n",
       "      <th>artist_id_basket</th>\n",
       "      <th>song_name</th>\n",
       "      <th>artist_name_basket</th>\n",
       "      <th>like_cnt_song</th>\n",
       "      <th>weight</th>\n",
       "    </tr>\n",
       "  </thead>\n",
       "  <tbody>\n",
       "    <tr>\n",
       "      <th>0</th>\n",
       "      <td>[rock]</td>\n",
       "      <td>525514</td>\n",
       "      <td>71</td>\n",
       "      <td>[GN1402, GN1401]</td>\n",
       "      <td>20130506</td>\n",
       "      <td>2200223</td>\n",
       "      <td>[734201]</td>\n",
       "      <td>Hey Little Girl</td>\n",
       "      <td>[The Sol]</td>\n",
       "      <td>22.387011</td>\n",
       "      <td>0.95</td>\n",
       "    </tr>\n",
       "    <tr>\n",
       "      <th>1</th>\n",
       "      <td>[rock]</td>\n",
       "      <td>129701</td>\n",
       "      <td>71</td>\n",
       "      <td>[GN0901, GN0902, GN1001]</td>\n",
       "      <td>20130917</td>\n",
       "      <td>2201802</td>\n",
       "      <td>[536907]</td>\n",
       "      <td>Octagon</td>\n",
       "      <td>[Royal Bangs]</td>\n",
       "      <td>13.747480</td>\n",
       "      <td>0.95</td>\n",
       "    </tr>\n",
       "    <tr>\n",
       "      <th>2</th>\n",
       "      <td>[rock]</td>\n",
       "      <td>383374</td>\n",
       "      <td>71</td>\n",
       "      <td>[GN1012, GN1005, GN1001]</td>\n",
       "      <td>19911021</td>\n",
       "      <td>2216938</td>\n",
       "      <td>[166978]</td>\n",
       "      <td>The Road</td>\n",
       "      <td>[Honeymoon Suite]</td>\n",
       "      <td>3.736842</td>\n",
       "      <td>0.90</td>\n",
       "    </tr>\n",
       "    <tr>\n",
       "      <th>3</th>\n",
       "      <td>[rock]</td>\n",
       "      <td>562083</td>\n",
       "      <td>71</td>\n",
       "      <td>[GN1013, GN0901, GN0902, GN1001]</td>\n",
       "      <td>20000919</td>\n",
       "      <td>43227</td>\n",
       "      <td>[19035]</td>\n",
       "      <td>Honeymoon</td>\n",
       "      <td>[Phoenix]</td>\n",
       "      <td>110.885322</td>\n",
       "      <td>0.95</td>\n",
       "    </tr>\n",
       "    <tr>\n",
       "      <th>4</th>\n",
       "      <td>[rock]</td>\n",
       "      <td>297861</td>\n",
       "      <td>71</td>\n",
       "      <td>[GN1013, GN0901, GN0902, GN1001]</td>\n",
       "      <td>20050306</td>\n",
       "      <td>303657</td>\n",
       "      <td>[170117]</td>\n",
       "      <td>High</td>\n",
       "      <td>[James Blunt]</td>\n",
       "      <td>133.406470</td>\n",
       "      <td>0.95</td>\n",
       "    </tr>\n",
       "  </tbody>\n",
       "</table>\n",
       "</div>"
      ],
      "text/plain": [
       "     tags  song_id  like_cnt                               gnr  issue_date  \\\n",
       "0  [rock]   525514        71                  [GN1402, GN1401]    20130506   \n",
       "1  [rock]   129701        71          [GN0901, GN0902, GN1001]    20130917   \n",
       "2  [rock]   383374        71          [GN1012, GN1005, GN1001]    19911021   \n",
       "3  [rock]   562083        71  [GN1013, GN0901, GN0902, GN1001]    20000919   \n",
       "4  [rock]   297861        71  [GN1013, GN0901, GN0902, GN1001]    20050306   \n",
       "\n",
       "   album_id artist_id_basket        song_name artist_name_basket  \\\n",
       "0   2200223         [734201]  Hey Little Girl          [The Sol]   \n",
       "1   2201802         [536907]          Octagon      [Royal Bangs]   \n",
       "2   2216938         [166978]         The Road  [Honeymoon Suite]   \n",
       "3     43227          [19035]        Honeymoon          [Phoenix]   \n",
       "4    303657         [170117]             High      [James Blunt]   \n",
       "\n",
       "   like_cnt_song weight  \n",
       "0      22.387011   0.95  \n",
       "1      13.747480   0.95  \n",
       "2       3.736842   0.90  \n",
       "3     110.885322   0.95  \n",
       "4     133.406470   0.95  "
      ]
     },
     "execution_count": 40,
     "metadata": {},
     "output_type": "execute_result"
    }
   ],
   "source": [
    "song_tag_appended = pd.merge(train_data_sample, song_data)\n",
    "song_tag_appended = song_tag_appended.astype({'song_id':'int64'})\n",
    "song_tag_appended.head()"
   ]
  },
  {
   "cell_type": "code",
   "execution_count": 41,
   "id": "c646e297",
   "metadata": {},
   "outputs": [
    {
     "name": "stdout",
     "output_type": "stream",
     "text": [
      "<class 'pandas.core.frame.DataFrame'>\n",
      "Int64Index: 52771 entries, 0 to 52770\n",
      "Data columns (total 11 columns):\n",
      " #   Column              Non-Null Count  Dtype   \n",
      "---  ------              --------------  -----   \n",
      " 0   tags                52771 non-null  object  \n",
      " 1   song_id             52771 non-null  int64   \n",
      " 2   like_cnt            52771 non-null  int64   \n",
      " 3   gnr                 52771 non-null  object  \n",
      " 4   issue_date          52771 non-null  int64   \n",
      " 5   album_id            52771 non-null  int64   \n",
      " 6   artist_id_basket    52771 non-null  object  \n",
      " 7   song_name           52771 non-null  object  \n",
      " 8   artist_name_basket  52771 non-null  object  \n",
      " 9   like_cnt_song       52771 non-null  float64 \n",
      " 10  weight              52771 non-null  category\n",
      "dtypes: category(1), float64(1), int64(4), object(5)\n",
      "memory usage: 4.5+ MB\n"
     ]
    }
   ],
   "source": [
    "song_tag_appended.info()"
   ]
  },
  {
   "cell_type": "markdown",
   "id": "4c740d7b",
   "metadata": {},
   "source": [
    "## Word2Vec 사용\n",
    "\n",
    "- 태그 리스트들을 word2vec로 학습시켜 태그 하나와 연관된 다른 태그들을 유추"
   ]
  },
  {
   "cell_type": "code",
   "execution_count": 42,
   "id": "bc470359",
   "metadata": {},
   "outputs": [],
   "source": [
    "#train_data_sample2 = train_data[500:1000].copy()\n",
    "train_data_sample2 = train_data_eng.copy()\n",
    "train_data_sample2 = train_data_sample2.reset_index(drop=True)\n",
    "#train_data_sample2 = train_data"
   ]
  },
  {
   "cell_type": "code",
   "execution_count": 43,
   "id": "3ab58103",
   "metadata": {},
   "outputs": [
    {
     "data": {
      "text/plain": [
       "(1261, 100)"
      ]
     },
     "execution_count": 43,
     "metadata": {},
     "output_type": "execute_result"
    }
   ],
   "source": [
    "from gensim.models.word2vec import Word2Vec\n",
    "\n",
    "w2v = Word2Vec(sentences = song_tag_appended['tags'], vector_size = 100, \n",
    "               window = 5, min_count = 15, workers = 4, sg = 1)\n",
    "\n",
    "w2v.wv.vectors.shape"
   ]
  },
  {
   "cell_type": "code",
   "execution_count": 44,
   "id": "4962276a",
   "metadata": {},
   "outputs": [],
   "source": [
    "#print(w2v.wv.most_similar('rock'))"
   ]
  },
  {
   "cell_type": "markdown",
   "id": "51ab2ee5",
   "metadata": {},
   "source": [
    "# 태그 불균형"
   ]
  },
  {
   "cell_type": "code",
   "execution_count": 45,
   "id": "c64d9647",
   "metadata": {},
   "outputs": [
    {
     "name": "stdout",
     "output_type": "stream",
     "text": [
      "{'rock': 1.67652578023417, 'memori': 1.1707480125245777, 'reminisc': 1.4567024548039638, 'cafe': 1.0173584872290058, 'windless': 0.8737230541608004, 'year': 2.743017850959889, 'end': 3.1555930891734247, 'snowi': 4.103156843867077, 'day': 1.1997817758025437, 'carol': 2.404565140307478, 'atmospher': 1.7280407642633546, 'warm': 2.515013403942153, 'christma': 2.981420759160735, 'winter': 1.6086032828473515, 'song': 0.7715073732420291, 'frozen': 5.628661844188093, 'danc': 1.451215679638763, 'work': 1.679550929270798, 'drive': 0.8330056889407261, 'pop': 0.8907386200596743, 'tropic': 3.2614790891279792, 'hous': 2.3729927834049116, 'heal': 0.916775014077703, 'mood': 0.6931471805599453, '2017': 5.416951104084733, 'trend': 3.722595803455539, 'elect': 2.3924775358505905, 'crush': 4.0232102626089645, 'type': 2.0192333706434855, 'sad': 1.6211563477611792, 'confess': 3.7040828435352857, 'love': 0.9993086975731912, 'farewel': 1.4858871396888964, 'electronica': 2.373830508776435, 'fork': 4.2402049425998705, 'metal': 3.889684438079644, 'indi': 1.343127128079923, 'lee': 3.3012445140292894, 'il': 6.55602049329494, 'woo': 4.028338996914885, 'essenti': 5.375467354307307, 'kpop': 3.1741512978277937, 'girl': 2.6477368633349814, 'group': 2.7404406008643045, 'stress': 1.3971394417386707, 'relief': 3.375856659183301, 'new': 1.5555835099494326, 'travel': 1.343127128079923, 'profil': 5.4602472336937575, 'music': 0.8209853835595476, 'kakaotalk': 5.4602472336937575, 'wish': 5.4602472336937575, 'hope': 4.67687990222832, 'promis': 5.4602472336937575, 'kakao': 5.4602472336937575, 'talk': 5.4602472336937575, 'listen': 2.4915442287426153, 'depress': 2.3313559271246564, 'cheer': 3.776430496524111, 'hip': 1.0676481644605846, 'hop': 1.094893289140725, 'feel': 2.117734316824886, 'night': 0.993072545480455, 'dawn': 0.9679836984738516, 'rnb': 2.451057133114542, 'sensual': 2.543238518970582, 'domest': 2.501244299082928, 'groov': 2.1932695084367606, 'autumn': 1.6758553350960474, 'jazz': 1.8577247185113932, 'emot': 0.7887577213175331, 'unbeaten': 5.831598641717015, 'want': 2.9290177171001517, 'know': 3.939954619323956, 'spring': 1.6761904756160777, 'flutter': 1.3738963437614942, 'raini': 1.4378238360876385, 'someon': 6.373983202386256, 'think': 5.655235524151172, 'sume': 5.505520589718728, 'list': 4.992791857443216, 'close': 6.491576736431309, 'ceremoni': 5.577557657214117, 'olymp': 6.491576736431309, 'exo': 3.9306168362593152, 'quiet': 2.777227445990324, 'alon': 2.8128161864214776, 'worri': 4.992791857443216, 'glass': 4.728234758018601, 'beer': 3.5121901544877066, 'ost': 2.040493980543702, 'acoust': 2.9663718782019246, 'comfort': 2.4810009033829585, 'energi': 4.370103989716975, 'duet': 3.682332333120206, 'sweet': 2.1189562192120968, 'featur': 3.5708709832128718, 'gender': 3.992997679618346, 'man': 3.7923864011224397, 'soup': 2.773211747492456, 'excit': 1.1597948837122338, 'gushwin': 6.00701606980168, 'john': 6.00701606980168, 'william': 6.00701606980168, 'rhapsodi': 6.00701606980168, 'blue': 4.246626082626656, 'american': 4.666923582263574, 'classic': 2.003798146074737, 'movi': 2.9274282826633575, 'morn': 2.424811376274742, 'big': 5.552959584921617, 'band': 3.296476807517232, 'fresh': 3.6787551154482943, 'bright': 5.769267517397803, 'jitterbug': 5.831598641717015, 'swing': 5.3959921726610744, 'rest': 0.8421789010183847, 'summer': 1.8914146377370822, 'store': 1.147114281927534, 'health': 5.190694406486241, 'sport': 4.9522526017213195, 'fit': 5.505520589718728, 'diet': 4.9522526017213195, 'run': 4.686938248963766, 'leg': 6.2201167076601385, 'pilat': 6.2201167076601385, 'walk': 1.9582949700579328, 'yoga': 4.086629693822787, 'ballad': 1.05082779692833, 'consol': 2.424811376274742, '80s': 3.8720377143453524, '90s': 3.1374025267449874, 'balad': 3.5303296995322153, 'old': 2.861619446559263, 'world': 3.4485184426383375, 'play': 3.788372379245916, 'club': 2.2198974055004705, 'weekend': 2.200013272260481, 'afternoon': 2.398499424199822, 'drowsi': 4.581591631503559, 'chillout': 5.20769446015598, 'turn': 6.268812152435704, 'go': 3.2546353814557287, 'chines': 5.4602472336937575, 'guangdong': 5.4602472336937575, 'hong': 5.4602472336937575, 'kong': 5.4602472336937575, 'taiwan': 5.4602472336937575, 'china': 5.141380550982163, 'midsum': 5.4602472336937575, 'favorit': 5.3163272868490274, 'track': 4.863680881139593, 'recommend': 2.0640661103173614, 'month': 6.55602049329494, 'hidden': 2.9101277244001436, 'europ': 5.224991814269922, 'air': 4.939101603475492, 'purif': 5.710616214234766, 'phytoncid': 5.710616214234766, 'perform': 2.2909664235141576, 'offic': 3.75298556952466, 'money': 3.3862717314454795, 'chastiti': 5.505520589718728, 'cold': 2.804475481715675, 'sleepi': 4.2995816184791416, 'romant': 2.9354037161971807, 'relationship': 3.4291321589937094, 'thumb': 3.689527392304791, 'sing': 2.43196996965672, 'hit': 3.9076616567063613, 'linah': 6.491576736431309, 'sunday': 5.552959584921617, 'stephani': 6.491576736431309, 'masterpiec': 2.079607640841417, 'time': 4.160378969951255, 'order': 6.491576736431309, 'cheon': 6.491576736431309, 'sang': 6.491576736431309, 'jihe': 6.491576736431309, 'dana': 6.491576736431309, 'help': 3.8334813165847335, 'read': 2.659386132387204, 'edmfloor': 4.221192310160369, 'edm': 2.8455353059572475, 'billow': 4.002963727251007, 'pub': 4.4073756921699, 'loung': 4.939101603475492, 'way': 2.383949715912671, 'home': 2.574551686451092, 'refin': 3.760736745127837, 'han': 3.4827129792273, 'river': 3.800465365002787, 'jet': 4.227488593507119, 'lab': 1.6298664509476548, 'beat': 2.4819539772129438, 'sexi': 4.782422737278749, 'moodi': 4.628078844300359, 'age': 1.9425823589626385, 'swim': 4.863680881139593, 'calm': 2.9354037161971807, 'noiseless': 5.9330974198749535, 'justic': 5.552959584921617, 'niel': 6.865796274674807, 'honey': 4.227488593507119, 'voic': 3.643704654757235, 'take': 5.739509157152502, 'vocal': 3.8676762878449447, 'cord': 5.739509157152502, 'bus': 3.323007158995902, 'introduct': 3.8334813165847335, 'trendi': 2.0901439849726553, 'jun': 3.722595803455539, 'radio': 3.7803945629497098, 'warmth': 4.422692366985833, 'cherri': 3.8419163413627153, 'blossom': 3.8419163413627153, 'takeealook': 4.888185134339691, 'playlist': 3.5550715255610257, 'youtub': 3.65408464646104, 'snarl': 4.888185134339691, 'cloudi': 5.094410671652114, '1990': 3.4626152026993893, '1990s': 4.184248819643235, 'natur': 4.320207417570284, 'mtv': 4.793628179314411, 'unplug': 6.2201167076601385, 'progress': 4.839771653478226, 'room': 4.888185134339691, 'cool': 2.664089925827876, 'ocean': 3.5804790024408804, 'rain': 2.9515699386615037, 'nausea': 4.67687990222832, 'mellow': 4.075766459614724, 'fatal': 4.581591631503559, 'adrenalin': 5.4602472336937575, 'shout': 5.4602472336937575, 'strong': 4.71774670879254, 'sound': 3.4346303208654363, 'exercis': 3.2016363528342384, 'rockisnotdead': 5.4602472336937575, 'femal': 2.736588844021729, 'idol': 2.184586839569201, 'singer': 2.6843695978465507, 'songwrit': 3.536454604859103, 'dwell': 4.306408441513695, 'mirror': 4.4540659363454385, 'bol': 4.666923582263574, 'sleep': 2.59608062319968, 'daili': 3.391523125321798, 'lullabi': 2.731479305627563, 'inner': 2.797584384042316, 'explos': 6.431046869909397, 'festiv': 3.700423056512257, 'dreami': 3.7843751454668872, 'electron': 4.828031344492028, 'hum': 6.373983202386256, 'shomi': 3.921368867846384, 'muzzl': 2.4455592619451525, 'kiriboy': 5.739509157152502, 'seen': 6.373983202386256, 'hard': 3.407456606810163, 'agreeabl': 3.1762366392245913, '100': 3.5212162913353806, 'jazzymood': 5.710616214234766, 'kid': 6.2201167076601385, 'fairi': 5.375467354307307, 'tale': 5.375467354307307, 'show': 3.9493839449377046, 'uk': 3.586939009266794, 'etc': 3.1434260622278565, '2016': 3.8251199397873306, 'melodi': 3.352839061407491, 'forest': 4.2402049425998705, 'camp': 3.30363757550077, 'suggest': 4.033495134436943, 'without': 6.2201167076601385, 'thought': 3.8941472875722547, 'anyth': 5.355359106915234, 'view': 5.035068653099816, 'vacat': 2.849893169972691, 'beach': 4.131345311587422, 'billboard': 3.0245870347515518, 'hot50': 4.286069987451115, 'punk': 4.875856798471178, 'maroon': 5.9330974198749535, 'larg': 5.9330974198749535, 'coldplay': 5.9330974198749535, 'blow': 5.9330974198749535, 'away': 5.9330974198749535, 'greenday': 5.9330974198749535, 'luxuri': 3.859012494365394, 'trebl': 3.992997679618346, 'lover': 3.107864938204858, 'rainwat': 6.373983202386256, 'lie': 5.552959584921617, 'hurt': 5.898100747737788, 'hymn': 7.066277342754196, 'seunghoon': 3.9831336328860987, 'oh': 3.5550715255610257, 'gz': 3.9831336328860987, 'power': 4.377445260665653, 'commut': 3.0053398884702194, 'ccm': 3.3156961987677542, 'soul': 1.8405975387365463, 'aftertast': 5.173981658952735, 'moon': 3.4346303208654363, 'fast': 3.9831336328860987, 'bit': 3.8676762878449447, 'fusion': 6.320010718456774, 'sympon': 6.268812152435704, '2000': 3.1374025267449874, '2000s': 3.741475610345784, 'top100': 4.272743446572258, 'scene': 4.415003986798875, 'happi': 2.810027221412149, 'chill': 4.494754899668641, 'hipster': 4.054399572506944, 'chil': 6.624918591526834, 'oversea': 3.033472601536838, 'ksks': 5.20769446015598, 'dinner': 2.3967744380903513, 'eye': 3.9831336328860987, 'lofi': 4.415003986798875, 'dope': 5.79994456420962, 'blackmus': 6.2201167076601385, 'hiphop': 2.111047646322912, 'labor': 3.2233509225233306, 'smash': 4.438253177066701, 'hoho': 5.710616214234766, 'dj': 4.71774670879254, 'steadili': 4.71774670879254, 'refresh': 3.033472601536838, 'juli': 5.577557657214117, 'june': 5.577557657214117, 'august': 5.577557657214117, 'bed': 3.760736745127837, 'good': 2.0663490083326663, 'hear': 2.4575170567709375, 'ballet': 6.046142108398678, 'modern': 6.046142108398678, 'rnbsoul': 4.728234758018601, 'before1970': 5.682539922276416, 'earlysoul': 6.2201167076601385, 'kim': 6.046142108398678, 'young': 5.355359106915234, 'hoo': 6.865796274674807, 'korean': 3.5426195347119545, 'concert': 4.581591631503559, 'hokl': 6.624918591526834, 'setlist': 4.17224044497067, 'newhopeclub': 6.624918591526834, 'instinct': 6.320010718456774, 'shut': 6.320010718456774, 'unstabl': 6.320010718456774, 'rapper': 3.9031357038291636, 'face': 6.491576736431309, 'option': 6.491576736431309, 'biwai': 6.491576736431309, '2010': 4.839771653478226, 'life': 3.764636066513183, 'hyun': 4.67687990222832, 'seop': 5.416951104084733, 'focus': 4.17224044497067, 'coffe': 2.5391487115168037, 'book': 4.137082848137584, 'citi': 4.1199712305501, 'picnic': 3.4885350106466984, 'thursday': 6.268812152435704, 'zone': 5.3959921726610744, 'drug': 5.682539922276416, 'record': 3.816830962105348, 'karoma': 4.70736946018325, 'dongyoon': 5.20769446015598, 'multimig': 5.577557657214117, 'style': 4.70736946018325, 'parti': 3.6132291973600976, 'futurebass': 6.173691402448198, 'futur': 4.863680881139593, 'base': 4.782422737278749, 'season': 3.0792516682757354, 'long': 3.0406441915997555, 'overslept': 6.129334341331103, 'regret': 5.094410671652114, 'insomnia': 3.4373915413977207, 'loneli': 4.0130338688638, 'techno': 4.666923582263574, 'hot': 3.41552626097802, 'holiday': 3.8764190622556565, 'famili': 3.8086131661586893, 'doomchi': 5.125474553708626, 'foreign': 2.860145198031894, 'itaewon': 6.491576736431309, 'rhythm': 3.992997679618346, 'fashion': 5.438362822604629, 'beauti': 5.528956564703407, 'shop': 4.341279577393723, 'coupl': 3.9352743941236845, 'artist': 5.224991814269922, 'musician': 5.094410671652114, 'parent': 6.373983202386256, 'tear': 3.479815424005913, 'mother': 6.373983202386256, 'best3': 4.939101603475492, 'fish': 4.939101603475492, 'shoe': 4.939101603475492, 'eve': 5.157546718879396, 'kazua': 5.157546718879396, 'one': 3.4943932986023256, 'shot': 5.157546718879396, 'fine': 5.020774197456111, 'dust': 5.020774197456111, 'dri': 6.268812152435704, 'heavi': 6.268812152435704, 'hi': 4.888185134339691, 'unfamiliar': 5.552959584921617, 'everyon': 5.552959584921617, 'hungheung': 5.552959584921617, 'highway': 5.528956564703407, 'piano': 2.215742834895399, 'orchestra': 5.602780915961821, 'solo': 3.18462559551118, '1980s': 6.320010718456774, 'stylish': 3.8676762878449447, 'uniqu': 3.7724828126582746, 'bts': 3.2167827267750098, 'titl': 3.973369556457012, 'gd': 6.778879697893808, 'singl': 4.049130882501263, 'vigor': 7.183965551233039, 'hippi': 7.183965551233039, 'grass': 7.183965551233039, 'wind': 4.1545022216205245, 'dew': 7.183965551233039, 'green': 7.183965551233039, 'pastur': 7.183965551233039, 'grassland': 5.864293834778875, 'shower': 5.29737352504333, 'groobi': 5.079237516899373, 'mongl': 5.969370407412693, 'sunlight': 3.8251199397873306, 'breez': 4.103156843867077, 'lizzo': 5.375467354307307, 'countri': 4.348406152939621, 'chart': 2.708847755311707, 'date': 3.1334087094381284, 'asmr': 4.9522526017213195, 'studi': 2.7125793150118658, 'white': 4.5030999200670525, 'nois': 5.141380550982163, 'comeback': 5.9330974198749535, 'war': 5.9330974198749535, 'mnet': 5.9330974198749535, 'queen': 5.9330974198749535, 'trot': 3.0588246628415625, 'agit': 3.749133465345197, 'indigo': 4.900669723545022, 'lead': 3.812713241300474, 'michul': 3.812713241300474, 'funki': 5.29737352504333, 'nectar': 4.184248819643235, 'insa': 3.9831336328860987, 'stevi': 6.173691402448198, 'funk': 5.655235524151172, 'extern': 6.698931781442676, 'outdoor': 4.446127560080405, 'sunni': 4.446127560080405, 'exam': 4.446127560080405, 'period': 4.446127560080405, 'call': 3.277647142283614, 'dreampop': 6.086869419398528, 'sugog': 6.086869419398528, 'dream': 3.75298556952466, 'experi': 6.086869419398528, 'senti': 5.3163272868490274, 'wjsn': 6.320010718456774, 'space': 6.320010718456774, 'spare': 3.3060368166001486, 'romanc': 4.233825960339563, 'desol': 4.075766459614724, 'may': 4.6473089602320945, 'week': 4.979092790459638, 'recent': 3.65408464646104, 'batteri': 5.628661844188093, 'popular': 2.805860159013913, 'playlist3': 5.969370407412693, 'jpop': 4.738835978182737, 'believ': 4.528570818570572, 'turmoil': 5.769267517397803, 'tast': 4.142854575108008, 'short': 6.624918591526834, 'shallow': 6.624918591526834, 'knowledg': 6.624918591526834, 'tea': 4.875856798471178, 'lone': 3.1494894134848477, 'develop': 5.710616214234766, 'babi': 5.035068653099816, 'mobil': 5.969370407412693, 'zekski': 6.046142108398678, 'duffo': 6.624918591526834, 'ryuichi': 6.624918591526834, 'saka': 6.624918591526834, 'moto': 6.624918591526834, 'yun': 6.624918591526834, 'kwang': 6.624918591526834, 'min': 6.624918591526834, 'park': 3.3303760218252054, 'ji': 4.965581384669421, 'yiruma': 6.624918591526834, 'baijun': 6.624918591526834, 'would': 5.3959921726610744, 'imag': 5.3959921726610744, 'tho': 5.3959921726610744, 'masculin': 6.2201167076601385, 'lonesom': 3.4769267710345453, 'roll': 5.355359106915234, 'rocken': 6.268812152435704, 'hall': 6.268812152435704, 'fame': 6.268812152435704, 'updat': 4.348406152939621, 'sex': 4.979092790459638, 'instrument': 6.373983202386256, 'eleg': 6.373983202386256, 'male': 3.355368707215002, 'rise': 5.079237516899373, 'star': 4.0130338688638, 'sorrow': 4.965581384669421, 'medit': 3.4885350106466984, 'art': 4.446127560080405, 'galleri': 4.70736946018325, 'heat': 3.4569510732439936, 'background': 3.2660698195048106, 'karaok': 3.0424459687788885, 'feat': 4.67687990222832, 'concentr': 2.998441078822078, 'prenat': 3.1783267188746764, 'children': 4.628078844300359, 'wrap': 4.628078844300359, 'relax': 4.166291566627833, 'therapi': 4.438253177066701, 'saturday': 6.491576736431309, 'name': 6.491576736431309, 'addict': 3.479815424005913, 'haze': 5.505520589718728, 'peopl': 5.552959584921617, 'sora': 5.552959584921617, 'ami': 6.268812152435704, 'ramen': 6.268812152435704, 'best': 4.075766459614724, 'nice': 6.778879697893808, 'tire': 3.749133465345197, 'sensibl': 2.8003343907015026, 'youth': 4.939101603475492, 'cider': 5.079237516899373, 'sour': 5.3959921726610744, 'tension': 5.3959921726610744, 'bgm': 3.5999928556215073, 'uspop': 4.749552816484542, 'gym': 4.939101603475492, 'boy': 3.7151473809345466, 'jade': 5.655235524151172, 'mani': 5.0642939480179505, 'grain': 5.898100747737788, 'pleas': 5.898100747737788, 'like': 3.630038954091003, 'prohibit': 5.173981658952735, 'trip': 5.9330974198749535, 'sky': 4.430441775399953, 'advertis': 4.17224044497067, 'fall': 5.438362822604629, 'york': 5.157546718879396, 'drum': 6.2201167076601385, 'thrash': 7.066277342754196, 'fantast': 7.066277342754196, 'vehem': 7.066277342754196, 'speed': 6.2201167076601385, 'must': 3.9831336328860987, 'heard': 3.2569110014273805, '1960': 3.6575700164613796, 'least': 3.9831336328860987, 'octagon': 7.183965551233039, 'matiss': 7.183965551233039, 'sadko': 7.183965551233039, 'jazi': 6.491576736431309, 'monday': 3.4209449292304153, 'diseas': 3.661068224696522, 'timbr': 3.6199173703303784, 'martial': 5.898100747737788, 'infinit': 6.491576736431309, 'challeng': 7.471457942348895, 'label': 4.851653686999332, 'crew': 5.769267517397803, 'swag': 5.278775816279395, 'aomg': 4.939101603475492, 'hilit': 5.769267517397803, 'game': 6.778879697893808, 'nexon': 6.778879697893808, 'need': 6.778879697893808, 'needforspe': 6.778879697893808, 'forc': 6.778879697893808, 'feed': 6.778879697893808, 'edg': 6.778879697893808, 'americano': 4.097616357615593, 'lyric': 2.954838313289399, 'clear': 4.097616357615593, 'wake': 4.097616357615593, 'breakfast': 3.9979678239987857, 'carbun': 5.739509157152502, '8090': 5.769267517397803, 'household': 5.769267517397803, 'machin': 6.778879697893808, 'tr808': 6.778879697893808, 'remix': 4.926123741534156, 'hybrid': 6.778879697893808, 'black': 3.6165673835626992, 'album': 5.278775816279395, 'settlement': 4.334204751568998, 'hyo': 4.511516752679189, 'jae': 3.277647142283614, 'school': 4.4540659363454385, 'thumbnest': 6.086869419398528, 'leav': 3.6859230587603338, 'flower': 4.21493658848954, 'sympathi': 3.889684438079644, 'librari': 4.049130882501263, '10th': 4.286069987451115, 'fond': 6.961011645282569, 'enjoy': 6.431046869909397, 'pil': 6.778879697893808, 'win': 6.778879697893808, 'amuronami': 5.628661844188093, 'restaur': 6.320010718456774, 'bar': 6.320010718456774, 'uncommon': 4.738835978182737, 'chic': 4.738835978182737, 'patch': 5.628661844188093, 'sat': 5.125474553708626, 'ban': 5.628661844188093, 'jayj': 3.9979678239987857, 'moti': 5.9330974198749535, 'kshmr': 5.9330974198749535, 'umf': 5.9330974198749535, 'dvbbs': 5.9330974198749535, 'martingarrix': 5.9330974198749535, 'drumhead': 5.682539922276416, 'great': 3.6065879044970557, 'edit': 4.782422737278749, 'model': 5.769267517397803, 'runway': 5.769267517397803, 'mtvema': 5.0642939480179505, 'tokodak': 4.939101603475492, 'sensi': 3.2660698195048106, 'cri': 4.728234758018601, 'origin': 4.926123741534156, 'comparison': 4.926123741534156, 'phantom': 4.926123741534156, 'examine': 6.046142108398678, 'posit': 6.046142108398678, 'test': 5.242596993861347, 'sniper': 6.268812152435704, 'toray': 5.710616214234766, 'ralalra': 4.939101603475492, 'neat': 4.392295696605091, 'cozi': 3.6266530727347446, 'sack': 4.286069987451115, 'respond': 4.227488593507119, 'retro': 3.63684719793403, 'generat': 4.581591631503559, '30s': 4.348406152939621, 'teenag': 4.581591631503559, 'affect': 6.173691402448198, 'standard': 5.864293834778875, 'webzin': 5.710616214234766, 'wave': 6.55602049329494, 'weiv': 6.55602049329494, 'choic': 5.710616214234766, 'neweast': 6.173691402448198, 'reveal': 5.552959584921617, 'row': 4.415003986798875, 'goghil': 6.624918591526834, 'centuri': 6.624918591526834, 'hifi': 6.2201167076601385, 'guid': 6.2201167076601385, 'hoon': 6.2201167076601385, 'escap': 5.9330974198749535, 'korea': 3.7188643124716627, '2019': 5.9330974198749535, 'pephal': 5.9330974198749535, 'halloween': 5.109820531913426, 'rooftop': 4.939101603475492, 'upload': 6.268812152435704, 'shin': 6.55602049329494, 'swelter': 3.722595803455539, 'collect': 3.7151473809345466, 'hottest': 4.913314547447765, 'mushroom': 6.046142108398678, 'stupid': 5.416951104084733, 'japanes': 6.046142108398678, 'japan': 5.739509157152502, 'famous': 4.184248819643235, 'high': 4.184248819643235, 'car': 3.75298556952466, 'tapgol': 5.157546718879396, 'dean': 6.320010718456774, 'sikki': 6.320010718456774, 'hardcor': 5.710616214234766, 'disco': 4.59071435020336, 'spot': 3.675191306904701, 'light': 4.148660896030253, 'pound': 4.148660896030253, 'eardrum': 4.17224044497067, 'girlfriend': 4.438253177066701, 'cock': 4.70736946018325, 'grammi': 5.769267517397803, 'aword': 5.769267517397803, '61': 5.769267517397803, 'gaspel': 5.769267517397803, 'motown': 5.9330974198749535, 'motiv': 5.9330974198749535, 'stimulus': 3.6402697314104424, 'janghe': 3.9831336328860987, 'still': 6.173691402448198, 'rhcp': 6.173691402448198, 'pain': 5.20769446015598, 'sceneri': 5.416951104084733, 'drama': 2.867540928172376, 'window': 4.609218583928977, 'worship': 4.77134354104243, 'father': 4.863680881139593, 'prais': 4.863680881139593, 'jesus': 4.863680881139593, 'favor': 4.863680881139593, '000': 4.2995816184791416, 'melon': 4.028338996914885, 'overwhelm': 4.70736946018325, 'dolmen': 4.528570818570572, 'melpocam': 4.979092790459638, 'rice': 5.109820531913426, 'cake': 5.109820531913426, '2020': 4.839771653478226, 'rooki': 5.125474553708626, 'start': 4.160378969951255, 'depart': 5.602780915961821, 'seed': 6.698931781442676, 'jam': 6.698931781442676, 'melanchol': 5.3959921726610744, 'bedroom': 5.3959921726610744, 'beefrey': 6.778879697893808, 'nod': 6.491576736431309, 'mom': 6.2201167076601385, 'impress': 5.552959584921617, 'pregnant': 6.2201167076601385, 'woman': 6.2201167076601385, 'tone': 4.0130338688638, 'well': 4.9522526017213195, 'dole': 5.438362822604629, 'soft': 3.8419163413627153, 'inquiri': 6.491576736431309, 'explor': 6.491576736431309, 'tranquil': 3.756853288039917, 'femin': 5.602780915961821, 'somnam': 5.505520589718728, 'sumyeo': 5.505520589718728, 'someth': 5.505520589718728, 'clint': 6.961011645282569, 'eastwood': 6.961011645282569, 'film': 5.655235524151172, 'director': 5.655235524151172, 'birthday': 6.373983202386256, 'ahn': 3.796417349624942, 'reddish': 5.20769446015598, 'zoo': 5.655235524151172, 'jersey': 5.655235524151172, 'answer': 6.373983202386256, 'kesha': 6.698931781442676, 'duk': 5.552959584921617, 'ho': 3.8251199397873306, 'hwang': 5.552959584921617, 'wonder': 5.552959584921617, 'remind': 6.046142108398678, 'genr': 4.054399572506944, 'beast': 6.961011645282569, 'jessglynn': 6.431046869909397, 'jesslin': 6.431046869909397, 'bottl': 6.086869419398528, 'subway': 4.926123741534156, 'sunset': 5.125474553708626, 'final': 4.208720916561547, 'gal': 4.992791857443216, 'ryong': 4.992791857443216, 'empti': 4.59071435020336, 'ga': 4.6473089602320945, 'trose': 6.320010718456774, 'jung': 3.7843751454668872, 'mi': 4.6473089602320945, 'ae': 3.968524389021068, 'weather': 5.3959921726610744, 'part': 4.563597158762613, 'randb': 5.628661844188093, 'pbrandb': 7.183965551233039, 'visg': 5.9330974198749535, 'legend': 5.355359106915234, 'jackson': 5.9330974198749535, 'five': 5.9330974198749535, '70': 5.3959921726610744, 'osmond': 5.9330974198749535, 'carpent': 5.9330974198749535, 'landscap': 4.760387800362854, 'number': 5.260521092944319, 'ye': 5.3959921726610744, 'eun': 5.3959921726610744, 'witch': 6.961011645282569, 'hongyeon': 6.961011645282569, 'sister': 6.961011645282569, 'urban': 5.355359106915234, 'alter': 5.864293834778875, 'contemporari': 5.20769446015598, 'altern': 4.415003986798875, 'latest': 4.55472239872029, 'poplock': 5.739509157152502, 'poprock': 5.739509157152502, 'first': 3.973369556457012, 'twice': 6.961011645282569, 'lofihiphop': 5.9330974198749535, 'jinglebel': 6.624918591526834, 'merri': 6.624918591526834, 'carolsong': 6.624918591526834, 'thump': 5.260521092944319, 'convers': 5.3959921726610744, 'okay': 5.173981658952735, 'break': 5.375467354307307, 'sensit': 4.59071435020336, 'alum': 3.9831336328860987, 'biggi': 6.431046869909397, '2pac': 6.431046869909397, 'robot': 6.320010718456774, 'era': 4.0232102626089645, '7080': 5.141380550982163, 'univers': 4.190309222906222, 'chanson': 4.67687990222832, 'franc': 4.965581384669421, 'kanson': 5.29737352504333, 'itali': 4.979092790459638, 'introductori': 4.965581384669421, 'usa': 4.965581384669421, 'broadcast': 5.831598641717015, 'heart': 5.0642939480179505, 'signal': 5.157546718879396, 'lot': 5.141380550982163, 'exot': 6.373983202386256, 'bride': 6.086869419398528, 'wed': 6.086869419398528, 'anthem': 4.666923582263574, 'rhyme': 6.129334341331103, 'bicycl': 3.8941472875722547, 'train': 6.320010718456774, 'request': 6.046142108398678, '1970': 5.577557657214117, '80': 5.577557657214117, 'analog': 6.046142108398678, 'steadi': 4.9522526017213195, 'opera': 6.268812152435704, 'aria': 6.268812152435704, 'verdi': 6.268812152435704, 'chorus': 5.831598641717015, 'compos': 6.268812152435704, 'remak': 6.086869419398528, 'move': 6.086869419398528, 'sean': 6.046142108398678, 'mend': 6.046142108398678, 'bangkok': 4.70736946018325, 'lassitud': 5.602780915961821, 'nostalg': 5.602780915961821, 'raphiphop': 4.697100715560901, 'pretend': 6.778879697893808, 'tri': 6.778879697893808, 'process': 6.778879697893808, 'find': 6.778879697893808, 'real': 6.778879697893808, 'duo': 5.355359106915234, 'ball': 4.965581384669421, 'eltonjohn': 6.778879697893808, 'elton': 6.778879697893808, 'fleet': 7.066277342754196, 'pink': 5.898100747737788, 'competit': 6.491576736431309, 'violin': 3.9167780374633767, 'artur': 6.491576736431309, 'grue': 6.491576736431309, 'mio': 6.491576736431309, 'arthurgrumiaux': 6.491576736431309, 'player': 6.491576736431309, 'fiddler': 6.491576736431309, 'unparress': 6.491576736431309, 'throat': 6.086869419398528, 'sweat': 6.086869419398528, 'synthpop': 5.4826255849859, 'marriag': 4.628078844300359, 'propos': 4.628078844300359, 'fli': 7.183965551233039, 'come': 7.183965551233039, 'back': 6.320010718456774, 'mytholog': 7.066277342754196, 'koda': 4.142854575108008, 'line': 4.142854575108008, 'paepu': 4.142854575108008, '21': 4.142854575108008, 'sevic': 4.142854575108008, 'diplo': 4.142854575108008, 'french': 3.8764190622556565, 'montana': 4.142854575108008, 'kaigo': 3.5613596402874004, 'gift': 4.926123741534156, 'sum': 5.224991814269922, 'beginn': 5.224991814269922, 'songgain': 5.224991814269922, 'fan': 4.59071435020336, 'tackl': 4.246626082626656, 'select': 3.8676762878449447, 'disord': 6.046142108398678, 'rap': 3.9306168362593152, 'bold': 5.505520589718728, 'friend': 4.851653686999332, 'graduat': 5.79994456420962, 'friendship': 5.79994456420962, 'trap': 3.8547097808440225, 'ride': 6.320010718456774, 'riphip': 5.094410671652114, 'ici': 5.173981658952735, 'glee': 6.491576736431309, 'mid': 6.491576736431309, 'gley': 6.491576736431309, 'share': 6.320010718456774, 'togeth': 4.494754899668641, 'keep': 6.320010718456774, 'concerto': 6.961011645282569, 'mind': 4.875856798471178, 'flow': 6.624918591526834, 'lunch': 6.624918591526834, 'lazi': 5.079237516899373, 'thank': 4.760387800362854, 'today': 4.47013883995588, 'belov': 5.079237516899373, 'dark': 4.4620693423474185, 'insid': 5.079237516899373, 'chestnut': 5.079237516899373, 'remain': 4.47013883995588, 'damsonn': 5.969370407412693, 'workshop': 5.969370407412693, 'proud': 6.046142108398678, 'finish': 6.046142108398678, 'various': 6.046142108398678, 'sugarman': 6.373983202386256, 'yonsama': 6.373983202386256, 'yujin': 6.373983202386256, 'revers': 6.373983202386256, 'sonata': 6.373983202386256, 'gumi': 6.373983202386256, 'gaiden': 6.373983202386256, 'forgotten': 6.373983202386256, 'rough': 5.864293834778875, 'ncs': 5.864293834778875, 'iu': 4.563597158762613, 'yan': 5.710616214234766, 'butterfli': 5.710616214234766, 'baek': 5.242596993861347, 'yerin': 5.710616214234766, 'british': 4.828031344492028, 'dizzi': 5.628661844188093, 'hazi': 5.628661844188093, 'valentin': 4.965581384669421, 'frankocean': 6.624918591526834, 'peac': 6.624918591526834, 'courag': 5.260521092944319, 'gaya': 4.392295696605091, 'decad': 4.657067258461003, 'vanz': 6.268812152435704, 'myeonggokannali': 5.173981658952735, 'goal': 5.438362822604629, 'decemb': 4.828031344492028, 'journey': 5.3959921726610744, 'video': 5.3959921726610744, '2015': 6.173691402448198, 'fallen': 4.166291566627833, 'haha': 5.224991814269922, 'treadmil': 6.129334341331103, 'bizarr': 6.00701606980168, 'stori': 6.00701606980168, 'strang': 6.00701606980168, 'mainland': 3.9831336328860987, 'ropay': 6.268812152435704, 'pipnink': 6.55602049329494, 'georgeclinton': 6.55602049329494, 'georg': 6.55602049329494, 'clinton': 6.55602049329494, 'fengcadel': 6.55602049329494, 'seller': 6.55602049329494, 'bosannova': 5.628661844188093, 'brazil': 5.628661844188093, 'pretti': 5.831598641717015, 'attract': 3.6165673835626992, 'whitney': 6.865796274674807, 'houston': 6.865796274674807, 'street': 6.865796274674807, 'oldpop': 6.865796274674807, 'groovi': 5.260521092944319, 'psycho': 5.682539922276416, 'abamax': 5.682539922276416, 'david': 4.760387800362854, 'bowi': 4.760387800362854, 'composit': 3.6334369674752938, 'rememb': 5.628661844188093, 'red': 5.628661844188093, 'umbrella': 5.628661844188093, 'honbab': 6.268812152435704, 'pleasant': 5.224991814269922, 'hustl': 3.9167780374633767, 'harp': 5.4826255849859, 'repres': 4.528570818570572, 'dine': 5.655235524151172, 'float': 4.320207417570284, 'thanksgiv': 5.260521092944319, 'februari': 5.355359106915234, 'live': 4.697100715560901, 'comfi': 5.628661844188093, 'burn': 6.865796274674807, 'friday': 5.655235524151172, '2018': 4.863680881139593, 'aoa': 6.268812152435704, 'novemb': 6.491576736431309, 'shake': 4.166291566627833, 'wall': 6.046142108398678, 'toefl': 6.129334341331103, 'toeic': 6.129334341331103, 'magnific': 5.602780915961821, 'compani': 5.079237516899373, 'anger': 5.355359106915234, 'angri': 6.046142108398678, 'gangcit': 4.686938248963766, 'midnight': 6.268812152435704, 'padam': 5.898100747737788, 'tokidoki': 5.898100747737788, 'anchor': 4.341279577393723, 'xmas': 5.4602472336937575, 'sentiment': 5.094410671652114, 'chang': 4.59071435020336, 'induct': 4.47013883995588, 'dudum': 4.47013883995588, 'audio': 5.655235524151172, 'playback': 4.67687990222832, 'aizu': 5.655235524151172, 'plassi': 5.655235524151172, 'full': 4.67687990222832, 'self': 5.3959921726610744, 'superstar': 5.3959921726610744, 'eumstagram': 5.769267517397803, 'hipstargram': 5.769267517397803, 'hillsong': 7.183965551233039, 'hilsong': 7.183965551233039, 'australia': 7.183965551233039, 'alcohol': 5.4602472336937575, 'fabric': 5.628661844188093, 'fc': 6.778879697893808, 'seoul': 6.778879697893808, 'soccer': 6.778879697893808, 'leagu': 6.778879697893808, 'gallop': 5.4602472336937575, 'jump': 6.268812152435704, 'tv': 3.5582103505032605, 'histori': 4.581591631503559, 'lap': 6.046142108398678, 'produc': 5.4602472336937575, 'futurernb': 6.2201167076601385, 'shibuya': 6.2201167076601385, 'kei': 6.2201167076601385, 'strength': 5.864293834778875, 'littl': 5.898100747737788, 'differ': 4.47013883995588, 'ambl': 4.21493658848954, 'lilersman': 4.21493658848954, 'coin': 4.828031344492028, 'exodium': 5.710616214234766, 'meet': 5.552959584921617, 'class': 5.020774197456111, 'drink': 6.268812152435704, 'enemi': 5.969370407412693, 'snot': 5.969370407412693, 'sick': 5.969370407412693, 'undisturb': 5.969370407412693, 'unit': 5.190694406486241, 'collabor': 5.190694406486241, 'stilli': 6.55602049329494, 'dan': 6.55602049329494, 'steelydan': 6.55602049329494, 'mysteri': 4.9522526017213195, 'occult': 4.9522526017213195, 'snow': 4.272743446572258, 'clean': 6.698931781442676, 'offici': 3.8547097808440225, 'em': 3.9831336328860987, 'eminem': 3.9831336328860987, 'rapgod': 3.9831336328860987, 'snap': 4.108729241224406, 'box': 5.079237516899373, 'care': 4.362817581177913, 'center': 4.362817581177913, 'nap': 4.08118281878897, 'kindergarden': 5.278775816279395, 'detail': 6.129334341331103, 'lord': 5.710616214234766, 'prayer': 5.710616214234766, 'wine': 4.422692366985833, 'whiskey': 5.79994456420962, 'izm': 6.268812152435704, 'mountain': 3.9831336328860987, 'villag': 3.9831336328860987, 'tvn': 3.9831336328860987, 'insert': 3.9831336328860987, 'three': 3.9831336328860987, 'meal': 3.9831336328860987, 'flood': 5.9330974198749535, 'ladygaga': 6.624918591526834, 'ladi': 6.624918591526834, 'gaga': 6.624918591526834, '2030': 5.0642939480179505, 'dprlive': 5.769267517397803, 'dipperl': 5.769267517397803, 'rm': 3.9831336328860987, 'namjun': 3.9831336328860987, 'leisur': 5.4602472336937575, 'deep': 3.327913245886211, 'lexi': 5.094410671652114, 'uhm': 5.094410671652114, 'hwa': 5.094410671652114, 'diva': 4.738835978182737, 'ri': 4.828031344492028, 'stern': 5.094410671652114, 'releas': 6.173691402448198, 'hellboy': 6.865796274674807, 'osaka': 6.320010718456774, 'flight': 6.268812152435704, '2010s': 5.173981658952735, 'winebar': 6.961011645282569, 'caster': 6.046142108398678, 'rosalia': 4.348406152939621, 'march': 4.348406152939621, 'kang': 4.348406152939621, 'daniel': 4.348406152939621, 'up': 4.348406152939621, 'down': 4.348406152939621, 'child': 4.348406152939621, 'diachegampino': 4.348406152939621, 'drop': 6.320010718456774, 'ana': 6.320010718456774, 'gather': 5.141380550982163, 'hee': 4.108729241224406, 'seung': 3.749133465345197, 'chilhyun': 4.108729241224406, 'jang': 3.850426295566663, 'hyuk': 4.108729241224406, 'safe': 6.55602049329494, 'sweetmind': 6.086869419398528, 'drunken': 5.655235524151172, 'mow': 5.831598641717015, 'pick': 6.373983202386256, 'choir': 6.865796274674807, 'version': 6.129334341331103, 'albi': 4.979092790459638, 'pianosolo': 6.129334341331103, 'goldman': 6.2201167076601385, 'jeanjacqu': 6.2201167076601385, 'zhang': 6.2201167076601385, 'jacqu': 6.2201167076601385, 'gamsung': 4.511516752679189, 'lilnasx': 5.3959921726610744, 'small': 5.655235524151172, 'flavor': 5.655235524151172, 'heaven': 5.655235524151172, 'boyfriend': 4.511516752679189, 'outing': 5.3163272868490274, 'harl': 5.278775816279395, 'breakup': 5.079237516899373, '14th': 6.046142108398678, 'chocol': 6.046142108398678, 'punkki': 5.655235524151172, 'head': 5.242596993861347, 'pumpkin': 5.242596993861347, 'siguar': 5.242596993861347, 'ross': 5.242596993861347, 'sued': 5.242596993861347, 'cranberri': 5.242596993861347, 'scrabin': 5.739509157152502, 'procofiev': 5.739509157152502, 'russian': 5.739509157152502, 'rachmaninov': 5.739509157152502, 'russia': 5.739509157152502, 'fill': 5.682539922276416, 'netflix': 5.769267517397803, 'soundtrack': 7.066277342754196, 'bandersnatch': 7.066277342754196, 'vander': 7.066277342754196, 'narcissus': 7.066277342754196, 'underground': 6.173691402448198, 'gangster': 6.865796274674807, 'readm': 6.865796274674807, 'hotel': 4.657067258461003, 'mix': 4.793628179314411, 'formul': 3.9831336328860987, 'day6': 3.9831336328860987, 'six': 3.9831336328860987, 'jay': 3.9831336328860987, 'je': 3.9831336328860987, 'hyung': 3.9831336328860987, 'choi': 4.657067258461003, 'april': 6.268812152435704, 'kyuhyun': 5.109820531913426, 'harmonica': 5.969370407412693, 'joy': 4.494754899668641, 'cappella': 6.129334341331103, 'realslow': 6.865796274674807, 'hapjeong': 6.268812152435704, 'station': 6.268812152435704, 'exit': 6.268812152435704, 'pompo': 6.268812152435704, 'oil': 6.268812152435704, 'yoo': 6.268812152435704, 'suk': 6.268812152435704, 'lacticid': 6.268812152435704, 'knew': 5.831598641717015, 'octob': 5.831598641717015, 'popsong': 5.4602472336937575, 'mr': 8.164320533427244, 'bigbangtheori': 8.164320533427244, 'bigc': 8.164320533427244, 'bang': 5.864293834778875, 'theori': 8.164320533427244, 'theme': 8.164320533427244, 'sm': 4.086629693822787, 'entertain': 3.859012494365394, 'smtown': 4.086629693822787, 'brunch': 6.320010718456774, 'jog': 6.320010718456774, 'four': 6.173691402448198, 'chopin': 6.173691402448198, 'mozart': 6.173691402448198, 'string': 6.173691402448198, 'hayden': 6.173691402448198, 'vivaldi': 6.173691402448198, 'visibl': 6.173691402448198, 'boredom': 6.320010718456774, 'synth': 5.29737352504333, 'nudi': 5.29737352504333, 'sko': 5.29737352504333, 'round': 5.416951104084733, 'abil': 5.416951104084733, 'compass': 3.7803945629497098, 'actor': 5.416951104084733, 'talent': 5.416951104084733, 'crossov': 4.738835978182737, 'fierc': 3.992997679618346, 'vacuiti': 3.992997679618346, 'ontherecord': 6.2201167076601385, 'yoon': 4.70736946018325, 'ha': 5.505520589718728, 'portrait': 5.278775816279395, 'kono': 5.278775816279395, 'shaday': 5.9330974198749535, 'sade': 5.9330974198749535, 'allur': 5.9330974198749535, 'vocalist': 5.9330974198749535, 'letter': 6.373983202386256, 'flame': 6.00701606980168, 'ghost': 6.624918591526834, 'creepi': 6.624918591526834, 'horror': 6.624918591526834, 'chi': 6.624918591526834, 'fear': 6.624918591526834, 'sunshin': 6.431046869909397, 'bum': 5.125474553708626, 'tomorrow': 5.125474553708626, 'bai': 5.125474553708626, 'prejud': 6.491576736431309, 'x1': 6.961011645282569, 'refer': 6.373983202386256, 'bay': 6.373983202386256, 'niki': 4.666923582263574, 'bo': 6.173691402448198, 'gum': 6.173691402448198, 'repli': 6.173691402448198, '1988': 6.173691402448198, '1970s': 6.268812152435704, '1960s': 6.268812152435704, '1950': 5.864293834778875, '60': 5.864293834778875, 'elvi': 5.864293834778875, 'presley': 5.864293834778875, 'rocker': 5.864293834778875, 'billi': 5.864293834778875, 'sun': 5.864293834778875, 'unlimit': 6.2201167076601385, 'aceofbas': 6.2201167076601385, 'euro': 6.2201167076601385, 'eurod': 6.2201167076601385, 'sci': 6.129334341331103, 'fi': 6.129334341331103, 'interstellar': 6.129334341331103, 'scienc': 6.129334341331103, 'avant': 6.129334341331103, 'gard': 6.129334341331103, 'experiment': 6.129334341331103, 'sf': 6.129334341331103, 'bius': 6.961011645282569, 'strip': 6.961011645282569, 'repeat': 6.961011645282569, 'earl': 5.9330974198749535, 'highlight': 5.9330974198749535, 'jewish': 5.9330974198749535, 'electropop': 5.416951104084733, 'haveaniceday': 5.739509157152502, 'women': 3.7923864011224397, 'novel': 5.125474553708626, 'heungnam': 6.086869419398528, 'minor': 5.969370407412693, 'plan': 6.129334341331103, 'job': 4.8049627530616315, 'hyori': 5.141380550982163, 'nemin': 5.141380550982163, 'cure': 6.268812152435704, 'folk': 6.268812152435704, 'ordinari': 5.655235524151172, 'azur': 6.00701606980168, 'event': 5.831598641717015, 'honeymoon': 5.831598641717015, 'sympathet': 5.769267517397803, 'tradit': 5.29737352504333, 'fade': 6.778879697893808, 'aezan': 6.778879697893808, 'tempo': 4.233825960339563, 'use': 5.278775816279395, 'earli': 5.278775816279395, 'norimir': 5.278775816279395, 'terror': 5.278775816279395, 'jacket': 5.278775816279395, 'southern': 5.278775816279395, 'hiphopl': 5.831598641717015, 'let': 3.9979678239987857, 'toll': 6.698931781442676, 'teen': 6.698931781442676, 'put': 6.00701606980168, 'nasal': 6.00701606980168, 'hole': 6.00701606980168, 'burnto': 6.00701606980168, 'hwan': 4.913314547447765, 'deluna': 4.913314547447765, 'alba': 3.9831336328860987, 'mine': 3.9831336328860987, 'alternativerock': 5.4602472336937575, 'genius': 5.4602472336937575, 'fragranc': 6.55602049329494, 'bebop': 6.431046869909397, 'pure': 6.961011645282569, 'leaf': 5.9330974198749535, 'seam': 5.710616214234766, 'castl': 6.268812152435704, 'binari': 6.268812152435704, 'ok': 6.268812152435704, 'joo': 6.268812152435704, 'standi': 5.355359106915234, 'fm4u': 4.875856798471178, 'mbc': 4.875856798471178, '200312': 4.875856798471178, 'heroic': 5.969370407412693, 'lose': 5.969370407412693, 'myeong': 6.320010718456774, 'buddhist': 6.320010718456774, 'gentleman': 6.320010718456774, 'task': 3.9831336328860987, 'hem': 3.9831336328860987, 'ham': 3.9831336328860987, 'subscrib': 3.9831336328860987, 'longest': 6.320010718456774, 'seok': 5.969370407412693, 'caribbean': 6.624918591526834, 'somewher': 6.624918591526834, 'familiar': 6.624918591526834, 'tired': 5.552959584921617, 'shift': 5.552959584921617, 'neverland': 3.9831336328860987, 'zigzagnot': 3.9831336328860987, 'zigzag': 3.9831336328860987}\n"
     ]
    }
   ],
   "source": [
    "def make_song_num_dict(data):\n",
    "    song_ids = dict()\n",
    "    song_num = dict()\n",
    "    max_num = 0\n",
    "    \n",
    "    for i in range(len(data)):\n",
    "        songs = data['song_id'][i]\n",
    "        tags = data['tags'][i]\n",
    "        \n",
    "        for j in tags:\n",
    "            if not j in song_ids:\n",
    "                song_ids[j] = set(songs)\n",
    "            \n",
    "            else:\n",
    "                song_ids[j].update(songs)\n",
    "    \n",
    "    for i in song_ids:\n",
    "        song_num[i] = len(song_ids[i])\n",
    "        \n",
    "        max_num = max(song_num[i], max_num)\n",
    "    \n",
    "    return song_num, max_num\n",
    "\n",
    "song_num_dict, song_num_max = make_song_num_dict(train_data_sample2)\n",
    "tag_weights = {tag: np.log(song_num_max / cnt + 1) for tag, cnt in song_num_dict.items()}\n",
    "print(tag_weights)\n"
   ]
  },
  {
   "cell_type": "markdown",
   "id": "80711232",
   "metadata": {},
   "source": [
    "### 각 음악의 태그 평균 벡터 계산"
   ]
  },
  {
   "cell_type": "code",
   "execution_count": 46,
   "id": "5035e4c7",
   "metadata": {},
   "outputs": [],
   "source": [
    "from sklearn.metrics.pairwise import cosine_similarity\n",
    "\n",
    "def get_tag_mean(input_songs, simi_songs, imb_mode):\n",
    "    #print(input_songs)\n",
    "    #print(simi_songs)\n",
    "    user_tag_mean = np.mean([w2v.wv[tag] for tag in input_songs if tag in w2v.wv], axis=0)\n",
    "    if np.any(np.isnan(user_tag_mean)):\n",
    "        user_tag_mean = np.zeros(w2v.vector_size)\n",
    "    song_tag_mean = []\n",
    "    song_tag_weight = []\n",
    "    for tags in simi_songs:\n",
    "        song_tags = [tag for tag in tags if tag in w2v.wv]\n",
    "        if len(song_tags) > 0:\n",
    "            if imb_mode == True:\n",
    "                temp_tag_lst = []\n",
    "                for tag in song_tags:\n",
    "                    temp_tag_lst.append(tag_weights.get(tag, 0))\n",
    "                song_tag_weight.append(sum(temp_tag_lst) / len(temp_tag_lst))\n",
    "                \n",
    "            temp_mean = np.mean([w2v.wv[tag] for tag in song_tags], axis=0)\n",
    "            if np.any(np.isnan(temp_mean)):\n",
    "                temp_mean = np.zeros(w2v.vector_size)\n",
    "            song_tag_mean.append(temp_mean)\n",
    "        else:\n",
    "            if imb_mode == True:\n",
    "                song_tag_weight.append(0)\n",
    "            song_tag_mean.append(np.zeros(w2v.vector_size))\n",
    "    \n",
    "    song_tag_mean = np.array(song_tag_mean)\n",
    "    tag_mean_simi = cosine_similarity([user_tag_mean], song_tag_mean)\n",
    "    if imb_mode == True:\n",
    "        for i in range(len(tag_mean_simi[0])):\n",
    "            tag_mean_simi[0][i] *= song_tag_weight[i]\n",
    "    rec_idx = tag_mean_simi[0].argsort()[::-1]\n",
    "    return rec_idx\n"
   ]
  },
  {
   "cell_type": "markdown",
   "id": "5869ea5c",
   "metadata": {},
   "source": [
    "## 코사인 유사도 사용\n",
    "\n",
    "- 세부 장르를 사용해 코사인 유사도 측정한다\n",
    "- 그후 유사도를 행렬로 저장한다"
   ]
  },
  {
   "cell_type": "code",
   "execution_count": 47,
   "id": "b998e83c",
   "metadata": {},
   "outputs": [
    {
     "data": {
      "text/plain": [
       "(52771, 209)"
      ]
     },
     "execution_count": 47,
     "metadata": {},
     "output_type": "execute_result"
    }
   ],
   "source": [
    "from sklearn.feature_extraction.text import CountVectorizer\n",
    "\n",
    "song_tag_appended['gnr_literal'] = song_tag_appended['gnr'].apply(lambda x : (' ').join(x))\n",
    "\n",
    "count_vect = CountVectorizer()\n",
    "gnr_mat = count_vect.fit_transform(song_tag_appended['gnr_literal'])\n",
    "\n",
    "gnr_mat.shape"
   ]
  },
  {
   "cell_type": "code",
   "execution_count": 48,
   "id": "60269f30",
   "metadata": {},
   "outputs": [
    {
     "data": {
      "text/plain": [
       "array([[1.        , 0.        , 0.        , ..., 0.        , 0.        ,\n",
       "        0.        ],\n",
       "       [0.        , 1.        , 0.33333333, ..., 0.        , 0.        ,\n",
       "        0.        ],\n",
       "       [0.        , 0.33333333, 1.        , ..., 0.        , 0.        ,\n",
       "        0.        ],\n",
       "       ...,\n",
       "       [0.        , 0.        , 0.        , ..., 1.        , 0.57735027,\n",
       "        1.        ],\n",
       "       [0.        , 0.        , 0.        , ..., 0.57735027, 1.        ,\n",
       "        0.57735027],\n",
       "       [0.        , 0.        , 0.        , ..., 1.        , 0.57735027,\n",
       "        1.        ]])"
      ]
     },
     "execution_count": 48,
     "metadata": {},
     "output_type": "execute_result"
    }
   ],
   "source": [
    "from sklearn.metrics.pairwise import cosine_similarity\n",
    "\n",
    "gnr_sim = cosine_similarity(gnr_mat, gnr_mat)\n",
    "gnr_sim"
   ]
  },
  {
   "cell_type": "code",
   "execution_count": 49,
   "id": "2fde6e50",
   "metadata": {},
   "outputs": [
    {
     "name": "stdout",
     "output_type": "stream",
     "text": [
      "[0.         1.33333333 1.33333333 ... 0.         0.         0.        ]\n",
      "                     gnr  issue_date  album_id artist_id_basket  \\\n",
      "525514  [GN1402, GN1401]    20130506   2200223         [734201]   \n",
      "\n",
      "              song_name artist_name_basket  song_id  like_cnt_song weight  \n",
      "525514  Hey Little Girl          [The Sol]   525514      22.387011   0.95  \n",
      "                             gnr  issue_date  album_id artist_id_basket  \\\n",
      "129701  [GN0901, GN0902, GN1001]    20130917   2201802         [536907]   \n",
      "\n",
      "       song_name artist_name_basket  song_id  like_cnt_song weight  \n",
      "129701   Octagon      [Royal Bangs]   129701       13.74748   0.95  \n",
      "                                     gnr  issue_date  album_id  \\\n",
      "229622  [GN1402, GN1401, GN0901, GN0902]    20061212    528351   \n",
      "\n",
      "       artist_id_basket  song_name artist_name_basket  song_id  like_cnt_song  \\\n",
      "229622         [406781]  Say Hello     [Rosie Thomas]   229622      410.96578   \n",
      "\n",
      "       weight  \n",
      "229622   0.95  \n"
     ]
    }
   ],
   "source": [
    "simi_test = gnr_sim[1, :]\n",
    "simi_test2 = gnr_sim[2, :]\n",
    "print(simi_test + simi_test2)\n",
    "print(song_data[song_data['song_id']==525514])\n",
    "print(song_data[song_data['song_id']==129701])\n",
    "print(song_data[song_data['song_id']==229622])"
   ]
  },
  {
   "cell_type": "markdown",
   "id": "3645e64c",
   "metadata": {},
   "source": [
    "- 노래 id가 주어지면 유사도 순으로 n개의 노래 추출"
   ]
  },
  {
   "cell_type": "code",
   "execution_count": 50,
   "id": "0b569da4",
   "metadata": {},
   "outputs": [
    {
     "name": "stderr",
     "output_type": "stream",
     "text": [
      "C:\\Users\\pigwo\\anaconda3\\lib\\site-packages\\scipy\\stats\\_stats_py.py:4424: ConstantInputWarning: An input array is constant; the correlation coefficient is not defined.\n",
      "  warnings.warn(stats.ConstantInputWarning(msg))\n"
     ]
    },
    {
     "name": "stdout",
     "output_type": "stream",
     "text": [
      "[-0.01186197  0.3236246   1.         ... -0.01456311 -0.01685699\n",
      " -0.01456311]\n"
     ]
    }
   ],
   "source": [
    "from sklearn.feature_extraction.text import CountVectorizer\n",
    "from sklearn.feature_extraction.text import TfidfVectorizer\n",
    "from sklearn.metrics.pairwise import cosine_similarity\n",
    "from sklearn.metrics import jaccard_score\n",
    "from scipy.stats import pearsonr\n",
    "\n",
    "def get_embedding(songs, mode):\n",
    "    songs['gnr_literal'] = songs['gnr'].apply(lambda x : (' ').join(x))\n",
    "    \n",
    "    if mode == 'cv':\n",
    "        count_vect = CountVectorizer()\n",
    "        gnr_mat = count_vect.fit_transform(songs['gnr_literal'])\n",
    "    \n",
    "    elif mode == 'tf':\n",
    "        tfidf_vect = TfidfVectorizer()\n",
    "        gnr_mat = tfidf_vect.fit_transform(songs['gnr_literal'])\n",
    "        \n",
    "    return gnr_mat\n",
    "\n",
    "def get_sim(song_index, gnr_mat, sim):\n",
    "    if sim == 'cos':\n",
    "        gnr_sim = cosine_similarity(gnr_mat[song_index], gnr_mat)\n",
    "    \n",
    "    elif sim == 'jac':\n",
    "        gnr_sim = []\n",
    "        \n",
    "        for song in gnr_mat:\n",
    "            gnr_sim.append(jaccard_score(gnr_mat[song_index], song, average='macro'))\n",
    "                \n",
    "    elif sim == 'pea':\n",
    "        gnr_sim = []\n",
    "        \n",
    "        for song in gnr_mat:\n",
    "            cor, p_value = pearsonr(gnr_mat[song_index].toarray().flatten(), song.toarray().flatten())\n",
    "            gnr_sim.append(cor)\n",
    "        \n",
    "        # NaN 값을 0으로 변경\n",
    "        gnr_sim = np.nan_to_num(gnr_sim, nan=0)\n",
    "\n",
    "    return np.array(gnr_sim)\n",
    "\n",
    "print(get_sim(2, get_embedding(song_tag_appended, 'cv'), 'pea'))"
   ]
  },
  {
   "cell_type": "code",
   "execution_count": 51,
   "id": "2aa07122",
   "metadata": {},
   "outputs": [
    {
     "name": "stdout",
     "output_type": "stream",
     "text": [
      "  (0, 96)\t3\n",
      "  (0, 95)\t2\n",
      "  (1, 47)\t0\n",
      "  (1, 48)\t2\n",
      "  (1, 55)\t1\n",
      "  (2, 55)\t1\n",
      "  (2, 66)\t3\n",
      "  (2, 59)\t4\n",
      "  (3, 47)\t0\n",
      "  (3, 48)\t2\n",
      "  (3, 55)\t1\n",
      "  (3, 67)\t2\n",
      "  (4, 47)\t0\n",
      "  (4, 48)\t2\n",
      "  (4, 55)\t1\n",
      "  (4, 67)\t2\n",
      "  (5, 47)\t0\n",
      "  (5, 48)\t2\n",
      "  (5, 55)\t1\n",
      "  (5, 67)\t2\n",
      "  (6, 55)\t1\n",
      "  (6, 67)\t2\n",
      "  (6, 57)\t3\n",
      "  (7, 47)\t0\n",
      "  (8, 90)\t2\n",
      "  :\t:\n",
      "  (52764, 188)\t1\n",
      "  (52764, 190)\t1\n",
      "  (52764, 192)\t2\n",
      "  (52765, 0)\t0\n",
      "  (52765, 4)\t1\n",
      "  (52765, 102)\t1\n",
      "  (52765, 105)\t1\n",
      "  (52766, 0)\t0\n",
      "  (52766, 4)\t1\n",
      "  (52766, 102)\t1\n",
      "  (52766, 105)\t1\n",
      "  (52767, 102)\t1\n",
      "  (52767, 105)\t1\n",
      "  (52767, 12)\t1\n",
      "  (52767, 10)\t1\n",
      "  (52768, 26)\t1\n",
      "  (52768, 102)\t1\n",
      "  (52768, 105)\t1\n",
      "  (52769, 0)\t0\n",
      "  (52769, 4)\t1\n",
      "  (52769, 102)\t1\n",
      "  (52769, 105)\t1\n",
      "  (52770, 26)\t1\n",
      "  (52770, 102)\t1\n",
      "  (52770, 105)\t1\n"
     ]
    }
   ],
   "source": [
    "def apply_genre_weight(mat):\n",
    "    genre_nums = mat.getnnz(0)\n",
    "    genre_num_max = max(genre_nums)\n",
    "    genre_weight = np.log(genre_num_max / genre_nums + 1)\n",
    "    \n",
    "    result_mat = mat.copy()\n",
    "    \n",
    "    for i in range(result_mat.shape[0]):\n",
    "        for j in result_mat[i].indices:\n",
    "            result_mat[(i, j)] *= genre_weight[j]\n",
    "    \n",
    "    return result_mat\n",
    "\n",
    "weight_mat_cv = apply_genre_weight(get_embedding(song_tag_appended, 'cv'))\n",
    "print(weight_mat_cv)"
   ]
  },
  {
   "cell_type": "code",
   "execution_count": 52,
   "id": "d42aaab1",
   "metadata": {},
   "outputs": [
    {
     "name": "stdout",
     "output_type": "stream",
     "text": [
      "  (0, 95)\t1.6737312612500261\n",
      "  (0, 96)\t2.5410196292928053\n",
      "  (1, 55)\t0.7296294844719692\n",
      "  (1, 48)\t1.5302537244713597\n",
      "  (1, 47)\t0.4218002014871865\n",
      "  (2, 59)\t3.1969180009150615\n",
      "  (2, 66)\t2.0512997523465057\n",
      "  (2, 55)\t0.49446853394576035\n",
      "  (3, 67)\t1.4816914098048408\n",
      "  (3, 55)\t0.5852772996940164\n",
      "  (3, 48)\t1.2275035298956822\n",
      "  (3, 47)\t0.33834992717635554\n",
      "  (4, 67)\t1.4816914098048408\n",
      "  (4, 55)\t0.5852772996940164\n",
      "  (4, 48)\t1.2275035298956822\n",
      "  (4, 47)\t0.33834992717635554\n",
      "  (5, 67)\t1.4816914098048408\n",
      "  (5, 55)\t0.5852772996940164\n",
      "  (5, 48)\t1.2275035298956822\n",
      "  (5, 47)\t0.33834992717635554\n",
      "  (6, 57)\t2.214128678088715\n",
      "  (6, 67)\t1.4621602460075687\n",
      "  (6, 55)\t0.577562368817381\n",
      "  (7, 47)\t0.9169834925530558\n",
      "  (8, 88)\t0.9078703548512083\n",
      "  :\t:\n",
      "  (52764, 102)\t0.42817290305707506\n",
      "  (52764, 4)\t0.33326390620244506\n",
      "  (52764, 0)\t0.18513245034543857\n",
      "  (52765, 105)\t0.9951171920668457\n",
      "  (52765, 102)\t0.6290619678917677\n",
      "  (52765, 4)\t0.4896238112365143\n",
      "  (52765, 0)\t0.2719924187248314\n",
      "  (52766, 105)\t0.9951171920668457\n",
      "  (52766, 102)\t0.6290619678917677\n",
      "  (52766, 4)\t0.4896238112365143\n",
      "  (52766, 0)\t0.2719924187248314\n",
      "  (52767, 10)\t0.5123838630328437\n",
      "  (52767, 12)\t0.8482533720651564\n",
      "  (52767, 105)\t0.9053300719267771\n",
      "  (52767, 102)\t0.5723031630626256\n",
      "  (52768, 105)\t1.0452207689317399\n",
      "  (52768, 102)\t0.6607348752762576\n",
      "  (52768, 26)\t0.7449765657408373\n",
      "  (52769, 105)\t0.9951171920668457\n",
      "  (52769, 102)\t0.6290619678917677\n",
      "  (52769, 4)\t0.4896238112365143\n",
      "  (52769, 0)\t0.2719924187248314\n",
      "  (52770, 105)\t1.0452207689317399\n",
      "  (52770, 102)\t0.6607348752762576\n",
      "  (52770, 26)\t0.7449765657408373\n"
     ]
    }
   ],
   "source": [
    "weight_mat_tf = apply_genre_weight(get_embedding(song_tag_appended, 'tf'))\n",
    "print(weight_mat_tf)"
   ]
  },
  {
   "cell_type": "code",
   "execution_count": 53,
   "id": "54063c57",
   "metadata": {},
   "outputs": [],
   "source": [
    "def find_sim_song(df, sim, mat, songs, emb_mode, genre_imb_mode=False, like_weight=False, top_n=0):\n",
    "    simi = np.zeros(len(df['song_id']))\n",
    "    minyear = 3000\n",
    "    \n",
    "    for song in songs:\n",
    "        title_song = df[df['song_id'] == song]\n",
    "        #print(title_song)\n",
    "        if not title_song.empty:\n",
    "            minyear = min(minyear, title_song['issue_date'].values[0]//10000)\n",
    "    \n",
    "    for song in songs:\n",
    "        title_song = df[df['song_id'] == song]\n",
    "        \n",
    "        if title_song.empty:\n",
    "            continue\n",
    "            \n",
    "        title_index = title_song.index.values\n",
    "        \n",
    "        if genre_imb_mode:\n",
    "            if emb_mode == 'cv':\n",
    "                sim_array = get_sim(title_index, weight_mat_cv, sim)\n",
    "            \n",
    "            elif emb_mode == 'tf':\n",
    "                sim_array = get_sim(title_index, weight_mat_tf, sim)\n",
    "            \n",
    "            #elif emb_mode == 'aver':\n",
    "                #sim_array = get_sim(title_index, weight_mat_aver, sim)\n",
    "        \n",
    "        else:\n",
    "            sim_array = get_sim(title_index, mat, sim)\n",
    "            \n",
    "        simi = simi + sim_array\n",
    "    \n",
    "    simi /= len(songs)\n",
    "    \n",
    "    # 유사도 값을 0~1 사이로 Scaling\n",
    "    simi *= (simi - min(simi)) / (max(simi) - min(simi))\n",
    "    \n",
    "    df['similarity'] = simi.reshape(-1, 1)\n",
    "    temp = df.sort_values(by=\"similarity\", ascending=False)\n",
    "    \n",
    "    # 가중치 스위치가 켜져 있다면 가중치 적용\n",
    "    if like_weight:\n",
    "        for i in range(len(temp)):\n",
    "            temp['similarity'].iloc[i] = temp['similarity'].iloc[i] * temp['weight'].iloc[i]\n",
    "    \n",
    "    # for song in songs:\n",
    "    #     title_song = df[df['song_id'] == song]\n",
    "    #     title_index = title_song.index.values\n",
    "        \n",
    "    #     temp = temp[temp.index.values != title_index]\n",
    "    \n",
    "    temp = temp[temp['issue_date'] > minyear*10000]\n",
    "        \n",
    "    # 유사도가 0.5 이하인 경우는 제외\n",
    "    #temp = temp[temp['similarity'] >= 0.5]\n",
    "    if top_n < 1:\n",
    "        temp = temp[temp['similarity'] >= 0.4]\n",
    "        temp = temp.reset_index(drop=True)\n",
    "        return temp\n",
    "    else:\n",
    "        temp = temp.reset_index(drop=True)\n",
    "        return temp.iloc[ : top_n]\n",
    "    \n",
    "    # final_index = temp.index.values[ : top_n]\n",
    "    "
   ]
  },
  {
   "cell_type": "code",
   "execution_count": 54,
   "id": "21b9f83c",
   "metadata": {},
   "outputs": [
    {
     "data": {
      "text/plain": [
       "\"\\nsimilar_songs = find_sim_song(song_tag_appended, 'cos', gnr_mat, [525514, 129701, 229622], 10)\\n\\nsimilar_songs[['song_id', 'similarity', 'issue_date', 'gnr']]\\n\""
      ]
     },
     "execution_count": 54,
     "metadata": {},
     "output_type": "execute_result"
    }
   ],
   "source": [
    "'''\n",
    "similar_songs = find_sim_song(song_tag_appended, 'cos', gnr_mat, [525514, 129701, 229622], 10)\n",
    "\n",
    "similar_songs[['song_id', 'similarity', 'issue_date', 'gnr']]\n",
    "'''"
   ]
  },
  {
   "cell_type": "markdown",
   "id": "cd4fd134",
   "metadata": {},
   "source": [
    "## 노래 추천\n",
    "\n",
    "- w2v로 추출한 태그에 해당하는 플레이리스트\n",
    "- 세부 장르의 유사도가 높은 노래 리스트\n",
    "- 히스토리(test 플레이리스트)의 발행 연도와 같은 연도에 발행한 노래"
   ]
  },
  {
   "cell_type": "code",
   "execution_count": 55,
   "id": "11bfc9e0",
   "metadata": {},
   "outputs": [
    {
     "data": {
      "text/plain": [
       "\"\\ndef song_recommend(tags, songs, tag_df, song_df, sim_mat):\\n    ts = tags\\n    \\n    # 태그가 존재할 경우 + 태그의 개수가 3개 미만인경우 w2v로 태그를 3개까지 늘린다\\n    all_tags = []\\n    if len(ts) != 0 and len(ts) < 3:\\n        for tag in ts:\\n            sim_tags = w2v.wv.most_similar(tag)\\n            for t in sim_tags:\\n                all_tags.append(t)\\n        all_tags = sorted(all_tags, key = lambda x : -x[1])\\n        i = 0\\n        while len(ts) != 0 and len(ts) < 3:\\n            tag = all_tags[i][0]\\n            if tag not in ts:\\n                ts.append(tag)\\n                i += 1\\n\\n    # 해당 태그가 존재하는 플레이리스트의 노래를 추출하고 등장 빈도수로 정렬한다\\n    tag_songs = dict()\\n    \\n    for tag in ts:\\n        for i in range(len(tag_df['song_id'])):\\n            if tag in tag_df['tags'][i]:\\n                \\n                for ss in tag_df['song_id'][i]:\\n                    if not ss in songs:\\n                        \\n                        if ss in tag_songs:\\n                            tag_songs[ss] += 1\\n                            \\n                        else:\\n                            tag_songs[ss] = 1\\n                        \\n    tag_songs = sorted(tag_songs.items(), key=lambda x: x[1], reverse=True)\\n    \\n    # 기존 노래(히스토리)가 있는 경우 장르 유사도를 계산해\\n    #상위 100개의 노래를 찾아낸다\\n    if len(songs) > 0:\\n        simi_songs = find_sim_song(song_df, sim_mat, songs, 100)\\n        print(simi_songs)\\n    \\n    # 기존 노래(히스토리)가 없는 경우 최신 노래(2018~2023년도)를 찾아낸다\\n    else:\\n        simi_songs = song_df\\n        simi_songs = simi_songs[simi_songs['issue_date'] > 20180000]\\n        simi_songs = simi_songs[simi_songs['issue_date'] < 20240000]\\n    \\n    # 태그로 만들어낸 플레이리스트와 장르 유사도로 만들어낸 노래 목록\\n    # 둘 모두에 존재하는 노래 10개 추출한다\\n    recommended = []\\n    index = 0\\n    \\n    while len(recommended) < 10 and index < len(tag_songs):\\n        tag_song = tag_songs[index][0]\\n        \\n        if tag_song in simi_songs:\\n            recommended.append(tag_song)\\n            \\n        index += 1\\n        \\n    # 둘 모두에 존재하는 노래가 10개 미만인 경우\\n    # 각각에서 우선순위가 높은 노래들을 추출한다   \\n    if len(recommended) < 10:\\n        \\n        # 태그와 유사도 두 부분에서 동일한 개수(홀수일 경우 태그 > 유사도) 추출\\n        # sc = 유사도 부분에서 추출할 노래의 개수\\n        if len(recommended) % 2 == 0:\\n            sc = (10-len(recommended)) / 2\\n        else:\\n            sc = (10-len(recommended)) // 2\\n        \\n        # 태그는 있고 히스토리가 없는 경우 태그 부분에서 10개를 추출하기 위한 코드\\n        if len(songs) == 0:\\n            sc = 0\\n        \\n        # 이미 추출한 노래를 제외하고 태그 부분에서 정해진 개수만큼 추출한다\\n        # 태그가 없을 경우 동작하지 않음\\n        index = 0\\n        while len(tag_songs) != 0 and len(recommended) < (10 - sc):\\n            tag_song = tag_songs[index][0]\\n            \\n            if not tag_song in recommended:\\n                recommended.append(tag_song)\\n            \\n            index += 1\\n        \\n        # 이미 추출한 노래를 제외하고 추천 노래가 10개가 될떄까지\\n        # 유사도 부분에서 추출한다\\n        index = 0\\n        while len(recommended) < 10:\\n            simi_song = simi_songs['song_id'].values[index]\\n            \\n            if not simi_song in recommended:\\n                recommended.append(simi_song)\\n            \\n            index += 1\\n            \\n    # 추출된 노래 id를 가지고 데이터프레임을 추출한다\\n    rec_index = []\\n    \\n    for rec in recommended:\\n        title_song = song_df[song_df['song_id'] == rec]\\n        title_index = title_song.index\\n        rec_index.append(title_index[0])\\n    \\n    return song_df.iloc[rec_index]\\n\""
      ]
     },
     "execution_count": 55,
     "metadata": {},
     "output_type": "execute_result"
    }
   ],
   "source": [
    "'''\n",
    "def song_recommend(tags, songs, tag_df, song_df, sim_mat):\n",
    "    ts = tags\n",
    "    \n",
    "    # 태그가 존재할 경우 + 태그의 개수가 3개 미만인경우 w2v로 태그를 3개까지 늘린다\n",
    "    all_tags = []\n",
    "    if len(ts) != 0 and len(ts) < 3:\n",
    "        for tag in ts:\n",
    "            sim_tags = w2v.wv.most_similar(tag)\n",
    "            for t in sim_tags:\n",
    "                all_tags.append(t)\n",
    "        all_tags = sorted(all_tags, key = lambda x : -x[1])\n",
    "        i = 0\n",
    "        while len(ts) != 0 and len(ts) < 3:\n",
    "            tag = all_tags[i][0]\n",
    "            if tag not in ts:\n",
    "                ts.append(tag)\n",
    "                i += 1\n",
    "\n",
    "    # 해당 태그가 존재하는 플레이리스트의 노래를 추출하고 등장 빈도수로 정렬한다\n",
    "    tag_songs = dict()\n",
    "    \n",
    "    for tag in ts:\n",
    "        for i in range(len(tag_df['song_id'])):\n",
    "            if tag in tag_df['tags'][i]:\n",
    "                \n",
    "                for ss in tag_df['song_id'][i]:\n",
    "                    if not ss in songs:\n",
    "                        \n",
    "                        if ss in tag_songs:\n",
    "                            tag_songs[ss] += 1\n",
    "                            \n",
    "                        else:\n",
    "                            tag_songs[ss] = 1\n",
    "                        \n",
    "    tag_songs = sorted(tag_songs.items(), key=lambda x: x[1], reverse=True)\n",
    "    \n",
    "    # 기존 노래(히스토리)가 있는 경우 장르 유사도를 계산해\n",
    "    #상위 100개의 노래를 찾아낸다\n",
    "    if len(songs) > 0:\n",
    "        simi_songs = find_sim_song(song_df, sim_mat, songs, 100)\n",
    "        print(simi_songs)\n",
    "    \n",
    "    # 기존 노래(히스토리)가 없는 경우 최신 노래(2018~2023년도)를 찾아낸다\n",
    "    else:\n",
    "        simi_songs = song_df\n",
    "        simi_songs = simi_songs[simi_songs['issue_date'] > 20180000]\n",
    "        simi_songs = simi_songs[simi_songs['issue_date'] < 20240000]\n",
    "    \n",
    "    # 태그로 만들어낸 플레이리스트와 장르 유사도로 만들어낸 노래 목록\n",
    "    # 둘 모두에 존재하는 노래 10개 추출한다\n",
    "    recommended = []\n",
    "    index = 0\n",
    "    \n",
    "    while len(recommended) < 10 and index < len(tag_songs):\n",
    "        tag_song = tag_songs[index][0]\n",
    "        \n",
    "        if tag_song in simi_songs:\n",
    "            recommended.append(tag_song)\n",
    "            \n",
    "        index += 1\n",
    "        \n",
    "    # 둘 모두에 존재하는 노래가 10개 미만인 경우\n",
    "    # 각각에서 우선순위가 높은 노래들을 추출한다   \n",
    "    if len(recommended) < 10:\n",
    "        \n",
    "        # 태그와 유사도 두 부분에서 동일한 개수(홀수일 경우 태그 > 유사도) 추출\n",
    "        # sc = 유사도 부분에서 추출할 노래의 개수\n",
    "        if len(recommended) % 2 == 0:\n",
    "            sc = (10-len(recommended)) / 2\n",
    "        else:\n",
    "            sc = (10-len(recommended)) // 2\n",
    "        \n",
    "        # 태그는 있고 히스토리가 없는 경우 태그 부분에서 10개를 추출하기 위한 코드\n",
    "        if len(songs) == 0:\n",
    "            sc = 0\n",
    "        \n",
    "        # 이미 추출한 노래를 제외하고 태그 부분에서 정해진 개수만큼 추출한다\n",
    "        # 태그가 없을 경우 동작하지 않음\n",
    "        index = 0\n",
    "        while len(tag_songs) != 0 and len(recommended) < (10 - sc):\n",
    "            tag_song = tag_songs[index][0]\n",
    "            \n",
    "            if not tag_song in recommended:\n",
    "                recommended.append(tag_song)\n",
    "            \n",
    "            index += 1\n",
    "        \n",
    "        # 이미 추출한 노래를 제외하고 추천 노래가 10개가 될떄까지\n",
    "        # 유사도 부분에서 추출한다\n",
    "        index = 0\n",
    "        while len(recommended) < 10:\n",
    "            simi_song = simi_songs['song_id'].values[index]\n",
    "            \n",
    "            if not simi_song in recommended:\n",
    "                recommended.append(simi_song)\n",
    "            \n",
    "            index += 1\n",
    "            \n",
    "    # 추출된 노래 id를 가지고 데이터프레임을 추출한다\n",
    "    rec_index = []\n",
    "    \n",
    "    for rec in recommended:\n",
    "        title_song = song_df[song_df['song_id'] == rec]\n",
    "        title_index = title_song.index\n",
    "        rec_index.append(title_index[0])\n",
    "    \n",
    "    return song_df.iloc[rec_index]\n",
    "'''"
   ]
  },
  {
   "cell_type": "code",
   "execution_count": 56,
   "id": "0725f1ef",
   "metadata": {},
   "outputs": [
    {
     "data": {
      "text/plain": [
       "\"\\ndef song_recommend_test(tags, songs, tag_df, song_df, sim_mat):\\n    ts = tags\\n    \\n    # 태그가 존재할 경우 + 태그의 개수가 3개 미만인경우 w2v로 태그를 3개까지 늘린다\\n    all_tags = []\\n    if len(ts) != 0 and len(ts) < 3:\\n        for tag in ts:\\n            sim_tags = w2v.wv.most_similar(tag)\\n            for t in sim_tags:\\n                all_tags.append(t)\\n        all_tags = sorted(all_tags, key = lambda x : -x[1])\\n        i = 0\\n        while len(ts) != 0 and len(ts) < 3:\\n            tag = all_tags[i][0]\\n            if tag not in ts:\\n                ts.append(tag)\\n                i += 1\\n\\n    # 해당 태그가 존재하는 플레이리스트의 노래를 추출하고 등장 빈도수로 정렬한다\\n    tag_songs = dict()\\n    \\n    for tag in ts:\\n        for i in range(len(tag_df['song_id'])):\\n            if tag in tag_df['tags'][i]:\\n                \\n                for ss in tag_df['song_id'][i]:\\n                    if not ss in songs:\\n                        \\n                        if ss in tag_songs:\\n                            tag_songs[ss] += 1\\n                            \\n                        else:\\n                            tag_songs[ss] = 1\\n                        \\n    tag_songs = sorted(tag_songs.items(), key=lambda x: x[1], reverse=True)\\n    \\n    # 기존 노래(히스토리)가 있는 경우 장르 유사도를 계산해\\n    #상위 100개의 노래를 찾아낸다\\n    if len(songs) > 0:\\n        simi_songs = find_sim_song(song_df, sim_mat, songs, 100)\\n    \\n    # 기존 노래(히스토리)가 없는 경우 최신 노래(2018~2023년도)를 찾아낸다\\n    else:\\n        simi_songs = song_df\\n        simi_songs = simi_songs[simi_songs['issue_date'] > 20180000]\\n        simi_songs = simi_songs[simi_songs['issue_date'] < 20240000]\\n    \\n    # 태그로 만들어낸 플레이리스트와 장르 유사도로 만들어낸 노래 목록\\n    # 둘 모두에 존재하는 노래 10개 추출한다\\n    recommended = []\\n    index = 0\\n    \\n    while len(recommended) < 10 and index < len(tag_songs):\\n        tag_song = tag_songs[index][0]\\n        \\n        if tag_song in simi_songs:\\n            recommended.append(tag_song)\\n            \\n        index += 1\\n    \\n    \\n    \\n    # 둘 모두에 존재하는 노래가 10개 미만인 경우\\n    # 각각에서 우선순위가 높은 노래들을 추출한다   \\n    if len(recommended) < 10:\\n        \\n        # 이미 추출한 노래를 제외하고 추천 노래가 10개가 될떄까지\\n        # 유사도 부분에서 추출한다\\n        index = 0\\n        while len(recommended) < 10 and len(simi_songs) != 0 and len(simi_songs) > index:\\n            simi_song = simi_songs['song_id'].values[index]\\n            \\n            if not simi_song in recommended:\\n                recommended.append(simi_song)\\n            \\n            index += 1\\n            \\n        if len(recommended) < 10:\\n            index = 0\\n            while len(tag_songs) != 0 and len(recommended) < 10:\\n                tag_song = tag_songs[index][0]\\n                if not tag_song in recommended:\\n                    recommended.append(tag_song)\\n                index += 1\\n            \\n    # 추출된 노래 id를 가지고 데이터프레임을 추출한다\\n    rec_index = []\\n    \\n    for rec in recommended:\\n        title_song = song_df[song_df['song_id'] == rec]\\n        title_index = title_song.index\\n        rec_index.append(title_index[0])\\n    \\n    return song_df.iloc[rec_index]\\n\""
      ]
     },
     "execution_count": 56,
     "metadata": {},
     "output_type": "execute_result"
    }
   ],
   "source": [
    "'''\n",
    "def song_recommend_test(tags, songs, tag_df, song_df, sim_mat):\n",
    "    ts = tags\n",
    "    \n",
    "    # 태그가 존재할 경우 + 태그의 개수가 3개 미만인경우 w2v로 태그를 3개까지 늘린다\n",
    "    all_tags = []\n",
    "    if len(ts) != 0 and len(ts) < 3:\n",
    "        for tag in ts:\n",
    "            sim_tags = w2v.wv.most_similar(tag)\n",
    "            for t in sim_tags:\n",
    "                all_tags.append(t)\n",
    "        all_tags = sorted(all_tags, key = lambda x : -x[1])\n",
    "        i = 0\n",
    "        while len(ts) != 0 and len(ts) < 3:\n",
    "            tag = all_tags[i][0]\n",
    "            if tag not in ts:\n",
    "                ts.append(tag)\n",
    "                i += 1\n",
    "\n",
    "    # 해당 태그가 존재하는 플레이리스트의 노래를 추출하고 등장 빈도수로 정렬한다\n",
    "    tag_songs = dict()\n",
    "    \n",
    "    for tag in ts:\n",
    "        for i in range(len(tag_df['song_id'])):\n",
    "            if tag in tag_df['tags'][i]:\n",
    "                \n",
    "                for ss in tag_df['song_id'][i]:\n",
    "                    if not ss in songs:\n",
    "                        \n",
    "                        if ss in tag_songs:\n",
    "                            tag_songs[ss] += 1\n",
    "                            \n",
    "                        else:\n",
    "                            tag_songs[ss] = 1\n",
    "                        \n",
    "    tag_songs = sorted(tag_songs.items(), key=lambda x: x[1], reverse=True)\n",
    "    \n",
    "    # 기존 노래(히스토리)가 있는 경우 장르 유사도를 계산해\n",
    "    #상위 100개의 노래를 찾아낸다\n",
    "    if len(songs) > 0:\n",
    "        simi_songs = find_sim_song(song_df, sim_mat, songs, 100)\n",
    "    \n",
    "    # 기존 노래(히스토리)가 없는 경우 최신 노래(2018~2023년도)를 찾아낸다\n",
    "    else:\n",
    "        simi_songs = song_df\n",
    "        simi_songs = simi_songs[simi_songs['issue_date'] > 20180000]\n",
    "        simi_songs = simi_songs[simi_songs['issue_date'] < 20240000]\n",
    "    \n",
    "    # 태그로 만들어낸 플레이리스트와 장르 유사도로 만들어낸 노래 목록\n",
    "    # 둘 모두에 존재하는 노래 10개 추출한다\n",
    "    recommended = []\n",
    "    index = 0\n",
    "    \n",
    "    while len(recommended) < 10 and index < len(tag_songs):\n",
    "        tag_song = tag_songs[index][0]\n",
    "        \n",
    "        if tag_song in simi_songs:\n",
    "            recommended.append(tag_song)\n",
    "            \n",
    "        index += 1\n",
    "    \n",
    "    \n",
    "    \n",
    "    # 둘 모두에 존재하는 노래가 10개 미만인 경우\n",
    "    # 각각에서 우선순위가 높은 노래들을 추출한다   \n",
    "    if len(recommended) < 10:\n",
    "        \n",
    "        # 이미 추출한 노래를 제외하고 추천 노래가 10개가 될떄까지\n",
    "        # 유사도 부분에서 추출한다\n",
    "        index = 0\n",
    "        while len(recommended) < 10 and len(simi_songs) != 0 and len(simi_songs) > index:\n",
    "            simi_song = simi_songs['song_id'].values[index]\n",
    "            \n",
    "            if not simi_song in recommended:\n",
    "                recommended.append(simi_song)\n",
    "            \n",
    "            index += 1\n",
    "            \n",
    "        if len(recommended) < 10:\n",
    "            index = 0\n",
    "            while len(tag_songs) != 0 and len(recommended) < 10:\n",
    "                tag_song = tag_songs[index][0]\n",
    "                if not tag_song in recommended:\n",
    "                    recommended.append(tag_song)\n",
    "                index += 1\n",
    "            \n",
    "    # 추출된 노래 id를 가지고 데이터프레임을 추출한다\n",
    "    rec_index = []\n",
    "    \n",
    "    for rec in recommended:\n",
    "        title_song = song_df[song_df['song_id'] == rec]\n",
    "        title_index = title_song.index\n",
    "        rec_index.append(title_index[0])\n",
    "    \n",
    "    return song_df.iloc[rec_index]\n",
    "'''"
   ]
  },
  {
   "cell_type": "markdown",
   "id": "5d61be16",
   "metadata": {},
   "source": [
    "# 모델 평가\n",
    "- [참고](https://chrisjune-13837.medium.com/%EC%B6%94%EC%B2%9C%EC%8B%9C%EC%8A%A4%ED%85%9C-%EC%84%B1%EB%8A%A5%ED%8F%89%EA%B0%80%EB%B0%A9%EB%B2%95-with-python-9932097f0ff9)"
   ]
  },
  {
   "cell_type": "markdown",
   "id": "efc7f926",
   "metadata": {},
   "source": [
    "# Recall@K"
   ]
  },
  {
   "cell_type": "code",
   "execution_count": 57,
   "id": "39e184f6",
   "metadata": {},
   "outputs": [],
   "source": [
    "def get_recall_k(y_true, y_pred):\n",
    "    recall_k = 0\n",
    "    \n",
    "    true_items = set(y_true)\n",
    "    pred_items = set(y_pred)\n",
    "    intersect_items = len(true_items.intersection(pred_items))\n",
    "    recall = intersect_items / len(true_items) if len(true_items) > 0 else 0\n",
    "    return recall\n",
    "\n",
    "#recall_k = get_recall_k(my_songs1, pred_list)\n",
    "#print(\"Recall@K (K=10): {:.2f}\".format(recall_k))"
   ]
  },
  {
   "cell_type": "markdown",
   "id": "070d02c3",
   "metadata": {},
   "source": [
    "# Precision@K"
   ]
  },
  {
   "cell_type": "code",
   "execution_count": 58,
   "id": "89d69a7d",
   "metadata": {},
   "outputs": [],
   "source": [
    "def get_precision_k(y_true, y_pred):\n",
    "    precision_k = 0\n",
    "    \n",
    "    true_items = set(y_true)\n",
    "    pred_items = set(y_pred)\n",
    "    intersect_items = len(true_items.intersection(pred_items))\n",
    "    recall = intersect_items / len(pred_items) if len(pred_items) > 0 else 0\n",
    "    return recall\n",
    "\n",
    "#precision_k = get_precision_k(my_songs1, pred_list)\n",
    "#print(\"Precision@K (K=10): {:.2f}\".format(precision_k))"
   ]
  },
  {
   "cell_type": "markdown",
   "id": "5bb58283",
   "metadata": {},
   "source": [
    "# Average Precision@K\n",
    "- 아이템 개수가 매우 적은 경우, 모델의 성능 또한 낮아지는 문제가 발생\n",
    "    - 해결방법\n",
    "        1. Thresholding : 사용자 플레이리스트 내 음악이 일정 개수 이상인 경우만 적용\n",
    "        2. Item Weighting : hits 에 1이 아닌 가중치를 이용. 이 때 precision 이 1 보다 크지 않게 하기 위해, 정규화 필요"
   ]
  },
  {
   "cell_type": "code",
   "execution_count": 59,
   "id": "f9271c78",
   "metadata": {},
   "outputs": [],
   "source": [
    "def get_ap_k(y_true, y_pred, k):\n",
    "    pred_items = y_pred[:k]\n",
    "    hits = []\n",
    "    for item in pred_items:\n",
    "        if item in y_true:\n",
    "            hits.append(1)\n",
    "        else:\n",
    "            hits.append(0)\n",
    "    precision_values = []\n",
    "    for i in range(1, k+1):\n",
    "        precision_values.append(sum(hits[:i]) / i)\n",
    "        \n",
    "    #print(precision_values)\n",
    "    \n",
    "    if len(precision_values) == 0:\n",
    "        return 0\n",
    "    else:\n",
    "        return sum(precision_values) / len(precision_values)\n",
    "    \n",
    "#ap_k = get_ap_k(my_songs1, pred_list, 10)\n",
    "#print(\"AP@K (K=10): {:.2f}\".format(ap_k))"
   ]
  },
  {
   "cell_type": "markdown",
   "id": "699dca51",
   "metadata": {},
   "source": [
    "# Mean Average Precision@K"
   ]
  },
  {
   "cell_type": "code",
   "execution_count": 60,
   "id": "c3fa9a46",
   "metadata": {},
   "outputs": [],
   "source": [
    "def get_map_k(y_true, y_pred, k):\n",
    "    sum_ap = 0\n",
    "    for true_item, pred_item in zip(y_true, y_pred):\n",
    "        ap_k = get_ap_k(true_item, pred_item, k)\n",
    "        sum_ap += ap_k\n",
    "    if len(y_true) == 0:\n",
    "        return 0\n",
    "    else:\n",
    "        return sum_ap / len(y_true)\n",
    "    \n",
    "#map_k = get_map_k(all_my_songs, all_pred_songs, 10)\n",
    "#print(\"MAP@K (K=10): {:.2f}\".format(map_k))"
   ]
  },
  {
   "cell_type": "markdown",
   "id": "24506ca8",
   "metadata": {},
   "source": [
    "# nDCG"
   ]
  },
  {
   "cell_type": "code",
   "execution_count": 61,
   "id": "041f5a99",
   "metadata": {},
   "outputs": [],
   "source": [
    "# 1차원 리스트에 대한 nDCG\n",
    "def get_ndcg(y_true, y_pred, k):\n",
    "    ndcg = 0\n",
    "    ranking = []\n",
    "    \n",
    "    for i in range(len(y_pred)):\n",
    "        if y_pred[i] in y_true:\n",
    "            ranking.append(1)\n",
    "        else:\n",
    "            ranking.append(0)\n",
    "        \n",
    "    # Ideal ranking을 계산하기 위해 ranking을 내림차순으로 정렬한 별도의 리스트\n",
    "    ideal_ranking = sorted(ranking, reverse=True)\n",
    "    \n",
    "    # DCG 계산\n",
    "    dcg = ranking[0]\n",
    "    for i in range(1, min(k, len(ranking))):\n",
    "        dcg += ranking[i] / np.log2(i + 1)\n",
    "    \n",
    "    # Ideal DCG 계산\n",
    "    ideal_dcg = ideal_ranking[0]\n",
    "    for i in range(1, min(k, len(ideal_ranking))):\n",
    "        ideal_dcg += ideal_ranking[i] / np.log2(i + 1)\n",
    "    \n",
    "    # nDCG 계산\n",
    "    if ideal_dcg == 0:\n",
    "        ndcg = 0\n",
    "    else:\n",
    "        ndcg = dcg / ideal_dcg\n",
    "    \n",
    "    return ndcg"
   ]
  },
  {
   "cell_type": "code",
   "execution_count": 62,
   "id": "1117da91",
   "metadata": {},
   "outputs": [],
   "source": [
    "# 2차원 리스트에 대한 nDCG\n",
    "def ndcg_at_k(y_true, y_pred, k):\n",
    "    ndcg = 0\n",
    "    cnt = 0\n",
    "    \n",
    "    # 기존 플레이리스트와 추천 플레이리스트를 1:1로 비교\n",
    "    for true_item, pred_item in zip(y_true, y_pred):\n",
    "        if len(true_item) == 0 or len(pred_item) == 0:\n",
    "            continue\n",
    "        ndcg += get_ndcg(true_item, pred_item, k)\n",
    "        cnt += 1\n",
    "    \n",
    "    # 모든 플레이리스트가 비어있을 경우 계산 불가능히므로 0을 반환\n",
    "    if len(y_true) == 0:\n",
    "        return 0\n",
    "    else:\n",
    "        return ndcg / cnt"
   ]
  },
  {
   "cell_type": "markdown",
   "id": "7967bb7a",
   "metadata": {},
   "source": [
    "# 추천 함수 수정\n",
    "\n",
    "### Rec1 : 사용자 플레이리스트 내 음악의 태그를 포함하는 노래 중에서 장르 유사도를 측정"
   ]
  },
  {
   "cell_type": "code",
   "execution_count": 63,
   "id": "ecf34d31",
   "metadata": {},
   "outputs": [],
   "source": [
    "def song_recommend(tags, songs, song_df, sim, tag_imb_mode, genre_imb_mode, like_weight, emb_mode):\n",
    "    \n",
    "    ts = tags\n",
    "    tag_simi_songs = []\n",
    "    '''\n",
    "    # 태그가 존재할 경우 + 태그의 개수가 3개 미만인경우 w2v로 태그를 3개까지 늘린다\n",
    "    all_tags = []\n",
    "    if len(ts) != 0 and len(ts) < 3:\n",
    "        for tag in ts:\n",
    "            sim_tags = w2v.wv.most_similar(tag)\n",
    "            for t in sim_tags:\n",
    "                all_tags.append(t)\n",
    "        all_tags = sorted(all_tags, key = lambda x : -x[1])\n",
    "        i = 0\n",
    "        while len(ts) != 0 and len(ts) < 3:\n",
    "            tag = all_tags[i][0]\n",
    "            if tag not in ts:\n",
    "                ts.append(tag)\n",
    "                i += 1\n",
    "    '''\n",
    "    '''\n",
    "    # 해당 태그가 존재하는 플레이리스트의 노래를 추출하고 등장 빈도수로 정렬한다\n",
    "    tag_songs = dict()\n",
    "    \n",
    "    for tag in ts:\n",
    "        #print(\"현재 태그: {}\".format(tag))\n",
    "        for i in range(len(tag_df['song_id'])):\n",
    "            if tag in tag_df['tags'][i]:\n",
    "                #print(\"태그에 맞는 노래: {}\".format(tag))\n",
    "                for ss in tag_df['song_id'][i]:\n",
    "                    #print(ss)\n",
    "                    if ss in tag_songs:\n",
    "                        tag_songs[ss] += 1\n",
    "                            \n",
    "                    else:\n",
    "                        tag_songs[ss] = 1\n",
    "                        \n",
    "    #tag_songs = sorted(tag_songs.items(), key=lambda x: x[1], reverse=True)\n",
    "    tag_songs = {key: value for key, value in tag_songs.items() if value > 0}\n",
    "    tag_songs = list(tag_songs)\n",
    "    tag_songs = song_df[song_df['song_id'].isin(tag_songs)]\n",
    "    tag_songs = tag_songs.reset_index(drop=True)\n",
    "    '''\n",
    "    \n",
    "    sorted_idx = get_tag_mean(ts, song_df['tags'], tag_imb_mode)\n",
    "    tag_simi_songs = song_df.loc[sorted_idx]\n",
    "    tag_songs = tag_simi_songs.iloc[:1000].copy()\n",
    "    tag_songs = tag_songs.reset_index()\n",
    "    \n",
    "    # 기존 노래(히스토리)가 있는 경우 장르 유사도를 계산해\n",
    "    #상위 100개의 노래를 찾아낸다\n",
    "    if len(songs) > 0:\n",
    "        if genre_imb_mode:\n",
    "            w_mat = apply_genre_weight(get_embedding(tag_songs, emb_mode))\n",
    "            simi_songs = find_sim_song(tag_songs, sim, w_mat, songs, emb_mode, False, like_weight, 100)\n",
    "                \n",
    "        else:\n",
    "            simi_songs = find_sim_song(tag_songs, sim, get_embedding(tag_songs, emb_mode), songs, emb_mode, False, like_weight, 100)\n",
    "    \n",
    "    # 기존 노래(히스토리)가 없는 경우 최신 노래(2018~2023년도)를 찾아낸다\n",
    "    else:\n",
    "        simi_songs = tag_songs\n",
    "        simi_songs = simi_songs[simi_songs['issue_date'] > 20180000]\n",
    "        simi_songs = simi_songs[simi_songs['issue_date'] < 20240000]\n",
    "    \n",
    "    # 태그로 만들어낸 플레이리스트와 장르 유사도로 만들어낸 노래 목록\n",
    "    # 둘 모두에 존재하는 노래 10개 추출한다\n",
    "    recommended = []\n",
    "    \n",
    "    for rec in simi_songs['song_id']:\n",
    "        title_song = tag_songs[tag_songs['song_id'] == rec]\n",
    "        if not title_song.empty:\n",
    "            title_index = title_song.index\n",
    "            recommended.append(title_index[0])\n",
    "    \n",
    "    return tag_songs.iloc[recommended[:10]]"
   ]
  },
  {
   "cell_type": "markdown",
   "id": "1c27a091",
   "metadata": {},
   "source": [
    "### Rec2 : 사용자 플레이리스트 내 장르 유사도를 측정 후, 음악의 태그 유사도에 따른 음악 추천"
   ]
  },
  {
   "cell_type": "code",
   "execution_count": 64,
   "id": "21de9da7",
   "metadata": {},
   "outputs": [],
   "source": [
    "def get_tag_simi(input_tag, simi_tags, imb_mode):\n",
    "    if imb_mode == False:\n",
    "        simi_lst = [w2v.wv.similarity(input_tag, simi_tag) for simi_tag in simi_tags if simi_tag in w2v.wv.key_to_index]\n",
    "        if len(simi_lst) == 0:\n",
    "            return 0\n",
    "        else:\n",
    "            return max(simi_lst)\n",
    "    else:\n",
    "        weighted_simi_lst = []\n",
    "        for tag in simi_tags:\n",
    "            if tag not in w2v.wv.key_to_index:\n",
    "                similarity = 0\n",
    "            else:\n",
    "                similarity = w2v.wv.similarity(input_tag, tag)\n",
    "            weighted_simi_lst.append(tag_weights.get(tag, 0)*similarity)\n",
    "        return max(weighted_simi_lst)\n",
    "        \n",
    "def song_recommend2(tags, songs, song_df, sim, tag_imb_mode, genre_imb_mode, like_weight, emb_mode):\n",
    "    \n",
    "    # 기존 노래(히스토리)가 있는 경우 장르 유사도를 계산해\n",
    "    #상위 100개의 노래를 찾아낸다\n",
    "    if len(songs) > 0:\n",
    "        # 장르 불균형데이터에 대해서는 상위 100개의 음악을 추출하는 것이 유효함\n",
    "        #if genre_imb_mode:\n",
    "        simi_songs = find_sim_song(song_df, sim, get_embedding(song_df, emb_mode), songs, emb_mode, genre_imb_mode, like_weight, 100)\n",
    "            \n",
    "        #else:\n",
    "        #simi_songs = find_sim_song(song_df, sim, get_cv(song_df), songs) #상위 100개가 아닌, 유사도가 0.4 이상인 음악만 추출\n",
    "    \n",
    "    # 기존 노래(히스토리)가 없는 경우 최신 노래(2018~2023년도)를 찾아낸다\n",
    "    else:\n",
    "        simi_songs = song_df\n",
    "        simi_songs = simi_songs[simi_songs['issue_date'] > 20180000]\n",
    "        simi_songs = simi_songs[simi_songs['issue_date'] < 20240000]\n",
    "    \n",
    "    #print(simi_songs.shape)\n",
    "    \n",
    "    '''\n",
    "\n",
    "    # 태그가 존재할 경우 + 태그의 개수가 3개 미만인경우 w2v로 태그를 3개까지 늘린다\n",
    "    all_tags = []\n",
    "    if len(ts) != 0 and len(ts) < 3:\n",
    "        for tag in ts:\n",
    "            sim_tags = w2v.wv.most_similar(tag)\n",
    "            for t in sim_tags:\n",
    "                all_tags.append(t)\n",
    "        all_tags = sorted(all_tags, key = lambda x : -x[1])\n",
    "        i = 0\n",
    "        while len(ts) != 0 and len(ts) < 3:\n",
    "            tag = all_tags[i][0]\n",
    "            if tag not in ts:\n",
    "                ts.append(tag)\n",
    "                i += 1\n",
    "    '''\n",
    "       \n",
    "    ts = tags\n",
    "    \n",
    "    # 해당 태그가 존재하는 플레이리스트의 노래를 추출하고 등장 빈도수로 정렬한다\n",
    "    tag_songs = dict()\n",
    "    tag_simi_mean = []\n",
    "    \n",
    "    '''\n",
    "    tags_public = dict()\n",
    "    \n",
    "    for simi_tags in simi_songs['tags']:\n",
    "        songs_similarity = []\n",
    "        for simi_tag in simi_tags:\n",
    "            for input_tag in ts:\n",
    "                tag_public = 0.0\n",
    "                if (simi_tag, input_tag) in tags_public:\n",
    "                    tag_public = tags_public[(simi_tag, input_tag)]\n",
    "                elif (input_tag, simi_tag) in tags_public:\n",
    "                    tag_public = tags_public[(input_tag, simi_tag)]\n",
    "                else:\n",
    "                    tag_public = get_tag_public(input_tag, simi_tag, simi_songs['tags'])\n",
    "                    tags_public[(input_tag, simi_tag)] = tag_public\n",
    "                    tags_public[(simi_tag, input_tag)] = tag_public\n",
    "                songs_similarity.append(tag_public)\n",
    "        if len(songs_similarity) == 0:\n",
    "            tag_simi_mean.append(0)\n",
    "        else:\n",
    "            tag_simi_mean.append(sum(songs_similarity) / len(songs_similarity))\n",
    "    '''\n",
    "    '''\n",
    "    for simi_tags in simi_songs['tags']:\n",
    "        songs_similarity = []\n",
    "        for input_tag in ts:\n",
    "            if input_tag not in w2v.wv.key_to_index:\n",
    "                continue\n",
    "            songs_similarity.append(get_tag_simi(input_tag, simi_tags, tag_imb_mode))\n",
    "        if len(songs_similarity) == 0:\n",
    "            tag_simi_mean.append(0)\n",
    "        else:\n",
    "            tag_simi_mean.append(sum(songs_similarity) / len(songs_similarity))\n",
    "    '''\n",
    "    '''\n",
    "    tag_simi_mean = pd.DataFrame(columns = ['tag_simi'], data = tag_simi_mean)\n",
    "    sorted_idx = tag_simi_mean['tag_simi'].sort_values(ascending = False).index\n",
    "    #for i in sorted_idx:\n",
    "    #    print(\"원본: {} / simi_mean: {}\".format(simi_songs.loc[i, 'song_id'], tag_simi_mean.loc[i, 'tag_simi']))\n",
    "    tag_simi_mean = simi_songs.loc[sorted_idx]\n",
    "    '''\n",
    "    '''\n",
    "    # 태그로 만들어낸 플레이리스트와 장르 유사도로 만들어낸 노래 목록\n",
    "    # 둘 모두에 존재하는 노래 10개 추출한다\n",
    "    recommended = []\n",
    "    \n",
    "    for rec in simi_songs['song_id']:\n",
    "        title_song = tag_songs[tag_songs['song_id'] == rec]\n",
    "        title_index = title_song.index\n",
    "        recommended.append(title_index[0])\n",
    "    \n",
    "    '''\n",
    "    sorted_idx = get_tag_mean(ts, simi_songs['tags'], tag_imb_mode)\n",
    "    tag_simi_mean = simi_songs.loc[sorted_idx]\n",
    "    \n",
    "    return tag_simi_mean.iloc[:10]\n",
    "\n"
   ]
  },
  {
   "cell_type": "code",
   "execution_count": 65,
   "id": "16f11596",
   "metadata": {},
   "outputs": [
    {
     "name": "stdout",
     "output_type": "stream",
     "text": [
      "Recall@K (K=10): 0.05\n",
      "Precision@K (K=10): 0.10\n",
      "nDCG: 1.00\n"
     ]
    },
    {
     "name": "stderr",
     "output_type": "stream",
     "text": [
      "C:\\Users\\pigwo\\AppData\\Local\\Temp\\ipykernel_12988\\2057295318.py:37: RuntimeWarning: invalid value encountered in divide\n",
      "  simi *= (simi - min(simi)) / (max(simi) - min(simi))\n"
     ]
    }
   ],
   "source": [
    "#test_data_sample = train_data[500:1000].copy()\n",
    "test_data_sample = train_data_eng.copy()\n",
    "test_data_sample = test_data_sample.reset_index(drop=True)\n",
    "test_my_tags = test_data_sample['tags'].tolist()\n",
    "test_my_songs = test_data_sample['song_id'].tolist()\n",
    "\n",
    "rec1 = song_recommend(test_my_tags[0], test_my_songs[0], song_tag_appended, 'cos', False, False, False, 'cv')\n",
    "\n",
    "pred_list = rec1['song_id'].tolist()\n",
    "precision_k = get_precision_k(test_my_songs[0], pred_list)\n",
    "recall_k = get_recall_k(test_my_songs[0], pred_list)\n",
    "ndcg = get_ndcg(test_my_songs[0], pred_list, 10)\n",
    "\n",
    "print(\"Recall@K (K=10): {:.2f}\".format(recall_k))\n",
    "print(\"Precision@K (K=10): {:.2f}\".format(precision_k))\n",
    "print(\"nDCG: {:.2f}\".format(ndcg))"
   ]
  },
  {
   "cell_type": "code",
   "execution_count": 66,
   "id": "3fae05f6",
   "metadata": {},
   "outputs": [
    {
     "data": {
      "text/plain": [
       "\"\\npred_list = []\\nfor plist, tags in zip(test_my_songs, test_my_tags):\\n    recommended = song_recommend(tags, plist, train_data_sample2, song_tag_appended, 'cos')\\n    pred_list.append(recommended['song_id'].tolist())\\nprint(pred_list[0])\\n\""
      ]
     },
     "execution_count": 66,
     "metadata": {},
     "output_type": "execute_result"
    }
   ],
   "source": [
    "'''\n",
    "pred_list = []\n",
    "for plist, tags in zip(test_my_songs, test_my_tags):\n",
    "    recommended = song_recommend(tags, plist, train_data_sample2, song_tag_appended, 'cos')\n",
    "    pred_list.append(recommended['song_id'].tolist())\n",
    "print(pred_list[0])\n",
    "'''"
   ]
  },
  {
   "cell_type": "code",
   "execution_count": 67,
   "id": "3f9b5f94",
   "metadata": {},
   "outputs": [
    {
     "data": {
      "text/plain": [
       "'\\nmap_k = get_map_k(test_my_songs, pred_list, 10)\\nprint(\"MAP@K (K=10): {:.2f}\".format(map_k))\\n'"
      ]
     },
     "execution_count": 67,
     "metadata": {},
     "output_type": "execute_result"
    }
   ],
   "source": [
    "'''\n",
    "map_k = get_map_k(test_my_songs, pred_list, 10)\n",
    "print(\"MAP@K (K=10): {:.2f}\".format(map_k))\n",
    "'''"
   ]
  },
  {
   "cell_type": "markdown",
   "id": "57cbf383",
   "metadata": {},
   "source": [
    "---"
   ]
  },
  {
   "cell_type": "markdown",
   "id": "fa91fd8e",
   "metadata": {},
   "source": [
    "# 태그, 장르 불균형 데이터 처리 X\n",
    "\n",
    "- cv\n",
    "- recommend"
   ]
  },
  {
   "cell_type": "code",
   "execution_count": 68,
   "id": "7b4d2308",
   "metadata": {},
   "outputs": [
    {
     "name": "stderr",
     "output_type": "stream",
     "text": [
      "C:\\Users\\pigwo\\AppData\\Local\\Temp\\ipykernel_12988\\2057295318.py:37: RuntimeWarning: invalid value encountered in divide\n",
      "  simi *= (simi - min(simi)) / (max(simi) - min(simi))\n",
      "C:\\Users\\pigwo\\AppData\\Local\\Temp\\ipykernel_12988\\2057295318.py:37: RuntimeWarning: invalid value encountered in divide\n",
      "  simi *= (simi - min(simi)) / (max(simi) - min(simi))\n",
      "C:\\Users\\pigwo\\AppData\\Local\\Temp\\ipykernel_12988\\2057295318.py:37: RuntimeWarning: invalid value encountered in divide\n",
      "  simi *= (simi - min(simi)) / (max(simi) - min(simi))\n",
      "C:\\Users\\pigwo\\AppData\\Local\\Temp\\ipykernel_12988\\2057295318.py:37: RuntimeWarning: invalid value encountered in divide\n",
      "  simi *= (simi - min(simi)) / (max(simi) - min(simi))\n",
      "C:\\Users\\pigwo\\AppData\\Local\\Temp\\ipykernel_12988\\2057295318.py:37: RuntimeWarning: invalid value encountered in divide\n",
      "  simi *= (simi - min(simi)) / (max(simi) - min(simi))\n",
      "C:\\Users\\pigwo\\AppData\\Local\\Temp\\ipykernel_12988\\2057295318.py:37: RuntimeWarning: invalid value encountered in divide\n",
      "  simi *= (simi - min(simi)) / (max(simi) - min(simi))\n",
      "C:\\Users\\pigwo\\AppData\\Local\\Temp\\ipykernel_12988\\2057295318.py:37: RuntimeWarning: invalid value encountered in divide\n",
      "  simi *= (simi - min(simi)) / (max(simi) - min(simi))\n",
      "C:\\Users\\pigwo\\AppData\\Local\\Temp\\ipykernel_12988\\2057295318.py:37: RuntimeWarning: invalid value encountered in divide\n",
      "  simi *= (simi - min(simi)) / (max(simi) - min(simi))\n",
      "C:\\Users\\pigwo\\AppData\\Local\\Temp\\ipykernel_12988\\2057295318.py:37: RuntimeWarning: invalid value encountered in divide\n",
      "  simi *= (simi - min(simi)) / (max(simi) - min(simi))\n",
      "C:\\Users\\pigwo\\AppData\\Local\\Temp\\ipykernel_12988\\2057295318.py:37: RuntimeWarning: invalid value encountered in divide\n",
      "  simi *= (simi - min(simi)) / (max(simi) - min(simi))\n",
      "C:\\Users\\pigwo\\AppData\\Local\\Temp\\ipykernel_12988\\2057295318.py:37: RuntimeWarning: invalid value encountered in divide\n",
      "  simi *= (simi - min(simi)) / (max(simi) - min(simi))\n",
      "C:\\Users\\pigwo\\AppData\\Local\\Temp\\ipykernel_12988\\2057295318.py:37: RuntimeWarning: invalid value encountered in divide\n",
      "  simi *= (simi - min(simi)) / (max(simi) - min(simi))\n",
      "C:\\Users\\pigwo\\AppData\\Local\\Temp\\ipykernel_12988\\2057295318.py:37: RuntimeWarning: invalid value encountered in divide\n",
      "  simi *= (simi - min(simi)) / (max(simi) - min(simi))\n",
      "C:\\Users\\pigwo\\AppData\\Local\\Temp\\ipykernel_12988\\2057295318.py:37: RuntimeWarning: invalid value encountered in divide\n",
      "  simi *= (simi - min(simi)) / (max(simi) - min(simi))\n",
      "C:\\Users\\pigwo\\AppData\\Local\\Temp\\ipykernel_12988\\2057295318.py:37: RuntimeWarning: invalid value encountered in divide\n",
      "  simi *= (simi - min(simi)) / (max(simi) - min(simi))\n",
      "C:\\Users\\pigwo\\AppData\\Local\\Temp\\ipykernel_12988\\2057295318.py:37: RuntimeWarning: invalid value encountered in divide\n",
      "  simi *= (simi - min(simi)) / (max(simi) - min(simi))\n",
      "C:\\Users\\pigwo\\AppData\\Local\\Temp\\ipykernel_12988\\2057295318.py:37: RuntimeWarning: invalid value encountered in divide\n",
      "  simi *= (simi - min(simi)) / (max(simi) - min(simi))\n",
      "C:\\Users\\pigwo\\AppData\\Local\\Temp\\ipykernel_12988\\2057295318.py:37: RuntimeWarning: invalid value encountered in divide\n",
      "  simi *= (simi - min(simi)) / (max(simi) - min(simi))\n",
      "C:\\Users\\pigwo\\AppData\\Local\\Temp\\ipykernel_12988\\2057295318.py:37: RuntimeWarning: invalid value encountered in divide\n",
      "  simi *= (simi - min(simi)) / (max(simi) - min(simi))\n",
      "C:\\Users\\pigwo\\AppData\\Local\\Temp\\ipykernel_12988\\2057295318.py:37: RuntimeWarning: invalid value encountered in divide\n",
      "  simi *= (simi - min(simi)) / (max(simi) - min(simi))\n",
      "C:\\Users\\pigwo\\AppData\\Local\\Temp\\ipykernel_12988\\2057295318.py:37: RuntimeWarning: invalid value encountered in divide\n",
      "  simi *= (simi - min(simi)) / (max(simi) - min(simi))\n",
      "C:\\Users\\pigwo\\AppData\\Local\\Temp\\ipykernel_12988\\2057295318.py:37: RuntimeWarning: invalid value encountered in divide\n",
      "  simi *= (simi - min(simi)) / (max(simi) - min(simi))\n",
      "C:\\Users\\pigwo\\AppData\\Local\\Temp\\ipykernel_12988\\2057295318.py:37: RuntimeWarning: invalid value encountered in divide\n",
      "  simi *= (simi - min(simi)) / (max(simi) - min(simi))\n",
      "C:\\Users\\pigwo\\AppData\\Local\\Temp\\ipykernel_12988\\2057295318.py:37: RuntimeWarning: invalid value encountered in divide\n",
      "  simi *= (simi - min(simi)) / (max(simi) - min(simi))\n",
      "C:\\Users\\pigwo\\AppData\\Local\\Temp\\ipykernel_12988\\2057295318.py:37: RuntimeWarning: invalid value encountered in divide\n",
      "  simi *= (simi - min(simi)) / (max(simi) - min(simi))\n",
      "C:\\Users\\pigwo\\AppData\\Local\\Temp\\ipykernel_12988\\2057295318.py:37: RuntimeWarning: invalid value encountered in divide\n",
      "  simi *= (simi - min(simi)) / (max(simi) - min(simi))\n",
      "C:\\Users\\pigwo\\AppData\\Local\\Temp\\ipykernel_12988\\2057295318.py:37: RuntimeWarning: invalid value encountered in divide\n",
      "  simi *= (simi - min(simi)) / (max(simi) - min(simi))\n",
      "C:\\Users\\pigwo\\AppData\\Local\\Temp\\ipykernel_12988\\2057295318.py:37: RuntimeWarning: invalid value encountered in divide\n",
      "  simi *= (simi - min(simi)) / (max(simi) - min(simi))\n",
      "C:\\Users\\pigwo\\AppData\\Local\\Temp\\ipykernel_12988\\2057295318.py:37: RuntimeWarning: invalid value encountered in divide\n",
      "  simi *= (simi - min(simi)) / (max(simi) - min(simi))\n",
      "C:\\Users\\pigwo\\AppData\\Local\\Temp\\ipykernel_12988\\2057295318.py:37: RuntimeWarning: invalid value encountered in divide\n",
      "  simi *= (simi - min(simi)) / (max(simi) - min(simi))\n",
      "C:\\Users\\pigwo\\AppData\\Local\\Temp\\ipykernel_12988\\2057295318.py:37: RuntimeWarning: invalid value encountered in divide\n",
      "  simi *= (simi - min(simi)) / (max(simi) - min(simi))\n",
      "C:\\Users\\pigwo\\AppData\\Local\\Temp\\ipykernel_12988\\2057295318.py:37: RuntimeWarning: invalid value encountered in divide\n",
      "  simi *= (simi - min(simi)) / (max(simi) - min(simi))\n",
      "C:\\Users\\pigwo\\AppData\\Local\\Temp\\ipykernel_12988\\2057295318.py:37: RuntimeWarning: invalid value encountered in divide\n",
      "  simi *= (simi - min(simi)) / (max(simi) - min(simi))\n",
      "C:\\Users\\pigwo\\AppData\\Local\\Temp\\ipykernel_12988\\2057295318.py:37: RuntimeWarning: invalid value encountered in divide\n",
      "  simi *= (simi - min(simi)) / (max(simi) - min(simi))\n",
      "C:\\Users\\pigwo\\AppData\\Local\\Temp\\ipykernel_12988\\2057295318.py:37: RuntimeWarning: invalid value encountered in divide\n",
      "  simi *= (simi - min(simi)) / (max(simi) - min(simi))\n",
      "C:\\Users\\pigwo\\AppData\\Local\\Temp\\ipykernel_12988\\2057295318.py:37: RuntimeWarning: invalid value encountered in divide\n",
      "  simi *= (simi - min(simi)) / (max(simi) - min(simi))\n",
      "C:\\Users\\pigwo\\AppData\\Local\\Temp\\ipykernel_12988\\2057295318.py:37: RuntimeWarning: invalid value encountered in divide\n",
      "  simi *= (simi - min(simi)) / (max(simi) - min(simi))\n",
      "C:\\Users\\pigwo\\AppData\\Local\\Temp\\ipykernel_12988\\2057295318.py:37: RuntimeWarning: invalid value encountered in divide\n",
      "  simi *= (simi - min(simi)) / (max(simi) - min(simi))\n",
      "C:\\Users\\pigwo\\AppData\\Local\\Temp\\ipykernel_12988\\2057295318.py:37: RuntimeWarning: invalid value encountered in divide\n",
      "  simi *= (simi - min(simi)) / (max(simi) - min(simi))\n",
      "C:\\Users\\pigwo\\AppData\\Local\\Temp\\ipykernel_12988\\2057295318.py:37: RuntimeWarning: invalid value encountered in divide\n",
      "  simi *= (simi - min(simi)) / (max(simi) - min(simi))\n",
      "C:\\Users\\pigwo\\AppData\\Local\\Temp\\ipykernel_12988\\2057295318.py:37: RuntimeWarning: invalid value encountered in divide\n",
      "  simi *= (simi - min(simi)) / (max(simi) - min(simi))\n",
      "C:\\Users\\pigwo\\AppData\\Local\\Temp\\ipykernel_12988\\2057295318.py:37: RuntimeWarning: invalid value encountered in divide\n",
      "  simi *= (simi - min(simi)) / (max(simi) - min(simi))\n",
      "C:\\Users\\pigwo\\AppData\\Local\\Temp\\ipykernel_12988\\2057295318.py:37: RuntimeWarning: invalid value encountered in divide\n",
      "  simi *= (simi - min(simi)) / (max(simi) - min(simi))\n",
      "C:\\Users\\pigwo\\AppData\\Local\\Temp\\ipykernel_12988\\2057295318.py:37: RuntimeWarning: invalid value encountered in divide\n",
      "  simi *= (simi - min(simi)) / (max(simi) - min(simi))\n",
      "C:\\Users\\pigwo\\AppData\\Local\\Temp\\ipykernel_12988\\2057295318.py:37: RuntimeWarning: invalid value encountered in divide\n",
      "  simi *= (simi - min(simi)) / (max(simi) - min(simi))\n",
      "C:\\Users\\pigwo\\AppData\\Local\\Temp\\ipykernel_12988\\2057295318.py:37: RuntimeWarning: invalid value encountered in divide\n",
      "  simi *= (simi - min(simi)) / (max(simi) - min(simi))\n",
      "C:\\Users\\pigwo\\AppData\\Local\\Temp\\ipykernel_12988\\2057295318.py:37: RuntimeWarning: invalid value encountered in divide\n",
      "  simi *= (simi - min(simi)) / (max(simi) - min(simi))\n"
     ]
    },
    {
     "name": "stderr",
     "output_type": "stream",
     "text": [
      "C:\\Users\\pigwo\\AppData\\Local\\Temp\\ipykernel_12988\\2057295318.py:37: RuntimeWarning: invalid value encountered in divide\n",
      "  simi *= (simi - min(simi)) / (max(simi) - min(simi))\n",
      "C:\\Users\\pigwo\\AppData\\Local\\Temp\\ipykernel_12988\\2057295318.py:37: RuntimeWarning: invalid value encountered in divide\n",
      "  simi *= (simi - min(simi)) / (max(simi) - min(simi))\n",
      "C:\\Users\\pigwo\\AppData\\Local\\Temp\\ipykernel_12988\\2057295318.py:37: RuntimeWarning: invalid value encountered in divide\n",
      "  simi *= (simi - min(simi)) / (max(simi) - min(simi))\n",
      "C:\\Users\\pigwo\\AppData\\Local\\Temp\\ipykernel_12988\\2057295318.py:37: RuntimeWarning: invalid value encountered in divide\n",
      "  simi *= (simi - min(simi)) / (max(simi) - min(simi))\n",
      "C:\\Users\\pigwo\\AppData\\Local\\Temp\\ipykernel_12988\\2057295318.py:37: RuntimeWarning: invalid value encountered in divide\n",
      "  simi *= (simi - min(simi)) / (max(simi) - min(simi))\n",
      "C:\\Users\\pigwo\\AppData\\Local\\Temp\\ipykernel_12988\\2057295318.py:37: RuntimeWarning: invalid value encountered in divide\n",
      "  simi *= (simi - min(simi)) / (max(simi) - min(simi))\n",
      "C:\\Users\\pigwo\\AppData\\Local\\Temp\\ipykernel_12988\\2057295318.py:37: RuntimeWarning: invalid value encountered in divide\n",
      "  simi *= (simi - min(simi)) / (max(simi) - min(simi))\n",
      "C:\\Users\\pigwo\\AppData\\Local\\Temp\\ipykernel_12988\\2057295318.py:37: RuntimeWarning: invalid value encountered in divide\n",
      "  simi *= (simi - min(simi)) / (max(simi) - min(simi))\n",
      "C:\\Users\\pigwo\\AppData\\Local\\Temp\\ipykernel_12988\\2057295318.py:37: RuntimeWarning: invalid value encountered in divide\n",
      "  simi *= (simi - min(simi)) / (max(simi) - min(simi))\n",
      "C:\\Users\\pigwo\\AppData\\Local\\Temp\\ipykernel_12988\\2057295318.py:37: RuntimeWarning: invalid value encountered in divide\n",
      "  simi *= (simi - min(simi)) / (max(simi) - min(simi))\n",
      "C:\\Users\\pigwo\\AppData\\Local\\Temp\\ipykernel_12988\\2057295318.py:37: RuntimeWarning: invalid value encountered in divide\n",
      "  simi *= (simi - min(simi)) / (max(simi) - min(simi))\n",
      "C:\\Users\\pigwo\\AppData\\Local\\Temp\\ipykernel_12988\\2057295318.py:37: RuntimeWarning: invalid value encountered in divide\n",
      "  simi *= (simi - min(simi)) / (max(simi) - min(simi))\n",
      "C:\\Users\\pigwo\\AppData\\Local\\Temp\\ipykernel_12988\\2057295318.py:37: RuntimeWarning: invalid value encountered in divide\n",
      "  simi *= (simi - min(simi)) / (max(simi) - min(simi))\n",
      "C:\\Users\\pigwo\\AppData\\Local\\Temp\\ipykernel_12988\\2057295318.py:37: RuntimeWarning: invalid value encountered in divide\n",
      "  simi *= (simi - min(simi)) / (max(simi) - min(simi))\n",
      "C:\\Users\\pigwo\\AppData\\Local\\Temp\\ipykernel_12988\\2057295318.py:37: RuntimeWarning: invalid value encountered in divide\n",
      "  simi *= (simi - min(simi)) / (max(simi) - min(simi))\n",
      "C:\\Users\\pigwo\\AppData\\Local\\Temp\\ipykernel_12988\\2057295318.py:37: RuntimeWarning: invalid value encountered in divide\n",
      "  simi *= (simi - min(simi)) / (max(simi) - min(simi))\n",
      "C:\\Users\\pigwo\\AppData\\Local\\Temp\\ipykernel_12988\\2057295318.py:37: RuntimeWarning: invalid value encountered in divide\n",
      "  simi *= (simi - min(simi)) / (max(simi) - min(simi))\n",
      "C:\\Users\\pigwo\\AppData\\Local\\Temp\\ipykernel_12988\\2057295318.py:37: RuntimeWarning: invalid value encountered in divide\n",
      "  simi *= (simi - min(simi)) / (max(simi) - min(simi))\n",
      "C:\\Users\\pigwo\\AppData\\Local\\Temp\\ipykernel_12988\\2057295318.py:37: RuntimeWarning: invalid value encountered in divide\n",
      "  simi *= (simi - min(simi)) / (max(simi) - min(simi))\n",
      "C:\\Users\\pigwo\\AppData\\Local\\Temp\\ipykernel_12988\\2057295318.py:37: RuntimeWarning: invalid value encountered in divide\n",
      "  simi *= (simi - min(simi)) / (max(simi) - min(simi))\n",
      "C:\\Users\\pigwo\\AppData\\Local\\Temp\\ipykernel_12988\\2057295318.py:37: RuntimeWarning: invalid value encountered in divide\n",
      "  simi *= (simi - min(simi)) / (max(simi) - min(simi))\n",
      "C:\\Users\\pigwo\\AppData\\Local\\Temp\\ipykernel_12988\\2057295318.py:37: RuntimeWarning: invalid value encountered in divide\n",
      "  simi *= (simi - min(simi)) / (max(simi) - min(simi))\n",
      "C:\\Users\\pigwo\\AppData\\Local\\Temp\\ipykernel_12988\\2057295318.py:37: RuntimeWarning: invalid value encountered in divide\n",
      "  simi *= (simi - min(simi)) / (max(simi) - min(simi))\n",
      "C:\\Users\\pigwo\\AppData\\Local\\Temp\\ipykernel_12988\\2057295318.py:37: RuntimeWarning: invalid value encountered in divide\n",
      "  simi *= (simi - min(simi)) / (max(simi) - min(simi))\n",
      "C:\\Users\\pigwo\\AppData\\Local\\Temp\\ipykernel_12988\\2057295318.py:37: RuntimeWarning: invalid value encountered in divide\n",
      "  simi *= (simi - min(simi)) / (max(simi) - min(simi))\n",
      "C:\\Users\\pigwo\\AppData\\Local\\Temp\\ipykernel_12988\\2057295318.py:37: RuntimeWarning: invalid value encountered in divide\n",
      "  simi *= (simi - min(simi)) / (max(simi) - min(simi))\n",
      "C:\\Users\\pigwo\\AppData\\Local\\Temp\\ipykernel_12988\\2057295318.py:37: RuntimeWarning: invalid value encountered in divide\n",
      "  simi *= (simi - min(simi)) / (max(simi) - min(simi))\n",
      "C:\\Users\\pigwo\\AppData\\Local\\Temp\\ipykernel_12988\\2057295318.py:37: RuntimeWarning: invalid value encountered in divide\n",
      "  simi *= (simi - min(simi)) / (max(simi) - min(simi))\n",
      "C:\\Users\\pigwo\\AppData\\Local\\Temp\\ipykernel_12988\\2057295318.py:37: RuntimeWarning: invalid value encountered in divide\n",
      "  simi *= (simi - min(simi)) / (max(simi) - min(simi))\n",
      "C:\\Users\\pigwo\\AppData\\Local\\Temp\\ipykernel_12988\\2057295318.py:37: RuntimeWarning: invalid value encountered in divide\n",
      "  simi *= (simi - min(simi)) / (max(simi) - min(simi))\n",
      "C:\\Users\\pigwo\\AppData\\Local\\Temp\\ipykernel_12988\\2057295318.py:37: RuntimeWarning: invalid value encountered in divide\n",
      "  simi *= (simi - min(simi)) / (max(simi) - min(simi))\n",
      "C:\\Users\\pigwo\\AppData\\Local\\Temp\\ipykernel_12988\\2057295318.py:37: RuntimeWarning: invalid value encountered in divide\n",
      "  simi *= (simi - min(simi)) / (max(simi) - min(simi))\n",
      "C:\\Users\\pigwo\\AppData\\Local\\Temp\\ipykernel_12988\\2057295318.py:37: RuntimeWarning: invalid value encountered in divide\n",
      "  simi *= (simi - min(simi)) / (max(simi) - min(simi))\n",
      "C:\\Users\\pigwo\\AppData\\Local\\Temp\\ipykernel_12988\\2057295318.py:37: RuntimeWarning: invalid value encountered in divide\n",
      "  simi *= (simi - min(simi)) / (max(simi) - min(simi))\n",
      "C:\\Users\\pigwo\\AppData\\Local\\Temp\\ipykernel_12988\\2057295318.py:37: RuntimeWarning: invalid value encountered in divide\n",
      "  simi *= (simi - min(simi)) / (max(simi) - min(simi))\n",
      "C:\\Users\\pigwo\\AppData\\Local\\Temp\\ipykernel_12988\\2057295318.py:37: RuntimeWarning: invalid value encountered in divide\n",
      "  simi *= (simi - min(simi)) / (max(simi) - min(simi))\n",
      "C:\\Users\\pigwo\\AppData\\Local\\Temp\\ipykernel_12988\\2057295318.py:37: RuntimeWarning: invalid value encountered in divide\n",
      "  simi *= (simi - min(simi)) / (max(simi) - min(simi))\n",
      "C:\\Users\\pigwo\\AppData\\Local\\Temp\\ipykernel_12988\\2057295318.py:37: RuntimeWarning: invalid value encountered in divide\n",
      "  simi *= (simi - min(simi)) / (max(simi) - min(simi))\n",
      "C:\\Users\\pigwo\\AppData\\Local\\Temp\\ipykernel_12988\\2057295318.py:37: RuntimeWarning: invalid value encountered in divide\n",
      "  simi *= (simi - min(simi)) / (max(simi) - min(simi))\n",
      "C:\\Users\\pigwo\\AppData\\Local\\Temp\\ipykernel_12988\\2057295318.py:37: RuntimeWarning: invalid value encountered in divide\n",
      "  simi *= (simi - min(simi)) / (max(simi) - min(simi))\n",
      "C:\\Users\\pigwo\\AppData\\Local\\Temp\\ipykernel_12988\\2057295318.py:37: RuntimeWarning: invalid value encountered in divide\n",
      "  simi *= (simi - min(simi)) / (max(simi) - min(simi))\n",
      "C:\\Users\\pigwo\\AppData\\Local\\Temp\\ipykernel_12988\\2057295318.py:37: RuntimeWarning: invalid value encountered in divide\n",
      "  simi *= (simi - min(simi)) / (max(simi) - min(simi))\n"
     ]
    },
    {
     "ename": "KeyboardInterrupt",
     "evalue": "",
     "output_type": "error",
     "traceback": [
      "\u001b[1;31m---------------------------------------------------------------------------\u001b[0m",
      "\u001b[1;31mKeyboardInterrupt\u001b[0m                         Traceback (most recent call last)",
      "Cell \u001b[1;32mIn[68], line 3\u001b[0m\n\u001b[0;32m      1\u001b[0m pred_list \u001b[38;5;241m=\u001b[39m []\n\u001b[0;32m      2\u001b[0m \u001b[38;5;28;01mfor\u001b[39;00m plist, tags \u001b[38;5;129;01min\u001b[39;00m \u001b[38;5;28mzip\u001b[39m(test_my_songs, test_my_tags):\n\u001b[1;32m----> 3\u001b[0m     recommended \u001b[38;5;241m=\u001b[39m \u001b[43msong_recommend\u001b[49m\u001b[43m(\u001b[49m\u001b[43mtags\u001b[49m\u001b[43m,\u001b[49m\u001b[43m \u001b[49m\u001b[43mplist\u001b[49m\u001b[43m,\u001b[49m\u001b[43m \u001b[49m\u001b[43msong_tag_appended\u001b[49m\u001b[43m,\u001b[49m\u001b[43m \u001b[49m\u001b[38;5;124;43m'\u001b[39;49m\u001b[38;5;124;43mcos\u001b[39;49m\u001b[38;5;124;43m'\u001b[39;49m\u001b[43m,\u001b[49m\u001b[43m \u001b[49m\u001b[38;5;28;43;01mFalse\u001b[39;49;00m\u001b[43m,\u001b[49m\u001b[43m \u001b[49m\u001b[38;5;28;43;01mFalse\u001b[39;49;00m\u001b[43m,\u001b[49m\u001b[43m \u001b[49m\u001b[38;5;28;43;01mFalse\u001b[39;49;00m\u001b[43m,\u001b[49m\u001b[43m \u001b[49m\u001b[38;5;124;43m'\u001b[39;49m\u001b[38;5;124;43mcv\u001b[39;49m\u001b[38;5;124;43m'\u001b[39;49m\u001b[43m)\u001b[49m\n\u001b[0;32m      4\u001b[0m     pred_list\u001b[38;5;241m.\u001b[39mappend(recommended[\u001b[38;5;124m'\u001b[39m\u001b[38;5;124msong_id\u001b[39m\u001b[38;5;124m'\u001b[39m]\u001b[38;5;241m.\u001b[39mtolist())\n\u001b[0;32m      5\u001b[0m \u001b[38;5;28mprint\u001b[39m(pred_list[\u001b[38;5;241m0\u001b[39m])\n",
      "Cell \u001b[1;32mIn[63], line 45\u001b[0m, in \u001b[0;36msong_recommend\u001b[1;34m(tags, songs, song_df, sim, tag_imb_mode, genre_imb_mode, like_weight, emb_mode)\u001b[0m\n\u001b[0;32m      5\u001b[0m \u001b[38;5;124;03m'''\u001b[39;00m\n\u001b[0;32m      6\u001b[0m \u001b[38;5;124;03m# 태그가 존재할 경우 + 태그의 개수가 3개 미만인경우 w2v로 태그를 3개까지 늘린다\u001b[39;00m\n\u001b[0;32m      7\u001b[0m \u001b[38;5;124;03mall_tags = []\u001b[39;00m\n\u001b[1;32m   (...)\u001b[0m\n\u001b[0;32m     19\u001b[0m \u001b[38;5;124;03m            i += 1\u001b[39;00m\n\u001b[0;32m     20\u001b[0m \u001b[38;5;124;03m'''\u001b[39;00m\n\u001b[0;32m     21\u001b[0m \u001b[38;5;124;03m'''\u001b[39;00m\n\u001b[0;32m     22\u001b[0m \u001b[38;5;124;03m# 해당 태그가 존재하는 플레이리스트의 노래를 추출하고 등장 빈도수로 정렬한다\u001b[39;00m\n\u001b[0;32m     23\u001b[0m \u001b[38;5;124;03mtag_songs = dict()\u001b[39;00m\n\u001b[1;32m   (...)\u001b[0m\n\u001b[0;32m     42\u001b[0m \u001b[38;5;124;03mtag_songs = tag_songs.reset_index(drop=True)\u001b[39;00m\n\u001b[0;32m     43\u001b[0m \u001b[38;5;124;03m'''\u001b[39;00m\n\u001b[1;32m---> 45\u001b[0m sorted_idx \u001b[38;5;241m=\u001b[39m \u001b[43mget_tag_mean\u001b[49m\u001b[43m(\u001b[49m\u001b[43mts\u001b[49m\u001b[43m,\u001b[49m\u001b[43m \u001b[49m\u001b[43msong_df\u001b[49m\u001b[43m[\u001b[49m\u001b[38;5;124;43m'\u001b[39;49m\u001b[38;5;124;43mtags\u001b[39;49m\u001b[38;5;124;43m'\u001b[39;49m\u001b[43m]\u001b[49m\u001b[43m,\u001b[49m\u001b[43m \u001b[49m\u001b[43mtag_imb_mode\u001b[49m\u001b[43m)\u001b[49m\n\u001b[0;32m     46\u001b[0m tag_simi_songs \u001b[38;5;241m=\u001b[39m song_df\u001b[38;5;241m.\u001b[39mloc[sorted_idx]\n\u001b[0;32m     47\u001b[0m tag_songs \u001b[38;5;241m=\u001b[39m tag_simi_songs\u001b[38;5;241m.\u001b[39miloc[:\u001b[38;5;241m1000\u001b[39m]\u001b[38;5;241m.\u001b[39mcopy()\n",
      "Cell \u001b[1;32mIn[46], line 20\u001b[0m, in \u001b[0;36mget_tag_mean\u001b[1;34m(input_songs, simi_songs, imb_mode)\u001b[0m\n\u001b[0;32m     17\u001b[0m         temp_tag_lst\u001b[38;5;241m.\u001b[39mappend(tag_weights\u001b[38;5;241m.\u001b[39mget(tag, \u001b[38;5;241m0\u001b[39m))\n\u001b[0;32m     18\u001b[0m     song_tag_weight\u001b[38;5;241m.\u001b[39mappend(\u001b[38;5;28msum\u001b[39m(temp_tag_lst) \u001b[38;5;241m/\u001b[39m \u001b[38;5;28mlen\u001b[39m(temp_tag_lst))\n\u001b[1;32m---> 20\u001b[0m temp_mean \u001b[38;5;241m=\u001b[39m \u001b[43mnp\u001b[49m\u001b[38;5;241;43m.\u001b[39;49m\u001b[43mmean\u001b[49m\u001b[43m(\u001b[49m\u001b[43m[\u001b[49m\u001b[43mw2v\u001b[49m\u001b[38;5;241;43m.\u001b[39;49m\u001b[43mwv\u001b[49m\u001b[43m[\u001b[49m\u001b[43mtag\u001b[49m\u001b[43m]\u001b[49m\u001b[43m \u001b[49m\u001b[38;5;28;43;01mfor\u001b[39;49;00m\u001b[43m \u001b[49m\u001b[43mtag\u001b[49m\u001b[43m \u001b[49m\u001b[38;5;129;43;01min\u001b[39;49;00m\u001b[43m \u001b[49m\u001b[43msong_tags\u001b[49m\u001b[43m]\u001b[49m\u001b[43m,\u001b[49m\u001b[43m \u001b[49m\u001b[43maxis\u001b[49m\u001b[38;5;241;43m=\u001b[39;49m\u001b[38;5;241;43m0\u001b[39;49m\u001b[43m)\u001b[49m\n\u001b[0;32m     21\u001b[0m \u001b[38;5;28;01mif\u001b[39;00m np\u001b[38;5;241m.\u001b[39many(np\u001b[38;5;241m.\u001b[39misnan(temp_mean)):\n\u001b[0;32m     22\u001b[0m     temp_mean \u001b[38;5;241m=\u001b[39m np\u001b[38;5;241m.\u001b[39mzeros(w2v\u001b[38;5;241m.\u001b[39mvector_size)\n",
      "File \u001b[1;32m<__array_function__ internals>:180\u001b[0m, in \u001b[0;36mmean\u001b[1;34m(*args, **kwargs)\u001b[0m\n",
      "File \u001b[1;32m~\\anaconda3\\lib\\site-packages\\numpy\\core\\fromnumeric.py:3432\u001b[0m, in \u001b[0;36mmean\u001b[1;34m(a, axis, dtype, out, keepdims, where)\u001b[0m\n\u001b[0;32m   3429\u001b[0m     \u001b[38;5;28;01melse\u001b[39;00m:\n\u001b[0;32m   3430\u001b[0m         \u001b[38;5;28;01mreturn\u001b[39;00m mean(axis\u001b[38;5;241m=\u001b[39maxis, dtype\u001b[38;5;241m=\u001b[39mdtype, out\u001b[38;5;241m=\u001b[39mout, \u001b[38;5;241m*\u001b[39m\u001b[38;5;241m*\u001b[39mkwargs)\n\u001b[1;32m-> 3432\u001b[0m \u001b[38;5;28;01mreturn\u001b[39;00m _methods\u001b[38;5;241m.\u001b[39m_mean(a, axis\u001b[38;5;241m=\u001b[39maxis, dtype\u001b[38;5;241m=\u001b[39mdtype,\n\u001b[0;32m   3433\u001b[0m                       out\u001b[38;5;241m=\u001b[39mout, \u001b[38;5;241m*\u001b[39m\u001b[38;5;241m*\u001b[39mkwargs)\n",
      "File \u001b[1;32m~\\anaconda3\\lib\\site-packages\\numpy\\core\\_methods.py:164\u001b[0m, in \u001b[0;36m_mean\u001b[1;34m(a, axis, dtype, out, keepdims, where)\u001b[0m\n\u001b[0;32m    163\u001b[0m \u001b[38;5;28;01mdef\u001b[39;00m \u001b[38;5;21m_mean\u001b[39m(a, axis\u001b[38;5;241m=\u001b[39m\u001b[38;5;28;01mNone\u001b[39;00m, dtype\u001b[38;5;241m=\u001b[39m\u001b[38;5;28;01mNone\u001b[39;00m, out\u001b[38;5;241m=\u001b[39m\u001b[38;5;28;01mNone\u001b[39;00m, keepdims\u001b[38;5;241m=\u001b[39m\u001b[38;5;28;01mFalse\u001b[39;00m, \u001b[38;5;241m*\u001b[39m, where\u001b[38;5;241m=\u001b[39m\u001b[38;5;28;01mTrue\u001b[39;00m):\n\u001b[1;32m--> 164\u001b[0m     arr \u001b[38;5;241m=\u001b[39m \u001b[43masanyarray\u001b[49m\u001b[43m(\u001b[49m\u001b[43ma\u001b[49m\u001b[43m)\u001b[49m\n\u001b[0;32m    166\u001b[0m     is_float16_result \u001b[38;5;241m=\u001b[39m \u001b[38;5;28;01mFalse\u001b[39;00m\n\u001b[0;32m    168\u001b[0m     rcount \u001b[38;5;241m=\u001b[39m _count_reduce_items(arr, axis, keepdims\u001b[38;5;241m=\u001b[39mkeepdims, where\u001b[38;5;241m=\u001b[39mwhere)\n",
      "\u001b[1;31mKeyboardInterrupt\u001b[0m: "
     ]
    }
   ],
   "source": [
    "pred_list = []\n",
    "for plist, tags in zip(test_my_songs, test_my_tags):\n",
    "    recommended = song_recommend(tags, plist, song_tag_appended, 'cos', False, False, False, 'cv')\n",
    "    pred_list.append(recommended['song_id'].tolist())\n",
    "print(pred_list[0])"
   ]
  },
  {
   "cell_type": "code",
   "execution_count": null,
   "id": "2763de6d",
   "metadata": {},
   "outputs": [],
   "source": [
    "map_k = get_map_k(test_my_songs, pred_list, 10)\n",
    "print(\"MAP@K (K=10): {:.3f}\".format(map_k))\n",
    "\n",
    "ndcg = ndcg_at_k(test_my_songs, pred_list, 10)\n",
    "print(\"nDCG: {:.3f}\".format(ndcg))"
   ]
  },
  {
   "cell_type": "code",
   "execution_count": null,
   "id": "57654d49",
   "metadata": {},
   "outputs": [],
   "source": [
    "pred_list = []\n",
    "for plist, tags in zip(test_my_songs, test_my_tags):\n",
    "    recommended = song_recommend(tags, plist, song_tag_appended, 'cos', False, False, True, 'cv')\n",
    "    pred_list.append(recommended['song_id'].tolist())\n",
    "print(pred_list[0])"
   ]
  },
  {
   "cell_type": "code",
   "execution_count": null,
   "id": "ae3ab8b9",
   "metadata": {},
   "outputs": [],
   "source": [
    "map_k = get_map_k(test_my_songs, pred_list, 10)\n",
    "print(\"MAP@K (K=10): {:.3f}\".format(map_k))\n",
    "\n",
    "ndcg = ndcg_at_k(test_my_songs, pred_list, 10)\n",
    "print(\"nDCG: {:.3f}\".format(ndcg))"
   ]
  },
  {
   "cell_type": "code",
   "execution_count": null,
   "id": "e35d6966",
   "metadata": {},
   "outputs": [],
   "source": [
    "pred_list = []\n",
    "for plist, tags in zip(test_my_songs, test_my_tags):\n",
    "    recommended = song_recommend(tags, plist, song_tag_appended, 'jac', False, False, False, 'cv')\n",
    "    pred_list.append(recommended['song_id'].tolist())\n",
    "print(pred_list[0])"
   ]
  },
  {
   "cell_type": "code",
   "execution_count": null,
   "id": "cbbf2514",
   "metadata": {},
   "outputs": [],
   "source": [
    "map_k = get_map_k(test_my_songs, pred_list, 10)\n",
    "print(\"MAP@K (K=10): {:.3f}\".format(map_k))\n",
    "\n",
    "ndcg = ndcg_at_k(test_my_songs, pred_list, 10)\n",
    "print(\"nDCG: {:.3f}\".format(ndcg))"
   ]
  },
  {
   "cell_type": "code",
   "execution_count": null,
   "id": "fe782ddd",
   "metadata": {},
   "outputs": [],
   "source": [
    "pred_list = []\n",
    "for plist, tags in zip(test_my_songs, test_my_tags):\n",
    "    recommended = song_recommend(tags, plist, song_tag_appended, 'jac', False, False, True, 'cv')\n",
    "    pred_list.append(recommended['song_id'].tolist())\n",
    "print(pred_list[0])"
   ]
  },
  {
   "cell_type": "code",
   "execution_count": null,
   "id": "3588a2bd",
   "metadata": {},
   "outputs": [],
   "source": [
    "map_k = get_map_k(test_my_songs, pred_list, 10)\n",
    "print(\"MAP@K (K=10): {:.3f}\".format(map_k))\n",
    "\n",
    "ndcg = ndcg_at_k(test_my_songs, pred_list, 10)\n",
    "print(\"nDCG: {:.3f}\".format(ndcg))"
   ]
  },
  {
   "cell_type": "code",
   "execution_count": null,
   "id": "6826ea01",
   "metadata": {},
   "outputs": [],
   "source": [
    "pred_list = []\n",
    "for plist, tags in zip(test_my_songs, test_my_tags):\n",
    "    recommended = song_recommend(tags, plist, song_tag_appended, 'pea', False, False, False, 'cv')\n",
    "    pred_list.append(recommended['song_id'].tolist())\n",
    "print(pred_list[0])"
   ]
  },
  {
   "cell_type": "code",
   "execution_count": null,
   "id": "df3f5271",
   "metadata": {},
   "outputs": [],
   "source": [
    "map_k = get_map_k(test_my_songs, pred_list, 10)\n",
    "print(\"MAP@K (K=10): {:.3f}\".format(map_k))\n",
    "\n",
    "ndcg = ndcg_at_k(test_my_songs, pred_list, 10)\n",
    "print(\"nDCG: {:.3f}\".format(ndcg))"
   ]
  },
  {
   "cell_type": "code",
   "execution_count": null,
   "id": "b72ca209",
   "metadata": {},
   "outputs": [],
   "source": [
    "pred_list = []\n",
    "for plist, tags in zip(test_my_songs, test_my_tags):\n",
    "    recommended = song_recommend(tags, plist, song_tag_appended, 'pea', False, False, True, 'cv')\n",
    "    pred_list.append(recommended['song_id'].tolist())\n",
    "print(pred_list[0])"
   ]
  },
  {
   "cell_type": "code",
   "execution_count": null,
   "id": "3cc01cc9",
   "metadata": {},
   "outputs": [],
   "source": [
    "map_k = get_map_k(test_my_songs, pred_list, 10)\n",
    "print(\"MAP@K (K=10): {:.3f}\".format(map_k))\n",
    "\n",
    "ndcg = ndcg_at_k(test_my_songs, pred_list, 10)\n",
    "print(\"nDCG: {:.3f}\".format(ndcg))"
   ]
  },
  {
   "cell_type": "markdown",
   "id": "7280b542",
   "metadata": {},
   "source": [
    "# 태그 불균형 데이터 처리\n",
    "\n",
    "- cv\n",
    "- recommend"
   ]
  },
  {
   "cell_type": "code",
   "execution_count": null,
   "id": "5bd74041",
   "metadata": {},
   "outputs": [],
   "source": [
    "pred_list = []\n",
    "for plist, tags in zip(test_my_songs, test_my_tags):\n",
    "    recommended = song_recommend(tags, plist, song_tag_appended, 'cos', True, False, False, 'cv')\n",
    "    pred_list.append(recommended['song_id'].tolist())\n",
    "print(pred_list[0])"
   ]
  },
  {
   "cell_type": "code",
   "execution_count": null,
   "id": "5124ebd4",
   "metadata": {},
   "outputs": [],
   "source": [
    "map_k = get_map_k(test_my_songs, pred_list, 10)\n",
    "print(\"MAP@K (K=10): {:.3f}\".format(map_k))\n",
    "\n",
    "ndcg = ndcg_at_k(test_my_songs, pred_list, 10)\n",
    "print(\"nDCG: {:.3f}\".format(ndcg))"
   ]
  },
  {
   "cell_type": "code",
   "execution_count": null,
   "id": "bbf17408",
   "metadata": {},
   "outputs": [],
   "source": [
    "pred_list = []\n",
    "for plist, tags in zip(test_my_songs, test_my_tags):\n",
    "    recommended = song_recommend(tags, plist, song_tag_appended, 'cos', True, False, True, 'cv')\n",
    "    pred_list.append(recommended['song_id'].tolist())\n",
    "print(pred_list[0])"
   ]
  },
  {
   "cell_type": "code",
   "execution_count": null,
   "id": "d203114a",
   "metadata": {},
   "outputs": [],
   "source": [
    "map_k = get_map_k(test_my_songs, pred_list, 10)\n",
    "print(\"MAP@K (K=10): {:.3f}\".format(map_k))\n",
    "\n",
    "ndcg = ndcg_at_k(test_my_songs, pred_list, 10)\n",
    "print(\"nDCG: {:.3f}\".format(ndcg))"
   ]
  },
  {
   "cell_type": "code",
   "execution_count": null,
   "id": "9553d016",
   "metadata": {},
   "outputs": [],
   "source": [
    "pred_list = []\n",
    "for plist, tags in zip(test_my_songs, test_my_tags):\n",
    "    recommended = song_recommend(tags, plist, song_tag_appended, 'jac', True, False, False, 'cv')\n",
    "    pred_list.append(recommended['song_id'].tolist())\n",
    "print(pred_list[0])"
   ]
  },
  {
   "cell_type": "code",
   "execution_count": null,
   "id": "852e4203",
   "metadata": {},
   "outputs": [],
   "source": [
    "map_k = get_map_k(test_my_songs, pred_list, 10)\n",
    "print(\"MAP@K (K=10): {:.3f}\".format(map_k))\n",
    "\n",
    "ndcg = ndcg_at_k(test_my_songs, pred_list, 10)\n",
    "print(\"nDCG: {:.3f}\".format(ndcg))"
   ]
  },
  {
   "cell_type": "code",
   "execution_count": null,
   "id": "4a578e90",
   "metadata": {},
   "outputs": [],
   "source": [
    "pred_list = []\n",
    "for plist, tags in zip(test_my_songs, test_my_tags):\n",
    "    recommended = song_recommend(tags, plist, song_tag_appended, 'jac', True, False, True, 'cv')\n",
    "    pred_list.append(recommended['song_id'].tolist())\n",
    "print(pred_list[0])"
   ]
  },
  {
   "cell_type": "code",
   "execution_count": null,
   "id": "8a4971f8",
   "metadata": {},
   "outputs": [],
   "source": [
    "map_k = get_map_k(test_my_songs, pred_list, 10)\n",
    "print(\"MAP@K (K=10): {:.3f}\".format(map_k))\n",
    "\n",
    "ndcg = ndcg_at_k(test_my_songs, pred_list, 10)\n",
    "print(\"nDCG: {:.3f}\".format(ndcg))"
   ]
  },
  {
   "cell_type": "code",
   "execution_count": null,
   "id": "3f59c796",
   "metadata": {},
   "outputs": [],
   "source": [
    "pred_list = []\n",
    "for plist, tags in zip(test_my_songs, test_my_tags):\n",
    "    recommended = song_recommend(tags, plist, song_tag_appended, 'pea', True, False, False, 'cv')\n",
    "    pred_list.append(recommended['song_id'].tolist())\n",
    "print(pred_list[0])"
   ]
  },
  {
   "cell_type": "code",
   "execution_count": null,
   "id": "8429aac2",
   "metadata": {},
   "outputs": [],
   "source": [
    "map_k = get_map_k(test_my_songs, pred_list, 10)\n",
    "print(\"MAP@K (K=10): {:.3f}\".format(map_k))\n",
    "\n",
    "ndcg = ndcg_at_k(test_my_songs, pred_list, 10)\n",
    "print(\"nDCG: {:.3f}\".format(ndcg))"
   ]
  },
  {
   "cell_type": "code",
   "execution_count": null,
   "id": "aefce2ad",
   "metadata": {},
   "outputs": [],
   "source": [
    "pred_list = []\n",
    "for plist, tags in zip(test_my_songs, test_my_tags):\n",
    "    recommended = song_recommend(tags, plist, song_tag_appended, 'pea', True, False, True, 'cv')\n",
    "    pred_list.append(recommended['song_id'].tolist())\n",
    "print(pred_list[0])"
   ]
  },
  {
   "cell_type": "code",
   "execution_count": null,
   "id": "4bcb9a6b",
   "metadata": {},
   "outputs": [],
   "source": [
    "map_k = get_map_k(test_my_songs, pred_list, 10)\n",
    "print(\"MAP@K (K=10): {:.3f}\".format(map_k))\n",
    "\n",
    "ndcg = ndcg_at_k(test_my_songs, pred_list, 10)\n",
    "print(\"nDCG: {:.3f}\".format(ndcg))"
   ]
  },
  {
   "cell_type": "markdown",
   "id": "9a1437a5",
   "metadata": {},
   "source": [
    "# 장르 불균형 데이터 처리\n",
    "\n",
    "- cv\n",
    "- recommend"
   ]
  },
  {
   "cell_type": "code",
   "execution_count": null,
   "id": "8de08630",
   "metadata": {},
   "outputs": [],
   "source": [
    "pred_list = []\n",
    "for plist, tags in zip(test_my_songs, test_my_tags):\n",
    "    recommended = song_recommend(tags, plist, song_tag_appended, 'cos', False, True, False, 'cv')\n",
    "    pred_list.append(recommended['song_id'].tolist())\n",
    "print(pred_list[0])"
   ]
  },
  {
   "cell_type": "code",
   "execution_count": null,
   "id": "7a607eb2",
   "metadata": {},
   "outputs": [],
   "source": [
    "map_k = get_map_k(test_my_songs, pred_list, 10)\n",
    "print(\"MAP@K (K=10): {:.3f}\".format(map_k))\n",
    "\n",
    "ndcg = ndcg_at_k(test_my_songs, pred_list, 10)\n",
    "print(\"nDCG: {:.3f}\".format(ndcg))"
   ]
  },
  {
   "cell_type": "code",
   "execution_count": null,
   "id": "883a2572",
   "metadata": {},
   "outputs": [],
   "source": [
    "pred_list = []\n",
    "for plist, tags in zip(test_my_songs, test_my_tags):\n",
    "    recommended = song_recommend(tags, plist, song_tag_appended, 'cos', False, True, True, 'cv')\n",
    "    pred_list.append(recommended['song_id'].tolist())\n",
    "print(pred_list[0])"
   ]
  },
  {
   "cell_type": "code",
   "execution_count": null,
   "id": "85822e50",
   "metadata": {},
   "outputs": [],
   "source": [
    "map_k = get_map_k(test_my_songs, pred_list, 10)\n",
    "print(\"MAP@K (K=10): {:.3f}\".format(map_k))\n",
    "\n",
    "ndcg = ndcg_at_k(test_my_songs, pred_list, 10)\n",
    "print(\"nDCG: {:.3f}\".format(ndcg))"
   ]
  },
  {
   "cell_type": "code",
   "execution_count": null,
   "id": "5a69f8c5",
   "metadata": {},
   "outputs": [],
   "source": [
    "pred_list = []\n",
    "for plist, tags in zip(test_my_songs, test_my_tags):\n",
    "    recommended = song_recommend(tags, plist, song_tag_appended, 'jac', False, True, False, 'cv')\n",
    "    pred_list.append(recommended['song_id'].tolist())\n",
    "print(pred_list[0])"
   ]
  },
  {
   "cell_type": "code",
   "execution_count": null,
   "id": "66c262b2",
   "metadata": {},
   "outputs": [],
   "source": [
    "map_k = get_map_k(test_my_songs, pred_list, 10)\n",
    "print(\"MAP@K (K=10): {:.3f}\".format(map_k))\n",
    "\n",
    "ndcg = ndcg_at_k(test_my_songs, pred_list, 10)\n",
    "print(\"nDCG: {:.3f}\".format(ndcg))"
   ]
  },
  {
   "cell_type": "code",
   "execution_count": null,
   "id": "44f12bcc",
   "metadata": {},
   "outputs": [],
   "source": [
    "pred_list = []\n",
    "for plist, tags in zip(test_my_songs, test_my_tags):\n",
    "    recommended = song_recommend(tags, plist, song_tag_appended, 'jac', False, True, True, 'cv')\n",
    "    pred_list.append(recommended['song_id'].tolist())\n",
    "print(pred_list[0])"
   ]
  },
  {
   "cell_type": "code",
   "execution_count": null,
   "id": "2d4e79a7",
   "metadata": {},
   "outputs": [],
   "source": [
    "map_k = get_map_k(test_my_songs, pred_list, 10)\n",
    "print(\"MAP@K (K=10): {:.3f}\".format(map_k))\n",
    "\n",
    "ndcg = ndcg_at_k(test_my_songs, pred_list, 10)\n",
    "print(\"nDCG: {:.3f}\".format(ndcg))"
   ]
  },
  {
   "cell_type": "code",
   "execution_count": null,
   "id": "f58232f5",
   "metadata": {},
   "outputs": [],
   "source": [
    "pred_list = []\n",
    "for plist, tags in zip(test_my_songs, test_my_tags):\n",
    "    recommended = song_recommend(tags, plist, song_tag_appended, 'pea', False, True, False, 'cv')\n",
    "    pred_list.append(recommended['song_id'].tolist())\n",
    "print(pred_list[0])"
   ]
  },
  {
   "cell_type": "code",
   "execution_count": null,
   "id": "600d1abf",
   "metadata": {},
   "outputs": [],
   "source": [
    "map_k = get_map_k(test_my_songs, pred_list, 10)\n",
    "print(\"MAP@K (K=10): {:.3f}\".format(map_k))\n",
    "\n",
    "ndcg = ndcg_at_k(test_my_songs, pred_list, 10)\n",
    "print(\"nDCG: {:.3f}\".format(ndcg))"
   ]
  },
  {
   "cell_type": "code",
   "execution_count": null,
   "id": "ac873e75",
   "metadata": {},
   "outputs": [],
   "source": [
    "pred_list = []\n",
    "for plist, tags in zip(test_my_songs, test_my_tags):\n",
    "    recommended = song_recommend(tags, plist, song_tag_appended, 'pea', False, True, True, 'cv')\n",
    "    pred_list.append(recommended['song_id'].tolist())\n",
    "print(pred_list[0])"
   ]
  },
  {
   "cell_type": "code",
   "execution_count": null,
   "id": "ff116080",
   "metadata": {},
   "outputs": [],
   "source": [
    "map_k = get_map_k(test_my_songs, pred_list, 10)\n",
    "print(\"MAP@K (K=10): {:.3f}\".format(map_k))\n",
    "\n",
    "ndcg = ndcg_at_k(test_my_songs, pred_list, 10)\n",
    "print(\"nDCG: {:.3f}\".format(ndcg))"
   ]
  },
  {
   "cell_type": "markdown",
   "id": "50a3df0c",
   "metadata": {},
   "source": [
    "# 태그, 장르 불균형 데이터 처리\n",
    "\n",
    "- cv\n",
    "- recommend"
   ]
  },
  {
   "cell_type": "code",
   "execution_count": null,
   "id": "d10f79a5",
   "metadata": {},
   "outputs": [],
   "source": [
    "pred_list = []\n",
    "for plist, tags in zip(test_my_songs, test_my_tags):\n",
    "    recommended = song_recommend(tags, plist, song_tag_appended, 'cos', True, True, False, 'cv')\n",
    "    pred_list.append(recommended['song_id'].tolist())\n",
    "print(pred_list[0])"
   ]
  },
  {
   "cell_type": "code",
   "execution_count": null,
   "id": "08577d60",
   "metadata": {},
   "outputs": [],
   "source": [
    "map_k = get_map_k(test_my_songs, pred_list, 10)\n",
    "print(\"MAP@K (K=10): {:.3f}\".format(map_k))\n",
    "\n",
    "ndcg = ndcg_at_k(test_my_songs, pred_list, 10)\n",
    "print(\"nDCG: {:.3f}\".format(ndcg))"
   ]
  },
  {
   "cell_type": "code",
   "execution_count": null,
   "id": "c7d20279",
   "metadata": {},
   "outputs": [],
   "source": [
    "pred_list = []\n",
    "for plist, tags in zip(test_my_songs, test_my_tags):\n",
    "    recommended = song_recommend(tags, plist, song_tag_appended, 'cos', True, True, True, 'cv')\n",
    "    pred_list.append(recommended['song_id'].tolist())\n",
    "print(pred_list[0])"
   ]
  },
  {
   "cell_type": "code",
   "execution_count": null,
   "id": "84328382",
   "metadata": {},
   "outputs": [],
   "source": [
    "map_k = get_map_k(test_my_songs, pred_list, 10)\n",
    "print(\"MAP@K (K=10): {:.3f}\".format(map_k))\n",
    "\n",
    "ndcg = ndcg_at_k(test_my_songs, pred_list, 10)\n",
    "print(\"nDCG: {:.3f}\".format(ndcg))"
   ]
  },
  {
   "cell_type": "code",
   "execution_count": null,
   "id": "7702e812",
   "metadata": {},
   "outputs": [],
   "source": [
    "pred_list = []\n",
    "for plist, tags in zip(test_my_songs, test_my_tags):\n",
    "    recommended = song_recommend(tags, plist, song_tag_appended, 'jac', True, True, False, 'cv')\n",
    "    pred_list.append(recommended['song_id'].tolist())\n",
    "print(pred_list[0])"
   ]
  },
  {
   "cell_type": "code",
   "execution_count": null,
   "id": "f636da1a",
   "metadata": {},
   "outputs": [],
   "source": [
    "map_k = get_map_k(test_my_songs, pred_list, 10)\n",
    "print(\"MAP@K (K=10): {:.3f}\".format(map_k))\n",
    "\n",
    "ndcg = ndcg_at_k(test_my_songs, pred_list, 10)\n",
    "print(\"nDCG: {:.3f}\".format(ndcg))"
   ]
  },
  {
   "cell_type": "code",
   "execution_count": null,
   "id": "a213bb50",
   "metadata": {},
   "outputs": [],
   "source": [
    "pred_list = []\n",
    "for plist, tags in zip(test_my_songs, test_my_tags):\n",
    "    recommended = song_recommend(tags, plist, song_tag_appended, 'jac', True, True, True, 'cv')\n",
    "    pred_list.append(recommended['song_id'].tolist())\n",
    "print(pred_list[0])"
   ]
  },
  {
   "cell_type": "code",
   "execution_count": null,
   "id": "53153569",
   "metadata": {},
   "outputs": [],
   "source": [
    "map_k = get_map_k(test_my_songs, pred_list, 10)\n",
    "print(\"MAP@K (K=10): {:.3f}\".format(map_k))\n",
    "\n",
    "ndcg = ndcg_at_k(test_my_songs, pred_list, 10)\n",
    "print(\"nDCG: {:.3f}\".format(ndcg))"
   ]
  },
  {
   "cell_type": "code",
   "execution_count": null,
   "id": "5c1755bd",
   "metadata": {},
   "outputs": [],
   "source": [
    "pred_list = []\n",
    "for plist, tags in zip(test_my_songs, test_my_tags):\n",
    "    recommended = song_recommend(tags, plist, song_tag_appended, 'pea', True, True, False, 'cv')\n",
    "    pred_list.append(recommended['song_id'].tolist())\n",
    "print(pred_list[0])"
   ]
  },
  {
   "cell_type": "code",
   "execution_count": null,
   "id": "f9e210a4",
   "metadata": {},
   "outputs": [],
   "source": [
    "map_k = get_map_k(test_my_songs, pred_list, 10)\n",
    "print(\"MAP@K (K=10): {:.3f}\".format(map_k))\n",
    "\n",
    "ndcg = ndcg_at_k(test_my_songs, pred_list, 10)\n",
    "print(\"nDCG: {:.3f}\".format(ndcg))"
   ]
  },
  {
   "cell_type": "code",
   "execution_count": null,
   "id": "abc4061c",
   "metadata": {},
   "outputs": [],
   "source": [
    "pred_list = []\n",
    "for plist, tags in zip(test_my_songs, test_my_tags):\n",
    "    recommended = song_recommend(tags, plist, song_tag_appended, 'pea', True, True, True, 'cv')\n",
    "    pred_list.append(recommended['song_id'].tolist())\n",
    "print(pred_list[0])"
   ]
  },
  {
   "cell_type": "code",
   "execution_count": null,
   "id": "202536a7",
   "metadata": {},
   "outputs": [],
   "source": [
    "map_k = get_map_k(test_my_songs, pred_list, 10)\n",
    "print(\"MAP@K (K=10): {:.3f}\".format(map_k))\n",
    "\n",
    "ndcg = ndcg_at_k(test_my_songs, pred_list, 10)\n",
    "print(\"nDCG: {:.3f}\".format(ndcg))"
   ]
  },
  {
   "cell_type": "markdown",
   "id": "35a89206",
   "metadata": {},
   "source": [
    "# 태그, 장르 불균형 데이터 처리 X\n",
    "\n",
    "- tf-idf\n",
    "- recommend"
   ]
  },
  {
   "cell_type": "code",
   "execution_count": null,
   "id": "b40e1bc3",
   "metadata": {},
   "outputs": [],
   "source": [
    "pred_list = []\n",
    "for plist, tags in zip(test_my_songs, test_my_tags):\n",
    "    recommended = song_recommend(tags, plist, song_tag_appended, 'cos', False, False, False, 'tf')\n",
    "    pred_list.append(recommended['song_id'].tolist())\n",
    "print(pred_list[0])"
   ]
  },
  {
   "cell_type": "code",
   "execution_count": null,
   "id": "9edbb532",
   "metadata": {},
   "outputs": [],
   "source": [
    "map_k = get_map_k(test_my_songs, pred_list, 10)\n",
    "print(\"MAP@K (K=10): {:.3f}\".format(map_k))\n",
    "\n",
    "ndcg = ndcg_at_k(test_my_songs, pred_list, 10)\n",
    "print(\"nDCG: {:.3f}\".format(ndcg))"
   ]
  },
  {
   "cell_type": "code",
   "execution_count": null,
   "id": "a6552747",
   "metadata": {},
   "outputs": [],
   "source": [
    "pred_list = []\n",
    "for plist, tags in zip(test_my_songs, test_my_tags):\n",
    "    recommended = song_recommend(tags, plist, song_tag_appended, 'cos', False, False, True, 'tf')\n",
    "    pred_list.append(recommended['song_id'].tolist())\n",
    "print(pred_list[0])"
   ]
  },
  {
   "cell_type": "code",
   "execution_count": null,
   "id": "128b9c5d",
   "metadata": {},
   "outputs": [],
   "source": [
    "map_k = get_map_k(test_my_songs, pred_list, 10)\n",
    "print(\"MAP@K (K=10): {:.3f}\".format(map_k))\n",
    "\n",
    "ndcg = ndcg_at_k(test_my_songs, pred_list, 10)\n",
    "print(\"nDCG: {:.3f}\".format(ndcg))"
   ]
  },
  {
   "cell_type": "code",
   "execution_count": null,
   "id": "2b027d95",
   "metadata": {},
   "outputs": [],
   "source": [
    "pred_list = []\n",
    "for plist, tags in zip(test_my_songs, test_my_tags):\n",
    "    recommended = song_recommend(tags, plist, song_tag_appended, 'jac', False, False, False, 'tf')\n",
    "    pred_list.append(recommended['song_id'].tolist())\n",
    "print(pred_list[0])"
   ]
  },
  {
   "cell_type": "code",
   "execution_count": null,
   "id": "a01d6745",
   "metadata": {},
   "outputs": [],
   "source": [
    "map_k = get_map_k(test_my_songs, pred_list, 10)\n",
    "print(\"MAP@K (K=10): {:.3f}\".format(map_k))\n",
    "\n",
    "ndcg = ndcg_at_k(test_my_songs, pred_list, 10)\n",
    "print(\"nDCG: {:.3f}\".format(ndcg))"
   ]
  },
  {
   "cell_type": "code",
   "execution_count": null,
   "id": "4eec4f48",
   "metadata": {},
   "outputs": [],
   "source": [
    "pred_list = []\n",
    "for plist, tags in zip(test_my_songs, test_my_tags):\n",
    "    recommended = song_recommend(tags, plist, song_tag_appended, 'jac', False, False, True, 'tf')\n",
    "    pred_list.append(recommended['song_id'].tolist())\n",
    "print(pred_list[0])"
   ]
  },
  {
   "cell_type": "code",
   "execution_count": null,
   "id": "2e0768cb",
   "metadata": {},
   "outputs": [],
   "source": [
    "map_k = get_map_k(test_my_songs, pred_list, 10)\n",
    "print(\"MAP@K (K=10): {:.3f}\".format(map_k))\n",
    "\n",
    "ndcg = ndcg_at_k(test_my_songs, pred_list, 10)\n",
    "print(\"nDCG: {:.3f}\".format(ndcg))"
   ]
  },
  {
   "cell_type": "code",
   "execution_count": null,
   "id": "938a9c40",
   "metadata": {},
   "outputs": [],
   "source": [
    "pred_list = []\n",
    "for plist, tags in zip(test_my_songs, test_my_tags):\n",
    "    recommended = song_recommend(tags, plist, song_tag_appended, 'pea', False, False, False, 'tf')\n",
    "    pred_list.append(recommended['song_id'].tolist())\n",
    "print(pred_list[0])"
   ]
  },
  {
   "cell_type": "code",
   "execution_count": null,
   "id": "dc70ef99",
   "metadata": {},
   "outputs": [],
   "source": [
    "map_k = get_map_k(test_my_songs, pred_list, 10)\n",
    "print(\"MAP@K (K=10): {:.3f}\".format(map_k))\n",
    "\n",
    "ndcg = ndcg_at_k(test_my_songs, pred_list, 10)\n",
    "print(\"nDCG: {:.3f}\".format(ndcg))"
   ]
  },
  {
   "cell_type": "code",
   "execution_count": null,
   "id": "eedfc6d3",
   "metadata": {},
   "outputs": [],
   "source": [
    "pred_list = []\n",
    "for plist, tags in zip(test_my_songs, test_my_tags):\n",
    "    recommended = song_recommend(tags, plist, song_tag_appended, 'pea', False, False, True, 'tf')\n",
    "    pred_list.append(recommended['song_id'].tolist())\n",
    "print(pred_list[0])"
   ]
  },
  {
   "cell_type": "code",
   "execution_count": null,
   "id": "1caddeaa",
   "metadata": {},
   "outputs": [],
   "source": [
    "map_k = get_map_k(test_my_songs, pred_list, 10)\n",
    "print(\"MAP@K (K=10): {:.3f}\".format(map_k))\n",
    "\n",
    "ndcg = ndcg_at_k(test_my_songs, pred_list, 10)\n",
    "print(\"nDCG: {:.3f}\".format(ndcg))"
   ]
  },
  {
   "cell_type": "markdown",
   "id": "0670fe4c",
   "metadata": {},
   "source": [
    "# 태그 불균형 데이터 처리\n",
    "\n",
    "- tf-idf\n",
    "- recommend"
   ]
  },
  {
   "cell_type": "code",
   "execution_count": null,
   "id": "2a175986",
   "metadata": {},
   "outputs": [],
   "source": [
    "pred_list = []\n",
    "for plist, tags in zip(test_my_songs, test_my_tags):\n",
    "    recommended = song_recommend(tags, plist, song_tag_appended, 'cos', True, False, False, 'tf')\n",
    "    pred_list.append(recommended['song_id'].tolist())\n",
    "print(pred_list[0])"
   ]
  },
  {
   "cell_type": "code",
   "execution_count": null,
   "id": "9c049777",
   "metadata": {},
   "outputs": [],
   "source": [
    "map_k = get_map_k(test_my_songs, pred_list, 10)\n",
    "print(\"MAP@K (K=10): {:.3f}\".format(map_k))\n",
    "\n",
    "ndcg = ndcg_at_k(test_my_songs, pred_list, 10)\n",
    "print(\"nDCG: {:.3f}\".format(ndcg))"
   ]
  },
  {
   "cell_type": "code",
   "execution_count": null,
   "id": "1683af71",
   "metadata": {},
   "outputs": [],
   "source": [
    "pred_list = []\n",
    "for plist, tags in zip(test_my_songs, test_my_tags):\n",
    "    recommended = song_recommend(tags, plist, song_tag_appended, 'cos', True, False, True, 'tf')\n",
    "    pred_list.append(recommended['song_id'].tolist())\n",
    "print(pred_list[0])"
   ]
  },
  {
   "cell_type": "code",
   "execution_count": null,
   "id": "af46fdfe",
   "metadata": {},
   "outputs": [],
   "source": [
    "map_k = get_map_k(test_my_songs, pred_list, 10)\n",
    "print(\"MAP@K (K=10): {:.3f}\".format(map_k))\n",
    "\n",
    "ndcg = ndcg_at_k(test_my_songs, pred_list, 10)\n",
    "print(\"nDCG: {:.3f}\".format(ndcg))"
   ]
  },
  {
   "cell_type": "code",
   "execution_count": null,
   "id": "fda5ef82",
   "metadata": {},
   "outputs": [],
   "source": [
    "pred_list = []\n",
    "for plist, tags in zip(test_my_songs, test_my_tags):\n",
    "    recommended = song_recommend(tags, plist, song_tag_appended, 'jac', True, False, False, 'tf')\n",
    "    pred_list.append(recommended['song_id'].tolist())\n",
    "print(pred_list[0])"
   ]
  },
  {
   "cell_type": "code",
   "execution_count": null,
   "id": "d5e7a0b5",
   "metadata": {},
   "outputs": [],
   "source": [
    "map_k = get_map_k(test_my_songs, pred_list, 10)\n",
    "print(\"MAP@K (K=10): {:.3f}\".format(map_k))\n",
    "\n",
    "ndcg = ndcg_at_k(test_my_songs, pred_list, 10)\n",
    "print(\"nDCG: {:.3f}\".format(ndcg))"
   ]
  },
  {
   "cell_type": "code",
   "execution_count": null,
   "id": "a8acf9db",
   "metadata": {},
   "outputs": [],
   "source": [
    "pred_list = []\n",
    "for plist, tags in zip(test_my_songs, test_my_tags):\n",
    "    recommended = song_recommend(tags, plist, song_tag_appended, 'jac', True, False, True, 'tf')\n",
    "    pred_list.append(recommended['song_id'].tolist())\n",
    "print(pred_list[0])"
   ]
  },
  {
   "cell_type": "code",
   "execution_count": null,
   "id": "31d0c08b",
   "metadata": {},
   "outputs": [],
   "source": [
    "map_k = get_map_k(test_my_songs, pred_list, 10)\n",
    "print(\"MAP@K (K=10): {:.3f}\".format(map_k))\n",
    "\n",
    "ndcg = ndcg_at_k(test_my_songs, pred_list, 10)\n",
    "print(\"nDCG: {:.3f}\".format(ndcg))"
   ]
  },
  {
   "cell_type": "code",
   "execution_count": null,
   "id": "f3f8104f",
   "metadata": {},
   "outputs": [],
   "source": [
    "pred_list = []\n",
    "for plist, tags in zip(test_my_songs, test_my_tags):\n",
    "    recommended = song_recommend(tags, plist, song_tag_appended, 'pea', True, False, False, 'tf')\n",
    "    pred_list.append(recommended['song_id'].tolist())\n",
    "print(pred_list[0])"
   ]
  },
  {
   "cell_type": "code",
   "execution_count": null,
   "id": "e15d6bc0",
   "metadata": {},
   "outputs": [],
   "source": [
    "map_k = get_map_k(test_my_songs, pred_list, 10)\n",
    "print(\"MAP@K (K=10): {:.3f}\".format(map_k))\n",
    "\n",
    "ndcg = ndcg_at_k(test_my_songs, pred_list, 10)\n",
    "print(\"nDCG: {:.3f}\".format(ndcg))"
   ]
  },
  {
   "cell_type": "code",
   "execution_count": null,
   "id": "594166c3",
   "metadata": {},
   "outputs": [],
   "source": [
    "pred_list = []\n",
    "for plist, tags in zip(test_my_songs, test_my_tags):\n",
    "    recommended = song_recommend(tags, plist, song_tag_appended, 'pea', True, False, True, 'tf')\n",
    "    pred_list.append(recommended['song_id'].tolist())\n",
    "print(pred_list[0])"
   ]
  },
  {
   "cell_type": "code",
   "execution_count": null,
   "id": "3aab51a2",
   "metadata": {},
   "outputs": [],
   "source": [
    "map_k = get_map_k(test_my_songs, pred_list, 10)\n",
    "print(\"MAP@K (K=10): {:.3f}\".format(map_k))\n",
    "\n",
    "ndcg = ndcg_at_k(test_my_songs, pred_list, 10)\n",
    "print(\"nDCG: {:.3f}\".format(ndcg))"
   ]
  },
  {
   "cell_type": "markdown",
   "id": "0d5865f2",
   "metadata": {},
   "source": [
    "# 장르 불균형 데이터 처리\n",
    "\n",
    "- tf-idf\n",
    "- recommend"
   ]
  },
  {
   "cell_type": "code",
   "execution_count": null,
   "id": "557f1be8",
   "metadata": {},
   "outputs": [],
   "source": [
    "pred_list = []\n",
    "for plist, tags in zip(test_my_songs, test_my_tags):\n",
    "    recommended = song_recommend(tags, plist, song_tag_appended, 'cos', False, True, False, 'tf')\n",
    "    pred_list.append(recommended['song_id'].tolist())\n",
    "print(pred_list[0])"
   ]
  },
  {
   "cell_type": "code",
   "execution_count": null,
   "id": "a3e5983a",
   "metadata": {},
   "outputs": [],
   "source": [
    "map_k = get_map_k(test_my_songs, pred_list, 10)\n",
    "print(\"MAP@K (K=10): {:.3f}\".format(map_k))\n",
    "\n",
    "ndcg = ndcg_at_k(test_my_songs, pred_list, 10)\n",
    "print(\"nDCG: {:.3f}\".format(ndcg))"
   ]
  },
  {
   "cell_type": "code",
   "execution_count": null,
   "id": "da213ba2",
   "metadata": {},
   "outputs": [],
   "source": [
    "pred_list = []\n",
    "for plist, tags in zip(test_my_songs, test_my_tags):\n",
    "    recommended = song_recommend(tags, plist, song_tag_appended, 'cos', False, True, True, 'tf')\n",
    "    pred_list.append(recommended['song_id'].tolist())\n",
    "print(pred_list[0])"
   ]
  },
  {
   "cell_type": "code",
   "execution_count": null,
   "id": "d9c6462e",
   "metadata": {},
   "outputs": [],
   "source": [
    "map_k = get_map_k(test_my_songs, pred_list, 10)\n",
    "print(\"MAP@K (K=10): {:.3f}\".format(map_k))\n",
    "\n",
    "ndcg = ndcg_at_k(test_my_songs, pred_list, 10)\n",
    "print(\"nDCG: {:.3f}\".format(ndcg))"
   ]
  },
  {
   "cell_type": "code",
   "execution_count": null,
   "id": "81195aef",
   "metadata": {},
   "outputs": [],
   "source": [
    "pred_list = []\n",
    "for plist, tags in zip(test_my_songs, test_my_tags):\n",
    "    recommended = song_recommend(tags, plist, song_tag_appended, 'jac', False, True, False, 'tf')\n",
    "    pred_list.append(recommended['song_id'].tolist())\n",
    "print(pred_list[0])"
   ]
  },
  {
   "cell_type": "code",
   "execution_count": null,
   "id": "b3b2fa16",
   "metadata": {},
   "outputs": [],
   "source": [
    "map_k = get_map_k(test_my_songs, pred_list, 10)\n",
    "print(\"MAP@K (K=10): {:.3f}\".format(map_k))\n",
    "\n",
    "ndcg = ndcg_at_k(test_my_songs, pred_list, 10)\n",
    "print(\"nDCG: {:.3f}\".format(ndcg))"
   ]
  },
  {
   "cell_type": "code",
   "execution_count": null,
   "id": "7d27e90d",
   "metadata": {},
   "outputs": [],
   "source": [
    "pred_list = []\n",
    "for plist, tags in zip(test_my_songs, test_my_tags):\n",
    "    recommended = song_recommend(tags, plist, song_tag_appended, 'jac', False, True, True, 'tf')\n",
    "    pred_list.append(recommended['song_id'].tolist())\n",
    "print(pred_list[0])"
   ]
  },
  {
   "cell_type": "code",
   "execution_count": null,
   "id": "8534737a",
   "metadata": {},
   "outputs": [],
   "source": [
    "map_k = get_map_k(test_my_songs, pred_list, 10)\n",
    "print(\"MAP@K (K=10): {:.3f}\".format(map_k))\n",
    "\n",
    "ndcg = ndcg_at_k(test_my_songs, pred_list, 10)\n",
    "print(\"nDCG: {:.3f}\".format(ndcg))"
   ]
  },
  {
   "cell_type": "code",
   "execution_count": null,
   "id": "6db64faf",
   "metadata": {},
   "outputs": [],
   "source": [
    "pred_list = []\n",
    "for plist, tags in zip(test_my_songs, test_my_tags):\n",
    "    recommended = song_recommend(tags, plist, song_tag_appended, 'pea', False, True, False, 'tf')\n",
    "    pred_list.append(recommended['song_id'].tolist())\n",
    "print(pred_list[0])"
   ]
  },
  {
   "cell_type": "code",
   "execution_count": null,
   "id": "fd7311a1",
   "metadata": {},
   "outputs": [],
   "source": [
    "map_k = get_map_k(test_my_songs, pred_list, 10)\n",
    "print(\"MAP@K (K=10): {:.3f}\".format(map_k))\n",
    "\n",
    "ndcg = ndcg_at_k(test_my_songs, pred_list, 10)\n",
    "print(\"nDCG: {:.3f}\".format(ndcg))"
   ]
  },
  {
   "cell_type": "code",
   "execution_count": null,
   "id": "41cc556c",
   "metadata": {},
   "outputs": [],
   "source": [
    "pred_list = []\n",
    "for plist, tags in zip(test_my_songs, test_my_tags):\n",
    "    recommended = song_recommend(tags, plist, song_tag_appended, 'pea', False, True, True, 'tf')\n",
    "    pred_list.append(recommended['song_id'].tolist())\n",
    "print(pred_list[0])"
   ]
  },
  {
   "cell_type": "code",
   "execution_count": null,
   "id": "7d065d1c",
   "metadata": {},
   "outputs": [],
   "source": [
    "map_k = get_map_k(test_my_songs, pred_list, 10)\n",
    "print(\"MAP@K (K=10): {:.3f}\".format(map_k))\n",
    "\n",
    "ndcg = ndcg_at_k(test_my_songs, pred_list, 10)\n",
    "print(\"nDCG: {:.3f}\".format(ndcg))"
   ]
  },
  {
   "cell_type": "markdown",
   "id": "6217cdce",
   "metadata": {},
   "source": [
    "# 태그, 장르 불균형 데이터 처리\n",
    "\n",
    "- tf-idf\n",
    "- recommend"
   ]
  },
  {
   "cell_type": "code",
   "execution_count": null,
   "id": "d7547f0d",
   "metadata": {},
   "outputs": [],
   "source": [
    "pred_list = []\n",
    "for plist, tags in zip(test_my_songs, test_my_tags):\n",
    "    recommended = song_recommend(tags, plist, song_tag_appended, 'cos', True, True, False, 'tf')\n",
    "    pred_list.append(recommended['song_id'].tolist())\n",
    "print(pred_list[0])"
   ]
  },
  {
   "cell_type": "code",
   "execution_count": null,
   "id": "ec47b506",
   "metadata": {},
   "outputs": [],
   "source": [
    "map_k = get_map_k(test_my_songs, pred_list, 10)\n",
    "print(\"MAP@K (K=10): {:.3f}\".format(map_k))\n",
    "\n",
    "ndcg = ndcg_at_k(test_my_songs, pred_list, 10)\n",
    "print(\"nDCG: {:.3f}\".format(ndcg))"
   ]
  },
  {
   "cell_type": "code",
   "execution_count": null,
   "id": "fd8cbbb0",
   "metadata": {},
   "outputs": [],
   "source": [
    "pred_list = []\n",
    "for plist, tags in zip(test_my_songs, test_my_tags):\n",
    "    recommended = song_recommend(tags, plist, song_tag_appended, 'cos', True, True, True, 'tf')\n",
    "    pred_list.append(recommended['song_id'].tolist())\n",
    "print(pred_list[0])"
   ]
  },
  {
   "cell_type": "code",
   "execution_count": null,
   "id": "88b94730",
   "metadata": {},
   "outputs": [],
   "source": [
    "map_k = get_map_k(test_my_songs, pred_list, 10)\n",
    "print(\"MAP@K (K=10): {:.3f}\".format(map_k))\n",
    "\n",
    "ndcg = ndcg_at_k(test_my_songs, pred_list, 10)\n",
    "print(\"nDCG: {:.3f}\".format(ndcg))"
   ]
  },
  {
   "cell_type": "code",
   "execution_count": null,
   "id": "6c88b227",
   "metadata": {},
   "outputs": [],
   "source": [
    "pred_list = []\n",
    "for plist, tags in zip(test_my_songs, test_my_tags):\n",
    "    recommended = song_recommend(tags, plist, song_tag_appended, 'jac', True, True, False, 'tf')\n",
    "    pred_list.append(recommended['song_id'].tolist())\n",
    "print(pred_list[0])"
   ]
  },
  {
   "cell_type": "code",
   "execution_count": null,
   "id": "f4411fda",
   "metadata": {},
   "outputs": [],
   "source": [
    "map_k = get_map_k(test_my_songs, pred_list, 10)\n",
    "print(\"MAP@K (K=10): {:.3f}\".format(map_k))\n",
    "\n",
    "ndcg = ndcg_at_k(test_my_songs, pred_list, 10)\n",
    "print(\"nDCG: {:.3f}\".format(ndcg))"
   ]
  },
  {
   "cell_type": "code",
   "execution_count": null,
   "id": "414c59a3",
   "metadata": {},
   "outputs": [],
   "source": [
    "pred_list = []\n",
    "for plist, tags in zip(test_my_songs, test_my_tags):\n",
    "    recommended = song_recommend(tags, plist, song_tag_appended, 'jac', True, True, True, 'tf')\n",
    "    pred_list.append(recommended['song_id'].tolist())\n",
    "print(pred_list[0])"
   ]
  },
  {
   "cell_type": "code",
   "execution_count": null,
   "id": "dbf9896b",
   "metadata": {},
   "outputs": [],
   "source": [
    "map_k = get_map_k(test_my_songs, pred_list, 10)\n",
    "print(\"MAP@K (K=10): {:.3f}\".format(map_k))\n",
    "\n",
    "ndcg = ndcg_at_k(test_my_songs, pred_list, 10)\n",
    "print(\"nDCG: {:.3f}\".format(ndcg))"
   ]
  },
  {
   "cell_type": "code",
   "execution_count": null,
   "id": "f07a31a7",
   "metadata": {},
   "outputs": [],
   "source": [
    "pred_list = []\n",
    "for plist, tags in zip(test_my_songs, test_my_tags):\n",
    "    recommended = song_recommend(tags, plist, song_tag_appended, 'pea', True, True, False, 'tf')\n",
    "    pred_list.append(recommended['song_id'].tolist())\n",
    "print(pred_list[0])"
   ]
  },
  {
   "cell_type": "code",
   "execution_count": null,
   "id": "60f35a81",
   "metadata": {},
   "outputs": [],
   "source": [
    "map_k = get_map_k(test_my_songs, pred_list, 10)\n",
    "print(\"MAP@K (K=10): {:.3f}\".format(map_k))\n",
    "\n",
    "ndcg = ndcg_at_k(test_my_songs, pred_list, 10)\n",
    "print(\"nDCG: {:.3f}\".format(ndcg))"
   ]
  },
  {
   "cell_type": "code",
   "execution_count": null,
   "id": "ecdf3c38",
   "metadata": {},
   "outputs": [],
   "source": [
    "pred_list = []\n",
    "for plist, tags in zip(test_my_songs, test_my_tags):\n",
    "    recommended = song_recommend(tags, plist, song_tag_appended, 'pea', True, True, True, 'tf')\n",
    "    pred_list.append(recommended['song_id'].tolist())\n",
    "print(pred_list[0])"
   ]
  },
  {
   "cell_type": "code",
   "execution_count": null,
   "id": "bceaf6fe",
   "metadata": {},
   "outputs": [],
   "source": [
    "map_k = get_map_k(test_my_songs, pred_list, 10)\n",
    "print(\"MAP@K (K=10): {:.3f}\".format(map_k))\n",
    "\n",
    "ndcg = ndcg_at_k(test_my_songs, pred_list, 10)\n",
    "print(\"nDCG: {:.3f}\".format(ndcg))"
   ]
  },
  {
   "cell_type": "markdown",
   "id": "f75ecb3d",
   "metadata": {},
   "source": [
    "# 태그, 장르 불균형 데이터 처리 X\n",
    "\n",
    "- cv\n",
    "- recommend2"
   ]
  },
  {
   "cell_type": "code",
   "execution_count": null,
   "id": "80c5bfa6",
   "metadata": {},
   "outputs": [],
   "source": [
    "pred_list = []\n",
    "for plist, tags in zip(test_my_songs, test_my_tags):\n",
    "    recommended = song_recommend2(tags, plist, song_tag_appended, 'cos', False, False, False, 'cv')\n",
    "    pred_list.append(recommended['song_id'].tolist())\n",
    "print(pred_list[0])"
   ]
  },
  {
   "cell_type": "code",
   "execution_count": null,
   "id": "d969dbaf",
   "metadata": {},
   "outputs": [],
   "source": [
    "map_k = get_map_k(test_my_songs, pred_list, 10)\n",
    "print(\"MAP@K (K=10): {:.3f}\".format(map_k))\n",
    "\n",
    "ndcg = ndcg_at_k(test_my_songs, pred_list, 10)\n",
    "print(\"nDCG: {:.3f}\".format(ndcg))"
   ]
  },
  {
   "cell_type": "code",
   "execution_count": null,
   "id": "a71657cc",
   "metadata": {},
   "outputs": [],
   "source": [
    "pred_list = []\n",
    "for plist, tags in zip(test_my_songs, test_my_tags):\n",
    "    recommended = song_recommend2(tags, plist, song_tag_appended, 'cos', False, False, True, 'cv')\n",
    "    pred_list.append(recommended['song_id'].tolist())\n",
    "print(pred_list[0])"
   ]
  },
  {
   "cell_type": "code",
   "execution_count": null,
   "id": "645dbbf6",
   "metadata": {},
   "outputs": [],
   "source": [
    "map_k = get_map_k(test_my_songs, pred_list, 10)\n",
    "print(\"MAP@K (K=10): {:.3f}\".format(map_k))\n",
    "\n",
    "ndcg = ndcg_at_k(test_my_songs, pred_list, 10)\n",
    "print(\"nDCG: {:.3f}\".format(ndcg))"
   ]
  },
  {
   "cell_type": "code",
   "execution_count": null,
   "id": "0ed35b41",
   "metadata": {},
   "outputs": [],
   "source": [
    "pred_list = []\n",
    "for plist, tags in zip(test_my_songs, test_my_tags):\n",
    "    recommended = song_recommend2(tags, plist, song_tag_appended, 'jac', False, False, False, 'cv')\n",
    "    pred_list.append(recommended['song_id'].tolist())\n",
    "print(pred_list[0])"
   ]
  },
  {
   "cell_type": "code",
   "execution_count": null,
   "id": "1a8cdaef",
   "metadata": {},
   "outputs": [],
   "source": [
    "map_k = get_map_k(test_my_songs, pred_list, 10)\n",
    "print(\"MAP@K (K=10): {:.3f}\".format(map_k))\n",
    "\n",
    "ndcg = ndcg_at_k(test_my_songs, pred_list, 10)\n",
    "print(\"nDCG: {:.3f}\".format(ndcg))"
   ]
  },
  {
   "cell_type": "code",
   "execution_count": null,
   "id": "5353d923",
   "metadata": {},
   "outputs": [],
   "source": [
    "pred_list = []\n",
    "for plist, tags in zip(test_my_songs, test_my_tags):\n",
    "    recommended = song_recommend2(tags, plist, song_tag_appended, 'jac', False, False, True, 'cv')\n",
    "    pred_list.append(recommended['song_id'].tolist())\n",
    "print(pred_list[0])"
   ]
  },
  {
   "cell_type": "code",
   "execution_count": null,
   "id": "450efb03",
   "metadata": {},
   "outputs": [],
   "source": [
    "map_k = get_map_k(test_my_songs, pred_list, 10)\n",
    "print(\"MAP@K (K=10): {:.3f}\".format(map_k))\n",
    "\n",
    "ndcg = ndcg_at_k(test_my_songs, pred_list, 10)\n",
    "print(\"nDCG: {:.3f}\".format(ndcg))"
   ]
  },
  {
   "cell_type": "code",
   "execution_count": null,
   "id": "efb4e9d1",
   "metadata": {},
   "outputs": [],
   "source": [
    "pred_list = []\n",
    "for plist, tags in zip(test_my_songs, test_my_tags):\n",
    "    recommended = song_recommend2(tags, plist, song_tag_appended, 'pea', False, False, False, 'cv')\n",
    "    pred_list.append(recommended['song_id'].tolist())\n",
    "print(pred_list[0])"
   ]
  },
  {
   "cell_type": "code",
   "execution_count": null,
   "id": "6d1e41c4",
   "metadata": {},
   "outputs": [],
   "source": [
    "map_k = get_map_k(test_my_songs, pred_list, 10)\n",
    "print(\"MAP@K (K=10): {:.3f}\".format(map_k))\n",
    "\n",
    "ndcg = ndcg_at_k(test_my_songs, pred_list, 10)\n",
    "print(\"nDCG: {:.3f}\".format(ndcg))"
   ]
  },
  {
   "cell_type": "code",
   "execution_count": null,
   "id": "6c5bc05f",
   "metadata": {},
   "outputs": [],
   "source": [
    "pred_list = []\n",
    "for plist, tags in zip(test_my_songs, test_my_tags):\n",
    "    recommended = song_recommend2(tags, plist, song_tag_appended, 'pea', False, False, True, 'cv')\n",
    "    pred_list.append(recommended['song_id'].tolist())\n",
    "print(pred_list[0])"
   ]
  },
  {
   "cell_type": "code",
   "execution_count": null,
   "id": "4168bf15",
   "metadata": {},
   "outputs": [],
   "source": [
    "map_k = get_map_k(test_my_songs, pred_list, 10)\n",
    "print(\"MAP@K (K=10): {:.3f}\".format(map_k))\n",
    "\n",
    "ndcg = ndcg_at_k(test_my_songs, pred_list, 10)\n",
    "print(\"nDCG: {:.3f}\".format(ndcg))"
   ]
  },
  {
   "cell_type": "markdown",
   "id": "10b2c777",
   "metadata": {},
   "source": [
    "# 태그 불균형 데이터 처리\n",
    "\n",
    "- cv\n",
    "- recommend2"
   ]
  },
  {
   "cell_type": "code",
   "execution_count": null,
   "id": "90f9a066",
   "metadata": {},
   "outputs": [],
   "source": [
    "pred_list = []\n",
    "for plist, tags in zip(test_my_songs, test_my_tags):\n",
    "    recommended = song_recommend2(tags, plist, song_tag_appended, 'cos', True, False, False, 'cv')\n",
    "    pred_list.append(recommended['song_id'].tolist())\n",
    "print(pred_list[0])"
   ]
  },
  {
   "cell_type": "code",
   "execution_count": null,
   "id": "307e5972",
   "metadata": {},
   "outputs": [],
   "source": [
    "map_k = get_map_k(test_my_songs, pred_list, 10)\n",
    "print(\"MAP@K (K=10): {:.3f}\".format(map_k))\n",
    "\n",
    "ndcg = ndcg_at_k(test_my_songs, pred_list, 10)\n",
    "print(\"nDCG: {:.3f}\".format(ndcg))"
   ]
  },
  {
   "cell_type": "code",
   "execution_count": null,
   "id": "65769aa5",
   "metadata": {},
   "outputs": [],
   "source": [
    "pred_list = []\n",
    "for plist, tags in zip(test_my_songs, test_my_tags):\n",
    "    recommended = song_recommend2(tags, plist, song_tag_appended, 'cos', True, False, True, 'cv')\n",
    "    pred_list.append(recommended['song_id'].tolist())\n",
    "print(pred_list[0])"
   ]
  },
  {
   "cell_type": "code",
   "execution_count": null,
   "id": "3d122e74",
   "metadata": {},
   "outputs": [],
   "source": [
    "map_k = get_map_k(test_my_songs, pred_list, 10)\n",
    "print(\"MAP@K (K=10): {:.3f}\".format(map_k))\n",
    "\n",
    "ndcg = ndcg_at_k(test_my_songs, pred_list, 10)\n",
    "print(\"nDCG: {:.3f}\".format(ndcg))"
   ]
  },
  {
   "cell_type": "code",
   "execution_count": null,
   "id": "5897e3d3",
   "metadata": {},
   "outputs": [],
   "source": [
    "pred_list = []\n",
    "for plist, tags in zip(test_my_songs, test_my_tags):\n",
    "    recommended = song_recommend2(tags, plist, song_tag_appended, 'jac', True, False, False, 'cv')\n",
    "    pred_list.append(recommended['song_id'].tolist())\n",
    "print(pred_list[0])"
   ]
  },
  {
   "cell_type": "code",
   "execution_count": null,
   "id": "d151587a",
   "metadata": {},
   "outputs": [],
   "source": [
    "map_k = get_map_k(test_my_songs, pred_list, 10)\n",
    "print(\"MAP@K (K=10): {:.3f}\".format(map_k))\n",
    "\n",
    "ndcg = ndcg_at_k(test_my_songs, pred_list, 10)\n",
    "print(\"nDCG: {:.3f}\".format(ndcg))"
   ]
  },
  {
   "cell_type": "code",
   "execution_count": null,
   "id": "64c6c109",
   "metadata": {},
   "outputs": [],
   "source": [
    "pred_list = []\n",
    "for plist, tags in zip(test_my_songs, test_my_tags):\n",
    "    recommended = song_recommend2(tags, plist, song_tag_appended, 'jac', True, False, True, 'cv')\n",
    "    pred_list.append(recommended['song_id'].tolist())\n",
    "print(pred_list[0])"
   ]
  },
  {
   "cell_type": "code",
   "execution_count": null,
   "id": "73fc9b3c",
   "metadata": {},
   "outputs": [],
   "source": [
    "map_k = get_map_k(test_my_songs, pred_list, 10)\n",
    "print(\"MAP@K (K=10): {:.3f}\".format(map_k))\n",
    "\n",
    "ndcg = ndcg_at_k(test_my_songs, pred_list, 10)\n",
    "print(\"nDCG: {:.3f}\".format(ndcg))"
   ]
  },
  {
   "cell_type": "code",
   "execution_count": null,
   "id": "3ce0ddc0",
   "metadata": {},
   "outputs": [],
   "source": [
    "pred_list = []\n",
    "for plist, tags in zip(test_my_songs, test_my_tags):\n",
    "    recommended = song_recommend2(tags, plist, song_tag_appended, 'pea', True, False, False, 'cv')\n",
    "    pred_list.append(recommended['song_id'].tolist())\n",
    "print(pred_list[0])"
   ]
  },
  {
   "cell_type": "code",
   "execution_count": null,
   "id": "227aca23",
   "metadata": {},
   "outputs": [],
   "source": [
    "map_k = get_map_k(test_my_songs, pred_list, 10)\n",
    "print(\"MAP@K (K=10): {:.3f}\".format(map_k))\n",
    "\n",
    "ndcg = ndcg_at_k(test_my_songs, pred_list, 10)\n",
    "print(\"nDCG: {:.3f}\".format(ndcg))"
   ]
  },
  {
   "cell_type": "code",
   "execution_count": null,
   "id": "05f5d45e",
   "metadata": {},
   "outputs": [],
   "source": [
    "pred_list = []\n",
    "for plist, tags in zip(test_my_songs, test_my_tags):\n",
    "    recommended = song_recommend2(tags, plist, song_tag_appended, 'pea', True, False, True, 'cv')\n",
    "    pred_list.append(recommended['song_id'].tolist())\n",
    "print(pred_list[0])"
   ]
  },
  {
   "cell_type": "code",
   "execution_count": null,
   "id": "be435fb8",
   "metadata": {},
   "outputs": [],
   "source": [
    "map_k = get_map_k(test_my_songs, pred_list, 10)\n",
    "print(\"MAP@K (K=10): {:.3f}\".format(map_k))\n",
    "\n",
    "ndcg = ndcg_at_k(test_my_songs, pred_list, 10)\n",
    "print(\"nDCG: {:.3f}\".format(ndcg))"
   ]
  },
  {
   "cell_type": "markdown",
   "id": "9d8387fb",
   "metadata": {},
   "source": [
    "# 장르 불균형 데이터 처리\n",
    "\n",
    "- cv\n",
    "- recommend2"
   ]
  },
  {
   "cell_type": "code",
   "execution_count": null,
   "id": "7cec9bd4",
   "metadata": {},
   "outputs": [],
   "source": [
    "pred_list = []\n",
    "for plist, tags in zip(test_my_songs, test_my_tags):\n",
    "    recommended = song_recommend2(tags, plist, song_tag_appended, 'cos', False, True, False, 'cv')\n",
    "    pred_list.append(recommended['song_id'].tolist())\n",
    "print(pred_list[0])"
   ]
  },
  {
   "cell_type": "code",
   "execution_count": null,
   "id": "8ff80575",
   "metadata": {},
   "outputs": [],
   "source": [
    "map_k = get_map_k(test_my_songs, pred_list, 10)\n",
    "print(\"MAP@K (K=10): {:.3f}\".format(map_k))\n",
    "\n",
    "ndcg = ndcg_at_k(test_my_songs, pred_list, 10)\n",
    "print(\"nDCG: {:.3f}\".format(ndcg))"
   ]
  },
  {
   "cell_type": "code",
   "execution_count": null,
   "id": "f6689d42",
   "metadata": {},
   "outputs": [],
   "source": [
    "pred_list = []\n",
    "for plist, tags in zip(test_my_songs, test_my_tags):\n",
    "    recommended = song_recommend2(tags, plist, song_tag_appended, 'cos', False, True, True, 'cv')\n",
    "    pred_list.append(recommended['song_id'].tolist())\n",
    "print(pred_list[0])"
   ]
  },
  {
   "cell_type": "code",
   "execution_count": null,
   "id": "0ea74a71",
   "metadata": {},
   "outputs": [],
   "source": [
    "map_k = get_map_k(test_my_songs, pred_list, 10)\n",
    "print(\"MAP@K (K=10): {:.3f}\".format(map_k))\n",
    "\n",
    "ndcg = ndcg_at_k(test_my_songs, pred_list, 10)\n",
    "print(\"nDCG: {:.3f}\".format(ndcg))"
   ]
  },
  {
   "cell_type": "code",
   "execution_count": null,
   "id": "f4c191e0",
   "metadata": {},
   "outputs": [],
   "source": [
    "pred_list = []\n",
    "for plist, tags in zip(test_my_songs, test_my_tags):\n",
    "    recommended = song_recommend2(tags, plist, song_tag_appended, 'jac', False, True, False, 'cv')\n",
    "    pred_list.append(recommended['song_id'].tolist())\n",
    "print(pred_list[0])"
   ]
  },
  {
   "cell_type": "code",
   "execution_count": null,
   "id": "91e1f0e7",
   "metadata": {},
   "outputs": [],
   "source": [
    "map_k = get_map_k(test_my_songs, pred_list, 10)\n",
    "print(\"MAP@K (K=10): {:.3f}\".format(map_k))\n",
    "\n",
    "ndcg = ndcg_at_k(test_my_songs, pred_list, 10)\n",
    "print(\"nDCG: {:.3f}\".format(ndcg))"
   ]
  },
  {
   "cell_type": "code",
   "execution_count": null,
   "id": "d97c2655",
   "metadata": {},
   "outputs": [],
   "source": [
    "pred_list = []\n",
    "for plist, tags in zip(test_my_songs, test_my_tags):\n",
    "    recommended = song_recommend2(tags, plist, song_tag_appended, 'jac', False, True, True, 'cv')\n",
    "    pred_list.append(recommended['song_id'].tolist())\n",
    "print(pred_list[0])"
   ]
  },
  {
   "cell_type": "code",
   "execution_count": null,
   "id": "0d62ba74",
   "metadata": {},
   "outputs": [],
   "source": [
    "map_k = get_map_k(test_my_songs, pred_list, 10)\n",
    "print(\"MAP@K (K=10): {:.3f}\".format(map_k))\n",
    "\n",
    "ndcg = ndcg_at_k(test_my_songs, pred_list, 10)\n",
    "print(\"nDCG: {:.3f}\".format(ndcg))"
   ]
  },
  {
   "cell_type": "code",
   "execution_count": null,
   "id": "c6e7b71d",
   "metadata": {},
   "outputs": [],
   "source": [
    "pred_list = []\n",
    "for plist, tags in zip(test_my_songs, test_my_tags):\n",
    "    recommended = song_recommend2(tags, plist, song_tag_appended, 'pea', False, True, False, 'cv')\n",
    "    pred_list.append(recommended['song_id'].tolist())\n",
    "print(pred_list[0])"
   ]
  },
  {
   "cell_type": "code",
   "execution_count": null,
   "id": "6c3473dc",
   "metadata": {},
   "outputs": [],
   "source": [
    "map_k = get_map_k(test_my_songs, pred_list, 10)\n",
    "print(\"MAP@K (K=10): {:.3f}\".format(map_k))\n",
    "\n",
    "ndcg = ndcg_at_k(test_my_songs, pred_list, 10)\n",
    "print(\"nDCG: {:.3f}\".format(ndcg))"
   ]
  },
  {
   "cell_type": "code",
   "execution_count": null,
   "id": "3a703d33",
   "metadata": {},
   "outputs": [],
   "source": [
    "pred_list = []\n",
    "for plist, tags in zip(test_my_songs, test_my_tags):\n",
    "    recommended = song_recommend2(tags, plist, song_tag_appended, 'pea', False, True, True, 'cv')\n",
    "    pred_list.append(recommended['song_id'].tolist())\n",
    "print(pred_list[0])"
   ]
  },
  {
   "cell_type": "code",
   "execution_count": null,
   "id": "13809ffd",
   "metadata": {},
   "outputs": [],
   "source": [
    "map_k = get_map_k(test_my_songs, pred_list, 10)\n",
    "print(\"MAP@K (K=10): {:.3f}\".format(map_k))\n",
    "\n",
    "ndcg = ndcg_at_k(test_my_songs, pred_list, 10)\n",
    "print(\"nDCG: {:.3f}\".format(ndcg))"
   ]
  },
  {
   "cell_type": "markdown",
   "id": "2c178ed8",
   "metadata": {},
   "source": [
    "# 태그, 장르 불균형 데이터 처리\n",
    "\n",
    "- cv\n",
    "- recommend2"
   ]
  },
  {
   "cell_type": "code",
   "execution_count": null,
   "id": "e77cc4c8",
   "metadata": {},
   "outputs": [],
   "source": [
    "pred_list = []\n",
    "for plist, tags in zip(test_my_songs, test_my_tags):\n",
    "    recommended = song_recommend2(tags, plist, song_tag_appended, 'cos', True, True, False, 'cv')\n",
    "    pred_list.append(recommended['song_id'].tolist())\n",
    "print(pred_list[0])"
   ]
  },
  {
   "cell_type": "code",
   "execution_count": null,
   "id": "d4574c03",
   "metadata": {},
   "outputs": [],
   "source": [
    "map_k = get_map_k(test_my_songs, pred_list, 10)\n",
    "print(\"MAP@K (K=10): {:.3f}\".format(map_k))\n",
    "\n",
    "ndcg = ndcg_at_k(test_my_songs, pred_list, 10)\n",
    "print(\"nDCG: {:.3f}\".format(ndcg))"
   ]
  },
  {
   "cell_type": "code",
   "execution_count": null,
   "id": "c2d5a904",
   "metadata": {},
   "outputs": [],
   "source": [
    "pred_list = []\n",
    "for plist, tags in zip(test_my_songs, test_my_tags):\n",
    "    recommended = song_recommend2(tags, plist, song_tag_appended, 'cos', True, True, True, 'cv')\n",
    "    pred_list.append(recommended['song_id'].tolist())\n",
    "print(pred_list[0])"
   ]
  },
  {
   "cell_type": "code",
   "execution_count": null,
   "id": "88195399",
   "metadata": {},
   "outputs": [],
   "source": [
    "map_k = get_map_k(test_my_songs, pred_list, 10)\n",
    "print(\"MAP@K (K=10): {:.3f}\".format(map_k))\n",
    "\n",
    "ndcg = ndcg_at_k(test_my_songs, pred_list, 10)\n",
    "print(\"nDCG: {:.3f}\".format(ndcg))"
   ]
  },
  {
   "cell_type": "code",
   "execution_count": null,
   "id": "b5ae0003",
   "metadata": {},
   "outputs": [],
   "source": [
    "pred_list = []\n",
    "for plist, tags in zip(test_my_songs, test_my_tags):\n",
    "    recommended = song_recommend2(tags, plist, song_tag_appended, 'jac', True, True, False, 'cv')\n",
    "    pred_list.append(recommended['song_id'].tolist())\n",
    "print(pred_list[0])"
   ]
  },
  {
   "cell_type": "code",
   "execution_count": null,
   "id": "9b34801d",
   "metadata": {},
   "outputs": [],
   "source": [
    "map_k = get_map_k(test_my_songs, pred_list, 10)\n",
    "print(\"MAP@K (K=10): {:.3f}\".format(map_k))\n",
    "\n",
    "ndcg = ndcg_at_k(test_my_songs, pred_list, 10)\n",
    "print(\"nDCG: {:.3f}\".format(ndcg))"
   ]
  },
  {
   "cell_type": "code",
   "execution_count": null,
   "id": "4112d55b",
   "metadata": {},
   "outputs": [],
   "source": [
    "pred_list = []\n",
    "for plist, tags in zip(test_my_songs, test_my_tags):\n",
    "    recommended = song_recommend2(tags, plist, song_tag_appended, 'jac', True, True, True, 'cv')\n",
    "    pred_list.append(recommended['song_id'].tolist())\n",
    "print(pred_list[0])"
   ]
  },
  {
   "cell_type": "code",
   "execution_count": null,
   "id": "86e4be61",
   "metadata": {},
   "outputs": [],
   "source": [
    "map_k = get_map_k(test_my_songs, pred_list, 10)\n",
    "print(\"MAP@K (K=10): {:.3f}\".format(map_k))\n",
    "\n",
    "ndcg = ndcg_at_k(test_my_songs, pred_list, 10)\n",
    "print(\"nDCG: {:.3f}\".format(ndcg))"
   ]
  },
  {
   "cell_type": "code",
   "execution_count": null,
   "id": "a3953998",
   "metadata": {},
   "outputs": [],
   "source": [
    "pred_list = []\n",
    "for plist, tags in zip(test_my_songs, test_my_tags):\n",
    "    recommended = song_recommend2(tags, plist, song_tag_appended, 'pea', True, True, False, 'cv')\n",
    "    pred_list.append(recommended['song_id'].tolist())\n",
    "print(pred_list[0])"
   ]
  },
  {
   "cell_type": "code",
   "execution_count": null,
   "id": "a18c19c6",
   "metadata": {},
   "outputs": [],
   "source": [
    "map_k = get_map_k(test_my_songs, pred_list, 10)\n",
    "print(\"MAP@K (K=10): {:.3f}\".format(map_k))\n",
    "\n",
    "ndcg = ndcg_at_k(test_my_songs, pred_list, 10)\n",
    "print(\"nDCG: {:.3f}\".format(ndcg))"
   ]
  },
  {
   "cell_type": "code",
   "execution_count": null,
   "id": "254e52ce",
   "metadata": {},
   "outputs": [],
   "source": [
    "pred_list = []\n",
    "for plist, tags in zip(test_my_songs, test_my_tags):\n",
    "    recommended = song_recommend2(tags, plist, song_tag_appended, 'pea', True, True, True, 'cv')\n",
    "    pred_list.append(recommended['song_id'].tolist())\n",
    "print(pred_list[0])"
   ]
  },
  {
   "cell_type": "code",
   "execution_count": null,
   "id": "845349c1",
   "metadata": {},
   "outputs": [],
   "source": [
    "map_k = get_map_k(test_my_songs, pred_list, 10)\n",
    "print(\"MAP@K (K=10): {:.3f}\".format(map_k))\n",
    "\n",
    "ndcg = ndcg_at_k(test_my_songs, pred_list, 10)\n",
    "print(\"nDCG: {:.3f}\".format(ndcg))"
   ]
  },
  {
   "cell_type": "markdown",
   "id": "3041cf85",
   "metadata": {},
   "source": [
    "# 태그, 장르 불균형 데이터 처리 X\n",
    "\n",
    "- tf-idf\n",
    "- recommend2"
   ]
  },
  {
   "cell_type": "code",
   "execution_count": null,
   "id": "c28f0184",
   "metadata": {},
   "outputs": [],
   "source": [
    "pred_list = []\n",
    "for plist, tags in zip(test_my_songs, test_my_tags):\n",
    "    recommended = song_recommend2(tags, plist, song_tag_appended, 'cos', False, False, False, 'tf')\n",
    "    pred_list.append(recommended['song_id'].tolist())\n",
    "print(pred_list[0])"
   ]
  },
  {
   "cell_type": "code",
   "execution_count": null,
   "id": "28e8b7a9",
   "metadata": {},
   "outputs": [],
   "source": [
    "map_k = get_map_k(test_my_songs, pred_list, 10)\n",
    "print(\"MAP@K (K=10): {:.3f}\".format(map_k))\n",
    "\n",
    "ndcg = ndcg_at_k(test_my_songs, pred_list, 10)\n",
    "print(\"nDCG: {:.3f}\".format(ndcg))"
   ]
  },
  {
   "cell_type": "code",
   "execution_count": null,
   "id": "faac1af4",
   "metadata": {},
   "outputs": [],
   "source": [
    "pred_list = []\n",
    "for plist, tags in zip(test_my_songs, test_my_tags):\n",
    "    recommended = song_recommend2(tags, plist, song_tag_appended, 'cos', False, False, True, 'tf')\n",
    "    pred_list.append(recommended['song_id'].tolist())\n",
    "print(pred_list[0])"
   ]
  },
  {
   "cell_type": "code",
   "execution_count": null,
   "id": "f730e123",
   "metadata": {},
   "outputs": [],
   "source": [
    "map_k = get_map_k(test_my_songs, pred_list, 10)\n",
    "print(\"MAP@K (K=10): {:.3f}\".format(map_k))\n",
    "\n",
    "ndcg = ndcg_at_k(test_my_songs, pred_list, 10)\n",
    "print(\"nDCG: {:.3f}\".format(ndcg))"
   ]
  },
  {
   "cell_type": "code",
   "execution_count": null,
   "id": "4e8c774e",
   "metadata": {},
   "outputs": [],
   "source": [
    "pred_list = []\n",
    "for plist, tags in zip(test_my_songs, test_my_tags):\n",
    "    recommended = song_recommend2(tags, plist, song_tag_appended, 'jac', False, False, False, 'tf')\n",
    "    pred_list.append(recommended['song_id'].tolist())\n",
    "print(pred_list[0])"
   ]
  },
  {
   "cell_type": "code",
   "execution_count": null,
   "id": "c09dcaa0",
   "metadata": {},
   "outputs": [],
   "source": [
    "map_k = get_map_k(test_my_songs, pred_list, 10)\n",
    "print(\"MAP@K (K=10): {:.3f}\".format(map_k))\n",
    "\n",
    "ndcg = ndcg_at_k(test_my_songs, pred_list, 10)\n",
    "print(\"nDCG: {:.3f}\".format(ndcg))"
   ]
  },
  {
   "cell_type": "code",
   "execution_count": null,
   "id": "4dd3855a",
   "metadata": {},
   "outputs": [],
   "source": [
    "pred_list = []\n",
    "for plist, tags in zip(test_my_songs, test_my_tags):\n",
    "    recommended = song_recommend2(tags, plist, song_tag_appended, 'jac', False, False, True, 'tf')\n",
    "    pred_list.append(recommended['song_id'].tolist())\n",
    "print(pred_list[0])"
   ]
  },
  {
   "cell_type": "code",
   "execution_count": null,
   "id": "80e8151a",
   "metadata": {},
   "outputs": [],
   "source": [
    "map_k = get_map_k(test_my_songs, pred_list, 10)\n",
    "print(\"MAP@K (K=10): {:.3f}\".format(map_k))\n",
    "\n",
    "ndcg = ndcg_at_k(test_my_songs, pred_list, 10)\n",
    "print(\"nDCG: {:.3f}\".format(ndcg))"
   ]
  },
  {
   "cell_type": "code",
   "execution_count": null,
   "id": "0b1b6173",
   "metadata": {},
   "outputs": [],
   "source": [
    "pred_list = []\n",
    "for plist, tags in zip(test_my_songs, test_my_tags):\n",
    "    recommended = song_recommend2(tags, plist, song_tag_appended, 'pea', False, False, False, 'tf')\n",
    "    pred_list.append(recommended['song_id'].tolist())\n",
    "print(pred_list[0])"
   ]
  },
  {
   "cell_type": "code",
   "execution_count": null,
   "id": "93ba07a1",
   "metadata": {},
   "outputs": [],
   "source": [
    "map_k = get_map_k(test_my_songs, pred_list, 10)\n",
    "print(\"MAP@K (K=10): {:.3f}\".format(map_k))\n",
    "\n",
    "ndcg = ndcg_at_k(test_my_songs, pred_list, 10)\n",
    "print(\"nDCG: {:.3f}\".format(ndcg))"
   ]
  },
  {
   "cell_type": "code",
   "execution_count": null,
   "id": "cbe13222",
   "metadata": {},
   "outputs": [],
   "source": [
    "pred_list = []\n",
    "for plist, tags in zip(test_my_songs, test_my_tags):\n",
    "    recommended = song_recommend2(tags, plist, song_tag_appended, 'pea', False, False, True, 'tf')\n",
    "    pred_list.append(recommended['song_id'].tolist())\n",
    "print(pred_list[0])"
   ]
  },
  {
   "cell_type": "code",
   "execution_count": null,
   "id": "9d17ce8d",
   "metadata": {},
   "outputs": [],
   "source": [
    "map_k = get_map_k(test_my_songs, pred_list, 10)\n",
    "print(\"MAP@K (K=10): {:.3f}\".format(map_k))\n",
    "\n",
    "ndcg = ndcg_at_k(test_my_songs, pred_list, 10)\n",
    "print(\"nDCG: {:.3f}\".format(ndcg))"
   ]
  },
  {
   "cell_type": "markdown",
   "id": "a5eb717a",
   "metadata": {},
   "source": [
    "# 태그 불균형 데이터 처리\n",
    "\n",
    "- tf-idf\n",
    "- recommend2"
   ]
  },
  {
   "cell_type": "code",
   "execution_count": null,
   "id": "aba6eda3",
   "metadata": {},
   "outputs": [],
   "source": [
    "pred_list = []\n",
    "for plist, tags in zip(test_my_songs, test_my_tags):\n",
    "    recommended = song_recommend2(tags, plist, song_tag_appended, 'cos', True, False, False, 'tf')\n",
    "    pred_list.append(recommended['song_id'].tolist())\n",
    "print(pred_list[0])"
   ]
  },
  {
   "cell_type": "code",
   "execution_count": null,
   "id": "c0d7ab37",
   "metadata": {},
   "outputs": [],
   "source": [
    "map_k = get_map_k(test_my_songs, pred_list, 10)\n",
    "print(\"MAP@K (K=10): {:.3f}\".format(map_k))\n",
    "\n",
    "ndcg = ndcg_at_k(test_my_songs, pred_list, 10)\n",
    "print(\"nDCG: {:.3f}\".format(ndcg))"
   ]
  },
  {
   "cell_type": "code",
   "execution_count": null,
   "id": "e8efa27d",
   "metadata": {},
   "outputs": [],
   "source": [
    "pred_list = []\n",
    "for plist, tags in zip(test_my_songs, test_my_tags):\n",
    "    recommended = song_recommend2(tags, plist, song_tag_appended, 'cos', True, False, True, 'tf')\n",
    "    pred_list.append(recommended['song_id'].tolist())\n",
    "print(pred_list[0])"
   ]
  },
  {
   "cell_type": "code",
   "execution_count": null,
   "id": "47a4b627",
   "metadata": {},
   "outputs": [],
   "source": [
    "map_k = get_map_k(test_my_songs, pred_list, 10)\n",
    "print(\"MAP@K (K=10): {:.3f}\".format(map_k))\n",
    "\n",
    "ndcg = ndcg_at_k(test_my_songs, pred_list, 10)\n",
    "print(\"nDCG: {:.3f}\".format(ndcg))"
   ]
  },
  {
   "cell_type": "code",
   "execution_count": null,
   "id": "0abe2ffa",
   "metadata": {},
   "outputs": [],
   "source": [
    "pred_list = []\n",
    "for plist, tags in zip(test_my_songs, test_my_tags):\n",
    "    recommended = song_recommend2(tags, plist, song_tag_appended, 'jac', True, False, False, 'tf')\n",
    "    pred_list.append(recommended['song_id'].tolist())\n",
    "print(pred_list[0])"
   ]
  },
  {
   "cell_type": "code",
   "execution_count": null,
   "id": "68c34ccf",
   "metadata": {},
   "outputs": [],
   "source": [
    "map_k = get_map_k(test_my_songs, pred_list, 10)\n",
    "print(\"MAP@K (K=10): {:.3f}\".format(map_k))\n",
    "\n",
    "ndcg = ndcg_at_k(test_my_songs, pred_list, 10)\n",
    "print(\"nDCG: {:.3f}\".format(ndcg))"
   ]
  },
  {
   "cell_type": "code",
   "execution_count": null,
   "id": "11b3c14b",
   "metadata": {},
   "outputs": [],
   "source": [
    "pred_list = []\n",
    "for plist, tags in zip(test_my_songs, test_my_tags):\n",
    "    recommended = song_recommend2(tags, plist, song_tag_appended, 'jac', True, False, True, 'tf')\n",
    "    pred_list.append(recommended['song_id'].tolist())\n",
    "print(pred_list[0])"
   ]
  },
  {
   "cell_type": "code",
   "execution_count": null,
   "id": "5a49b3c5",
   "metadata": {},
   "outputs": [],
   "source": [
    "map_k = get_map_k(test_my_songs, pred_list, 10)\n",
    "print(\"MAP@K (K=10): {:.3f}\".format(map_k))\n",
    "\n",
    "ndcg = ndcg_at_k(test_my_songs, pred_list, 10)\n",
    "print(\"nDCG: {:.3f}\".format(ndcg))"
   ]
  },
  {
   "cell_type": "code",
   "execution_count": null,
   "id": "fb917246",
   "metadata": {},
   "outputs": [],
   "source": [
    "pred_list = []\n",
    "for plist, tags in zip(test_my_songs, test_my_tags):\n",
    "    recommended = song_recommend2(tags, plist, song_tag_appended, 'pea', True, False, False, 'tf')\n",
    "    pred_list.append(recommended['song_id'].tolist())\n",
    "print(pred_list[0])"
   ]
  },
  {
   "cell_type": "code",
   "execution_count": null,
   "id": "4d29cbc4",
   "metadata": {},
   "outputs": [],
   "source": [
    "map_k = get_map_k(test_my_songs, pred_list, 10)\n",
    "print(\"MAP@K (K=10): {:.3f}\".format(map_k))\n",
    "\n",
    "ndcg = ndcg_at_k(test_my_songs, pred_list, 10)\n",
    "print(\"nDCG: {:.3f}\".format(ndcg))"
   ]
  },
  {
   "cell_type": "code",
   "execution_count": null,
   "id": "a6cb2cc7",
   "metadata": {},
   "outputs": [],
   "source": [
    "pred_list = []\n",
    "for plist, tags in zip(test_my_songs, test_my_tags):\n",
    "    recommended = song_recommend2(tags, plist, song_tag_appended, 'pea', True, False, True, 'tf')\n",
    "    pred_list.append(recommended['song_id'].tolist())\n",
    "print(pred_list[0])"
   ]
  },
  {
   "cell_type": "code",
   "execution_count": null,
   "id": "5905fc07",
   "metadata": {},
   "outputs": [],
   "source": [
    "map_k = get_map_k(test_my_songs, pred_list, 10)\n",
    "print(\"MAP@K (K=10): {:.3f}\".format(map_k))\n",
    "\n",
    "ndcg = ndcg_at_k(test_my_songs, pred_list, 10)\n",
    "print(\"nDCG: {:.3f}\".format(ndcg))"
   ]
  },
  {
   "cell_type": "markdown",
   "id": "e8c7c1e3",
   "metadata": {},
   "source": [
    "# 장르 불균형 데이터 처리\n",
    "\n",
    "- tf-idf\n",
    "- recommend2"
   ]
  },
  {
   "cell_type": "code",
   "execution_count": null,
   "id": "f92dd77a",
   "metadata": {},
   "outputs": [],
   "source": [
    "pred_list = []\n",
    "for plist, tags in zip(test_my_songs, test_my_tags):\n",
    "    recommended = song_recommend2(tags, plist, song_tag_appended, 'cos', False, True, False, 'tf')\n",
    "    pred_list.append(recommended['song_id'].tolist())\n",
    "print(pred_list[0])"
   ]
  },
  {
   "cell_type": "code",
   "execution_count": null,
   "id": "9cae34c2",
   "metadata": {},
   "outputs": [],
   "source": [
    "map_k = get_map_k(test_my_songs, pred_list, 10)\n",
    "print(\"MAP@K (K=10): {:.3f}\".format(map_k))\n",
    "\n",
    "ndcg = ndcg_at_k(test_my_songs, pred_list, 10)\n",
    "print(\"nDCG: {:.3f}\".format(ndcg))"
   ]
  },
  {
   "cell_type": "code",
   "execution_count": null,
   "id": "1cb485c6",
   "metadata": {},
   "outputs": [],
   "source": [
    "pred_list = []\n",
    "for plist, tags in zip(test_my_songs, test_my_tags):\n",
    "    recommended = song_recommend2(tags, plist, song_tag_appended, 'cos', False, True, True, 'tf')\n",
    "    pred_list.append(recommended['song_id'].tolist())\n",
    "print(pred_list[0])"
   ]
  },
  {
   "cell_type": "code",
   "execution_count": null,
   "id": "81a458bd",
   "metadata": {},
   "outputs": [],
   "source": [
    "map_k = get_map_k(test_my_songs, pred_list, 10)\n",
    "print(\"MAP@K (K=10): {:.3f}\".format(map_k))\n",
    "\n",
    "ndcg = ndcg_at_k(test_my_songs, pred_list, 10)\n",
    "print(\"nDCG: {:.3f}\".format(ndcg))"
   ]
  },
  {
   "cell_type": "code",
   "execution_count": null,
   "id": "5a351340",
   "metadata": {},
   "outputs": [],
   "source": [
    "pred_list = []\n",
    "for plist, tags in zip(test_my_songs, test_my_tags):\n",
    "    recommended = song_recommend2(tags, plist, song_tag_appended, 'jac', False, True, False, 'tf')\n",
    "    pred_list.append(recommended['song_id'].tolist())\n",
    "print(pred_list[0])"
   ]
  },
  {
   "cell_type": "code",
   "execution_count": null,
   "id": "275d9fd5",
   "metadata": {},
   "outputs": [],
   "source": [
    "map_k = get_map_k(test_my_songs, pred_list, 10)\n",
    "print(\"MAP@K (K=10): {:.3f}\".format(map_k))\n",
    "\n",
    "ndcg = ndcg_at_k(test_my_songs, pred_list, 10)\n",
    "print(\"nDCG: {:.3f}\".format(ndcg))"
   ]
  },
  {
   "cell_type": "code",
   "execution_count": null,
   "id": "9999acfb",
   "metadata": {},
   "outputs": [],
   "source": [
    "pred_list = []\n",
    "for plist, tags in zip(test_my_songs, test_my_tags):\n",
    "    recommended = song_recommend2(tags, plist, song_tag_appended, 'jac', False, True, True, 'tf')\n",
    "    pred_list.append(recommended['song_id'].tolist())\n",
    "print(pred_list[0])"
   ]
  },
  {
   "cell_type": "code",
   "execution_count": null,
   "id": "3b16bad4",
   "metadata": {},
   "outputs": [],
   "source": [
    "map_k = get_map_k(test_my_songs, pred_list, 10)\n",
    "print(\"MAP@K (K=10): {:.3f}\".format(map_k))\n",
    "\n",
    "ndcg = ndcg_at_k(test_my_songs, pred_list, 10)\n",
    "print(\"nDCG: {:.3f}\".format(ndcg))"
   ]
  },
  {
   "cell_type": "code",
   "execution_count": null,
   "id": "7a8c092f",
   "metadata": {},
   "outputs": [],
   "source": [
    "pred_list = []\n",
    "for plist, tags in zip(test_my_songs, test_my_tags):\n",
    "    recommended = song_recommend2(tags, plist, song_tag_appended, 'pea', False, True, False, 'tf')\n",
    "    pred_list.append(recommended['song_id'].tolist())\n",
    "print(pred_list[0])"
   ]
  },
  {
   "cell_type": "code",
   "execution_count": null,
   "id": "246f5c6a",
   "metadata": {},
   "outputs": [],
   "source": [
    "map_k = get_map_k(test_my_songs, pred_list, 10)\n",
    "print(\"MAP@K (K=10): {:.3f}\".format(map_k))\n",
    "\n",
    "ndcg = ndcg_at_k(test_my_songs, pred_list, 10)\n",
    "print(\"nDCG: {:.3f}\".format(ndcg))"
   ]
  },
  {
   "cell_type": "code",
   "execution_count": null,
   "id": "9aee42f3",
   "metadata": {},
   "outputs": [],
   "source": [
    "pred_list = []\n",
    "for plist, tags in zip(test_my_songs, test_my_tags):\n",
    "    recommended = song_recommend2(tags, plist, song_tag_appended, 'pea', False, True, True, 'tf')\n",
    "    pred_list.append(recommended['song_id'].tolist())\n",
    "print(pred_list[0])"
   ]
  },
  {
   "cell_type": "code",
   "execution_count": null,
   "id": "94f8f888",
   "metadata": {},
   "outputs": [],
   "source": [
    "map_k = get_map_k(test_my_songs, pred_list, 10)\n",
    "print(\"MAP@K (K=10): {:.3f}\".format(map_k))\n",
    "\n",
    "ndcg = ndcg_at_k(test_my_songs, pred_list, 10)\n",
    "print(\"nDCG: {:.3f}\".format(ndcg))"
   ]
  },
  {
   "cell_type": "markdown",
   "id": "06900fc0",
   "metadata": {},
   "source": [
    "# 태그, 장르 불균형 데이터 처리\n",
    "\n",
    "- tf-idf\n",
    "- recommend2"
   ]
  },
  {
   "cell_type": "code",
   "execution_count": null,
   "id": "c87c0da1",
   "metadata": {},
   "outputs": [],
   "source": [
    "pred_list = []\n",
    "for plist, tags in zip(test_my_songs, test_my_tags):\n",
    "    recommended = song_recommend2(tags, plist, song_tag_appended, 'cos', True, True, False, 'tf')\n",
    "    pred_list.append(recommended['song_id'].tolist())\n",
    "print(pred_list[0])"
   ]
  },
  {
   "cell_type": "code",
   "execution_count": null,
   "id": "4957c95e",
   "metadata": {},
   "outputs": [],
   "source": [
    "map_k = get_map_k(test_my_songs, pred_list, 10)\n",
    "print(\"MAP@K (K=10): {:.3f}\".format(map_k))\n",
    "\n",
    "ndcg = ndcg_at_k(test_my_songs, pred_list, 10)\n",
    "print(\"nDCG: {:.3f}\".format(ndcg))"
   ]
  },
  {
   "cell_type": "code",
   "execution_count": null,
   "id": "32487cef",
   "metadata": {},
   "outputs": [],
   "source": [
    "pred_list = []\n",
    "for plist, tags in zip(test_my_songs, test_my_tags):\n",
    "    recommended = song_recommend2(tags, plist, song_tag_appended, 'cos', True, True, True, 'tf')\n",
    "    pred_list.append(recommended['song_id'].tolist())\n",
    "print(pred_list[0])"
   ]
  },
  {
   "cell_type": "code",
   "execution_count": null,
   "id": "1b57f478",
   "metadata": {},
   "outputs": [],
   "source": [
    "map_k = get_map_k(test_my_songs, pred_list, 10)\n",
    "print(\"MAP@K (K=10): {:.3f}\".format(map_k))\n",
    "\n",
    "ndcg = ndcg_at_k(test_my_songs, pred_list, 10)\n",
    "print(\"nDCG: {:.3f}\".format(ndcg))"
   ]
  },
  {
   "cell_type": "code",
   "execution_count": null,
   "id": "bce7dd5c",
   "metadata": {},
   "outputs": [],
   "source": [
    "pred_list = []\n",
    "for plist, tags in zip(test_my_songs, test_my_tags):\n",
    "    recommended = song_recommend2(tags, plist, song_tag_appended, 'jac', True, True, False, 'tf')\n",
    "    pred_list.append(recommended['song_id'].tolist())\n",
    "print(pred_list[0])"
   ]
  },
  {
   "cell_type": "code",
   "execution_count": null,
   "id": "c30982ee",
   "metadata": {},
   "outputs": [],
   "source": [
    "map_k = get_map_k(test_my_songs, pred_list, 10)\n",
    "print(\"MAP@K (K=10): {:.3f}\".format(map_k))\n",
    "\n",
    "ndcg = ndcg_at_k(test_my_songs, pred_list, 10)\n",
    "print(\"nDCG: {:.3f}\".format(ndcg))"
   ]
  },
  {
   "cell_type": "code",
   "execution_count": null,
   "id": "d4ae44c3",
   "metadata": {},
   "outputs": [],
   "source": [
    "pred_list = []\n",
    "for plist, tags in zip(test_my_songs, test_my_tags):\n",
    "    recommended = song_recommend2(tags, plist, song_tag_appended, 'jac', True, True, True, 'tf')\n",
    "    pred_list.append(recommended['song_id'].tolist())\n",
    "print(pred_list[0])"
   ]
  },
  {
   "cell_type": "code",
   "execution_count": null,
   "id": "dd06a7c2",
   "metadata": {},
   "outputs": [],
   "source": [
    "map_k = get_map_k(test_my_songs, pred_list, 10)\n",
    "print(\"MAP@K (K=10): {:.3f}\".format(map_k))\n",
    "\n",
    "ndcg = ndcg_at_k(test_my_songs, pred_list, 10)\n",
    "print(\"nDCG: {:.3f}\".format(ndcg))"
   ]
  },
  {
   "cell_type": "code",
   "execution_count": null,
   "id": "c4c44743",
   "metadata": {},
   "outputs": [],
   "source": [
    "pred_list = []\n",
    "for plist, tags in zip(test_my_songs, test_my_tags):\n",
    "    recommended = song_recommend2(tags, plist, song_tag_appended, 'pea', True, True, False, 'tf')\n",
    "    pred_list.append(recommended['song_id'].tolist())\n",
    "print(pred_list[0])"
   ]
  },
  {
   "cell_type": "code",
   "execution_count": null,
   "id": "e2d5faff",
   "metadata": {},
   "outputs": [],
   "source": [
    "map_k = get_map_k(test_my_songs, pred_list, 10)\n",
    "print(\"MAP@K (K=10): {:.3f}\".format(map_k))\n",
    "\n",
    "ndcg = ndcg_at_k(test_my_songs, pred_list, 10)\n",
    "print(\"nDCG: {:.3f}\".format(ndcg))"
   ]
  },
  {
   "cell_type": "code",
   "execution_count": null,
   "id": "3c2f0eee",
   "metadata": {},
   "outputs": [],
   "source": [
    "pred_list = []\n",
    "for plist, tags in zip(test_my_songs, test_my_tags):\n",
    "    recommended = song_recommend2(tags, plist, song_tag_appended, 'pea', True, True, True, 'tf')\n",
    "    pred_list.append(recommended['song_id'].tolist())\n",
    "print(pred_list[0])"
   ]
  },
  {
   "cell_type": "code",
   "execution_count": null,
   "id": "795a1c0f",
   "metadata": {},
   "outputs": [],
   "source": [
    "map_k = get_map_k(test_my_songs, pred_list, 10)\n",
    "print(\"MAP@K (K=10): {:.3f}\".format(map_k))\n",
    "\n",
    "ndcg = ndcg_at_k(test_my_songs, pred_list, 10)\n",
    "print(\"nDCG: {:.3f}\".format(ndcg))"
   ]
  },
  {
   "cell_type": "markdown",
   "id": "0db59c7f",
   "metadata": {},
   "source": [
    "## 태그 세트 생성"
   ]
  },
  {
   "cell_type": "code",
   "execution_count": null,
   "id": "4284f6f0",
   "metadata": {},
   "outputs": [],
   "source": [
    "def make_tag_set(data):\n",
    "    tag_set = set()\n",
    "\n",
    "    for i in range(len(data)):\n",
    "        tag = data['tags'][i]\n",
    "    \n",
    "        for j in tag:\n",
    "            tag_set.add(j)\n",
    "\n",
    "    return tag_set"
   ]
  },
  {
   "cell_type": "code",
   "execution_count": null,
   "id": "af7cc036",
   "metadata": {},
   "outputs": [],
   "source": [
    "tag_set = make_tag_set(train_data_sample2)\n",
    "print(tag_set)"
   ]
  },
  {
   "cell_type": "markdown",
   "id": "7f2bbf8a",
   "metadata": {},
   "source": [
    "## 태그 불균형 데이터"
   ]
  },
  {
   "cell_type": "markdown",
   "id": "4f895554",
   "metadata": {},
   "source": [
    "## 불균형 정도 측정\n",
    "\n",
    "- 한 태그를 가지는 음악의 최대 개수, 한 태그를 가지는 음악의 개수를 추출\n",
    "- 가중치 부여에 관해서는 논의가 필요"
   ]
  },
  {
   "cell_type": "code",
   "execution_count": null,
   "id": "6f8df040",
   "metadata": {},
   "outputs": [],
   "source": [
    "def make_song_num_dict(data):\n",
    "    song_ids = dict()\n",
    "    song_num = dict()\n",
    "    max_num = 0\n",
    "    \n",
    "    for i in range(len(data)):\n",
    "        songs = data['song_id'][i]\n",
    "        tags = data['tags'][i]\n",
    "        \n",
    "        for j in tags:\n",
    "            if not j in song_ids:\n",
    "                song_ids[j] = set(songs)\n",
    "            \n",
    "            else:\n",
    "                song_ids[j].update(songs)\n",
    "    \n",
    "    for i in song_ids:\n",
    "        song_num[i] = len(song_ids[i])\n",
    "        \n",
    "        max_num = max(song_num[i], max_num)\n",
    "    \n",
    "    return song_num, max_num"
   ]
  },
  {
   "cell_type": "code",
   "execution_count": null,
   "id": "1a45d725",
   "metadata": {},
   "outputs": [],
   "source": [
    "song_num_dict, song_num_max = make_song_num_dict(train_data_sample2)\n",
    "print(song_num_max)\n",
    "print(song_num_dict)"
   ]
  },
  {
   "cell_type": "markdown",
   "id": "9b7e73bd",
   "metadata": {},
   "source": [
    "## 장르 데이터"
   ]
  },
  {
   "cell_type": "markdown",
   "id": "037279dd",
   "metadata": {},
   "source": [
    "## 불균형 데이터 처리"
   ]
  },
  {
   "cell_type": "code",
   "execution_count": null,
   "id": "76dd8271",
   "metadata": {},
   "outputs": [],
   "source": [
    "def make_genre_num_dict(appended_data):\n",
    "    song_ids = dict()\n",
    "    song_num = dict()\n",
    "    max_num = 0\n",
    "    \n",
    "    for i in range(len(appended_data)):\n",
    "        song = appended_data['song_id'][i]\n",
    "        gnrs = appended_data['gnr'][i]\n",
    "        \n",
    "        for j in gnrs:\n",
    "            if not j in song_ids:\n",
    "                song_ids[j] = {song}\n",
    "            \n",
    "            else:\n",
    "                song_ids[j].add(song)\n",
    "    \n",
    "    for i in song_ids:\n",
    "        song_num[i] = len(song_ids[i])\n",
    "        \n",
    "        max_num = max(song_num[i], max_num)\n",
    "    \n",
    "    return song_num, max_num"
   ]
  },
  {
   "cell_type": "code",
   "execution_count": null,
   "id": "3914fa84",
   "metadata": {},
   "outputs": [],
   "source": [
    "genre_num_dict, genre_num_max = make_genre_num_dict(song_tag_appended)\n",
    "print(genre_num_max)\n",
    "print(genre_num_dict)"
   ]
  },
  {
   "cell_type": "code",
   "execution_count": null,
   "id": "d5ba52cb",
   "metadata": {},
   "outputs": [],
   "source": []
  }
 ],
 "metadata": {
  "kernelspec": {
   "display_name": "Python 3 (ipykernel)",
   "language": "python",
   "name": "python3"
  },
  "language_info": {
   "codemirror_mode": {
    "name": "ipython",
    "version": 3
   },
   "file_extension": ".py",
   "mimetype": "text/x-python",
   "name": "python",
   "nbconvert_exporter": "python",
   "pygments_lexer": "ipython3",
   "version": "3.11.3"
  }
 },
 "nbformat": 4,
 "nbformat_minor": 5
}
